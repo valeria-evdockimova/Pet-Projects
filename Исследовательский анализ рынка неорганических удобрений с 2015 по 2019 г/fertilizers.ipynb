{
  "cells": [
    {
      "cell_type": "markdown",
      "source": [
        "## ***Исследование мирового рынка удобрений в временной период с 2015 по 2019 г***"
      ],
      "metadata": {
        "id": "S4IpCuWaOx2G"
      }
    },
    {
      "cell_type": "markdown",
      "source": [
        "**Источник данных**: набор данных \"Удобрения по продуктам\" с сайта ФАО(Продовольственная и сельскохозяйственная организация ООН), который содержит информацию о про-ве, торговле и использовании неорганических удобрений в с/х."
      ],
      "metadata": {
        "id": "lsMAhGl9Pk9S"
      }
    },
    {
      "cell_type": "markdown",
      "source": [
        "***Цели исследования:*** \n",
        "- выявить страны, которые лидируют в экспорте, импорте, производстве и использовании различных удобрений.\n",
        "- выявить самые популярные виды удобрений в разрезе экспорта/импорта, производства и использования в с/х."
      ],
      "metadata": {
        "id": "_UISWtUmQM9l"
      }
    },
    {
      "cell_type": "markdown",
      "metadata": {
        "id": "nuGLK30JQ6mR"
      },
      "source": [
        "## Загрузка библиотек"
      ]
    },
    {
      "cell_type": "code",
      "execution_count": 1,
      "metadata": {
        "id": "RwW0ESOMRC21"
      },
      "outputs": [],
      "source": [
        "import pandas as pd\n",
        "import io\n",
        "import matplotlib.pyplot as plt\n",
        "import math\n",
        "import numpy as np\n",
        "from scipy import stats as st\n",
        "import seaborn as sns\n",
        "import plotly.express as px"
      ]
    },
    {
      "cell_type": "markdown",
      "metadata": {
        "id": "hGg6TExxUkjU"
      },
      "source": [
        "## Загрузка файла, обзор датафрейма"
      ]
    },
    {
      "cell_type": "code",
      "execution_count": 2,
      "metadata": {
        "colab": {
          "base_uri": "https://localhost:8080/",
          "height": 74,
          "resources": {
            "http://localhost:8080/nbextensions/google.colab/files.js": {
              "data": "Ly8gQ29weXJpZ2h0IDIwMTcgR29vZ2xlIExMQwovLwovLyBMaWNlbnNlZCB1bmRlciB0aGUgQXBhY2hlIExpY2Vuc2UsIFZlcnNpb24gMi4wICh0aGUgIkxpY2Vuc2UiKTsKLy8geW91IG1heSBub3QgdXNlIHRoaXMgZmlsZSBleGNlcHQgaW4gY29tcGxpYW5jZSB3aXRoIHRoZSBMaWNlbnNlLgovLyBZb3UgbWF5IG9idGFpbiBhIGNvcHkgb2YgdGhlIExpY2Vuc2UgYXQKLy8KLy8gICAgICBodHRwOi8vd3d3LmFwYWNoZS5vcmcvbGljZW5zZXMvTElDRU5TRS0yLjAKLy8KLy8gVW5sZXNzIHJlcXVpcmVkIGJ5IGFwcGxpY2FibGUgbGF3IG9yIGFncmVlZCB0byBpbiB3cml0aW5nLCBzb2Z0d2FyZQovLyBkaXN0cmlidXRlZCB1bmRlciB0aGUgTGljZW5zZSBpcyBkaXN0cmlidXRlZCBvbiBhbiAiQVMgSVMiIEJBU0lTLAovLyBXSVRIT1VUIFdBUlJBTlRJRVMgT1IgQ09ORElUSU9OUyBPRiBBTlkgS0lORCwgZWl0aGVyIGV4cHJlc3Mgb3IgaW1wbGllZC4KLy8gU2VlIHRoZSBMaWNlbnNlIGZvciB0aGUgc3BlY2lmaWMgbGFuZ3VhZ2UgZ292ZXJuaW5nIHBlcm1pc3Npb25zIGFuZAovLyBsaW1pdGF0aW9ucyB1bmRlciB0aGUgTGljZW5zZS4KCi8qKgogKiBAZmlsZW92ZXJ2aWV3IEhlbHBlcnMgZm9yIGdvb2dsZS5jb2xhYiBQeXRob24gbW9kdWxlLgogKi8KKGZ1bmN0aW9uKHNjb3BlKSB7CmZ1bmN0aW9uIHNwYW4odGV4dCwgc3R5bGVBdHRyaWJ1dGVzID0ge30pIHsKICBjb25zdCBlbGVtZW50ID0gZG9jdW1lbnQuY3JlYXRlRWxlbWVudCgnc3BhbicpOwogIGVsZW1lbnQudGV4dENvbnRlbnQgPSB0ZXh0OwogIGZvciAoY29uc3Qga2V5IG9mIE9iamVjdC5rZXlzKHN0eWxlQXR0cmlidXRlcykpIHsKICAgIGVsZW1lbnQuc3R5bGVba2V5XSA9IHN0eWxlQXR0cmlidXRlc1trZXldOwogIH0KICByZXR1cm4gZWxlbWVudDsKfQoKLy8gTWF4IG51bWJlciBvZiBieXRlcyB3aGljaCB3aWxsIGJlIHVwbG9hZGVkIGF0IGEgdGltZS4KY29uc3QgTUFYX1BBWUxPQURfU0laRSA9IDEwMCAqIDEwMjQ7CgpmdW5jdGlvbiBfdXBsb2FkRmlsZXMoaW5wdXRJZCwgb3V0cHV0SWQpIHsKICBjb25zdCBzdGVwcyA9IHVwbG9hZEZpbGVzU3RlcChpbnB1dElkLCBvdXRwdXRJZCk7CiAgY29uc3Qgb3V0cHV0RWxlbWVudCA9IGRvY3VtZW50LmdldEVsZW1lbnRCeUlkKG91dHB1dElkKTsKICAvLyBDYWNoZSBzdGVwcyBvbiB0aGUgb3V0cHV0RWxlbWVudCB0byBtYWtlIGl0IGF2YWlsYWJsZSBmb3IgdGhlIG5leHQgY2FsbAogIC8vIHRvIHVwbG9hZEZpbGVzQ29udGludWUgZnJvbSBQeXRob24uCiAgb3V0cHV0RWxlbWVudC5zdGVwcyA9IHN0ZXBzOwoKICByZXR1cm4gX3VwbG9hZEZpbGVzQ29udGludWUob3V0cHV0SWQpOwp9CgovLyBUaGlzIGlzIHJvdWdobHkgYW4gYXN5bmMgZ2VuZXJhdG9yIChub3Qgc3VwcG9ydGVkIGluIHRoZSBicm93c2VyIHlldCksCi8vIHdoZXJlIHRoZXJlIGFyZSBtdWx0aXBsZSBhc3luY2hyb25vdXMgc3RlcHMgYW5kIHRoZSBQeXRob24gc2lkZSBpcyBnb2luZwovLyB0byBwb2xsIGZvciBjb21wbGV0aW9uIG9mIGVhY2ggc3RlcC4KLy8gVGhpcyB1c2VzIGEgUHJvbWlzZSB0byBibG9jayB0aGUgcHl0aG9uIHNpZGUgb24gY29tcGxldGlvbiBvZiBlYWNoIHN0ZXAsCi8vIHRoZW4gcGFzc2VzIHRoZSByZXN1bHQgb2YgdGhlIHByZXZpb3VzIHN0ZXAgYXMgdGhlIGlucHV0IHRvIHRoZSBuZXh0IHN0ZXAuCmZ1bmN0aW9uIF91cGxvYWRGaWxlc0NvbnRpbnVlKG91dHB1dElkKSB7CiAgY29uc3Qgb3V0cHV0RWxlbWVudCA9IGRvY3VtZW50LmdldEVsZW1lbnRCeUlkKG91dHB1dElkKTsKICBjb25zdCBzdGVwcyA9IG91dHB1dEVsZW1lbnQuc3RlcHM7CgogIGNvbnN0IG5leHQgPSBzdGVwcy5uZXh0KG91dHB1dEVsZW1lbnQubGFzdFByb21pc2VWYWx1ZSk7CiAgcmV0dXJuIFByb21pc2UucmVzb2x2ZShuZXh0LnZhbHVlLnByb21pc2UpLnRoZW4oKHZhbHVlKSA9PiB7CiAgICAvLyBDYWNoZSB0aGUgbGFzdCBwcm9taXNlIHZhbHVlIHRvIG1ha2UgaXQgYXZhaWxhYmxlIHRvIHRoZSBuZXh0CiAgICAvLyBzdGVwIG9mIHRoZSBnZW5lcmF0b3IuCiAgICBvdXRwdXRFbGVtZW50Lmxhc3RQcm9taXNlVmFsdWUgPSB2YWx1ZTsKICAgIHJldHVybiBuZXh0LnZhbHVlLnJlc3BvbnNlOwogIH0pOwp9CgovKioKICogR2VuZXJhdG9yIGZ1bmN0aW9uIHdoaWNoIGlzIGNhbGxlZCBiZXR3ZWVuIGVhY2ggYXN5bmMgc3RlcCBvZiB0aGUgdXBsb2FkCiAqIHByb2Nlc3MuCiAqIEBwYXJhbSB7c3RyaW5nfSBpbnB1dElkIEVsZW1lbnQgSUQgb2YgdGhlIGlucHV0IGZpbGUgcGlja2VyIGVsZW1lbnQuCiAqIEBwYXJhbSB7c3RyaW5nfSBvdXRwdXRJZCBFbGVtZW50IElEIG9mIHRoZSBvdXRwdXQgZGlzcGxheS4KICogQHJldHVybiB7IUl0ZXJhYmxlPCFPYmplY3Q+fSBJdGVyYWJsZSBvZiBuZXh0IHN0ZXBzLgogKi8KZnVuY3Rpb24qIHVwbG9hZEZpbGVzU3RlcChpbnB1dElkLCBvdXRwdXRJZCkgewogIGNvbnN0IGlucHV0RWxlbWVudCA9IGRvY3VtZW50LmdldEVsZW1lbnRCeUlkKGlucHV0SWQpOwogIGlucHV0RWxlbWVudC5kaXNhYmxlZCA9IGZhbHNlOwoKICBjb25zdCBvdXRwdXRFbGVtZW50ID0gZG9jdW1lbnQuZ2V0RWxlbWVudEJ5SWQob3V0cHV0SWQpOwogIG91dHB1dEVsZW1lbnQuaW5uZXJIVE1MID0gJyc7CgogIGNvbnN0IHBpY2tlZFByb21pc2UgPSBuZXcgUHJvbWlzZSgocmVzb2x2ZSkgPT4gewogICAgaW5wdXRFbGVtZW50LmFkZEV2ZW50TGlzdGVuZXIoJ2NoYW5nZScsIChlKSA9PiB7CiAgICAgIHJlc29sdmUoZS50YXJnZXQuZmlsZXMpOwogICAgfSk7CiAgfSk7CgogIGNvbnN0IGNhbmNlbCA9IGRvY3VtZW50LmNyZWF0ZUVsZW1lbnQoJ2J1dHRvbicpOwogIGlucHV0RWxlbWVudC5wYXJlbnRFbGVtZW50LmFwcGVuZENoaWxkKGNhbmNlbCk7CiAgY2FuY2VsLnRleHRDb250ZW50ID0gJ0NhbmNlbCB1cGxvYWQnOwogIGNvbnN0IGNhbmNlbFByb21pc2UgPSBuZXcgUHJvbWlzZSgocmVzb2x2ZSkgPT4gewogICAgY2FuY2VsLm9uY2xpY2sgPSAoKSA9PiB7CiAgICAgIHJlc29sdmUobnVsbCk7CiAgICB9OwogIH0pOwoKICAvLyBXYWl0IGZvciB0aGUgdXNlciB0byBwaWNrIHRoZSBmaWxlcy4KICBjb25zdCBmaWxlcyA9IHlpZWxkIHsKICAgIHByb21pc2U6IFByb21pc2UucmFjZShbcGlja2VkUHJvbWlzZSwgY2FuY2VsUHJvbWlzZV0pLAogICAgcmVzcG9uc2U6IHsKICAgICAgYWN0aW9uOiAnc3RhcnRpbmcnLAogICAgfQogIH07CgogIGNhbmNlbC5yZW1vdmUoKTsKCiAgLy8gRGlzYWJsZSB0aGUgaW5wdXQgZWxlbWVudCBzaW5jZSBmdXJ0aGVyIHBpY2tzIGFyZSBub3QgYWxsb3dlZC4KICBpbnB1dEVsZW1lbnQuZGlzYWJsZWQgPSB0cnVlOwoKICBpZiAoIWZpbGVzKSB7CiAgICByZXR1cm4gewogICAgICByZXNwb25zZTogewogICAgICAgIGFjdGlvbjogJ2NvbXBsZXRlJywKICAgICAgfQogICAgfTsKICB9CgogIGZvciAoY29uc3QgZmlsZSBvZiBmaWxlcykgewogICAgY29uc3QgbGkgPSBkb2N1bWVudC5jcmVhdGVFbGVtZW50KCdsaScpOwogICAgbGkuYXBwZW5kKHNwYW4oZmlsZS5uYW1lLCB7Zm9udFdlaWdodDogJ2JvbGQnfSkpOwogICAgbGkuYXBwZW5kKHNwYW4oCiAgICAgICAgYCgke2ZpbGUudHlwZSB8fCAnbi9hJ30pIC0gJHtmaWxlLnNpemV9IGJ5dGVzLCBgICsKICAgICAgICBgbGFzdCBtb2RpZmllZDogJHsKICAgICAgICAgICAgZmlsZS5sYXN0TW9kaWZpZWREYXRlID8gZmlsZS5sYXN0TW9kaWZpZWREYXRlLnRvTG9jYWxlRGF0ZVN0cmluZygpIDoKICAgICAgICAgICAgICAgICAgICAgICAgICAgICAgICAgICAgJ24vYSd9IC0gYCkpOwogICAgY29uc3QgcGVyY2VudCA9IHNwYW4oJzAlIGRvbmUnKTsKICAgIGxpLmFwcGVuZENoaWxkKHBlcmNlbnQpOwoKICAgIG91dHB1dEVsZW1lbnQuYXBwZW5kQ2hpbGQobGkpOwoKICAgIGNvbnN0IGZpbGVEYXRhUHJvbWlzZSA9IG5ldyBQcm9taXNlKChyZXNvbHZlKSA9PiB7CiAgICAgIGNvbnN0IHJlYWRlciA9IG5ldyBGaWxlUmVhZGVyKCk7CiAgICAgIHJlYWRlci5vbmxvYWQgPSAoZSkgPT4gewogICAgICAgIHJlc29sdmUoZS50YXJnZXQucmVzdWx0KTsKICAgICAgfTsKICAgICAgcmVhZGVyLnJlYWRBc0FycmF5QnVmZmVyKGZpbGUpOwogICAgfSk7CiAgICAvLyBXYWl0IGZvciB0aGUgZGF0YSB0byBiZSByZWFkeS4KICAgIGxldCBmaWxlRGF0YSA9IHlpZWxkIHsKICAgICAgcHJvbWlzZTogZmlsZURhdGFQcm9taXNlLAogICAgICByZXNwb25zZTogewogICAgICAgIGFjdGlvbjogJ2NvbnRpbnVlJywKICAgICAgfQogICAgfTsKCiAgICAvLyBVc2UgYSBjaHVua2VkIHNlbmRpbmcgdG8gYXZvaWQgbWVzc2FnZSBzaXplIGxpbWl0cy4gU2VlIGIvNjIxMTU2NjAuCiAgICBsZXQgcG9zaXRpb24gPSAwOwogICAgZG8gewogICAgICBjb25zdCBsZW5ndGggPSBNYXRoLm1pbihmaWxlRGF0YS5ieXRlTGVuZ3RoIC0gcG9zaXRpb24sIE1BWF9QQVlMT0FEX1NJWkUpOwogICAgICBjb25zdCBjaHVuayA9IG5ldyBVaW50OEFycmF5KGZpbGVEYXRhLCBwb3NpdGlvbiwgbGVuZ3RoKTsKICAgICAgcG9zaXRpb24gKz0gbGVuZ3RoOwoKICAgICAgY29uc3QgYmFzZTY0ID0gYnRvYShTdHJpbmcuZnJvbUNoYXJDb2RlLmFwcGx5KG51bGwsIGNodW5rKSk7CiAgICAgIHlpZWxkIHsKICAgICAgICByZXNwb25zZTogewogICAgICAgICAgYWN0aW9uOiAnYXBwZW5kJywKICAgICAgICAgIGZpbGU6IGZpbGUubmFtZSwKICAgICAgICAgIGRhdGE6IGJhc2U2NCwKICAgICAgICB9LAogICAgICB9OwoKICAgICAgbGV0IHBlcmNlbnREb25lID0gZmlsZURhdGEuYnl0ZUxlbmd0aCA9PT0gMCA/CiAgICAgICAgICAxMDAgOgogICAgICAgICAgTWF0aC5yb3VuZCgocG9zaXRpb24gLyBmaWxlRGF0YS5ieXRlTGVuZ3RoKSAqIDEwMCk7CiAgICAgIHBlcmNlbnQudGV4dENvbnRlbnQgPSBgJHtwZXJjZW50RG9uZX0lIGRvbmVgOwoKICAgIH0gd2hpbGUgKHBvc2l0aW9uIDwgZmlsZURhdGEuYnl0ZUxlbmd0aCk7CiAgfQoKICAvLyBBbGwgZG9uZS4KICB5aWVsZCB7CiAgICByZXNwb25zZTogewogICAgICBhY3Rpb246ICdjb21wbGV0ZScsCiAgICB9CiAgfTsKfQoKc2NvcGUuZ29vZ2xlID0gc2NvcGUuZ29vZ2xlIHx8IHt9OwpzY29wZS5nb29nbGUuY29sYWIgPSBzY29wZS5nb29nbGUuY29sYWIgfHwge307CnNjb3BlLmdvb2dsZS5jb2xhYi5fZmlsZXMgPSB7CiAgX3VwbG9hZEZpbGVzLAogIF91cGxvYWRGaWxlc0NvbnRpbnVlLAp9Owp9KShzZWxmKTsK",
              "headers": [
                [
                  "content-type",
                  "application/javascript"
                ]
              ],
              "ok": true,
              "status": 200,
              "status_text": ""
            }
          }
        },
        "id": "4QMF94y2zfWQ",
        "outputId": "c87ffc31-d958-474a-e99b-320c723f9821"
      },
      "outputs": [
        {
          "output_type": "display_data",
          "data": {
            "text/plain": [
              "<IPython.core.display.HTML object>"
            ],
            "text/html": [
              "\n",
              "     <input type=\"file\" id=\"files-6b8b598c-57ff-4bcf-8a48-65b24a822c31\" name=\"files[]\" multiple disabled\n",
              "        style=\"border:none\" />\n",
              "     <output id=\"result-6b8b598c-57ff-4bcf-8a48-65b24a822c31\">\n",
              "      Upload widget is only available when the cell has been executed in the\n",
              "      current browser session. Please rerun this cell to enable.\n",
              "      </output>\n",
              "      <script src=\"/nbextensions/google.colab/files.js\"></script> "
            ]
          },
          "metadata": {}
        },
        {
          "output_type": "stream",
          "name": "stdout",
          "text": [
            "Saving all firt,2015-2019.csv to all firt,2015-2019.csv\n"
          ]
        }
      ],
      "source": [
        "from google.colab import files\n",
        "uploaded = files.upload()"
      ]
    },
    {
      "cell_type": "code",
      "execution_count": 3,
      "metadata": {
        "id": "BUnpK60CvhRM"
      },
      "outputs": [],
      "source": [
        "df = pd.read_csv(io.BytesIO(uploaded['all firt,2015-2019.csv']))"
      ]
    },
    {
      "cell_type": "code",
      "execution_count": 4,
      "metadata": {
        "colab": {
          "base_uri": "https://localhost:8080/",
          "height": 206
        },
        "id": "OUwvDEjO106u",
        "outputId": "5fe34db2-d45d-4057-d805-0fb85ec6fa19"
      },
      "outputs": [
        {
          "output_type": "execute_result",
          "data": {
            "text/plain": [
              "  Domain Code                  Domain  Area Code (FAO)         Area  \\\n",
              "0         RFB  Fertilizers by Product                2  Afghanistan   \n",
              "1         RFB  Fertilizers by Product                2  Afghanistan   \n",
              "2         RFB  Fertilizers by Product                2  Afghanistan   \n",
              "3         RFB  Fertilizers by Product                2  Afghanistan   \n",
              "4         RFB  Fertilizers by Product                2  Afghanistan   \n",
              "\n",
              "   Element Code          Element  Item Code                Item  Year Code  \\\n",
              "0          5610  Import Quantity       4007  Ammonia, anhydrous       2017   \n",
              "1          5610  Import Quantity       4007  Ammonia, anhydrous       2018   \n",
              "2          5622     Import Value       4007  Ammonia, anhydrous       2017   \n",
              "3          5622     Import Value       4007  Ammonia, anhydrous       2018   \n",
              "4          5610  Import Quantity       4002   Ammonium sulphate       2015   \n",
              "\n",
              "   Year      Unit   Value Flag                                Flag Description  \n",
              "0  2017    tonnes    2.07    R  Estimated data using trading partners database  \n",
              "1  2018    tonnes   28.19    R  Estimated data using trading partners database  \n",
              "2  2017  1000 US$    1.24    R  Estimated data using trading partners database  \n",
              "3  2018  1000 US$    5.44    R  Estimated data using trading partners database  \n",
              "4  2015    tonnes  190.07    R  Estimated data using trading partners database  "
            ],
            "text/html": [
              "\n",
              "  <div id=\"df-fec51521-bcc5-4b27-a6c1-311056ee094e\">\n",
              "    <div class=\"colab-df-container\">\n",
              "      <div>\n",
              "<style scoped>\n",
              "    .dataframe tbody tr th:only-of-type {\n",
              "        vertical-align: middle;\n",
              "    }\n",
              "\n",
              "    .dataframe tbody tr th {\n",
              "        vertical-align: top;\n",
              "    }\n",
              "\n",
              "    .dataframe thead th {\n",
              "        text-align: right;\n",
              "    }\n",
              "</style>\n",
              "<table border=\"1\" class=\"dataframe\">\n",
              "  <thead>\n",
              "    <tr style=\"text-align: right;\">\n",
              "      <th></th>\n",
              "      <th>Domain Code</th>\n",
              "      <th>Domain</th>\n",
              "      <th>Area Code (FAO)</th>\n",
              "      <th>Area</th>\n",
              "      <th>Element Code</th>\n",
              "      <th>Element</th>\n",
              "      <th>Item Code</th>\n",
              "      <th>Item</th>\n",
              "      <th>Year Code</th>\n",
              "      <th>Year</th>\n",
              "      <th>Unit</th>\n",
              "      <th>Value</th>\n",
              "      <th>Flag</th>\n",
              "      <th>Flag Description</th>\n",
              "    </tr>\n",
              "  </thead>\n",
              "  <tbody>\n",
              "    <tr>\n",
              "      <th>0</th>\n",
              "      <td>RFB</td>\n",
              "      <td>Fertilizers by Product</td>\n",
              "      <td>2</td>\n",
              "      <td>Afghanistan</td>\n",
              "      <td>5610</td>\n",
              "      <td>Import Quantity</td>\n",
              "      <td>4007</td>\n",
              "      <td>Ammonia, anhydrous</td>\n",
              "      <td>2017</td>\n",
              "      <td>2017</td>\n",
              "      <td>tonnes</td>\n",
              "      <td>2.07</td>\n",
              "      <td>R</td>\n",
              "      <td>Estimated data using trading partners database</td>\n",
              "    </tr>\n",
              "    <tr>\n",
              "      <th>1</th>\n",
              "      <td>RFB</td>\n",
              "      <td>Fertilizers by Product</td>\n",
              "      <td>2</td>\n",
              "      <td>Afghanistan</td>\n",
              "      <td>5610</td>\n",
              "      <td>Import Quantity</td>\n",
              "      <td>4007</td>\n",
              "      <td>Ammonia, anhydrous</td>\n",
              "      <td>2018</td>\n",
              "      <td>2018</td>\n",
              "      <td>tonnes</td>\n",
              "      <td>28.19</td>\n",
              "      <td>R</td>\n",
              "      <td>Estimated data using trading partners database</td>\n",
              "    </tr>\n",
              "    <tr>\n",
              "      <th>2</th>\n",
              "      <td>RFB</td>\n",
              "      <td>Fertilizers by Product</td>\n",
              "      <td>2</td>\n",
              "      <td>Afghanistan</td>\n",
              "      <td>5622</td>\n",
              "      <td>Import Value</td>\n",
              "      <td>4007</td>\n",
              "      <td>Ammonia, anhydrous</td>\n",
              "      <td>2017</td>\n",
              "      <td>2017</td>\n",
              "      <td>1000 US$</td>\n",
              "      <td>1.24</td>\n",
              "      <td>R</td>\n",
              "      <td>Estimated data using trading partners database</td>\n",
              "    </tr>\n",
              "    <tr>\n",
              "      <th>3</th>\n",
              "      <td>RFB</td>\n",
              "      <td>Fertilizers by Product</td>\n",
              "      <td>2</td>\n",
              "      <td>Afghanistan</td>\n",
              "      <td>5622</td>\n",
              "      <td>Import Value</td>\n",
              "      <td>4007</td>\n",
              "      <td>Ammonia, anhydrous</td>\n",
              "      <td>2018</td>\n",
              "      <td>2018</td>\n",
              "      <td>1000 US$</td>\n",
              "      <td>5.44</td>\n",
              "      <td>R</td>\n",
              "      <td>Estimated data using trading partners database</td>\n",
              "    </tr>\n",
              "    <tr>\n",
              "      <th>4</th>\n",
              "      <td>RFB</td>\n",
              "      <td>Fertilizers by Product</td>\n",
              "      <td>2</td>\n",
              "      <td>Afghanistan</td>\n",
              "      <td>5610</td>\n",
              "      <td>Import Quantity</td>\n",
              "      <td>4002</td>\n",
              "      <td>Ammonium sulphate</td>\n",
              "      <td>2015</td>\n",
              "      <td>2015</td>\n",
              "      <td>tonnes</td>\n",
              "      <td>190.07</td>\n",
              "      <td>R</td>\n",
              "      <td>Estimated data using trading partners database</td>\n",
              "    </tr>\n",
              "  </tbody>\n",
              "</table>\n",
              "</div>\n",
              "      <button class=\"colab-df-convert\" onclick=\"convertToInteractive('df-fec51521-bcc5-4b27-a6c1-311056ee094e')\"\n",
              "              title=\"Convert this dataframe to an interactive table.\"\n",
              "              style=\"display:none;\">\n",
              "        \n",
              "  <svg xmlns=\"http://www.w3.org/2000/svg\" height=\"24px\"viewBox=\"0 0 24 24\"\n",
              "       width=\"24px\">\n",
              "    <path d=\"M0 0h24v24H0V0z\" fill=\"none\"/>\n",
              "    <path d=\"M18.56 5.44l.94 2.06.94-2.06 2.06-.94-2.06-.94-.94-2.06-.94 2.06-2.06.94zm-11 1L8.5 8.5l.94-2.06 2.06-.94-2.06-.94L8.5 2.5l-.94 2.06-2.06.94zm10 10l.94 2.06.94-2.06 2.06-.94-2.06-.94-.94-2.06-.94 2.06-2.06.94z\"/><path d=\"M17.41 7.96l-1.37-1.37c-.4-.4-.92-.59-1.43-.59-.52 0-1.04.2-1.43.59L10.3 9.45l-7.72 7.72c-.78.78-.78 2.05 0 2.83L4 21.41c.39.39.9.59 1.41.59.51 0 1.02-.2 1.41-.59l7.78-7.78 2.81-2.81c.8-.78.8-2.07 0-2.86zM5.41 20L4 18.59l7.72-7.72 1.47 1.35L5.41 20z\"/>\n",
              "  </svg>\n",
              "      </button>\n",
              "      \n",
              "  <style>\n",
              "    .colab-df-container {\n",
              "      display:flex;\n",
              "      flex-wrap:wrap;\n",
              "      gap: 12px;\n",
              "    }\n",
              "\n",
              "    .colab-df-convert {\n",
              "      background-color: #E8F0FE;\n",
              "      border: none;\n",
              "      border-radius: 50%;\n",
              "      cursor: pointer;\n",
              "      display: none;\n",
              "      fill: #1967D2;\n",
              "      height: 32px;\n",
              "      padding: 0 0 0 0;\n",
              "      width: 32px;\n",
              "    }\n",
              "\n",
              "    .colab-df-convert:hover {\n",
              "      background-color: #E2EBFA;\n",
              "      box-shadow: 0px 1px 2px rgba(60, 64, 67, 0.3), 0px 1px 3px 1px rgba(60, 64, 67, 0.15);\n",
              "      fill: #174EA6;\n",
              "    }\n",
              "\n",
              "    [theme=dark] .colab-df-convert {\n",
              "      background-color: #3B4455;\n",
              "      fill: #D2E3FC;\n",
              "    }\n",
              "\n",
              "    [theme=dark] .colab-df-convert:hover {\n",
              "      background-color: #434B5C;\n",
              "      box-shadow: 0px 1px 3px 1px rgba(0, 0, 0, 0.15);\n",
              "      filter: drop-shadow(0px 1px 2px rgba(0, 0, 0, 0.3));\n",
              "      fill: #FFFFFF;\n",
              "    }\n",
              "  </style>\n",
              "\n",
              "      <script>\n",
              "        const buttonEl =\n",
              "          document.querySelector('#df-fec51521-bcc5-4b27-a6c1-311056ee094e button.colab-df-convert');\n",
              "        buttonEl.style.display =\n",
              "          google.colab.kernel.accessAllowed ? 'block' : 'none';\n",
              "\n",
              "        async function convertToInteractive(key) {\n",
              "          const element = document.querySelector('#df-fec51521-bcc5-4b27-a6c1-311056ee094e');\n",
              "          const dataTable =\n",
              "            await google.colab.kernel.invokeFunction('convertToInteractive',\n",
              "                                                     [key], {});\n",
              "          if (!dataTable) return;\n",
              "\n",
              "          const docLinkHtml = 'Like what you see? Visit the ' +\n",
              "            '<a target=\"_blank\" href=https://colab.research.google.com/notebooks/data_table.ipynb>data table notebook</a>'\n",
              "            + ' to learn more about interactive tables.';\n",
              "          element.innerHTML = '';\n",
              "          dataTable['output_type'] = 'display_data';\n",
              "          await google.colab.output.renderOutput(dataTable, element);\n",
              "          const docLink = document.createElement('div');\n",
              "          docLink.innerHTML = docLinkHtml;\n",
              "          element.appendChild(docLink);\n",
              "        }\n",
              "      </script>\n",
              "    </div>\n",
              "  </div>\n",
              "  "
            ]
          },
          "metadata": {},
          "execution_count": 4
        }
      ],
      "source": [
        "df.head()"
      ]
    },
    {
      "cell_type": "code",
      "execution_count": 5,
      "metadata": {
        "colab": {
          "base_uri": "https://localhost:8080/"
        },
        "id": "hYIbMXyBUuV9",
        "outputId": "d3a78b4e-566e-4152-cbfc-79250e877f4e"
      },
      "outputs": [
        {
          "output_type": "stream",
          "name": "stdout",
          "text": [
            "<class 'pandas.core.frame.DataFrame'>\n",
            "RangeIndex: 52646 entries, 0 to 52645\n",
            "Data columns (total 14 columns):\n",
            " #   Column            Non-Null Count  Dtype  \n",
            "---  ------            --------------  -----  \n",
            " 0   Domain Code       52646 non-null  object \n",
            " 1   Domain            52646 non-null  object \n",
            " 2   Area Code (FAO)   52646 non-null  int64  \n",
            " 3   Area              52646 non-null  object \n",
            " 4   Element Code      52646 non-null  int64  \n",
            " 5   Element           52646 non-null  object \n",
            " 6   Item Code         52646 non-null  int64  \n",
            " 7   Item              52646 non-null  object \n",
            " 8   Year Code         52646 non-null  int64  \n",
            " 9   Year              52646 non-null  int64  \n",
            " 10  Unit              52646 non-null  object \n",
            " 11  Value             52646 non-null  float64\n",
            " 12  Flag              52646 non-null  object \n",
            " 13  Flag Description  52646 non-null  object \n",
            "dtypes: float64(1), int64(5), object(8)\n",
            "memory usage: 5.6+ MB\n"
          ]
        }
      ],
      "source": [
        "df.info()"
      ]
    },
    {
      "cell_type": "markdown",
      "metadata": {
        "id": "Fbc84KhFU1aK"
      },
      "source": [
        "## Предообработка данных"
      ]
    },
    {
      "cell_type": "markdown",
      "metadata": {
        "id": "STpbSEcaVwsW"
      },
      "source": [
        "### Удаление лишних столбцов"
      ]
    },
    {
      "cell_type": "code",
      "execution_count": 6,
      "metadata": {
        "id": "2fPiQviY40lH"
      },
      "outputs": [],
      "source": [
        "df = df.drop(columns=['Domain Code', 'Area Code (FAO)', 'Element Code', 'Item Code', 'Year Code', 'Flag Description', 'Flag', 'Domain'])"
      ]
    },
    {
      "cell_type": "code",
      "execution_count": 7,
      "metadata": {
        "colab": {
          "base_uri": "https://localhost:8080/",
          "height": 206
        },
        "id": "X0SvMuxN_d1F",
        "outputId": "d7a65696-2c0a-45a4-f171-db68fb021507"
      },
      "outputs": [
        {
          "output_type": "execute_result",
          "data": {
            "text/plain": [
              "          Area          Element                Item  Year      Unit   Value\n",
              "0  Afghanistan  Import Quantity  Ammonia, anhydrous  2017    tonnes    2.07\n",
              "1  Afghanistan  Import Quantity  Ammonia, anhydrous  2018    tonnes   28.19\n",
              "2  Afghanistan     Import Value  Ammonia, anhydrous  2017  1000 US$    1.24\n",
              "3  Afghanistan     Import Value  Ammonia, anhydrous  2018  1000 US$    5.44\n",
              "4  Afghanistan  Import Quantity   Ammonium sulphate  2015    tonnes  190.07"
            ],
            "text/html": [
              "\n",
              "  <div id=\"df-8290f243-27d5-47e4-8168-e1df143eced2\">\n",
              "    <div class=\"colab-df-container\">\n",
              "      <div>\n",
              "<style scoped>\n",
              "    .dataframe tbody tr th:only-of-type {\n",
              "        vertical-align: middle;\n",
              "    }\n",
              "\n",
              "    .dataframe tbody tr th {\n",
              "        vertical-align: top;\n",
              "    }\n",
              "\n",
              "    .dataframe thead th {\n",
              "        text-align: right;\n",
              "    }\n",
              "</style>\n",
              "<table border=\"1\" class=\"dataframe\">\n",
              "  <thead>\n",
              "    <tr style=\"text-align: right;\">\n",
              "      <th></th>\n",
              "      <th>Area</th>\n",
              "      <th>Element</th>\n",
              "      <th>Item</th>\n",
              "      <th>Year</th>\n",
              "      <th>Unit</th>\n",
              "      <th>Value</th>\n",
              "    </tr>\n",
              "  </thead>\n",
              "  <tbody>\n",
              "    <tr>\n",
              "      <th>0</th>\n",
              "      <td>Afghanistan</td>\n",
              "      <td>Import Quantity</td>\n",
              "      <td>Ammonia, anhydrous</td>\n",
              "      <td>2017</td>\n",
              "      <td>tonnes</td>\n",
              "      <td>2.07</td>\n",
              "    </tr>\n",
              "    <tr>\n",
              "      <th>1</th>\n",
              "      <td>Afghanistan</td>\n",
              "      <td>Import Quantity</td>\n",
              "      <td>Ammonia, anhydrous</td>\n",
              "      <td>2018</td>\n",
              "      <td>tonnes</td>\n",
              "      <td>28.19</td>\n",
              "    </tr>\n",
              "    <tr>\n",
              "      <th>2</th>\n",
              "      <td>Afghanistan</td>\n",
              "      <td>Import Value</td>\n",
              "      <td>Ammonia, anhydrous</td>\n",
              "      <td>2017</td>\n",
              "      <td>1000 US$</td>\n",
              "      <td>1.24</td>\n",
              "    </tr>\n",
              "    <tr>\n",
              "      <th>3</th>\n",
              "      <td>Afghanistan</td>\n",
              "      <td>Import Value</td>\n",
              "      <td>Ammonia, anhydrous</td>\n",
              "      <td>2018</td>\n",
              "      <td>1000 US$</td>\n",
              "      <td>5.44</td>\n",
              "    </tr>\n",
              "    <tr>\n",
              "      <th>4</th>\n",
              "      <td>Afghanistan</td>\n",
              "      <td>Import Quantity</td>\n",
              "      <td>Ammonium sulphate</td>\n",
              "      <td>2015</td>\n",
              "      <td>tonnes</td>\n",
              "      <td>190.07</td>\n",
              "    </tr>\n",
              "  </tbody>\n",
              "</table>\n",
              "</div>\n",
              "      <button class=\"colab-df-convert\" onclick=\"convertToInteractive('df-8290f243-27d5-47e4-8168-e1df143eced2')\"\n",
              "              title=\"Convert this dataframe to an interactive table.\"\n",
              "              style=\"display:none;\">\n",
              "        \n",
              "  <svg xmlns=\"http://www.w3.org/2000/svg\" height=\"24px\"viewBox=\"0 0 24 24\"\n",
              "       width=\"24px\">\n",
              "    <path d=\"M0 0h24v24H0V0z\" fill=\"none\"/>\n",
              "    <path d=\"M18.56 5.44l.94 2.06.94-2.06 2.06-.94-2.06-.94-.94-2.06-.94 2.06-2.06.94zm-11 1L8.5 8.5l.94-2.06 2.06-.94-2.06-.94L8.5 2.5l-.94 2.06-2.06.94zm10 10l.94 2.06.94-2.06 2.06-.94-2.06-.94-.94-2.06-.94 2.06-2.06.94z\"/><path d=\"M17.41 7.96l-1.37-1.37c-.4-.4-.92-.59-1.43-.59-.52 0-1.04.2-1.43.59L10.3 9.45l-7.72 7.72c-.78.78-.78 2.05 0 2.83L4 21.41c.39.39.9.59 1.41.59.51 0 1.02-.2 1.41-.59l7.78-7.78 2.81-2.81c.8-.78.8-2.07 0-2.86zM5.41 20L4 18.59l7.72-7.72 1.47 1.35L5.41 20z\"/>\n",
              "  </svg>\n",
              "      </button>\n",
              "      \n",
              "  <style>\n",
              "    .colab-df-container {\n",
              "      display:flex;\n",
              "      flex-wrap:wrap;\n",
              "      gap: 12px;\n",
              "    }\n",
              "\n",
              "    .colab-df-convert {\n",
              "      background-color: #E8F0FE;\n",
              "      border: none;\n",
              "      border-radius: 50%;\n",
              "      cursor: pointer;\n",
              "      display: none;\n",
              "      fill: #1967D2;\n",
              "      height: 32px;\n",
              "      padding: 0 0 0 0;\n",
              "      width: 32px;\n",
              "    }\n",
              "\n",
              "    .colab-df-convert:hover {\n",
              "      background-color: #E2EBFA;\n",
              "      box-shadow: 0px 1px 2px rgba(60, 64, 67, 0.3), 0px 1px 3px 1px rgba(60, 64, 67, 0.15);\n",
              "      fill: #174EA6;\n",
              "    }\n",
              "\n",
              "    [theme=dark] .colab-df-convert {\n",
              "      background-color: #3B4455;\n",
              "      fill: #D2E3FC;\n",
              "    }\n",
              "\n",
              "    [theme=dark] .colab-df-convert:hover {\n",
              "      background-color: #434B5C;\n",
              "      box-shadow: 0px 1px 3px 1px rgba(0, 0, 0, 0.15);\n",
              "      filter: drop-shadow(0px 1px 2px rgba(0, 0, 0, 0.3));\n",
              "      fill: #FFFFFF;\n",
              "    }\n",
              "  </style>\n",
              "\n",
              "      <script>\n",
              "        const buttonEl =\n",
              "          document.querySelector('#df-8290f243-27d5-47e4-8168-e1df143eced2 button.colab-df-convert');\n",
              "        buttonEl.style.display =\n",
              "          google.colab.kernel.accessAllowed ? 'block' : 'none';\n",
              "\n",
              "        async function convertToInteractive(key) {\n",
              "          const element = document.querySelector('#df-8290f243-27d5-47e4-8168-e1df143eced2');\n",
              "          const dataTable =\n",
              "            await google.colab.kernel.invokeFunction('convertToInteractive',\n",
              "                                                     [key], {});\n",
              "          if (!dataTable) return;\n",
              "\n",
              "          const docLinkHtml = 'Like what you see? Visit the ' +\n",
              "            '<a target=\"_blank\" href=https://colab.research.google.com/notebooks/data_table.ipynb>data table notebook</a>'\n",
              "            + ' to learn more about interactive tables.';\n",
              "          element.innerHTML = '';\n",
              "          dataTable['output_type'] = 'display_data';\n",
              "          await google.colab.output.renderOutput(dataTable, element);\n",
              "          const docLink = document.createElement('div');\n",
              "          docLink.innerHTML = docLinkHtml;\n",
              "          element.appendChild(docLink);\n",
              "        }\n",
              "      </script>\n",
              "    </div>\n",
              "  </div>\n",
              "  "
            ]
          },
          "metadata": {},
          "execution_count": 7
        }
      ],
      "source": [
        "df.head()"
      ]
    },
    {
      "cell_type": "markdown",
      "metadata": {
        "id": "efqCtmL5ZJ_o"
      },
      "source": [
        "### Наличие пропусков"
      ]
    },
    {
      "cell_type": "code",
      "execution_count": 8,
      "metadata": {
        "colab": {
          "base_uri": "https://localhost:8080/"
        },
        "id": "z6dehK2a4XwJ",
        "outputId": "e46d34a5-8e08-4899-def7-587bf61fa855"
      },
      "outputs": [
        {
          "output_type": "execute_result",
          "data": {
            "text/plain": [
              "Area       0\n",
              "Element    0\n",
              "Item       0\n",
              "Year       0\n",
              "Unit       0\n",
              "Value      0\n",
              "dtype: int64"
            ]
          },
          "metadata": {},
          "execution_count": 8
        }
      ],
      "source": [
        "df.isna().sum()"
      ]
    },
    {
      "cell_type": "markdown",
      "metadata": {
        "id": "gs4pUxWBZOin"
      },
      "source": [
        "### Наличие дубликатов"
      ]
    },
    {
      "cell_type": "code",
      "execution_count": 9,
      "metadata": {
        "colab": {
          "base_uri": "https://localhost:8080/"
        },
        "id": "LzSsMkXy4s69",
        "outputId": "2c981187-6c1a-4fad-dd3e-49024caa6d3f"
      },
      "outputs": [
        {
          "output_type": "execute_result",
          "data": {
            "text/plain": [
              "0"
            ]
          },
          "metadata": {},
          "execution_count": 9
        }
      ],
      "source": [
        "df.duplicated().sum()"
      ]
    },
    {
      "cell_type": "code",
      "execution_count": 10,
      "metadata": {
        "colab": {
          "base_uri": "https://localhost:8080/"
        },
        "id": "I0Mv9aIs47XM",
        "outputId": "991528de-8704-40b0-f884-840f4255d29e"
      },
      "outputs": [
        {
          "output_type": "execute_result",
          "data": {
            "text/plain": [
              "Import Quantity     14466\n",
              "Import Value        14466\n",
              "Export Quantity      8227\n",
              "Export Value         8227\n",
              "Agricultural Use     3880\n",
              "Production           3380\n",
              "Name: Element, dtype: int64"
            ]
          },
          "metadata": {},
          "execution_count": 10
        }
      ],
      "source": [
        "df['Element'].value_counts()"
      ]
    },
    {
      "cell_type": "code",
      "execution_count": 11,
      "metadata": {
        "colab": {
          "base_uri": "https://localhost:8080/"
        },
        "id": "BSCa0XxS5Ba2",
        "outputId": "f2646614-1e71-49f8-e997-4d78ec410f3e"
      },
      "outputs": [
        {
          "output_type": "execute_result",
          "data": {
            "text/plain": [
              "Urea                                                                        3105\n",
              "NPK fertilizers                                                             2987\n",
              "Fertilizers n.e.c.                                                          2924\n",
              "Other nitrogenous fertilizers, n.e.c.                                       2922\n",
              "Potassium chloride (muriate of potash) (MOP)                                2770\n",
              "Ammonium sulphate                                                           2738\n",
              "Ammonium nitrate (AN)                                                       2564\n",
              "Other NP compounds                                                          2560\n",
              "Ammonia, anhydrous                                                          2508\n",
              "Diammonium phosphate (DAP)                                                  2462\n",
              "Potassium sulphate (sulphate of potash) (SOP)                               2438\n",
              "Other potassic fertilizers, n.e.c.                                          2417\n",
              "PK compounds                                                                2341\n",
              "Potassium nitrate                                                           2307\n",
              "Monoammonium phosphate (MAP)                                                2304\n",
              "Other phosphatic fertilizers, n.e.c.                                        2225\n",
              "Phosphate rock                                                              2181\n",
              "Sodium nitrate                                                              1989\n",
              "Superphosphates above 35%                                                   1956\n",
              "Calcium ammonium nitrate (CAN) and other mixtures with calcium carbonate    1937\n",
              "Urea and ammonium nitrate solutions (UAN)                                   1759\n",
              "Superphosphates, other                                                      1059\n",
              "Other NK compounds                                                           193\n",
              "Name: Item, dtype: int64"
            ]
          },
          "metadata": {},
          "execution_count": 11
        }
      ],
      "source": [
        "df['Item'].value_counts()"
      ]
    },
    {
      "cell_type": "code",
      "execution_count": 12,
      "metadata": {
        "colab": {
          "base_uri": "https://localhost:8080/"
        },
        "id": "CFwVTyql5Hm-",
        "outputId": "31cef671-7d80-42d0-8387-a72abec6d50a"
      },
      "outputs": [
        {
          "output_type": "execute_result",
          "data": {
            "text/plain": [
              "tonnes      29953\n",
              "1000 US$    22693\n",
              "Name: Unit, dtype: int64"
            ]
          },
          "metadata": {},
          "execution_count": 12
        }
      ],
      "source": [
        "df['Unit'].value_counts()"
      ]
    },
    {
      "cell_type": "code",
      "execution_count": 13,
      "metadata": {
        "colab": {
          "base_uri": "https://localhost:8080/"
        },
        "id": "E9tmcNEZ5jXX",
        "outputId": "73337061-cfbe-4d79-c218-467f54ad6abc"
      },
      "outputs": [
        {
          "output_type": "execute_result",
          "data": {
            "text/plain": [
              "2017    10906\n",
              "2016    10855\n",
              "2015    10709\n",
              "2018    10546\n",
              "2019     9630\n",
              "Name: Year, dtype: int64"
            ]
          },
          "metadata": {},
          "execution_count": 13
        }
      ],
      "source": [
        "df['Year'].value_counts()"
      ]
    },
    {
      "cell_type": "code",
      "execution_count": 14,
      "metadata": {
        "colab": {
          "base_uri": "https://localhost:8080/"
        },
        "id": "GA1T-kQU5xjn",
        "outputId": "f80f8228-9813-4e96-ad99-69a316367341"
      },
      "outputs": [
        {
          "output_type": "execute_result",
          "data": {
            "text/plain": [
              "array(['Afghanistan', 'Albania', 'Algeria', 'Angola',\n",
              "       'Antigua and Barbuda', 'Argentina', 'Armenia', 'Australia',\n",
              "       'Austria', 'Azerbaijan', 'Bahamas', 'Bahrain', 'Bangladesh',\n",
              "       'Barbados', 'Belarus', 'Belgium', 'Belize', 'Benin', 'Bermuda',\n",
              "       'Bhutan', 'Bolivia (Plurinational State of)',\n",
              "       'Bosnia and Herzegovina', 'Botswana', 'Brazil',\n",
              "       'Brunei Darussalam', 'Bulgaria', 'Burkina Faso', 'Burundi',\n",
              "       'Cambodia', 'Cameroon', 'Canada', 'Central African Republic',\n",
              "       'Chile', 'China, mainland', 'China, Taiwan Province of',\n",
              "       'Colombia', 'Congo', 'Cook Islands', 'Costa Rica', \"C?te d'Ivoire\",\n",
              "       'Croatia', 'Cuba', 'Cyprus', 'Czechia',\n",
              "       'Democratic Republic of the Congo', 'Denmark', 'Dominica',\n",
              "       'Dominican Republic', 'Ecuador', 'Egypt', 'El Salvador', 'Eritrea',\n",
              "       'Estonia', 'Ethiopia', 'Fiji', 'Finland', 'France',\n",
              "       'French Polynesia', 'Gabon', 'Gambia', 'Georgia', 'Germany',\n",
              "       'Ghana', 'Greece', 'Guatemala', 'Guinea', 'Guyana', 'Honduras',\n",
              "       'Hungary', 'Iceland', 'India', 'Indonesia',\n",
              "       'Iran (Islamic Republic of)', 'Iraq', 'Ireland', 'Israel', 'Italy',\n",
              "       'Jamaica', 'Japan', 'Jordan', 'Kazakhstan', 'Kenya', 'Kuwait',\n",
              "       'Kyrgyzstan', 'Latvia', 'Lebanon', 'Libya', 'Lithuania',\n",
              "       'Luxembourg', 'Madagascar', 'Malawi', 'Malaysia', 'Maldives',\n",
              "       'Mali', 'Malta', 'Marshall Islands', 'Mauritius', 'Mexico',\n",
              "       'Mongolia', 'Montenegro', 'Morocco', 'Mozambique', 'Myanmar',\n",
              "       'Namibia', 'Nauru', 'Nepal', 'Netherlands', 'New Caledonia',\n",
              "       'New Zealand', 'Nicaragua', 'Niger', 'Nigeria', 'North Macedonia',\n",
              "       'Norway', 'Oman', 'Pakistan', 'Panama', 'Papua New Guinea',\n",
              "       'Paraguay', 'Peru', 'Philippines', 'Poland', 'Portugal', 'Qatar',\n",
              "       'Republic of Korea', 'Republic of Moldova', 'Romania',\n",
              "       'Russian Federation', 'Rwanda', 'Saint Kitts and Nevis',\n",
              "       'Saint Lucia', 'Samoa', 'Saudi Arabia', 'Senegal', 'Serbia',\n",
              "       'Seychelles', 'Slovakia', 'Slovenia', 'South Africa', 'Spain',\n",
              "       'Sri Lanka', 'Sudan', 'Suriname', 'Sweden', 'Switzerland',\n",
              "       'Syrian Arab Republic', 'Tajikistan', 'Thailand', 'Togo', 'Tonga',\n",
              "       'Trinidad and Tobago', 'Tunisia', 'T?rkiye', 'Uganda', 'Ukraine',\n",
              "       'United Arab Emirates',\n",
              "       'United Kingdom of Great Britain and Northern Ireland',\n",
              "       'United Republic of Tanzania', 'United States of America',\n",
              "       'Uruguay', 'Uzbekistan', 'Venezuela (Bolivarian Republic of)',\n",
              "       'Viet Nam', 'Yemen', 'Zambia', 'Zimbabwe'], dtype=object)"
            ]
          },
          "metadata": {},
          "execution_count": 14
        }
      ],
      "source": [
        "df['Area'].unique()"
      ]
    },
    {
      "cell_type": "code",
      "execution_count": 15,
      "metadata": {
        "id": "s1eaemnGsMb5"
      },
      "outputs": [],
      "source": [
        "df['Area']= df['Area'].replace(\"T?rkiye\", \"Turkiye\")"
      ]
    },
    {
      "cell_type": "code",
      "execution_count": 16,
      "metadata": {
        "colab": {
          "base_uri": "https://localhost:8080/",
          "height": 206
        },
        "id": "tww-xCtt82tm",
        "outputId": "582596f5-4856-468c-94e1-4b4397adf302"
      },
      "outputs": [
        {
          "output_type": "execute_result",
          "data": {
            "text/plain": [
              "          Area          Element                Item  Year      Unit   Value\n",
              "0  Afghanistan  Import Quantity  Ammonia, anhydrous  2017    tonnes    2.07\n",
              "1  Afghanistan  Import Quantity  Ammonia, anhydrous  2018    tonnes   28.19\n",
              "2  Afghanistan     Import Value  Ammonia, anhydrous  2017  1000 US$    1.24\n",
              "3  Afghanistan     Import Value  Ammonia, anhydrous  2018  1000 US$    5.44\n",
              "4  Afghanistan  Import Quantity   Ammonium sulphate  2015    tonnes  190.07"
            ],
            "text/html": [
              "\n",
              "  <div id=\"df-c23e3018-ec4b-47a1-9eec-1d787f50f6bb\">\n",
              "    <div class=\"colab-df-container\">\n",
              "      <div>\n",
              "<style scoped>\n",
              "    .dataframe tbody tr th:only-of-type {\n",
              "        vertical-align: middle;\n",
              "    }\n",
              "\n",
              "    .dataframe tbody tr th {\n",
              "        vertical-align: top;\n",
              "    }\n",
              "\n",
              "    .dataframe thead th {\n",
              "        text-align: right;\n",
              "    }\n",
              "</style>\n",
              "<table border=\"1\" class=\"dataframe\">\n",
              "  <thead>\n",
              "    <tr style=\"text-align: right;\">\n",
              "      <th></th>\n",
              "      <th>Area</th>\n",
              "      <th>Element</th>\n",
              "      <th>Item</th>\n",
              "      <th>Year</th>\n",
              "      <th>Unit</th>\n",
              "      <th>Value</th>\n",
              "    </tr>\n",
              "  </thead>\n",
              "  <tbody>\n",
              "    <tr>\n",
              "      <th>0</th>\n",
              "      <td>Afghanistan</td>\n",
              "      <td>Import Quantity</td>\n",
              "      <td>Ammonia, anhydrous</td>\n",
              "      <td>2017</td>\n",
              "      <td>tonnes</td>\n",
              "      <td>2.07</td>\n",
              "    </tr>\n",
              "    <tr>\n",
              "      <th>1</th>\n",
              "      <td>Afghanistan</td>\n",
              "      <td>Import Quantity</td>\n",
              "      <td>Ammonia, anhydrous</td>\n",
              "      <td>2018</td>\n",
              "      <td>tonnes</td>\n",
              "      <td>28.19</td>\n",
              "    </tr>\n",
              "    <tr>\n",
              "      <th>2</th>\n",
              "      <td>Afghanistan</td>\n",
              "      <td>Import Value</td>\n",
              "      <td>Ammonia, anhydrous</td>\n",
              "      <td>2017</td>\n",
              "      <td>1000 US$</td>\n",
              "      <td>1.24</td>\n",
              "    </tr>\n",
              "    <tr>\n",
              "      <th>3</th>\n",
              "      <td>Afghanistan</td>\n",
              "      <td>Import Value</td>\n",
              "      <td>Ammonia, anhydrous</td>\n",
              "      <td>2018</td>\n",
              "      <td>1000 US$</td>\n",
              "      <td>5.44</td>\n",
              "    </tr>\n",
              "    <tr>\n",
              "      <th>4</th>\n",
              "      <td>Afghanistan</td>\n",
              "      <td>Import Quantity</td>\n",
              "      <td>Ammonium sulphate</td>\n",
              "      <td>2015</td>\n",
              "      <td>tonnes</td>\n",
              "      <td>190.07</td>\n",
              "    </tr>\n",
              "  </tbody>\n",
              "</table>\n",
              "</div>\n",
              "      <button class=\"colab-df-convert\" onclick=\"convertToInteractive('df-c23e3018-ec4b-47a1-9eec-1d787f50f6bb')\"\n",
              "              title=\"Convert this dataframe to an interactive table.\"\n",
              "              style=\"display:none;\">\n",
              "        \n",
              "  <svg xmlns=\"http://www.w3.org/2000/svg\" height=\"24px\"viewBox=\"0 0 24 24\"\n",
              "       width=\"24px\">\n",
              "    <path d=\"M0 0h24v24H0V0z\" fill=\"none\"/>\n",
              "    <path d=\"M18.56 5.44l.94 2.06.94-2.06 2.06-.94-2.06-.94-.94-2.06-.94 2.06-2.06.94zm-11 1L8.5 8.5l.94-2.06 2.06-.94-2.06-.94L8.5 2.5l-.94 2.06-2.06.94zm10 10l.94 2.06.94-2.06 2.06-.94-2.06-.94-.94-2.06-.94 2.06-2.06.94z\"/><path d=\"M17.41 7.96l-1.37-1.37c-.4-.4-.92-.59-1.43-.59-.52 0-1.04.2-1.43.59L10.3 9.45l-7.72 7.72c-.78.78-.78 2.05 0 2.83L4 21.41c.39.39.9.59 1.41.59.51 0 1.02-.2 1.41-.59l7.78-7.78 2.81-2.81c.8-.78.8-2.07 0-2.86zM5.41 20L4 18.59l7.72-7.72 1.47 1.35L5.41 20z\"/>\n",
              "  </svg>\n",
              "      </button>\n",
              "      \n",
              "  <style>\n",
              "    .colab-df-container {\n",
              "      display:flex;\n",
              "      flex-wrap:wrap;\n",
              "      gap: 12px;\n",
              "    }\n",
              "\n",
              "    .colab-df-convert {\n",
              "      background-color: #E8F0FE;\n",
              "      border: none;\n",
              "      border-radius: 50%;\n",
              "      cursor: pointer;\n",
              "      display: none;\n",
              "      fill: #1967D2;\n",
              "      height: 32px;\n",
              "      padding: 0 0 0 0;\n",
              "      width: 32px;\n",
              "    }\n",
              "\n",
              "    .colab-df-convert:hover {\n",
              "      background-color: #E2EBFA;\n",
              "      box-shadow: 0px 1px 2px rgba(60, 64, 67, 0.3), 0px 1px 3px 1px rgba(60, 64, 67, 0.15);\n",
              "      fill: #174EA6;\n",
              "    }\n",
              "\n",
              "    [theme=dark] .colab-df-convert {\n",
              "      background-color: #3B4455;\n",
              "      fill: #D2E3FC;\n",
              "    }\n",
              "\n",
              "    [theme=dark] .colab-df-convert:hover {\n",
              "      background-color: #434B5C;\n",
              "      box-shadow: 0px 1px 3px 1px rgba(0, 0, 0, 0.15);\n",
              "      filter: drop-shadow(0px 1px 2px rgba(0, 0, 0, 0.3));\n",
              "      fill: #FFFFFF;\n",
              "    }\n",
              "  </style>\n",
              "\n",
              "      <script>\n",
              "        const buttonEl =\n",
              "          document.querySelector('#df-c23e3018-ec4b-47a1-9eec-1d787f50f6bb button.colab-df-convert');\n",
              "        buttonEl.style.display =\n",
              "          google.colab.kernel.accessAllowed ? 'block' : 'none';\n",
              "\n",
              "        async function convertToInteractive(key) {\n",
              "          const element = document.querySelector('#df-c23e3018-ec4b-47a1-9eec-1d787f50f6bb');\n",
              "          const dataTable =\n",
              "            await google.colab.kernel.invokeFunction('convertToInteractive',\n",
              "                                                     [key], {});\n",
              "          if (!dataTable) return;\n",
              "\n",
              "          const docLinkHtml = 'Like what you see? Visit the ' +\n",
              "            '<a target=\"_blank\" href=https://colab.research.google.com/notebooks/data_table.ipynb>data table notebook</a>'\n",
              "            + ' to learn more about interactive tables.';\n",
              "          element.innerHTML = '';\n",
              "          dataTable['output_type'] = 'display_data';\n",
              "          await google.colab.output.renderOutput(dataTable, element);\n",
              "          const docLink = document.createElement('div');\n",
              "          docLink.innerHTML = docLinkHtml;\n",
              "          element.appendChild(docLink);\n",
              "        }\n",
              "      </script>\n",
              "    </div>\n",
              "  </div>\n",
              "  "
            ]
          },
          "metadata": {},
          "execution_count": 16
        }
      ],
      "source": [
        "df.head()"
      ]
    },
    {
      "cell_type": "markdown",
      "metadata": {
        "id": "o4dfACw-jJcF"
      },
      "source": [
        "## EDA"
      ]
    },
    {
      "cell_type": "markdown",
      "metadata": {
        "id": "0sAqeqhfjRvr"
      },
      "source": [
        "***Топ-10 стран, осуществляющие импорт удобрений, в тоннах***"
      ]
    },
    {
      "cell_type": "code",
      "execution_count": 17,
      "metadata": {
        "id": "YtvQeEer9ztc"
      },
      "outputs": [],
      "source": [
        "item_import_quantity=df.query('Element==\"Import Quantity\"').groupby(('Area')).agg({'Value':'sum'}).sort_values(by='Value', ascending=False)"
      ]
    },
    {
      "cell_type": "code",
      "execution_count": 18,
      "metadata": {
        "id": "b_jER-Vre-92"
      },
      "outputs": [],
      "source": [
        "differense = []\n",
        "for i in range(len(item_import_quantity)):\n",
        "  differense.append(round((item_import_quantity['Value'][i]/item_import_quantity['Value'].sum() * 100),3))\n",
        "item_import_quantity['Share'] = differense"
      ]
    },
    {
      "cell_type": "code",
      "execution_count": 19,
      "metadata": {
        "colab": {
          "base_uri": "https://localhost:8080/",
          "height": 394
        },
        "id": "7BijuCUsfIpT",
        "outputId": "2e81fb31-aca5-4690-d756-67ffa6988872"
      },
      "outputs": [
        {
          "output_type": "execute_result",
          "data": {
            "text/plain": [
              "                                 Value   Share\n",
              "Area                                          \n",
              "United States of America  1.555344e+08  11.887\n",
              "India                     1.451500e+08  11.094\n",
              "Brazil                    1.441641e+08  11.018\n",
              "China, mainland           5.333034e+07   4.076\n",
              "Indonesia                 4.561359e+07   3.486\n",
              "France                    4.430033e+07   3.386\n",
              "Belgium                   3.300528e+07   2.523\n",
              "Turkiye                   3.289795e+07   2.514\n",
              "Thailand                  2.813692e+07   2.150\n",
              "Germany                   2.658496e+07   2.032"
            ],
            "text/html": [
              "\n",
              "  <div id=\"df-6a7a795e-100a-4513-baee-a0d0e144eb3f\">\n",
              "    <div class=\"colab-df-container\">\n",
              "      <div>\n",
              "<style scoped>\n",
              "    .dataframe tbody tr th:only-of-type {\n",
              "        vertical-align: middle;\n",
              "    }\n",
              "\n",
              "    .dataframe tbody tr th {\n",
              "        vertical-align: top;\n",
              "    }\n",
              "\n",
              "    .dataframe thead th {\n",
              "        text-align: right;\n",
              "    }\n",
              "</style>\n",
              "<table border=\"1\" class=\"dataframe\">\n",
              "  <thead>\n",
              "    <tr style=\"text-align: right;\">\n",
              "      <th></th>\n",
              "      <th>Value</th>\n",
              "      <th>Share</th>\n",
              "    </tr>\n",
              "    <tr>\n",
              "      <th>Area</th>\n",
              "      <th></th>\n",
              "      <th></th>\n",
              "    </tr>\n",
              "  </thead>\n",
              "  <tbody>\n",
              "    <tr>\n",
              "      <th>United States of America</th>\n",
              "      <td>1.555344e+08</td>\n",
              "      <td>11.887</td>\n",
              "    </tr>\n",
              "    <tr>\n",
              "      <th>India</th>\n",
              "      <td>1.451500e+08</td>\n",
              "      <td>11.094</td>\n",
              "    </tr>\n",
              "    <tr>\n",
              "      <th>Brazil</th>\n",
              "      <td>1.441641e+08</td>\n",
              "      <td>11.018</td>\n",
              "    </tr>\n",
              "    <tr>\n",
              "      <th>China, mainland</th>\n",
              "      <td>5.333034e+07</td>\n",
              "      <td>4.076</td>\n",
              "    </tr>\n",
              "    <tr>\n",
              "      <th>Indonesia</th>\n",
              "      <td>4.561359e+07</td>\n",
              "      <td>3.486</td>\n",
              "    </tr>\n",
              "    <tr>\n",
              "      <th>France</th>\n",
              "      <td>4.430033e+07</td>\n",
              "      <td>3.386</td>\n",
              "    </tr>\n",
              "    <tr>\n",
              "      <th>Belgium</th>\n",
              "      <td>3.300528e+07</td>\n",
              "      <td>2.523</td>\n",
              "    </tr>\n",
              "    <tr>\n",
              "      <th>Turkiye</th>\n",
              "      <td>3.289795e+07</td>\n",
              "      <td>2.514</td>\n",
              "    </tr>\n",
              "    <tr>\n",
              "      <th>Thailand</th>\n",
              "      <td>2.813692e+07</td>\n",
              "      <td>2.150</td>\n",
              "    </tr>\n",
              "    <tr>\n",
              "      <th>Germany</th>\n",
              "      <td>2.658496e+07</td>\n",
              "      <td>2.032</td>\n",
              "    </tr>\n",
              "  </tbody>\n",
              "</table>\n",
              "</div>\n",
              "      <button class=\"colab-df-convert\" onclick=\"convertToInteractive('df-6a7a795e-100a-4513-baee-a0d0e144eb3f')\"\n",
              "              title=\"Convert this dataframe to an interactive table.\"\n",
              "              style=\"display:none;\">\n",
              "        \n",
              "  <svg xmlns=\"http://www.w3.org/2000/svg\" height=\"24px\"viewBox=\"0 0 24 24\"\n",
              "       width=\"24px\">\n",
              "    <path d=\"M0 0h24v24H0V0z\" fill=\"none\"/>\n",
              "    <path d=\"M18.56 5.44l.94 2.06.94-2.06 2.06-.94-2.06-.94-.94-2.06-.94 2.06-2.06.94zm-11 1L8.5 8.5l.94-2.06 2.06-.94-2.06-.94L8.5 2.5l-.94 2.06-2.06.94zm10 10l.94 2.06.94-2.06 2.06-.94-2.06-.94-.94-2.06-.94 2.06-2.06.94z\"/><path d=\"M17.41 7.96l-1.37-1.37c-.4-.4-.92-.59-1.43-.59-.52 0-1.04.2-1.43.59L10.3 9.45l-7.72 7.72c-.78.78-.78 2.05 0 2.83L4 21.41c.39.39.9.59 1.41.59.51 0 1.02-.2 1.41-.59l7.78-7.78 2.81-2.81c.8-.78.8-2.07 0-2.86zM5.41 20L4 18.59l7.72-7.72 1.47 1.35L5.41 20z\"/>\n",
              "  </svg>\n",
              "      </button>\n",
              "      \n",
              "  <style>\n",
              "    .colab-df-container {\n",
              "      display:flex;\n",
              "      flex-wrap:wrap;\n",
              "      gap: 12px;\n",
              "    }\n",
              "\n",
              "    .colab-df-convert {\n",
              "      background-color: #E8F0FE;\n",
              "      border: none;\n",
              "      border-radius: 50%;\n",
              "      cursor: pointer;\n",
              "      display: none;\n",
              "      fill: #1967D2;\n",
              "      height: 32px;\n",
              "      padding: 0 0 0 0;\n",
              "      width: 32px;\n",
              "    }\n",
              "\n",
              "    .colab-df-convert:hover {\n",
              "      background-color: #E2EBFA;\n",
              "      box-shadow: 0px 1px 2px rgba(60, 64, 67, 0.3), 0px 1px 3px 1px rgba(60, 64, 67, 0.15);\n",
              "      fill: #174EA6;\n",
              "    }\n",
              "\n",
              "    [theme=dark] .colab-df-convert {\n",
              "      background-color: #3B4455;\n",
              "      fill: #D2E3FC;\n",
              "    }\n",
              "\n",
              "    [theme=dark] .colab-df-convert:hover {\n",
              "      background-color: #434B5C;\n",
              "      box-shadow: 0px 1px 3px 1px rgba(0, 0, 0, 0.15);\n",
              "      filter: drop-shadow(0px 1px 2px rgba(0, 0, 0, 0.3));\n",
              "      fill: #FFFFFF;\n",
              "    }\n",
              "  </style>\n",
              "\n",
              "      <script>\n",
              "        const buttonEl =\n",
              "          document.querySelector('#df-6a7a795e-100a-4513-baee-a0d0e144eb3f button.colab-df-convert');\n",
              "        buttonEl.style.display =\n",
              "          google.colab.kernel.accessAllowed ? 'block' : 'none';\n",
              "\n",
              "        async function convertToInteractive(key) {\n",
              "          const element = document.querySelector('#df-6a7a795e-100a-4513-baee-a0d0e144eb3f');\n",
              "          const dataTable =\n",
              "            await google.colab.kernel.invokeFunction('convertToInteractive',\n",
              "                                                     [key], {});\n",
              "          if (!dataTable) return;\n",
              "\n",
              "          const docLinkHtml = 'Like what you see? Visit the ' +\n",
              "            '<a target=\"_blank\" href=https://colab.research.google.com/notebooks/data_table.ipynb>data table notebook</a>'\n",
              "            + ' to learn more about interactive tables.';\n",
              "          element.innerHTML = '';\n",
              "          dataTable['output_type'] = 'display_data';\n",
              "          await google.colab.output.renderOutput(dataTable, element);\n",
              "          const docLink = document.createElement('div');\n",
              "          docLink.innerHTML = docLinkHtml;\n",
              "          element.appendChild(docLink);\n",
              "        }\n",
              "      </script>\n",
              "    </div>\n",
              "  </div>\n",
              "  "
            ]
          },
          "metadata": {},
          "execution_count": 19
        }
      ],
      "source": [
        "item_import_quantity.head(10)"
      ]
    },
    {
      "cell_type": "markdown",
      "metadata": {
        "id": "ausOVxMXkI0o"
      },
      "source": [
        "***Топ-10 стран, осуществляющие импорт удобрений, в 1000 US $***"
      ]
    },
    {
      "cell_type": "code",
      "execution_count": 20,
      "metadata": {
        "id": "6udBMOYTBlU7"
      },
      "outputs": [],
      "source": [
        "item_import_value=df.query('Element==\"Import Value\"').groupby(('Area')).agg({'Value':'sum'}).sort_values(by='Value', ascending=False)"
      ]
    },
    {
      "cell_type": "code",
      "execution_count": 21,
      "metadata": {
        "id": "n4j3iY8RkRcB"
      },
      "outputs": [],
      "source": [
        "differense = []\n",
        "for i in range(len(item_import_value)):\n",
        "  differense.append(round((item_import_value['Value'][i]/item_import_value['Value'].sum() * 100),3))\n",
        "item_import_value['Share'] = differense"
      ]
    },
    {
      "cell_type": "code",
      "execution_count": 22,
      "metadata": {
        "colab": {
          "base_uri": "https://localhost:8080/",
          "height": 394
        },
        "id": "4gUMfEMXka1i",
        "outputId": "2397b787-bc47-401a-e6d4-070c0bf5caa9"
      },
      "outputs": [
        {
          "output_type": "execute_result",
          "data": {
            "text/plain": [
              "                                Value   Share\n",
              "Area                                         \n",
              "United States of America  42516174.72  11.553\n",
              "Brazil                    38890012.35  10.567\n",
              "India                     37598074.94  10.216\n",
              "China, mainland           16255810.99   4.417\n",
              "France                    11495540.56   3.124\n",
              "Indonesia                  9736792.23   2.646\n",
              "Thailand                   9098017.27   2.472\n",
              "Belgium                    8735921.67   2.374\n",
              "Turkiye                    8226867.66   2.235\n",
              "Australia                  7801051.93   2.120"
            ],
            "text/html": [
              "\n",
              "  <div id=\"df-193b6297-ff16-4c07-aec4-a1bc9d61b466\">\n",
              "    <div class=\"colab-df-container\">\n",
              "      <div>\n",
              "<style scoped>\n",
              "    .dataframe tbody tr th:only-of-type {\n",
              "        vertical-align: middle;\n",
              "    }\n",
              "\n",
              "    .dataframe tbody tr th {\n",
              "        vertical-align: top;\n",
              "    }\n",
              "\n",
              "    .dataframe thead th {\n",
              "        text-align: right;\n",
              "    }\n",
              "</style>\n",
              "<table border=\"1\" class=\"dataframe\">\n",
              "  <thead>\n",
              "    <tr style=\"text-align: right;\">\n",
              "      <th></th>\n",
              "      <th>Value</th>\n",
              "      <th>Share</th>\n",
              "    </tr>\n",
              "    <tr>\n",
              "      <th>Area</th>\n",
              "      <th></th>\n",
              "      <th></th>\n",
              "    </tr>\n",
              "  </thead>\n",
              "  <tbody>\n",
              "    <tr>\n",
              "      <th>United States of America</th>\n",
              "      <td>42516174.72</td>\n",
              "      <td>11.553</td>\n",
              "    </tr>\n",
              "    <tr>\n",
              "      <th>Brazil</th>\n",
              "      <td>38890012.35</td>\n",
              "      <td>10.567</td>\n",
              "    </tr>\n",
              "    <tr>\n",
              "      <th>India</th>\n",
              "      <td>37598074.94</td>\n",
              "      <td>10.216</td>\n",
              "    </tr>\n",
              "    <tr>\n",
              "      <th>China, mainland</th>\n",
              "      <td>16255810.99</td>\n",
              "      <td>4.417</td>\n",
              "    </tr>\n",
              "    <tr>\n",
              "      <th>France</th>\n",
              "      <td>11495540.56</td>\n",
              "      <td>3.124</td>\n",
              "    </tr>\n",
              "    <tr>\n",
              "      <th>Indonesia</th>\n",
              "      <td>9736792.23</td>\n",
              "      <td>2.646</td>\n",
              "    </tr>\n",
              "    <tr>\n",
              "      <th>Thailand</th>\n",
              "      <td>9098017.27</td>\n",
              "      <td>2.472</td>\n",
              "    </tr>\n",
              "    <tr>\n",
              "      <th>Belgium</th>\n",
              "      <td>8735921.67</td>\n",
              "      <td>2.374</td>\n",
              "    </tr>\n",
              "    <tr>\n",
              "      <th>Turkiye</th>\n",
              "      <td>8226867.66</td>\n",
              "      <td>2.235</td>\n",
              "    </tr>\n",
              "    <tr>\n",
              "      <th>Australia</th>\n",
              "      <td>7801051.93</td>\n",
              "      <td>2.120</td>\n",
              "    </tr>\n",
              "  </tbody>\n",
              "</table>\n",
              "</div>\n",
              "      <button class=\"colab-df-convert\" onclick=\"convertToInteractive('df-193b6297-ff16-4c07-aec4-a1bc9d61b466')\"\n",
              "              title=\"Convert this dataframe to an interactive table.\"\n",
              "              style=\"display:none;\">\n",
              "        \n",
              "  <svg xmlns=\"http://www.w3.org/2000/svg\" height=\"24px\"viewBox=\"0 0 24 24\"\n",
              "       width=\"24px\">\n",
              "    <path d=\"M0 0h24v24H0V0z\" fill=\"none\"/>\n",
              "    <path d=\"M18.56 5.44l.94 2.06.94-2.06 2.06-.94-2.06-.94-.94-2.06-.94 2.06-2.06.94zm-11 1L8.5 8.5l.94-2.06 2.06-.94-2.06-.94L8.5 2.5l-.94 2.06-2.06.94zm10 10l.94 2.06.94-2.06 2.06-.94-2.06-.94-.94-2.06-.94 2.06-2.06.94z\"/><path d=\"M17.41 7.96l-1.37-1.37c-.4-.4-.92-.59-1.43-.59-.52 0-1.04.2-1.43.59L10.3 9.45l-7.72 7.72c-.78.78-.78 2.05 0 2.83L4 21.41c.39.39.9.59 1.41.59.51 0 1.02-.2 1.41-.59l7.78-7.78 2.81-2.81c.8-.78.8-2.07 0-2.86zM5.41 20L4 18.59l7.72-7.72 1.47 1.35L5.41 20z\"/>\n",
              "  </svg>\n",
              "      </button>\n",
              "      \n",
              "  <style>\n",
              "    .colab-df-container {\n",
              "      display:flex;\n",
              "      flex-wrap:wrap;\n",
              "      gap: 12px;\n",
              "    }\n",
              "\n",
              "    .colab-df-convert {\n",
              "      background-color: #E8F0FE;\n",
              "      border: none;\n",
              "      border-radius: 50%;\n",
              "      cursor: pointer;\n",
              "      display: none;\n",
              "      fill: #1967D2;\n",
              "      height: 32px;\n",
              "      padding: 0 0 0 0;\n",
              "      width: 32px;\n",
              "    }\n",
              "\n",
              "    .colab-df-convert:hover {\n",
              "      background-color: #E2EBFA;\n",
              "      box-shadow: 0px 1px 2px rgba(60, 64, 67, 0.3), 0px 1px 3px 1px rgba(60, 64, 67, 0.15);\n",
              "      fill: #174EA6;\n",
              "    }\n",
              "\n",
              "    [theme=dark] .colab-df-convert {\n",
              "      background-color: #3B4455;\n",
              "      fill: #D2E3FC;\n",
              "    }\n",
              "\n",
              "    [theme=dark] .colab-df-convert:hover {\n",
              "      background-color: #434B5C;\n",
              "      box-shadow: 0px 1px 3px 1px rgba(0, 0, 0, 0.15);\n",
              "      filter: drop-shadow(0px 1px 2px rgba(0, 0, 0, 0.3));\n",
              "      fill: #FFFFFF;\n",
              "    }\n",
              "  </style>\n",
              "\n",
              "      <script>\n",
              "        const buttonEl =\n",
              "          document.querySelector('#df-193b6297-ff16-4c07-aec4-a1bc9d61b466 button.colab-df-convert');\n",
              "        buttonEl.style.display =\n",
              "          google.colab.kernel.accessAllowed ? 'block' : 'none';\n",
              "\n",
              "        async function convertToInteractive(key) {\n",
              "          const element = document.querySelector('#df-193b6297-ff16-4c07-aec4-a1bc9d61b466');\n",
              "          const dataTable =\n",
              "            await google.colab.kernel.invokeFunction('convertToInteractive',\n",
              "                                                     [key], {});\n",
              "          if (!dataTable) return;\n",
              "\n",
              "          const docLinkHtml = 'Like what you see? Visit the ' +\n",
              "            '<a target=\"_blank\" href=https://colab.research.google.com/notebooks/data_table.ipynb>data table notebook</a>'\n",
              "            + ' to learn more about interactive tables.';\n",
              "          element.innerHTML = '';\n",
              "          dataTable['output_type'] = 'display_data';\n",
              "          await google.colab.output.renderOutput(dataTable, element);\n",
              "          const docLink = document.createElement('div');\n",
              "          docLink.innerHTML = docLinkHtml;\n",
              "          element.appendChild(docLink);\n",
              "        }\n",
              "      </script>\n",
              "    </div>\n",
              "  </div>\n",
              "  "
            ]
          },
          "metadata": {},
          "execution_count": 22
        }
      ],
      "source": [
        "item_import_value.head(10)"
      ]
    },
    {
      "cell_type": "code",
      "execution_count": 23,
      "metadata": {
        "colab": {
          "base_uri": "https://localhost:8080/",
          "height": 519
        },
        "id": "lDAuDZgLHDKc",
        "outputId": "ff3a0290-af7a-4e0a-e38c-f5d70f39c425"
      },
      "outputs": [
        {
          "output_type": "display_data",
          "data": {
            "text/plain": [
              "<Figure size 1296x432 with 2 Axes>"
            ],
            "image/png": "[encoded data removed]"
          },
          "metadata": {
            "needs_background": "light"
          }
        }
      ],
      "source": [
        "fig, axes = plt.subplots(1,2, figsize=(25,20))       \n",
        "\n",
        "item_import_quantity.head(10).plot(kind='bar', figsize=(18,6), legend = True, color = 'lavender',edgecolor='black',linewidth=2, ax=axes[0]);\n",
        "axes[0].set_title('Импорт удобрений, тонны');\n",
        "axes[0].set_ylabel('Тонны')\n",
        "axes[0].set_xlabel('Страна')\n",
        "item_import_value.head(10).plot(kind='bar', figsize=(18,6), legend = True, color = 'lavender',edgecolor='black',linewidth=2, ax=axes[1]);\n",
        "axes[1].set_title('Импорт удобрений, 1000 US$')\n",
        "axes[1].set_ylabel('1000 US$')\n",
        "axes[1].set_xlabel('Страна');  "
      ]
    },
    {
      "cell_type": "markdown",
      "metadata": {
        "id": "--KO8aZpa2DJ"
      },
      "source": [
        "Лидеры топ-5 по импорту удобрений в тоннах являются следующие страны:\n",
        "- Соединенные штаты Америки (United States of America)\n",
        "- Индия (India)\n",
        "- Бразилия (Brazil)\n",
        "- Материковый Китай (China, mainland) \n",
        "- Индонезия (Indonesia) \n",
        "\n",
        "Лидеры топ-5 по импорту удобрений в $ являются следующие страны:\n",
        "- Соединенные штаты Америки (United States of America)\n",
        "- Бразилия (Brazil)\n",
        "- Индия (India)\n",
        "- Материковый Китай (China, mainland)\n",
        "- Франция (France)"
      ]
    },
    {
      "cell_type": "markdown",
      "metadata": {
        "id": "JeYT3k-Qk56P"
      },
      "source": [
        "***Топ-10 стран, осуществляющие экспорт удобрений, в тоннах***"
      ]
    },
    {
      "cell_type": "code",
      "execution_count": 24,
      "metadata": {
        "id": "JxprtyMnBMb0"
      },
      "outputs": [],
      "source": [
        "item_export_value=df.query('Element==\"Export Value\"').groupby(('Area')).agg({'Value':'sum'}).sort_values(by='Value', ascending=False)"
      ]
    },
    {
      "cell_type": "code",
      "execution_count": 25,
      "metadata": {
        "id": "EwbwrdjblJH0"
      },
      "outputs": [],
      "source": [
        "differense = []\n",
        "for i in range(len(item_export_value)):\n",
        "  differense.append(round((item_export_value['Value'][i]/item_export_value['Value'].sum() * 100),3))\n",
        "item_export_value['Share'] = differense"
      ]
    },
    {
      "cell_type": "code",
      "execution_count": 26,
      "metadata": {
        "colab": {
          "base_uri": "https://localhost:8080/",
          "height": 394
        },
        "id": "Bg5dIljWbypf",
        "outputId": "d4e39c8f-1fe4-4501-e496-d0ac164703ad"
      },
      "outputs": [
        {
          "output_type": "execute_result",
          "data": {
            "text/plain": [
              "                                Value   Share\n",
              "Area                                         \n",
              "Russian Federation        50193758.75  14.697\n",
              "China, mainland           38827723.02  11.369\n",
              "Canada                    28587523.30   8.371\n",
              "United States of America  16970898.46   4.969\n",
              "Morocco                   16939164.59   4.960\n",
              "Belarus                   14740787.70   4.316\n",
              "Saudi Arabia              13880398.43   4.064\n",
              "Germany                   12201859.19   3.573\n",
              "Netherlands               10972021.96   3.213\n",
              "Belgium                   10545488.23   3.088"
            ],
            "text/html": [
              "\n",
              "  <div id=\"df-ca4e2a74-09b8-4866-84e5-741f813db07d\">\n",
              "    <div class=\"colab-df-container\">\n",
              "      <div>\n",
              "<style scoped>\n",
              "    .dataframe tbody tr th:only-of-type {\n",
              "        vertical-align: middle;\n",
              "    }\n",
              "\n",
              "    .dataframe tbody tr th {\n",
              "        vertical-align: top;\n",
              "    }\n",
              "\n",
              "    .dataframe thead th {\n",
              "        text-align: right;\n",
              "    }\n",
              "</style>\n",
              "<table border=\"1\" class=\"dataframe\">\n",
              "  <thead>\n",
              "    <tr style=\"text-align: right;\">\n",
              "      <th></th>\n",
              "      <th>Value</th>\n",
              "      <th>Share</th>\n",
              "    </tr>\n",
              "    <tr>\n",
              "      <th>Area</th>\n",
              "      <th></th>\n",
              "      <th></th>\n",
              "    </tr>\n",
              "  </thead>\n",
              "  <tbody>\n",
              "    <tr>\n",
              "      <th>Russian Federation</th>\n",
              "      <td>50193758.75</td>\n",
              "      <td>14.697</td>\n",
              "    </tr>\n",
              "    <tr>\n",
              "      <th>China, mainland</th>\n",
              "      <td>38827723.02</td>\n",
              "      <td>11.369</td>\n",
              "    </tr>\n",
              "    <tr>\n",
              "      <th>Canada</th>\n",
              "      <td>28587523.30</td>\n",
              "      <td>8.371</td>\n",
              "    </tr>\n",
              "    <tr>\n",
              "      <th>United States of America</th>\n",
              "      <td>16970898.46</td>\n",
              "      <td>4.969</td>\n",
              "    </tr>\n",
              "    <tr>\n",
              "      <th>Morocco</th>\n",
              "      <td>16939164.59</td>\n",
              "      <td>4.960</td>\n",
              "    </tr>\n",
              "    <tr>\n",
              "      <th>Belarus</th>\n",
              "      <td>14740787.70</td>\n",
              "      <td>4.316</td>\n",
              "    </tr>\n",
              "    <tr>\n",
              "      <th>Saudi Arabia</th>\n",
              "      <td>13880398.43</td>\n",
              "      <td>4.064</td>\n",
              "    </tr>\n",
              "    <tr>\n",
              "      <th>Germany</th>\n",
              "      <td>12201859.19</td>\n",
              "      <td>3.573</td>\n",
              "    </tr>\n",
              "    <tr>\n",
              "      <th>Netherlands</th>\n",
              "      <td>10972021.96</td>\n",
              "      <td>3.213</td>\n",
              "    </tr>\n",
              "    <tr>\n",
              "      <th>Belgium</th>\n",
              "      <td>10545488.23</td>\n",
              "      <td>3.088</td>\n",
              "    </tr>\n",
              "  </tbody>\n",
              "</table>\n",
              "</div>\n",
              "      <button class=\"colab-df-convert\" onclick=\"convertToInteractive('df-ca4e2a74-09b8-4866-84e5-741f813db07d')\"\n",
              "              title=\"Convert this dataframe to an interactive table.\"\n",
              "              style=\"display:none;\">\n",
              "        \n",
              "  <svg xmlns=\"http://www.w3.org/2000/svg\" height=\"24px\"viewBox=\"0 0 24 24\"\n",
              "       width=\"24px\">\n",
              "    <path d=\"M0 0h24v24H0V0z\" fill=\"none\"/>\n",
              "    <path d=\"M18.56 5.44l.94 2.06.94-2.06 2.06-.94-2.06-.94-.94-2.06-.94 2.06-2.06.94zm-11 1L8.5 8.5l.94-2.06 2.06-.94-2.06-.94L8.5 2.5l-.94 2.06-2.06.94zm10 10l.94 2.06.94-2.06 2.06-.94-2.06-.94-.94-2.06-.94 2.06-2.06.94z\"/><path d=\"M17.41 7.96l-1.37-1.37c-.4-.4-.92-.59-1.43-.59-.52 0-1.04.2-1.43.59L10.3 9.45l-7.72 7.72c-.78.78-.78 2.05 0 2.83L4 21.41c.39.39.9.59 1.41.59.51 0 1.02-.2 1.41-.59l7.78-7.78 2.81-2.81c.8-.78.8-2.07 0-2.86zM5.41 20L4 18.59l7.72-7.72 1.47 1.35L5.41 20z\"/>\n",
              "  </svg>\n",
              "      </button>\n",
              "      \n",
              "  <style>\n",
              "    .colab-df-container {\n",
              "      display:flex;\n",
              "      flex-wrap:wrap;\n",
              "      gap: 12px;\n",
              "    }\n",
              "\n",
              "    .colab-df-convert {\n",
              "      background-color: #E8F0FE;\n",
              "      border: none;\n",
              "      border-radius: 50%;\n",
              "      cursor: pointer;\n",
              "      display: none;\n",
              "      fill: #1967D2;\n",
              "      height: 32px;\n",
              "      padding: 0 0 0 0;\n",
              "      width: 32px;\n",
              "    }\n",
              "\n",
              "    .colab-df-convert:hover {\n",
              "      background-color: #E2EBFA;\n",
              "      box-shadow: 0px 1px 2px rgba(60, 64, 67, 0.3), 0px 1px 3px 1px rgba(60, 64, 67, 0.15);\n",
              "      fill: #174EA6;\n",
              "    }\n",
              "\n",
              "    [theme=dark] .colab-df-convert {\n",
              "      background-color: #3B4455;\n",
              "      fill: #D2E3FC;\n",
              "    }\n",
              "\n",
              "    [theme=dark] .colab-df-convert:hover {\n",
              "      background-color: #434B5C;\n",
              "      box-shadow: 0px 1px 3px 1px rgba(0, 0, 0, 0.15);\n",
              "      filter: drop-shadow(0px 1px 2px rgba(0, 0, 0, 0.3));\n",
              "      fill: #FFFFFF;\n",
              "    }\n",
              "  </style>\n",
              "\n",
              "      <script>\n",
              "        const buttonEl =\n",
              "          document.querySelector('#df-ca4e2a74-09b8-4866-84e5-741f813db07d button.colab-df-convert');\n",
              "        buttonEl.style.display =\n",
              "          google.colab.kernel.accessAllowed ? 'block' : 'none';\n",
              "\n",
              "        async function convertToInteractive(key) {\n",
              "          const element = document.querySelector('#df-ca4e2a74-09b8-4866-84e5-741f813db07d');\n",
              "          const dataTable =\n",
              "            await google.colab.kernel.invokeFunction('convertToInteractive',\n",
              "                                                     [key], {});\n",
              "          if (!dataTable) return;\n",
              "\n",
              "          const docLinkHtml = 'Like what you see? Visit the ' +\n",
              "            '<a target=\"_blank\" href=https://colab.research.google.com/notebooks/data_table.ipynb>data table notebook</a>'\n",
              "            + ' to learn more about interactive tables.';\n",
              "          element.innerHTML = '';\n",
              "          dataTable['output_type'] = 'display_data';\n",
              "          await google.colab.output.renderOutput(dataTable, element);\n",
              "          const docLink = document.createElement('div');\n",
              "          docLink.innerHTML = docLinkHtml;\n",
              "          element.appendChild(docLink);\n",
              "        }\n",
              "      </script>\n",
              "    </div>\n",
              "  </div>\n",
              "  "
            ]
          },
          "metadata": {},
          "execution_count": 26
        }
      ],
      "source": [
        "item_export_value.head(10)"
      ]
    },
    {
      "cell_type": "markdown",
      "metadata": {
        "id": "_mM0GCkClekY"
      },
      "source": [
        "***Топ-10 стран, осуществляющие экспорт удобрений, в 1000 US $***"
      ]
    },
    {
      "cell_type": "code",
      "execution_count": 27,
      "metadata": {
        "id": "QO0rdsGh_Kf9"
      },
      "outputs": [],
      "source": [
        "item_export_quantity=df.query('Element==\"Export Quantity\"').groupby(('Area')).agg({'Value':'sum'}).sort_values(by='Value', ascending=False)"
      ]
    },
    {
      "cell_type": "code",
      "execution_count": 28,
      "metadata": {
        "id": "_FRhDIw_mnnm"
      },
      "outputs": [],
      "source": [
        "differense = []\n",
        "for i in range(len(item_export_value)):\n",
        "  differense.append(round((item_export_quantity['Value'][i]/item_export_quantity['Value'].sum() * 100),3))\n",
        "item_export_quantity['Share'] = differense"
      ]
    },
    {
      "cell_type": "code",
      "execution_count": 29,
      "metadata": {
        "colab": {
          "base_uri": "https://localhost:8080/",
          "height": 394
        },
        "id": "DutPPZnHnxHV",
        "outputId": "42c50008-9630-4d9f-f013-a956ed4275ad"
      },
      "outputs": [
        {
          "output_type": "execute_result",
          "data": {
            "text/plain": [
              "                                 Value   Share\n",
              "Area                                          \n",
              "Russian Federation        2.183365e+08  16.799\n",
              "China, mainland           1.442028e+08  11.095\n",
              "Canada                    1.108539e+08   8.529\n",
              "Morocco                   8.466260e+07   6.514\n",
              "Belarus                   5.605289e+07   4.313\n",
              "United States of America  4.645346e+07   3.574\n",
              "Netherlands               4.522526e+07   3.480\n",
              "Saudi Arabia              4.132668e+07   3.180\n",
              "Germany                   3.986907e+07   3.068\n",
              "Belgium                   3.674015e+07   2.827"
            ],
            "text/html": [
              "\n",
              "  <div id=\"df-2e750b7b-6d62-4e08-a425-1f2387b8cd8a\">\n",
              "    <div class=\"colab-df-container\">\n",
              "      <div>\n",
              "<style scoped>\n",
              "    .dataframe tbody tr th:only-of-type {\n",
              "        vertical-align: middle;\n",
              "    }\n",
              "\n",
              "    .dataframe tbody tr th {\n",
              "        vertical-align: top;\n",
              "    }\n",
              "\n",
              "    .dataframe thead th {\n",
              "        text-align: right;\n",
              "    }\n",
              "</style>\n",
              "<table border=\"1\" class=\"dataframe\">\n",
              "  <thead>\n",
              "    <tr style=\"text-align: right;\">\n",
              "      <th></th>\n",
              "      <th>Value</th>\n",
              "      <th>Share</th>\n",
              "    </tr>\n",
              "    <tr>\n",
              "      <th>Area</th>\n",
              "      <th></th>\n",
              "      <th></th>\n",
              "    </tr>\n",
              "  </thead>\n",
              "  <tbody>\n",
              "    <tr>\n",
              "      <th>Russian Federation</th>\n",
              "      <td>2.183365e+08</td>\n",
              "      <td>16.799</td>\n",
              "    </tr>\n",
              "    <tr>\n",
              "      <th>China, mainland</th>\n",
              "      <td>1.442028e+08</td>\n",
              "      <td>11.095</td>\n",
              "    </tr>\n",
              "    <tr>\n",
              "      <th>Canada</th>\n",
              "      <td>1.108539e+08</td>\n",
              "      <td>8.529</td>\n",
              "    </tr>\n",
              "    <tr>\n",
              "      <th>Morocco</th>\n",
              "      <td>8.466260e+07</td>\n",
              "      <td>6.514</td>\n",
              "    </tr>\n",
              "    <tr>\n",
              "      <th>Belarus</th>\n",
              "      <td>5.605289e+07</td>\n",
              "      <td>4.313</td>\n",
              "    </tr>\n",
              "    <tr>\n",
              "      <th>United States of America</th>\n",
              "      <td>4.645346e+07</td>\n",
              "      <td>3.574</td>\n",
              "    </tr>\n",
              "    <tr>\n",
              "      <th>Netherlands</th>\n",
              "      <td>4.522526e+07</td>\n",
              "      <td>3.480</td>\n",
              "    </tr>\n",
              "    <tr>\n",
              "      <th>Saudi Arabia</th>\n",
              "      <td>4.132668e+07</td>\n",
              "      <td>3.180</td>\n",
              "    </tr>\n",
              "    <tr>\n",
              "      <th>Germany</th>\n",
              "      <td>3.986907e+07</td>\n",
              "      <td>3.068</td>\n",
              "    </tr>\n",
              "    <tr>\n",
              "      <th>Belgium</th>\n",
              "      <td>3.674015e+07</td>\n",
              "      <td>2.827</td>\n",
              "    </tr>\n",
              "  </tbody>\n",
              "</table>\n",
              "</div>\n",
              "      <button class=\"colab-df-convert\" onclick=\"convertToInteractive('df-2e750b7b-6d62-4e08-a425-1f2387b8cd8a')\"\n",
              "              title=\"Convert this dataframe to an interactive table.\"\n",
              "              style=\"display:none;\">\n",
              "        \n",
              "  <svg xmlns=\"http://www.w3.org/2000/svg\" height=\"24px\"viewBox=\"0 0 24 24\"\n",
              "       width=\"24px\">\n",
              "    <path d=\"M0 0h24v24H0V0z\" fill=\"none\"/>\n",
              "    <path d=\"M18.56 5.44l.94 2.06.94-2.06 2.06-.94-2.06-.94-.94-2.06-.94 2.06-2.06.94zm-11 1L8.5 8.5l.94-2.06 2.06-.94-2.06-.94L8.5 2.5l-.94 2.06-2.06.94zm10 10l.94 2.06.94-2.06 2.06-.94-2.06-.94-.94-2.06-.94 2.06-2.06.94z\"/><path d=\"M17.41 7.96l-1.37-1.37c-.4-.4-.92-.59-1.43-.59-.52 0-1.04.2-1.43.59L10.3 9.45l-7.72 7.72c-.78.78-.78 2.05 0 2.83L4 21.41c.39.39.9.59 1.41.59.51 0 1.02-.2 1.41-.59l7.78-7.78 2.81-2.81c.8-.78.8-2.07 0-2.86zM5.41 20L4 18.59l7.72-7.72 1.47 1.35L5.41 20z\"/>\n",
              "  </svg>\n",
              "      </button>\n",
              "      \n",
              "  <style>\n",
              "    .colab-df-container {\n",
              "      display:flex;\n",
              "      flex-wrap:wrap;\n",
              "      gap: 12px;\n",
              "    }\n",
              "\n",
              "    .colab-df-convert {\n",
              "      background-color: #E8F0FE;\n",
              "      border: none;\n",
              "      border-radius: 50%;\n",
              "      cursor: pointer;\n",
              "      display: none;\n",
              "      fill: #1967D2;\n",
              "      height: 32px;\n",
              "      padding: 0 0 0 0;\n",
              "      width: 32px;\n",
              "    }\n",
              "\n",
              "    .colab-df-convert:hover {\n",
              "      background-color: #E2EBFA;\n",
              "      box-shadow: 0px 1px 2px rgba(60, 64, 67, 0.3), 0px 1px 3px 1px rgba(60, 64, 67, 0.15);\n",
              "      fill: #174EA6;\n",
              "    }\n",
              "\n",
              "    [theme=dark] .colab-df-convert {\n",
              "      background-color: #3B4455;\n",
              "      fill: #D2E3FC;\n",
              "    }\n",
              "\n",
              "    [theme=dark] .colab-df-convert:hover {\n",
              "      background-color: #434B5C;\n",
              "      box-shadow: 0px 1px 3px 1px rgba(0, 0, 0, 0.15);\n",
              "      filter: drop-shadow(0px 1px 2px rgba(0, 0, 0, 0.3));\n",
              "      fill: #FFFFFF;\n",
              "    }\n",
              "  </style>\n",
              "\n",
              "      <script>\n",
              "        const buttonEl =\n",
              "          document.querySelector('#df-2e750b7b-6d62-4e08-a425-1f2387b8cd8a button.colab-df-convert');\n",
              "        buttonEl.style.display =\n",
              "          google.colab.kernel.accessAllowed ? 'block' : 'none';\n",
              "\n",
              "        async function convertToInteractive(key) {\n",
              "          const element = document.querySelector('#df-2e750b7b-6d62-4e08-a425-1f2387b8cd8a');\n",
              "          const dataTable =\n",
              "            await google.colab.kernel.invokeFunction('convertToInteractive',\n",
              "                                                     [key], {});\n",
              "          if (!dataTable) return;\n",
              "\n",
              "          const docLinkHtml = 'Like what you see? Visit the ' +\n",
              "            '<a target=\"_blank\" href=https://colab.research.google.com/notebooks/data_table.ipynb>data table notebook</a>'\n",
              "            + ' to learn more about interactive tables.';\n",
              "          element.innerHTML = '';\n",
              "          dataTable['output_type'] = 'display_data';\n",
              "          await google.colab.output.renderOutput(dataTable, element);\n",
              "          const docLink = document.createElement('div');\n",
              "          docLink.innerHTML = docLinkHtml;\n",
              "          element.appendChild(docLink);\n",
              "        }\n",
              "      </script>\n",
              "    </div>\n",
              "  </div>\n",
              "  "
            ]
          },
          "metadata": {},
          "execution_count": 29
        }
      ],
      "source": [
        "item_export_quantity.head(10)"
      ]
    },
    {
      "cell_type": "code",
      "execution_count": 30,
      "metadata": {
        "colab": {
          "base_uri": "https://localhost:8080/",
          "height": 519
        },
        "id": "1Cnqw3hfJsbx",
        "outputId": "49e82b45-89b6-4e8c-e9b1-c1511758e922"
      },
      "outputs": [
        {
          "output_type": "display_data",
          "data": {
            "text/plain": [
              "<Figure size 1296x432 with 2 Axes>"
            ],
            "image/png": "[encoded data removed]"
          },
          "metadata": {
            "needs_background": "light"
          }
        }
      ],
      "source": [
        "fig, axes = plt.subplots(1,2, figsize=(25,20))       \n",
        "\n",
        "item_export_quantity.head(10).plot(kind='bar', figsize=(18,6), legend = True, color = 'lavender',edgecolor='black',linewidth=2, ax=axes[0]);\n",
        "axes[0].set_title('Экспорт удобрений, тонны');\n",
        "axes[0].set_ylabel('Тонны')\n",
        "axes[0].set_xlabel('Страна')\n",
        "item_export_value.head(10).plot(kind='bar', figsize=(18,6), legend = True, color = 'lavender',edgecolor='black',linewidth=2, ax=axes[1]);\n",
        "axes[1].set_title('Экспорт удобрений, 1000 US$')\n",
        "axes[1].set_ylabel('1000 US$')\n",
        "axes[1].set_xlabel('Страна');  "
      ]
    },
    {
      "cell_type": "markdown",
      "metadata": {
        "id": "gGtnx3YLcTmp"
      },
      "source": [
        "Лидеры топ-5 по экспорту удобрений в тоннах являются следующие страны:\n",
        "- Российская Федерация (Russian Federation)\n",
        "- Материковый Китай (China, mainland)\n",
        "- Канада (Canada)\n",
        "- Морокко (Morocco)\n",
        "- Беларусь (Belarus)\n",
        "\n",
        "Лидеры топ-5 по экспорту удобрений в $ являются следующие страны:\n",
        "- Российская Федерация (Russian Federation)\n",
        "- Материковый Китай (China, mainland)\n",
        "- Канада (Canada)\n",
        "- Соединенные штаты Америки (United States of America)\n",
        "- Морокко (Morocco)\n"
      ]
    },
    {
      "cell_type": "markdown",
      "metadata": {
        "id": "2QSGQW3TrpMj"
      },
      "source": [
        "***Топ-10 стран, использующие удобрения в с/х, тонны***"
      ]
    },
    {
      "cell_type": "code",
      "execution_count": 31,
      "metadata": {
        "id": "l3sS7Wi2CDO1"
      },
      "outputs": [],
      "source": [
        "item_agricultural_use=df.query('Element==\"Agricultural Use\"').groupby(('Area')).agg({'Value':'sum'}).sort_values(by='Value', ascending=False)"
      ]
    },
    {
      "cell_type": "code",
      "execution_count": 32,
      "metadata": {
        "id": "jOYa8tHFfUlV"
      },
      "outputs": [],
      "source": [
        "differense = []\n",
        "for i in range(len(item_agricultural_use)):\n",
        "  differense.append(round((item_agricultural_use['Value'][i]/item_agricultural_use['Value'].sum() * 100),3))\n",
        "item_agricultural_use['Share'] = differense"
      ]
    },
    {
      "cell_type": "code",
      "execution_count": 33,
      "metadata": {
        "colab": {
          "base_uri": "https://localhost:8080/",
          "height": 394
        },
        "id": "dI7jKjJZfbIT",
        "outputId": "8013ffa2-6b78-46d4-8492-fd869e3e9e4d"
      },
      "outputs": [
        {
          "output_type": "execute_result",
          "data": {
            "text/plain": [
              "                                 Value   Share\n",
              "Area                                          \n",
              "India                     3.124148e+08  30.760\n",
              "United States of America  2.248606e+08  22.140\n",
              "Indonesia                 4.887366e+07   4.812\n",
              "Pakistan                  4.661049e+07   4.589\n",
              "Egypt                     4.300456e+07   4.234\n",
              "Canada                    4.123600e+07   4.060\n",
              "France                    3.520243e+07   3.466\n",
              "Mexico                    3.442487e+07   3.389\n",
              "Turkiye                   2.651210e+07   2.610\n",
              "Bangladesh                2.335600e+07   2.300"
            ],
            "text/html": [
              "\n",
              "  <div id=\"df-754d6051-2c74-4055-9f80-01f6172605d9\">\n",
              "    <div class=\"colab-df-container\">\n",
              "      <div>\n",
              "<style scoped>\n",
              "    .dataframe tbody tr th:only-of-type {\n",
              "        vertical-align: middle;\n",
              "    }\n",
              "\n",
              "    .dataframe tbody tr th {\n",
              "        vertical-align: top;\n",
              "    }\n",
              "\n",
              "    .dataframe thead th {\n",
              "        text-align: right;\n",
              "    }\n",
              "</style>\n",
              "<table border=\"1\" class=\"dataframe\">\n",
              "  <thead>\n",
              "    <tr style=\"text-align: right;\">\n",
              "      <th></th>\n",
              "      <th>Value</th>\n",
              "      <th>Share</th>\n",
              "    </tr>\n",
              "    <tr>\n",
              "      <th>Area</th>\n",
              "      <th></th>\n",
              "      <th></th>\n",
              "    </tr>\n",
              "  </thead>\n",
              "  <tbody>\n",
              "    <tr>\n",
              "      <th>India</th>\n",
              "      <td>3.124148e+08</td>\n",
              "      <td>30.760</td>\n",
              "    </tr>\n",
              "    <tr>\n",
              "      <th>United States of America</th>\n",
              "      <td>2.248606e+08</td>\n",
              "      <td>22.140</td>\n",
              "    </tr>\n",
              "    <tr>\n",
              "      <th>Indonesia</th>\n",
              "      <td>4.887366e+07</td>\n",
              "      <td>4.812</td>\n",
              "    </tr>\n",
              "    <tr>\n",
              "      <th>Pakistan</th>\n",
              "      <td>4.661049e+07</td>\n",
              "      <td>4.589</td>\n",
              "    </tr>\n",
              "    <tr>\n",
              "      <th>Egypt</th>\n",
              "      <td>4.300456e+07</td>\n",
              "      <td>4.234</td>\n",
              "    </tr>\n",
              "    <tr>\n",
              "      <th>Canada</th>\n",
              "      <td>4.123600e+07</td>\n",
              "      <td>4.060</td>\n",
              "    </tr>\n",
              "    <tr>\n",
              "      <th>France</th>\n",
              "      <td>3.520243e+07</td>\n",
              "      <td>3.466</td>\n",
              "    </tr>\n",
              "    <tr>\n",
              "      <th>Mexico</th>\n",
              "      <td>3.442487e+07</td>\n",
              "      <td>3.389</td>\n",
              "    </tr>\n",
              "    <tr>\n",
              "      <th>Turkiye</th>\n",
              "      <td>2.651210e+07</td>\n",
              "      <td>2.610</td>\n",
              "    </tr>\n",
              "    <tr>\n",
              "      <th>Bangladesh</th>\n",
              "      <td>2.335600e+07</td>\n",
              "      <td>2.300</td>\n",
              "    </tr>\n",
              "  </tbody>\n",
              "</table>\n",
              "</div>\n",
              "      <button class=\"colab-df-convert\" onclick=\"convertToInteractive('df-754d6051-2c74-4055-9f80-01f6172605d9')\"\n",
              "              title=\"Convert this dataframe to an interactive table.\"\n",
              "              style=\"display:none;\">\n",
              "        \n",
              "  <svg xmlns=\"http://www.w3.org/2000/svg\" height=\"24px\"viewBox=\"0 0 24 24\"\n",
              "       width=\"24px\">\n",
              "    <path d=\"M0 0h24v24H0V0z\" fill=\"none\"/>\n",
              "    <path d=\"M18.56 5.44l.94 2.06.94-2.06 2.06-.94-2.06-.94-.94-2.06-.94 2.06-2.06.94zm-11 1L8.5 8.5l.94-2.06 2.06-.94-2.06-.94L8.5 2.5l-.94 2.06-2.06.94zm10 10l.94 2.06.94-2.06 2.06-.94-2.06-.94-.94-2.06-.94 2.06-2.06.94z\"/><path d=\"M17.41 7.96l-1.37-1.37c-.4-.4-.92-.59-1.43-.59-.52 0-1.04.2-1.43.59L10.3 9.45l-7.72 7.72c-.78.78-.78 2.05 0 2.83L4 21.41c.39.39.9.59 1.41.59.51 0 1.02-.2 1.41-.59l7.78-7.78 2.81-2.81c.8-.78.8-2.07 0-2.86zM5.41 20L4 18.59l7.72-7.72 1.47 1.35L5.41 20z\"/>\n",
              "  </svg>\n",
              "      </button>\n",
              "      \n",
              "  <style>\n",
              "    .colab-df-container {\n",
              "      display:flex;\n",
              "      flex-wrap:wrap;\n",
              "      gap: 12px;\n",
              "    }\n",
              "\n",
              "    .colab-df-convert {\n",
              "      background-color: #E8F0FE;\n",
              "      border: none;\n",
              "      border-radius: 50%;\n",
              "      cursor: pointer;\n",
              "      display: none;\n",
              "      fill: #1967D2;\n",
              "      height: 32px;\n",
              "      padding: 0 0 0 0;\n",
              "      width: 32px;\n",
              "    }\n",
              "\n",
              "    .colab-df-convert:hover {\n",
              "      background-color: #E2EBFA;\n",
              "      box-shadow: 0px 1px 2px rgba(60, 64, 67, 0.3), 0px 1px 3px 1px rgba(60, 64, 67, 0.15);\n",
              "      fill: #174EA6;\n",
              "    }\n",
              "\n",
              "    [theme=dark] .colab-df-convert {\n",
              "      background-color: #3B4455;\n",
              "      fill: #D2E3FC;\n",
              "    }\n",
              "\n",
              "    [theme=dark] .colab-df-convert:hover {\n",
              "      background-color: #434B5C;\n",
              "      box-shadow: 0px 1px 3px 1px rgba(0, 0, 0, 0.15);\n",
              "      filter: drop-shadow(0px 1px 2px rgba(0, 0, 0, 0.3));\n",
              "      fill: #FFFFFF;\n",
              "    }\n",
              "  </style>\n",
              "\n",
              "      <script>\n",
              "        const buttonEl =\n",
              "          document.querySelector('#df-754d6051-2c74-4055-9f80-01f6172605d9 button.colab-df-convert');\n",
              "        buttonEl.style.display =\n",
              "          google.colab.kernel.accessAllowed ? 'block' : 'none';\n",
              "\n",
              "        async function convertToInteractive(key) {\n",
              "          const element = document.querySelector('#df-754d6051-2c74-4055-9f80-01f6172605d9');\n",
              "          const dataTable =\n",
              "            await google.colab.kernel.invokeFunction('convertToInteractive',\n",
              "                                                     [key], {});\n",
              "          if (!dataTable) return;\n",
              "\n",
              "          const docLinkHtml = 'Like what you see? Visit the ' +\n",
              "            '<a target=\"_blank\" href=https://colab.research.google.com/notebooks/data_table.ipynb>data table notebook</a>'\n",
              "            + ' to learn more about interactive tables.';\n",
              "          element.innerHTML = '';\n",
              "          dataTable['output_type'] = 'display_data';\n",
              "          await google.colab.output.renderOutput(dataTable, element);\n",
              "          const docLink = document.createElement('div');\n",
              "          docLink.innerHTML = docLinkHtml;\n",
              "          element.appendChild(docLink);\n",
              "        }\n",
              "      </script>\n",
              "    </div>\n",
              "  </div>\n",
              "  "
            ]
          },
          "metadata": {},
          "execution_count": 33
        }
      ],
      "source": [
        "item_agricultural_use.head(10)"
      ]
    },
    {
      "cell_type": "markdown",
      "metadata": {
        "id": "09Yn9gCAuOpg"
      },
      "source": [
        "***Топ-10 стран, производящие удобрения, тонны***"
      ]
    },
    {
      "cell_type": "code",
      "execution_count": 34,
      "metadata": {
        "id": "kTxK4XgJCaFy"
      },
      "outputs": [],
      "source": [
        "item_production=df.query('Element==\"Production\"').groupby(('Area')).agg({'Value':'sum'}).sort_values(by='Value', ascending=False)"
      ]
    },
    {
      "cell_type": "code",
      "execution_count": 35,
      "metadata": {
        "id": "YLKkOXuZfd80"
      },
      "outputs": [],
      "source": [
        "differense = []\n",
        "for i in range(len(item_production)):\n",
        "  differense.append(round((item_production['Value'][i]/item_production['Value'].sum() * 100),3))\n",
        "item_production['Share'] = differense"
      ]
    },
    {
      "cell_type": "code",
      "execution_count": 36,
      "metadata": {
        "colab": {
          "base_uri": "https://localhost:8080/",
          "height": 394
        },
        "id": "Z09QcMsZfkgr",
        "outputId": "38186003-21bc-4ded-a5e8-49e672844075"
      },
      "outputs": [
        {
          "output_type": "execute_result",
          "data": {
            "text/plain": [
              "                                 Value   Share\n",
              "Area                                          \n",
              "United States of America  2.924036e+08  18.599\n",
              "Russian Federation        2.233199e+08  14.205\n",
              "India                     2.102689e+08  13.375\n",
              "Canada                    1.161800e+08   7.390\n",
              "Belarus                   7.760145e+07   4.936\n",
              "Brazil                    7.277818e+07   4.629\n",
              "Indonesia                 5.627569e+07   3.580\n",
              "Poland                    5.204427e+07   3.310\n",
              "Viet Nam                  4.631730e+07   2.946\n",
              "Egypt                     4.500628e+07   2.863"
            ],
            "text/html": [
              "\n",
              "  <div id=\"df-3398cecd-f179-4f77-a077-dc13fad9fac8\">\n",
              "    <div class=\"colab-df-container\">\n",
              "      <div>\n",
              "<style scoped>\n",
              "    .dataframe tbody tr th:only-of-type {\n",
              "        vertical-align: middle;\n",
              "    }\n",
              "\n",
              "    .dataframe tbody tr th {\n",
              "        vertical-align: top;\n",
              "    }\n",
              "\n",
              "    .dataframe thead th {\n",
              "        text-align: right;\n",
              "    }\n",
              "</style>\n",
              "<table border=\"1\" class=\"dataframe\">\n",
              "  <thead>\n",
              "    <tr style=\"text-align: right;\">\n",
              "      <th></th>\n",
              "      <th>Value</th>\n",
              "      <th>Share</th>\n",
              "    </tr>\n",
              "    <tr>\n",
              "      <th>Area</th>\n",
              "      <th></th>\n",
              "      <th></th>\n",
              "    </tr>\n",
              "  </thead>\n",
              "  <tbody>\n",
              "    <tr>\n",
              "      <th>United States of America</th>\n",
              "      <td>2.924036e+08</td>\n",
              "      <td>18.599</td>\n",
              "    </tr>\n",
              "    <tr>\n",
              "      <th>Russian Federation</th>\n",
              "      <td>2.233199e+08</td>\n",
              "      <td>14.205</td>\n",
              "    </tr>\n",
              "    <tr>\n",
              "      <th>India</th>\n",
              "      <td>2.102689e+08</td>\n",
              "      <td>13.375</td>\n",
              "    </tr>\n",
              "    <tr>\n",
              "      <th>Canada</th>\n",
              "      <td>1.161800e+08</td>\n",
              "      <td>7.390</td>\n",
              "    </tr>\n",
              "    <tr>\n",
              "      <th>Belarus</th>\n",
              "      <td>7.760145e+07</td>\n",
              "      <td>4.936</td>\n",
              "    </tr>\n",
              "    <tr>\n",
              "      <th>Brazil</th>\n",
              "      <td>7.277818e+07</td>\n",
              "      <td>4.629</td>\n",
              "    </tr>\n",
              "    <tr>\n",
              "      <th>Indonesia</th>\n",
              "      <td>5.627569e+07</td>\n",
              "      <td>3.580</td>\n",
              "    </tr>\n",
              "    <tr>\n",
              "      <th>Poland</th>\n",
              "      <td>5.204427e+07</td>\n",
              "      <td>3.310</td>\n",
              "    </tr>\n",
              "    <tr>\n",
              "      <th>Viet Nam</th>\n",
              "      <td>4.631730e+07</td>\n",
              "      <td>2.946</td>\n",
              "    </tr>\n",
              "    <tr>\n",
              "      <th>Egypt</th>\n",
              "      <td>4.500628e+07</td>\n",
              "      <td>2.863</td>\n",
              "    </tr>\n",
              "  </tbody>\n",
              "</table>\n",
              "</div>\n",
              "      <button class=\"colab-df-convert\" onclick=\"convertToInteractive('df-3398cecd-f179-4f77-a077-dc13fad9fac8')\"\n",
              "              title=\"Convert this dataframe to an interactive table.\"\n",
              "              style=\"display:none;\">\n",
              "        \n",
              "  <svg xmlns=\"http://www.w3.org/2000/svg\" height=\"24px\"viewBox=\"0 0 24 24\"\n",
              "       width=\"24px\">\n",
              "    <path d=\"M0 0h24v24H0V0z\" fill=\"none\"/>\n",
              "    <path d=\"M18.56 5.44l.94 2.06.94-2.06 2.06-.94-2.06-.94-.94-2.06-.94 2.06-2.06.94zm-11 1L8.5 8.5l.94-2.06 2.06-.94-2.06-.94L8.5 2.5l-.94 2.06-2.06.94zm10 10l.94 2.06.94-2.06 2.06-.94-2.06-.94-.94-2.06-.94 2.06-2.06.94z\"/><path d=\"M17.41 7.96l-1.37-1.37c-.4-.4-.92-.59-1.43-.59-.52 0-1.04.2-1.43.59L10.3 9.45l-7.72 7.72c-.78.78-.78 2.05 0 2.83L4 21.41c.39.39.9.59 1.41.59.51 0 1.02-.2 1.41-.59l7.78-7.78 2.81-2.81c.8-.78.8-2.07 0-2.86zM5.41 20L4 18.59l7.72-7.72 1.47 1.35L5.41 20z\"/>\n",
              "  </svg>\n",
              "      </button>\n",
              "      \n",
              "  <style>\n",
              "    .colab-df-container {\n",
              "      display:flex;\n",
              "      flex-wrap:wrap;\n",
              "      gap: 12px;\n",
              "    }\n",
              "\n",
              "    .colab-df-convert {\n",
              "      background-color: #E8F0FE;\n",
              "      border: none;\n",
              "      border-radius: 50%;\n",
              "      cursor: pointer;\n",
              "      display: none;\n",
              "      fill: #1967D2;\n",
              "      height: 32px;\n",
              "      padding: 0 0 0 0;\n",
              "      width: 32px;\n",
              "    }\n",
              "\n",
              "    .colab-df-convert:hover {\n",
              "      background-color: #E2EBFA;\n",
              "      box-shadow: 0px 1px 2px rgba(60, 64, 67, 0.3), 0px 1px 3px 1px rgba(60, 64, 67, 0.15);\n",
              "      fill: #174EA6;\n",
              "    }\n",
              "\n",
              "    [theme=dark] .colab-df-convert {\n",
              "      background-color: #3B4455;\n",
              "      fill: #D2E3FC;\n",
              "    }\n",
              "\n",
              "    [theme=dark] .colab-df-convert:hover {\n",
              "      background-color: #434B5C;\n",
              "      box-shadow: 0px 1px 3px 1px rgba(0, 0, 0, 0.15);\n",
              "      filter: drop-shadow(0px 1px 2px rgba(0, 0, 0, 0.3));\n",
              "      fill: #FFFFFF;\n",
              "    }\n",
              "  </style>\n",
              "\n",
              "      <script>\n",
              "        const buttonEl =\n",
              "          document.querySelector('#df-3398cecd-f179-4f77-a077-dc13fad9fac8 button.colab-df-convert');\n",
              "        buttonEl.style.display =\n",
              "          google.colab.kernel.accessAllowed ? 'block' : 'none';\n",
              "\n",
              "        async function convertToInteractive(key) {\n",
              "          const element = document.querySelector('#df-3398cecd-f179-4f77-a077-dc13fad9fac8');\n",
              "          const dataTable =\n",
              "            await google.colab.kernel.invokeFunction('convertToInteractive',\n",
              "                                                     [key], {});\n",
              "          if (!dataTable) return;\n",
              "\n",
              "          const docLinkHtml = 'Like what you see? Visit the ' +\n",
              "            '<a target=\"_blank\" href=https://colab.research.google.com/notebooks/data_table.ipynb>data table notebook</a>'\n",
              "            + ' to learn more about interactive tables.';\n",
              "          element.innerHTML = '';\n",
              "          dataTable['output_type'] = 'display_data';\n",
              "          await google.colab.output.renderOutput(dataTable, element);\n",
              "          const docLink = document.createElement('div');\n",
              "          docLink.innerHTML = docLinkHtml;\n",
              "          element.appendChild(docLink);\n",
              "        }\n",
              "      </script>\n",
              "    </div>\n",
              "  </div>\n",
              "  "
            ]
          },
          "metadata": {},
          "execution_count": 36
        }
      ],
      "source": [
        "item_production.head(10)"
      ]
    },
    {
      "cell_type": "code",
      "execution_count": 37,
      "metadata": {
        "colab": {
          "base_uri": "https://localhost:8080/",
          "height": 519
        },
        "id": "UwFLWc45LDRZ",
        "outputId": "6f1bba30-dc83-4677-c1c7-bf24b764c18b"
      },
      "outputs": [
        {
          "output_type": "display_data",
          "data": {
            "text/plain": [
              "<Figure size 1296x432 with 2 Axes>"
            ],
            "image/png": "[encoded data removed]"
          },
          "metadata": {
            "needs_background": "light"
          }
        }
      ],
      "source": [
        "fig, axes = plt.subplots(1,2, figsize=(25,20))       \n",
        "\n",
        "item_agricultural_use.head(10).plot(kind='bar', figsize=(18,6), legend = True, color = 'lavender',edgecolor='black',linewidth=2, ax=axes[0]);\n",
        "axes[0].set_title('Использование удобрений в сельском хозяйстве, тонны');\n",
        "axes[0].set_ylabel('Тонны')\n",
        "axes[0].set_xlabel('Страна')\n",
        "item_production.head(10).plot(kind='bar', figsize=(18,6), legend = True, color = 'lavender',edgecolor='black',linewidth=2, ax=axes[1]);\n",
        "axes[1].set_title('Производство удобрений, тонны')\n",
        "axes[1].set_ylabel('Тонны')\n",
        "axes[1].set_xlabel('Страна');  "
      ]
    },
    {
      "cell_type": "markdown",
      "metadata": {
        "id": "VJsPSwoQdNYp"
      },
      "source": [
        "Лидеры топ-5 по использованию удобрений в с/х (тонны) являются следующие страны:\n",
        "- Индия (India)\n",
        "- Соединенные штаты Америки (United States of America)\n",
        "- Индонезия (Indonesia)\n",
        "- Пакистан (Pakistan)\n",
        "- Египет (Egypt)\n",
        "\n",
        "Лидеры топ-5 по производству удобрений в с/х (тонны) являются следующие страны:\n",
        "- Соединенные штаты Америки (United States of America)\n",
        "- Российская Федерация (Russian Federation)\n",
        "- Индия (India)\n",
        "- Канада (Canada)\n",
        "- Белорусь (Belarus)\n"
      ]
    },
    {
      "cell_type": "markdown",
      "source": [
        "***Суммарное количество импорта/экспорта каждого вида удобрений с 2015 по 2019 года, тонны***"
      ],
      "metadata": {
        "id": "1Oz2LB0VQZ76"
      }
    },
    {
      "cell_type": "code",
      "source": [
        "df_item_import = df.query(\"Element=='Import Quantity'\").groupby(['Item'])['Value'].sum().sort_values(ascending=False)\n",
        "df_item_import"
      ],
      "metadata": {
        "colab": {
          "base_uri": "https://localhost:8080/"
        },
        "id": "plqUZUJ0M1mN",
        "outputId": "65e0768e-0521-48bd-9fbe-e0c4cace2a8c"
      },
      "execution_count": 38,
      "outputs": [
        {
          "output_type": "execute_result",
          "data": {
            "text/plain": [
              "Item\n",
              "Potassium chloride (muriate of potash) (MOP)                                2.612679e+08\n",
              "Urea                                                                        2.498038e+08\n",
              "Phosphate rock                                                              1.397876e+08\n",
              "Ammonia, anhydrous                                                          9.051075e+07\n",
              "NPK fertilizers                                                             8.494416e+07\n",
              "Diammonium phosphate (DAP)                                                  8.185997e+07\n",
              "Ammonium sulphate                                                           6.510836e+07\n",
              "Monoammonium phosphate (MAP)                                                5.114807e+07\n",
              "Calcium ammonium nitrate (CAN) and other mixtures with calcium carbonate    4.827450e+07\n",
              "Urea and ammonium nitrate solutions (UAN)                                   4.204385e+07\n",
              "Ammonium nitrate (AN)                                                       4.128223e+07\n",
              "Other NP compounds                                                          3.370541e+07\n",
              "Other nitrogenous fertilizers, n.e.c.                                       3.102190e+07\n",
              "Superphosphates above 35%                                                   2.288267e+07\n",
              "Fertilizers n.e.c.                                                          1.928939e+07\n",
              "Other phosphatic fertilizers, n.e.c.                                        1.125470e+07\n",
              "Potassium sulphate (sulphate of potash) (SOP)                               1.071683e+07\n",
              "Other potassic fertilizers, n.e.c.                                          7.548359e+06\n",
              "Superphosphates, other                                                      5.701309e+06\n",
              "Potassium nitrate                                                           4.986954e+06\n",
              "PK compounds                                                                3.981092e+06\n",
              "Sodium nitrate                                                              1.287207e+06\n",
              "Name: Value, dtype: float64"
            ]
          },
          "metadata": {},
          "execution_count": 38
        }
      ]
    },
    {
      "cell_type": "code",
      "source": [
        "df_item_import.plot(kind='bar', figsize=(18,6), legend = True, color = 'lavender',edgecolor='black',linewidth=2);"
      ],
      "metadata": {
        "colab": {
          "base_uri": "https://localhost:8080/",
          "height": 776
        },
        "id": "99SwTJeTa_y1",
        "outputId": "464f6e92-0ec9-48c5-ea9c-e90d92347c0b"
      },
      "execution_count": 39,
      "outputs": [
        {
          "output_type": "display_data",
          "data": {
            "text/plain": [
              "<Figure size 1296x432 with 1 Axes>"
            ],
            "image/png": "[encoded data removed]"
          },
          "metadata": {
            "needs_background": "light"
          }
        }
      ]
    },
    {
      "cell_type": "markdown",
      "source": [
        "Среди всех представленных видов удобрений больше всего экспорируют/импортируют(тонны) в период с 2015 по 2019 год следующие удобрения:\n",
        "\n",
        "- Potassium chloride (muriate of potash) (MOP) (Хлорид калия) - 2.612679e+08 т\n",
        "- Urea (Мочевина (или карбамид)) - 2.498038e+08 т\n",
        "- Phosphate rock (Фосфоритная мука) - 1.397876e+08 т\n",
        "- Ammonia, anhydrous (Аммиак) - 9.051075e+07 т\n",
        "- NPK fertilizers (комплексные удобрения) - 8.494416e+07 т\n",
        "\n",
        "Меньше всего экспортируют/импортируют в количественном эквиваленте:\n",
        "- Sodium nitrate (селитра натриевая) - 1.287207e+06 т.\n",
        "- PK compounds (фосфорно-калийные удобрения) - 3.981092e+06 т.\n",
        "- Potassium nitrate (селитра калиевая) - 4.986954e+06 т."
      ],
      "metadata": {
        "id": "vSKbvwNCOmfh"
      }
    },
    {
      "cell_type": "markdown",
      "source": [
        "**Суммарное количество импорта/экспорта каждого вида удобрений с 2015 по 2019 года, 1000 US $**"
      ],
      "metadata": {
        "id": "dCSeG0ylEEpk"
      }
    },
    {
      "cell_type": "code",
      "source": [
        "df_item_export_value = df.query(\"Element=='Export Value'\").groupby(['Item'])['Value'].sum().sort_values(ascending=False)\n",
        "df_item_export_value "
      ],
      "metadata": {
        "colab": {
          "base_uri": "https://localhost:8080/"
        },
        "id": "94quMFWiQSp8",
        "outputId": "46f23b06-34d4-4baf-d73a-dab0f1d9649d"
      },
      "execution_count": 65,
      "outputs": [
        {
          "output_type": "execute_result",
          "data": {
            "text/plain": [
              "Item\n",
              "Potassium chloride (muriate of potash) (MOP)                                67076317.93\n",
              "Urea                                                                        62907587.42\n",
              "Diammonium phosphate (DAP)                                                  34039361.23\n",
              "NPK fertilizers                                                             31782464.80\n",
              "Ammonia, anhydrous                                                          28237066.18\n",
              "Monoammonium phosphate (MAP)                                                21626366.87\n",
              "Phosphate rock                                                              13003256.24\n",
              "Other NP compounds                                                          10562642.77\n",
              "Ammonium nitrate (AN)                                                        9978272.53\n",
              "Calcium ammonium nitrate (CAN) and other mixtures with calcium carbonate     9956954.87\n",
              "Ammonium sulphate                                                            9184043.94\n",
              "Fertilizers n.e.c.                                                           8078844.18\n",
              "Other nitrogenous fertilizers, n.e.c.                                        7931160.52\n",
              "Urea and ammonium nitrate solutions (UAN)                                    7540767.75\n",
              "Superphosphates above 35%                                                    6885873.54\n",
              "Potassium sulphate (sulphate of potash) (SOP)                                4202699.97\n",
              "Potassium nitrate                                                            3947235.03\n",
              "Other potassic fertilizers, n.e.c.                                           1559260.83\n",
              "PK compounds                                                                 1301641.32\n",
              "Other phosphatic fertilizers, n.e.c.                                          630346.05\n",
              "Superphosphates, other                                                        550230.17\n",
              "Sodium nitrate                                                                541417.87\n",
              "Name: Value, dtype: float64"
            ]
          },
          "metadata": {},
          "execution_count": 65
        }
      ]
    },
    {
      "cell_type": "code",
      "source": [
        "df_item_export_value.plot(kind='bar', figsize=(18,6), legend = True, color = 'lavender',edgecolor='black',linewidth=2);"
      ],
      "metadata": {
        "id": "riIyTG8SVa6W"
      },
      "execution_count": null,
      "outputs": []
    },
    {
      "cell_type": "markdown",
      "source": [
        "Среди всех представленных видов удобрений больше всего экспортируют/ипортируют (1000 US $) в период с 2015 по 2019 год следующие удобрения:\n",
        "\n",
        "- Potassium chloride (muriate of potash) (MOP) (Хлорид калия) - 67076317.93\n",
        "- Urea (Мочевина (или карбамид)) - 62907587.42\n",
        "- Diammonium phosphate (DAP) (Диаммонийфосфат) - 34039361.23\n",
        "- NPK fertilizers (комплексные удобрения) - 31782464.80\n",
        "- Ammonia, anhydrous (Аммиак) - 28237066.18\n",
        "\n",
        "Меньше всего импортируют/экспортируют в денежном эквиваленте:\n",
        "- Sodium nitrate (селитра натриевая) - 541417.87.\n",
        "- Superphosphates, other - 550230.17\n",
        "- Other phosphatic fertilizers, n.e.c - 630346.05"
      ],
      "metadata": {
        "id": "lnGRoYaTlZki"
      }
    },
    {
      "cell_type": "markdown",
      "metadata": {
        "id": "t-zsWFjWCkXP"
      },
      "source": [
        "***Динамика производства каждого вида удобрений с 2015 по 2019 года, тонны***"
      ]
    },
    {
      "cell_type": "code",
      "execution_count": 42,
      "metadata": {
        "colab": {
          "base_uri": "https://localhost:8080/",
          "height": 423
        },
        "id": "iXA8JPgHC2bX",
        "outputId": "18a73d4b-3f26-458b-c8de-38de132e4baf"
      },
      "outputs": [
        {
          "output_type": "execute_result",
          "data": {
            "text/plain": [
              "     Year                                               Item        Value\n",
              "0    2015                                 Ammonia, anhydrous  41564697.21\n",
              "1    2015                              Ammonium nitrate (AN)  17983574.42\n",
              "2    2015                                  Ammonium sulphate  11769901.58\n",
              "3    2015  Calcium ammonium nitrate (CAN) and other mixtu...   4074758.17\n",
              "4    2015                         Diammonium phosphate (DAP)  13999614.45\n",
              "..    ...                                                ...          ...\n",
              "110  2019                                     Sodium nitrate     31752.00\n",
              "111  2019                          Superphosphates above 35%   1894523.00\n",
              "112  2019                             Superphosphates, other  10257004.00\n",
              "113  2019                                               Urea  72408457.74\n",
              "114  2019          Urea and ammonium nitrate solutions (UAN)  17683665.18\n",
              "\n",
              "[115 rows x 3 columns]"
            ],
            "text/html": [
              "\n",
              "  <div id=\"df-48a2526a-c183-426d-85bb-b95049d61485\">\n",
              "    <div class=\"colab-df-container\">\n",
              "      <div>\n",
              "<style scoped>\n",
              "    .dataframe tbody tr th:only-of-type {\n",
              "        vertical-align: middle;\n",
              "    }\n",
              "\n",
              "    .dataframe tbody tr th {\n",
              "        vertical-align: top;\n",
              "    }\n",
              "\n",
              "    .dataframe thead th {\n",
              "        text-align: right;\n",
              "    }\n",
              "</style>\n",
              "<table border=\"1\" class=\"dataframe\">\n",
              "  <thead>\n",
              "    <tr style=\"text-align: right;\">\n",
              "      <th></th>\n",
              "      <th>Year</th>\n",
              "      <th>Item</th>\n",
              "      <th>Value</th>\n",
              "    </tr>\n",
              "  </thead>\n",
              "  <tbody>\n",
              "    <tr>\n",
              "      <th>0</th>\n",
              "      <td>2015</td>\n",
              "      <td>Ammonia, anhydrous</td>\n",
              "      <td>41564697.21</td>\n",
              "    </tr>\n",
              "    <tr>\n",
              "      <th>1</th>\n",
              "      <td>2015</td>\n",
              "      <td>Ammonium nitrate (AN)</td>\n",
              "      <td>17983574.42</td>\n",
              "    </tr>\n",
              "    <tr>\n",
              "      <th>2</th>\n",
              "      <td>2015</td>\n",
              "      <td>Ammonium sulphate</td>\n",
              "      <td>11769901.58</td>\n",
              "    </tr>\n",
              "    <tr>\n",
              "      <th>3</th>\n",
              "      <td>2015</td>\n",
              "      <td>Calcium ammonium nitrate (CAN) and other mixtu...</td>\n",
              "      <td>4074758.17</td>\n",
              "    </tr>\n",
              "    <tr>\n",
              "      <th>4</th>\n",
              "      <td>2015</td>\n",
              "      <td>Diammonium phosphate (DAP)</td>\n",
              "      <td>13999614.45</td>\n",
              "    </tr>\n",
              "    <tr>\n",
              "      <th>...</th>\n",
              "      <td>...</td>\n",
              "      <td>...</td>\n",
              "      <td>...</td>\n",
              "    </tr>\n",
              "    <tr>\n",
              "      <th>110</th>\n",
              "      <td>2019</td>\n",
              "      <td>Sodium nitrate</td>\n",
              "      <td>31752.00</td>\n",
              "    </tr>\n",
              "    <tr>\n",
              "      <th>111</th>\n",
              "      <td>2019</td>\n",
              "      <td>Superphosphates above 35%</td>\n",
              "      <td>1894523.00</td>\n",
              "    </tr>\n",
              "    <tr>\n",
              "      <th>112</th>\n",
              "      <td>2019</td>\n",
              "      <td>Superphosphates, other</td>\n",
              "      <td>10257004.00</td>\n",
              "    </tr>\n",
              "    <tr>\n",
              "      <th>113</th>\n",
              "      <td>2019</td>\n",
              "      <td>Urea</td>\n",
              "      <td>72408457.74</td>\n",
              "    </tr>\n",
              "    <tr>\n",
              "      <th>114</th>\n",
              "      <td>2019</td>\n",
              "      <td>Urea and ammonium nitrate solutions (UAN)</td>\n",
              "      <td>17683665.18</td>\n",
              "    </tr>\n",
              "  </tbody>\n",
              "</table>\n",
              "<p>115 rows × 3 columns</p>\n",
              "</div>\n",
              "      <button class=\"colab-df-convert\" onclick=\"convertToInteractive('df-48a2526a-c183-426d-85bb-b95049d61485')\"\n",
              "              title=\"Convert this dataframe to an interactive table.\"\n",
              "              style=\"display:none;\">\n",
              "        \n",
              "  <svg xmlns=\"http://www.w3.org/2000/svg\" height=\"24px\"viewBox=\"0 0 24 24\"\n",
              "       width=\"24px\">\n",
              "    <path d=\"M0 0h24v24H0V0z\" fill=\"none\"/>\n",
              "    <path d=\"M18.56 5.44l.94 2.06.94-2.06 2.06-.94-2.06-.94-.94-2.06-.94 2.06-2.06.94zm-11 1L8.5 8.5l.94-2.06 2.06-.94-2.06-.94L8.5 2.5l-.94 2.06-2.06.94zm10 10l.94 2.06.94-2.06 2.06-.94-2.06-.94-.94-2.06-.94 2.06-2.06.94z\"/><path d=\"M17.41 7.96l-1.37-1.37c-.4-.4-.92-.59-1.43-.59-.52 0-1.04.2-1.43.59L10.3 9.45l-7.72 7.72c-.78.78-.78 2.05 0 2.83L4 21.41c.39.39.9.59 1.41.59.51 0 1.02-.2 1.41-.59l7.78-7.78 2.81-2.81c.8-.78.8-2.07 0-2.86zM5.41 20L4 18.59l7.72-7.72 1.47 1.35L5.41 20z\"/>\n",
              "  </svg>\n",
              "      </button>\n",
              "      \n",
              "  <style>\n",
              "    .colab-df-container {\n",
              "      display:flex;\n",
              "      flex-wrap:wrap;\n",
              "      gap: 12px;\n",
              "    }\n",
              "\n",
              "    .colab-df-convert {\n",
              "      background-color: #E8F0FE;\n",
              "      border: none;\n",
              "      border-radius: 50%;\n",
              "      cursor: pointer;\n",
              "      display: none;\n",
              "      fill: #1967D2;\n",
              "      height: 32px;\n",
              "      padding: 0 0 0 0;\n",
              "      width: 32px;\n",
              "    }\n",
              "\n",
              "    .colab-df-convert:hover {\n",
              "      background-color: #E2EBFA;\n",
              "      box-shadow: 0px 1px 2px rgba(60, 64, 67, 0.3), 0px 1px 3px 1px rgba(60, 64, 67, 0.15);\n",
              "      fill: #174EA6;\n",
              "    }\n",
              "\n",
              "    [theme=dark] .colab-df-convert {\n",
              "      background-color: #3B4455;\n",
              "      fill: #D2E3FC;\n",
              "    }\n",
              "\n",
              "    [theme=dark] .colab-df-convert:hover {\n",
              "      background-color: #434B5C;\n",
              "      box-shadow: 0px 1px 3px 1px rgba(0, 0, 0, 0.15);\n",
              "      filter: drop-shadow(0px 1px 2px rgba(0, 0, 0, 0.3));\n",
              "      fill: #FFFFFF;\n",
              "    }\n",
              "  </style>\n",
              "\n",
              "      <script>\n",
              "        const buttonEl =\n",
              "          document.querySelector('#df-48a2526a-c183-426d-85bb-b95049d61485 button.colab-df-convert');\n",
              "        buttonEl.style.display =\n",
              "          google.colab.kernel.accessAllowed ? 'block' : 'none';\n",
              "\n",
              "        async function convertToInteractive(key) {\n",
              "          const element = document.querySelector('#df-48a2526a-c183-426d-85bb-b95049d61485');\n",
              "          const dataTable =\n",
              "            await google.colab.kernel.invokeFunction('convertToInteractive',\n",
              "                                                     [key], {});\n",
              "          if (!dataTable) return;\n",
              "\n",
              "          const docLinkHtml = 'Like what you see? Visit the ' +\n",
              "            '<a target=\"_blank\" href=https://colab.research.google.com/notebooks/data_table.ipynb>data table notebook</a>'\n",
              "            + ' to learn more about interactive tables.';\n",
              "          element.innerHTML = '';\n",
              "          dataTable['output_type'] = 'display_data';\n",
              "          await google.colab.output.renderOutput(dataTable, element);\n",
              "          const docLink = document.createElement('div');\n",
              "          docLink.innerHTML = docLinkHtml;\n",
              "          element.appendChild(docLink);\n",
              "        }\n",
              "      </script>\n",
              "    </div>\n",
              "  </div>\n",
              "  "
            ]
          },
          "metadata": {},
          "execution_count": 42
        }
      ],
      "source": [
        "df_year_production = df.query(\"Element=='Production'\").groupby(['Year','Item'])['Value'].sum().reset_index()\n",
        "df_year_production"
      ]
    },
    {
      "cell_type": "code",
      "execution_count": 43,
      "metadata": {
        "colab": {
          "base_uri": "https://localhost:8080/",
          "height": 542
        },
        "id": "m6HGrSxFDKe4",
        "outputId": "9467ceed-457b-4277-a177-20f419de01fb"
      },
      "outputs": [
        {
          "output_type": "display_data",
          "data": {
            "text/html": [
              "<html>\n",
              "<head><meta charset=\"utf-8\" /></head>\n",
              "<body>\n",
              "    <div>            <script src=\"https://cdnjs.cloudflare.com/ajax/libs/mathjax/2.7.5/MathJax.js?config=TeX-AMS-MML_SVG\"></script><script type=\"text/javascript\">if (window.MathJax) {MathJax.Hub.Config({SVG: {font: \"STIX-Web\"}});}</script>                <script type=\"text/javascript\">window.PlotlyConfig = {MathJaxConfig: 'local'};</script>\n",
              "        <script src=\"https://cdn.plot.ly/plotly-2.8.3.min.js\"></script>                <div id=\"5e1fd7e6-6cd5-4be9-ba3b-a5d1492d301c\" class=\"plotly-graph-div\" style=\"height:525px; width:100%;\"></div>            <script type=\"text/javascript\">                                    window.PLOTLYENV=window.PLOTLYENV || {};                                    if (document.getElementById(\"5e1fd7e6-6cd5-4be9-ba3b-a5d1492d301c\")) {                    Plotly.newPlot(                        \"5e1fd7e6-6cd5-4be9-ba3b-a5d1492d301c\",                        [{\"hovertemplate\":\"Item=Ammonia, anhydrous<br>Year=%{x}<br>Value=%{y}<extra></extra>\",\"legendgroup\":\"Ammonia, anhydrous\",\"line\":{\"color\":\"#636efa\",\"dash\":\"solid\"},\"marker\":{\"symbol\":\"circle\"},\"mode\":\"markers+lines\",\"name\":\"Ammonia, anhydrous\",\"orientation\":\"v\",\"showlegend\":true,\"x\":[2015,2016,2017,2018,2019],\"xaxis\":\"x\",\"y\":[41564697.21,39829902.44,31619900.54,28044227.91,28961660.22],\"yaxis\":\"y\",\"type\":\"scatter\"},{\"hovertemplate\":\"Item=Ammonium nitrate (AN)<br>Year=%{x}<br>Value=%{y}<extra></extra>\",\"legendgroup\":\"Ammonium nitrate (AN)\",\"line\":{\"color\":\"#EF553B\",\"dash\":\"solid\"},\"marker\":{\"symbol\":\"circle\"},\"mode\":\"markers+lines\",\"name\":\"Ammonium nitrate (AN)\",\"orientation\":\"v\",\"showlegend\":true,\"x\":[2015,2016,2017,2018,2019],\"xaxis\":\"x\",\"y\":[17983574.42,19423263.07,18281730.81,18034036.16,16556620.0],\"yaxis\":\"y\",\"type\":\"scatter\"},{\"hovertemplate\":\"Item=Ammonium sulphate<br>Year=%{x}<br>Value=%{y}<extra></extra>\",\"legendgroup\":\"Ammonium sulphate\",\"line\":{\"color\":\"#00cc96\",\"dash\":\"solid\"},\"marker\":{\"symbol\":\"circle\"},\"mode\":\"markers+lines\",\"name\":\"Ammonium sulphate\",\"orientation\":\"v\",\"showlegend\":true,\"x\":[2015,2016,2017,2018,2019],\"xaxis\":\"x\",\"y\":[11769901.58,12994139.86,12227741.94,11422270.31,11796041.0],\"yaxis\":\"y\",\"type\":\"scatter\"},{\"hovertemplate\":\"Item=Calcium ammonium nitrate (CAN) and other mixtures with calcium carbonate<br>Year=%{x}<br>Value=%{y}<extra></extra>\",\"legendgroup\":\"Calcium ammonium nitrate (CAN) and other mixtures with calcium carbonate\",\"line\":{\"color\":\"#ab63fa\",\"dash\":\"solid\"},\"marker\":{\"symbol\":\"circle\"},\"mode\":\"markers+lines\",\"name\":\"Calcium ammonium nitrate (CAN) and other mixtures with calcium carbonate\",\"orientation\":\"v\",\"showlegend\":true,\"x\":[2015,2016,2017,2018,2019],\"xaxis\":\"x\",\"y\":[4074758.17,6534599.2,5093131.0,4711250.92,4967227.0],\"yaxis\":\"y\",\"type\":\"scatter\"},{\"hovertemplate\":\"Item=Diammonium phosphate (DAP)<br>Year=%{x}<br>Value=%{y}<extra></extra>\",\"legendgroup\":\"Diammonium phosphate (DAP)\",\"line\":{\"color\":\"#FFA15A\",\"dash\":\"solid\"},\"marker\":{\"symbol\":\"circle\"},\"mode\":\"markers+lines\",\"name\":\"Diammonium phosphate (DAP)\",\"orientation\":\"v\",\"showlegend\":true,\"x\":[2015,2016,2017,2018,2019],\"xaxis\":\"x\",\"y\":[13999614.45,14163841.44,10548332.84,8401081.870000001,8810848.0],\"yaxis\":\"y\",\"type\":\"scatter\"},{\"hovertemplate\":\"Item=Fertilizers n.e.c.<br>Year=%{x}<br>Value=%{y}<extra></extra>\",\"legendgroup\":\"Fertilizers n.e.c.\",\"line\":{\"color\":\"#19d3f3\",\"dash\":\"solid\"},\"marker\":{\"symbol\":\"circle\"},\"mode\":\"markers+lines\",\"name\":\"Fertilizers n.e.c.\",\"orientation\":\"v\",\"showlegend\":true,\"x\":[2015,2016,2017,2018,2019],\"xaxis\":\"x\",\"y\":[1487513.0,4558728.14,4474117.88,4669701.11,4637807.74],\"yaxis\":\"y\",\"type\":\"scatter\"},{\"hovertemplate\":\"Item=Monoammonium phosphate (MAP)<br>Year=%{x}<br>Value=%{y}<extra></extra>\",\"legendgroup\":\"Monoammonium phosphate (MAP)\",\"line\":{\"color\":\"#FF6692\",\"dash\":\"solid\"},\"marker\":{\"symbol\":\"circle\"},\"mode\":\"markers+lines\",\"name\":\"Monoammonium phosphate (MAP)\",\"orientation\":\"v\",\"showlegend\":true,\"x\":[2015,2016,2017,2018,2019],\"xaxis\":\"x\",\"y\":[7617846.02,8756589.0,7464554.02,7145751.98,7277942.0],\"yaxis\":\"y\",\"type\":\"scatter\"},{\"hovertemplate\":\"Item=NPK fertilizers<br>Year=%{x}<br>Value=%{y}<extra></extra>\",\"legendgroup\":\"NPK fertilizers\",\"line\":{\"color\":\"#B6E880\",\"dash\":\"solid\"},\"marker\":{\"symbol\":\"circle\"},\"mode\":\"markers+lines\",\"name\":\"NPK fertilizers\",\"orientation\":\"v\",\"showlegend\":true,\"x\":[2015,2016,2017,2018,2019],\"xaxis\":\"x\",\"y\":[25297720.5,25501861.62,27684706.59,26296270.83,24961956.0],\"yaxis\":\"y\",\"type\":\"scatter\"},{\"hovertemplate\":\"Item=Other NK compounds<br>Year=%{x}<br>Value=%{y}<extra></extra>\",\"legendgroup\":\"Other NK compounds\",\"line\":{\"color\":\"#FF97FF\",\"dash\":\"solid\"},\"marker\":{\"symbol\":\"circle\"},\"mode\":\"markers+lines\",\"name\":\"Other NK compounds\",\"orientation\":\"v\",\"showlegend\":true,\"x\":[2015,2016,2017,2018,2019],\"xaxis\":\"x\",\"y\":[17561.0,19130.0,21603.0,24561.94,5073.0],\"yaxis\":\"y\",\"type\":\"scatter\"},{\"hovertemplate\":\"Item=Other NP compounds<br>Year=%{x}<br>Value=%{y}<extra></extra>\",\"legendgroup\":\"Other NP compounds\",\"line\":{\"color\":\"#FECB52\",\"dash\":\"solid\"},\"marker\":{\"symbol\":\"circle\"},\"mode\":\"markers+lines\",\"name\":\"Other NP compounds\",\"orientation\":\"v\",\"showlegend\":true,\"x\":[2015,2016,2017,2018,2019],\"xaxis\":\"x\",\"y\":[11402349.0,11327531.530000001,11889599.94,10824574.0,10862344.0],\"yaxis\":\"y\",\"type\":\"scatter\"},{\"hovertemplate\":\"Item=Other nitrogenous fertilizers, n.e.c.<br>Year=%{x}<br>Value=%{y}<extra></extra>\",\"legendgroup\":\"Other nitrogenous fertilizers, n.e.c.\",\"line\":{\"color\":\"#636efa\",\"dash\":\"solid\"},\"marker\":{\"symbol\":\"circle\"},\"mode\":\"markers+lines\",\"name\":\"Other nitrogenous fertilizers, n.e.c.\",\"orientation\":\"v\",\"showlegend\":true,\"x\":[2015,2016,2017,2018,2019],\"xaxis\":\"x\",\"y\":[1717971.85,2765878.45,1375966.84,741247.79,512280.24],\"yaxis\":\"y\",\"type\":\"scatter\"},{\"hovertemplate\":\"Item=Other phosphatic fertilizers, n.e.c.<br>Year=%{x}<br>Value=%{y}<extra></extra>\",\"legendgroup\":\"Other phosphatic fertilizers, n.e.c.\",\"line\":{\"color\":\"#EF553B\",\"dash\":\"solid\"},\"marker\":{\"symbol\":\"circle\"},\"mode\":\"markers+lines\",\"name\":\"Other phosphatic fertilizers, n.e.c.\",\"orientation\":\"v\",\"showlegend\":true,\"x\":[2015,2016,2017,2018,2019],\"xaxis\":\"x\",\"y\":[792667.0,709762.1,571802.0,387392.0,423806.0],\"yaxis\":\"y\",\"type\":\"scatter\"},{\"hovertemplate\":\"Item=Other potassic fertilizers, n.e.c.<br>Year=%{x}<br>Value=%{y}<extra></extra>\",\"legendgroup\":\"Other potassic fertilizers, n.e.c.\",\"line\":{\"color\":\"#00cc96\",\"dash\":\"solid\"},\"marker\":{\"symbol\":\"circle\"},\"mode\":\"markers+lines\",\"name\":\"Other potassic fertilizers, n.e.c.\",\"orientation\":\"v\",\"showlegend\":true,\"x\":[2015,2016,2017,2018,2019],\"xaxis\":\"x\",\"y\":[63007.0,73533.34,40851.0,30975.0,36283.0],\"yaxis\":\"y\",\"type\":\"scatter\"},{\"hovertemplate\":\"Item=PK compounds<br>Year=%{x}<br>Value=%{y}<extra></extra>\",\"legendgroup\":\"PK compounds\",\"line\":{\"color\":\"#ab63fa\",\"dash\":\"solid\"},\"marker\":{\"symbol\":\"circle\"},\"mode\":\"markers+lines\",\"name\":\"PK compounds\",\"orientation\":\"v\",\"showlegend\":true,\"x\":[2015,2016,2017,2018,2019],\"xaxis\":\"x\",\"y\":[183319.0,197637.36,247153.77000000002,311942.41000000003,288210.0],\"yaxis\":\"y\",\"type\":\"scatter\"},{\"hovertemplate\":\"Item=Phosphate rock<br>Year=%{x}<br>Value=%{y}<extra></extra>\",\"legendgroup\":\"Phosphate rock\",\"line\":{\"color\":\"#FFA15A\",\"dash\":\"solid\"},\"marker\":{\"symbol\":\"circle\"},\"mode\":\"markers+lines\",\"name\":\"Phosphate rock\",\"orientation\":\"v\",\"showlegend\":true,\"x\":[2015,2016,2017,2018,2019],\"xaxis\":\"x\",\"y\":[52610203.03,48635019.16,37921404.339999996,30983107.810000002,26530231.8],\"yaxis\":\"y\",\"type\":\"scatter\"},{\"hovertemplate\":\"Item=Potassium chloride (muriate of potash) (MOP)<br>Year=%{x}<br>Value=%{y}<extra></extra>\",\"legendgroup\":\"Potassium chloride (muriate of potash) (MOP)\",\"line\":{\"color\":\"#19d3f3\",\"dash\":\"solid\"},\"marker\":{\"symbol\":\"circle\"},\"mode\":\"markers+lines\",\"name\":\"Potassium chloride (muriate of potash) (MOP)\",\"orientation\":\"v\",\"showlegend\":true,\"x\":[2015,2016,2017,2018,2019],\"xaxis\":\"x\",\"y\":[44596668.67,42348138.67,45152797.0,24777729.67,25329894.07],\"yaxis\":\"y\",\"type\":\"scatter\"},{\"hovertemplate\":\"Item=Potassium nitrate<br>Year=%{x}<br>Value=%{y}<extra></extra>\",\"legendgroup\":\"Potassium nitrate\",\"line\":{\"color\":\"#FF6692\",\"dash\":\"solid\"},\"marker\":{\"symbol\":\"circle\"},\"mode\":\"markers+lines\",\"name\":\"Potassium nitrate\",\"orientation\":\"v\",\"showlegend\":true,\"x\":[2015,2016,2017,2018,2019],\"xaxis\":\"x\",\"y\":[136124.0,139944.42,811136.76,20907.0,26001.0],\"yaxis\":\"y\",\"type\":\"scatter\"},{\"hovertemplate\":\"Item=Potassium sulphate (sulphate of potash) (SOP)<br>Year=%{x}<br>Value=%{y}<extra></extra>\",\"legendgroup\":\"Potassium sulphate (sulphate of potash) (SOP)\",\"line\":{\"color\":\"#B6E880\",\"dash\":\"solid\"},\"marker\":{\"symbol\":\"circle\"},\"mode\":\"markers+lines\",\"name\":\"Potassium sulphate (sulphate of potash) (SOP)\",\"orientation\":\"v\",\"showlegend\":true,\"x\":[2015,2016,2017,2018,2019],\"xaxis\":\"x\",\"y\":[619250.47,576279.76,500290.54,512965.47,469232.0],\"yaxis\":\"y\",\"type\":\"scatter\"},{\"hovertemplate\":\"Item=Sodium nitrate<br>Year=%{x}<br>Value=%{y}<extra></extra>\",\"legendgroup\":\"Sodium nitrate\",\"line\":{\"color\":\"#FF97FF\",\"dash\":\"solid\"},\"marker\":{\"symbol\":\"circle\"},\"mode\":\"markers+lines\",\"name\":\"Sodium nitrate\",\"orientation\":\"v\",\"showlegend\":true,\"x\":[2015,2016,2017,2018,2019],\"xaxis\":\"x\",\"y\":[28176.6,29078.5,31475.4,30419.6,31752.0],\"yaxis\":\"y\",\"type\":\"scatter\"},{\"hovertemplate\":\"Item=Superphosphates above 35%<br>Year=%{x}<br>Value=%{y}<extra></extra>\",\"legendgroup\":\"Superphosphates above 35%\",\"line\":{\"color\":\"#FECB52\",\"dash\":\"solid\"},\"marker\":{\"symbol\":\"circle\"},\"mode\":\"markers+lines\",\"name\":\"Superphosphates above 35%\",\"orientation\":\"v\",\"showlegend\":true,\"x\":[2015,2016,2017,2018,2019],\"xaxis\":\"x\",\"y\":[3833496.61,4315970.8,3296746.56,2025012.83,1894523.0],\"yaxis\":\"y\",\"type\":\"scatter\"},{\"hovertemplate\":\"Item=Superphosphates, other<br>Year=%{x}<br>Value=%{y}<extra></extra>\",\"legendgroup\":\"Superphosphates, other\",\"line\":{\"color\":\"#636efa\",\"dash\":\"solid\"},\"marker\":{\"symbol\":\"circle\"},\"mode\":\"markers+lines\",\"name\":\"Superphosphates, other\",\"orientation\":\"v\",\"showlegend\":true,\"x\":[2015,2016,2017,2018,2019],\"xaxis\":\"x\",\"y\":[12609273.0,11934597.0,10496603.0,10448238.0,10257004.0],\"yaxis\":\"y\",\"type\":\"scatter\"},{\"hovertemplate\":\"Item=Urea<br>Year=%{x}<br>Value=%{y}<extra></extra>\",\"legendgroup\":\"Urea\",\"line\":{\"color\":\"#EF553B\",\"dash\":\"solid\"},\"marker\":{\"symbol\":\"circle\"},\"mode\":\"markers+lines\",\"name\":\"Urea\",\"orientation\":\"v\",\"showlegend\":true,\"x\":[2015,2016,2017,2018,2019],\"xaxis\":\"x\",\"y\":[75471454.0,81002157.28999999,73668931.51,71328617.89,72408457.74],\"yaxis\":\"y\",\"type\":\"scatter\"},{\"hovertemplate\":\"Item=Urea and ammonium nitrate solutions (UAN)<br>Year=%{x}<br>Value=%{y}<extra></extra>\",\"legendgroup\":\"Urea and ammonium nitrate solutions (UAN)\",\"line\":{\"color\":\"#00cc96\",\"dash\":\"solid\"},\"marker\":{\"symbol\":\"circle\"},\"mode\":\"markers+lines\",\"name\":\"Urea and ammonium nitrate solutions (UAN)\",\"orientation\":\"v\",\"showlegend\":true,\"x\":[2015,2016,2017,2018,2019],\"xaxis\":\"x\",\"y\":[17075420.61,18528922.42,16243193.200000001,17264289.130000003,17683665.18],\"yaxis\":\"y\",\"type\":\"scatter\"}],                        {\"template\":{\"data\":{\"bar\":[{\"error_x\":{\"color\":\"#2a3f5f\"},\"error_y\":{\"color\":\"#2a3f5f\"},\"marker\":{\"line\":{\"color\":\"#E5ECF6\",\"width\":0.5},\"pattern\":{\"fillmode\":\"overlay\",\"size\":10,\"solidity\":0.2}},\"type\":\"bar\"}],\"barpolar\":[{\"marker\":{\"line\":{\"color\":\"#E5ECF6\",\"width\":0.5},\"pattern\":{\"fillmode\":\"overlay\",\"size\":10,\"solidity\":0.2}},\"type\":\"barpolar\"}],\"carpet\":[{\"aaxis\":{\"endlinecolor\":\"#2a3f5f\",\"gridcolor\":\"white\",\"linecolor\":\"white\",\"minorgridcolor\":\"white\",\"startlinecolor\":\"#2a3f5f\"},\"baxis\":{\"endlinecolor\":\"#2a3f5f\",\"gridcolor\":\"white\",\"linecolor\":\"white\",\"minorgridcolor\":\"white\",\"startlinecolor\":\"#2a3f5f\"},\"type\":\"carpet\"}],\"choropleth\":[{\"colorbar\":{\"outlinewidth\":0,\"ticks\":\"\"},\"type\":\"choropleth\"}],\"contour\":[{\"colorbar\":{\"outlinewidth\":0,\"ticks\":\"\"},\"colorscale\":[[0.0,\"#0d0887\"],[0.1111111111111111,\"#46039f\"],[0.2222222222222222,\"#7201a8\"],[0.3333333333333333,\"#9c179e\"],[0.4444444444444444,\"#bd3786\"],[0.5555555555555556,\"#d8576b\"],[0.6666666666666666,\"#ed7953\"],[0.7777777777777778,\"#fb9f3a\"],[0.8888888888888888,\"#fdca26\"],[1.0,\"#f0f921\"]],\"type\":\"contour\"}],\"contourcarpet\":[{\"colorbar\":{\"outlinewidth\":0,\"ticks\":\"\"},\"type\":\"contourcarpet\"}],\"heatmap\":[{\"colorbar\":{\"outlinewidth\":0,\"ticks\":\"\"},\"colorscale\":[[0.0,\"#0d0887\"],[0.1111111111111111,\"#46039f\"],[0.2222222222222222,\"#7201a8\"],[0.3333333333333333,\"#9c179e\"],[0.4444444444444444,\"#bd3786\"],[0.5555555555555556,\"#d8576b\"],[0.6666666666666666,\"#ed7953\"],[0.7777777777777778,\"#fb9f3a\"],[0.8888888888888888,\"#fdca26\"],[1.0,\"#f0f921\"]],\"type\":\"heatmap\"}],\"heatmapgl\":[{\"colorbar\":{\"outlinewidth\":0,\"ticks\":\"\"},\"colorscale\":[[0.0,\"#0d0887\"],[0.1111111111111111,\"#46039f\"],[0.2222222222222222,\"#7201a8\"],[0.3333333333333333,\"#9c179e\"],[0.4444444444444444,\"#bd3786\"],[0.5555555555555556,\"#d8576b\"],[0.6666666666666666,\"#ed7953\"],[0.7777777777777778,\"#fb9f3a\"],[0.8888888888888888,\"#fdca26\"],[1.0,\"#f0f921\"]],\"type\":\"heatmapgl\"}],\"histogram\":[{\"marker\":{\"pattern\":{\"fillmode\":\"overlay\",\"size\":10,\"solidity\":0.2}},\"type\":\"histogram\"}],\"histogram2d\":[{\"colorbar\":{\"outlinewidth\":0,\"ticks\":\"\"},\"colorscale\":[[0.0,\"#0d0887\"],[0.1111111111111111,\"#46039f\"],[0.2222222222222222,\"#7201a8\"],[0.3333333333333333,\"#9c179e\"],[0.4444444444444444,\"#bd3786\"],[0.5555555555555556,\"#d8576b\"],[0.6666666666666666,\"#ed7953\"],[0.7777777777777778,\"#fb9f3a\"],[0.8888888888888888,\"#fdca26\"],[1.0,\"#f0f921\"]],\"type\":\"histogram2d\"}],\"histogram2dcontour\":[{\"colorbar\":{\"outlinewidth\":0,\"ticks\":\"\"},\"colorscale\":[[0.0,\"#0d0887\"],[0.1111111111111111,\"#46039f\"],[0.2222222222222222,\"#7201a8\"],[0.3333333333333333,\"#9c179e\"],[0.4444444444444444,\"#bd3786\"],[0.5555555555555556,\"#d8576b\"],[0.6666666666666666,\"#ed7953\"],[0.7777777777777778,\"#fb9f3a\"],[0.8888888888888888,\"#fdca26\"],[1.0,\"#f0f921\"]],\"type\":\"histogram2dcontour\"}],\"mesh3d\":[{\"colorbar\":{\"outlinewidth\":0,\"ticks\":\"\"},\"type\":\"mesh3d\"}],\"parcoords\":[{\"line\":{\"colorbar\":{\"outlinewidth\":0,\"ticks\":\"\"}},\"type\":\"parcoords\"}],\"pie\":[{\"automargin\":true,\"type\":\"pie\"}],\"scatter\":[{\"marker\":{\"colorbar\":{\"outlinewidth\":0,\"ticks\":\"\"}},\"type\":\"scatter\"}],\"scatter3d\":[{\"line\":{\"colorbar\":{\"outlinewidth\":0,\"ticks\":\"\"}},\"marker\":{\"colorbar\":{\"outlinewidth\":0,\"ticks\":\"\"}},\"type\":\"scatter3d\"}],\"scattercarpet\":[{\"marker\":{\"colorbar\":{\"outlinewidth\":0,\"ticks\":\"\"}},\"type\":\"scattercarpet\"}],\"scattergeo\":[{\"marker\":{\"colorbar\":{\"outlinewidth\":0,\"ticks\":\"\"}},\"type\":\"scattergeo\"}],\"scattergl\":[{\"marker\":{\"colorbar\":{\"outlinewidth\":0,\"ticks\":\"\"}},\"type\":\"scattergl\"}],\"scattermapbox\":[{\"marker\":{\"colorbar\":{\"outlinewidth\":0,\"ticks\":\"\"}},\"type\":\"scattermapbox\"}],\"scatterpolar\":[{\"marker\":{\"colorbar\":{\"outlinewidth\":0,\"ticks\":\"\"}},\"type\":\"scatterpolar\"}],\"scatterpolargl\":[{\"marker\":{\"colorbar\":{\"outlinewidth\":0,\"ticks\":\"\"}},\"type\":\"scatterpolargl\"}],\"scatterternary\":[{\"marker\":{\"colorbar\":{\"outlinewidth\":0,\"ticks\":\"\"}},\"type\":\"scatterternary\"}],\"surface\":[{\"colorbar\":{\"outlinewidth\":0,\"ticks\":\"\"},\"colorscale\":[[0.0,\"#0d0887\"],[0.1111111111111111,\"#46039f\"],[0.2222222222222222,\"#7201a8\"],[0.3333333333333333,\"#9c179e\"],[0.4444444444444444,\"#bd3786\"],[0.5555555555555556,\"#d8576b\"],[0.6666666666666666,\"#ed7953\"],[0.7777777777777778,\"#fb9f3a\"],[0.8888888888888888,\"#fdca26\"],[1.0,\"#f0f921\"]],\"type\":\"surface\"}],\"table\":[{\"cells\":{\"fill\":{\"color\":\"#EBF0F8\"},\"line\":{\"color\":\"white\"}},\"header\":{\"fill\":{\"color\":\"#C8D4E3\"},\"line\":{\"color\":\"white\"}},\"type\":\"table\"}]},\"layout\":{\"annotationdefaults\":{\"arrowcolor\":\"#2a3f5f\",\"arrowhead\":0,\"arrowwidth\":1},\"autotypenumbers\":\"strict\",\"coloraxis\":{\"colorbar\":{\"outlinewidth\":0,\"ticks\":\"\"}},\"colorscale\":{\"diverging\":[[0,\"#8e0152\"],[0.1,\"#c51b7d\"],[0.2,\"#de77ae\"],[0.3,\"#f1b6da\"],[0.4,\"#fde0ef\"],[0.5,\"#f7f7f7\"],[0.6,\"#e6f5d0\"],[0.7,\"#b8e186\"],[0.8,\"#7fbc41\"],[0.9,\"#4d9221\"],[1,\"#276419\"]],\"sequential\":[[0.0,\"#0d0887\"],[0.1111111111111111,\"#46039f\"],[0.2222222222222222,\"#7201a8\"],[0.3333333333333333,\"#9c179e\"],[0.4444444444444444,\"#bd3786\"],[0.5555555555555556,\"#d8576b\"],[0.6666666666666666,\"#ed7953\"],[0.7777777777777778,\"#fb9f3a\"],[0.8888888888888888,\"#fdca26\"],[1.0,\"#f0f921\"]],\"sequentialminus\":[[0.0,\"#0d0887\"],[0.1111111111111111,\"#46039f\"],[0.2222222222222222,\"#7201a8\"],[0.3333333333333333,\"#9c179e\"],[0.4444444444444444,\"#bd3786\"],[0.5555555555555556,\"#d8576b\"],[0.6666666666666666,\"#ed7953\"],[0.7777777777777778,\"#fb9f3a\"],[0.8888888888888888,\"#fdca26\"],[1.0,\"#f0f921\"]]},\"colorway\":[\"#636efa\",\"#EF553B\",\"#00cc96\",\"#ab63fa\",\"#FFA15A\",\"#19d3f3\",\"#FF6692\",\"#B6E880\",\"#FF97FF\",\"#FECB52\"],\"font\":{\"color\":\"#2a3f5f\"},\"geo\":{\"bgcolor\":\"white\",\"lakecolor\":\"white\",\"landcolor\":\"#E5ECF6\",\"showlakes\":true,\"showland\":true,\"subunitcolor\":\"white\"},\"hoverlabel\":{\"align\":\"left\"},\"hovermode\":\"closest\",\"mapbox\":{\"style\":\"light\"},\"paper_bgcolor\":\"white\",\"plot_bgcolor\":\"#E5ECF6\",\"polar\":{\"angularaxis\":{\"gridcolor\":\"white\",\"linecolor\":\"white\",\"ticks\":\"\"},\"bgcolor\":\"#E5ECF6\",\"radialaxis\":{\"gridcolor\":\"white\",\"linecolor\":\"white\",\"ticks\":\"\"}},\"scene\":{\"xaxis\":{\"backgroundcolor\":\"#E5ECF6\",\"gridcolor\":\"white\",\"gridwidth\":2,\"linecolor\":\"white\",\"showbackground\":true,\"ticks\":\"\",\"zerolinecolor\":\"white\"},\"yaxis\":{\"backgroundcolor\":\"#E5ECF6\",\"gridcolor\":\"white\",\"gridwidth\":2,\"linecolor\":\"white\",\"showbackground\":true,\"ticks\":\"\",\"zerolinecolor\":\"white\"},\"zaxis\":{\"backgroundcolor\":\"#E5ECF6\",\"gridcolor\":\"white\",\"gridwidth\":2,\"linecolor\":\"white\",\"showbackground\":true,\"ticks\":\"\",\"zerolinecolor\":\"white\"}},\"shapedefaults\":{\"line\":{\"color\":\"#2a3f5f\"}},\"ternary\":{\"aaxis\":{\"gridcolor\":\"white\",\"linecolor\":\"white\",\"ticks\":\"\"},\"baxis\":{\"gridcolor\":\"white\",\"linecolor\":\"white\",\"ticks\":\"\"},\"bgcolor\":\"#E5ECF6\",\"caxis\":{\"gridcolor\":\"white\",\"linecolor\":\"white\",\"ticks\":\"\"}},\"title\":{\"x\":0.05},\"xaxis\":{\"automargin\":true,\"gridcolor\":\"white\",\"linecolor\":\"white\",\"ticks\":\"\",\"title\":{\"standoff\":15},\"zerolinecolor\":\"white\",\"zerolinewidth\":2},\"yaxis\":{\"automargin\":true,\"gridcolor\":\"white\",\"linecolor\":\"white\",\"ticks\":\"\",\"title\":{\"standoff\":15},\"zerolinecolor\":\"white\",\"zerolinewidth\":2}}},\"xaxis\":{\"anchor\":\"y\",\"domain\":[0.0,1.0],\"title\":{\"text\":\"Year\"},\"tickvals\":[2015,2016,2017,2018,2019]},\"yaxis\":{\"anchor\":\"x\",\"domain\":[0.0,1.0],\"title\":{\"text\":\"Value\"}},\"legend\":{\"title\":{\"text\":\"Item\"},\"tracegroupgap\":0},\"margin\":{\"t\":60}},                        {\"responsive\": true}                    ).then(function(){\n",
              "                            \n",
              "var gd = document.getElementById('5e1fd7e6-6cd5-4be9-ba3b-a5d1492d301c');\n",
              "var x = new MutationObserver(function (mutations, observer) {{\n",
              "        var display = window.getComputedStyle(gd).display;\n",
              "        if (!display || display === 'none') {{\n",
              "            console.log([gd, 'removed!']);\n",
              "            Plotly.purge(gd);\n",
              "            observer.disconnect();\n",
              "        }}\n",
              "}});\n",
              "\n",
              "// Listen for the removal of the full notebook cells\n",
              "var notebookContainer = gd.closest('#notebook-container');\n",
              "if (notebookContainer) {{\n",
              "    x.observe(notebookContainer, {childList: true});\n",
              "}}\n",
              "\n",
              "// Listen for the clearing of the current output cell\n",
              "var outputEl = gd.closest('.output');\n",
              "if (outputEl) {{\n",
              "    x.observe(outputEl, {childList: true});\n",
              "}}\n",
              "\n",
              "                        })                };                            </script>        </div>\n",
              "</body>\n",
              "</html>"
            ]
          },
          "metadata": {}
        }
      ],
      "source": [
        "fig = px.line(df_year_production, x='Year', y='Value', color='Item', markers=True)\n",
        "fig.update_xaxes(tickvals=[2015, 2016, 2017, 2018, 2019])\n",
        "\n",
        "fig.show()"
      ]
    },
    {
      "cell_type": "markdown",
      "source": [
        "- Больше всего производят удобрение Urea (Мочевина (или карбамид)), пик производства был в 2016 году, далее идет спад производства.\n",
        "- Phosphate rock (Фосфоритная мука) производили больше всего в 2015 и в 2016 году, далее идет резкий спад.\n",
        "- Potassium chloride (muriate of potash) (MOP) (Хлорид калия) в 2017 году демонстриурет рост производства, превосходя по объему Phosphate rock (Фосфоритная мука) далее в 2018 году идет резкий спад.\n",
        "- Ammonia, anhydrous (Аммиак) больше произвродили в 2015-2016гг, далее идет спад производства.\n",
        "- Остальные удобрения показывают ровне показатели на протяжении исследуемого периода."
      ],
      "metadata": {
        "id": "-pI_7ONkZR8l"
      }
    },
    {
      "cell_type": "markdown",
      "metadata": {
        "id": "siw5Apc6DTgI"
      },
      "source": [
        "***Динамика использования каждого вида удобрений в с/х с 2015 по 2019 года, тонны***"
      ]
    },
    {
      "cell_type": "code",
      "execution_count": 44,
      "metadata": {
        "colab": {
          "base_uri": "https://localhost:8080/",
          "height": 423
        },
        "id": "rOOd_K-ODdHO",
        "outputId": "569c20d4-392f-4d5e-ae0e-a8fe06ee26d1"
      },
      "outputs": [
        {
          "output_type": "execute_result",
          "data": {
            "text/plain": [
              "     Year                                               Item        Value\n",
              "0    2015                                 Ammonia, anhydrous   4607588.45\n",
              "1    2015                              Ammonium nitrate (AN)   5646802.16\n",
              "2    2015                                  Ammonium sulphate  39070742.80\n",
              "3    2015  Calcium ammonium nitrate (CAN) and other mixtu...   5018199.79\n",
              "4    2015                         Diammonium phosphate (DAP)  18268961.26\n",
              "..    ...                                                ...          ...\n",
              "110  2019                                     Sodium nitrate      2446.33\n",
              "111  2019                          Superphosphates above 35%   2009296.49\n",
              "112  2019                             Superphosphates, other   7992183.00\n",
              "113  2019                                               Urea  65220948.22\n",
              "114  2019          Urea and ammonium nitrate solutions (UAN)  13819818.16\n",
              "\n",
              "[115 rows x 3 columns]"
            ],
            "text/html": [
              "\n",
              "  <div id=\"df-f7438407-e511-4fc7-a7b7-cf3c741f7179\">\n",
              "    <div class=\"colab-df-container\">\n",
              "      <div>\n",
              "<style scoped>\n",
              "    .dataframe tbody tr th:only-of-type {\n",
              "        vertical-align: middle;\n",
              "    }\n",
              "\n",
              "    .dataframe tbody tr th {\n",
              "        vertical-align: top;\n",
              "    }\n",
              "\n",
              "    .dataframe thead th {\n",
              "        text-align: right;\n",
              "    }\n",
              "</style>\n",
              "<table border=\"1\" class=\"dataframe\">\n",
              "  <thead>\n",
              "    <tr style=\"text-align: right;\">\n",
              "      <th></th>\n",
              "      <th>Year</th>\n",
              "      <th>Item</th>\n",
              "      <th>Value</th>\n",
              "    </tr>\n",
              "  </thead>\n",
              "  <tbody>\n",
              "    <tr>\n",
              "      <th>0</th>\n",
              "      <td>2015</td>\n",
              "      <td>Ammonia, anhydrous</td>\n",
              "      <td>4607588.45</td>\n",
              "    </tr>\n",
              "    <tr>\n",
              "      <th>1</th>\n",
              "      <td>2015</td>\n",
              "      <td>Ammonium nitrate (AN)</td>\n",
              "      <td>5646802.16</td>\n",
              "    </tr>\n",
              "    <tr>\n",
              "      <th>2</th>\n",
              "      <td>2015</td>\n",
              "      <td>Ammonium sulphate</td>\n",
              "      <td>39070742.80</td>\n",
              "    </tr>\n",
              "    <tr>\n",
              "      <th>3</th>\n",
              "      <td>2015</td>\n",
              "      <td>Calcium ammonium nitrate (CAN) and other mixtu...</td>\n",
              "      <td>5018199.79</td>\n",
              "    </tr>\n",
              "    <tr>\n",
              "      <th>4</th>\n",
              "      <td>2015</td>\n",
              "      <td>Diammonium phosphate (DAP)</td>\n",
              "      <td>18268961.26</td>\n",
              "    </tr>\n",
              "    <tr>\n",
              "      <th>...</th>\n",
              "      <td>...</td>\n",
              "      <td>...</td>\n",
              "      <td>...</td>\n",
              "    </tr>\n",
              "    <tr>\n",
              "      <th>110</th>\n",
              "      <td>2019</td>\n",
              "      <td>Sodium nitrate</td>\n",
              "      <td>2446.33</td>\n",
              "    </tr>\n",
              "    <tr>\n",
              "      <th>111</th>\n",
              "      <td>2019</td>\n",
              "      <td>Superphosphates above 35%</td>\n",
              "      <td>2009296.49</td>\n",
              "    </tr>\n",
              "    <tr>\n",
              "      <th>112</th>\n",
              "      <td>2019</td>\n",
              "      <td>Superphosphates, other</td>\n",
              "      <td>7992183.00</td>\n",
              "    </tr>\n",
              "    <tr>\n",
              "      <th>113</th>\n",
              "      <td>2019</td>\n",
              "      <td>Urea</td>\n",
              "      <td>65220948.22</td>\n",
              "    </tr>\n",
              "    <tr>\n",
              "      <th>114</th>\n",
              "      <td>2019</td>\n",
              "      <td>Urea and ammonium nitrate solutions (UAN)</td>\n",
              "      <td>13819818.16</td>\n",
              "    </tr>\n",
              "  </tbody>\n",
              "</table>\n",
              "<p>115 rows × 3 columns</p>\n",
              "</div>\n",
              "      <button class=\"colab-df-convert\" onclick=\"convertToInteractive('df-f7438407-e511-4fc7-a7b7-cf3c741f7179')\"\n",
              "              title=\"Convert this dataframe to an interactive table.\"\n",
              "              style=\"display:none;\">\n",
              "        \n",
              "  <svg xmlns=\"http://www.w3.org/2000/svg\" height=\"24px\"viewBox=\"0 0 24 24\"\n",
              "       width=\"24px\">\n",
              "    <path d=\"M0 0h24v24H0V0z\" fill=\"none\"/>\n",
              "    <path d=\"M18.56 5.44l.94 2.06.94-2.06 2.06-.94-2.06-.94-.94-2.06-.94 2.06-2.06.94zm-11 1L8.5 8.5l.94-2.06 2.06-.94-2.06-.94L8.5 2.5l-.94 2.06-2.06.94zm10 10l.94 2.06.94-2.06 2.06-.94-2.06-.94-.94-2.06-.94 2.06-2.06.94z\"/><path d=\"M17.41 7.96l-1.37-1.37c-.4-.4-.92-.59-1.43-.59-.52 0-1.04.2-1.43.59L10.3 9.45l-7.72 7.72c-.78.78-.78 2.05 0 2.83L4 21.41c.39.39.9.59 1.41.59.51 0 1.02-.2 1.41-.59l7.78-7.78 2.81-2.81c.8-.78.8-2.07 0-2.86zM5.41 20L4 18.59l7.72-7.72 1.47 1.35L5.41 20z\"/>\n",
              "  </svg>\n",
              "      </button>\n",
              "      \n",
              "  <style>\n",
              "    .colab-df-container {\n",
              "      display:flex;\n",
              "      flex-wrap:wrap;\n",
              "      gap: 12px;\n",
              "    }\n",
              "\n",
              "    .colab-df-convert {\n",
              "      background-color: #E8F0FE;\n",
              "      border: none;\n",
              "      border-radius: 50%;\n",
              "      cursor: pointer;\n",
              "      display: none;\n",
              "      fill: #1967D2;\n",
              "      height: 32px;\n",
              "      padding: 0 0 0 0;\n",
              "      width: 32px;\n",
              "    }\n",
              "\n",
              "    .colab-df-convert:hover {\n",
              "      background-color: #E2EBFA;\n",
              "      box-shadow: 0px 1px 2px rgba(60, 64, 67, 0.3), 0px 1px 3px 1px rgba(60, 64, 67, 0.15);\n",
              "      fill: #174EA6;\n",
              "    }\n",
              "\n",
              "    [theme=dark] .colab-df-convert {\n",
              "      background-color: #3B4455;\n",
              "      fill: #D2E3FC;\n",
              "    }\n",
              "\n",
              "    [theme=dark] .colab-df-convert:hover {\n",
              "      background-color: #434B5C;\n",
              "      box-shadow: 0px 1px 3px 1px rgba(0, 0, 0, 0.15);\n",
              "      filter: drop-shadow(0px 1px 2px rgba(0, 0, 0, 0.3));\n",
              "      fill: #FFFFFF;\n",
              "    }\n",
              "  </style>\n",
              "\n",
              "      <script>\n",
              "        const buttonEl =\n",
              "          document.querySelector('#df-f7438407-e511-4fc7-a7b7-cf3c741f7179 button.colab-df-convert');\n",
              "        buttonEl.style.display =\n",
              "          google.colab.kernel.accessAllowed ? 'block' : 'none';\n",
              "\n",
              "        async function convertToInteractive(key) {\n",
              "          const element = document.querySelector('#df-f7438407-e511-4fc7-a7b7-cf3c741f7179');\n",
              "          const dataTable =\n",
              "            await google.colab.kernel.invokeFunction('convertToInteractive',\n",
              "                                                     [key], {});\n",
              "          if (!dataTable) return;\n",
              "\n",
              "          const docLinkHtml = 'Like what you see? Visit the ' +\n",
              "            '<a target=\"_blank\" href=https://colab.research.google.com/notebooks/data_table.ipynb>data table notebook</a>'\n",
              "            + ' to learn more about interactive tables.';\n",
              "          element.innerHTML = '';\n",
              "          dataTable['output_type'] = 'display_data';\n",
              "          await google.colab.output.renderOutput(dataTable, element);\n",
              "          const docLink = document.createElement('div');\n",
              "          docLink.innerHTML = docLinkHtml;\n",
              "          element.appendChild(docLink);\n",
              "        }\n",
              "      </script>\n",
              "    </div>\n",
              "  </div>\n",
              "  "
            ]
          },
          "metadata": {},
          "execution_count": 44
        }
      ],
      "source": [
        "df_year_use = df.query(\"Element=='Agricultural Use'\").groupby(['Year','Item'])['Value'].sum().reset_index()\n",
        "df_year_use"
      ]
    },
    {
      "cell_type": "code",
      "execution_count": 45,
      "metadata": {
        "colab": {
          "base_uri": "https://localhost:8080/",
          "height": 542
        },
        "id": "dB_IxRTqDsJP",
        "outputId": "5b18bf27-3f3a-4798-ee00-43647baaddda"
      },
      "outputs": [
        {
          "output_type": "display_data",
          "data": {
            "text/html": [
              "<html>\n",
              "<head><meta charset=\"utf-8\" /></head>\n",
              "<body>\n",
              "    <div>            <script src=\"https://cdnjs.cloudflare.com/ajax/libs/mathjax/2.7.5/MathJax.js?config=TeX-AMS-MML_SVG\"></script><script type=\"text/javascript\">if (window.MathJax) {MathJax.Hub.Config({SVG: {font: \"STIX-Web\"}});}</script>                <script type=\"text/javascript\">window.PlotlyConfig = {MathJaxConfig: 'local'};</script>\n",
              "        <script src=\"https://cdn.plot.ly/plotly-2.8.3.min.js\"></script>                <div id=\"90356af7-1490-4b16-9fa8-655beb16cb1e\" class=\"plotly-graph-div\" style=\"height:525px; width:100%;\"></div>            <script type=\"text/javascript\">                                    window.PLOTLYENV=window.PLOTLYENV || {};                                    if (document.getElementById(\"90356af7-1490-4b16-9fa8-655beb16cb1e\")) {                    Plotly.newPlot(                        \"90356af7-1490-4b16-9fa8-655beb16cb1e\",                        [{\"hovertemplate\":\"Item=Ammonia, anhydrous<br>Year=%{x}<br>Value=%{y}<extra></extra>\",\"legendgroup\":\"Ammonia, anhydrous\",\"line\":{\"color\":\"#636efa\",\"dash\":\"solid\"},\"marker\":{\"symbol\":\"circle\"},\"mode\":\"markers+lines\",\"name\":\"Ammonia, anhydrous\",\"orientation\":\"v\",\"showlegend\":true,\"x\":[2015,2016,2017,2018,2019],\"xaxis\":\"x\",\"y\":[4607588.449999999,4972054.26,4985522.27,4842392.9799999995,4068092.2199999997],\"yaxis\":\"y\",\"type\":\"scatter\"},{\"hovertemplate\":\"Item=Ammonium nitrate (AN)<br>Year=%{x}<br>Value=%{y}<extra></extra>\",\"legendgroup\":\"Ammonium nitrate (AN)\",\"line\":{\"color\":\"#EF553B\",\"dash\":\"solid\"},\"marker\":{\"symbol\":\"circle\"},\"mode\":\"markers+lines\",\"name\":\"Ammonium nitrate (AN)\",\"orientation\":\"v\",\"showlegend\":true,\"x\":[2015,2016,2017,2018,2019],\"xaxis\":\"x\",\"y\":[5646802.16,7615424.1,9982706.34,9998021.08,4733704.8],\"yaxis\":\"y\",\"type\":\"scatter\"},{\"hovertemplate\":\"Item=Ammonium sulphate<br>Year=%{x}<br>Value=%{y}<extra></extra>\",\"legendgroup\":\"Ammonium sulphate\",\"line\":{\"color\":\"#00cc96\",\"dash\":\"solid\"},\"marker\":{\"symbol\":\"circle\"},\"mode\":\"markers+lines\",\"name\":\"Ammonium sulphate\",\"orientation\":\"v\",\"showlegend\":true,\"x\":[2015,2016,2017,2018,2019],\"xaxis\":\"x\",\"y\":[39070742.8,9422995.25,10012314.92,10193244.35,9614535.309999999],\"yaxis\":\"y\",\"type\":\"scatter\"},{\"hovertemplate\":\"Item=Calcium ammonium nitrate (CAN) and other mixtures with calcium carbonate<br>Year=%{x}<br>Value=%{y}<extra></extra>\",\"legendgroup\":\"Calcium ammonium nitrate (CAN) and other mixtures with calcium carbonate\",\"line\":{\"color\":\"#ab63fa\",\"dash\":\"solid\"},\"marker\":{\"symbol\":\"circle\"},\"mode\":\"markers+lines\",\"name\":\"Calcium ammonium nitrate (CAN) and other mixtures with calcium carbonate\",\"orientation\":\"v\",\"showlegend\":true,\"x\":[2015,2016,2017,2018,2019],\"xaxis\":\"x\",\"y\":[5018199.79,5822859.2299999995,6285203.92,5619099.63,4999243.09],\"yaxis\":\"y\",\"type\":\"scatter\"},{\"hovertemplate\":\"Item=Diammonium phosphate (DAP)<br>Year=%{x}<br>Value=%{y}<extra></extra>\",\"legendgroup\":\"Diammonium phosphate (DAP)\",\"line\":{\"color\":\"#FFA15A\",\"dash\":\"solid\"},\"marker\":{\"symbol\":\"circle\"},\"mode\":\"markers+lines\",\"name\":\"Diammonium phosphate (DAP)\",\"orientation\":\"v\",\"showlegend\":true,\"x\":[2015,2016,2017,2018,2019],\"xaxis\":\"x\",\"y\":[18268961.259999998,18140619.82,17536502.419999998,16348905.82,17233745.53],\"yaxis\":\"y\",\"type\":\"scatter\"},{\"hovertemplate\":\"Item=Fertilizers n.e.c.<br>Year=%{x}<br>Value=%{y}<extra></extra>\",\"legendgroup\":\"Fertilizers n.e.c.\",\"line\":{\"color\":\"#19d3f3\",\"dash\":\"solid\"},\"marker\":{\"symbol\":\"circle\"},\"mode\":\"markers+lines\",\"name\":\"Fertilizers n.e.c.\",\"orientation\":\"v\",\"showlegend\":true,\"x\":[2015,2016,2017,2018,2019],\"xaxis\":\"x\",\"y\":[1316901.19,1304954.75,2456808.06,1562004.44,2024976.1600000001],\"yaxis\":\"y\",\"type\":\"scatter\"},{\"hovertemplate\":\"Item=Monoammonium phosphate (MAP)<br>Year=%{x}<br>Value=%{y}<extra></extra>\",\"legendgroup\":\"Monoammonium phosphate (MAP)\",\"line\":{\"color\":\"#FF6692\",\"dash\":\"solid\"},\"marker\":{\"symbol\":\"circle\"},\"mode\":\"markers+lines\",\"name\":\"Monoammonium phosphate (MAP)\",\"orientation\":\"v\",\"showlegend\":true,\"x\":[2015,2016,2017,2018,2019],\"xaxis\":\"x\",\"y\":[5946284.24,6341498.59,6059828.0600000005,5553917.01,5478355.57],\"yaxis\":\"y\",\"type\":\"scatter\"},{\"hovertemplate\":\"Item=NPK fertilizers<br>Year=%{x}<br>Value=%{y}<extra></extra>\",\"legendgroup\":\"NPK fertilizers\",\"line\":{\"color\":\"#B6E880\",\"dash\":\"solid\"},\"marker\":{\"symbol\":\"circle\"},\"mode\":\"markers+lines\",\"name\":\"NPK fertilizers\",\"orientation\":\"v\",\"showlegend\":true,\"x\":[2015,2016,2017,2018,2019],\"xaxis\":\"x\",\"y\":[20771461.95,19792288.28,20441321.28,20025858.95,19972408.73],\"yaxis\":\"y\",\"type\":\"scatter\"},{\"hovertemplate\":\"Item=Other NK compounds<br>Year=%{x}<br>Value=%{y}<extra></extra>\",\"legendgroup\":\"Other NK compounds\",\"line\":{\"color\":\"#FF97FF\",\"dash\":\"solid\"},\"marker\":{\"symbol\":\"circle\"},\"mode\":\"markers+lines\",\"name\":\"Other NK compounds\",\"orientation\":\"v\",\"showlegend\":true,\"x\":[2015,2016,2017,2018,2019],\"xaxis\":\"x\",\"y\":[1317276.04,1312326.93,1302091.59,1326704.3699999999,1296407.53],\"yaxis\":\"y\",\"type\":\"scatter\"},{\"hovertemplate\":\"Item=Other NP compounds<br>Year=%{x}<br>Value=%{y}<extra></extra>\",\"legendgroup\":\"Other NP compounds\",\"line\":{\"color\":\"#FECB52\",\"dash\":\"solid\"},\"marker\":{\"symbol\":\"circle\"},\"mode\":\"markers+lines\",\"name\":\"Other NP compounds\",\"orientation\":\"v\",\"showlegend\":true,\"x\":[2015,2016,2017,2018,2019],\"xaxis\":\"x\",\"y\":[8828602.879999999,8725390.97,8889662.68,9156234.31,8747768.35],\"yaxis\":\"y\",\"type\":\"scatter\"},{\"hovertemplate\":\"Item=Other nitrogenous fertilizers, n.e.c.<br>Year=%{x}<br>Value=%{y}<extra></extra>\",\"legendgroup\":\"Other nitrogenous fertilizers, n.e.c.\",\"line\":{\"color\":\"#636efa\",\"dash\":\"solid\"},\"marker\":{\"symbol\":\"circle\"},\"mode\":\"markers+lines\",\"name\":\"Other nitrogenous fertilizers, n.e.c.\",\"orientation\":\"v\",\"showlegend\":true,\"x\":[2015,2016,2017,2018,2019],\"xaxis\":\"x\",\"y\":[2522570.73,1494381.53,1458780.51,1164928.8,1136866.92],\"yaxis\":\"y\",\"type\":\"scatter\"},{\"hovertemplate\":\"Item=Other phosphatic fertilizers, n.e.c.<br>Year=%{x}<br>Value=%{y}<extra></extra>\",\"legendgroup\":\"Other phosphatic fertilizers, n.e.c.\",\"line\":{\"color\":\"#EF553B\",\"dash\":\"solid\"},\"marker\":{\"symbol\":\"circle\"},\"mode\":\"markers+lines\",\"name\":\"Other phosphatic fertilizers, n.e.c.\",\"orientation\":\"v\",\"showlegend\":true,\"x\":[2015,2016,2017,2018,2019],\"xaxis\":\"x\",\"y\":[3424125.4299999997,653485.46,640081.87,256986.39,203059.44],\"yaxis\":\"y\",\"type\":\"scatter\"},{\"hovertemplate\":\"Item=Other potassic fertilizers, n.e.c.<br>Year=%{x}<br>Value=%{y}<extra></extra>\",\"legendgroup\":\"Other potassic fertilizers, n.e.c.\",\"line\":{\"color\":\"#00cc96\",\"dash\":\"solid\"},\"marker\":{\"symbol\":\"circle\"},\"mode\":\"markers+lines\",\"name\":\"Other potassic fertilizers, n.e.c.\",\"orientation\":\"v\",\"showlegend\":true,\"x\":[2015,2016,2017,2018,2019],\"xaxis\":\"x\",\"y\":[718082.47,331919.85000000003,397147.96,423051.35,310028.87],\"yaxis\":\"y\",\"type\":\"scatter\"},{\"hovertemplate\":\"Item=PK compounds<br>Year=%{x}<br>Value=%{y}<extra></extra>\",\"legendgroup\":\"PK compounds\",\"line\":{\"color\":\"#ab63fa\",\"dash\":\"solid\"},\"marker\":{\"symbol\":\"circle\"},\"mode\":\"markers+lines\",\"name\":\"PK compounds\",\"orientation\":\"v\",\"showlegend\":true,\"x\":[2015,2016,2017,2018,2019],\"xaxis\":\"x\",\"y\":[1135539.69,970334.31,1270645.06,1199286.2,788560.6799999999],\"yaxis\":\"y\",\"type\":\"scatter\"},{\"hovertemplate\":\"Item=Phosphate rock<br>Year=%{x}<br>Value=%{y}<extra></extra>\",\"legendgroup\":\"Phosphate rock\",\"line\":{\"color\":\"#FFA15A\",\"dash\":\"solid\"},\"marker\":{\"symbol\":\"circle\"},\"mode\":\"markers+lines\",\"name\":\"Phosphate rock\",\"orientation\":\"v\",\"showlegend\":true,\"x\":[2015,2016,2017,2018,2019],\"xaxis\":\"x\",\"y\":[31096.66,104005.94,116977.79000000001,172688.77000000002,114302.72],\"yaxis\":\"y\",\"type\":\"scatter\"},{\"hovertemplate\":\"Item=Potassium chloride (muriate of potash) (MOP)<br>Year=%{x}<br>Value=%{y}<extra></extra>\",\"legendgroup\":\"Potassium chloride (muriate of potash) (MOP)\",\"line\":{\"color\":\"#19d3f3\",\"dash\":\"solid\"},\"marker\":{\"symbol\":\"circle\"},\"mode\":\"markers+lines\",\"name\":\"Potassium chloride (muriate of potash) (MOP)\",\"orientation\":\"v\",\"showlegend\":true,\"x\":[2015,2016,2017,2018,2019],\"xaxis\":\"x\",\"y\":[11174637.870000001,11489492.21,11995951.52,10718333.530000001,10119541.95],\"yaxis\":\"y\",\"type\":\"scatter\"},{\"hovertemplate\":\"Item=Potassium nitrate<br>Year=%{x}<br>Value=%{y}<extra></extra>\",\"legendgroup\":\"Potassium nitrate\",\"line\":{\"color\":\"#FF6692\",\"dash\":\"solid\"},\"marker\":{\"symbol\":\"circle\"},\"mode\":\"markers+lines\",\"name\":\"Potassium nitrate\",\"orientation\":\"v\",\"showlegend\":true,\"x\":[2015,2016,2017,2018,2019],\"xaxis\":\"x\",\"y\":[151225.46,159769.59,326153.93,163457.66,95297.34],\"yaxis\":\"y\",\"type\":\"scatter\"},{\"hovertemplate\":\"Item=Potassium sulphate (sulphate of potash) (SOP)<br>Year=%{x}<br>Value=%{y}<extra></extra>\",\"legendgroup\":\"Potassium sulphate (sulphate of potash) (SOP)\",\"line\":{\"color\":\"#B6E880\",\"dash\":\"solid\"},\"marker\":{\"symbol\":\"circle\"},\"mode\":\"markers+lines\",\"name\":\"Potassium sulphate (sulphate of potash) (SOP)\",\"orientation\":\"v\",\"showlegend\":true,\"x\":[2015,2016,2017,2018,2019],\"xaxis\":\"x\",\"y\":[682803.39,636333.0800000001,680594.22,623716.0700000001,532167.47],\"yaxis\":\"y\",\"type\":\"scatter\"},{\"hovertemplate\":\"Item=Sodium nitrate<br>Year=%{x}<br>Value=%{y}<extra></extra>\",\"legendgroup\":\"Sodium nitrate\",\"line\":{\"color\":\"#FF97FF\",\"dash\":\"solid\"},\"marker\":{\"symbol\":\"circle\"},\"mode\":\"markers+lines\",\"name\":\"Sodium nitrate\",\"orientation\":\"v\",\"showlegend\":true,\"x\":[2015,2016,2017,2018,2019],\"xaxis\":\"x\",\"y\":[2052.67,1995.7099999999998,30610.3,1928.7,2446.33],\"yaxis\":\"y\",\"type\":\"scatter\"},{\"hovertemplate\":\"Item=Superphosphates above 35%<br>Year=%{x}<br>Value=%{y}<extra></extra>\",\"legendgroup\":\"Superphosphates above 35%\",\"line\":{\"color\":\"#FECB52\",\"dash\":\"solid\"},\"marker\":{\"symbol\":\"circle\"},\"mode\":\"markers+lines\",\"name\":\"Superphosphates above 35%\",\"orientation\":\"v\",\"showlegend\":true,\"x\":[2015,2016,2017,2018,2019],\"xaxis\":\"x\",\"y\":[3730928.76,3305730.9899999998,3229849.17,2384126.95,2009296.49],\"yaxis\":\"y\",\"type\":\"scatter\"},{\"hovertemplate\":\"Item=Superphosphates, other<br>Year=%{x}<br>Value=%{y}<extra></extra>\",\"legendgroup\":\"Superphosphates, other\",\"line\":{\"color\":\"#636efa\",\"dash\":\"solid\"},\"marker\":{\"symbol\":\"circle\"},\"mode\":\"markers+lines\",\"name\":\"Superphosphates, other\",\"orientation\":\"v\",\"showlegend\":true,\"x\":[2015,2016,2017,2018,2019],\"xaxis\":\"x\",\"y\":[9557298.33,8688636.19,8916640.28,9312809.62,7992183.0],\"yaxis\":\"y\",\"type\":\"scatter\"},{\"hovertemplate\":\"Item=Urea<br>Year=%{x}<br>Value=%{y}<extra></extra>\",\"legendgroup\":\"Urea\",\"line\":{\"color\":\"#EF553B\",\"dash\":\"solid\"},\"marker\":{\"symbol\":\"circle\"},\"mode\":\"markers+lines\",\"name\":\"Urea\",\"orientation\":\"v\",\"showlegend\":true,\"x\":[2015,2016,2017,2018,2019],\"xaxis\":\"x\",\"y\":[68043767.88,68799641.47,79899011.36,73937340.95,65220948.22],\"yaxis\":\"y\",\"type\":\"scatter\"},{\"hovertemplate\":\"Item=Urea and ammonium nitrate solutions (UAN)<br>Year=%{x}<br>Value=%{y}<extra></extra>\",\"legendgroup\":\"Urea and ammonium nitrate solutions (UAN)\",\"line\":{\"color\":\"#00cc96\",\"dash\":\"solid\"},\"marker\":{\"symbol\":\"circle\"},\"mode\":\"markers+lines\",\"name\":\"Urea and ammonium nitrate solutions (UAN)\",\"orientation\":\"v\",\"showlegend\":true,\"x\":[2015,2016,2017,2018,2019],\"xaxis\":\"x\",\"y\":[15046296.879999999,15218601.889999999,15053795.26,15857567.139999999,13819818.16],\"yaxis\":\"y\",\"type\":\"scatter\"}],                        {\"template\":{\"data\":{\"bar\":[{\"error_x\":{\"color\":\"#2a3f5f\"},\"error_y\":{\"color\":\"#2a3f5f\"},\"marker\":{\"line\":{\"color\":\"#E5ECF6\",\"width\":0.5},\"pattern\":{\"fillmode\":\"overlay\",\"size\":10,\"solidity\":0.2}},\"type\":\"bar\"}],\"barpolar\":[{\"marker\":{\"line\":{\"color\":\"#E5ECF6\",\"width\":0.5},\"pattern\":{\"fillmode\":\"overlay\",\"size\":10,\"solidity\":0.2}},\"type\":\"barpolar\"}],\"carpet\":[{\"aaxis\":{\"endlinecolor\":\"#2a3f5f\",\"gridcolor\":\"white\",\"linecolor\":\"white\",\"minorgridcolor\":\"white\",\"startlinecolor\":\"#2a3f5f\"},\"baxis\":{\"endlinecolor\":\"#2a3f5f\",\"gridcolor\":\"white\",\"linecolor\":\"white\",\"minorgridcolor\":\"white\",\"startlinecolor\":\"#2a3f5f\"},\"type\":\"carpet\"}],\"choropleth\":[{\"colorbar\":{\"outlinewidth\":0,\"ticks\":\"\"},\"type\":\"choropleth\"}],\"contour\":[{\"colorbar\":{\"outlinewidth\":0,\"ticks\":\"\"},\"colorscale\":[[0.0,\"#0d0887\"],[0.1111111111111111,\"#46039f\"],[0.2222222222222222,\"#7201a8\"],[0.3333333333333333,\"#9c179e\"],[0.4444444444444444,\"#bd3786\"],[0.5555555555555556,\"#d8576b\"],[0.6666666666666666,\"#ed7953\"],[0.7777777777777778,\"#fb9f3a\"],[0.8888888888888888,\"#fdca26\"],[1.0,\"#f0f921\"]],\"type\":\"contour\"}],\"contourcarpet\":[{\"colorbar\":{\"outlinewidth\":0,\"ticks\":\"\"},\"type\":\"contourcarpet\"}],\"heatmap\":[{\"colorbar\":{\"outlinewidth\":0,\"ticks\":\"\"},\"colorscale\":[[0.0,\"#0d0887\"],[0.1111111111111111,\"#46039f\"],[0.2222222222222222,\"#7201a8\"],[0.3333333333333333,\"#9c179e\"],[0.4444444444444444,\"#bd3786\"],[0.5555555555555556,\"#d8576b\"],[0.6666666666666666,\"#ed7953\"],[0.7777777777777778,\"#fb9f3a\"],[0.8888888888888888,\"#fdca26\"],[1.0,\"#f0f921\"]],\"type\":\"heatmap\"}],\"heatmapgl\":[{\"colorbar\":{\"outlinewidth\":0,\"ticks\":\"\"},\"colorscale\":[[0.0,\"#0d0887\"],[0.1111111111111111,\"#46039f\"],[0.2222222222222222,\"#7201a8\"],[0.3333333333333333,\"#9c179e\"],[0.4444444444444444,\"#bd3786\"],[0.5555555555555556,\"#d8576b\"],[0.6666666666666666,\"#ed7953\"],[0.7777777777777778,\"#fb9f3a\"],[0.8888888888888888,\"#fdca26\"],[1.0,\"#f0f921\"]],\"type\":\"heatmapgl\"}],\"histogram\":[{\"marker\":{\"pattern\":{\"fillmode\":\"overlay\",\"size\":10,\"solidity\":0.2}},\"type\":\"histogram\"}],\"histogram2d\":[{\"colorbar\":{\"outlinewidth\":0,\"ticks\":\"\"},\"colorscale\":[[0.0,\"#0d0887\"],[0.1111111111111111,\"#46039f\"],[0.2222222222222222,\"#7201a8\"],[0.3333333333333333,\"#9c179e\"],[0.4444444444444444,\"#bd3786\"],[0.5555555555555556,\"#d8576b\"],[0.6666666666666666,\"#ed7953\"],[0.7777777777777778,\"#fb9f3a\"],[0.8888888888888888,\"#fdca26\"],[1.0,\"#f0f921\"]],\"type\":\"histogram2d\"}],\"histogram2dcontour\":[{\"colorbar\":{\"outlinewidth\":0,\"ticks\":\"\"},\"colorscale\":[[0.0,\"#0d0887\"],[0.1111111111111111,\"#46039f\"],[0.2222222222222222,\"#7201a8\"],[0.3333333333333333,\"#9c179e\"],[0.4444444444444444,\"#bd3786\"],[0.5555555555555556,\"#d8576b\"],[0.6666666666666666,\"#ed7953\"],[0.7777777777777778,\"#fb9f3a\"],[0.8888888888888888,\"#fdca26\"],[1.0,\"#f0f921\"]],\"type\":\"histogram2dcontour\"}],\"mesh3d\":[{\"colorbar\":{\"outlinewidth\":0,\"ticks\":\"\"},\"type\":\"mesh3d\"}],\"parcoords\":[{\"line\":{\"colorbar\":{\"outlinewidth\":0,\"ticks\":\"\"}},\"type\":\"parcoords\"}],\"pie\":[{\"automargin\":true,\"type\":\"pie\"}],\"scatter\":[{\"marker\":{\"colorbar\":{\"outlinewidth\":0,\"ticks\":\"\"}},\"type\":\"scatter\"}],\"scatter3d\":[{\"line\":{\"colorbar\":{\"outlinewidth\":0,\"ticks\":\"\"}},\"marker\":{\"colorbar\":{\"outlinewidth\":0,\"ticks\":\"\"}},\"type\":\"scatter3d\"}],\"scattercarpet\":[{\"marker\":{\"colorbar\":{\"outlinewidth\":0,\"ticks\":\"\"}},\"type\":\"scattercarpet\"}],\"scattergeo\":[{\"marker\":{\"colorbar\":{\"outlinewidth\":0,\"ticks\":\"\"}},\"type\":\"scattergeo\"}],\"scattergl\":[{\"marker\":{\"colorbar\":{\"outlinewidth\":0,\"ticks\":\"\"}},\"type\":\"scattergl\"}],\"scattermapbox\":[{\"marker\":{\"colorbar\":{\"outlinewidth\":0,\"ticks\":\"\"}},\"type\":\"scattermapbox\"}],\"scatterpolar\":[{\"marker\":{\"colorbar\":{\"outlinewidth\":0,\"ticks\":\"\"}},\"type\":\"scatterpolar\"}],\"scatterpolargl\":[{\"marker\":{\"colorbar\":{\"outlinewidth\":0,\"ticks\":\"\"}},\"type\":\"scatterpolargl\"}],\"scatterternary\":[{\"marker\":{\"colorbar\":{\"outlinewidth\":0,\"ticks\":\"\"}},\"type\":\"scatterternary\"}],\"surface\":[{\"colorbar\":{\"outlinewidth\":0,\"ticks\":\"\"},\"colorscale\":[[0.0,\"#0d0887\"],[0.1111111111111111,\"#46039f\"],[0.2222222222222222,\"#7201a8\"],[0.3333333333333333,\"#9c179e\"],[0.4444444444444444,\"#bd3786\"],[0.5555555555555556,\"#d8576b\"],[0.6666666666666666,\"#ed7953\"],[0.7777777777777778,\"#fb9f3a\"],[0.8888888888888888,\"#fdca26\"],[1.0,\"#f0f921\"]],\"type\":\"surface\"}],\"table\":[{\"cells\":{\"fill\":{\"color\":\"#EBF0F8\"},\"line\":{\"color\":\"white\"}},\"header\":{\"fill\":{\"color\":\"#C8D4E3\"},\"line\":{\"color\":\"white\"}},\"type\":\"table\"}]},\"layout\":{\"annotationdefaults\":{\"arrowcolor\":\"#2a3f5f\",\"arrowhead\":0,\"arrowwidth\":1},\"autotypenumbers\":\"strict\",\"coloraxis\":{\"colorbar\":{\"outlinewidth\":0,\"ticks\":\"\"}},\"colorscale\":{\"diverging\":[[0,\"#8e0152\"],[0.1,\"#c51b7d\"],[0.2,\"#de77ae\"],[0.3,\"#f1b6da\"],[0.4,\"#fde0ef\"],[0.5,\"#f7f7f7\"],[0.6,\"#e6f5d0\"],[0.7,\"#b8e186\"],[0.8,\"#7fbc41\"],[0.9,\"#4d9221\"],[1,\"#276419\"]],\"sequential\":[[0.0,\"#0d0887\"],[0.1111111111111111,\"#46039f\"],[0.2222222222222222,\"#7201a8\"],[0.3333333333333333,\"#9c179e\"],[0.4444444444444444,\"#bd3786\"],[0.5555555555555556,\"#d8576b\"],[0.6666666666666666,\"#ed7953\"],[0.7777777777777778,\"#fb9f3a\"],[0.8888888888888888,\"#fdca26\"],[1.0,\"#f0f921\"]],\"sequentialminus\":[[0.0,\"#0d0887\"],[0.1111111111111111,\"#46039f\"],[0.2222222222222222,\"#7201a8\"],[0.3333333333333333,\"#9c179e\"],[0.4444444444444444,\"#bd3786\"],[0.5555555555555556,\"#d8576b\"],[0.6666666666666666,\"#ed7953\"],[0.7777777777777778,\"#fb9f3a\"],[0.8888888888888888,\"#fdca26\"],[1.0,\"#f0f921\"]]},\"colorway\":[\"#636efa\",\"#EF553B\",\"#00cc96\",\"#ab63fa\",\"#FFA15A\",\"#19d3f3\",\"#FF6692\",\"#B6E880\",\"#FF97FF\",\"#FECB52\"],\"font\":{\"color\":\"#2a3f5f\"},\"geo\":{\"bgcolor\":\"white\",\"lakecolor\":\"white\",\"landcolor\":\"#E5ECF6\",\"showlakes\":true,\"showland\":true,\"subunitcolor\":\"white\"},\"hoverlabel\":{\"align\":\"left\"},\"hovermode\":\"closest\",\"mapbox\":{\"style\":\"light\"},\"paper_bgcolor\":\"white\",\"plot_bgcolor\":\"#E5ECF6\",\"polar\":{\"angularaxis\":{\"gridcolor\":\"white\",\"linecolor\":\"white\",\"ticks\":\"\"},\"bgcolor\":\"#E5ECF6\",\"radialaxis\":{\"gridcolor\":\"white\",\"linecolor\":\"white\",\"ticks\":\"\"}},\"scene\":{\"xaxis\":{\"backgroundcolor\":\"#E5ECF6\",\"gridcolor\":\"white\",\"gridwidth\":2,\"linecolor\":\"white\",\"showbackground\":true,\"ticks\":\"\",\"zerolinecolor\":\"white\"},\"yaxis\":{\"backgroundcolor\":\"#E5ECF6\",\"gridcolor\":\"white\",\"gridwidth\":2,\"linecolor\":\"white\",\"showbackground\":true,\"ticks\":\"\",\"zerolinecolor\":\"white\"},\"zaxis\":{\"backgroundcolor\":\"#E5ECF6\",\"gridcolor\":\"white\",\"gridwidth\":2,\"linecolor\":\"white\",\"showbackground\":true,\"ticks\":\"\",\"zerolinecolor\":\"white\"}},\"shapedefaults\":{\"line\":{\"color\":\"#2a3f5f\"}},\"ternary\":{\"aaxis\":{\"gridcolor\":\"white\",\"linecolor\":\"white\",\"ticks\":\"\"},\"baxis\":{\"gridcolor\":\"white\",\"linecolor\":\"white\",\"ticks\":\"\"},\"bgcolor\":\"#E5ECF6\",\"caxis\":{\"gridcolor\":\"white\",\"linecolor\":\"white\",\"ticks\":\"\"}},\"title\":{\"x\":0.05},\"xaxis\":{\"automargin\":true,\"gridcolor\":\"white\",\"linecolor\":\"white\",\"ticks\":\"\",\"title\":{\"standoff\":15},\"zerolinecolor\":\"white\",\"zerolinewidth\":2},\"yaxis\":{\"automargin\":true,\"gridcolor\":\"white\",\"linecolor\":\"white\",\"ticks\":\"\",\"title\":{\"standoff\":15},\"zerolinecolor\":\"white\",\"zerolinewidth\":2}}},\"xaxis\":{\"anchor\":\"y\",\"domain\":[0.0,1.0],\"title\":{\"text\":\"Year\"},\"tickvals\":[2015,2016,2017,2018,2019]},\"yaxis\":{\"anchor\":\"x\",\"domain\":[0.0,1.0],\"title\":{\"text\":\"Value\"}},\"legend\":{\"title\":{\"text\":\"Item\"},\"tracegroupgap\":0},\"margin\":{\"t\":60}},                        {\"responsive\": true}                    ).then(function(){\n",
              "                            \n",
              "var gd = document.getElementById('90356af7-1490-4b16-9fa8-655beb16cb1e');\n",
              "var x = new MutationObserver(function (mutations, observer) {{\n",
              "        var display = window.getComputedStyle(gd).display;\n",
              "        if (!display || display === 'none') {{\n",
              "            console.log([gd, 'removed!']);\n",
              "            Plotly.purge(gd);\n",
              "            observer.disconnect();\n",
              "        }}\n",
              "}});\n",
              "\n",
              "// Listen for the removal of the full notebook cells\n",
              "var notebookContainer = gd.closest('#notebook-container');\n",
              "if (notebookContainer) {{\n",
              "    x.observe(notebookContainer, {childList: true});\n",
              "}}\n",
              "\n",
              "// Listen for the clearing of the current output cell\n",
              "var outputEl = gd.closest('.output');\n",
              "if (outputEl) {{\n",
              "    x.observe(outputEl, {childList: true});\n",
              "}}\n",
              "\n",
              "                        })                };                            </script>        </div>\n",
              "</body>\n",
              "</html>"
            ]
          },
          "metadata": {}
        }
      ],
      "source": [
        "fig = px.line(df_year_use, x='Year', y='Value', color='Item', markers=True)\n",
        "fig.update_xaxes(tickvals=[2015, 2016, 2017, 2018, 2019])\n",
        "\n",
        "fig.show()"
      ]
    },
    {
      "cell_type": "markdown",
      "source": [
        "- Явным лидером по применению в с/х является удобрение Urea (Мочевина (или карбамид))\n",
        "- После 2015 года идет резкий спад использования удобрения Ammonium sulphate (сульфат аммония)\n",
        "- Остальные удобрения используют ровно без заметных скачков и спадов"
      ],
      "metadata": {
        "id": "C0jpVB7MbiLs"
      }
    },
    {
      "cell_type": "markdown",
      "metadata": {
        "id": "VKVj3NUCD5gQ"
      },
      "source": [
        "***Динамика количества импорта каждого вида удобрений с 2015 по 2019 года для топ-5 импортеров, тонны***"
      ]
    },
    {
      "cell_type": "code",
      "execution_count": 46,
      "metadata": {
        "id": "hXOMCZpry3uW"
      },
      "outputs": [],
      "source": [
        "list_1 = ['United States of America', 'India', 'Brazil', 'China, mainland', 'Indonesia']"
      ]
    },
    {
      "cell_type": "code",
      "execution_count": 47,
      "metadata": {
        "colab": {
          "base_uri": "https://localhost:8080/",
          "height": 1000
        },
        "id": "y_ULNjnCmp_P",
        "outputId": "b2c4f404-0200-4986-bc3a-b81e347a1045"
      },
      "outputs": [
        {
          "output_type": "display_data",
          "data": {
            "text/html": [
              "<html>\n",
              "<head><meta charset=\"utf-8\" /></head>\n",
              "<body>\n",
              "    <div>            <script src=\"https://cdnjs.cloudflare.com/ajax/libs/mathjax/2.7.5/MathJax.js?config=TeX-AMS-MML_SVG\"></script><script type=\"text/javascript\">if (window.MathJax) {MathJax.Hub.Config({SVG: {font: \"STIX-Web\"}});}</script>                <script type=\"text/javascript\">window.PlotlyConfig = {MathJaxConfig: 'local'};</script>\n",
              "        <script src=\"https://cdn.plot.ly/plotly-2.8.3.min.js\"></script>                <div id=\"d7cf5b81-555d-4131-bb98-b8a46d6d642e\" class=\"plotly-graph-div\" style=\"height:525px; width:100%;\"></div>            <script type=\"text/javascript\">                                    window.PLOTLYENV=window.PLOTLYENV || {};                                    if (document.getElementById(\"d7cf5b81-555d-4131-bb98-b8a46d6d642e\")) {                    Plotly.newPlot(                        \"d7cf5b81-555d-4131-bb98-b8a46d6d642e\",                        [{\"hovertemplate\":\"Item=Ammonia, anhydrous<br>Year=%{x}<br>Value=%{y}<extra></extra>\",\"legendgroup\":\"Ammonia, anhydrous\",\"line\":{\"color\":\"#636efa\",\"dash\":\"solid\"},\"marker\":{\"symbol\":\"circle\"},\"mode\":\"markers+lines\",\"name\":\"Ammonia, anhydrous\",\"orientation\":\"v\",\"showlegend\":true,\"x\":[2015,2016,2017,2018,2019],\"xaxis\":\"x\",\"y\":[5249999.03,4667619.0,3763441.0,3078545.0,2459413.0],\"yaxis\":\"y\",\"type\":\"scatter\"},{\"hovertemplate\":\"Item=Ammonium nitrate (AN)<br>Year=%{x}<br>Value=%{y}<extra></extra>\",\"legendgroup\":\"Ammonium nitrate (AN)\",\"line\":{\"color\":\"#EF553B\",\"dash\":\"solid\"},\"marker\":{\"symbol\":\"circle\"},\"mode\":\"markers+lines\",\"name\":\"Ammonium nitrate (AN)\",\"orientation\":\"v\",\"showlegend\":true,\"x\":[2015,2016,2017,2018,2019],\"xaxis\":\"x\",\"y\":[493972.0,364856.0,294947.0,483527.0,444509.0],\"yaxis\":\"y\",\"type\":\"scatter\"},{\"hovertemplate\":\"Item=Ammonium sulphate<br>Year=%{x}<br>Value=%{y}<extra></extra>\",\"legendgroup\":\"Ammonium sulphate\",\"line\":{\"color\":\"#00cc96\",\"dash\":\"solid\"},\"marker\":{\"symbol\":\"circle\"},\"mode\":\"markers+lines\",\"name\":\"Ammonium sulphate\",\"orientation\":\"v\",\"showlegend\":true,\"x\":[2015,2016,2017,2018,2019],\"xaxis\":\"x\",\"y\":[545404.0,477203.0,425620.0,403888.0,493419.0],\"yaxis\":\"y\",\"type\":\"scatter\"},{\"hovertemplate\":\"Item=Calcium ammonium nitrate (CAN) and other mixtures with calcium carbonate<br>Year=%{x}<br>Value=%{y}<extra></extra>\",\"legendgroup\":\"Calcium ammonium nitrate (CAN) and other mixtures with calcium carbonate\",\"line\":{\"color\":\"#ab63fa\",\"dash\":\"solid\"},\"marker\":{\"symbol\":\"circle\"},\"mode\":\"markers+lines\",\"name\":\"Calcium ammonium nitrate (CAN) and other mixtures with calcium carbonate\",\"orientation\":\"v\",\"showlegend\":true,\"x\":[2015,2016,2017,2018,2019],\"xaxis\":\"x\",\"y\":[40235.0,61251.0,43047.0,58820.0,44472.0],\"yaxis\":\"y\",\"type\":\"scatter\"},{\"hovertemplate\":\"Item=Diammonium phosphate (DAP)<br>Year=%{x}<br>Value=%{y}<extra></extra>\",\"legendgroup\":\"Diammonium phosphate (DAP)\",\"line\":{\"color\":\"#FFA15A\",\"dash\":\"solid\"},\"marker\":{\"symbol\":\"circle\"},\"mode\":\"markers+lines\",\"name\":\"Diammonium phosphate (DAP)\",\"orientation\":\"v\",\"showlegend\":true,\"x\":[2015,2016,2017,2018,2019],\"xaxis\":\"x\",\"y\":[599165.99,585546.0,804648.0,1124352.0,1157919.0],\"yaxis\":\"y\",\"type\":\"scatter\"},{\"hovertemplate\":\"Item=Fertilizers n.e.c.<br>Year=%{x}<br>Value=%{y}<extra></extra>\",\"legendgroup\":\"Fertilizers n.e.c.\",\"line\":{\"color\":\"#19d3f3\",\"dash\":\"solid\"},\"marker\":{\"symbol\":\"circle\"},\"mode\":\"markers+lines\",\"name\":\"Fertilizers n.e.c.\",\"orientation\":\"v\",\"showlegend\":true,\"x\":[2015,2016,2017,2018,2019],\"xaxis\":\"x\",\"y\":[186737.0,245688.23,158435.27,200693.92,194043.48],\"yaxis\":\"y\",\"type\":\"scatter\"},{\"hovertemplate\":\"Item=Monoammonium phosphate (MAP)<br>Year=%{x}<br>Value=%{y}<extra></extra>\",\"legendgroup\":\"Monoammonium phosphate (MAP)\",\"line\":{\"color\":\"#FF6692\",\"dash\":\"solid\"},\"marker\":{\"symbol\":\"circle\"},\"mode\":\"markers+lines\",\"name\":\"Monoammonium phosphate (MAP)\",\"orientation\":\"v\",\"showlegend\":true,\"x\":[2015,2016,2017,2018,2019],\"xaxis\":\"x\",\"y\":[582305.0,854134.0,1038063.0,1689989.0,1889403.0],\"yaxis\":\"y\",\"type\":\"scatter\"},{\"hovertemplate\":\"Item=NPK fertilizers<br>Year=%{x}<br>Value=%{y}<extra></extra>\",\"legendgroup\":\"NPK fertilizers\",\"line\":{\"color\":\"#B6E880\",\"dash\":\"solid\"},\"marker\":{\"symbol\":\"circle\"},\"mode\":\"markers+lines\",\"name\":\"NPK fertilizers\",\"orientation\":\"v\",\"showlegend\":true,\"x\":[2015,2016,2017,2018,2019],\"xaxis\":\"x\",\"y\":[161467.0,169119.0,201742.0,183783.0,181361.0],\"yaxis\":\"y\",\"type\":\"scatter\"},{\"hovertemplate\":\"Item=Other NP compounds<br>Year=%{x}<br>Value=%{y}<extra></extra>\",\"legendgroup\":\"Other NP compounds\",\"line\":{\"color\":\"#FF97FF\",\"dash\":\"solid\"},\"marker\":{\"symbol\":\"circle\"},\"mode\":\"markers+lines\",\"name\":\"Other NP compounds\",\"orientation\":\"v\",\"showlegend\":true,\"x\":[2015,2016,2017,2018,2019],\"xaxis\":\"x\",\"y\":[102397.0,99908.0,170101.0,198247.0,163086.0],\"yaxis\":\"y\",\"type\":\"scatter\"},{\"hovertemplate\":\"Item=Other nitrogenous fertilizers, n.e.c.<br>Year=%{x}<br>Value=%{y}<extra></extra>\",\"legendgroup\":\"Other nitrogenous fertilizers, n.e.c.\",\"line\":{\"color\":\"#FECB52\",\"dash\":\"solid\"},\"marker\":{\"symbol\":\"circle\"},\"mode\":\"markers+lines\",\"name\":\"Other nitrogenous fertilizers, n.e.c.\",\"orientation\":\"v\",\"showlegend\":true,\"x\":[2015,2016,2017,2018,2019],\"xaxis\":\"x\",\"y\":[685092.43,578639.23,644910.74,767538.11,865554.47],\"yaxis\":\"y\",\"type\":\"scatter\"},{\"hovertemplate\":\"Item=Other phosphatic fertilizers, n.e.c.<br>Year=%{x}<br>Value=%{y}<extra></extra>\",\"legendgroup\":\"Other phosphatic fertilizers, n.e.c.\",\"line\":{\"color\":\"#636efa\",\"dash\":\"solid\"},\"marker\":{\"symbol\":\"circle\"},\"mode\":\"markers+lines\",\"name\":\"Other phosphatic fertilizers, n.e.c.\",\"orientation\":\"v\",\"showlegend\":true,\"x\":[2015,2016,2017,2018,2019],\"xaxis\":\"x\",\"y\":[79876.0,35382.0,12243.0,8790.0,953.0],\"yaxis\":\"y\",\"type\":\"scatter\"},{\"hovertemplate\":\"Item=Other potassic fertilizers, n.e.c.<br>Year=%{x}<br>Value=%{y}<extra></extra>\",\"legendgroup\":\"Other potassic fertilizers, n.e.c.\",\"line\":{\"color\":\"#EF553B\",\"dash\":\"solid\"},\"marker\":{\"symbol\":\"circle\"},\"mode\":\"markers+lines\",\"name\":\"Other potassic fertilizers, n.e.c.\",\"orientation\":\"v\",\"showlegend\":true,\"x\":[2015,2016,2017,2018,2019],\"xaxis\":\"x\",\"y\":[33901.0,53644.0,71615.0,46162.0,157335.0],\"yaxis\":\"y\",\"type\":\"scatter\"},{\"hovertemplate\":\"Item=PK compounds<br>Year=%{x}<br>Value=%{y}<extra></extra>\",\"legendgroup\":\"PK compounds\",\"line\":{\"color\":\"#00cc96\",\"dash\":\"solid\"},\"marker\":{\"symbol\":\"circle\"},\"mode\":\"markers+lines\",\"name\":\"PK compounds\",\"orientation\":\"v\",\"showlegend\":true,\"x\":[2015,2016,2017,2018,2019],\"xaxis\":\"x\",\"y\":[13913.0,8802.0,8810.0,7682.0,9925.0],\"yaxis\":\"y\",\"type\":\"scatter\"},{\"hovertemplate\":\"Item=Phosphate rock<br>Year=%{x}<br>Value=%{y}<extra></extra>\",\"legendgroup\":\"Phosphate rock\",\"line\":{\"color\":\"#ab63fa\",\"dash\":\"solid\"},\"marker\":{\"symbol\":\"circle\"},\"mode\":\"markers+lines\",\"name\":\"Phosphate rock\",\"orientation\":\"v\",\"showlegend\":true,\"x\":[2015,2016,2017,2018,2019],\"xaxis\":\"x\",\"y\":[1961086.95,1587669.0,2515886.0,2779240.0,2156258.0],\"yaxis\":\"y\",\"type\":\"scatter\"},{\"hovertemplate\":\"Item=Potassium chloride (muriate of potash) (MOP)<br>Year=%{x}<br>Value=%{y}<extra></extra>\",\"legendgroup\":\"Potassium chloride (muriate of potash) (MOP)\",\"line\":{\"color\":\"#FFA15A\",\"dash\":\"solid\"},\"marker\":{\"symbol\":\"circle\"},\"mode\":\"markers+lines\",\"name\":\"Potassium chloride (muriate of potash) (MOP)\",\"orientation\":\"v\",\"showlegend\":true,\"x\":[2015,2016,2017,2018,2019],\"xaxis\":\"x\",\"y\":[10141118.2,8764925.0,12160773.0,12833440.0,11432566.0],\"yaxis\":\"y\",\"type\":\"scatter\"},{\"hovertemplate\":\"Item=Potassium nitrate<br>Year=%{x}<br>Value=%{y}<extra></extra>\",\"legendgroup\":\"Potassium nitrate\",\"line\":{\"color\":\"#19d3f3\",\"dash\":\"solid\"},\"marker\":{\"symbol\":\"circle\"},\"mode\":\"markers+lines\",\"name\":\"Potassium nitrate\",\"orientation\":\"v\",\"showlegend\":true,\"x\":[2015,2016,2017,2018,2019],\"xaxis\":\"x\",\"y\":[122364.0,66010.0,106279.0,91302.0,110993.0],\"yaxis\":\"y\",\"type\":\"scatter\"},{\"hovertemplate\":\"Item=Potassium sulphate (sulphate of potash) (SOP)<br>Year=%{x}<br>Value=%{y}<extra></extra>\",\"legendgroup\":\"Potassium sulphate (sulphate of potash) (SOP)\",\"line\":{\"color\":\"#FF6692\",\"dash\":\"solid\"},\"marker\":{\"symbol\":\"circle\"},\"mode\":\"markers+lines\",\"name\":\"Potassium sulphate (sulphate of potash) (SOP)\",\"orientation\":\"v\",\"showlegend\":true,\"x\":[2015,2016,2017,2018,2019],\"xaxis\":\"x\",\"y\":[134073.0,113231.0,127022.0,69297.0,74548.0],\"yaxis\":\"y\",\"type\":\"scatter\"},{\"hovertemplate\":\"Item=Sodium nitrate<br>Year=%{x}<br>Value=%{y}<extra></extra>\",\"legendgroup\":\"Sodium nitrate\",\"line\":{\"color\":\"#B6E880\",\"dash\":\"solid\"},\"marker\":{\"symbol\":\"circle\"},\"mode\":\"markers+lines\",\"name\":\"Sodium nitrate\",\"orientation\":\"v\",\"showlegend\":true,\"x\":[2015,2016,2017,2018,2019],\"xaxis\":\"x\",\"y\":[108621.0,62261.0,90844.0,29742.0,28247.0],\"yaxis\":\"y\",\"type\":\"scatter\"},{\"hovertemplate\":\"Item=Superphosphates above 35%<br>Year=%{x}<br>Value=%{y}<extra></extra>\",\"legendgroup\":\"Superphosphates above 35%\",\"line\":{\"color\":\"#FF97FF\",\"dash\":\"solid\"},\"marker\":{\"symbol\":\"circle\"},\"mode\":\"markers+lines\",\"name\":\"Superphosphates above 35%\",\"orientation\":\"v\",\"showlegend\":true,\"x\":[2015,2016,2017,2018,2019],\"xaxis\":\"x\",\"y\":[200659.0,305727.0,305286.0,413370.0,219423.0],\"yaxis\":\"y\",\"type\":\"scatter\"},{\"hovertemplate\":\"Item=Urea<br>Year=%{x}<br>Value=%{y}<extra></extra>\",\"legendgroup\":\"Urea\",\"line\":{\"color\":\"#FECB52\",\"dash\":\"solid\"},\"marker\":{\"symbol\":\"circle\"},\"mode\":\"markers+lines\",\"name\":\"Urea\",\"orientation\":\"v\",\"showlegend\":true,\"x\":[2015,2016,2017,2018,2019],\"xaxis\":\"x\",\"y\":[8091896.04,7142183.0,6091125.0,5541056.0,4883022.0],\"yaxis\":\"y\",\"type\":\"scatter\"},{\"hovertemplate\":\"Item=Urea and ammonium nitrate solutions (UAN)<br>Year=%{x}<br>Value=%{y}<extra></extra>\",\"legendgroup\":\"Urea and ammonium nitrate solutions (UAN)\",\"line\":{\"color\":\"#636efa\",\"dash\":\"solid\"},\"marker\":{\"symbol\":\"circle\"},\"mode\":\"markers+lines\",\"name\":\"Urea and ammonium nitrate solutions (UAN)\",\"orientation\":\"v\",\"showlegend\":true,\"x\":[2015,2016,2017,2018,2019],\"xaxis\":\"x\",\"y\":[3112023.05,2753514.0,2620549.0,2396109.0,2843129.0],\"yaxis\":\"y\",\"type\":\"scatter\"},{\"hovertemplate\":\"Item=Superphosphates, other<br>Year=%{x}<br>Value=%{y}<extra></extra>\",\"legendgroup\":\"Superphosphates, other\",\"line\":{\"color\":\"#EF553B\",\"dash\":\"solid\"},\"marker\":{\"symbol\":\"circle\"},\"mode\":\"markers+lines\",\"name\":\"Superphosphates, other\",\"orientation\":\"v\",\"showlegend\":true,\"x\":[2017,2018,2019],\"xaxis\":\"x\",\"y\":[16485.0,2538.0,1267.0],\"yaxis\":\"y\",\"type\":\"scatter\"}],                        {\"template\":{\"data\":{\"bar\":[{\"error_x\":{\"color\":\"#2a3f5f\"},\"error_y\":{\"color\":\"#2a3f5f\"},\"marker\":{\"line\":{\"color\":\"#E5ECF6\",\"width\":0.5},\"pattern\":{\"fillmode\":\"overlay\",\"size\":10,\"solidity\":0.2}},\"type\":\"bar\"}],\"barpolar\":[{\"marker\":{\"line\":{\"color\":\"#E5ECF6\",\"width\":0.5},\"pattern\":{\"fillmode\":\"overlay\",\"size\":10,\"solidity\":0.2}},\"type\":\"barpolar\"}],\"carpet\":[{\"aaxis\":{\"endlinecolor\":\"#2a3f5f\",\"gridcolor\":\"white\",\"linecolor\":\"white\",\"minorgridcolor\":\"white\",\"startlinecolor\":\"#2a3f5f\"},\"baxis\":{\"endlinecolor\":\"#2a3f5f\",\"gridcolor\":\"white\",\"linecolor\":\"white\",\"minorgridcolor\":\"white\",\"startlinecolor\":\"#2a3f5f\"},\"type\":\"carpet\"}],\"choropleth\":[{\"colorbar\":{\"outlinewidth\":0,\"ticks\":\"\"},\"type\":\"choropleth\"}],\"contour\":[{\"colorbar\":{\"outlinewidth\":0,\"ticks\":\"\"},\"colorscale\":[[0.0,\"#0d0887\"],[0.1111111111111111,\"#46039f\"],[0.2222222222222222,\"#7201a8\"],[0.3333333333333333,\"#9c179e\"],[0.4444444444444444,\"#bd3786\"],[0.5555555555555556,\"#d8576b\"],[0.6666666666666666,\"#ed7953\"],[0.7777777777777778,\"#fb9f3a\"],[0.8888888888888888,\"#fdca26\"],[1.0,\"#f0f921\"]],\"type\":\"contour\"}],\"contourcarpet\":[{\"colorbar\":{\"outlinewidth\":0,\"ticks\":\"\"},\"type\":\"contourcarpet\"}],\"heatmap\":[{\"colorbar\":{\"outlinewidth\":0,\"ticks\":\"\"},\"colorscale\":[[0.0,\"#0d0887\"],[0.1111111111111111,\"#46039f\"],[0.2222222222222222,\"#7201a8\"],[0.3333333333333333,\"#9c179e\"],[0.4444444444444444,\"#bd3786\"],[0.5555555555555556,\"#d8576b\"],[0.6666666666666666,\"#ed7953\"],[0.7777777777777778,\"#fb9f3a\"],[0.8888888888888888,\"#fdca26\"],[1.0,\"#f0f921\"]],\"type\":\"heatmap\"}],\"heatmapgl\":[{\"colorbar\":{\"outlinewidth\":0,\"ticks\":\"\"},\"colorscale\":[[0.0,\"#0d0887\"],[0.1111111111111111,\"#46039f\"],[0.2222222222222222,\"#7201a8\"],[0.3333333333333333,\"#9c179e\"],[0.4444444444444444,\"#bd3786\"],[0.5555555555555556,\"#d8576b\"],[0.6666666666666666,\"#ed7953\"],[0.7777777777777778,\"#fb9f3a\"],[0.8888888888888888,\"#fdca26\"],[1.0,\"#f0f921\"]],\"type\":\"heatmapgl\"}],\"histogram\":[{\"marker\":{\"pattern\":{\"fillmode\":\"overlay\",\"size\":10,\"solidity\":0.2}},\"type\":\"histogram\"}],\"histogram2d\":[{\"colorbar\":{\"outlinewidth\":0,\"ticks\":\"\"},\"colorscale\":[[0.0,\"#0d0887\"],[0.1111111111111111,\"#46039f\"],[0.2222222222222222,\"#7201a8\"],[0.3333333333333333,\"#9c179e\"],[0.4444444444444444,\"#bd3786\"],[0.5555555555555556,\"#d8576b\"],[0.6666666666666666,\"#ed7953\"],[0.7777777777777778,\"#fb9f3a\"],[0.8888888888888888,\"#fdca26\"],[1.0,\"#f0f921\"]],\"type\":\"histogram2d\"}],\"histogram2dcontour\":[{\"colorbar\":{\"outlinewidth\":0,\"ticks\":\"\"},\"colorscale\":[[0.0,\"#0d0887\"],[0.1111111111111111,\"#46039f\"],[0.2222222222222222,\"#7201a8\"],[0.3333333333333333,\"#9c179e\"],[0.4444444444444444,\"#bd3786\"],[0.5555555555555556,\"#d8576b\"],[0.6666666666666666,\"#ed7953\"],[0.7777777777777778,\"#fb9f3a\"],[0.8888888888888888,\"#fdca26\"],[1.0,\"#f0f921\"]],\"type\":\"histogram2dcontour\"}],\"mesh3d\":[{\"colorbar\":{\"outlinewidth\":0,\"ticks\":\"\"},\"type\":\"mesh3d\"}],\"parcoords\":[{\"line\":{\"colorbar\":{\"outlinewidth\":0,\"ticks\":\"\"}},\"type\":\"parcoords\"}],\"pie\":[{\"automargin\":true,\"type\":\"pie\"}],\"scatter\":[{\"marker\":{\"colorbar\":{\"outlinewidth\":0,\"ticks\":\"\"}},\"type\":\"scatter\"}],\"scatter3d\":[{\"line\":{\"colorbar\":{\"outlinewidth\":0,\"ticks\":\"\"}},\"marker\":{\"colorbar\":{\"outlinewidth\":0,\"ticks\":\"\"}},\"type\":\"scatter3d\"}],\"scattercarpet\":[{\"marker\":{\"colorbar\":{\"outlinewidth\":0,\"ticks\":\"\"}},\"type\":\"scattercarpet\"}],\"scattergeo\":[{\"marker\":{\"colorbar\":{\"outlinewidth\":0,\"ticks\":\"\"}},\"type\":\"scattergeo\"}],\"scattergl\":[{\"marker\":{\"colorbar\":{\"outlinewidth\":0,\"ticks\":\"\"}},\"type\":\"scattergl\"}],\"scattermapbox\":[{\"marker\":{\"colorbar\":{\"outlinewidth\":0,\"ticks\":\"\"}},\"type\":\"scattermapbox\"}],\"scatterpolar\":[{\"marker\":{\"colorbar\":{\"outlinewidth\":0,\"ticks\":\"\"}},\"type\":\"scatterpolar\"}],\"scatterpolargl\":[{\"marker\":{\"colorbar\":{\"outlinewidth\":0,\"ticks\":\"\"}},\"type\":\"scatterpolargl\"}],\"scatterternary\":[{\"marker\":{\"colorbar\":{\"outlinewidth\":0,\"ticks\":\"\"}},\"type\":\"scatterternary\"}],\"surface\":[{\"colorbar\":{\"outlinewidth\":0,\"ticks\":\"\"},\"colorscale\":[[0.0,\"#0d0887\"],[0.1111111111111111,\"#46039f\"],[0.2222222222222222,\"#7201a8\"],[0.3333333333333333,\"#9c179e\"],[0.4444444444444444,\"#bd3786\"],[0.5555555555555556,\"#d8576b\"],[0.6666666666666666,\"#ed7953\"],[0.7777777777777778,\"#fb9f3a\"],[0.8888888888888888,\"#fdca26\"],[1.0,\"#f0f921\"]],\"type\":\"surface\"}],\"table\":[{\"cells\":{\"fill\":{\"color\":\"#EBF0F8\"},\"line\":{\"color\":\"white\"}},\"header\":{\"fill\":{\"color\":\"#C8D4E3\"},\"line\":{\"color\":\"white\"}},\"type\":\"table\"}]},\"layout\":{\"annotationdefaults\":{\"arrowcolor\":\"#2a3f5f\",\"arrowhead\":0,\"arrowwidth\":1},\"autotypenumbers\":\"strict\",\"coloraxis\":{\"colorbar\":{\"outlinewidth\":0,\"ticks\":\"\"}},\"colorscale\":{\"diverging\":[[0,\"#8e0152\"],[0.1,\"#c51b7d\"],[0.2,\"#de77ae\"],[0.3,\"#f1b6da\"],[0.4,\"#fde0ef\"],[0.5,\"#f7f7f7\"],[0.6,\"#e6f5d0\"],[0.7,\"#b8e186\"],[0.8,\"#7fbc41\"],[0.9,\"#4d9221\"],[1,\"#276419\"]],\"sequential\":[[0.0,\"#0d0887\"],[0.1111111111111111,\"#46039f\"],[0.2222222222222222,\"#7201a8\"],[0.3333333333333333,\"#9c179e\"],[0.4444444444444444,\"#bd3786\"],[0.5555555555555556,\"#d8576b\"],[0.6666666666666666,\"#ed7953\"],[0.7777777777777778,\"#fb9f3a\"],[0.8888888888888888,\"#fdca26\"],[1.0,\"#f0f921\"]],\"sequentialminus\":[[0.0,\"#0d0887\"],[0.1111111111111111,\"#46039f\"],[0.2222222222222222,\"#7201a8\"],[0.3333333333333333,\"#9c179e\"],[0.4444444444444444,\"#bd3786\"],[0.5555555555555556,\"#d8576b\"],[0.6666666666666666,\"#ed7953\"],[0.7777777777777778,\"#fb9f3a\"],[0.8888888888888888,\"#fdca26\"],[1.0,\"#f0f921\"]]},\"colorway\":[\"#636efa\",\"#EF553B\",\"#00cc96\",\"#ab63fa\",\"#FFA15A\",\"#19d3f3\",\"#FF6692\",\"#B6E880\",\"#FF97FF\",\"#FECB52\"],\"font\":{\"color\":\"#2a3f5f\"},\"geo\":{\"bgcolor\":\"white\",\"lakecolor\":\"white\",\"landcolor\":\"#E5ECF6\",\"showlakes\":true,\"showland\":true,\"subunitcolor\":\"white\"},\"hoverlabel\":{\"align\":\"left\"},\"hovermode\":\"closest\",\"mapbox\":{\"style\":\"light\"},\"paper_bgcolor\":\"white\",\"plot_bgcolor\":\"#E5ECF6\",\"polar\":{\"angularaxis\":{\"gridcolor\":\"white\",\"linecolor\":\"white\",\"ticks\":\"\"},\"bgcolor\":\"#E5ECF6\",\"radialaxis\":{\"gridcolor\":\"white\",\"linecolor\":\"white\",\"ticks\":\"\"}},\"scene\":{\"xaxis\":{\"backgroundcolor\":\"#E5ECF6\",\"gridcolor\":\"white\",\"gridwidth\":2,\"linecolor\":\"white\",\"showbackground\":true,\"ticks\":\"\",\"zerolinecolor\":\"white\"},\"yaxis\":{\"backgroundcolor\":\"#E5ECF6\",\"gridcolor\":\"white\",\"gridwidth\":2,\"linecolor\":\"white\",\"showbackground\":true,\"ticks\":\"\",\"zerolinecolor\":\"white\"},\"zaxis\":{\"backgroundcolor\":\"#E5ECF6\",\"gridcolor\":\"white\",\"gridwidth\":2,\"linecolor\":\"white\",\"showbackground\":true,\"ticks\":\"\",\"zerolinecolor\":\"white\"}},\"shapedefaults\":{\"line\":{\"color\":\"#2a3f5f\"}},\"ternary\":{\"aaxis\":{\"gridcolor\":\"white\",\"linecolor\":\"white\",\"ticks\":\"\"},\"baxis\":{\"gridcolor\":\"white\",\"linecolor\":\"white\",\"ticks\":\"\"},\"bgcolor\":\"#E5ECF6\",\"caxis\":{\"gridcolor\":\"white\",\"linecolor\":\"white\",\"ticks\":\"\"}},\"title\":{\"x\":0.05},\"xaxis\":{\"automargin\":true,\"gridcolor\":\"white\",\"linecolor\":\"white\",\"ticks\":\"\",\"title\":{\"standoff\":15},\"zerolinecolor\":\"white\",\"zerolinewidth\":2},\"yaxis\":{\"automargin\":true,\"gridcolor\":\"white\",\"linecolor\":\"white\",\"ticks\":\"\",\"title\":{\"standoff\":15},\"zerolinecolor\":\"white\",\"zerolinewidth\":2}}},\"xaxis\":{\"anchor\":\"y\",\"domain\":[0.0,1.0],\"title\":{\"text\":\"Year\"}},\"yaxis\":{\"anchor\":\"x\",\"domain\":[0.0,1.0],\"title\":{\"text\":\"Value\"}},\"legend\":{\"title\":{\"text\":\"Item\"},\"tracegroupgap\":0},\"title\":{\"text\":\"United States of America\"}},                        {\"responsive\": true}                    ).then(function(){\n",
              "                            \n",
              "var gd = document.getElementById('d7cf5b81-555d-4131-bb98-b8a46d6d642e');\n",
              "var x = new MutationObserver(function (mutations, observer) {{\n",
              "        var display = window.getComputedStyle(gd).display;\n",
              "        if (!display || display === 'none') {{\n",
              "            console.log([gd, 'removed!']);\n",
              "            Plotly.purge(gd);\n",
              "            observer.disconnect();\n",
              "        }}\n",
              "}});\n",
              "\n",
              "// Listen for the removal of the full notebook cells\n",
              "var notebookContainer = gd.closest('#notebook-container');\n",
              "if (notebookContainer) {{\n",
              "    x.observe(notebookContainer, {childList: true});\n",
              "}}\n",
              "\n",
              "// Listen for the clearing of the current output cell\n",
              "var outputEl = gd.closest('.output');\n",
              "if (outputEl) {{\n",
              "    x.observe(outputEl, {childList: true});\n",
              "}}\n",
              "\n",
              "                        })                };                            </script>        </div>\n",
              "</body>\n",
              "</html>"
            ]
          },
          "metadata": {}
        },
        {
          "output_type": "display_data",
          "data": {
            "text/html": [
              "<html>\n",
              "<head><meta charset=\"utf-8\" /></head>\n",
              "<body>\n",
              "    <div>            <script src=\"https://cdnjs.cloudflare.com/ajax/libs/mathjax/2.7.5/MathJax.js?config=TeX-AMS-MML_SVG\"></script><script type=\"text/javascript\">if (window.MathJax) {MathJax.Hub.Config({SVG: {font: \"STIX-Web\"}});}</script>                <script type=\"text/javascript\">window.PlotlyConfig = {MathJaxConfig: 'local'};</script>\n",
              "        <script src=\"https://cdn.plot.ly/plotly-2.8.3.min.js\"></script>                <div id=\"8d2f39dd-9151-45fe-a631-9b6f8c31b0bc\" class=\"plotly-graph-div\" style=\"height:525px; width:100%;\"></div>            <script type=\"text/javascript\">                                    window.PLOTLYENV=window.PLOTLYENV || {};                                    if (document.getElementById(\"8d2f39dd-9151-45fe-a631-9b6f8c31b0bc\")) {                    Plotly.newPlot(                        \"8d2f39dd-9151-45fe-a631-9b6f8c31b0bc\",                        [{\"hovertemplate\":\"Item=Ammonia, anhydrous<br>Year=%{x}<br>Value=%{y}<extra></extra>\",\"legendgroup\":\"Ammonia, anhydrous\",\"line\":{\"color\":\"#636efa\",\"dash\":\"solid\"},\"marker\":{\"symbol\":\"circle\"},\"mode\":\"markers+lines\",\"name\":\"Ammonia, anhydrous\",\"orientation\":\"v\",\"showlegend\":true,\"x\":[2015,2016,2017,2018,2019],\"xaxis\":\"x\",\"y\":[2162185.85,2296076.13,2340430.59,2592110.38,2691012.56],\"yaxis\":\"y\",\"type\":\"scatter\"},{\"hovertemplate\":\"Item=Ammonium nitrate (AN)<br>Year=%{x}<br>Value=%{y}<extra></extra>\",\"legendgroup\":\"Ammonium nitrate (AN)\",\"line\":{\"color\":\"#EF553B\",\"dash\":\"solid\"},\"marker\":{\"symbol\":\"circle\"},\"mode\":\"markers+lines\",\"name\":\"Ammonium nitrate (AN)\",\"orientation\":\"v\",\"showlegend\":true,\"x\":[2015,2016,2017,2018,2019],\"xaxis\":\"x\",\"y\":[150488.3,307048.5,275821.84,213252.25,306948.5],\"yaxis\":\"y\",\"type\":\"scatter\"},{\"hovertemplate\":\"Item=Ammonium sulphate<br>Year=%{x}<br>Value=%{y}<extra></extra>\",\"legendgroup\":\"Ammonium sulphate\",\"line\":{\"color\":\"#00cc96\",\"dash\":\"solid\"},\"marker\":{\"symbol\":\"circle\"},\"mode\":\"markers+lines\",\"name\":\"Ammonium sulphate\",\"orientation\":\"v\",\"showlegend\":true,\"x\":[2015,2016,2017,2018,2019],\"xaxis\":\"x\",\"y\":[131571.28,111548.35,117800.13,89163.14,93468.07],\"yaxis\":\"y\",\"type\":\"scatter\"},{\"hovertemplate\":\"Item=Diammonium phosphate (DAP)<br>Year=%{x}<br>Value=%{y}<extra></extra>\",\"legendgroup\":\"Diammonium phosphate (DAP)\",\"line\":{\"color\":\"#ab63fa\",\"dash\":\"solid\"},\"marker\":{\"symbol\":\"circle\"},\"mode\":\"markers+lines\",\"name\":\"Diammonium phosphate (DAP)\",\"orientation\":\"v\",\"showlegend\":true,\"x\":[2015,2016,2017,2018,2019],\"xaxis\":\"x\",\"y\":[6472195.07,4843356.64,4094042.69,6299021.62,5749309.26],\"yaxis\":\"y\",\"type\":\"scatter\"},{\"hovertemplate\":\"Item=Fertilizers n.e.c.<br>Year=%{x}<br>Value=%{y}<extra></extra>\",\"legendgroup\":\"Fertilizers n.e.c.\",\"line\":{\"color\":\"#FFA15A\",\"dash\":\"solid\"},\"marker\":{\"symbol\":\"circle\"},\"mode\":\"markers+lines\",\"name\":\"Fertilizers n.e.c.\",\"orientation\":\"v\",\"showlegend\":true,\"x\":[2015,2016,2017,2018,2019],\"xaxis\":\"x\",\"y\":[178001.18,41557.97,39789.89,49584.17,52097.18],\"yaxis\":\"y\",\"type\":\"scatter\"},{\"hovertemplate\":\"Item=Monoammonium phosphate (MAP)<br>Year=%{x}<br>Value=%{y}<extra></extra>\",\"legendgroup\":\"Monoammonium phosphate (MAP)\",\"line\":{\"color\":\"#19d3f3\",\"dash\":\"solid\"},\"marker\":{\"symbol\":\"circle\"},\"mode\":\"markers+lines\",\"name\":\"Monoammonium phosphate (MAP)\",\"orientation\":\"v\",\"showlegend\":true,\"x\":[2015,2016,2017,2018,2019],\"xaxis\":\"x\",\"y\":[116379.96,147683.6,139422.07,153412.61,192125.89],\"yaxis\":\"y\",\"type\":\"scatter\"},{\"hovertemplate\":\"Item=NPK fertilizers<br>Year=%{x}<br>Value=%{y}<extra></extra>\",\"legendgroup\":\"NPK fertilizers\",\"line\":{\"color\":\"#FF6692\",\"dash\":\"solid\"},\"marker\":{\"symbol\":\"circle\"},\"mode\":\"markers+lines\",\"name\":\"NPK fertilizers\",\"orientation\":\"v\",\"showlegend\":true,\"x\":[2015,2016,2017,2018,2019],\"xaxis\":\"x\",\"y\":[258399.32,268027.48,202529.51,576511.1,601779.51],\"yaxis\":\"y\",\"type\":\"scatter\"},{\"hovertemplate\":\"Item=Other NP compounds<br>Year=%{x}<br>Value=%{y}<extra></extra>\",\"legendgroup\":\"Other NP compounds\",\"line\":{\"color\":\"#B6E880\",\"dash\":\"solid\"},\"marker\":{\"symbol\":\"circle\"},\"mode\":\"markers+lines\",\"name\":\"Other NP compounds\",\"orientation\":\"v\",\"showlegend\":true,\"x\":[2015,2016,2017,2018,2019],\"xaxis\":\"x\",\"y\":[289119.26,273164.56,236511.9,100881.68,388674.76],\"yaxis\":\"y\",\"type\":\"scatter\"},{\"hovertemplate\":\"Item=Other nitrogenous fertilizers, n.e.c.<br>Year=%{x}<br>Value=%{y}<extra></extra>\",\"legendgroup\":\"Other nitrogenous fertilizers, n.e.c.\",\"line\":{\"color\":\"#FF97FF\",\"dash\":\"solid\"},\"marker\":{\"symbol\":\"circle\"},\"mode\":\"markers+lines\",\"name\":\"Other nitrogenous fertilizers, n.e.c.\",\"orientation\":\"v\",\"showlegend\":true,\"x\":[2015,2016,2017,2018,2019],\"xaxis\":\"x\",\"y\":[102185.94,106090.08,123905.28,157761.37,165088.75],\"yaxis\":\"y\",\"type\":\"scatter\"},{\"hovertemplate\":\"Item=Other phosphatic fertilizers, n.e.c.<br>Year=%{x}<br>Value=%{y}<extra></extra>\",\"legendgroup\":\"Other phosphatic fertilizers, n.e.c.\",\"line\":{\"color\":\"#FECB52\",\"dash\":\"solid\"},\"marker\":{\"symbol\":\"circle\"},\"mode\":\"markers+lines\",\"name\":\"Other phosphatic fertilizers, n.e.c.\",\"orientation\":\"v\",\"showlegend\":true,\"x\":[2015,2016,2017,2018,2019],\"xaxis\":\"x\",\"y\":[144.72,12.0,56.53,2493.25,16.0],\"yaxis\":\"y\",\"type\":\"scatter\"},{\"hovertemplate\":\"Item=Other potassic fertilizers, n.e.c.<br>Year=%{x}<br>Value=%{y}<extra></extra>\",\"legendgroup\":\"Other potassic fertilizers, n.e.c.\",\"line\":{\"color\":\"#636efa\",\"dash\":\"solid\"},\"marker\":{\"symbol\":\"circle\"},\"mode\":\"markers+lines\",\"name\":\"Other potassic fertilizers, n.e.c.\",\"orientation\":\"v\",\"showlegend\":true,\"x\":[2015,2016,2017,2018,2019],\"xaxis\":\"x\",\"y\":[63835.55,32017.59,55580.95,148264.61,75356.28],\"yaxis\":\"y\",\"type\":\"scatter\"},{\"hovertemplate\":\"Item=PK compounds<br>Year=%{x}<br>Value=%{y}<extra></extra>\",\"legendgroup\":\"PK compounds\",\"line\":{\"color\":\"#EF553B\",\"dash\":\"solid\"},\"marker\":{\"symbol\":\"circle\"},\"mode\":\"markers+lines\",\"name\":\"PK compounds\",\"orientation\":\"v\",\"showlegend\":true,\"x\":[2015,2016,2017,2018,2019],\"xaxis\":\"x\",\"y\":[18941.16,26616.7,24618.73,31261.4,26944.63],\"yaxis\":\"y\",\"type\":\"scatter\"},{\"hovertemplate\":\"Item=Phosphate rock<br>Year=%{x}<br>Value=%{y}<extra></extra>\",\"legendgroup\":\"Phosphate rock\",\"line\":{\"color\":\"#00cc96\",\"dash\":\"solid\"},\"marker\":{\"symbol\":\"circle\"},\"mode\":\"markers+lines\",\"name\":\"Phosphate rock\",\"orientation\":\"v\",\"showlegend\":true,\"x\":[2015,2016,2017,2018,2019],\"xaxis\":\"x\",\"y\":[8298338.22,7500199.87,7482893.93,7417343.83,7387890.41],\"yaxis\":\"y\",\"type\":\"scatter\"},{\"hovertemplate\":\"Item=Potassium chloride (muriate of potash) (MOP)<br>Year=%{x}<br>Value=%{y}<extra></extra>\",\"legendgroup\":\"Potassium chloride (muriate of potash) (MOP)\",\"line\":{\"color\":\"#ab63fa\",\"dash\":\"solid\"},\"marker\":{\"symbol\":\"circle\"},\"mode\":\"markers+lines\",\"name\":\"Potassium chloride (muriate of potash) (MOP)\",\"orientation\":\"v\",\"showlegend\":true,\"x\":[2015,2016,2017,2018,2019],\"xaxis\":\"x\",\"y\":[3641575.66,3753063.14,4447397.38,4433742.89,4189276.87],\"yaxis\":\"y\",\"type\":\"scatter\"},{\"hovertemplate\":\"Item=Potassium nitrate<br>Year=%{x}<br>Value=%{y}<extra></extra>\",\"legendgroup\":\"Potassium nitrate\",\"line\":{\"color\":\"#FFA15A\",\"dash\":\"solid\"},\"marker\":{\"symbol\":\"circle\"},\"mode\":\"markers+lines\",\"name\":\"Potassium nitrate\",\"orientation\":\"v\",\"showlegend\":true,\"x\":[2015,2016,2017,2018,2019],\"xaxis\":\"x\",\"y\":[286.32,190.88,265.77,99.55,195.25],\"yaxis\":\"y\",\"type\":\"scatter\"},{\"hovertemplate\":\"Item=Potassium sulphate (sulphate of potash) (SOP)<br>Year=%{x}<br>Value=%{y}<extra></extra>\",\"legendgroup\":\"Potassium sulphate (sulphate of potash) (SOP)\",\"line\":{\"color\":\"#19d3f3\",\"dash\":\"solid\"},\"marker\":{\"symbol\":\"circle\"},\"mode\":\"markers+lines\",\"name\":\"Potassium sulphate (sulphate of potash) (SOP)\",\"orientation\":\"v\",\"showlegend\":true,\"x\":[2015,2016,2017,2018,2019],\"xaxis\":\"x\",\"y\":[66895.34,43281.02,67364.57,40299.57,58184.15],\"yaxis\":\"y\",\"type\":\"scatter\"},{\"hovertemplate\":\"Item=Sodium nitrate<br>Year=%{x}<br>Value=%{y}<extra></extra>\",\"legendgroup\":\"Sodium nitrate\",\"line\":{\"color\":\"#FF6692\",\"dash\":\"solid\"},\"marker\":{\"symbol\":\"circle\"},\"mode\":\"markers+lines\",\"name\":\"Sodium nitrate\",\"orientation\":\"v\",\"showlegend\":true,\"x\":[2015,2016,2017,2018,2019],\"xaxis\":\"x\",\"y\":[426.7,901.07,211.6,396.98,626.73],\"yaxis\":\"y\",\"type\":\"scatter\"},{\"hovertemplate\":\"Item=Urea<br>Year=%{x}<br>Value=%{y}<extra></extra>\",\"legendgroup\":\"Urea\",\"line\":{\"color\":\"#B6E880\",\"dash\":\"solid\"},\"marker\":{\"symbol\":\"circle\"},\"mode\":\"markers+lines\",\"name\":\"Urea\",\"orientation\":\"v\",\"showlegend\":true,\"x\":[2015,2016,2017,2018,2019],\"xaxis\":\"x\",\"y\":[9915149.74,6991686.94,5944113.92,5465688.18,11196391.4],\"yaxis\":\"y\",\"type\":\"scatter\"},{\"hovertemplate\":\"Item=Urea and ammonium nitrate solutions (UAN)<br>Year=%{x}<br>Value=%{y}<extra></extra>\",\"legendgroup\":\"Urea and ammonium nitrate solutions (UAN)\",\"line\":{\"color\":\"#FF97FF\",\"dash\":\"solid\"},\"marker\":{\"symbol\":\"circle\"},\"mode\":\"markers+lines\",\"name\":\"Urea and ammonium nitrate solutions (UAN)\",\"orientation\":\"v\",\"showlegend\":true,\"x\":[2015,2018],\"xaxis\":\"x\",\"y\":[24.0,1091.97],\"yaxis\":\"y\",\"type\":\"scatter\"},{\"hovertemplate\":\"Item=Superphosphates above 35%<br>Year=%{x}<br>Value=%{y}<extra></extra>\",\"legendgroup\":\"Superphosphates above 35%\",\"line\":{\"color\":\"#FECB52\",\"dash\":\"solid\"},\"marker\":{\"symbol\":\"circle\"},\"mode\":\"markers+lines\",\"name\":\"Superphosphates above 35%\",\"orientation\":\"v\",\"showlegend\":true,\"x\":[2016],\"xaxis\":\"x\",\"y\":[55.38],\"yaxis\":\"y\",\"type\":\"scatter\"},{\"hovertemplate\":\"Item=Calcium ammonium nitrate (CAN) and other mixtures with calcium carbonate<br>Year=%{x}<br>Value=%{y}<extra></extra>\",\"legendgroup\":\"Calcium ammonium nitrate (CAN) and other mixtures with calcium carbonate\",\"line\":{\"color\":\"#636efa\",\"dash\":\"solid\"},\"marker\":{\"symbol\":\"circle\"},\"mode\":\"markers+lines\",\"name\":\"Calcium ammonium nitrate (CAN) and other mixtures with calcium carbonate\",\"orientation\":\"v\",\"showlegend\":true,\"x\":[2019],\"xaxis\":\"x\",\"y\":[9.01],\"yaxis\":\"y\",\"type\":\"scatter\"},{\"hovertemplate\":\"Item=Superphosphates, other<br>Year=%{x}<br>Value=%{y}<extra></extra>\",\"legendgroup\":\"Superphosphates, other\",\"line\":{\"color\":\"#EF553B\",\"dash\":\"solid\"},\"marker\":{\"symbol\":\"circle\"},\"mode\":\"markers+lines\",\"name\":\"Superphosphates, other\",\"orientation\":\"v\",\"showlegend\":true,\"x\":[2019],\"xaxis\":\"x\",\"y\":[733.94],\"yaxis\":\"y\",\"type\":\"scatter\"}],                        {\"template\":{\"data\":{\"bar\":[{\"error_x\":{\"color\":\"#2a3f5f\"},\"error_y\":{\"color\":\"#2a3f5f\"},\"marker\":{\"line\":{\"color\":\"#E5ECF6\",\"width\":0.5},\"pattern\":{\"fillmode\":\"overlay\",\"size\":10,\"solidity\":0.2}},\"type\":\"bar\"}],\"barpolar\":[{\"marker\":{\"line\":{\"color\":\"#E5ECF6\",\"width\":0.5},\"pattern\":{\"fillmode\":\"overlay\",\"size\":10,\"solidity\":0.2}},\"type\":\"barpolar\"}],\"carpet\":[{\"aaxis\":{\"endlinecolor\":\"#2a3f5f\",\"gridcolor\":\"white\",\"linecolor\":\"white\",\"minorgridcolor\":\"white\",\"startlinecolor\":\"#2a3f5f\"},\"baxis\":{\"endlinecolor\":\"#2a3f5f\",\"gridcolor\":\"white\",\"linecolor\":\"white\",\"minorgridcolor\":\"white\",\"startlinecolor\":\"#2a3f5f\"},\"type\":\"carpet\"}],\"choropleth\":[{\"colorbar\":{\"outlinewidth\":0,\"ticks\":\"\"},\"type\":\"choropleth\"}],\"contour\":[{\"colorbar\":{\"outlinewidth\":0,\"ticks\":\"\"},\"colorscale\":[[0.0,\"#0d0887\"],[0.1111111111111111,\"#46039f\"],[0.2222222222222222,\"#7201a8\"],[0.3333333333333333,\"#9c179e\"],[0.4444444444444444,\"#bd3786\"],[0.5555555555555556,\"#d8576b\"],[0.6666666666666666,\"#ed7953\"],[0.7777777777777778,\"#fb9f3a\"],[0.8888888888888888,\"#fdca26\"],[1.0,\"#f0f921\"]],\"type\":\"contour\"}],\"contourcarpet\":[{\"colorbar\":{\"outlinewidth\":0,\"ticks\":\"\"},\"type\":\"contourcarpet\"}],\"heatmap\":[{\"colorbar\":{\"outlinewidth\":0,\"ticks\":\"\"},\"colorscale\":[[0.0,\"#0d0887\"],[0.1111111111111111,\"#46039f\"],[0.2222222222222222,\"#7201a8\"],[0.3333333333333333,\"#9c179e\"],[0.4444444444444444,\"#bd3786\"],[0.5555555555555556,\"#d8576b\"],[0.6666666666666666,\"#ed7953\"],[0.7777777777777778,\"#fb9f3a\"],[0.8888888888888888,\"#fdca26\"],[1.0,\"#f0f921\"]],\"type\":\"heatmap\"}],\"heatmapgl\":[{\"colorbar\":{\"outlinewidth\":0,\"ticks\":\"\"},\"colorscale\":[[0.0,\"#0d0887\"],[0.1111111111111111,\"#46039f\"],[0.2222222222222222,\"#7201a8\"],[0.3333333333333333,\"#9c179e\"],[0.4444444444444444,\"#bd3786\"],[0.5555555555555556,\"#d8576b\"],[0.6666666666666666,\"#ed7953\"],[0.7777777777777778,\"#fb9f3a\"],[0.8888888888888888,\"#fdca26\"],[1.0,\"#f0f921\"]],\"type\":\"heatmapgl\"}],\"histogram\":[{\"marker\":{\"pattern\":{\"fillmode\":\"overlay\",\"size\":10,\"solidity\":0.2}},\"type\":\"histogram\"}],\"histogram2d\":[{\"colorbar\":{\"outlinewidth\":0,\"ticks\":\"\"},\"colorscale\":[[0.0,\"#0d0887\"],[0.1111111111111111,\"#46039f\"],[0.2222222222222222,\"#7201a8\"],[0.3333333333333333,\"#9c179e\"],[0.4444444444444444,\"#bd3786\"],[0.5555555555555556,\"#d8576b\"],[0.6666666666666666,\"#ed7953\"],[0.7777777777777778,\"#fb9f3a\"],[0.8888888888888888,\"#fdca26\"],[1.0,\"#f0f921\"]],\"type\":\"histogram2d\"}],\"histogram2dcontour\":[{\"colorbar\":{\"outlinewidth\":0,\"ticks\":\"\"},\"colorscale\":[[0.0,\"#0d0887\"],[0.1111111111111111,\"#46039f\"],[0.2222222222222222,\"#7201a8\"],[0.3333333333333333,\"#9c179e\"],[0.4444444444444444,\"#bd3786\"],[0.5555555555555556,\"#d8576b\"],[0.6666666666666666,\"#ed7953\"],[0.7777777777777778,\"#fb9f3a\"],[0.8888888888888888,\"#fdca26\"],[1.0,\"#f0f921\"]],\"type\":\"histogram2dcontour\"}],\"mesh3d\":[{\"colorbar\":{\"outlinewidth\":0,\"ticks\":\"\"},\"type\":\"mesh3d\"}],\"parcoords\":[{\"line\":{\"colorbar\":{\"outlinewidth\":0,\"ticks\":\"\"}},\"type\":\"parcoords\"}],\"pie\":[{\"automargin\":true,\"type\":\"pie\"}],\"scatter\":[{\"marker\":{\"colorbar\":{\"outlinewidth\":0,\"ticks\":\"\"}},\"type\":\"scatter\"}],\"scatter3d\":[{\"line\":{\"colorbar\":{\"outlinewidth\":0,\"ticks\":\"\"}},\"marker\":{\"colorbar\":{\"outlinewidth\":0,\"ticks\":\"\"}},\"type\":\"scatter3d\"}],\"scattercarpet\":[{\"marker\":{\"colorbar\":{\"outlinewidth\":0,\"ticks\":\"\"}},\"type\":\"scattercarpet\"}],\"scattergeo\":[{\"marker\":{\"colorbar\":{\"outlinewidth\":0,\"ticks\":\"\"}},\"type\":\"scattergeo\"}],\"scattergl\":[{\"marker\":{\"colorbar\":{\"outlinewidth\":0,\"ticks\":\"\"}},\"type\":\"scattergl\"}],\"scattermapbox\":[{\"marker\":{\"colorbar\":{\"outlinewidth\":0,\"ticks\":\"\"}},\"type\":\"scattermapbox\"}],\"scatterpolar\":[{\"marker\":{\"colorbar\":{\"outlinewidth\":0,\"ticks\":\"\"}},\"type\":\"scatterpolar\"}],\"scatterpolargl\":[{\"marker\":{\"colorbar\":{\"outlinewidth\":0,\"ticks\":\"\"}},\"type\":\"scatterpolargl\"}],\"scatterternary\":[{\"marker\":{\"colorbar\":{\"outlinewidth\":0,\"ticks\":\"\"}},\"type\":\"scatterternary\"}],\"surface\":[{\"colorbar\":{\"outlinewidth\":0,\"ticks\":\"\"},\"colorscale\":[[0.0,\"#0d0887\"],[0.1111111111111111,\"#46039f\"],[0.2222222222222222,\"#7201a8\"],[0.3333333333333333,\"#9c179e\"],[0.4444444444444444,\"#bd3786\"],[0.5555555555555556,\"#d8576b\"],[0.6666666666666666,\"#ed7953\"],[0.7777777777777778,\"#fb9f3a\"],[0.8888888888888888,\"#fdca26\"],[1.0,\"#f0f921\"]],\"type\":\"surface\"}],\"table\":[{\"cells\":{\"fill\":{\"color\":\"#EBF0F8\"},\"line\":{\"color\":\"white\"}},\"header\":{\"fill\":{\"color\":\"#C8D4E3\"},\"line\":{\"color\":\"white\"}},\"type\":\"table\"}]},\"layout\":{\"annotationdefaults\":{\"arrowcolor\":\"#2a3f5f\",\"arrowhead\":0,\"arrowwidth\":1},\"autotypenumbers\":\"strict\",\"coloraxis\":{\"colorbar\":{\"outlinewidth\":0,\"ticks\":\"\"}},\"colorscale\":{\"diverging\":[[0,\"#8e0152\"],[0.1,\"#c51b7d\"],[0.2,\"#de77ae\"],[0.3,\"#f1b6da\"],[0.4,\"#fde0ef\"],[0.5,\"#f7f7f7\"],[0.6,\"#e6f5d0\"],[0.7,\"#b8e186\"],[0.8,\"#7fbc41\"],[0.9,\"#4d9221\"],[1,\"#276419\"]],\"sequential\":[[0.0,\"#0d0887\"],[0.1111111111111111,\"#46039f\"],[0.2222222222222222,\"#7201a8\"],[0.3333333333333333,\"#9c179e\"],[0.4444444444444444,\"#bd3786\"],[0.5555555555555556,\"#d8576b\"],[0.6666666666666666,\"#ed7953\"],[0.7777777777777778,\"#fb9f3a\"],[0.8888888888888888,\"#fdca26\"],[1.0,\"#f0f921\"]],\"sequentialminus\":[[0.0,\"#0d0887\"],[0.1111111111111111,\"#46039f\"],[0.2222222222222222,\"#7201a8\"],[0.3333333333333333,\"#9c179e\"],[0.4444444444444444,\"#bd3786\"],[0.5555555555555556,\"#d8576b\"],[0.6666666666666666,\"#ed7953\"],[0.7777777777777778,\"#fb9f3a\"],[0.8888888888888888,\"#fdca26\"],[1.0,\"#f0f921\"]]},\"colorway\":[\"#636efa\",\"#EF553B\",\"#00cc96\",\"#ab63fa\",\"#FFA15A\",\"#19d3f3\",\"#FF6692\",\"#B6E880\",\"#FF97FF\",\"#FECB52\"],\"font\":{\"color\":\"#2a3f5f\"},\"geo\":{\"bgcolor\":\"white\",\"lakecolor\":\"white\",\"landcolor\":\"#E5ECF6\",\"showlakes\":true,\"showland\":true,\"subunitcolor\":\"white\"},\"hoverlabel\":{\"align\":\"left\"},\"hovermode\":\"closest\",\"mapbox\":{\"style\":\"light\"},\"paper_bgcolor\":\"white\",\"plot_bgcolor\":\"#E5ECF6\",\"polar\":{\"angularaxis\":{\"gridcolor\":\"white\",\"linecolor\":\"white\",\"ticks\":\"\"},\"bgcolor\":\"#E5ECF6\",\"radialaxis\":{\"gridcolor\":\"white\",\"linecolor\":\"white\",\"ticks\":\"\"}},\"scene\":{\"xaxis\":{\"backgroundcolor\":\"#E5ECF6\",\"gridcolor\":\"white\",\"gridwidth\":2,\"linecolor\":\"white\",\"showbackground\":true,\"ticks\":\"\",\"zerolinecolor\":\"white\"},\"yaxis\":{\"backgroundcolor\":\"#E5ECF6\",\"gridcolor\":\"white\",\"gridwidth\":2,\"linecolor\":\"white\",\"showbackground\":true,\"ticks\":\"\",\"zerolinecolor\":\"white\"},\"zaxis\":{\"backgroundcolor\":\"#E5ECF6\",\"gridcolor\":\"white\",\"gridwidth\":2,\"linecolor\":\"white\",\"showbackground\":true,\"ticks\":\"\",\"zerolinecolor\":\"white\"}},\"shapedefaults\":{\"line\":{\"color\":\"#2a3f5f\"}},\"ternary\":{\"aaxis\":{\"gridcolor\":\"white\",\"linecolor\":\"white\",\"ticks\":\"\"},\"baxis\":{\"gridcolor\":\"white\",\"linecolor\":\"white\",\"ticks\":\"\"},\"bgcolor\":\"#E5ECF6\",\"caxis\":{\"gridcolor\":\"white\",\"linecolor\":\"white\",\"ticks\":\"\"}},\"title\":{\"x\":0.05},\"xaxis\":{\"automargin\":true,\"gridcolor\":\"white\",\"linecolor\":\"white\",\"ticks\":\"\",\"title\":{\"standoff\":15},\"zerolinecolor\":\"white\",\"zerolinewidth\":2},\"yaxis\":{\"automargin\":true,\"gridcolor\":\"white\",\"linecolor\":\"white\",\"ticks\":\"\",\"title\":{\"standoff\":15},\"zerolinecolor\":\"white\",\"zerolinewidth\":2}}},\"xaxis\":{\"anchor\":\"y\",\"domain\":[0.0,1.0],\"title\":{\"text\":\"Year\"}},\"yaxis\":{\"anchor\":\"x\",\"domain\":[0.0,1.0],\"title\":{\"text\":\"Value\"}},\"legend\":{\"title\":{\"text\":\"Item\"},\"tracegroupgap\":0},\"title\":{\"text\":\"India\"}},                        {\"responsive\": true}                    ).then(function(){\n",
              "                            \n",
              "var gd = document.getElementById('8d2f39dd-9151-45fe-a631-9b6f8c31b0bc');\n",
              "var x = new MutationObserver(function (mutations, observer) {{\n",
              "        var display = window.getComputedStyle(gd).display;\n",
              "        if (!display || display === 'none') {{\n",
              "            console.log([gd, 'removed!']);\n",
              "            Plotly.purge(gd);\n",
              "            observer.disconnect();\n",
              "        }}\n",
              "}});\n",
              "\n",
              "// Listen for the removal of the full notebook cells\n",
              "var notebookContainer = gd.closest('#notebook-container');\n",
              "if (notebookContainer) {{\n",
              "    x.observe(notebookContainer, {childList: true});\n",
              "}}\n",
              "\n",
              "// Listen for the clearing of the current output cell\n",
              "var outputEl = gd.closest('.output');\n",
              "if (outputEl) {{\n",
              "    x.observe(outputEl, {childList: true});\n",
              "}}\n",
              "\n",
              "                        })                };                            </script>        </div>\n",
              "</body>\n",
              "</html>"
            ]
          },
          "metadata": {}
        },
        {
          "output_type": "display_data",
          "data": {
            "text/html": [
              "<html>\n",
              "<head><meta charset=\"utf-8\" /></head>\n",
              "<body>\n",
              "    <div>            <script src=\"https://cdnjs.cloudflare.com/ajax/libs/mathjax/2.7.5/MathJax.js?config=TeX-AMS-MML_SVG\"></script><script type=\"text/javascript\">if (window.MathJax) {MathJax.Hub.Config({SVG: {font: \"STIX-Web\"}});}</script>                <script type=\"text/javascript\">window.PlotlyConfig = {MathJaxConfig: 'local'};</script>\n",
              "        <script src=\"https://cdn.plot.ly/plotly-2.8.3.min.js\"></script>                <div id=\"994df25c-9fb9-4177-bce6-99aeb4d72ba9\" class=\"plotly-graph-div\" style=\"height:525px; width:100%;\"></div>            <script type=\"text/javascript\">                                    window.PLOTLYENV=window.PLOTLYENV || {};                                    if (document.getElementById(\"994df25c-9fb9-4177-bce6-99aeb4d72ba9\")) {                    Plotly.newPlot(                        \"994df25c-9fb9-4177-bce6-99aeb4d72ba9\",                        [{\"hovertemplate\":\"Item=Ammonia, anhydrous<br>Year=%{x}<br>Value=%{y}<extra></extra>\",\"legendgroup\":\"Ammonia, anhydrous\",\"line\":{\"color\":\"#636efa\",\"dash\":\"solid\"},\"marker\":{\"symbol\":\"circle\"},\"mode\":\"markers+lines\",\"name\":\"Ammonia, anhydrous\",\"orientation\":\"v\",\"showlegend\":true,\"x\":[2015,2016,2017,2018,2019],\"xaxis\":\"x\",\"y\":[353045.17,348339.2,286186.31,284661.56,265020.45],\"yaxis\":\"y\",\"type\":\"scatter\"},{\"hovertemplate\":\"Item=Ammonium nitrate (AN)<br>Year=%{x}<br>Value=%{y}<extra></extra>\",\"legendgroup\":\"Ammonium nitrate (AN)\",\"line\":{\"color\":\"#EF553B\",\"dash\":\"solid\"},\"marker\":{\"symbol\":\"circle\"},\"mode\":\"markers+lines\",\"name\":\"Ammonium nitrate (AN)\",\"orientation\":\"v\",\"showlegend\":true,\"x\":[2015,2016,2017,2018,2019],\"xaxis\":\"x\",\"y\":[1039858.35,1183597.26,1327483.45,1032543.38,1235073.7],\"yaxis\":\"y\",\"type\":\"scatter\"},{\"hovertemplate\":\"Item=Ammonium sulphate<br>Year=%{x}<br>Value=%{y}<extra></extra>\",\"legendgroup\":\"Ammonium sulphate\",\"line\":{\"color\":\"#00cc96\",\"dash\":\"solid\"},\"marker\":{\"symbol\":\"circle\"},\"mode\":\"markers+lines\",\"name\":\"Ammonium sulphate\",\"orientation\":\"v\",\"showlegend\":true,\"x\":[2015,2016,2017,2018,2019],\"xaxis\":\"x\",\"y\":[1624428.34,1917926.05,1903960.77,2323972.56,2636942.53],\"yaxis\":\"y\",\"type\":\"scatter\"},{\"hovertemplate\":\"Item=Calcium ammonium nitrate (CAN) and other mixtures with calcium carbonate<br>Year=%{x}<br>Value=%{y}<extra></extra>\",\"legendgroup\":\"Calcium ammonium nitrate (CAN) and other mixtures with calcium carbonate\",\"line\":{\"color\":\"#ab63fa\",\"dash\":\"solid\"},\"marker\":{\"symbol\":\"circle\"},\"mode\":\"markers+lines\",\"name\":\"Calcium ammonium nitrate (CAN) and other mixtures with calcium carbonate\",\"orientation\":\"v\",\"showlegend\":true,\"x\":[2015,2016,2017,2018,2019],\"xaxis\":\"x\",\"y\":[221753.89,274126.66,321650.4,315796.26,413686.05],\"yaxis\":\"y\",\"type\":\"scatter\"},{\"hovertemplate\":\"Item=Diammonium phosphate (DAP)<br>Year=%{x}<br>Value=%{y}<extra></extra>\",\"legendgroup\":\"Diammonium phosphate (DAP)\",\"line\":{\"color\":\"#FFA15A\",\"dash\":\"solid\"},\"marker\":{\"symbol\":\"circle\"},\"mode\":\"markers+lines\",\"name\":\"Diammonium phosphate (DAP)\",\"orientation\":\"v\",\"showlegend\":true,\"x\":[2015,2016,2017,2018,2019],\"xaxis\":\"x\",\"y\":[402225.31,445349.62,458184.74,360138.81,289032.14],\"yaxis\":\"y\",\"type\":\"scatter\"},{\"hovertemplate\":\"Item=Fertilizers n.e.c.<br>Year=%{x}<br>Value=%{y}<extra></extra>\",\"legendgroup\":\"Fertilizers n.e.c.\",\"line\":{\"color\":\"#19d3f3\",\"dash\":\"solid\"},\"marker\":{\"symbol\":\"circle\"},\"mode\":\"markers+lines\",\"name\":\"Fertilizers n.e.c.\",\"orientation\":\"v\",\"showlegend\":true,\"x\":[2015,2016,2017,2018,2019],\"xaxis\":\"x\",\"y\":[79958.73,81245.75,97426.24,80332.61,88698.04],\"yaxis\":\"y\",\"type\":\"scatter\"},{\"hovertemplate\":\"Item=Monoammonium phosphate (MAP)<br>Year=%{x}<br>Value=%{y}<extra></extra>\",\"legendgroup\":\"Monoammonium phosphate (MAP)\",\"line\":{\"color\":\"#FF6692\",\"dash\":\"solid\"},\"marker\":{\"symbol\":\"circle\"},\"mode\":\"markers+lines\",\"name\":\"Monoammonium phosphate (MAP)\",\"orientation\":\"v\",\"showlegend\":true,\"x\":[2015,2016,2017,2018,2019],\"xaxis\":\"x\",\"y\":[2281251.42,2714211.42,3634880.75,3320784.84,3895242.54],\"yaxis\":\"y\",\"type\":\"scatter\"},{\"hovertemplate\":\"Item=NPK fertilizers<br>Year=%{x}<br>Value=%{y}<extra></extra>\",\"legendgroup\":\"NPK fertilizers\",\"line\":{\"color\":\"#B6E880\",\"dash\":\"solid\"},\"marker\":{\"symbol\":\"circle\"},\"mode\":\"markers+lines\",\"name\":\"NPK fertilizers\",\"orientation\":\"v\",\"showlegend\":true,\"x\":[2015,2016,2017,2018,2019],\"xaxis\":\"x\",\"y\":[456596.21,873232.65,1117233.11,1197606.22,1516075.79],\"yaxis\":\"y\",\"type\":\"scatter\"},{\"hovertemplate\":\"Item=Other NP compounds<br>Year=%{x}<br>Value=%{y}<extra></extra>\",\"legendgroup\":\"Other NP compounds\",\"line\":{\"color\":\"#FF97FF\",\"dash\":\"solid\"},\"marker\":{\"symbol\":\"circle\"},\"mode\":\"markers+lines\",\"name\":\"Other NP compounds\",\"orientation\":\"v\",\"showlegend\":true,\"x\":[2015,2016,2017,2018,2019],\"xaxis\":\"x\",\"y\":[1257898.13,1687946.32,2276184.64,2019802.8,2085289.17],\"yaxis\":\"y\",\"type\":\"scatter\"},{\"hovertemplate\":\"Item=Other nitrogenous fertilizers, n.e.c.<br>Year=%{x}<br>Value=%{y}<extra></extra>\",\"legendgroup\":\"Other nitrogenous fertilizers, n.e.c.\",\"line\":{\"color\":\"#FECB52\",\"dash\":\"solid\"},\"marker\":{\"symbol\":\"circle\"},\"mode\":\"markers+lines\",\"name\":\"Other nitrogenous fertilizers, n.e.c.\",\"orientation\":\"v\",\"showlegend\":true,\"x\":[2015,2016,2017,2018,2019],\"xaxis\":\"x\",\"y\":[258834.26,422945.44,563976.24,539005.5,454669.52],\"yaxis\":\"y\",\"type\":\"scatter\"},{\"hovertemplate\":\"Item=Other phosphatic fertilizers, n.e.c.<br>Year=%{x}<br>Value=%{y}<extra></extra>\",\"legendgroup\":\"Other phosphatic fertilizers, n.e.c.\",\"line\":{\"color\":\"#636efa\",\"dash\":\"solid\"},\"marker\":{\"symbol\":\"circle\"},\"mode\":\"markers+lines\",\"name\":\"Other phosphatic fertilizers, n.e.c.\",\"orientation\":\"v\",\"showlegend\":true,\"x\":[2015,2016,2017,2018,2019],\"xaxis\":\"x\",\"y\":[463.66,359.8,245.27,338.3,166.88],\"yaxis\":\"y\",\"type\":\"scatter\"},{\"hovertemplate\":\"Item=Other potassic fertilizers, n.e.c.<br>Year=%{x}<br>Value=%{y}<extra></extra>\",\"legendgroup\":\"Other potassic fertilizers, n.e.c.\",\"line\":{\"color\":\"#EF553B\",\"dash\":\"solid\"},\"marker\":{\"symbol\":\"circle\"},\"mode\":\"markers+lines\",\"name\":\"Other potassic fertilizers, n.e.c.\",\"orientation\":\"v\",\"showlegend\":true,\"x\":[2015,2016,2017,2018,2019],\"xaxis\":\"x\",\"y\":[31666.06,69426.43,147471.33,101730.57,175131.58],\"yaxis\":\"y\",\"type\":\"scatter\"},{\"hovertemplate\":\"Item=PK compounds<br>Year=%{x}<br>Value=%{y}<extra></extra>\",\"legendgroup\":\"PK compounds\",\"line\":{\"color\":\"#00cc96\",\"dash\":\"solid\"},\"marker\":{\"symbol\":\"circle\"},\"mode\":\"markers+lines\",\"name\":\"PK compounds\",\"orientation\":\"v\",\"showlegend\":true,\"x\":[2015,2016,2017,2018,2019],\"xaxis\":\"x\",\"y\":[4750.61,5070.69,12650.67,10564.69,23526.34],\"yaxis\":\"y\",\"type\":\"scatter\"},{\"hovertemplate\":\"Item=Phosphate rock<br>Year=%{x}<br>Value=%{y}<extra></extra>\",\"legendgroup\":\"Phosphate rock\",\"line\":{\"color\":\"#ab63fa\",\"dash\":\"solid\"},\"marker\":{\"symbol\":\"circle\"},\"mode\":\"markers+lines\",\"name\":\"Phosphate rock\",\"orientation\":\"v\",\"showlegend\":true,\"x\":[2015,2016,2017,2018,2019],\"xaxis\":\"x\",\"y\":[1870923.27,1711172.0,1903017.38,1982291.22,2369076.29],\"yaxis\":\"y\",\"type\":\"scatter\"},{\"hovertemplate\":\"Item=Potassium chloride (muriate of potash) (MOP)<br>Year=%{x}<br>Value=%{y}<extra></extra>\",\"legendgroup\":\"Potassium chloride (muriate of potash) (MOP)\",\"line\":{\"color\":\"#FFA15A\",\"dash\":\"solid\"},\"marker\":{\"symbol\":\"circle\"},\"mode\":\"markers+lines\",\"name\":\"Potassium chloride (muriate of potash) (MOP)\",\"orientation\":\"v\",\"showlegend\":true,\"x\":[2015,2016,2017,2018,2019],\"xaxis\":\"x\",\"y\":[7821589.61,8713262.33,9673652.54,10520886.64,10452737.08],\"yaxis\":\"y\",\"type\":\"scatter\"},{\"hovertemplate\":\"Item=Potassium nitrate<br>Year=%{x}<br>Value=%{y}<extra></extra>\",\"legendgroup\":\"Potassium nitrate\",\"line\":{\"color\":\"#19d3f3\",\"dash\":\"solid\"},\"marker\":{\"symbol\":\"circle\"},\"mode\":\"markers+lines\",\"name\":\"Potassium nitrate\",\"orientation\":\"v\",\"showlegend\":true,\"x\":[2015,2016,2017,2018,2019],\"xaxis\":\"x\",\"y\":[7345.92,4129.24,3581.63,4856.41,3109.39],\"yaxis\":\"y\",\"type\":\"scatter\"},{\"hovertemplate\":\"Item=Potassium sulphate (sulphate of potash) (SOP)<br>Year=%{x}<br>Value=%{y}<extra></extra>\",\"legendgroup\":\"Potassium sulphate (sulphate of potash) (SOP)\",\"line\":{\"color\":\"#FF6692\",\"dash\":\"solid\"},\"marker\":{\"symbol\":\"circle\"},\"mode\":\"markers+lines\",\"name\":\"Potassium sulphate (sulphate of potash) (SOP)\",\"orientation\":\"v\",\"showlegend\":true,\"x\":[2015,2016,2017,2018,2019],\"xaxis\":\"x\",\"y\":[41555.42,45175.87,44435.52,33920.85,40270.22],\"yaxis\":\"y\",\"type\":\"scatter\"},{\"hovertemplate\":\"Item=Sodium nitrate<br>Year=%{x}<br>Value=%{y}<extra></extra>\",\"legendgroup\":\"Sodium nitrate\",\"line\":{\"color\":\"#B6E880\",\"dash\":\"solid\"},\"marker\":{\"symbol\":\"circle\"},\"mode\":\"markers+lines\",\"name\":\"Sodium nitrate\",\"orientation\":\"v\",\"showlegend\":true,\"x\":[2015,2016,2017,2018,2019],\"xaxis\":\"x\",\"y\":[13537.06,9864.27,9099.47,10128.56,9535.82],\"yaxis\":\"y\",\"type\":\"scatter\"},{\"hovertemplate\":\"Item=Superphosphates above 35%<br>Year=%{x}<br>Value=%{y}<extra></extra>\",\"legendgroup\":\"Superphosphates above 35%\",\"line\":{\"color\":\"#FF97FF\",\"dash\":\"solid\"},\"marker\":{\"symbol\":\"circle\"},\"mode\":\"markers+lines\",\"name\":\"Superphosphates above 35%\",\"orientation\":\"v\",\"showlegend\":true,\"x\":[2015,2016,2017,2018,2019],\"xaxis\":\"x\",\"y\":[1413098.08,1387812.86,765504.44,984404.16,954623.75],\"yaxis\":\"y\",\"type\":\"scatter\"},{\"hovertemplate\":\"Item=Urea<br>Year=%{x}<br>Value=%{y}<extra></extra>\",\"legendgroup\":\"Urea\",\"line\":{\"color\":\"#FECB52\",\"dash\":\"solid\"},\"marker\":{\"symbol\":\"circle\"},\"mode\":\"markers+lines\",\"name\":\"Urea\",\"orientation\":\"v\",\"showlegend\":true,\"x\":[2015,2016,2017,2018,2019],\"xaxis\":\"x\",\"y\":[2849774.93,3958012.32,5425178.0,5561444.38,5586682.86],\"yaxis\":\"y\",\"type\":\"scatter\"},{\"hovertemplate\":\"Item=Urea and ammonium nitrate solutions (UAN)<br>Year=%{x}<br>Value=%{y}<extra></extra>\",\"legendgroup\":\"Urea and ammonium nitrate solutions (UAN)\",\"line\":{\"color\":\"#636efa\",\"dash\":\"solid\"},\"marker\":{\"symbol\":\"circle\"},\"mode\":\"markers+lines\",\"name\":\"Urea and ammonium nitrate solutions (UAN)\",\"orientation\":\"v\",\"showlegend\":true,\"x\":[2015,2016,2017,2018,2019],\"xaxis\":\"x\",\"y\":[15571.42,28046.43,32476.77,50051.07,55987.09],\"yaxis\":\"y\",\"type\":\"scatter\"},{\"hovertemplate\":\"Item=Superphosphates, other<br>Year=%{x}<br>Value=%{y}<extra></extra>\",\"legendgroup\":\"Superphosphates, other\",\"line\":{\"color\":\"#EF553B\",\"dash\":\"solid\"},\"marker\":{\"symbol\":\"circle\"},\"mode\":\"markers+lines\",\"name\":\"Superphosphates, other\",\"orientation\":\"v\",\"showlegend\":true,\"x\":[2017,2018,2019],\"xaxis\":\"x\",\"y\":[632341.63,1081439.4,1232660.72],\"yaxis\":\"y\",\"type\":\"scatter\"}],                        {\"template\":{\"data\":{\"bar\":[{\"error_x\":{\"color\":\"#2a3f5f\"},\"error_y\":{\"color\":\"#2a3f5f\"},\"marker\":{\"line\":{\"color\":\"#E5ECF6\",\"width\":0.5},\"pattern\":{\"fillmode\":\"overlay\",\"size\":10,\"solidity\":0.2}},\"type\":\"bar\"}],\"barpolar\":[{\"marker\":{\"line\":{\"color\":\"#E5ECF6\",\"width\":0.5},\"pattern\":{\"fillmode\":\"overlay\",\"size\":10,\"solidity\":0.2}},\"type\":\"barpolar\"}],\"carpet\":[{\"aaxis\":{\"endlinecolor\":\"#2a3f5f\",\"gridcolor\":\"white\",\"linecolor\":\"white\",\"minorgridcolor\":\"white\",\"startlinecolor\":\"#2a3f5f\"},\"baxis\":{\"endlinecolor\":\"#2a3f5f\",\"gridcolor\":\"white\",\"linecolor\":\"white\",\"minorgridcolor\":\"white\",\"startlinecolor\":\"#2a3f5f\"},\"type\":\"carpet\"}],\"choropleth\":[{\"colorbar\":{\"outlinewidth\":0,\"ticks\":\"\"},\"type\":\"choropleth\"}],\"contour\":[{\"colorbar\":{\"outlinewidth\":0,\"ticks\":\"\"},\"colorscale\":[[0.0,\"#0d0887\"],[0.1111111111111111,\"#46039f\"],[0.2222222222222222,\"#7201a8\"],[0.3333333333333333,\"#9c179e\"],[0.4444444444444444,\"#bd3786\"],[0.5555555555555556,\"#d8576b\"],[0.6666666666666666,\"#ed7953\"],[0.7777777777777778,\"#fb9f3a\"],[0.8888888888888888,\"#fdca26\"],[1.0,\"#f0f921\"]],\"type\":\"contour\"}],\"contourcarpet\":[{\"colorbar\":{\"outlinewidth\":0,\"ticks\":\"\"},\"type\":\"contourcarpet\"}],\"heatmap\":[{\"colorbar\":{\"outlinewidth\":0,\"ticks\":\"\"},\"colorscale\":[[0.0,\"#0d0887\"],[0.1111111111111111,\"#46039f\"],[0.2222222222222222,\"#7201a8\"],[0.3333333333333333,\"#9c179e\"],[0.4444444444444444,\"#bd3786\"],[0.5555555555555556,\"#d8576b\"],[0.6666666666666666,\"#ed7953\"],[0.7777777777777778,\"#fb9f3a\"],[0.8888888888888888,\"#fdca26\"],[1.0,\"#f0f921\"]],\"type\":\"heatmap\"}],\"heatmapgl\":[{\"colorbar\":{\"outlinewidth\":0,\"ticks\":\"\"},\"colorscale\":[[0.0,\"#0d0887\"],[0.1111111111111111,\"#46039f\"],[0.2222222222222222,\"#7201a8\"],[0.3333333333333333,\"#9c179e\"],[0.4444444444444444,\"#bd3786\"],[0.5555555555555556,\"#d8576b\"],[0.6666666666666666,\"#ed7953\"],[0.7777777777777778,\"#fb9f3a\"],[0.8888888888888888,\"#fdca26\"],[1.0,\"#f0f921\"]],\"type\":\"heatmapgl\"}],\"histogram\":[{\"marker\":{\"pattern\":{\"fillmode\":\"overlay\",\"size\":10,\"solidity\":0.2}},\"type\":\"histogram\"}],\"histogram2d\":[{\"colorbar\":{\"outlinewidth\":0,\"ticks\":\"\"},\"colorscale\":[[0.0,\"#0d0887\"],[0.1111111111111111,\"#46039f\"],[0.2222222222222222,\"#7201a8\"],[0.3333333333333333,\"#9c179e\"],[0.4444444444444444,\"#bd3786\"],[0.5555555555555556,\"#d8576b\"],[0.6666666666666666,\"#ed7953\"],[0.7777777777777778,\"#fb9f3a\"],[0.8888888888888888,\"#fdca26\"],[1.0,\"#f0f921\"]],\"type\":\"histogram2d\"}],\"histogram2dcontour\":[{\"colorbar\":{\"outlinewidth\":0,\"ticks\":\"\"},\"colorscale\":[[0.0,\"#0d0887\"],[0.1111111111111111,\"#46039f\"],[0.2222222222222222,\"#7201a8\"],[0.3333333333333333,\"#9c179e\"],[0.4444444444444444,\"#bd3786\"],[0.5555555555555556,\"#d8576b\"],[0.6666666666666666,\"#ed7953\"],[0.7777777777777778,\"#fb9f3a\"],[0.8888888888888888,\"#fdca26\"],[1.0,\"#f0f921\"]],\"type\":\"histogram2dcontour\"}],\"mesh3d\":[{\"colorbar\":{\"outlinewidth\":0,\"ticks\":\"\"},\"type\":\"mesh3d\"}],\"parcoords\":[{\"line\":{\"colorbar\":{\"outlinewidth\":0,\"ticks\":\"\"}},\"type\":\"parcoords\"}],\"pie\":[{\"automargin\":true,\"type\":\"pie\"}],\"scatter\":[{\"marker\":{\"colorbar\":{\"outlinewidth\":0,\"ticks\":\"\"}},\"type\":\"scatter\"}],\"scatter3d\":[{\"line\":{\"colorbar\":{\"outlinewidth\":0,\"ticks\":\"\"}},\"marker\":{\"colorbar\":{\"outlinewidth\":0,\"ticks\":\"\"}},\"type\":\"scatter3d\"}],\"scattercarpet\":[{\"marker\":{\"colorbar\":{\"outlinewidth\":0,\"ticks\":\"\"}},\"type\":\"scattercarpet\"}],\"scattergeo\":[{\"marker\":{\"colorbar\":{\"outlinewidth\":0,\"ticks\":\"\"}},\"type\":\"scattergeo\"}],\"scattergl\":[{\"marker\":{\"colorbar\":{\"outlinewidth\":0,\"ticks\":\"\"}},\"type\":\"scattergl\"}],\"scattermapbox\":[{\"marker\":{\"colorbar\":{\"outlinewidth\":0,\"ticks\":\"\"}},\"type\":\"scattermapbox\"}],\"scatterpolar\":[{\"marker\":{\"colorbar\":{\"outlinewidth\":0,\"ticks\":\"\"}},\"type\":\"scatterpolar\"}],\"scatterpolargl\":[{\"marker\":{\"colorbar\":{\"outlinewidth\":0,\"ticks\":\"\"}},\"type\":\"scatterpolargl\"}],\"scatterternary\":[{\"marker\":{\"colorbar\":{\"outlinewidth\":0,\"ticks\":\"\"}},\"type\":\"scatterternary\"}],\"surface\":[{\"colorbar\":{\"outlinewidth\":0,\"ticks\":\"\"},\"colorscale\":[[0.0,\"#0d0887\"],[0.1111111111111111,\"#46039f\"],[0.2222222222222222,\"#7201a8\"],[0.3333333333333333,\"#9c179e\"],[0.4444444444444444,\"#bd3786\"],[0.5555555555555556,\"#d8576b\"],[0.6666666666666666,\"#ed7953\"],[0.7777777777777778,\"#fb9f3a\"],[0.8888888888888888,\"#fdca26\"],[1.0,\"#f0f921\"]],\"type\":\"surface\"}],\"table\":[{\"cells\":{\"fill\":{\"color\":\"#EBF0F8\"},\"line\":{\"color\":\"white\"}},\"header\":{\"fill\":{\"color\":\"#C8D4E3\"},\"line\":{\"color\":\"white\"}},\"type\":\"table\"}]},\"layout\":{\"annotationdefaults\":{\"arrowcolor\":\"#2a3f5f\",\"arrowhead\":0,\"arrowwidth\":1},\"autotypenumbers\":\"strict\",\"coloraxis\":{\"colorbar\":{\"outlinewidth\":0,\"ticks\":\"\"}},\"colorscale\":{\"diverging\":[[0,\"#8e0152\"],[0.1,\"#c51b7d\"],[0.2,\"#de77ae\"],[0.3,\"#f1b6da\"],[0.4,\"#fde0ef\"],[0.5,\"#f7f7f7\"],[0.6,\"#e6f5d0\"],[0.7,\"#b8e186\"],[0.8,\"#7fbc41\"],[0.9,\"#4d9221\"],[1,\"#276419\"]],\"sequential\":[[0.0,\"#0d0887\"],[0.1111111111111111,\"#46039f\"],[0.2222222222222222,\"#7201a8\"],[0.3333333333333333,\"#9c179e\"],[0.4444444444444444,\"#bd3786\"],[0.5555555555555556,\"#d8576b\"],[0.6666666666666666,\"#ed7953\"],[0.7777777777777778,\"#fb9f3a\"],[0.8888888888888888,\"#fdca26\"],[1.0,\"#f0f921\"]],\"sequentialminus\":[[0.0,\"#0d0887\"],[0.1111111111111111,\"#46039f\"],[0.2222222222222222,\"#7201a8\"],[0.3333333333333333,\"#9c179e\"],[0.4444444444444444,\"#bd3786\"],[0.5555555555555556,\"#d8576b\"],[0.6666666666666666,\"#ed7953\"],[0.7777777777777778,\"#fb9f3a\"],[0.8888888888888888,\"#fdca26\"],[1.0,\"#f0f921\"]]},\"colorway\":[\"#636efa\",\"#EF553B\",\"#00cc96\",\"#ab63fa\",\"#FFA15A\",\"#19d3f3\",\"#FF6692\",\"#B6E880\",\"#FF97FF\",\"#FECB52\"],\"font\":{\"color\":\"#2a3f5f\"},\"geo\":{\"bgcolor\":\"white\",\"lakecolor\":\"white\",\"landcolor\":\"#E5ECF6\",\"showlakes\":true,\"showland\":true,\"subunitcolor\":\"white\"},\"hoverlabel\":{\"align\":\"left\"},\"hovermode\":\"closest\",\"mapbox\":{\"style\":\"light\"},\"paper_bgcolor\":\"white\",\"plot_bgcolor\":\"#E5ECF6\",\"polar\":{\"angularaxis\":{\"gridcolor\":\"white\",\"linecolor\":\"white\",\"ticks\":\"\"},\"bgcolor\":\"#E5ECF6\",\"radialaxis\":{\"gridcolor\":\"white\",\"linecolor\":\"white\",\"ticks\":\"\"}},\"scene\":{\"xaxis\":{\"backgroundcolor\":\"#E5ECF6\",\"gridcolor\":\"white\",\"gridwidth\":2,\"linecolor\":\"white\",\"showbackground\":true,\"ticks\":\"\",\"zerolinecolor\":\"white\"},\"yaxis\":{\"backgroundcolor\":\"#E5ECF6\",\"gridcolor\":\"white\",\"gridwidth\":2,\"linecolor\":\"white\",\"showbackground\":true,\"ticks\":\"\",\"zerolinecolor\":\"white\"},\"zaxis\":{\"backgroundcolor\":\"#E5ECF6\",\"gridcolor\":\"white\",\"gridwidth\":2,\"linecolor\":\"white\",\"showbackground\":true,\"ticks\":\"\",\"zerolinecolor\":\"white\"}},\"shapedefaults\":{\"line\":{\"color\":\"#2a3f5f\"}},\"ternary\":{\"aaxis\":{\"gridcolor\":\"white\",\"linecolor\":\"white\",\"ticks\":\"\"},\"baxis\":{\"gridcolor\":\"white\",\"linecolor\":\"white\",\"ticks\":\"\"},\"bgcolor\":\"#E5ECF6\",\"caxis\":{\"gridcolor\":\"white\",\"linecolor\":\"white\",\"ticks\":\"\"}},\"title\":{\"x\":0.05},\"xaxis\":{\"automargin\":true,\"gridcolor\":\"white\",\"linecolor\":\"white\",\"ticks\":\"\",\"title\":{\"standoff\":15},\"zerolinecolor\":\"white\",\"zerolinewidth\":2},\"yaxis\":{\"automargin\":true,\"gridcolor\":\"white\",\"linecolor\":\"white\",\"ticks\":\"\",\"title\":{\"standoff\":15},\"zerolinecolor\":\"white\",\"zerolinewidth\":2}}},\"xaxis\":{\"anchor\":\"y\",\"domain\":[0.0,1.0],\"title\":{\"text\":\"Year\"}},\"yaxis\":{\"anchor\":\"x\",\"domain\":[0.0,1.0],\"title\":{\"text\":\"Value\"}},\"legend\":{\"title\":{\"text\":\"Item\"},\"tracegroupgap\":0},\"title\":{\"text\":\"Brazil\"}},                        {\"responsive\": true}                    ).then(function(){\n",
              "                            \n",
              "var gd = document.getElementById('994df25c-9fb9-4177-bce6-99aeb4d72ba9');\n",
              "var x = new MutationObserver(function (mutations, observer) {{\n",
              "        var display = window.getComputedStyle(gd).display;\n",
              "        if (!display || display === 'none') {{\n",
              "            console.log([gd, 'removed!']);\n",
              "            Plotly.purge(gd);\n",
              "            observer.disconnect();\n",
              "        }}\n",
              "}});\n",
              "\n",
              "// Listen for the removal of the full notebook cells\n",
              "var notebookContainer = gd.closest('#notebook-container');\n",
              "if (notebookContainer) {{\n",
              "    x.observe(notebookContainer, {childList: true});\n",
              "}}\n",
              "\n",
              "// Listen for the clearing of the current output cell\n",
              "var outputEl = gd.closest('.output');\n",
              "if (outputEl) {{\n",
              "    x.observe(outputEl, {childList: true});\n",
              "}}\n",
              "\n",
              "                        })                };                            </script>        </div>\n",
              "</body>\n",
              "</html>"
            ]
          },
          "metadata": {}
        },
        {
          "output_type": "display_data",
          "data": {
            "text/html": [
              "<html>\n",
              "<head><meta charset=\"utf-8\" /></head>\n",
              "<body>\n",
              "    <div>            <script src=\"https://cdnjs.cloudflare.com/ajax/libs/mathjax/2.7.5/MathJax.js?config=TeX-AMS-MML_SVG\"></script><script type=\"text/javascript\">if (window.MathJax) {MathJax.Hub.Config({SVG: {font: \"STIX-Web\"}});}</script>                <script type=\"text/javascript\">window.PlotlyConfig = {MathJaxConfig: 'local'};</script>\n",
              "        <script src=\"https://cdn.plot.ly/plotly-2.8.3.min.js\"></script>                <div id=\"15bc90df-e99e-49ec-a7ee-49da8a19d3ee\" class=\"plotly-graph-div\" style=\"height:525px; width:100%;\"></div>            <script type=\"text/javascript\">                                    window.PLOTLYENV=window.PLOTLYENV || {};                                    if (document.getElementById(\"15bc90df-e99e-49ec-a7ee-49da8a19d3ee\")) {                    Plotly.newPlot(                        \"15bc90df-e99e-49ec-a7ee-49da8a19d3ee\",                        [{\"hovertemplate\":\"Item=Ammonia, anhydrous<br>Year=%{x}<br>Value=%{y}<extra></extra>\",\"legendgroup\":\"Ammonia, anhydrous\",\"line\":{\"color\":\"#636efa\",\"dash\":\"solid\"},\"marker\":{\"symbol\":\"circle\"},\"mode\":\"markers+lines\",\"name\":\"Ammonia, anhydrous\",\"orientation\":\"v\",\"showlegend\":true,\"x\":[2015,2016,2017,2018,2019],\"xaxis\":\"x\",\"y\":[396165.85,465159.12,719256.63,932965.19,1054603.12],\"yaxis\":\"y\",\"type\":\"scatter\"},{\"hovertemplate\":\"Item=Ammonium sulphate<br>Year=%{x}<br>Value=%{y}<extra></extra>\",\"legendgroup\":\"Ammonium sulphate\",\"line\":{\"color\":\"#EF553B\",\"dash\":\"solid\"},\"marker\":{\"symbol\":\"circle\"},\"mode\":\"markers+lines\",\"name\":\"Ammonium sulphate\",\"orientation\":\"v\",\"showlegend\":true,\"x\":[2015,2016,2017,2018,2019],\"xaxis\":\"x\",\"y\":[119.24,130.4,127.33,1392.46,290.56],\"yaxis\":\"y\",\"type\":\"scatter\"},{\"hovertemplate\":\"Item=Diammonium phosphate (DAP)<br>Year=%{x}<br>Value=%{y}<extra></extra>\",\"legendgroup\":\"Diammonium phosphate (DAP)\",\"line\":{\"color\":\"#00cc96\",\"dash\":\"solid\"},\"marker\":{\"symbol\":\"circle\"},\"mode\":\"markers+lines\",\"name\":\"Diammonium phosphate (DAP)\",\"orientation\":\"v\",\"showlegend\":true,\"x\":[2015,2016,2017,2018,2019],\"xaxis\":\"x\",\"y\":[77307.42,29827.8,4.47,64658.71,1.69],\"yaxis\":\"y\",\"type\":\"scatter\"},{\"hovertemplate\":\"Item=Fertilizers n.e.c.<br>Year=%{x}<br>Value=%{y}<extra></extra>\",\"legendgroup\":\"Fertilizers n.e.c.\",\"line\":{\"color\":\"#ab63fa\",\"dash\":\"solid\"},\"marker\":{\"symbol\":\"circle\"},\"mode\":\"markers+lines\",\"name\":\"Fertilizers n.e.c.\",\"orientation\":\"v\",\"showlegend\":true,\"x\":[2015,2016,2017,2018,2019],\"xaxis\":\"x\",\"y\":[17135.53,34429.22,38594.92,60879.86,64074.1],\"yaxis\":\"y\",\"type\":\"scatter\"},{\"hovertemplate\":\"Item=Monoammonium phosphate (MAP)<br>Year=%{x}<br>Value=%{y}<extra></extra>\",\"legendgroup\":\"Monoammonium phosphate (MAP)\",\"line\":{\"color\":\"#FFA15A\",\"dash\":\"solid\"},\"marker\":{\"symbol\":\"circle\"},\"mode\":\"markers+lines\",\"name\":\"Monoammonium phosphate (MAP)\",\"orientation\":\"v\",\"showlegend\":true,\"x\":[2015,2016,2017,2018,2019],\"xaxis\":\"x\",\"y\":[1.48,11470.41,46268.63,4235.0,20831.36],\"yaxis\":\"y\",\"type\":\"scatter\"},{\"hovertemplate\":\"Item=NPK fertilizers<br>Year=%{x}<br>Value=%{y}<extra></extra>\",\"legendgroup\":\"NPK fertilizers\",\"line\":{\"color\":\"#19d3f3\",\"dash\":\"solid\"},\"marker\":{\"symbol\":\"circle\"},\"mode\":\"markers+lines\",\"name\":\"NPK fertilizers\",\"orientation\":\"v\",\"showlegend\":true,\"x\":[2015,2016,2017,2018,2019],\"xaxis\":\"x\",\"y\":[1461655.05,1131210.46,1105368.04,1464407.58,1393342.76],\"yaxis\":\"y\",\"type\":\"scatter\"},{\"hovertemplate\":\"Item=Other NP compounds<br>Year=%{x}<br>Value=%{y}<extra></extra>\",\"legendgroup\":\"Other NP compounds\",\"line\":{\"color\":\"#FF6692\",\"dash\":\"solid\"},\"marker\":{\"symbol\":\"circle\"},\"mode\":\"markers+lines\",\"name\":\"Other NP compounds\",\"orientation\":\"v\",\"showlegend\":true,\"x\":[2015,2016,2017,2018,2019],\"xaxis\":\"x\",\"y\":[33682.84,38082.28,90756.17,65966.27,77514.21],\"yaxis\":\"y\",\"type\":\"scatter\"},{\"hovertemplate\":\"Item=Other nitrogenous fertilizers, n.e.c.<br>Year=%{x}<br>Value=%{y}<extra></extra>\",\"legendgroup\":\"Other nitrogenous fertilizers, n.e.c.\",\"line\":{\"color\":\"#B6E880\",\"dash\":\"solid\"},\"marker\":{\"symbol\":\"circle\"},\"mode\":\"markers+lines\",\"name\":\"Other nitrogenous fertilizers, n.e.c.\",\"orientation\":\"v\",\"showlegend\":true,\"x\":[2015,2016,2017,2018,2019],\"xaxis\":\"x\",\"y\":[26264.27,28454.94,22512.84,39713.91,39105.2],\"yaxis\":\"y\",\"type\":\"scatter\"},{\"hovertemplate\":\"Item=Other phosphatic fertilizers, n.e.c.<br>Year=%{x}<br>Value=%{y}<extra></extra>\",\"legendgroup\":\"Other phosphatic fertilizers, n.e.c.\",\"line\":{\"color\":\"#FF97FF\",\"dash\":\"solid\"},\"marker\":{\"symbol\":\"circle\"},\"mode\":\"markers+lines\",\"name\":\"Other phosphatic fertilizers, n.e.c.\",\"orientation\":\"v\",\"showlegend\":true,\"x\":[2015,2016,2017,2018,2019],\"xaxis\":\"x\",\"y\":[170.85,113.53,131.88,183.88,117.38],\"yaxis\":\"y\",\"type\":\"scatter\"},{\"hovertemplate\":\"Item=Other potassic fertilizers, n.e.c.<br>Year=%{x}<br>Value=%{y}<extra></extra>\",\"legendgroup\":\"Other potassic fertilizers, n.e.c.\",\"line\":{\"color\":\"#FECB52\",\"dash\":\"solid\"},\"marker\":{\"symbol\":\"circle\"},\"mode\":\"markers+lines\",\"name\":\"Other potassic fertilizers, n.e.c.\",\"orientation\":\"v\",\"showlegend\":true,\"x\":[2015,2016,2017,2018,2019],\"xaxis\":\"x\",\"y\":[49728.76,95303.6,161595.06,117626.48,192033.37],\"yaxis\":\"y\",\"type\":\"scatter\"},{\"hovertemplate\":\"Item=PK compounds<br>Year=%{x}<br>Value=%{y}<extra></extra>\",\"legendgroup\":\"PK compounds\",\"line\":{\"color\":\"#636efa\",\"dash\":\"solid\"},\"marker\":{\"symbol\":\"circle\"},\"mode\":\"markers+lines\",\"name\":\"PK compounds\",\"orientation\":\"v\",\"showlegend\":true,\"x\":[2015,2016,2017,2018,2019],\"xaxis\":\"x\",\"y\":[623.15,994.99,1364.01,2158.34,2486.25],\"yaxis\":\"y\",\"type\":\"scatter\"},{\"hovertemplate\":\"Item=Phosphate rock<br>Year=%{x}<br>Value=%{y}<extra></extra>\",\"legendgroup\":\"Phosphate rock\",\"line\":{\"color\":\"#EF553B\",\"dash\":\"solid\"},\"marker\":{\"symbol\":\"circle\"},\"mode\":\"markers+lines\",\"name\":\"Phosphate rock\",\"orientation\":\"v\",\"showlegend\":true,\"x\":[2015,2016,2017,2018,2019],\"xaxis\":\"x\",\"y\":[7176.84,62771.4,124541.33,142482.33,115684.91],\"yaxis\":\"y\",\"type\":\"scatter\"},{\"hovertemplate\":\"Item=Potassium chloride (muriate of potash) (MOP)<br>Year=%{x}<br>Value=%{y}<extra></extra>\",\"legendgroup\":\"Potassium chloride (muriate of potash) (MOP)\",\"line\":{\"color\":\"#00cc96\",\"dash\":\"solid\"},\"marker\":{\"symbol\":\"circle\"},\"mode\":\"markers+lines\",\"name\":\"Potassium chloride (muriate of potash) (MOP)\",\"orientation\":\"v\",\"showlegend\":true,\"x\":[2015,2016,2017,2018,2019],\"xaxis\":\"x\",\"y\":[9432886.28,6831563.72,7540998.92,7485251.84,9124748.5],\"yaxis\":\"y\",\"type\":\"scatter\"},{\"hovertemplate\":\"Item=Potassium nitrate<br>Year=%{x}<br>Value=%{y}<extra></extra>\",\"legendgroup\":\"Potassium nitrate\",\"line\":{\"color\":\"#ab63fa\",\"dash\":\"solid\"},\"marker\":{\"symbol\":\"circle\"},\"mode\":\"markers+lines\",\"name\":\"Potassium nitrate\",\"orientation\":\"v\",\"showlegend\":true,\"x\":[2015,2016,2017,2018,2019],\"xaxis\":\"x\",\"y\":[22757.31,3432.31,935.88,863.91,586.84],\"yaxis\":\"y\",\"type\":\"scatter\"},{\"hovertemplate\":\"Item=Potassium sulphate (sulphate of potash) (SOP)<br>Year=%{x}<br>Value=%{y}<extra></extra>\",\"legendgroup\":\"Potassium sulphate (sulphate of potash) (SOP)\",\"line\":{\"color\":\"#FFA15A\",\"dash\":\"solid\"},\"marker\":{\"symbol\":\"circle\"},\"mode\":\"markers+lines\",\"name\":\"Potassium sulphate (sulphate of potash) (SOP)\",\"orientation\":\"v\",\"showlegend\":true,\"x\":[2015,2016,2017,2018,2019],\"xaxis\":\"x\",\"y\":[46529.31,51676.34,64099.94,65749.28,65722.49],\"yaxis\":\"y\",\"type\":\"scatter\"},{\"hovertemplate\":\"Item=Sodium nitrate<br>Year=%{x}<br>Value=%{y}<extra></extra>\",\"legendgroup\":\"Sodium nitrate\",\"line\":{\"color\":\"#19d3f3\",\"dash\":\"solid\"},\"marker\":{\"symbol\":\"circle\"},\"mode\":\"markers+lines\",\"name\":\"Sodium nitrate\",\"orientation\":\"v\",\"showlegend\":true,\"x\":[2015,2016,2017,2018,2019],\"xaxis\":\"x\",\"y\":[125.15,166.15,100.77,97.02,59.8],\"yaxis\":\"y\",\"type\":\"scatter\"},{\"hovertemplate\":\"Item=Superphosphates above 35%<br>Year=%{x}<br>Value=%{y}<extra></extra>\",\"legendgroup\":\"Superphosphates above 35%\",\"line\":{\"color\":\"#FF6692\",\"dash\":\"solid\"},\"marker\":{\"symbol\":\"circle\"},\"mode\":\"markers+lines\",\"name\":\"Superphosphates above 35%\",\"orientation\":\"v\",\"showlegend\":true,\"x\":[2015,2016,2018],\"xaxis\":\"x\",\"y\":[4169.24,6720.94,96.0],\"yaxis\":\"y\",\"type\":\"scatter\"},{\"hovertemplate\":\"Item=Urea<br>Year=%{x}<br>Value=%{y}<extra></extra>\",\"legendgroup\":\"Urea\",\"line\":{\"color\":\"#B6E880\",\"dash\":\"solid\"},\"marker\":{\"symbol\":\"circle\"},\"mode\":\"markers+lines\",\"name\":\"Urea\",\"orientation\":\"v\",\"showlegend\":true,\"x\":[2015,2016,2017,2018,2019],\"xaxis\":\"x\",\"y\":[7639.63,65794.32,5070.29,163913.81,181618.06],\"yaxis\":\"y\",\"type\":\"scatter\"},{\"hovertemplate\":\"Item=Urea and ammonium nitrate solutions (UAN)<br>Year=%{x}<br>Value=%{y}<extra></extra>\",\"legendgroup\":\"Urea and ammonium nitrate solutions (UAN)\",\"line\":{\"color\":\"#FF97FF\",\"dash\":\"solid\"},\"marker\":{\"symbol\":\"circle\"},\"mode\":\"markers+lines\",\"name\":\"Urea and ammonium nitrate solutions (UAN)\",\"orientation\":\"v\",\"showlegend\":true,\"x\":[2015,2016,2017,2018,2019],\"xaxis\":\"x\",\"y\":[570.37,266.71,201.83,1900.96,1176.34],\"yaxis\":\"y\",\"type\":\"scatter\"},{\"hovertemplate\":\"Item=Calcium ammonium nitrate (CAN) and other mixtures with calcium carbonate<br>Year=%{x}<br>Value=%{y}<extra></extra>\",\"legendgroup\":\"Calcium ammonium nitrate (CAN) and other mixtures with calcium carbonate\",\"line\":{\"color\":\"#FECB52\",\"dash\":\"solid\"},\"marker\":{\"symbol\":\"circle\"},\"mode\":\"markers+lines\",\"name\":\"Calcium ammonium nitrate (CAN) and other mixtures with calcium carbonate\",\"orientation\":\"v\",\"showlegend\":true,\"x\":[2016,2017,2018,2019],\"xaxis\":\"x\",\"y\":[11931.21,2976.0,1944.5,744.98],\"yaxis\":\"y\",\"type\":\"scatter\"},{\"hovertemplate\":\"Item=Superphosphates, other<br>Year=%{x}<br>Value=%{y}<extra></extra>\",\"legendgroup\":\"Superphosphates, other\",\"line\":{\"color\":\"#636efa\",\"dash\":\"solid\"},\"marker\":{\"symbol\":\"circle\"},\"mode\":\"markers+lines\",\"name\":\"Superphosphates, other\",\"orientation\":\"v\",\"showlegend\":true,\"x\":[2017,2018,2019],\"xaxis\":\"x\",\"y\":[0.72,0.0,0.5],\"yaxis\":\"y\",\"type\":\"scatter\"}],                        {\"template\":{\"data\":{\"bar\":[{\"error_x\":{\"color\":\"#2a3f5f\"},\"error_y\":{\"color\":\"#2a3f5f\"},\"marker\":{\"line\":{\"color\":\"#E5ECF6\",\"width\":0.5},\"pattern\":{\"fillmode\":\"overlay\",\"size\":10,\"solidity\":0.2}},\"type\":\"bar\"}],\"barpolar\":[{\"marker\":{\"line\":{\"color\":\"#E5ECF6\",\"width\":0.5},\"pattern\":{\"fillmode\":\"overlay\",\"size\":10,\"solidity\":0.2}},\"type\":\"barpolar\"}],\"carpet\":[{\"aaxis\":{\"endlinecolor\":\"#2a3f5f\",\"gridcolor\":\"white\",\"linecolor\":\"white\",\"minorgridcolor\":\"white\",\"startlinecolor\":\"#2a3f5f\"},\"baxis\":{\"endlinecolor\":\"#2a3f5f\",\"gridcolor\":\"white\",\"linecolor\":\"white\",\"minorgridcolor\":\"white\",\"startlinecolor\":\"#2a3f5f\"},\"type\":\"carpet\"}],\"choropleth\":[{\"colorbar\":{\"outlinewidth\":0,\"ticks\":\"\"},\"type\":\"choropleth\"}],\"contour\":[{\"colorbar\":{\"outlinewidth\":0,\"ticks\":\"\"},\"colorscale\":[[0.0,\"#0d0887\"],[0.1111111111111111,\"#46039f\"],[0.2222222222222222,\"#7201a8\"],[0.3333333333333333,\"#9c179e\"],[0.4444444444444444,\"#bd3786\"],[0.5555555555555556,\"#d8576b\"],[0.6666666666666666,\"#ed7953\"],[0.7777777777777778,\"#fb9f3a\"],[0.8888888888888888,\"#fdca26\"],[1.0,\"#f0f921\"]],\"type\":\"contour\"}],\"contourcarpet\":[{\"colorbar\":{\"outlinewidth\":0,\"ticks\":\"\"},\"type\":\"contourcarpet\"}],\"heatmap\":[{\"colorbar\":{\"outlinewidth\":0,\"ticks\":\"\"},\"colorscale\":[[0.0,\"#0d0887\"],[0.1111111111111111,\"#46039f\"],[0.2222222222222222,\"#7201a8\"],[0.3333333333333333,\"#9c179e\"],[0.4444444444444444,\"#bd3786\"],[0.5555555555555556,\"#d8576b\"],[0.6666666666666666,\"#ed7953\"],[0.7777777777777778,\"#fb9f3a\"],[0.8888888888888888,\"#fdca26\"],[1.0,\"#f0f921\"]],\"type\":\"heatmap\"}],\"heatmapgl\":[{\"colorbar\":{\"outlinewidth\":0,\"ticks\":\"\"},\"colorscale\":[[0.0,\"#0d0887\"],[0.1111111111111111,\"#46039f\"],[0.2222222222222222,\"#7201a8\"],[0.3333333333333333,\"#9c179e\"],[0.4444444444444444,\"#bd3786\"],[0.5555555555555556,\"#d8576b\"],[0.6666666666666666,\"#ed7953\"],[0.7777777777777778,\"#fb9f3a\"],[0.8888888888888888,\"#fdca26\"],[1.0,\"#f0f921\"]],\"type\":\"heatmapgl\"}],\"histogram\":[{\"marker\":{\"pattern\":{\"fillmode\":\"overlay\",\"size\":10,\"solidity\":0.2}},\"type\":\"histogram\"}],\"histogram2d\":[{\"colorbar\":{\"outlinewidth\":0,\"ticks\":\"\"},\"colorscale\":[[0.0,\"#0d0887\"],[0.1111111111111111,\"#46039f\"],[0.2222222222222222,\"#7201a8\"],[0.3333333333333333,\"#9c179e\"],[0.4444444444444444,\"#bd3786\"],[0.5555555555555556,\"#d8576b\"],[0.6666666666666666,\"#ed7953\"],[0.7777777777777778,\"#fb9f3a\"],[0.8888888888888888,\"#fdca26\"],[1.0,\"#f0f921\"]],\"type\":\"histogram2d\"}],\"histogram2dcontour\":[{\"colorbar\":{\"outlinewidth\":0,\"ticks\":\"\"},\"colorscale\":[[0.0,\"#0d0887\"],[0.1111111111111111,\"#46039f\"],[0.2222222222222222,\"#7201a8\"],[0.3333333333333333,\"#9c179e\"],[0.4444444444444444,\"#bd3786\"],[0.5555555555555556,\"#d8576b\"],[0.6666666666666666,\"#ed7953\"],[0.7777777777777778,\"#fb9f3a\"],[0.8888888888888888,\"#fdca26\"],[1.0,\"#f0f921\"]],\"type\":\"histogram2dcontour\"}],\"mesh3d\":[{\"colorbar\":{\"outlinewidth\":0,\"ticks\":\"\"},\"type\":\"mesh3d\"}],\"parcoords\":[{\"line\":{\"colorbar\":{\"outlinewidth\":0,\"ticks\":\"\"}},\"type\":\"parcoords\"}],\"pie\":[{\"automargin\":true,\"type\":\"pie\"}],\"scatter\":[{\"marker\":{\"colorbar\":{\"outlinewidth\":0,\"ticks\":\"\"}},\"type\":\"scatter\"}],\"scatter3d\":[{\"line\":{\"colorbar\":{\"outlinewidth\":0,\"ticks\":\"\"}},\"marker\":{\"colorbar\":{\"outlinewidth\":0,\"ticks\":\"\"}},\"type\":\"scatter3d\"}],\"scattercarpet\":[{\"marker\":{\"colorbar\":{\"outlinewidth\":0,\"ticks\":\"\"}},\"type\":\"scattercarpet\"}],\"scattergeo\":[{\"marker\":{\"colorbar\":{\"outlinewidth\":0,\"ticks\":\"\"}},\"type\":\"scattergeo\"}],\"scattergl\":[{\"marker\":{\"colorbar\":{\"outlinewidth\":0,\"ticks\":\"\"}},\"type\":\"scattergl\"}],\"scattermapbox\":[{\"marker\":{\"colorbar\":{\"outlinewidth\":0,\"ticks\":\"\"}},\"type\":\"scattermapbox\"}],\"scatterpolar\":[{\"marker\":{\"colorbar\":{\"outlinewidth\":0,\"ticks\":\"\"}},\"type\":\"scatterpolar\"}],\"scatterpolargl\":[{\"marker\":{\"colorbar\":{\"outlinewidth\":0,\"ticks\":\"\"}},\"type\":\"scatterpolargl\"}],\"scatterternary\":[{\"marker\":{\"colorbar\":{\"outlinewidth\":0,\"ticks\":\"\"}},\"type\":\"scatterternary\"}],\"surface\":[{\"colorbar\":{\"outlinewidth\":0,\"ticks\":\"\"},\"colorscale\":[[0.0,\"#0d0887\"],[0.1111111111111111,\"#46039f\"],[0.2222222222222222,\"#7201a8\"],[0.3333333333333333,\"#9c179e\"],[0.4444444444444444,\"#bd3786\"],[0.5555555555555556,\"#d8576b\"],[0.6666666666666666,\"#ed7953\"],[0.7777777777777778,\"#fb9f3a\"],[0.8888888888888888,\"#fdca26\"],[1.0,\"#f0f921\"]],\"type\":\"surface\"}],\"table\":[{\"cells\":{\"fill\":{\"color\":\"#EBF0F8\"},\"line\":{\"color\":\"white\"}},\"header\":{\"fill\":{\"color\":\"#C8D4E3\"},\"line\":{\"color\":\"white\"}},\"type\":\"table\"}]},\"layout\":{\"annotationdefaults\":{\"arrowcolor\":\"#2a3f5f\",\"arrowhead\":0,\"arrowwidth\":1},\"autotypenumbers\":\"strict\",\"coloraxis\":{\"colorbar\":{\"outlinewidth\":0,\"ticks\":\"\"}},\"colorscale\":{\"diverging\":[[0,\"#8e0152\"],[0.1,\"#c51b7d\"],[0.2,\"#de77ae\"],[0.3,\"#f1b6da\"],[0.4,\"#fde0ef\"],[0.5,\"#f7f7f7\"],[0.6,\"#e6f5d0\"],[0.7,\"#b8e186\"],[0.8,\"#7fbc41\"],[0.9,\"#4d9221\"],[1,\"#276419\"]],\"sequential\":[[0.0,\"#0d0887\"],[0.1111111111111111,\"#46039f\"],[0.2222222222222222,\"#7201a8\"],[0.3333333333333333,\"#9c179e\"],[0.4444444444444444,\"#bd3786\"],[0.5555555555555556,\"#d8576b\"],[0.6666666666666666,\"#ed7953\"],[0.7777777777777778,\"#fb9f3a\"],[0.8888888888888888,\"#fdca26\"],[1.0,\"#f0f921\"]],\"sequentialminus\":[[0.0,\"#0d0887\"],[0.1111111111111111,\"#46039f\"],[0.2222222222222222,\"#7201a8\"],[0.3333333333333333,\"#9c179e\"],[0.4444444444444444,\"#bd3786\"],[0.5555555555555556,\"#d8576b\"],[0.6666666666666666,\"#ed7953\"],[0.7777777777777778,\"#fb9f3a\"],[0.8888888888888888,\"#fdca26\"],[1.0,\"#f0f921\"]]},\"colorway\":[\"#636efa\",\"#EF553B\",\"#00cc96\",\"#ab63fa\",\"#FFA15A\",\"#19d3f3\",\"#FF6692\",\"#B6E880\",\"#FF97FF\",\"#FECB52\"],\"font\":{\"color\":\"#2a3f5f\"},\"geo\":{\"bgcolor\":\"white\",\"lakecolor\":\"white\",\"landcolor\":\"#E5ECF6\",\"showlakes\":true,\"showland\":true,\"subunitcolor\":\"white\"},\"hoverlabel\":{\"align\":\"left\"},\"hovermode\":\"closest\",\"mapbox\":{\"style\":\"light\"},\"paper_bgcolor\":\"white\",\"plot_bgcolor\":\"#E5ECF6\",\"polar\":{\"angularaxis\":{\"gridcolor\":\"white\",\"linecolor\":\"white\",\"ticks\":\"\"},\"bgcolor\":\"#E5ECF6\",\"radialaxis\":{\"gridcolor\":\"white\",\"linecolor\":\"white\",\"ticks\":\"\"}},\"scene\":{\"xaxis\":{\"backgroundcolor\":\"#E5ECF6\",\"gridcolor\":\"white\",\"gridwidth\":2,\"linecolor\":\"white\",\"showbackground\":true,\"ticks\":\"\",\"zerolinecolor\":\"white\"},\"yaxis\":{\"backgroundcolor\":\"#E5ECF6\",\"gridcolor\":\"white\",\"gridwidth\":2,\"linecolor\":\"white\",\"showbackground\":true,\"ticks\":\"\",\"zerolinecolor\":\"white\"},\"zaxis\":{\"backgroundcolor\":\"#E5ECF6\",\"gridcolor\":\"white\",\"gridwidth\":2,\"linecolor\":\"white\",\"showbackground\":true,\"ticks\":\"\",\"zerolinecolor\":\"white\"}},\"shapedefaults\":{\"line\":{\"color\":\"#2a3f5f\"}},\"ternary\":{\"aaxis\":{\"gridcolor\":\"white\",\"linecolor\":\"white\",\"ticks\":\"\"},\"baxis\":{\"gridcolor\":\"white\",\"linecolor\":\"white\",\"ticks\":\"\"},\"bgcolor\":\"#E5ECF6\",\"caxis\":{\"gridcolor\":\"white\",\"linecolor\":\"white\",\"ticks\":\"\"}},\"title\":{\"x\":0.05},\"xaxis\":{\"automargin\":true,\"gridcolor\":\"white\",\"linecolor\":\"white\",\"ticks\":\"\",\"title\":{\"standoff\":15},\"zerolinecolor\":\"white\",\"zerolinewidth\":2},\"yaxis\":{\"automargin\":true,\"gridcolor\":\"white\",\"linecolor\":\"white\",\"ticks\":\"\",\"title\":{\"standoff\":15},\"zerolinecolor\":\"white\",\"zerolinewidth\":2}}},\"xaxis\":{\"anchor\":\"y\",\"domain\":[0.0,1.0],\"title\":{\"text\":\"Year\"}},\"yaxis\":{\"anchor\":\"x\",\"domain\":[0.0,1.0],\"title\":{\"text\":\"Value\"}},\"legend\":{\"title\":{\"text\":\"Item\"},\"tracegroupgap\":0},\"title\":{\"text\":\"China, mainland\"}},                        {\"responsive\": true}                    ).then(function(){\n",
              "                            \n",
              "var gd = document.getElementById('15bc90df-e99e-49ec-a7ee-49da8a19d3ee');\n",
              "var x = new MutationObserver(function (mutations, observer) {{\n",
              "        var display = window.getComputedStyle(gd).display;\n",
              "        if (!display || display === 'none') {{\n",
              "            console.log([gd, 'removed!']);\n",
              "            Plotly.purge(gd);\n",
              "            observer.disconnect();\n",
              "        }}\n",
              "}});\n",
              "\n",
              "// Listen for the removal of the full notebook cells\n",
              "var notebookContainer = gd.closest('#notebook-container');\n",
              "if (notebookContainer) {{\n",
              "    x.observe(notebookContainer, {childList: true});\n",
              "}}\n",
              "\n",
              "// Listen for the clearing of the current output cell\n",
              "var outputEl = gd.closest('.output');\n",
              "if (outputEl) {{\n",
              "    x.observe(outputEl, {childList: true});\n",
              "}}\n",
              "\n",
              "                        })                };                            </script>        </div>\n",
              "</body>\n",
              "</html>"
            ]
          },
          "metadata": {}
        },
        {
          "output_type": "display_data",
          "data": {
            "text/html": [
              "<html>\n",
              "<head><meta charset=\"utf-8\" /></head>\n",
              "<body>\n",
              "    <div>            <script src=\"https://cdnjs.cloudflare.com/ajax/libs/mathjax/2.7.5/MathJax.js?config=TeX-AMS-MML_SVG\"></script><script type=\"text/javascript\">if (window.MathJax) {MathJax.Hub.Config({SVG: {font: \"STIX-Web\"}});}</script>                <script type=\"text/javascript\">window.PlotlyConfig = {MathJaxConfig: 'local'};</script>\n",
              "        <script src=\"https://cdn.plot.ly/plotly-2.8.3.min.js\"></script>                <div id=\"56a3cd03-91cc-47d5-8681-ea86d0845c9a\" class=\"plotly-graph-div\" style=\"height:525px; width:100%;\"></div>            <script type=\"text/javascript\">                                    window.PLOTLYENV=window.PLOTLYENV || {};                                    if (document.getElementById(\"56a3cd03-91cc-47d5-8681-ea86d0845c9a\")) {                    Plotly.newPlot(                        \"56a3cd03-91cc-47d5-8681-ea86d0845c9a\",                        [{\"hovertemplate\":\"Item=Ammonia, anhydrous<br>Year=%{x}<br>Value=%{y}<extra></extra>\",\"legendgroup\":\"Ammonia, anhydrous\",\"line\":{\"color\":\"#636efa\",\"dash\":\"solid\"},\"marker\":{\"symbol\":\"circle\"},\"mode\":\"markers+lines\",\"name\":\"Ammonia, anhydrous\",\"orientation\":\"v\",\"showlegend\":true,\"x\":[2015,2016,2017,2018,2019],\"xaxis\":\"x\",\"y\":[42991.21,45732.61,36431.19,21583.69,12200.79],\"yaxis\":\"y\",\"type\":\"scatter\"},{\"hovertemplate\":\"Item=Ammonium nitrate (AN)<br>Year=%{x}<br>Value=%{y}<extra></extra>\",\"legendgroup\":\"Ammonium nitrate (AN)\",\"line\":{\"color\":\"#EF553B\",\"dash\":\"solid\"},\"marker\":{\"symbol\":\"circle\"},\"mode\":\"markers+lines\",\"name\":\"Ammonium nitrate (AN)\",\"orientation\":\"v\",\"showlegend\":true,\"x\":[2015,2016,2017,2018,2019],\"xaxis\":\"x\",\"y\":[119614.55,86282.07,71187.83,73474.35,82700.03],\"yaxis\":\"y\",\"type\":\"scatter\"},{\"hovertemplate\":\"Item=Ammonium sulphate<br>Year=%{x}<br>Value=%{y}<extra></extra>\",\"legendgroup\":\"Ammonium sulphate\",\"line\":{\"color\":\"#00cc96\",\"dash\":\"solid\"},\"marker\":{\"symbol\":\"circle\"},\"mode\":\"markers+lines\",\"name\":\"Ammonium sulphate\",\"orientation\":\"v\",\"showlegend\":true,\"x\":[2015,2016,2017,2018,2019],\"xaxis\":\"x\",\"y\":[1170193.76,930687.67,1070505.66,1303698.07,1067583.34],\"yaxis\":\"y\",\"type\":\"scatter\"},{\"hovertemplate\":\"Item=Calcium ammonium nitrate (CAN) and other mixtures with calcium carbonate<br>Year=%{x}<br>Value=%{y}<extra></extra>\",\"legendgroup\":\"Calcium ammonium nitrate (CAN) and other mixtures with calcium carbonate\",\"line\":{\"color\":\"#ab63fa\",\"dash\":\"solid\"},\"marker\":{\"symbol\":\"circle\"},\"mode\":\"markers+lines\",\"name\":\"Calcium ammonium nitrate (CAN) and other mixtures with calcium carbonate\",\"orientation\":\"v\",\"showlegend\":true,\"x\":[2015,2016,2017,2018,2019],\"xaxis\":\"x\",\"y\":[3675.02,395.72,5162.73,6246.54,11228.97],\"yaxis\":\"y\",\"type\":\"scatter\"},{\"hovertemplate\":\"Item=Diammonium phosphate (DAP)<br>Year=%{x}<br>Value=%{y}<extra></extra>\",\"legendgroup\":\"Diammonium phosphate (DAP)\",\"line\":{\"color\":\"#FFA15A\",\"dash\":\"solid\"},\"marker\":{\"symbol\":\"circle\"},\"mode\":\"markers+lines\",\"name\":\"Diammonium phosphate (DAP)\",\"orientation\":\"v\",\"showlegend\":true,\"x\":[2015,2016,2017,2018,2019],\"xaxis\":\"x\",\"y\":[380134.39,249313.7,414102.44,337079.19,309320.09],\"yaxis\":\"y\",\"type\":\"scatter\"},{\"hovertemplate\":\"Item=Fertilizers n.e.c.<br>Year=%{x}<br>Value=%{y}<extra></extra>\",\"legendgroup\":\"Fertilizers n.e.c.\",\"line\":{\"color\":\"#19d3f3\",\"dash\":\"solid\"},\"marker\":{\"symbol\":\"circle\"},\"mode\":\"markers+lines\",\"name\":\"Fertilizers n.e.c.\",\"orientation\":\"v\",\"showlegend\":true,\"x\":[2015,2016,2017,2018,2019],\"xaxis\":\"x\",\"y\":[52872.56,52175.94,50462.16,20381.93,38233.37],\"yaxis\":\"y\",\"type\":\"scatter\"},{\"hovertemplate\":\"Item=Monoammonium phosphate (MAP)<br>Year=%{x}<br>Value=%{y}<extra></extra>\",\"legendgroup\":\"Monoammonium phosphate (MAP)\",\"line\":{\"color\":\"#FF6692\",\"dash\":\"solid\"},\"marker\":{\"symbol\":\"circle\"},\"mode\":\"markers+lines\",\"name\":\"Monoammonium phosphate (MAP)\",\"orientation\":\"v\",\"showlegend\":true,\"x\":[2015,2016,2017,2018,2019],\"xaxis\":\"x\",\"y\":[4298.53,22488.19,48081.46,16108.73,28617.78],\"yaxis\":\"y\",\"type\":\"scatter\"},{\"hovertemplate\":\"Item=NPK fertilizers<br>Year=%{x}<br>Value=%{y}<extra></extra>\",\"legendgroup\":\"NPK fertilizers\",\"line\":{\"color\":\"#B6E880\",\"dash\":\"solid\"},\"marker\":{\"symbol\":\"circle\"},\"mode\":\"markers+lines\",\"name\":\"NPK fertilizers\",\"orientation\":\"v\",\"showlegend\":true,\"x\":[2015,2016,2017,2018,2019],\"xaxis\":\"x\",\"y\":[570429.61,420682.99,588114.1,421408.35,277536.78],\"yaxis\":\"y\",\"type\":\"scatter\"},{\"hovertemplate\":\"Item=Other NP compounds<br>Year=%{x}<br>Value=%{y}<extra></extra>\",\"legendgroup\":\"Other NP compounds\",\"line\":{\"color\":\"#FF97FF\",\"dash\":\"solid\"},\"marker\":{\"symbol\":\"circle\"},\"mode\":\"markers+lines\",\"name\":\"Other NP compounds\",\"orientation\":\"v\",\"showlegend\":true,\"x\":[2015,2016,2017,2018,2019],\"xaxis\":\"x\",\"y\":[55897.62,65097.48,69984.23,106320.56,40746.87],\"yaxis\":\"y\",\"type\":\"scatter\"},{\"hovertemplate\":\"Item=Other nitrogenous fertilizers, n.e.c.<br>Year=%{x}<br>Value=%{y}<extra></extra>\",\"legendgroup\":\"Other nitrogenous fertilizers, n.e.c.\",\"line\":{\"color\":\"#FECB52\",\"dash\":\"solid\"},\"marker\":{\"symbol\":\"circle\"},\"mode\":\"markers+lines\",\"name\":\"Other nitrogenous fertilizers, n.e.c.\",\"orientation\":\"v\",\"showlegend\":true,\"x\":[2015,2016,2017,2018,2019],\"xaxis\":\"x\",\"y\":[30762.96,28351.52,53941.51,61210.95,108408.26],\"yaxis\":\"y\",\"type\":\"scatter\"},{\"hovertemplate\":\"Item=Other phosphatic fertilizers, n.e.c.<br>Year=%{x}<br>Value=%{y}<extra></extra>\",\"legendgroup\":\"Other phosphatic fertilizers, n.e.c.\",\"line\":{\"color\":\"#636efa\",\"dash\":\"solid\"},\"marker\":{\"symbol\":\"circle\"},\"mode\":\"markers+lines\",\"name\":\"Other phosphatic fertilizers, n.e.c.\",\"orientation\":\"v\",\"showlegend\":true,\"x\":[2015,2016,2017,2018,2019],\"xaxis\":\"x\",\"y\":[1103227.04,1086445.88,1284214.31,1339718.56,882589.54],\"yaxis\":\"y\",\"type\":\"scatter\"},{\"hovertemplate\":\"Item=Other potassic fertilizers, n.e.c.<br>Year=%{x}<br>Value=%{y}<extra></extra>\",\"legendgroup\":\"Other potassic fertilizers, n.e.c.\",\"line\":{\"color\":\"#EF553B\",\"dash\":\"solid\"},\"marker\":{\"symbol\":\"circle\"},\"mode\":\"markers+lines\",\"name\":\"Other potassic fertilizers, n.e.c.\",\"orientation\":\"v\",\"showlegend\":true,\"x\":[2015,2016,2017,2018,2019],\"xaxis\":\"x\",\"y\":[17399.1,16411.42,24533.71,29774.82,14737.37],\"yaxis\":\"y\",\"type\":\"scatter\"},{\"hovertemplate\":\"Item=PK compounds<br>Year=%{x}<br>Value=%{y}<extra></extra>\",\"legendgroup\":\"PK compounds\",\"line\":{\"color\":\"#00cc96\",\"dash\":\"solid\"},\"marker\":{\"symbol\":\"circle\"},\"mode\":\"markers+lines\",\"name\":\"PK compounds\",\"orientation\":\"v\",\"showlegend\":true,\"x\":[2015,2016,2017,2018,2019],\"xaxis\":\"x\",\"y\":[228.59,563.45,508.12,458.1,385.02],\"yaxis\":\"y\",\"type\":\"scatter\"},{\"hovertemplate\":\"Item=Phosphate rock<br>Year=%{x}<br>Value=%{y}<extra></extra>\",\"legendgroup\":\"Phosphate rock\",\"line\":{\"color\":\"#ab63fa\",\"dash\":\"solid\"},\"marker\":{\"symbol\":\"circle\"},\"mode\":\"markers+lines\",\"name\":\"Phosphate rock\",\"orientation\":\"v\",\"showlegend\":true,\"x\":[2015,2016,2017,2018,2019],\"xaxis\":\"x\",\"y\":[1284516.64,1692794.75,2099524.98,1994517.16,1756822.21],\"yaxis\":\"y\",\"type\":\"scatter\"},{\"hovertemplate\":\"Item=Potassium chloride (muriate of potash) (MOP)<br>Year=%{x}<br>Value=%{y}<extra></extra>\",\"legendgroup\":\"Potassium chloride (muriate of potash) (MOP)\",\"line\":{\"color\":\"#FFA15A\",\"dash\":\"solid\"},\"marker\":{\"symbol\":\"circle\"},\"mode\":\"markers+lines\",\"name\":\"Potassium chloride (muriate of potash) (MOP)\",\"orientation\":\"v\",\"showlegend\":true,\"x\":[2015,2016,2017,2018,2019],\"xaxis\":\"x\",\"y\":[2937420.76,2647794.48,3335237.05,3499748.0,2814911.84],\"yaxis\":\"y\",\"type\":\"scatter\"},{\"hovertemplate\":\"Item=Potassium nitrate<br>Year=%{x}<br>Value=%{y}<extra></extra>\",\"legendgroup\":\"Potassium nitrate\",\"line\":{\"color\":\"#19d3f3\",\"dash\":\"solid\"},\"marker\":{\"symbol\":\"circle\"},\"mode\":\"markers+lines\",\"name\":\"Potassium nitrate\",\"orientation\":\"v\",\"showlegend\":true,\"x\":[2015,2016,2017,2018,2019],\"xaxis\":\"x\",\"y\":[1803.31,7999.33,8949.27,10341.12,8468.43],\"yaxis\":\"y\",\"type\":\"scatter\"},{\"hovertemplate\":\"Item=Potassium sulphate (sulphate of potash) (SOP)<br>Year=%{x}<br>Value=%{y}<extra></extra>\",\"legendgroup\":\"Potassium sulphate (sulphate of potash) (SOP)\",\"line\":{\"color\":\"#FF6692\",\"dash\":\"solid\"},\"marker\":{\"symbol\":\"circle\"},\"mode\":\"markers+lines\",\"name\":\"Potassium sulphate (sulphate of potash) (SOP)\",\"orientation\":\"v\",\"showlegend\":true,\"x\":[2015,2016,2017,2018,2019],\"xaxis\":\"x\",\"y\":[6230.13,2124.53,5986.94,5259.9,5273.47],\"yaxis\":\"y\",\"type\":\"scatter\"},{\"hovertemplate\":\"Item=Sodium nitrate<br>Year=%{x}<br>Value=%{y}<extra></extra>\",\"legendgroup\":\"Sodium nitrate\",\"line\":{\"color\":\"#B6E880\",\"dash\":\"solid\"},\"marker\":{\"symbol\":\"circle\"},\"mode\":\"markers+lines\",\"name\":\"Sodium nitrate\",\"orientation\":\"v\",\"showlegend\":true,\"x\":[2015,2016,2017,2018,2019],\"xaxis\":\"x\",\"y\":[8521.01,8425.69,11043.11,7750.9,4892.34],\"yaxis\":\"y\",\"type\":\"scatter\"},{\"hovertemplate\":\"Item=Superphosphates above 35%<br>Year=%{x}<br>Value=%{y}<extra></extra>\",\"legendgroup\":\"Superphosphates above 35%\",\"line\":{\"color\":\"#FF97FF\",\"dash\":\"solid\"},\"marker\":{\"symbol\":\"circle\"},\"mode\":\"markers+lines\",\"name\":\"Superphosphates above 35%\",\"orientation\":\"v\",\"showlegend\":true,\"x\":[2015,2016,2017,2018,2019],\"xaxis\":\"x\",\"y\":[817115.51,651960.61,828282.29,771982.4,520111.79],\"yaxis\":\"y\",\"type\":\"scatter\"},{\"hovertemplate\":\"Item=Urea<br>Year=%{x}<br>Value=%{y}<extra></extra>\",\"legendgroup\":\"Urea\",\"line\":{\"color\":\"#FECB52\",\"dash\":\"solid\"},\"marker\":{\"symbol\":\"circle\"},\"mode\":\"markers+lines\",\"name\":\"Urea\",\"orientation\":\"v\",\"showlegend\":true,\"x\":[2015,2016,2017,2018,2019],\"xaxis\":\"x\",\"y\":[95433.66,625899.57,88461.51,112326.58,12601.9],\"yaxis\":\"y\",\"type\":\"scatter\"},{\"hovertemplate\":\"Item=Urea and ammonium nitrate solutions (UAN)<br>Year=%{x}<br>Value=%{y}<extra></extra>\",\"legendgroup\":\"Urea and ammonium nitrate solutions (UAN)\",\"line\":{\"color\":\"#636efa\",\"dash\":\"solid\"},\"marker\":{\"symbol\":\"circle\"},\"mode\":\"markers+lines\",\"name\":\"Urea and ammonium nitrate solutions (UAN)\",\"orientation\":\"v\",\"showlegend\":true,\"x\":[2015,2016,2017,2018,2019],\"xaxis\":\"x\",\"y\":[0.57,0.0,0.45,0.04,25.65],\"yaxis\":\"y\",\"type\":\"scatter\"},{\"hovertemplate\":\"Item=Superphosphates, other<br>Year=%{x}<br>Value=%{y}<extra></extra>\",\"legendgroup\":\"Superphosphates, other\",\"line\":{\"color\":\"#EF553B\",\"dash\":\"solid\"},\"marker\":{\"symbol\":\"circle\"},\"mode\":\"markers+lines\",\"name\":\"Superphosphates, other\",\"orientation\":\"v\",\"showlegend\":true,\"x\":[2017,2018,2019],\"xaxis\":\"x\",\"y\":[21169.0,16013.68,514.82],\"yaxis\":\"y\",\"type\":\"scatter\"}],                        {\"template\":{\"data\":{\"bar\":[{\"error_x\":{\"color\":\"#2a3f5f\"},\"error_y\":{\"color\":\"#2a3f5f\"},\"marker\":{\"line\":{\"color\":\"#E5ECF6\",\"width\":0.5},\"pattern\":{\"fillmode\":\"overlay\",\"size\":10,\"solidity\":0.2}},\"type\":\"bar\"}],\"barpolar\":[{\"marker\":{\"line\":{\"color\":\"#E5ECF6\",\"width\":0.5},\"pattern\":{\"fillmode\":\"overlay\",\"size\":10,\"solidity\":0.2}},\"type\":\"barpolar\"}],\"carpet\":[{\"aaxis\":{\"endlinecolor\":\"#2a3f5f\",\"gridcolor\":\"white\",\"linecolor\":\"white\",\"minorgridcolor\":\"white\",\"startlinecolor\":\"#2a3f5f\"},\"baxis\":{\"endlinecolor\":\"#2a3f5f\",\"gridcolor\":\"white\",\"linecolor\":\"white\",\"minorgridcolor\":\"white\",\"startlinecolor\":\"#2a3f5f\"},\"type\":\"carpet\"}],\"choropleth\":[{\"colorbar\":{\"outlinewidth\":0,\"ticks\":\"\"},\"type\":\"choropleth\"}],\"contour\":[{\"colorbar\":{\"outlinewidth\":0,\"ticks\":\"\"},\"colorscale\":[[0.0,\"#0d0887\"],[0.1111111111111111,\"#46039f\"],[0.2222222222222222,\"#7201a8\"],[0.3333333333333333,\"#9c179e\"],[0.4444444444444444,\"#bd3786\"],[0.5555555555555556,\"#d8576b\"],[0.6666666666666666,\"#ed7953\"],[0.7777777777777778,\"#fb9f3a\"],[0.8888888888888888,\"#fdca26\"],[1.0,\"#f0f921\"]],\"type\":\"contour\"}],\"contourcarpet\":[{\"colorbar\":{\"outlinewidth\":0,\"ticks\":\"\"},\"type\":\"contourcarpet\"}],\"heatmap\":[{\"colorbar\":{\"outlinewidth\":0,\"ticks\":\"\"},\"colorscale\":[[0.0,\"#0d0887\"],[0.1111111111111111,\"#46039f\"],[0.2222222222222222,\"#7201a8\"],[0.3333333333333333,\"#9c179e\"],[0.4444444444444444,\"#bd3786\"],[0.5555555555555556,\"#d8576b\"],[0.6666666666666666,\"#ed7953\"],[0.7777777777777778,\"#fb9f3a\"],[0.8888888888888888,\"#fdca26\"],[1.0,\"#f0f921\"]],\"type\":\"heatmap\"}],\"heatmapgl\":[{\"colorbar\":{\"outlinewidth\":0,\"ticks\":\"\"},\"colorscale\":[[0.0,\"#0d0887\"],[0.1111111111111111,\"#46039f\"],[0.2222222222222222,\"#7201a8\"],[0.3333333333333333,\"#9c179e\"],[0.4444444444444444,\"#bd3786\"],[0.5555555555555556,\"#d8576b\"],[0.6666666666666666,\"#ed7953\"],[0.7777777777777778,\"#fb9f3a\"],[0.8888888888888888,\"#fdca26\"],[1.0,\"#f0f921\"]],\"type\":\"heatmapgl\"}],\"histogram\":[{\"marker\":{\"pattern\":{\"fillmode\":\"overlay\",\"size\":10,\"solidity\":0.2}},\"type\":\"histogram\"}],\"histogram2d\":[{\"colorbar\":{\"outlinewidth\":0,\"ticks\":\"\"},\"colorscale\":[[0.0,\"#0d0887\"],[0.1111111111111111,\"#46039f\"],[0.2222222222222222,\"#7201a8\"],[0.3333333333333333,\"#9c179e\"],[0.4444444444444444,\"#bd3786\"],[0.5555555555555556,\"#d8576b\"],[0.6666666666666666,\"#ed7953\"],[0.7777777777777778,\"#fb9f3a\"],[0.8888888888888888,\"#fdca26\"],[1.0,\"#f0f921\"]],\"type\":\"histogram2d\"}],\"histogram2dcontour\":[{\"colorbar\":{\"outlinewidth\":0,\"ticks\":\"\"},\"colorscale\":[[0.0,\"#0d0887\"],[0.1111111111111111,\"#46039f\"],[0.2222222222222222,\"#7201a8\"],[0.3333333333333333,\"#9c179e\"],[0.4444444444444444,\"#bd3786\"],[0.5555555555555556,\"#d8576b\"],[0.6666666666666666,\"#ed7953\"],[0.7777777777777778,\"#fb9f3a\"],[0.8888888888888888,\"#fdca26\"],[1.0,\"#f0f921\"]],\"type\":\"histogram2dcontour\"}],\"mesh3d\":[{\"colorbar\":{\"outlinewidth\":0,\"ticks\":\"\"},\"type\":\"mesh3d\"}],\"parcoords\":[{\"line\":{\"colorbar\":{\"outlinewidth\":0,\"ticks\":\"\"}},\"type\":\"parcoords\"}],\"pie\":[{\"automargin\":true,\"type\":\"pie\"}],\"scatter\":[{\"marker\":{\"colorbar\":{\"outlinewidth\":0,\"ticks\":\"\"}},\"type\":\"scatter\"}],\"scatter3d\":[{\"line\":{\"colorbar\":{\"outlinewidth\":0,\"ticks\":\"\"}},\"marker\":{\"colorbar\":{\"outlinewidth\":0,\"ticks\":\"\"}},\"type\":\"scatter3d\"}],\"scattercarpet\":[{\"marker\":{\"colorbar\":{\"outlinewidth\":0,\"ticks\":\"\"}},\"type\":\"scattercarpet\"}],\"scattergeo\":[{\"marker\":{\"colorbar\":{\"outlinewidth\":0,\"ticks\":\"\"}},\"type\":\"scattergeo\"}],\"scattergl\":[{\"marker\":{\"colorbar\":{\"outlinewidth\":0,\"ticks\":\"\"}},\"type\":\"scattergl\"}],\"scattermapbox\":[{\"marker\":{\"colorbar\":{\"outlinewidth\":0,\"ticks\":\"\"}},\"type\":\"scattermapbox\"}],\"scatterpolar\":[{\"marker\":{\"colorbar\":{\"outlinewidth\":0,\"ticks\":\"\"}},\"type\":\"scatterpolar\"}],\"scatterpolargl\":[{\"marker\":{\"colorbar\":{\"outlinewidth\":0,\"ticks\":\"\"}},\"type\":\"scatterpolargl\"}],\"scatterternary\":[{\"marker\":{\"colorbar\":{\"outlinewidth\":0,\"ticks\":\"\"}},\"type\":\"scatterternary\"}],\"surface\":[{\"colorbar\":{\"outlinewidth\":0,\"ticks\":\"\"},\"colorscale\":[[0.0,\"#0d0887\"],[0.1111111111111111,\"#46039f\"],[0.2222222222222222,\"#7201a8\"],[0.3333333333333333,\"#9c179e\"],[0.4444444444444444,\"#bd3786\"],[0.5555555555555556,\"#d8576b\"],[0.6666666666666666,\"#ed7953\"],[0.7777777777777778,\"#fb9f3a\"],[0.8888888888888888,\"#fdca26\"],[1.0,\"#f0f921\"]],\"type\":\"surface\"}],\"table\":[{\"cells\":{\"fill\":{\"color\":\"#EBF0F8\"},\"line\":{\"color\":\"white\"}},\"header\":{\"fill\":{\"color\":\"#C8D4E3\"},\"line\":{\"color\":\"white\"}},\"type\":\"table\"}]},\"layout\":{\"annotationdefaults\":{\"arrowcolor\":\"#2a3f5f\",\"arrowhead\":0,\"arrowwidth\":1},\"autotypenumbers\":\"strict\",\"coloraxis\":{\"colorbar\":{\"outlinewidth\":0,\"ticks\":\"\"}},\"colorscale\":{\"diverging\":[[0,\"#8e0152\"],[0.1,\"#c51b7d\"],[0.2,\"#de77ae\"],[0.3,\"#f1b6da\"],[0.4,\"#fde0ef\"],[0.5,\"#f7f7f7\"],[0.6,\"#e6f5d0\"],[0.7,\"#b8e186\"],[0.8,\"#7fbc41\"],[0.9,\"#4d9221\"],[1,\"#276419\"]],\"sequential\":[[0.0,\"#0d0887\"],[0.1111111111111111,\"#46039f\"],[0.2222222222222222,\"#7201a8\"],[0.3333333333333333,\"#9c179e\"],[0.4444444444444444,\"#bd3786\"],[0.5555555555555556,\"#d8576b\"],[0.6666666666666666,\"#ed7953\"],[0.7777777777777778,\"#fb9f3a\"],[0.8888888888888888,\"#fdca26\"],[1.0,\"#f0f921\"]],\"sequentialminus\":[[0.0,\"#0d0887\"],[0.1111111111111111,\"#46039f\"],[0.2222222222222222,\"#7201a8\"],[0.3333333333333333,\"#9c179e\"],[0.4444444444444444,\"#bd3786\"],[0.5555555555555556,\"#d8576b\"],[0.6666666666666666,\"#ed7953\"],[0.7777777777777778,\"#fb9f3a\"],[0.8888888888888888,\"#fdca26\"],[1.0,\"#f0f921\"]]},\"colorway\":[\"#636efa\",\"#EF553B\",\"#00cc96\",\"#ab63fa\",\"#FFA15A\",\"#19d3f3\",\"#FF6692\",\"#B6E880\",\"#FF97FF\",\"#FECB52\"],\"font\":{\"color\":\"#2a3f5f\"},\"geo\":{\"bgcolor\":\"white\",\"lakecolor\":\"white\",\"landcolor\":\"#E5ECF6\",\"showlakes\":true,\"showland\":true,\"subunitcolor\":\"white\"},\"hoverlabel\":{\"align\":\"left\"},\"hovermode\":\"closest\",\"mapbox\":{\"style\":\"light\"},\"paper_bgcolor\":\"white\",\"plot_bgcolor\":\"#E5ECF6\",\"polar\":{\"angularaxis\":{\"gridcolor\":\"white\",\"linecolor\":\"white\",\"ticks\":\"\"},\"bgcolor\":\"#E5ECF6\",\"radialaxis\":{\"gridcolor\":\"white\",\"linecolor\":\"white\",\"ticks\":\"\"}},\"scene\":{\"xaxis\":{\"backgroundcolor\":\"#E5ECF6\",\"gridcolor\":\"white\",\"gridwidth\":2,\"linecolor\":\"white\",\"showbackground\":true,\"ticks\":\"\",\"zerolinecolor\":\"white\"},\"yaxis\":{\"backgroundcolor\":\"#E5ECF6\",\"gridcolor\":\"white\",\"gridwidth\":2,\"linecolor\":\"white\",\"showbackground\":true,\"ticks\":\"\",\"zerolinecolor\":\"white\"},\"zaxis\":{\"backgroundcolor\":\"#E5ECF6\",\"gridcolor\":\"white\",\"gridwidth\":2,\"linecolor\":\"white\",\"showbackground\":true,\"ticks\":\"\",\"zerolinecolor\":\"white\"}},\"shapedefaults\":{\"line\":{\"color\":\"#2a3f5f\"}},\"ternary\":{\"aaxis\":{\"gridcolor\":\"white\",\"linecolor\":\"white\",\"ticks\":\"\"},\"baxis\":{\"gridcolor\":\"white\",\"linecolor\":\"white\",\"ticks\":\"\"},\"bgcolor\":\"#E5ECF6\",\"caxis\":{\"gridcolor\":\"white\",\"linecolor\":\"white\",\"ticks\":\"\"}},\"title\":{\"x\":0.05},\"xaxis\":{\"automargin\":true,\"gridcolor\":\"white\",\"linecolor\":\"white\",\"ticks\":\"\",\"title\":{\"standoff\":15},\"zerolinecolor\":\"white\",\"zerolinewidth\":2},\"yaxis\":{\"automargin\":true,\"gridcolor\":\"white\",\"linecolor\":\"white\",\"ticks\":\"\",\"title\":{\"standoff\":15},\"zerolinecolor\":\"white\",\"zerolinewidth\":2}}},\"xaxis\":{\"anchor\":\"y\",\"domain\":[0.0,1.0],\"title\":{\"text\":\"Year\"}},\"yaxis\":{\"anchor\":\"x\",\"domain\":[0.0,1.0],\"title\":{\"text\":\"Value\"}},\"legend\":{\"title\":{\"text\":\"Item\"},\"tracegroupgap\":0},\"title\":{\"text\":\"Indonesia\"}},                        {\"responsive\": true}                    ).then(function(){\n",
              "                            \n",
              "var gd = document.getElementById('56a3cd03-91cc-47d5-8681-ea86d0845c9a');\n",
              "var x = new MutationObserver(function (mutations, observer) {{\n",
              "        var display = window.getComputedStyle(gd).display;\n",
              "        if (!display || display === 'none') {{\n",
              "            console.log([gd, 'removed!']);\n",
              "            Plotly.purge(gd);\n",
              "            observer.disconnect();\n",
              "        }}\n",
              "}});\n",
              "\n",
              "// Listen for the removal of the full notebook cells\n",
              "var notebookContainer = gd.closest('#notebook-container');\n",
              "if (notebookContainer) {{\n",
              "    x.observe(notebookContainer, {childList: true});\n",
              "}}\n",
              "\n",
              "// Listen for the clearing of the current output cell\n",
              "var outputEl = gd.closest('.output');\n",
              "if (outputEl) {{\n",
              "    x.observe(outputEl, {childList: true});\n",
              "}}\n",
              "\n",
              "                        })                };                            </script>        </div>\n",
              "</body>\n",
              "</html>"
            ]
          },
          "metadata": {}
        }
      ],
      "source": [
        "for i in list_1:\n",
        "  data_1=df.query(\"Element=='Import Quantity'\").groupby(['Area','Year','Item'])['Value'].sum().reset_index()\n",
        "  fig = px.line(data_1.loc[data_1['Area'].isin([i])], x='Year', y='Value', color='Item', markers=True,title=i)\n",
        "  fig.show()"
      ]
    },
    {
      "cell_type": "code",
      "source": [
        "df['Item'].unique()"
      ],
      "metadata": {
        "colab": {
          "base_uri": "https://localhost:8080/"
        },
        "id": "CapzizFGR3dS",
        "outputId": "4c052e62-146a-4785-b5a1-cfa92a7e68ae"
      },
      "execution_count": 48,
      "outputs": [
        {
          "output_type": "execute_result",
          "data": {
            "text/plain": [
              "array(['Ammonia, anhydrous', 'Ammonium sulphate',\n",
              "       'Diammonium phosphate (DAP)', 'Fertilizers n.e.c.',\n",
              "       'Monoammonium phosphate (MAP)', 'NPK fertilizers',\n",
              "       'Other nitrogenous fertilizers, n.e.c.', 'Other NP compounds',\n",
              "       'Other phosphatic fertilizers, n.e.c.',\n",
              "       'Other potassic fertilizers, n.e.c.', 'Phosphate rock',\n",
              "       'PK compounds', 'Potassium chloride (muriate of potash) (MOP)',\n",
              "       'Potassium nitrate',\n",
              "       'Potassium sulphate (sulphate of potash) (SOP)', 'Sodium nitrate',\n",
              "       'Urea', 'Ammonium nitrate (AN)',\n",
              "       'Calcium ammonium nitrate (CAN) and other mixtures with calcium carbonate',\n",
              "       'Other NK compounds', 'Superphosphates above 35%',\n",
              "       'Superphosphates, other',\n",
              "       'Urea and ammonium nitrate solutions (UAN)'], dtype=object)"
            ]
          },
          "metadata": {},
          "execution_count": 48
        }
      ]
    },
    {
      "cell_type": "markdown",
      "source": [
        "- ***США***: лидером по импорту в количественном эквиваленте является Potassium chloride (muriate of potash) (MOP) (Хлорид Калия), далее следует Urea (Мочевина), тройку лидеров замыкает Ammonia, anhydrous (азотное удобрение - безводный аммиак). Наблюдается спад импорта удобрений Urea, Ammonia, anhydrous в количественном эквиваленте с 2018г, а у импорта Urea наоброт наблюдается рост импорта. Наблюдается активное наращивание импорта такого удобрения как Monoammonium phosphate (MAP) (азотно-фосфорное удобрение).\n",
        "- ***Индия***: больше всего импортируют Urea (Мочевина) - в 2015-году, далее идет спад и резкий скачок в 2019 г. Практичекси одно и то же кол-во импортируют Phosphate rock (фосфоритная мука), далее тройку замыкает Diammonium phosphate (DAP) (Диаммонийфосфат). Плавно обороты импорта наращивает Potassium chloride (muriate of potash) (MOP) (Хлорид Калия).\n",
        "- ***Бразилия***:явным лидером является Potassium chloride (muriate of potash) (MOP) (Хлорид Калия). На 2 и 3 месте идут Urea (Мочевина) и Monoammonium phosphate (MAP) (азотно-фосфорное удобрение)\n",
        "- ***Материковый Китай***: явным лидером по импорту является Potassium chloride (muriate of potash) (MOP) (Хлорид Калия), на втором месте NPK fertilizers (комплексные удобрения), почти на одном уровне с NPK fertilizers импортируют Ammonia, anhydrous (азотное удобрение - безводный аммиак).\n",
        "- ***Индонезия***: На первых позициях располагается удобрение Potassium chloride (muriate of potash) (MOP) (Хлорид Калия), но в 2019 г наблюдается спад импорта, на 2-ом месте Phosphate rock (фосфоритная мука), с 2017 г наблбюдается спад. 3 место делят Other phosphatic fertilizers (фосфоритные удобрения) и Ammonium sulphate (сульфат аммония)."
      ],
      "metadata": {
        "id": "2n4dcgIU_71B"
      }
    },
    {
      "cell_type": "markdown",
      "metadata": {
        "id": "kbGcSPkCEGmQ"
      },
      "source": [
        "***Динамика количества импорта каждого вида удобрений с 2015 по 2019 года для топ-5 импортеров, 1000 US $***"
      ]
    },
    {
      "cell_type": "code",
      "execution_count": 49,
      "metadata": {
        "id": "63eWAQt1z65m"
      },
      "outputs": [],
      "source": [
        "list_2 = ['United States of America', 'India', 'Brazil', 'China, mainland', 'France']"
      ]
    },
    {
      "cell_type": "code",
      "source": [
        "for i in list_2:\n",
        "  data_2=df.query(\"Element=='Import Value'\").groupby(['Area','Year','Item'])['Value'].sum().reset_index()\n",
        "  fig = px.line(data_2.loc[data_2['Area'].isin([i])], x='Year', y='Value', color='Item', markers=True,title=i)\n",
        "  fig.show()"
      ],
      "metadata": {
        "colab": {
          "base_uri": "https://localhost:8080/",
          "height": 1000
        },
        "id": "GZ2v5kC3u7z_",
        "outputId": "aab3317e-e016-4309-9a03-98e3bd422d44"
      },
      "execution_count": 50,
      "outputs": [
        {
          "output_type": "display_data",
          "data": {
            "text/html": [
              "<html>\n",
              "<head><meta charset=\"utf-8\" /></head>\n",
              "<body>\n",
              "    <div>            <script src=\"https://cdnjs.cloudflare.com/ajax/libs/mathjax/2.7.5/MathJax.js?config=TeX-AMS-MML_SVG\"></script><script type=\"text/javascript\">if (window.MathJax) {MathJax.Hub.Config({SVG: {font: \"STIX-Web\"}});}</script>                <script type=\"text/javascript\">window.PlotlyConfig = {MathJaxConfig: 'local'};</script>\n",
              "        <script src=\"https://cdn.plot.ly/plotly-2.8.3.min.js\"></script>                <div id=\"39d32fd1-6b76-48ba-8034-251746efa21c\" class=\"plotly-graph-div\" style=\"height:525px; width:100%;\"></div>            <script type=\"text/javascript\">                                    window.PLOTLYENV=window.PLOTLYENV || {};                                    if (document.getElementById(\"39d32fd1-6b76-48ba-8034-251746efa21c\")) {                    Plotly.newPlot(                        \"39d32fd1-6b76-48ba-8034-251746efa21c\",                        [{\"hovertemplate\":\"Item=Ammonia, anhydrous<br>Year=%{x}<br>Value=%{y}<extra></extra>\",\"legendgroup\":\"Ammonia, anhydrous\",\"line\":{\"color\":\"#636efa\",\"dash\":\"solid\"},\"marker\":{\"symbol\":\"circle\"},\"mode\":\"markers+lines\",\"name\":\"Ammonia, anhydrous\",\"orientation\":\"v\",\"showlegend\":true,\"x\":[2015,2016,2017,2018,2019],\"xaxis\":\"x\",\"y\":[2564505.99,1567271.39,1174115.84,1033831.21,737815.16],\"yaxis\":\"y\",\"type\":\"scatter\"},{\"hovertemplate\":\"Item=Ammonium nitrate (AN)<br>Year=%{x}<br>Value=%{y}<extra></extra>\",\"legendgroup\":\"Ammonium nitrate (AN)\",\"line\":{\"color\":\"#EF553B\",\"dash\":\"solid\"},\"marker\":{\"symbol\":\"circle\"},\"mode\":\"markers+lines\",\"name\":\"Ammonium nitrate (AN)\",\"orientation\":\"v\",\"showlegend\":true,\"x\":[2015,2016,2017,2018,2019],\"xaxis\":\"x\",\"y\":[145109.75,88615.5,67313.23,116587.79,108794.6],\"yaxis\":\"y\",\"type\":\"scatter\"},{\"hovertemplate\":\"Item=Ammonium sulphate<br>Year=%{x}<br>Value=%{y}<extra></extra>\",\"legendgroup\":\"Ammonium sulphate\",\"line\":{\"color\":\"#00cc96\",\"dash\":\"solid\"},\"marker\":{\"symbol\":\"circle\"},\"mode\":\"markers+lines\",\"name\":\"Ammonium sulphate\",\"orientation\":\"v\",\"showlegend\":true,\"x\":[2015,2016,2017,2018,2019],\"xaxis\":\"x\",\"y\":[113425.92,98422.16,82656.78,81704.64,108533.8],\"yaxis\":\"y\",\"type\":\"scatter\"},{\"hovertemplate\":\"Item=Calcium ammonium nitrate (CAN) and other mixtures with calcium carbonate<br>Year=%{x}<br>Value=%{y}<extra></extra>\",\"legendgroup\":\"Calcium ammonium nitrate (CAN) and other mixtures with calcium carbonate\",\"line\":{\"color\":\"#ab63fa\",\"dash\":\"solid\"},\"marker\":{\"symbol\":\"circle\"},\"mode\":\"markers+lines\",\"name\":\"Calcium ammonium nitrate (CAN) and other mixtures with calcium carbonate\",\"orientation\":\"v\",\"showlegend\":true,\"x\":[2015,2016,2017,2018,2019],\"xaxis\":\"x\",\"y\":[11045.96,11344.11,8362.59,12338.42,12412.41],\"yaxis\":\"y\",\"type\":\"scatter\"},{\"hovertemplate\":\"Item=Diammonium phosphate (DAP)<br>Year=%{x}<br>Value=%{y}<extra></extra>\",\"legendgroup\":\"Diammonium phosphate (DAP)\",\"line\":{\"color\":\"#FFA15A\",\"dash\":\"solid\"},\"marker\":{\"symbol\":\"circle\"},\"mode\":\"markers+lines\",\"name\":\"Diammonium phosphate (DAP)\",\"orientation\":\"v\",\"showlegend\":true,\"x\":[2015,2016,2017,2018,2019],\"xaxis\":\"x\",\"y\":[290470.9,212871.75,286028.71,491584.3,458113.21],\"yaxis\":\"y\",\"type\":\"scatter\"},{\"hovertemplate\":\"Item=Fertilizers n.e.c.<br>Year=%{x}<br>Value=%{y}<extra></extra>\",\"legendgroup\":\"Fertilizers n.e.c.\",\"line\":{\"color\":\"#19d3f3\",\"dash\":\"solid\"},\"marker\":{\"symbol\":\"circle\"},\"mode\":\"markers+lines\",\"name\":\"Fertilizers n.e.c.\",\"orientation\":\"v\",\"showlegend\":true,\"x\":[2015,2016,2017,2018,2019],\"xaxis\":\"x\",\"y\":[143786.68,158973.3,124961.93,154287.73,151338.59],\"yaxis\":\"y\",\"type\":\"scatter\"},{\"hovertemplate\":\"Item=Monoammonium phosphate (MAP)<br>Year=%{x}<br>Value=%{y}<extra></extra>\",\"legendgroup\":\"Monoammonium phosphate (MAP)\",\"line\":{\"color\":\"#FF6692\",\"dash\":\"solid\"},\"marker\":{\"symbol\":\"circle\"},\"mode\":\"markers+lines\",\"name\":\"Monoammonium phosphate (MAP)\",\"orientation\":\"v\",\"showlegend\":true,\"x\":[2015,2016,2017,2018,2019],\"xaxis\":\"x\",\"y\":[300146.92,334421.52,407459.8,765396.88,718091.94],\"yaxis\":\"y\",\"type\":\"scatter\"},{\"hovertemplate\":\"Item=NPK fertilizers<br>Year=%{x}<br>Value=%{y}<extra></extra>\",\"legendgroup\":\"NPK fertilizers\",\"line\":{\"color\":\"#B6E880\",\"dash\":\"solid\"},\"marker\":{\"symbol\":\"circle\"},\"mode\":\"markers+lines\",\"name\":\"NPK fertilizers\",\"orientation\":\"v\",\"showlegend\":true,\"x\":[2015,2016,2017,2018,2019],\"xaxis\":\"x\",\"y\":[101388.47,81686.22,84609.46,93468.7,104679.8],\"yaxis\":\"y\",\"type\":\"scatter\"},{\"hovertemplate\":\"Item=Other NP compounds<br>Year=%{x}<br>Value=%{y}<extra></extra>\",\"legendgroup\":\"Other NP compounds\",\"line\":{\"color\":\"#FF97FF\",\"dash\":\"solid\"},\"marker\":{\"symbol\":\"circle\"},\"mode\":\"markers+lines\",\"name\":\"Other NP compounds\",\"orientation\":\"v\",\"showlegend\":true,\"x\":[2015,2016,2017,2018,2019],\"xaxis\":\"x\",\"y\":[52334.57,37619.92,64893.54,85457.45,66853.64],\"yaxis\":\"y\",\"type\":\"scatter\"},{\"hovertemplate\":\"Item=Other nitrogenous fertilizers, n.e.c.<br>Year=%{x}<br>Value=%{y}<extra></extra>\",\"legendgroup\":\"Other nitrogenous fertilizers, n.e.c.\",\"line\":{\"color\":\"#FECB52\",\"dash\":\"solid\"},\"marker\":{\"symbol\":\"circle\"},\"mode\":\"markers+lines\",\"name\":\"Other nitrogenous fertilizers, n.e.c.\",\"orientation\":\"v\",\"showlegend\":true,\"x\":[2015,2016,2017,2018,2019],\"xaxis\":\"x\",\"y\":[179484.6,160538.07,165577.53,195955.36,199636.81],\"yaxis\":\"y\",\"type\":\"scatter\"},{\"hovertemplate\":\"Item=Other phosphatic fertilizers, n.e.c.<br>Year=%{x}<br>Value=%{y}<extra></extra>\",\"legendgroup\":\"Other phosphatic fertilizers, n.e.c.\",\"line\":{\"color\":\"#636efa\",\"dash\":\"solid\"},\"marker\":{\"symbol\":\"circle\"},\"mode\":\"markers+lines\",\"name\":\"Other phosphatic fertilizers, n.e.c.\",\"orientation\":\"v\",\"showlegend\":true,\"x\":[2015,2016,2017,2018,2019],\"xaxis\":\"x\",\"y\":[38678.58,10406.35,3608.07,3401.05,638.41],\"yaxis\":\"y\",\"type\":\"scatter\"},{\"hovertemplate\":\"Item=Other potassic fertilizers, n.e.c.<br>Year=%{x}<br>Value=%{y}<extra></extra>\",\"legendgroup\":\"Other potassic fertilizers, n.e.c.\",\"line\":{\"color\":\"#EF553B\",\"dash\":\"solid\"},\"marker\":{\"symbol\":\"circle\"},\"mode\":\"markers+lines\",\"name\":\"Other potassic fertilizers, n.e.c.\",\"orientation\":\"v\",\"showlegend\":true,\"x\":[2015,2016,2017,2018,2019],\"xaxis\":\"x\",\"y\":[9369.42,9176.99,9262.42,13019.35,49887.16],\"yaxis\":\"y\",\"type\":\"scatter\"},{\"hovertemplate\":\"Item=PK compounds<br>Year=%{x}<br>Value=%{y}<extra></extra>\",\"legendgroup\":\"PK compounds\",\"line\":{\"color\":\"#00cc96\",\"dash\":\"solid\"},\"marker\":{\"symbol\":\"circle\"},\"mode\":\"markers+lines\",\"name\":\"PK compounds\",\"orientation\":\"v\",\"showlegend\":true,\"x\":[2015,2016,2017,2018,2019],\"xaxis\":\"x\",\"y\":[9988.47,9435.18,9692.37,7588.81,12337.84],\"yaxis\":\"y\",\"type\":\"scatter\"},{\"hovertemplate\":\"Item=Phosphate rock<br>Year=%{x}<br>Value=%{y}<extra></extra>\",\"legendgroup\":\"Phosphate rock\",\"line\":{\"color\":\"#ab63fa\",\"dash\":\"solid\"},\"marker\":{\"symbol\":\"circle\"},\"mode\":\"markers+lines\",\"name\":\"Phosphate rock\",\"orientation\":\"v\",\"showlegend\":true,\"x\":[2015,2016,2017,2018,2019],\"xaxis\":\"x\",\"y\":[225915.5,159710.82,212229.27,206817.78,159156.88],\"yaxis\":\"y\",\"type\":\"scatter\"},{\"hovertemplate\":\"Item=Potassium chloride (muriate of potash) (MOP)<br>Year=%{x}<br>Value=%{y}<extra></extra>\",\"legendgroup\":\"Potassium chloride (muriate of potash) (MOP)\",\"line\":{\"color\":\"#FFA15A\",\"dash\":\"solid\"},\"marker\":{\"symbol\":\"circle\"},\"mode\":\"markers+lines\",\"name\":\"Potassium chloride (muriate of potash) (MOP)\",\"orientation\":\"v\",\"showlegend\":true,\"x\":[2015,2016,2017,2018,2019],\"xaxis\":\"x\",\"y\":[3330281.21,2098050.93,2553786.44,2786226.62,2856658.32],\"yaxis\":\"y\",\"type\":\"scatter\"},{\"hovertemplate\":\"Item=Potassium nitrate<br>Year=%{x}<br>Value=%{y}<extra></extra>\",\"legendgroup\":\"Potassium nitrate\",\"line\":{\"color\":\"#19d3f3\",\"dash\":\"solid\"},\"marker\":{\"symbol\":\"circle\"},\"mode\":\"markers+lines\",\"name\":\"Potassium nitrate\",\"orientation\":\"v\",\"showlegend\":true,\"x\":[2015,2016,2017,2018,2019],\"xaxis\":\"x\",\"y\":[92008.8,45756.77,64315.4,55534.87,74921.46],\"yaxis\":\"y\",\"type\":\"scatter\"},{\"hovertemplate\":\"Item=Potassium sulphate (sulphate of potash) (SOP)<br>Year=%{x}<br>Value=%{y}<extra></extra>\",\"legendgroup\":\"Potassium sulphate (sulphate of potash) (SOP)\",\"line\":{\"color\":\"#FF6692\",\"dash\":\"solid\"},\"marker\":{\"symbol\":\"circle\"},\"mode\":\"markers+lines\",\"name\":\"Potassium sulphate (sulphate of potash) (SOP)\",\"orientation\":\"v\",\"showlegend\":true,\"x\":[2015,2016,2017,2018,2019],\"xaxis\":\"x\",\"y\":[66296.59,42142.56,48502.81,36705.69,45236.21],\"yaxis\":\"y\",\"type\":\"scatter\"},{\"hovertemplate\":\"Item=Sodium nitrate<br>Year=%{x}<br>Value=%{y}<extra></extra>\",\"legendgroup\":\"Sodium nitrate\",\"line\":{\"color\":\"#B6E880\",\"dash\":\"solid\"},\"marker\":{\"symbol\":\"circle\"},\"mode\":\"markers+lines\",\"name\":\"Sodium nitrate\",\"orientation\":\"v\",\"showlegend\":true,\"x\":[2015,2016,2017,2018,2019],\"xaxis\":\"x\",\"y\":[36141.74,29458.87,22721.94,16922.58,18947.81],\"yaxis\":\"y\",\"type\":\"scatter\"},{\"hovertemplate\":\"Item=Superphosphates above 35%<br>Year=%{x}<br>Value=%{y}<extra></extra>\",\"legendgroup\":\"Superphosphates above 35%\",\"line\":{\"color\":\"#FF97FF\",\"dash\":\"solid\"},\"marker\":{\"symbol\":\"circle\"},\"mode\":\"markers+lines\",\"name\":\"Superphosphates above 35%\",\"orientation\":\"v\",\"showlegend\":true,\"x\":[2015,2016,2017,2018,2019],\"xaxis\":\"x\",\"y\":[81027.18,92400.19,88706.96,146818.73,72412.32],\"yaxis\":\"y\",\"type\":\"scatter\"},{\"hovertemplate\":\"Item=Urea<br>Year=%{x}<br>Value=%{y}<extra></extra>\",\"legendgroup\":\"Urea\",\"line\":{\"color\":\"#FECB52\",\"dash\":\"solid\"},\"marker\":{\"symbol\":\"circle\"},\"mode\":\"markers+lines\",\"name\":\"Urea\",\"orientation\":\"v\",\"showlegend\":true,\"x\":[2015,2016,2017,2018,2019],\"xaxis\":\"x\",\"y\":[2649916.68,1749173.8,1515984.31,1599314.52,1450662.05],\"yaxis\":\"y\",\"type\":\"scatter\"},{\"hovertemplate\":\"Item=Urea and ammonium nitrate solutions (UAN)<br>Year=%{x}<br>Value=%{y}<extra></extra>\",\"legendgroup\":\"Urea and ammonium nitrate solutions (UAN)\",\"line\":{\"color\":\"#636efa\",\"dash\":\"solid\"},\"marker\":{\"symbol\":\"circle\"},\"mode\":\"markers+lines\",\"name\":\"Urea and ammonium nitrate solutions (UAN)\",\"orientation\":\"v\",\"showlegend\":true,\"x\":[2015,2016,2017,2018,2019],\"xaxis\":\"x\",\"y\":[792262.84,500200.97,454011.7,471326.24,548682.04],\"yaxis\":\"y\",\"type\":\"scatter\"},{\"hovertemplate\":\"Item=Superphosphates, other<br>Year=%{x}<br>Value=%{y}<extra></extra>\",\"legendgroup\":\"Superphosphates, other\",\"line\":{\"color\":\"#EF553B\",\"dash\":\"solid\"},\"marker\":{\"symbol\":\"circle\"},\"mode\":\"markers+lines\",\"name\":\"Superphosphates, other\",\"orientation\":\"v\",\"showlegend\":true,\"x\":[2017,2018,2019],\"xaxis\":\"x\",\"y\":[5081.19,688.96,240.15],\"yaxis\":\"y\",\"type\":\"scatter\"}],                        {\"template\":{\"data\":{\"bar\":[{\"error_x\":{\"color\":\"#2a3f5f\"},\"error_y\":{\"color\":\"#2a3f5f\"},\"marker\":{\"line\":{\"color\":\"#E5ECF6\",\"width\":0.5},\"pattern\":{\"fillmode\":\"overlay\",\"size\":10,\"solidity\":0.2}},\"type\":\"bar\"}],\"barpolar\":[{\"marker\":{\"line\":{\"color\":\"#E5ECF6\",\"width\":0.5},\"pattern\":{\"fillmode\":\"overlay\",\"size\":10,\"solidity\":0.2}},\"type\":\"barpolar\"}],\"carpet\":[{\"aaxis\":{\"endlinecolor\":\"#2a3f5f\",\"gridcolor\":\"white\",\"linecolor\":\"white\",\"minorgridcolor\":\"white\",\"startlinecolor\":\"#2a3f5f\"},\"baxis\":{\"endlinecolor\":\"#2a3f5f\",\"gridcolor\":\"white\",\"linecolor\":\"white\",\"minorgridcolor\":\"white\",\"startlinecolor\":\"#2a3f5f\"},\"type\":\"carpet\"}],\"choropleth\":[{\"colorbar\":{\"outlinewidth\":0,\"ticks\":\"\"},\"type\":\"choropleth\"}],\"contour\":[{\"colorbar\":{\"outlinewidth\":0,\"ticks\":\"\"},\"colorscale\":[[0.0,\"#0d0887\"],[0.1111111111111111,\"#46039f\"],[0.2222222222222222,\"#7201a8\"],[0.3333333333333333,\"#9c179e\"],[0.4444444444444444,\"#bd3786\"],[0.5555555555555556,\"#d8576b\"],[0.6666666666666666,\"#ed7953\"],[0.7777777777777778,\"#fb9f3a\"],[0.8888888888888888,\"#fdca26\"],[1.0,\"#f0f921\"]],\"type\":\"contour\"}],\"contourcarpet\":[{\"colorbar\":{\"outlinewidth\":0,\"ticks\":\"\"},\"type\":\"contourcarpet\"}],\"heatmap\":[{\"colorbar\":{\"outlinewidth\":0,\"ticks\":\"\"},\"colorscale\":[[0.0,\"#0d0887\"],[0.1111111111111111,\"#46039f\"],[0.2222222222222222,\"#7201a8\"],[0.3333333333333333,\"#9c179e\"],[0.4444444444444444,\"#bd3786\"],[0.5555555555555556,\"#d8576b\"],[0.6666666666666666,\"#ed7953\"],[0.7777777777777778,\"#fb9f3a\"],[0.8888888888888888,\"#fdca26\"],[1.0,\"#f0f921\"]],\"type\":\"heatmap\"}],\"heatmapgl\":[{\"colorbar\":{\"outlinewidth\":0,\"ticks\":\"\"},\"colorscale\":[[0.0,\"#0d0887\"],[0.1111111111111111,\"#46039f\"],[0.2222222222222222,\"#7201a8\"],[0.3333333333333333,\"#9c179e\"],[0.4444444444444444,\"#bd3786\"],[0.5555555555555556,\"#d8576b\"],[0.6666666666666666,\"#ed7953\"],[0.7777777777777778,\"#fb9f3a\"],[0.8888888888888888,\"#fdca26\"],[1.0,\"#f0f921\"]],\"type\":\"heatmapgl\"}],\"histogram\":[{\"marker\":{\"pattern\":{\"fillmode\":\"overlay\",\"size\":10,\"solidity\":0.2}},\"type\":\"histogram\"}],\"histogram2d\":[{\"colorbar\":{\"outlinewidth\":0,\"ticks\":\"\"},\"colorscale\":[[0.0,\"#0d0887\"],[0.1111111111111111,\"#46039f\"],[0.2222222222222222,\"#7201a8\"],[0.3333333333333333,\"#9c179e\"],[0.4444444444444444,\"#bd3786\"],[0.5555555555555556,\"#d8576b\"],[0.6666666666666666,\"#ed7953\"],[0.7777777777777778,\"#fb9f3a\"],[0.8888888888888888,\"#fdca26\"],[1.0,\"#f0f921\"]],\"type\":\"histogram2d\"}],\"histogram2dcontour\":[{\"colorbar\":{\"outlinewidth\":0,\"ticks\":\"\"},\"colorscale\":[[0.0,\"#0d0887\"],[0.1111111111111111,\"#46039f\"],[0.2222222222222222,\"#7201a8\"],[0.3333333333333333,\"#9c179e\"],[0.4444444444444444,\"#bd3786\"],[0.5555555555555556,\"#d8576b\"],[0.6666666666666666,\"#ed7953\"],[0.7777777777777778,\"#fb9f3a\"],[0.8888888888888888,\"#fdca26\"],[1.0,\"#f0f921\"]],\"type\":\"histogram2dcontour\"}],\"mesh3d\":[{\"colorbar\":{\"outlinewidth\":0,\"ticks\":\"\"},\"type\":\"mesh3d\"}],\"parcoords\":[{\"line\":{\"colorbar\":{\"outlinewidth\":0,\"ticks\":\"\"}},\"type\":\"parcoords\"}],\"pie\":[{\"automargin\":true,\"type\":\"pie\"}],\"scatter\":[{\"marker\":{\"colorbar\":{\"outlinewidth\":0,\"ticks\":\"\"}},\"type\":\"scatter\"}],\"scatter3d\":[{\"line\":{\"colorbar\":{\"outlinewidth\":0,\"ticks\":\"\"}},\"marker\":{\"colorbar\":{\"outlinewidth\":0,\"ticks\":\"\"}},\"type\":\"scatter3d\"}],\"scattercarpet\":[{\"marker\":{\"colorbar\":{\"outlinewidth\":0,\"ticks\":\"\"}},\"type\":\"scattercarpet\"}],\"scattergeo\":[{\"marker\":{\"colorbar\":{\"outlinewidth\":0,\"ticks\":\"\"}},\"type\":\"scattergeo\"}],\"scattergl\":[{\"marker\":{\"colorbar\":{\"outlinewidth\":0,\"ticks\":\"\"}},\"type\":\"scattergl\"}],\"scattermapbox\":[{\"marker\":{\"colorbar\":{\"outlinewidth\":0,\"ticks\":\"\"}},\"type\":\"scattermapbox\"}],\"scatterpolar\":[{\"marker\":{\"colorbar\":{\"outlinewidth\":0,\"ticks\":\"\"}},\"type\":\"scatterpolar\"}],\"scatterpolargl\":[{\"marker\":{\"colorbar\":{\"outlinewidth\":0,\"ticks\":\"\"}},\"type\":\"scatterpolargl\"}],\"scatterternary\":[{\"marker\":{\"colorbar\":{\"outlinewidth\":0,\"ticks\":\"\"}},\"type\":\"scatterternary\"}],\"surface\":[{\"colorbar\":{\"outlinewidth\":0,\"ticks\":\"\"},\"colorscale\":[[0.0,\"#0d0887\"],[0.1111111111111111,\"#46039f\"],[0.2222222222222222,\"#7201a8\"],[0.3333333333333333,\"#9c179e\"],[0.4444444444444444,\"#bd3786\"],[0.5555555555555556,\"#d8576b\"],[0.6666666666666666,\"#ed7953\"],[0.7777777777777778,\"#fb9f3a\"],[0.8888888888888888,\"#fdca26\"],[1.0,\"#f0f921\"]],\"type\":\"surface\"}],\"table\":[{\"cells\":{\"fill\":{\"color\":\"#EBF0F8\"},\"line\":{\"color\":\"white\"}},\"header\":{\"fill\":{\"color\":\"#C8D4E3\"},\"line\":{\"color\":\"white\"}},\"type\":\"table\"}]},\"layout\":{\"annotationdefaults\":{\"arrowcolor\":\"#2a3f5f\",\"arrowhead\":0,\"arrowwidth\":1},\"autotypenumbers\":\"strict\",\"coloraxis\":{\"colorbar\":{\"outlinewidth\":0,\"ticks\":\"\"}},\"colorscale\":{\"diverging\":[[0,\"#8e0152\"],[0.1,\"#c51b7d\"],[0.2,\"#de77ae\"],[0.3,\"#f1b6da\"],[0.4,\"#fde0ef\"],[0.5,\"#f7f7f7\"],[0.6,\"#e6f5d0\"],[0.7,\"#b8e186\"],[0.8,\"#7fbc41\"],[0.9,\"#4d9221\"],[1,\"#276419\"]],\"sequential\":[[0.0,\"#0d0887\"],[0.1111111111111111,\"#46039f\"],[0.2222222222222222,\"#7201a8\"],[0.3333333333333333,\"#9c179e\"],[0.4444444444444444,\"#bd3786\"],[0.5555555555555556,\"#d8576b\"],[0.6666666666666666,\"#ed7953\"],[0.7777777777777778,\"#fb9f3a\"],[0.8888888888888888,\"#fdca26\"],[1.0,\"#f0f921\"]],\"sequentialminus\":[[0.0,\"#0d0887\"],[0.1111111111111111,\"#46039f\"],[0.2222222222222222,\"#7201a8\"],[0.3333333333333333,\"#9c179e\"],[0.4444444444444444,\"#bd3786\"],[0.5555555555555556,\"#d8576b\"],[0.6666666666666666,\"#ed7953\"],[0.7777777777777778,\"#fb9f3a\"],[0.8888888888888888,\"#fdca26\"],[1.0,\"#f0f921\"]]},\"colorway\":[\"#636efa\",\"#EF553B\",\"#00cc96\",\"#ab63fa\",\"#FFA15A\",\"#19d3f3\",\"#FF6692\",\"#B6E880\",\"#FF97FF\",\"#FECB52\"],\"font\":{\"color\":\"#2a3f5f\"},\"geo\":{\"bgcolor\":\"white\",\"lakecolor\":\"white\",\"landcolor\":\"#E5ECF6\",\"showlakes\":true,\"showland\":true,\"subunitcolor\":\"white\"},\"hoverlabel\":{\"align\":\"left\"},\"hovermode\":\"closest\",\"mapbox\":{\"style\":\"light\"},\"paper_bgcolor\":\"white\",\"plot_bgcolor\":\"#E5ECF6\",\"polar\":{\"angularaxis\":{\"gridcolor\":\"white\",\"linecolor\":\"white\",\"ticks\":\"\"},\"bgcolor\":\"#E5ECF6\",\"radialaxis\":{\"gridcolor\":\"white\",\"linecolor\":\"white\",\"ticks\":\"\"}},\"scene\":{\"xaxis\":{\"backgroundcolor\":\"#E5ECF6\",\"gridcolor\":\"white\",\"gridwidth\":2,\"linecolor\":\"white\",\"showbackground\":true,\"ticks\":\"\",\"zerolinecolor\":\"white\"},\"yaxis\":{\"backgroundcolor\":\"#E5ECF6\",\"gridcolor\":\"white\",\"gridwidth\":2,\"linecolor\":\"white\",\"showbackground\":true,\"ticks\":\"\",\"zerolinecolor\":\"white\"},\"zaxis\":{\"backgroundcolor\":\"#E5ECF6\",\"gridcolor\":\"white\",\"gridwidth\":2,\"linecolor\":\"white\",\"showbackground\":true,\"ticks\":\"\",\"zerolinecolor\":\"white\"}},\"shapedefaults\":{\"line\":{\"color\":\"#2a3f5f\"}},\"ternary\":{\"aaxis\":{\"gridcolor\":\"white\",\"linecolor\":\"white\",\"ticks\":\"\"},\"baxis\":{\"gridcolor\":\"white\",\"linecolor\":\"white\",\"ticks\":\"\"},\"bgcolor\":\"#E5ECF6\",\"caxis\":{\"gridcolor\":\"white\",\"linecolor\":\"white\",\"ticks\":\"\"}},\"title\":{\"x\":0.05},\"xaxis\":{\"automargin\":true,\"gridcolor\":\"white\",\"linecolor\":\"white\",\"ticks\":\"\",\"title\":{\"standoff\":15},\"zerolinecolor\":\"white\",\"zerolinewidth\":2},\"yaxis\":{\"automargin\":true,\"gridcolor\":\"white\",\"linecolor\":\"white\",\"ticks\":\"\",\"title\":{\"standoff\":15},\"zerolinecolor\":\"white\",\"zerolinewidth\":2}}},\"xaxis\":{\"anchor\":\"y\",\"domain\":[0.0,1.0],\"title\":{\"text\":\"Year\"}},\"yaxis\":{\"anchor\":\"x\",\"domain\":[0.0,1.0],\"title\":{\"text\":\"Value\"}},\"legend\":{\"title\":{\"text\":\"Item\"},\"tracegroupgap\":0},\"title\":{\"text\":\"United States of America\"}},                        {\"responsive\": true}                    ).then(function(){\n",
              "                            \n",
              "var gd = document.getElementById('39d32fd1-6b76-48ba-8034-251746efa21c');\n",
              "var x = new MutationObserver(function (mutations, observer) {{\n",
              "        var display = window.getComputedStyle(gd).display;\n",
              "        if (!display || display === 'none') {{\n",
              "            console.log([gd, 'removed!']);\n",
              "            Plotly.purge(gd);\n",
              "            observer.disconnect();\n",
              "        }}\n",
              "}});\n",
              "\n",
              "// Listen for the removal of the full notebook cells\n",
              "var notebookContainer = gd.closest('#notebook-container');\n",
              "if (notebookContainer) {{\n",
              "    x.observe(notebookContainer, {childList: true});\n",
              "}}\n",
              "\n",
              "// Listen for the clearing of the current output cell\n",
              "var outputEl = gd.closest('.output');\n",
              "if (outputEl) {{\n",
              "    x.observe(outputEl, {childList: true});\n",
              "}}\n",
              "\n",
              "                        })                };                            </script>        </div>\n",
              "</body>\n",
              "</html>"
            ]
          },
          "metadata": {}
        },
        {
          "output_type": "display_data",
          "data": {
            "text/html": [
              "<html>\n",
              "<head><meta charset=\"utf-8\" /></head>\n",
              "<body>\n",
              "    <div>            <script src=\"https://cdnjs.cloudflare.com/ajax/libs/mathjax/2.7.5/MathJax.js?config=TeX-AMS-MML_SVG\"></script><script type=\"text/javascript\">if (window.MathJax) {MathJax.Hub.Config({SVG: {font: \"STIX-Web\"}});}</script>                <script type=\"text/javascript\">window.PlotlyConfig = {MathJaxConfig: 'local'};</script>\n",
              "        <script src=\"https://cdn.plot.ly/plotly-2.8.3.min.js\"></script>                <div id=\"f34536b8-8c12-4da6-b450-368a2517d6c1\" class=\"plotly-graph-div\" style=\"height:525px; width:100%;\"></div>            <script type=\"text/javascript\">                                    window.PLOTLYENV=window.PLOTLYENV || {};                                    if (document.getElementById(\"f34536b8-8c12-4da6-b450-368a2517d6c1\")) {                    Plotly.newPlot(                        \"f34536b8-8c12-4da6-b450-368a2517d6c1\",                        [{\"hovertemplate\":\"Item=Ammonia, anhydrous<br>Year=%{x}<br>Value=%{y}<extra></extra>\",\"legendgroup\":\"Ammonia, anhydrous\",\"line\":{\"color\":\"#636efa\",\"dash\":\"solid\"},\"marker\":{\"symbol\":\"circle\"},\"mode\":\"markers+lines\",\"name\":\"Ammonia, anhydrous\",\"orientation\":\"v\",\"showlegend\":true,\"x\":[2015,2016,2017,2018,2019],\"xaxis\":\"x\",\"y\":[1042535.5,753299.75,706573.68,912006.18,775439.6],\"yaxis\":\"y\",\"type\":\"scatter\"},{\"hovertemplate\":\"Item=Ammonium nitrate (AN)<br>Year=%{x}<br>Value=%{y}<extra></extra>\",\"legendgroup\":\"Ammonium nitrate (AN)\",\"line\":{\"color\":\"#EF553B\",\"dash\":\"solid\"},\"marker\":{\"symbol\":\"circle\"},\"mode\":\"markers+lines\",\"name\":\"Ammonium nitrate (AN)\",\"orientation\":\"v\",\"showlegend\":true,\"x\":[2015,2016,2017,2018,2019],\"xaxis\":\"x\",\"y\":[48086.89,83104.61,69847.75,56199.43,89497.03],\"yaxis\":\"y\",\"type\":\"scatter\"},{\"hovertemplate\":\"Item=Ammonium sulphate<br>Year=%{x}<br>Value=%{y}<extra></extra>\",\"legendgroup\":\"Ammonium sulphate\",\"line\":{\"color\":\"#00cc96\",\"dash\":\"solid\"},\"marker\":{\"symbol\":\"circle\"},\"mode\":\"markers+lines\",\"name\":\"Ammonium sulphate\",\"orientation\":\"v\",\"showlegend\":true,\"x\":[2015,2016,2017,2018,2019],\"xaxis\":\"x\",\"y\":[19335.48,14605.92,16061.5,12210.28,13968.24],\"yaxis\":\"y\",\"type\":\"scatter\"},{\"hovertemplate\":\"Item=Diammonium phosphate (DAP)<br>Year=%{x}<br>Value=%{y}<extra></extra>\",\"legendgroup\":\"Diammonium phosphate (DAP)\",\"line\":{\"color\":\"#ab63fa\",\"dash\":\"solid\"},\"marker\":{\"symbol\":\"circle\"},\"mode\":\"markers+lines\",\"name\":\"Diammonium phosphate (DAP)\",\"orientation\":\"v\",\"showlegend\":true,\"x\":[2015,2016,2017,2018,2019],\"xaxis\":\"x\",\"y\":[3102343.0,1690540.72,1470512.19,2757601.67,2164581.93],\"yaxis\":\"y\",\"type\":\"scatter\"},{\"hovertemplate\":\"Item=Fertilizers n.e.c.<br>Year=%{x}<br>Value=%{y}<extra></extra>\",\"legendgroup\":\"Fertilizers n.e.c.\",\"line\":{\"color\":\"#FFA15A\",\"dash\":\"solid\"},\"marker\":{\"symbol\":\"circle\"},\"mode\":\"markers+lines\",\"name\":\"Fertilizers n.e.c.\",\"orientation\":\"v\",\"showlegend\":true,\"x\":[2015,2016,2017,2018,2019],\"xaxis\":\"x\",\"y\":[79857.19,30335.77,28670.68,37625.0,38162.34],\"yaxis\":\"y\",\"type\":\"scatter\"},{\"hovertemplate\":\"Item=Monoammonium phosphate (MAP)<br>Year=%{x}<br>Value=%{y}<extra></extra>\",\"legendgroup\":\"Monoammonium phosphate (MAP)\",\"line\":{\"color\":\"#19d3f3\",\"dash\":\"solid\"},\"marker\":{\"symbol\":\"circle\"},\"mode\":\"markers+lines\",\"name\":\"Monoammonium phosphate (MAP)\",\"orientation\":\"v\",\"showlegend\":true,\"x\":[2015,2016,2017,2018,2019],\"xaxis\":\"x\",\"y\":[54635.09,62613.05,60912.45,77127.87,87536.56],\"yaxis\":\"y\",\"type\":\"scatter\"},{\"hovertemplate\":\"Item=NPK fertilizers<br>Year=%{x}<br>Value=%{y}<extra></extra>\",\"legendgroup\":\"NPK fertilizers\",\"line\":{\"color\":\"#FF6692\",\"dash\":\"solid\"},\"marker\":{\"symbol\":\"circle\"},\"mode\":\"markers+lines\",\"name\":\"NPK fertilizers\",\"orientation\":\"v\",\"showlegend\":true,\"x\":[2015,2016,2017,2018,2019],\"xaxis\":\"x\",\"y\":[117556.03,98496.04,74762.56,211425.24,224246.23],\"yaxis\":\"y\",\"type\":\"scatter\"},{\"hovertemplate\":\"Item=Other NP compounds<br>Year=%{x}<br>Value=%{y}<extra></extra>\",\"legendgroup\":\"Other NP compounds\",\"line\":{\"color\":\"#B6E880\",\"dash\":\"solid\"},\"marker\":{\"symbol\":\"circle\"},\"mode\":\"markers+lines\",\"name\":\"Other NP compounds\",\"orientation\":\"v\",\"showlegend\":true,\"x\":[2015,2016,2017,2018,2019],\"xaxis\":\"x\",\"y\":[101458.93,73796.27,73001.27,32372.63,119858.4],\"yaxis\":\"y\",\"type\":\"scatter\"},{\"hovertemplate\":\"Item=Other nitrogenous fertilizers, n.e.c.<br>Year=%{x}<br>Value=%{y}<extra></extra>\",\"legendgroup\":\"Other nitrogenous fertilizers, n.e.c.\",\"line\":{\"color\":\"#FF97FF\",\"dash\":\"solid\"},\"marker\":{\"symbol\":\"circle\"},\"mode\":\"markers+lines\",\"name\":\"Other nitrogenous fertilizers, n.e.c.\",\"orientation\":\"v\",\"showlegend\":true,\"x\":[2015,2016,2017,2018,2019],\"xaxis\":\"x\",\"y\":[38381.08,29927.88,38989.35,52021.48,48633.72],\"yaxis\":\"y\",\"type\":\"scatter\"},{\"hovertemplate\":\"Item=Other phosphatic fertilizers, n.e.c.<br>Year=%{x}<br>Value=%{y}<extra></extra>\",\"legendgroup\":\"Other phosphatic fertilizers, n.e.c.\",\"line\":{\"color\":\"#FECB52\",\"dash\":\"solid\"},\"marker\":{\"symbol\":\"circle\"},\"mode\":\"markers+lines\",\"name\":\"Other phosphatic fertilizers, n.e.c.\",\"orientation\":\"v\",\"showlegend\":true,\"x\":[2015,2016,2017,2018,2019],\"xaxis\":\"x\",\"y\":[137.42,17.39,96.29,1339.07,32.76],\"yaxis\":\"y\",\"type\":\"scatter\"},{\"hovertemplate\":\"Item=Other potassic fertilizers, n.e.c.<br>Year=%{x}<br>Value=%{y}<extra></extra>\",\"legendgroup\":\"Other potassic fertilizers, n.e.c.\",\"line\":{\"color\":\"#636efa\",\"dash\":\"solid\"},\"marker\":{\"symbol\":\"circle\"},\"mode\":\"markers+lines\",\"name\":\"Other potassic fertilizers, n.e.c.\",\"orientation\":\"v\",\"showlegend\":true,\"x\":[2015,2016,2017,2018,2019],\"xaxis\":\"x\",\"y\":[22301.65,9910.93,14065.28,37387.76,22933.85],\"yaxis\":\"y\",\"type\":\"scatter\"},{\"hovertemplate\":\"Item=PK compounds<br>Year=%{x}<br>Value=%{y}<extra></extra>\",\"legendgroup\":\"PK compounds\",\"line\":{\"color\":\"#EF553B\",\"dash\":\"solid\"},\"marker\":{\"symbol\":\"circle\"},\"mode\":\"markers+lines\",\"name\":\"PK compounds\",\"orientation\":\"v\",\"showlegend\":true,\"x\":[2015,2016,2017,2018,2019],\"xaxis\":\"x\",\"y\":[22298.85,26234.94,24544.29,34844.48,29771.67],\"yaxis\":\"y\",\"type\":\"scatter\"},{\"hovertemplate\":\"Item=Phosphate rock<br>Year=%{x}<br>Value=%{y}<extra></extra>\",\"legendgroup\":\"Phosphate rock\",\"line\":{\"color\":\"#00cc96\",\"dash\":\"solid\"},\"marker\":{\"symbol\":\"circle\"},\"mode\":\"markers+lines\",\"name\":\"Phosphate rock\",\"orientation\":\"v\",\"showlegend\":true,\"x\":[2015,2016,2017,2018,2019],\"xaxis\":\"x\",\"y\":[1047879.13,784851.16,682309.14,759413.84,769325.32],\"yaxis\":\"y\",\"type\":\"scatter\"},{\"hovertemplate\":\"Item=Potassium chloride (muriate of potash) (MOP)<br>Year=%{x}<br>Value=%{y}<extra></extra>\",\"legendgroup\":\"Potassium chloride (muriate of potash) (MOP)\",\"line\":{\"color\":\"#ab63fa\",\"dash\":\"solid\"},\"marker\":{\"symbol\":\"circle\"},\"mode\":\"markers+lines\",\"name\":\"Potassium chloride (muriate of potash) (MOP)\",\"orientation\":\"v\",\"showlegend\":true,\"x\":[2015,2016,2017,2018,2019],\"xaxis\":\"x\",\"y\":[1186352.54,983421.77,1033547.43,1132859.77,1217180.43],\"yaxis\":\"y\",\"type\":\"scatter\"},{\"hovertemplate\":\"Item=Potassium nitrate<br>Year=%{x}<br>Value=%{y}<extra></extra>\",\"legendgroup\":\"Potassium nitrate\",\"line\":{\"color\":\"#FFA15A\",\"dash\":\"solid\"},\"marker\":{\"symbol\":\"circle\"},\"mode\":\"markers+lines\",\"name\":\"Potassium nitrate\",\"orientation\":\"v\",\"showlegend\":true,\"x\":[2015,2016,2017,2018,2019],\"xaxis\":\"x\",\"y\":[462.41,284.95,335.0,162.17,430.69],\"yaxis\":\"y\",\"type\":\"scatter\"},{\"hovertemplate\":\"Item=Potassium sulphate (sulphate of potash) (SOP)<br>Year=%{x}<br>Value=%{y}<extra></extra>\",\"legendgroup\":\"Potassium sulphate (sulphate of potash) (SOP)\",\"line\":{\"color\":\"#19d3f3\",\"dash\":\"solid\"},\"marker\":{\"symbol\":\"circle\"},\"mode\":\"markers+lines\",\"name\":\"Potassium sulphate (sulphate of potash) (SOP)\",\"orientation\":\"v\",\"showlegend\":true,\"x\":[2015,2016,2017,2018,2019],\"xaxis\":\"x\",\"y\":[44236.96,22127.81,31906.78,20660.67,29078.08],\"yaxis\":\"y\",\"type\":\"scatter\"},{\"hovertemplate\":\"Item=Sodium nitrate<br>Year=%{x}<br>Value=%{y}<extra></extra>\",\"legendgroup\":\"Sodium nitrate\",\"line\":{\"color\":\"#FF6692\",\"dash\":\"solid\"},\"marker\":{\"symbol\":\"circle\"},\"mode\":\"markers+lines\",\"name\":\"Sodium nitrate\",\"orientation\":\"v\",\"showlegend\":true,\"x\":[2015,2016,2017,2018,2019],\"xaxis\":\"x\",\"y\":[169.66,350.72,111.24,283.33,304.34],\"yaxis\":\"y\",\"type\":\"scatter\"},{\"hovertemplate\":\"Item=Urea<br>Year=%{x}<br>Value=%{y}<extra></extra>\",\"legendgroup\":\"Urea\",\"line\":{\"color\":\"#B6E880\",\"dash\":\"solid\"},\"marker\":{\"symbol\":\"circle\"},\"mode\":\"markers+lines\",\"name\":\"Urea\",\"orientation\":\"v\",\"showlegend\":true,\"x\":[2015,2016,2017,2018,2019],\"xaxis\":\"x\",\"y\":[2617926.89,1455590.25,1297545.68,1453043.03,3088373.47],\"yaxis\":\"y\",\"type\":\"scatter\"},{\"hovertemplate\":\"Item=Urea and ammonium nitrate solutions (UAN)<br>Year=%{x}<br>Value=%{y}<extra></extra>\",\"legendgroup\":\"Urea and ammonium nitrate solutions (UAN)\",\"line\":{\"color\":\"#FF97FF\",\"dash\":\"solid\"},\"marker\":{\"symbol\":\"circle\"},\"mode\":\"markers+lines\",\"name\":\"Urea and ammonium nitrate solutions (UAN)\",\"orientation\":\"v\",\"showlegend\":true,\"x\":[2015,2018],\"xaxis\":\"x\",\"y\":[6.01,198.62],\"yaxis\":\"y\",\"type\":\"scatter\"},{\"hovertemplate\":\"Item=Superphosphates above 35%<br>Year=%{x}<br>Value=%{y}<extra></extra>\",\"legendgroup\":\"Superphosphates above 35%\",\"line\":{\"color\":\"#FECB52\",\"dash\":\"solid\"},\"marker\":{\"symbol\":\"circle\"},\"mode\":\"markers+lines\",\"name\":\"Superphosphates above 35%\",\"orientation\":\"v\",\"showlegend\":true,\"x\":[2016],\"xaxis\":\"x\",\"y\":[17.42],\"yaxis\":\"y\",\"type\":\"scatter\"},{\"hovertemplate\":\"Item=Calcium ammonium nitrate (CAN) and other mixtures with calcium carbonate<br>Year=%{x}<br>Value=%{y}<extra></extra>\",\"legendgroup\":\"Calcium ammonium nitrate (CAN) and other mixtures with calcium carbonate\",\"line\":{\"color\":\"#636efa\",\"dash\":\"solid\"},\"marker\":{\"symbol\":\"circle\"},\"mode\":\"markers+lines\",\"name\":\"Calcium ammonium nitrate (CAN) and other mixtures with calcium carbonate\",\"orientation\":\"v\",\"showlegend\":true,\"x\":[2019],\"xaxis\":\"x\",\"y\":[2.6],\"yaxis\":\"y\",\"type\":\"scatter\"},{\"hovertemplate\":\"Item=Superphosphates, other<br>Year=%{x}<br>Value=%{y}<extra></extra>\",\"legendgroup\":\"Superphosphates, other\",\"line\":{\"color\":\"#EF553B\",\"dash\":\"solid\"},\"marker\":{\"symbol\":\"circle\"},\"mode\":\"markers+lines\",\"name\":\"Superphosphates, other\",\"orientation\":\"v\",\"showlegend\":true,\"x\":[2019],\"xaxis\":\"x\",\"y\":[654.54],\"yaxis\":\"y\",\"type\":\"scatter\"}],                        {\"template\":{\"data\":{\"bar\":[{\"error_x\":{\"color\":\"#2a3f5f\"},\"error_y\":{\"color\":\"#2a3f5f\"},\"marker\":{\"line\":{\"color\":\"#E5ECF6\",\"width\":0.5},\"pattern\":{\"fillmode\":\"overlay\",\"size\":10,\"solidity\":0.2}},\"type\":\"bar\"}],\"barpolar\":[{\"marker\":{\"line\":{\"color\":\"#E5ECF6\",\"width\":0.5},\"pattern\":{\"fillmode\":\"overlay\",\"size\":10,\"solidity\":0.2}},\"type\":\"barpolar\"}],\"carpet\":[{\"aaxis\":{\"endlinecolor\":\"#2a3f5f\",\"gridcolor\":\"white\",\"linecolor\":\"white\",\"minorgridcolor\":\"white\",\"startlinecolor\":\"#2a3f5f\"},\"baxis\":{\"endlinecolor\":\"#2a3f5f\",\"gridcolor\":\"white\",\"linecolor\":\"white\",\"minorgridcolor\":\"white\",\"startlinecolor\":\"#2a3f5f\"},\"type\":\"carpet\"}],\"choropleth\":[{\"colorbar\":{\"outlinewidth\":0,\"ticks\":\"\"},\"type\":\"choropleth\"}],\"contour\":[{\"colorbar\":{\"outlinewidth\":0,\"ticks\":\"\"},\"colorscale\":[[0.0,\"#0d0887\"],[0.1111111111111111,\"#46039f\"],[0.2222222222222222,\"#7201a8\"],[0.3333333333333333,\"#9c179e\"],[0.4444444444444444,\"#bd3786\"],[0.5555555555555556,\"#d8576b\"],[0.6666666666666666,\"#ed7953\"],[0.7777777777777778,\"#fb9f3a\"],[0.8888888888888888,\"#fdca26\"],[1.0,\"#f0f921\"]],\"type\":\"contour\"}],\"contourcarpet\":[{\"colorbar\":{\"outlinewidth\":0,\"ticks\":\"\"},\"type\":\"contourcarpet\"}],\"heatmap\":[{\"colorbar\":{\"outlinewidth\":0,\"ticks\":\"\"},\"colorscale\":[[0.0,\"#0d0887\"],[0.1111111111111111,\"#46039f\"],[0.2222222222222222,\"#7201a8\"],[0.3333333333333333,\"#9c179e\"],[0.4444444444444444,\"#bd3786\"],[0.5555555555555556,\"#d8576b\"],[0.6666666666666666,\"#ed7953\"],[0.7777777777777778,\"#fb9f3a\"],[0.8888888888888888,\"#fdca26\"],[1.0,\"#f0f921\"]],\"type\":\"heatmap\"}],\"heatmapgl\":[{\"colorbar\":{\"outlinewidth\":0,\"ticks\":\"\"},\"colorscale\":[[0.0,\"#0d0887\"],[0.1111111111111111,\"#46039f\"],[0.2222222222222222,\"#7201a8\"],[0.3333333333333333,\"#9c179e\"],[0.4444444444444444,\"#bd3786\"],[0.5555555555555556,\"#d8576b\"],[0.6666666666666666,\"#ed7953\"],[0.7777777777777778,\"#fb9f3a\"],[0.8888888888888888,\"#fdca26\"],[1.0,\"#f0f921\"]],\"type\":\"heatmapgl\"}],\"histogram\":[{\"marker\":{\"pattern\":{\"fillmode\":\"overlay\",\"size\":10,\"solidity\":0.2}},\"type\":\"histogram\"}],\"histogram2d\":[{\"colorbar\":{\"outlinewidth\":0,\"ticks\":\"\"},\"colorscale\":[[0.0,\"#0d0887\"],[0.1111111111111111,\"#46039f\"],[0.2222222222222222,\"#7201a8\"],[0.3333333333333333,\"#9c179e\"],[0.4444444444444444,\"#bd3786\"],[0.5555555555555556,\"#d8576b\"],[0.6666666666666666,\"#ed7953\"],[0.7777777777777778,\"#fb9f3a\"],[0.8888888888888888,\"#fdca26\"],[1.0,\"#f0f921\"]],\"type\":\"histogram2d\"}],\"histogram2dcontour\":[{\"colorbar\":{\"outlinewidth\":0,\"ticks\":\"\"},\"colorscale\":[[0.0,\"#0d0887\"],[0.1111111111111111,\"#46039f\"],[0.2222222222222222,\"#7201a8\"],[0.3333333333333333,\"#9c179e\"],[0.4444444444444444,\"#bd3786\"],[0.5555555555555556,\"#d8576b\"],[0.6666666666666666,\"#ed7953\"],[0.7777777777777778,\"#fb9f3a\"],[0.8888888888888888,\"#fdca26\"],[1.0,\"#f0f921\"]],\"type\":\"histogram2dcontour\"}],\"mesh3d\":[{\"colorbar\":{\"outlinewidth\":0,\"ticks\":\"\"},\"type\":\"mesh3d\"}],\"parcoords\":[{\"line\":{\"colorbar\":{\"outlinewidth\":0,\"ticks\":\"\"}},\"type\":\"parcoords\"}],\"pie\":[{\"automargin\":true,\"type\":\"pie\"}],\"scatter\":[{\"marker\":{\"colorbar\":{\"outlinewidth\":0,\"ticks\":\"\"}},\"type\":\"scatter\"}],\"scatter3d\":[{\"line\":{\"colorbar\":{\"outlinewidth\":0,\"ticks\":\"\"}},\"marker\":{\"colorbar\":{\"outlinewidth\":0,\"ticks\":\"\"}},\"type\":\"scatter3d\"}],\"scattercarpet\":[{\"marker\":{\"colorbar\":{\"outlinewidth\":0,\"ticks\":\"\"}},\"type\":\"scattercarpet\"}],\"scattergeo\":[{\"marker\":{\"colorbar\":{\"outlinewidth\":0,\"ticks\":\"\"}},\"type\":\"scattergeo\"}],\"scattergl\":[{\"marker\":{\"colorbar\":{\"outlinewidth\":0,\"ticks\":\"\"}},\"type\":\"scattergl\"}],\"scattermapbox\":[{\"marker\":{\"colorbar\":{\"outlinewidth\":0,\"ticks\":\"\"}},\"type\":\"scattermapbox\"}],\"scatterpolar\":[{\"marker\":{\"colorbar\":{\"outlinewidth\":0,\"ticks\":\"\"}},\"type\":\"scatterpolar\"}],\"scatterpolargl\":[{\"marker\":{\"colorbar\":{\"outlinewidth\":0,\"ticks\":\"\"}},\"type\":\"scatterpolargl\"}],\"scatterternary\":[{\"marker\":{\"colorbar\":{\"outlinewidth\":0,\"ticks\":\"\"}},\"type\":\"scatterternary\"}],\"surface\":[{\"colorbar\":{\"outlinewidth\":0,\"ticks\":\"\"},\"colorscale\":[[0.0,\"#0d0887\"],[0.1111111111111111,\"#46039f\"],[0.2222222222222222,\"#7201a8\"],[0.3333333333333333,\"#9c179e\"],[0.4444444444444444,\"#bd3786\"],[0.5555555555555556,\"#d8576b\"],[0.6666666666666666,\"#ed7953\"],[0.7777777777777778,\"#fb9f3a\"],[0.8888888888888888,\"#fdca26\"],[1.0,\"#f0f921\"]],\"type\":\"surface\"}],\"table\":[{\"cells\":{\"fill\":{\"color\":\"#EBF0F8\"},\"line\":{\"color\":\"white\"}},\"header\":{\"fill\":{\"color\":\"#C8D4E3\"},\"line\":{\"color\":\"white\"}},\"type\":\"table\"}]},\"layout\":{\"annotationdefaults\":{\"arrowcolor\":\"#2a3f5f\",\"arrowhead\":0,\"arrowwidth\":1},\"autotypenumbers\":\"strict\",\"coloraxis\":{\"colorbar\":{\"outlinewidth\":0,\"ticks\":\"\"}},\"colorscale\":{\"diverging\":[[0,\"#8e0152\"],[0.1,\"#c51b7d\"],[0.2,\"#de77ae\"],[0.3,\"#f1b6da\"],[0.4,\"#fde0ef\"],[0.5,\"#f7f7f7\"],[0.6,\"#e6f5d0\"],[0.7,\"#b8e186\"],[0.8,\"#7fbc41\"],[0.9,\"#4d9221\"],[1,\"#276419\"]],\"sequential\":[[0.0,\"#0d0887\"],[0.1111111111111111,\"#46039f\"],[0.2222222222222222,\"#7201a8\"],[0.3333333333333333,\"#9c179e\"],[0.4444444444444444,\"#bd3786\"],[0.5555555555555556,\"#d8576b\"],[0.6666666666666666,\"#ed7953\"],[0.7777777777777778,\"#fb9f3a\"],[0.8888888888888888,\"#fdca26\"],[1.0,\"#f0f921\"]],\"sequentialminus\":[[0.0,\"#0d0887\"],[0.1111111111111111,\"#46039f\"],[0.2222222222222222,\"#7201a8\"],[0.3333333333333333,\"#9c179e\"],[0.4444444444444444,\"#bd3786\"],[0.5555555555555556,\"#d8576b\"],[0.6666666666666666,\"#ed7953\"],[0.7777777777777778,\"#fb9f3a\"],[0.8888888888888888,\"#fdca26\"],[1.0,\"#f0f921\"]]},\"colorway\":[\"#636efa\",\"#EF553B\",\"#00cc96\",\"#ab63fa\",\"#FFA15A\",\"#19d3f3\",\"#FF6692\",\"#B6E880\",\"#FF97FF\",\"#FECB52\"],\"font\":{\"color\":\"#2a3f5f\"},\"geo\":{\"bgcolor\":\"white\",\"lakecolor\":\"white\",\"landcolor\":\"#E5ECF6\",\"showlakes\":true,\"showland\":true,\"subunitcolor\":\"white\"},\"hoverlabel\":{\"align\":\"left\"},\"hovermode\":\"closest\",\"mapbox\":{\"style\":\"light\"},\"paper_bgcolor\":\"white\",\"plot_bgcolor\":\"#E5ECF6\",\"polar\":{\"angularaxis\":{\"gridcolor\":\"white\",\"linecolor\":\"white\",\"ticks\":\"\"},\"bgcolor\":\"#E5ECF6\",\"radialaxis\":{\"gridcolor\":\"white\",\"linecolor\":\"white\",\"ticks\":\"\"}},\"scene\":{\"xaxis\":{\"backgroundcolor\":\"#E5ECF6\",\"gridcolor\":\"white\",\"gridwidth\":2,\"linecolor\":\"white\",\"showbackground\":true,\"ticks\":\"\",\"zerolinecolor\":\"white\"},\"yaxis\":{\"backgroundcolor\":\"#E5ECF6\",\"gridcolor\":\"white\",\"gridwidth\":2,\"linecolor\":\"white\",\"showbackground\":true,\"ticks\":\"\",\"zerolinecolor\":\"white\"},\"zaxis\":{\"backgroundcolor\":\"#E5ECF6\",\"gridcolor\":\"white\",\"gridwidth\":2,\"linecolor\":\"white\",\"showbackground\":true,\"ticks\":\"\",\"zerolinecolor\":\"white\"}},\"shapedefaults\":{\"line\":{\"color\":\"#2a3f5f\"}},\"ternary\":{\"aaxis\":{\"gridcolor\":\"white\",\"linecolor\":\"white\",\"ticks\":\"\"},\"baxis\":{\"gridcolor\":\"white\",\"linecolor\":\"white\",\"ticks\":\"\"},\"bgcolor\":\"#E5ECF6\",\"caxis\":{\"gridcolor\":\"white\",\"linecolor\":\"white\",\"ticks\":\"\"}},\"title\":{\"x\":0.05},\"xaxis\":{\"automargin\":true,\"gridcolor\":\"white\",\"linecolor\":\"white\",\"ticks\":\"\",\"title\":{\"standoff\":15},\"zerolinecolor\":\"white\",\"zerolinewidth\":2},\"yaxis\":{\"automargin\":true,\"gridcolor\":\"white\",\"linecolor\":\"white\",\"ticks\":\"\",\"title\":{\"standoff\":15},\"zerolinecolor\":\"white\",\"zerolinewidth\":2}}},\"xaxis\":{\"anchor\":\"y\",\"domain\":[0.0,1.0],\"title\":{\"text\":\"Year\"}},\"yaxis\":{\"anchor\":\"x\",\"domain\":[0.0,1.0],\"title\":{\"text\":\"Value\"}},\"legend\":{\"title\":{\"text\":\"Item\"},\"tracegroupgap\":0},\"title\":{\"text\":\"India\"}},                        {\"responsive\": true}                    ).then(function(){\n",
              "                            \n",
              "var gd = document.getElementById('f34536b8-8c12-4da6-b450-368a2517d6c1');\n",
              "var x = new MutationObserver(function (mutations, observer) {{\n",
              "        var display = window.getComputedStyle(gd).display;\n",
              "        if (!display || display === 'none') {{\n",
              "            console.log([gd, 'removed!']);\n",
              "            Plotly.purge(gd);\n",
              "            observer.disconnect();\n",
              "        }}\n",
              "}});\n",
              "\n",
              "// Listen for the removal of the full notebook cells\n",
              "var notebookContainer = gd.closest('#notebook-container');\n",
              "if (notebookContainer) {{\n",
              "    x.observe(notebookContainer, {childList: true});\n",
              "}}\n",
              "\n",
              "// Listen for the clearing of the current output cell\n",
              "var outputEl = gd.closest('.output');\n",
              "if (outputEl) {{\n",
              "    x.observe(outputEl, {childList: true});\n",
              "}}\n",
              "\n",
              "                        })                };                            </script>        </div>\n",
              "</body>\n",
              "</html>"
            ]
          },
          "metadata": {}
        },
        {
          "output_type": "display_data",
          "data": {
            "text/html": [
              "<html>\n",
              "<head><meta charset=\"utf-8\" /></head>\n",
              "<body>\n",
              "    <div>            <script src=\"https://cdnjs.cloudflare.com/ajax/libs/mathjax/2.7.5/MathJax.js?config=TeX-AMS-MML_SVG\"></script><script type=\"text/javascript\">if (window.MathJax) {MathJax.Hub.Config({SVG: {font: \"STIX-Web\"}});}</script>                <script type=\"text/javascript\">window.PlotlyConfig = {MathJaxConfig: 'local'};</script>\n",
              "        <script src=\"https://cdn.plot.ly/plotly-2.8.3.min.js\"></script>                <div id=\"9f4c5764-fc8a-4993-8a7a-0997f6078619\" class=\"plotly-graph-div\" style=\"height:525px; width:100%;\"></div>            <script type=\"text/javascript\">                                    window.PLOTLYENV=window.PLOTLYENV || {};                                    if (document.getElementById(\"9f4c5764-fc8a-4993-8a7a-0997f6078619\")) {                    Plotly.newPlot(                        \"9f4c5764-fc8a-4993-8a7a-0997f6078619\",                        [{\"hovertemplate\":\"Item=Ammonia, anhydrous<br>Year=%{x}<br>Value=%{y}<extra></extra>\",\"legendgroup\":\"Ammonia, anhydrous\",\"line\":{\"color\":\"#636efa\",\"dash\":\"solid\"},\"marker\":{\"symbol\":\"circle\"},\"mode\":\"markers+lines\",\"name\":\"Ammonia, anhydrous\",\"orientation\":\"v\",\"showlegend\":true,\"x\":[2015,2016,2017,2018,2019],\"xaxis\":\"x\",\"y\":[155349.85,92725.19,68438.77,77792.98,58944.73],\"yaxis\":\"y\",\"type\":\"scatter\"},{\"hovertemplate\":\"Item=Ammonium nitrate (AN)<br>Year=%{x}<br>Value=%{y}<extra></extra>\",\"legendgroup\":\"Ammonium nitrate (AN)\",\"line\":{\"color\":\"#EF553B\",\"dash\":\"solid\"},\"marker\":{\"symbol\":\"circle\"},\"mode\":\"markers+lines\",\"name\":\"Ammonium nitrate (AN)\",\"orientation\":\"v\",\"showlegend\":true,\"x\":[2015,2016,2017,2018,2019],\"xaxis\":\"x\",\"y\":[258407.76,214970.74,252940.19,216917.42,248287.39],\"yaxis\":\"y\",\"type\":\"scatter\"},{\"hovertemplate\":\"Item=Ammonium sulphate<br>Year=%{x}<br>Value=%{y}<extra></extra>\",\"legendgroup\":\"Ammonium sulphate\",\"line\":{\"color\":\"#00cc96\",\"dash\":\"solid\"},\"marker\":{\"symbol\":\"circle\"},\"mode\":\"markers+lines\",\"name\":\"Ammonium sulphate\",\"orientation\":\"v\",\"showlegend\":true,\"x\":[2015,2016,2017,2018,2019],\"xaxis\":\"x\",\"y\":[307150.92,328063.06,295007.4,375883.57,426925.92],\"yaxis\":\"y\",\"type\":\"scatter\"},{\"hovertemplate\":\"Item=Calcium ammonium nitrate (CAN) and other mixtures with calcium carbonate<br>Year=%{x}<br>Value=%{y}<extra></extra>\",\"legendgroup\":\"Calcium ammonium nitrate (CAN) and other mixtures with calcium carbonate\",\"line\":{\"color\":\"#ab63fa\",\"dash\":\"solid\"},\"marker\":{\"symbol\":\"circle\"},\"mode\":\"markers+lines\",\"name\":\"Calcium ammonium nitrate (CAN) and other mixtures with calcium carbonate\",\"orientation\":\"v\",\"showlegend\":true,\"x\":[2015,2016,2017,2018,2019],\"xaxis\":\"x\",\"y\":[48699.89,48368.86,55099.15,63200.07,84712.03],\"yaxis\":\"y\",\"type\":\"scatter\"},{\"hovertemplate\":\"Item=Diammonium phosphate (DAP)<br>Year=%{x}<br>Value=%{y}<extra></extra>\",\"legendgroup\":\"Diammonium phosphate (DAP)\",\"line\":{\"color\":\"#FFA15A\",\"dash\":\"solid\"},\"marker\":{\"symbol\":\"circle\"},\"mode\":\"markers+lines\",\"name\":\"Diammonium phosphate (DAP)\",\"orientation\":\"v\",\"showlegend\":true,\"x\":[2015,2016,2017,2018,2019],\"xaxis\":\"x\",\"y\":[188622.08,159848.86,153585.04,141252.33,104060.47],\"yaxis\":\"y\",\"type\":\"scatter\"},{\"hovertemplate\":\"Item=Fertilizers n.e.c.<br>Year=%{x}<br>Value=%{y}<extra></extra>\",\"legendgroup\":\"Fertilizers n.e.c.\",\"line\":{\"color\":\"#19d3f3\",\"dash\":\"solid\"},\"marker\":{\"symbol\":\"circle\"},\"mode\":\"markers+lines\",\"name\":\"Fertilizers n.e.c.\",\"orientation\":\"v\",\"showlegend\":true,\"x\":[2015,2016,2017,2018,2019],\"xaxis\":\"x\",\"y\":[84840.53,91903.16,108925.92,88910.35,103543.92],\"yaxis\":\"y\",\"type\":\"scatter\"},{\"hovertemplate\":\"Item=Monoammonium phosphate (MAP)<br>Year=%{x}<br>Value=%{y}<extra></extra>\",\"legendgroup\":\"Monoammonium phosphate (MAP)\",\"line\":{\"color\":\"#FF6692\",\"dash\":\"solid\"},\"marker\":{\"symbol\":\"circle\"},\"mode\":\"markers+lines\",\"name\":\"Monoammonium phosphate (MAP)\",\"orientation\":\"v\",\"showlegend\":true,\"x\":[2015,2016,2017,2018,2019],\"xaxis\":\"x\",\"y\":[1080444.93,977918.09,1286621.19,1378685.61,1420113.84],\"yaxis\":\"y\",\"type\":\"scatter\"},{\"hovertemplate\":\"Item=NPK fertilizers<br>Year=%{x}<br>Value=%{y}<extra></extra>\",\"legendgroup\":\"NPK fertilizers\",\"line\":{\"color\":\"#B6E880\",\"dash\":\"solid\"},\"marker\":{\"symbol\":\"circle\"},\"mode\":\"markers+lines\",\"name\":\"NPK fertilizers\",\"orientation\":\"v\",\"showlegend\":true,\"x\":[2015,2016,2017,2018,2019],\"xaxis\":\"x\",\"y\":[166320.77,254751.32,298016.39,357555.4,458790.79],\"yaxis\":\"y\",\"type\":\"scatter\"},{\"hovertemplate\":\"Item=Other NP compounds<br>Year=%{x}<br>Value=%{y}<extra></extra>\",\"legendgroup\":\"Other NP compounds\",\"line\":{\"color\":\"#FF97FF\",\"dash\":\"solid\"},\"marker\":{\"symbol\":\"circle\"},\"mode\":\"markers+lines\",\"name\":\"Other NP compounds\",\"orientation\":\"v\",\"showlegend\":true,\"x\":[2015,2016,2017,2018,2019],\"xaxis\":\"x\",\"y\":[504551.5,566518.79,712175.75,719644.98,684017.7],\"yaxis\":\"y\",\"type\":\"scatter\"},{\"hovertemplate\":\"Item=Other nitrogenous fertilizers, n.e.c.<br>Year=%{x}<br>Value=%{y}<extra></extra>\",\"legendgroup\":\"Other nitrogenous fertilizers, n.e.c.\",\"line\":{\"color\":\"#FECB52\",\"dash\":\"solid\"},\"marker\":{\"symbol\":\"circle\"},\"mode\":\"markers+lines\",\"name\":\"Other nitrogenous fertilizers, n.e.c.\",\"orientation\":\"v\",\"showlegend\":true,\"x\":[2015,2016,2017,2018,2019],\"xaxis\":\"x\",\"y\":[81095.74,95853.88,120001.28,128490.25,108263.73],\"yaxis\":\"y\",\"type\":\"scatter\"},{\"hovertemplate\":\"Item=Other phosphatic fertilizers, n.e.c.<br>Year=%{x}<br>Value=%{y}<extra></extra>\",\"legendgroup\":\"Other phosphatic fertilizers, n.e.c.\",\"line\":{\"color\":\"#636efa\",\"dash\":\"solid\"},\"marker\":{\"symbol\":\"circle\"},\"mode\":\"markers+lines\",\"name\":\"Other phosphatic fertilizers, n.e.c.\",\"orientation\":\"v\",\"showlegend\":true,\"x\":[2015,2016,2017,2018,2019],\"xaxis\":\"x\",\"y\":[538.28,376.92,243.63,129.95,336.2],\"yaxis\":\"y\",\"type\":\"scatter\"},{\"hovertemplate\":\"Item=Other potassic fertilizers, n.e.c.<br>Year=%{x}<br>Value=%{y}<extra></extra>\",\"legendgroup\":\"Other potassic fertilizers, n.e.c.\",\"line\":{\"color\":\"#EF553B\",\"dash\":\"solid\"},\"marker\":{\"symbol\":\"circle\"},\"mode\":\"markers+lines\",\"name\":\"Other potassic fertilizers, n.e.c.\",\"orientation\":\"v\",\"showlegend\":true,\"x\":[2015,2016,2017,2018,2019],\"xaxis\":\"x\",\"y\":[11272.52,12754.87,22160.5,19328.39,36247.66],\"yaxis\":\"y\",\"type\":\"scatter\"},{\"hovertemplate\":\"Item=PK compounds<br>Year=%{x}<br>Value=%{y}<extra></extra>\",\"legendgroup\":\"PK compounds\",\"line\":{\"color\":\"#00cc96\",\"dash\":\"solid\"},\"marker\":{\"symbol\":\"circle\"},\"mode\":\"markers+lines\",\"name\":\"PK compounds\",\"orientation\":\"v\",\"showlegend\":true,\"x\":[2015,2016,2017,2018,2019],\"xaxis\":\"x\",\"y\":[6800.27,6548.46,8656.77,10105.66,14623.71],\"yaxis\":\"y\",\"type\":\"scatter\"},{\"hovertemplate\":\"Item=Phosphate rock<br>Year=%{x}<br>Value=%{y}<extra></extra>\",\"legendgroup\":\"Phosphate rock\",\"line\":{\"color\":\"#ab63fa\",\"dash\":\"solid\"},\"marker\":{\"symbol\":\"circle\"},\"mode\":\"markers+lines\",\"name\":\"Phosphate rock\",\"orientation\":\"v\",\"showlegend\":true,\"x\":[2015,2016,2017,2018,2019],\"xaxis\":\"x\",\"y\":[205673.51,152517.93,147926.53,140382.07,181504.01],\"yaxis\":\"y\",\"type\":\"scatter\"},{\"hovertemplate\":\"Item=Potassium chloride (muriate of potash) (MOP)<br>Year=%{x}<br>Value=%{y}<extra></extra>\",\"legendgroup\":\"Potassium chloride (muriate of potash) (MOP)\",\"line\":{\"color\":\"#FFA15A\",\"dash\":\"solid\"},\"marker\":{\"symbol\":\"circle\"},\"mode\":\"markers+lines\",\"name\":\"Potassium chloride (muriate of potash) (MOP)\",\"orientation\":\"v\",\"showlegend\":true,\"x\":[2015,2016,2017,2018,2019],\"xaxis\":\"x\",\"y\":[2513959.66,1990909.3,2394045.2,3099627.72,3409060.66],\"yaxis\":\"y\",\"type\":\"scatter\"},{\"hovertemplate\":\"Item=Potassium nitrate<br>Year=%{x}<br>Value=%{y}<extra></extra>\",\"legendgroup\":\"Potassium nitrate\",\"line\":{\"color\":\"#19d3f3\",\"dash\":\"solid\"},\"marker\":{\"symbol\":\"circle\"},\"mode\":\"markers+lines\",\"name\":\"Potassium nitrate\",\"orientation\":\"v\",\"showlegend\":true,\"x\":[2015,2016,2017,2018,2019],\"xaxis\":\"x\",\"y\":[6543.64,3846.15,3217.88,4265.93,2855.58],\"yaxis\":\"y\",\"type\":\"scatter\"},{\"hovertemplate\":\"Item=Potassium sulphate (sulphate of potash) (SOP)<br>Year=%{x}<br>Value=%{y}<extra></extra>\",\"legendgroup\":\"Potassium sulphate (sulphate of potash) (SOP)\",\"line\":{\"color\":\"#FF6692\",\"dash\":\"solid\"},\"marker\":{\"symbol\":\"circle\"},\"mode\":\"markers+lines\",\"name\":\"Potassium sulphate (sulphate of potash) (SOP)\",\"orientation\":\"v\",\"showlegend\":true,\"x\":[2015,2016,2017,2018,2019],\"xaxis\":\"x\",\"y\":[30118.16,25400.75,21908.91,16286.78,20779.21],\"yaxis\":\"y\",\"type\":\"scatter\"},{\"hovertemplate\":\"Item=Sodium nitrate<br>Year=%{x}<br>Value=%{y}<extra></extra>\",\"legendgroup\":\"Sodium nitrate\",\"line\":{\"color\":\"#B6E880\",\"dash\":\"solid\"},\"marker\":{\"symbol\":\"circle\"},\"mode\":\"markers+lines\",\"name\":\"Sodium nitrate\",\"orientation\":\"v\",\"showlegend\":true,\"x\":[2015,2016,2017,2018,2019],\"xaxis\":\"x\",\"y\":[10196.18,5804.08,5286.38,5695.21,5348.56],\"yaxis\":\"y\",\"type\":\"scatter\"},{\"hovertemplate\":\"Item=Superphosphates above 35%<br>Year=%{x}<br>Value=%{y}<extra></extra>\",\"legendgroup\":\"Superphosphates above 35%\",\"line\":{\"color\":\"#FF97FF\",\"dash\":\"solid\"},\"marker\":{\"symbol\":\"circle\"},\"mode\":\"markers+lines\",\"name\":\"Superphosphates above 35%\",\"orientation\":\"v\",\"showlegend\":true,\"x\":[2015,2016,2017,2018,2019],\"xaxis\":\"x\",\"y\":[406495.57,302325.6,207676.85,313283.57,296647.54],\"yaxis\":\"y\",\"type\":\"scatter\"},{\"hovertemplate\":\"Item=Urea<br>Year=%{x}<br>Value=%{y}<extra></extra>\",\"legendgroup\":\"Urea\",\"line\":{\"color\":\"#FECB52\",\"dash\":\"solid\"},\"marker\":{\"symbol\":\"circle\"},\"mode\":\"markers+lines\",\"name\":\"Urea\",\"orientation\":\"v\",\"showlegend\":true,\"x\":[2015,2016,2017,2018,2019],\"xaxis\":\"x\",\"y\":[882144.4,903141.9,1244561.76,1526591.9,1530345.47],\"yaxis\":\"y\",\"type\":\"scatter\"},{\"hovertemplate\":\"Item=Urea and ammonium nitrate solutions (UAN)<br>Year=%{x}<br>Value=%{y}<extra></extra>\",\"legendgroup\":\"Urea and ammonium nitrate solutions (UAN)\",\"line\":{\"color\":\"#636efa\",\"dash\":\"solid\"},\"marker\":{\"symbol\":\"circle\"},\"mode\":\"markers+lines\",\"name\":\"Urea and ammonium nitrate solutions (UAN)\",\"orientation\":\"v\",\"showlegend\":true,\"x\":[2015,2016,2017,2018,2019],\"xaxis\":\"x\",\"y\":[1499.42,1697.12,2820.48,6121.55,7560.82],\"yaxis\":\"y\",\"type\":\"scatter\"},{\"hovertemplate\":\"Item=Superphosphates, other<br>Year=%{x}<br>Value=%{y}<extra></extra>\",\"legendgroup\":\"Superphosphates, other\",\"line\":{\"color\":\"#EF553B\",\"dash\":\"solid\"},\"marker\":{\"symbol\":\"circle\"},\"mode\":\"markers+lines\",\"name\":\"Superphosphates, other\",\"orientation\":\"v\",\"showlegend\":true,\"x\":[2017,2018,2019],\"xaxis\":\"x\",\"y\":[86496.91,140459.96,173647.27],\"yaxis\":\"y\",\"type\":\"scatter\"}],                        {\"template\":{\"data\":{\"bar\":[{\"error_x\":{\"color\":\"#2a3f5f\"},\"error_y\":{\"color\":\"#2a3f5f\"},\"marker\":{\"line\":{\"color\":\"#E5ECF6\",\"width\":0.5},\"pattern\":{\"fillmode\":\"overlay\",\"size\":10,\"solidity\":0.2}},\"type\":\"bar\"}],\"barpolar\":[{\"marker\":{\"line\":{\"color\":\"#E5ECF6\",\"width\":0.5},\"pattern\":{\"fillmode\":\"overlay\",\"size\":10,\"solidity\":0.2}},\"type\":\"barpolar\"}],\"carpet\":[{\"aaxis\":{\"endlinecolor\":\"#2a3f5f\",\"gridcolor\":\"white\",\"linecolor\":\"white\",\"minorgridcolor\":\"white\",\"startlinecolor\":\"#2a3f5f\"},\"baxis\":{\"endlinecolor\":\"#2a3f5f\",\"gridcolor\":\"white\",\"linecolor\":\"white\",\"minorgridcolor\":\"white\",\"startlinecolor\":\"#2a3f5f\"},\"type\":\"carpet\"}],\"choropleth\":[{\"colorbar\":{\"outlinewidth\":0,\"ticks\":\"\"},\"type\":\"choropleth\"}],\"contour\":[{\"colorbar\":{\"outlinewidth\":0,\"ticks\":\"\"},\"colorscale\":[[0.0,\"#0d0887\"],[0.1111111111111111,\"#46039f\"],[0.2222222222222222,\"#7201a8\"],[0.3333333333333333,\"#9c179e\"],[0.4444444444444444,\"#bd3786\"],[0.5555555555555556,\"#d8576b\"],[0.6666666666666666,\"#ed7953\"],[0.7777777777777778,\"#fb9f3a\"],[0.8888888888888888,\"#fdca26\"],[1.0,\"#f0f921\"]],\"type\":\"contour\"}],\"contourcarpet\":[{\"colorbar\":{\"outlinewidth\":0,\"ticks\":\"\"},\"type\":\"contourcarpet\"}],\"heatmap\":[{\"colorbar\":{\"outlinewidth\":0,\"ticks\":\"\"},\"colorscale\":[[0.0,\"#0d0887\"],[0.1111111111111111,\"#46039f\"],[0.2222222222222222,\"#7201a8\"],[0.3333333333333333,\"#9c179e\"],[0.4444444444444444,\"#bd3786\"],[0.5555555555555556,\"#d8576b\"],[0.6666666666666666,\"#ed7953\"],[0.7777777777777778,\"#fb9f3a\"],[0.8888888888888888,\"#fdca26\"],[1.0,\"#f0f921\"]],\"type\":\"heatmap\"}],\"heatmapgl\":[{\"colorbar\":{\"outlinewidth\":0,\"ticks\":\"\"},\"colorscale\":[[0.0,\"#0d0887\"],[0.1111111111111111,\"#46039f\"],[0.2222222222222222,\"#7201a8\"],[0.3333333333333333,\"#9c179e\"],[0.4444444444444444,\"#bd3786\"],[0.5555555555555556,\"#d8576b\"],[0.6666666666666666,\"#ed7953\"],[0.7777777777777778,\"#fb9f3a\"],[0.8888888888888888,\"#fdca26\"],[1.0,\"#f0f921\"]],\"type\":\"heatmapgl\"}],\"histogram\":[{\"marker\":{\"pattern\":{\"fillmode\":\"overlay\",\"size\":10,\"solidity\":0.2}},\"type\":\"histogram\"}],\"histogram2d\":[{\"colorbar\":{\"outlinewidth\":0,\"ticks\":\"\"},\"colorscale\":[[0.0,\"#0d0887\"],[0.1111111111111111,\"#46039f\"],[0.2222222222222222,\"#7201a8\"],[0.3333333333333333,\"#9c179e\"],[0.4444444444444444,\"#bd3786\"],[0.5555555555555556,\"#d8576b\"],[0.6666666666666666,\"#ed7953\"],[0.7777777777777778,\"#fb9f3a\"],[0.8888888888888888,\"#fdca26\"],[1.0,\"#f0f921\"]],\"type\":\"histogram2d\"}],\"histogram2dcontour\":[{\"colorbar\":{\"outlinewidth\":0,\"ticks\":\"\"},\"colorscale\":[[0.0,\"#0d0887\"],[0.1111111111111111,\"#46039f\"],[0.2222222222222222,\"#7201a8\"],[0.3333333333333333,\"#9c179e\"],[0.4444444444444444,\"#bd3786\"],[0.5555555555555556,\"#d8576b\"],[0.6666666666666666,\"#ed7953\"],[0.7777777777777778,\"#fb9f3a\"],[0.8888888888888888,\"#fdca26\"],[1.0,\"#f0f921\"]],\"type\":\"histogram2dcontour\"}],\"mesh3d\":[{\"colorbar\":{\"outlinewidth\":0,\"ticks\":\"\"},\"type\":\"mesh3d\"}],\"parcoords\":[{\"line\":{\"colorbar\":{\"outlinewidth\":0,\"ticks\":\"\"}},\"type\":\"parcoords\"}],\"pie\":[{\"automargin\":true,\"type\":\"pie\"}],\"scatter\":[{\"marker\":{\"colorbar\":{\"outlinewidth\":0,\"ticks\":\"\"}},\"type\":\"scatter\"}],\"scatter3d\":[{\"line\":{\"colorbar\":{\"outlinewidth\":0,\"ticks\":\"\"}},\"marker\":{\"colorbar\":{\"outlinewidth\":0,\"ticks\":\"\"}},\"type\":\"scatter3d\"}],\"scattercarpet\":[{\"marker\":{\"colorbar\":{\"outlinewidth\":0,\"ticks\":\"\"}},\"type\":\"scattercarpet\"}],\"scattergeo\":[{\"marker\":{\"colorbar\":{\"outlinewidth\":0,\"ticks\":\"\"}},\"type\":\"scattergeo\"}],\"scattergl\":[{\"marker\":{\"colorbar\":{\"outlinewidth\":0,\"ticks\":\"\"}},\"type\":\"scattergl\"}],\"scattermapbox\":[{\"marker\":{\"colorbar\":{\"outlinewidth\":0,\"ticks\":\"\"}},\"type\":\"scattermapbox\"}],\"scatterpolar\":[{\"marker\":{\"colorbar\":{\"outlinewidth\":0,\"ticks\":\"\"}},\"type\":\"scatterpolar\"}],\"scatterpolargl\":[{\"marker\":{\"colorbar\":{\"outlinewidth\":0,\"ticks\":\"\"}},\"type\":\"scatterpolargl\"}],\"scatterternary\":[{\"marker\":{\"colorbar\":{\"outlinewidth\":0,\"ticks\":\"\"}},\"type\":\"scatterternary\"}],\"surface\":[{\"colorbar\":{\"outlinewidth\":0,\"ticks\":\"\"},\"colorscale\":[[0.0,\"#0d0887\"],[0.1111111111111111,\"#46039f\"],[0.2222222222222222,\"#7201a8\"],[0.3333333333333333,\"#9c179e\"],[0.4444444444444444,\"#bd3786\"],[0.5555555555555556,\"#d8576b\"],[0.6666666666666666,\"#ed7953\"],[0.7777777777777778,\"#fb9f3a\"],[0.8888888888888888,\"#fdca26\"],[1.0,\"#f0f921\"]],\"type\":\"surface\"}],\"table\":[{\"cells\":{\"fill\":{\"color\":\"#EBF0F8\"},\"line\":{\"color\":\"white\"}},\"header\":{\"fill\":{\"color\":\"#C8D4E3\"},\"line\":{\"color\":\"white\"}},\"type\":\"table\"}]},\"layout\":{\"annotationdefaults\":{\"arrowcolor\":\"#2a3f5f\",\"arrowhead\":0,\"arrowwidth\":1},\"autotypenumbers\":\"strict\",\"coloraxis\":{\"colorbar\":{\"outlinewidth\":0,\"ticks\":\"\"}},\"colorscale\":{\"diverging\":[[0,\"#8e0152\"],[0.1,\"#c51b7d\"],[0.2,\"#de77ae\"],[0.3,\"#f1b6da\"],[0.4,\"#fde0ef\"],[0.5,\"#f7f7f7\"],[0.6,\"#e6f5d0\"],[0.7,\"#b8e186\"],[0.8,\"#7fbc41\"],[0.9,\"#4d9221\"],[1,\"#276419\"]],\"sequential\":[[0.0,\"#0d0887\"],[0.1111111111111111,\"#46039f\"],[0.2222222222222222,\"#7201a8\"],[0.3333333333333333,\"#9c179e\"],[0.4444444444444444,\"#bd3786\"],[0.5555555555555556,\"#d8576b\"],[0.6666666666666666,\"#ed7953\"],[0.7777777777777778,\"#fb9f3a\"],[0.8888888888888888,\"#fdca26\"],[1.0,\"#f0f921\"]],\"sequentialminus\":[[0.0,\"#0d0887\"],[0.1111111111111111,\"#46039f\"],[0.2222222222222222,\"#7201a8\"],[0.3333333333333333,\"#9c179e\"],[0.4444444444444444,\"#bd3786\"],[0.5555555555555556,\"#d8576b\"],[0.6666666666666666,\"#ed7953\"],[0.7777777777777778,\"#fb9f3a\"],[0.8888888888888888,\"#fdca26\"],[1.0,\"#f0f921\"]]},\"colorway\":[\"#636efa\",\"#EF553B\",\"#00cc96\",\"#ab63fa\",\"#FFA15A\",\"#19d3f3\",\"#FF6692\",\"#B6E880\",\"#FF97FF\",\"#FECB52\"],\"font\":{\"color\":\"#2a3f5f\"},\"geo\":{\"bgcolor\":\"white\",\"lakecolor\":\"white\",\"landcolor\":\"#E5ECF6\",\"showlakes\":true,\"showland\":true,\"subunitcolor\":\"white\"},\"hoverlabel\":{\"align\":\"left\"},\"hovermode\":\"closest\",\"mapbox\":{\"style\":\"light\"},\"paper_bgcolor\":\"white\",\"plot_bgcolor\":\"#E5ECF6\",\"polar\":{\"angularaxis\":{\"gridcolor\":\"white\",\"linecolor\":\"white\",\"ticks\":\"\"},\"bgcolor\":\"#E5ECF6\",\"radialaxis\":{\"gridcolor\":\"white\",\"linecolor\":\"white\",\"ticks\":\"\"}},\"scene\":{\"xaxis\":{\"backgroundcolor\":\"#E5ECF6\",\"gridcolor\":\"white\",\"gridwidth\":2,\"linecolor\":\"white\",\"showbackground\":true,\"ticks\":\"\",\"zerolinecolor\":\"white\"},\"yaxis\":{\"backgroundcolor\":\"#E5ECF6\",\"gridcolor\":\"white\",\"gridwidth\":2,\"linecolor\":\"white\",\"showbackground\":true,\"ticks\":\"\",\"zerolinecolor\":\"white\"},\"zaxis\":{\"backgroundcolor\":\"#E5ECF6\",\"gridcolor\":\"white\",\"gridwidth\":2,\"linecolor\":\"white\",\"showbackground\":true,\"ticks\":\"\",\"zerolinecolor\":\"white\"}},\"shapedefaults\":{\"line\":{\"color\":\"#2a3f5f\"}},\"ternary\":{\"aaxis\":{\"gridcolor\":\"white\",\"linecolor\":\"white\",\"ticks\":\"\"},\"baxis\":{\"gridcolor\":\"white\",\"linecolor\":\"white\",\"ticks\":\"\"},\"bgcolor\":\"#E5ECF6\",\"caxis\":{\"gridcolor\":\"white\",\"linecolor\":\"white\",\"ticks\":\"\"}},\"title\":{\"x\":0.05},\"xaxis\":{\"automargin\":true,\"gridcolor\":\"white\",\"linecolor\":\"white\",\"ticks\":\"\",\"title\":{\"standoff\":15},\"zerolinecolor\":\"white\",\"zerolinewidth\":2},\"yaxis\":{\"automargin\":true,\"gridcolor\":\"white\",\"linecolor\":\"white\",\"ticks\":\"\",\"title\":{\"standoff\":15},\"zerolinecolor\":\"white\",\"zerolinewidth\":2}}},\"xaxis\":{\"anchor\":\"y\",\"domain\":[0.0,1.0],\"title\":{\"text\":\"Year\"}},\"yaxis\":{\"anchor\":\"x\",\"domain\":[0.0,1.0],\"title\":{\"text\":\"Value\"}},\"legend\":{\"title\":{\"text\":\"Item\"},\"tracegroupgap\":0},\"title\":{\"text\":\"Brazil\"}},                        {\"responsive\": true}                    ).then(function(){\n",
              "                            \n",
              "var gd = document.getElementById('9f4c5764-fc8a-4993-8a7a-0997f6078619');\n",
              "var x = new MutationObserver(function (mutations, observer) {{\n",
              "        var display = window.getComputedStyle(gd).display;\n",
              "        if (!display || display === 'none') {{\n",
              "            console.log([gd, 'removed!']);\n",
              "            Plotly.purge(gd);\n",
              "            observer.disconnect();\n",
              "        }}\n",
              "}});\n",
              "\n",
              "// Listen for the removal of the full notebook cells\n",
              "var notebookContainer = gd.closest('#notebook-container');\n",
              "if (notebookContainer) {{\n",
              "    x.observe(notebookContainer, {childList: true});\n",
              "}}\n",
              "\n",
              "// Listen for the clearing of the current output cell\n",
              "var outputEl = gd.closest('.output');\n",
              "if (outputEl) {{\n",
              "    x.observe(outputEl, {childList: true});\n",
              "}}\n",
              "\n",
              "                        })                };                            </script>        </div>\n",
              "</body>\n",
              "</html>"
            ]
          },
          "metadata": {}
        },
        {
          "output_type": "display_data",
          "data": {
            "text/html": [
              "<html>\n",
              "<head><meta charset=\"utf-8\" /></head>\n",
              "<body>\n",
              "    <div>            <script src=\"https://cdnjs.cloudflare.com/ajax/libs/mathjax/2.7.5/MathJax.js?config=TeX-AMS-MML_SVG\"></script><script type=\"text/javascript\">if (window.MathJax) {MathJax.Hub.Config({SVG: {font: \"STIX-Web\"}});}</script>                <script type=\"text/javascript\">window.PlotlyConfig = {MathJaxConfig: 'local'};</script>\n",
              "        <script src=\"https://cdn.plot.ly/plotly-2.8.3.min.js\"></script>                <div id=\"2090aaa9-cfc4-4ff6-aa1d-db12d2bb64a7\" class=\"plotly-graph-div\" style=\"height:525px; width:100%;\"></div>            <script type=\"text/javascript\">                                    window.PLOTLYENV=window.PLOTLYENV || {};                                    if (document.getElementById(\"2090aaa9-cfc4-4ff6-aa1d-db12d2bb64a7\")) {                    Plotly.newPlot(                        \"2090aaa9-cfc4-4ff6-aa1d-db12d2bb64a7\",                        [{\"hovertemplate\":\"Item=Ammonia, anhydrous<br>Year=%{x}<br>Value=%{y}<extra></extra>\",\"legendgroup\":\"Ammonia, anhydrous\",\"line\":{\"color\":\"#636efa\",\"dash\":\"solid\"},\"marker\":{\"symbol\":\"circle\"},\"mode\":\"markers+lines\",\"name\":\"Ammonia, anhydrous\",\"orientation\":\"v\",\"showlegend\":true,\"x\":[2015,2016,2017,2018,2019],\"xaxis\":\"x\",\"y\":[198669.19,160107.99,222789.92,337857.16,313551.32],\"yaxis\":\"y\",\"type\":\"scatter\"},{\"hovertemplate\":\"Item=Ammonium sulphate<br>Year=%{x}<br>Value=%{y}<extra></extra>\",\"legendgroup\":\"Ammonium sulphate\",\"line\":{\"color\":\"#EF553B\",\"dash\":\"solid\"},\"marker\":{\"symbol\":\"circle\"},\"mode\":\"markers+lines\",\"name\":\"Ammonium sulphate\",\"orientation\":\"v\",\"showlegend\":true,\"x\":[2015,2016,2017,2018,2019],\"xaxis\":\"x\",\"y\":[377.92,388.03,354.55,456.28,223.34],\"yaxis\":\"y\",\"type\":\"scatter\"},{\"hovertemplate\":\"Item=Diammonium phosphate (DAP)<br>Year=%{x}<br>Value=%{y}<extra></extra>\",\"legendgroup\":\"Diammonium phosphate (DAP)\",\"line\":{\"color\":\"#00cc96\",\"dash\":\"solid\"},\"marker\":{\"symbol\":\"circle\"},\"mode\":\"markers+lines\",\"name\":\"Diammonium phosphate (DAP)\",\"orientation\":\"v\",\"showlegend\":true,\"x\":[2015,2016,2017,2018,2019],\"xaxis\":\"x\",\"y\":[42589.96,14259.19,28.9,24545.23,13.8],\"yaxis\":\"y\",\"type\":\"scatter\"},{\"hovertemplate\":\"Item=Fertilizers n.e.c.<br>Year=%{x}<br>Value=%{y}<extra></extra>\",\"legendgroup\":\"Fertilizers n.e.c.\",\"line\":{\"color\":\"#ab63fa\",\"dash\":\"solid\"},\"marker\":{\"symbol\":\"circle\"},\"mode\":\"markers+lines\",\"name\":\"Fertilizers n.e.c.\",\"orientation\":\"v\",\"showlegend\":true,\"x\":[2015,2016,2017,2018,2019],\"xaxis\":\"x\",\"y\":[15743.37,25183.59,27353.17,38569.59,38838.16],\"yaxis\":\"y\",\"type\":\"scatter\"},{\"hovertemplate\":\"Item=Monoammonium phosphate (MAP)<br>Year=%{x}<br>Value=%{y}<extra></extra>\",\"legendgroup\":\"Monoammonium phosphate (MAP)\",\"line\":{\"color\":\"#FFA15A\",\"dash\":\"solid\"},\"marker\":{\"symbol\":\"circle\"},\"mode\":\"markers+lines\",\"name\":\"Monoammonium phosphate (MAP)\",\"orientation\":\"v\",\"showlegend\":true,\"x\":[2015,2016,2017,2018,2019],\"xaxis\":\"x\",\"y\":[22.29,2915.71,10118.86,1118.98,5139.84],\"yaxis\":\"y\",\"type\":\"scatter\"},{\"hovertemplate\":\"Item=NPK fertilizers<br>Year=%{x}<br>Value=%{y}<extra></extra>\",\"legendgroup\":\"NPK fertilizers\",\"line\":{\"color\":\"#19d3f3\",\"dash\":\"solid\"},\"marker\":{\"symbol\":\"circle\"},\"mode\":\"markers+lines\",\"name\":\"NPK fertilizers\",\"orientation\":\"v\",\"showlegend\":true,\"x\":[2015,2016,2017,2018,2019],\"xaxis\":\"x\",\"y\":[826322.47,554261.18,461313.09,669006.43,661968.14],\"yaxis\":\"y\",\"type\":\"scatter\"},{\"hovertemplate\":\"Item=Other NP compounds<br>Year=%{x}<br>Value=%{y}<extra></extra>\",\"legendgroup\":\"Other NP compounds\",\"line\":{\"color\":\"#FF6692\",\"dash\":\"solid\"},\"marker\":{\"symbol\":\"circle\"},\"mode\":\"markers+lines\",\"name\":\"Other NP compounds\",\"orientation\":\"v\",\"showlegend\":true,\"x\":[2015,2016,2017,2018,2019],\"xaxis\":\"x\",\"y\":[14278.67,15926.67,34184.5,28828.69,31091.78],\"yaxis\":\"y\",\"type\":\"scatter\"},{\"hovertemplate\":\"Item=Other nitrogenous fertilizers, n.e.c.<br>Year=%{x}<br>Value=%{y}<extra></extra>\",\"legendgroup\":\"Other nitrogenous fertilizers, n.e.c.\",\"line\":{\"color\":\"#B6E880\",\"dash\":\"solid\"},\"marker\":{\"symbol\":\"circle\"},\"mode\":\"markers+lines\",\"name\":\"Other nitrogenous fertilizers, n.e.c.\",\"orientation\":\"v\",\"showlegend\":true,\"x\":[2015,2016,2017,2018,2019],\"xaxis\":\"x\",\"y\":[15013.89,14458.51,14539.47,25190.48,31431.71],\"yaxis\":\"y\",\"type\":\"scatter\"},{\"hovertemplate\":\"Item=Other phosphatic fertilizers, n.e.c.<br>Year=%{x}<br>Value=%{y}<extra></extra>\",\"legendgroup\":\"Other phosphatic fertilizers, n.e.c.\",\"line\":{\"color\":\"#FF97FF\",\"dash\":\"solid\"},\"marker\":{\"symbol\":\"circle\"},\"mode\":\"markers+lines\",\"name\":\"Other phosphatic fertilizers, n.e.c.\",\"orientation\":\"v\",\"showlegend\":true,\"x\":[2015,2016,2017,2018,2019],\"xaxis\":\"x\",\"y\":[716.57,406.62,487.95,732.22,460.12],\"yaxis\":\"y\",\"type\":\"scatter\"},{\"hovertemplate\":\"Item=Other potassic fertilizers, n.e.c.<br>Year=%{x}<br>Value=%{y}<extra></extra>\",\"legendgroup\":\"Other potassic fertilizers, n.e.c.\",\"line\":{\"color\":\"#FECB52\",\"dash\":\"solid\"},\"marker\":{\"symbol\":\"circle\"},\"mode\":\"markers+lines\",\"name\":\"Other potassic fertilizers, n.e.c.\",\"orientation\":\"v\",\"showlegend\":true,\"x\":[2015,2016,2017,2018,2019],\"xaxis\":\"x\",\"y\":[9637.71,17628.11,27315.67,19252.01,35677.5],\"yaxis\":\"y\",\"type\":\"scatter\"},{\"hovertemplate\":\"Item=PK compounds<br>Year=%{x}<br>Value=%{y}<extra></extra>\",\"legendgroup\":\"PK compounds\",\"line\":{\"color\":\"#636efa\",\"dash\":\"solid\"},\"marker\":{\"symbol\":\"circle\"},\"mode\":\"markers+lines\",\"name\":\"PK compounds\",\"orientation\":\"v\",\"showlegend\":true,\"x\":[2015,2016,2017,2018,2019],\"xaxis\":\"x\",\"y\":[1342.64,1969.71,2594.56,4189.5,4516.94],\"yaxis\":\"y\",\"type\":\"scatter\"},{\"hovertemplate\":\"Item=Phosphate rock<br>Year=%{x}<br>Value=%{y}<extra></extra>\",\"legendgroup\":\"Phosphate rock\",\"line\":{\"color\":\"#EF553B\",\"dash\":\"solid\"},\"marker\":{\"symbol\":\"circle\"},\"mode\":\"markers+lines\",\"name\":\"Phosphate rock\",\"orientation\":\"v\",\"showlegend\":true,\"x\":[2015,2016,2017,2018,2019],\"xaxis\":\"x\",\"y\":[860.73,5535.4,9895.43,13081.49,10989.59],\"yaxis\":\"y\",\"type\":\"scatter\"},{\"hovertemplate\":\"Item=Potassium chloride (muriate of potash) (MOP)<br>Year=%{x}<br>Value=%{y}<extra></extra>\",\"legendgroup\":\"Potassium chloride (muriate of potash) (MOP)\",\"line\":{\"color\":\"#00cc96\",\"dash\":\"solid\"},\"marker\":{\"symbol\":\"circle\"},\"mode\":\"markers+lines\",\"name\":\"Potassium chloride (muriate of potash) (MOP)\",\"orientation\":\"v\",\"showlegend\":true,\"x\":[2015,2016,2017,2018,2019],\"xaxis\":\"x\",\"y\":[2974299.82,1725994.23,1716204.16,1856094.84,2669801.7],\"yaxis\":\"y\",\"type\":\"scatter\"},{\"hovertemplate\":\"Item=Potassium nitrate<br>Year=%{x}<br>Value=%{y}<extra></extra>\",\"legendgroup\":\"Potassium nitrate\",\"line\":{\"color\":\"#ab63fa\",\"dash\":\"solid\"},\"marker\":{\"symbol\":\"circle\"},\"mode\":\"markers+lines\",\"name\":\"Potassium nitrate\",\"orientation\":\"v\",\"showlegend\":true,\"x\":[2015,2016,2017,2018,2019],\"xaxis\":\"x\",\"y\":[18035.31,4904.15,2344.21,1861.38,1755.26],\"yaxis\":\"y\",\"type\":\"scatter\"},{\"hovertemplate\":\"Item=Potassium sulphate (sulphate of potash) (SOP)<br>Year=%{x}<br>Value=%{y}<extra></extra>\",\"legendgroup\":\"Potassium sulphate (sulphate of potash) (SOP)\",\"line\":{\"color\":\"#FFA15A\",\"dash\":\"solid\"},\"marker\":{\"symbol\":\"circle\"},\"mode\":\"markers+lines\",\"name\":\"Potassium sulphate (sulphate of potash) (SOP)\",\"orientation\":\"v\",\"showlegend\":true,\"x\":[2015,2016,2017,2018,2019],\"xaxis\":\"x\",\"y\":[25510.74,17074.86,20371.78,24992.99,24956.3],\"yaxis\":\"y\",\"type\":\"scatter\"},{\"hovertemplate\":\"Item=Sodium nitrate<br>Year=%{x}<br>Value=%{y}<extra></extra>\",\"legendgroup\":\"Sodium nitrate\",\"line\":{\"color\":\"#19d3f3\",\"dash\":\"solid\"},\"marker\":{\"symbol\":\"circle\"},\"mode\":\"markers+lines\",\"name\":\"Sodium nitrate\",\"orientation\":\"v\",\"showlegend\":true,\"x\":[2015,2016,2017,2018,2019],\"xaxis\":\"x\",\"y\":[154.62,204.16,150.32,144.36,89.53],\"yaxis\":\"y\",\"type\":\"scatter\"},{\"hovertemplate\":\"Item=Superphosphates above 35%<br>Year=%{x}<br>Value=%{y}<extra></extra>\",\"legendgroup\":\"Superphosphates above 35%\",\"line\":{\"color\":\"#FF6692\",\"dash\":\"solid\"},\"marker\":{\"symbol\":\"circle\"},\"mode\":\"markers+lines\",\"name\":\"Superphosphates above 35%\",\"orientation\":\"v\",\"showlegend\":true,\"x\":[2015,2016,2018],\"xaxis\":\"x\",\"y\":[1546.73,2486.75,36.1],\"yaxis\":\"y\",\"type\":\"scatter\"},{\"hovertemplate\":\"Item=Urea<br>Year=%{x}<br>Value=%{y}<extra></extra>\",\"legendgroup\":\"Urea\",\"line\":{\"color\":\"#B6E880\",\"dash\":\"solid\"},\"marker\":{\"symbol\":\"circle\"},\"mode\":\"markers+lines\",\"name\":\"Urea\",\"orientation\":\"v\",\"showlegend\":true,\"x\":[2015,2016,2017,2018,2019],\"xaxis\":\"x\",\"y\":[3692.36,15947.53,3304.44,45432.58,46570.54],\"yaxis\":\"y\",\"type\":\"scatter\"},{\"hovertemplate\":\"Item=Urea and ammonium nitrate solutions (UAN)<br>Year=%{x}<br>Value=%{y}<extra></extra>\",\"legendgroup\":\"Urea and ammonium nitrate solutions (UAN)\",\"line\":{\"color\":\"#FF97FF\",\"dash\":\"solid\"},\"marker\":{\"symbol\":\"circle\"},\"mode\":\"markers+lines\",\"name\":\"Urea and ammonium nitrate solutions (UAN)\",\"orientation\":\"v\",\"showlegend\":true,\"x\":[2015,2016,2017,2018,2019],\"xaxis\":\"x\",\"y\":[285.41,129.22,59.15,547.09,365.11],\"yaxis\":\"y\",\"type\":\"scatter\"},{\"hovertemplate\":\"Item=Calcium ammonium nitrate (CAN) and other mixtures with calcium carbonate<br>Year=%{x}<br>Value=%{y}<extra></extra>\",\"legendgroup\":\"Calcium ammonium nitrate (CAN) and other mixtures with calcium carbonate\",\"line\":{\"color\":\"#FECB52\",\"dash\":\"solid\"},\"marker\":{\"symbol\":\"circle\"},\"mode\":\"markers+lines\",\"name\":\"Calcium ammonium nitrate (CAN) and other mixtures with calcium carbonate\",\"orientation\":\"v\",\"showlegend\":true,\"x\":[2016,2017,2018,2019],\"xaxis\":\"x\",\"y\":[2723.72,639.84,466.72,307.74],\"yaxis\":\"y\",\"type\":\"scatter\"},{\"hovertemplate\":\"Item=Superphosphates, other<br>Year=%{x}<br>Value=%{y}<extra></extra>\",\"legendgroup\":\"Superphosphates, other\",\"line\":{\"color\":\"#636efa\",\"dash\":\"solid\"},\"marker\":{\"symbol\":\"circle\"},\"mode\":\"markers+lines\",\"name\":\"Superphosphates, other\",\"orientation\":\"v\",\"showlegend\":true,\"x\":[2017,2018,2019],\"xaxis\":\"x\",\"y\":[2.54,0.13,0.08],\"yaxis\":\"y\",\"type\":\"scatter\"}],                        {\"template\":{\"data\":{\"bar\":[{\"error_x\":{\"color\":\"#2a3f5f\"},\"error_y\":{\"color\":\"#2a3f5f\"},\"marker\":{\"line\":{\"color\":\"#E5ECF6\",\"width\":0.5},\"pattern\":{\"fillmode\":\"overlay\",\"size\":10,\"solidity\":0.2}},\"type\":\"bar\"}],\"barpolar\":[{\"marker\":{\"line\":{\"color\":\"#E5ECF6\",\"width\":0.5},\"pattern\":{\"fillmode\":\"overlay\",\"size\":10,\"solidity\":0.2}},\"type\":\"barpolar\"}],\"carpet\":[{\"aaxis\":{\"endlinecolor\":\"#2a3f5f\",\"gridcolor\":\"white\",\"linecolor\":\"white\",\"minorgridcolor\":\"white\",\"startlinecolor\":\"#2a3f5f\"},\"baxis\":{\"endlinecolor\":\"#2a3f5f\",\"gridcolor\":\"white\",\"linecolor\":\"white\",\"minorgridcolor\":\"white\",\"startlinecolor\":\"#2a3f5f\"},\"type\":\"carpet\"}],\"choropleth\":[{\"colorbar\":{\"outlinewidth\":0,\"ticks\":\"\"},\"type\":\"choropleth\"}],\"contour\":[{\"colorbar\":{\"outlinewidth\":0,\"ticks\":\"\"},\"colorscale\":[[0.0,\"#0d0887\"],[0.1111111111111111,\"#46039f\"],[0.2222222222222222,\"#7201a8\"],[0.3333333333333333,\"#9c179e\"],[0.4444444444444444,\"#bd3786\"],[0.5555555555555556,\"#d8576b\"],[0.6666666666666666,\"#ed7953\"],[0.7777777777777778,\"#fb9f3a\"],[0.8888888888888888,\"#fdca26\"],[1.0,\"#f0f921\"]],\"type\":\"contour\"}],\"contourcarpet\":[{\"colorbar\":{\"outlinewidth\":0,\"ticks\":\"\"},\"type\":\"contourcarpet\"}],\"heatmap\":[{\"colorbar\":{\"outlinewidth\":0,\"ticks\":\"\"},\"colorscale\":[[0.0,\"#0d0887\"],[0.1111111111111111,\"#46039f\"],[0.2222222222222222,\"#7201a8\"],[0.3333333333333333,\"#9c179e\"],[0.4444444444444444,\"#bd3786\"],[0.5555555555555556,\"#d8576b\"],[0.6666666666666666,\"#ed7953\"],[0.7777777777777778,\"#fb9f3a\"],[0.8888888888888888,\"#fdca26\"],[1.0,\"#f0f921\"]],\"type\":\"heatmap\"}],\"heatmapgl\":[{\"colorbar\":{\"outlinewidth\":0,\"ticks\":\"\"},\"colorscale\":[[0.0,\"#0d0887\"],[0.1111111111111111,\"#46039f\"],[0.2222222222222222,\"#7201a8\"],[0.3333333333333333,\"#9c179e\"],[0.4444444444444444,\"#bd3786\"],[0.5555555555555556,\"#d8576b\"],[0.6666666666666666,\"#ed7953\"],[0.7777777777777778,\"#fb9f3a\"],[0.8888888888888888,\"#fdca26\"],[1.0,\"#f0f921\"]],\"type\":\"heatmapgl\"}],\"histogram\":[{\"marker\":{\"pattern\":{\"fillmode\":\"overlay\",\"size\":10,\"solidity\":0.2}},\"type\":\"histogram\"}],\"histogram2d\":[{\"colorbar\":{\"outlinewidth\":0,\"ticks\":\"\"},\"colorscale\":[[0.0,\"#0d0887\"],[0.1111111111111111,\"#46039f\"],[0.2222222222222222,\"#7201a8\"],[0.3333333333333333,\"#9c179e\"],[0.4444444444444444,\"#bd3786\"],[0.5555555555555556,\"#d8576b\"],[0.6666666666666666,\"#ed7953\"],[0.7777777777777778,\"#fb9f3a\"],[0.8888888888888888,\"#fdca26\"],[1.0,\"#f0f921\"]],\"type\":\"histogram2d\"}],\"histogram2dcontour\":[{\"colorbar\":{\"outlinewidth\":0,\"ticks\":\"\"},\"colorscale\":[[0.0,\"#0d0887\"],[0.1111111111111111,\"#46039f\"],[0.2222222222222222,\"#7201a8\"],[0.3333333333333333,\"#9c179e\"],[0.4444444444444444,\"#bd3786\"],[0.5555555555555556,\"#d8576b\"],[0.6666666666666666,\"#ed7953\"],[0.7777777777777778,\"#fb9f3a\"],[0.8888888888888888,\"#fdca26\"],[1.0,\"#f0f921\"]],\"type\":\"histogram2dcontour\"}],\"mesh3d\":[{\"colorbar\":{\"outlinewidth\":0,\"ticks\":\"\"},\"type\":\"mesh3d\"}],\"parcoords\":[{\"line\":{\"colorbar\":{\"outlinewidth\":0,\"ticks\":\"\"}},\"type\":\"parcoords\"}],\"pie\":[{\"automargin\":true,\"type\":\"pie\"}],\"scatter\":[{\"marker\":{\"colorbar\":{\"outlinewidth\":0,\"ticks\":\"\"}},\"type\":\"scatter\"}],\"scatter3d\":[{\"line\":{\"colorbar\":{\"outlinewidth\":0,\"ticks\":\"\"}},\"marker\":{\"colorbar\":{\"outlinewidth\":0,\"ticks\":\"\"}},\"type\":\"scatter3d\"}],\"scattercarpet\":[{\"marker\":{\"colorbar\":{\"outlinewidth\":0,\"ticks\":\"\"}},\"type\":\"scattercarpet\"}],\"scattergeo\":[{\"marker\":{\"colorbar\":{\"outlinewidth\":0,\"ticks\":\"\"}},\"type\":\"scattergeo\"}],\"scattergl\":[{\"marker\":{\"colorbar\":{\"outlinewidth\":0,\"ticks\":\"\"}},\"type\":\"scattergl\"}],\"scattermapbox\":[{\"marker\":{\"colorbar\":{\"outlinewidth\":0,\"ticks\":\"\"}},\"type\":\"scattermapbox\"}],\"scatterpolar\":[{\"marker\":{\"colorbar\":{\"outlinewidth\":0,\"ticks\":\"\"}},\"type\":\"scatterpolar\"}],\"scatterpolargl\":[{\"marker\":{\"colorbar\":{\"outlinewidth\":0,\"ticks\":\"\"}},\"type\":\"scatterpolargl\"}],\"scatterternary\":[{\"marker\":{\"colorbar\":{\"outlinewidth\":0,\"ticks\":\"\"}},\"type\":\"scatterternary\"}],\"surface\":[{\"colorbar\":{\"outlinewidth\":0,\"ticks\":\"\"},\"colorscale\":[[0.0,\"#0d0887\"],[0.1111111111111111,\"#46039f\"],[0.2222222222222222,\"#7201a8\"],[0.3333333333333333,\"#9c179e\"],[0.4444444444444444,\"#bd3786\"],[0.5555555555555556,\"#d8576b\"],[0.6666666666666666,\"#ed7953\"],[0.7777777777777778,\"#fb9f3a\"],[0.8888888888888888,\"#fdca26\"],[1.0,\"#f0f921\"]],\"type\":\"surface\"}],\"table\":[{\"cells\":{\"fill\":{\"color\":\"#EBF0F8\"},\"line\":{\"color\":\"white\"}},\"header\":{\"fill\":{\"color\":\"#C8D4E3\"},\"line\":{\"color\":\"white\"}},\"type\":\"table\"}]},\"layout\":{\"annotationdefaults\":{\"arrowcolor\":\"#2a3f5f\",\"arrowhead\":0,\"arrowwidth\":1},\"autotypenumbers\":\"strict\",\"coloraxis\":{\"colorbar\":{\"outlinewidth\":0,\"ticks\":\"\"}},\"colorscale\":{\"diverging\":[[0,\"#8e0152\"],[0.1,\"#c51b7d\"],[0.2,\"#de77ae\"],[0.3,\"#f1b6da\"],[0.4,\"#fde0ef\"],[0.5,\"#f7f7f7\"],[0.6,\"#e6f5d0\"],[0.7,\"#b8e186\"],[0.8,\"#7fbc41\"],[0.9,\"#4d9221\"],[1,\"#276419\"]],\"sequential\":[[0.0,\"#0d0887\"],[0.1111111111111111,\"#46039f\"],[0.2222222222222222,\"#7201a8\"],[0.3333333333333333,\"#9c179e\"],[0.4444444444444444,\"#bd3786\"],[0.5555555555555556,\"#d8576b\"],[0.6666666666666666,\"#ed7953\"],[0.7777777777777778,\"#fb9f3a\"],[0.8888888888888888,\"#fdca26\"],[1.0,\"#f0f921\"]],\"sequentialminus\":[[0.0,\"#0d0887\"],[0.1111111111111111,\"#46039f\"],[0.2222222222222222,\"#7201a8\"],[0.3333333333333333,\"#9c179e\"],[0.4444444444444444,\"#bd3786\"],[0.5555555555555556,\"#d8576b\"],[0.6666666666666666,\"#ed7953\"],[0.7777777777777778,\"#fb9f3a\"],[0.8888888888888888,\"#fdca26\"],[1.0,\"#f0f921\"]]},\"colorway\":[\"#636efa\",\"#EF553B\",\"#00cc96\",\"#ab63fa\",\"#FFA15A\",\"#19d3f3\",\"#FF6692\",\"#B6E880\",\"#FF97FF\",\"#FECB52\"],\"font\":{\"color\":\"#2a3f5f\"},\"geo\":{\"bgcolor\":\"white\",\"lakecolor\":\"white\",\"landcolor\":\"#E5ECF6\",\"showlakes\":true,\"showland\":true,\"subunitcolor\":\"white\"},\"hoverlabel\":{\"align\":\"left\"},\"hovermode\":\"closest\",\"mapbox\":{\"style\":\"light\"},\"paper_bgcolor\":\"white\",\"plot_bgcolor\":\"#E5ECF6\",\"polar\":{\"angularaxis\":{\"gridcolor\":\"white\",\"linecolor\":\"white\",\"ticks\":\"\"},\"bgcolor\":\"#E5ECF6\",\"radialaxis\":{\"gridcolor\":\"white\",\"linecolor\":\"white\",\"ticks\":\"\"}},\"scene\":{\"xaxis\":{\"backgroundcolor\":\"#E5ECF6\",\"gridcolor\":\"white\",\"gridwidth\":2,\"linecolor\":\"white\",\"showbackground\":true,\"ticks\":\"\",\"zerolinecolor\":\"white\"},\"yaxis\":{\"backgroundcolor\":\"#E5ECF6\",\"gridcolor\":\"white\",\"gridwidth\":2,\"linecolor\":\"white\",\"showbackground\":true,\"ticks\":\"\",\"zerolinecolor\":\"white\"},\"zaxis\":{\"backgroundcolor\":\"#E5ECF6\",\"gridcolor\":\"white\",\"gridwidth\":2,\"linecolor\":\"white\",\"showbackground\":true,\"ticks\":\"\",\"zerolinecolor\":\"white\"}},\"shapedefaults\":{\"line\":{\"color\":\"#2a3f5f\"}},\"ternary\":{\"aaxis\":{\"gridcolor\":\"white\",\"linecolor\":\"white\",\"ticks\":\"\"},\"baxis\":{\"gridcolor\":\"white\",\"linecolor\":\"white\",\"ticks\":\"\"},\"bgcolor\":\"#E5ECF6\",\"caxis\":{\"gridcolor\":\"white\",\"linecolor\":\"white\",\"ticks\":\"\"}},\"title\":{\"x\":0.05},\"xaxis\":{\"automargin\":true,\"gridcolor\":\"white\",\"linecolor\":\"white\",\"ticks\":\"\",\"title\":{\"standoff\":15},\"zerolinecolor\":\"white\",\"zerolinewidth\":2},\"yaxis\":{\"automargin\":true,\"gridcolor\":\"white\",\"linecolor\":\"white\",\"ticks\":\"\",\"title\":{\"standoff\":15},\"zerolinecolor\":\"white\",\"zerolinewidth\":2}}},\"xaxis\":{\"anchor\":\"y\",\"domain\":[0.0,1.0],\"title\":{\"text\":\"Year\"}},\"yaxis\":{\"anchor\":\"x\",\"domain\":[0.0,1.0],\"title\":{\"text\":\"Value\"}},\"legend\":{\"title\":{\"text\":\"Item\"},\"tracegroupgap\":0},\"title\":{\"text\":\"China, mainland\"}},                        {\"responsive\": true}                    ).then(function(){\n",
              "                            \n",
              "var gd = document.getElementById('2090aaa9-cfc4-4ff6-aa1d-db12d2bb64a7');\n",
              "var x = new MutationObserver(function (mutations, observer) {{\n",
              "        var display = window.getComputedStyle(gd).display;\n",
              "        if (!display || display === 'none') {{\n",
              "            console.log([gd, 'removed!']);\n",
              "            Plotly.purge(gd);\n",
              "            observer.disconnect();\n",
              "        }}\n",
              "}});\n",
              "\n",
              "// Listen for the removal of the full notebook cells\n",
              "var notebookContainer = gd.closest('#notebook-container');\n",
              "if (notebookContainer) {{\n",
              "    x.observe(notebookContainer, {childList: true});\n",
              "}}\n",
              "\n",
              "// Listen for the clearing of the current output cell\n",
              "var outputEl = gd.closest('.output');\n",
              "if (outputEl) {{\n",
              "    x.observe(outputEl, {childList: true});\n",
              "}}\n",
              "\n",
              "                        })                };                            </script>        </div>\n",
              "</body>\n",
              "</html>"
            ]
          },
          "metadata": {}
        },
        {
          "output_type": "display_data",
          "data": {
            "text/html": [
              "<html>\n",
              "<head><meta charset=\"utf-8\" /></head>\n",
              "<body>\n",
              "    <div>            <script src=\"https://cdnjs.cloudflare.com/ajax/libs/mathjax/2.7.5/MathJax.js?config=TeX-AMS-MML_SVG\"></script><script type=\"text/javascript\">if (window.MathJax) {MathJax.Hub.Config({SVG: {font: \"STIX-Web\"}});}</script>                <script type=\"text/javascript\">window.PlotlyConfig = {MathJaxConfig: 'local'};</script>\n",
              "        <script src=\"https://cdn.plot.ly/plotly-2.8.3.min.js\"></script>                <div id=\"c894f0c5-6939-426d-a29a-06954638a384\" class=\"plotly-graph-div\" style=\"height:525px; width:100%;\"></div>            <script type=\"text/javascript\">                                    window.PLOTLYENV=window.PLOTLYENV || {};                                    if (document.getElementById(\"c894f0c5-6939-426d-a29a-06954638a384\")) {                    Plotly.newPlot(                        \"c894f0c5-6939-426d-a29a-06954638a384\",                        [{\"hovertemplate\":\"Item=Ammonia, anhydrous<br>Year=%{x}<br>Value=%{y}<extra></extra>\",\"legendgroup\":\"Ammonia, anhydrous\",\"line\":{\"color\":\"#636efa\",\"dash\":\"solid\"},\"marker\":{\"symbol\":\"circle\"},\"mode\":\"markers+lines\",\"name\":\"Ammonia, anhydrous\",\"orientation\":\"v\",\"showlegend\":true,\"x\":[2015,2016,2017,2018,2019],\"xaxis\":\"x\",\"y\":[355827.59,202259.54,238271.01,185212.94,164824.05],\"yaxis\":\"y\",\"type\":\"scatter\"},{\"hovertemplate\":\"Item=Ammonium nitrate (AN)<br>Year=%{x}<br>Value=%{y}<extra></extra>\",\"legendgroup\":\"Ammonium nitrate (AN)\",\"line\":{\"color\":\"#EF553B\",\"dash\":\"solid\"},\"marker\":{\"symbol\":\"circle\"},\"mode\":\"markers+lines\",\"name\":\"Ammonium nitrate (AN)\",\"orientation\":\"v\",\"showlegend\":true,\"x\":[2015,2016,2017,2018,2019],\"xaxis\":\"x\",\"y\":[115496.32,74686.89,73122.73,67592.6,61765.93],\"yaxis\":\"y\",\"type\":\"scatter\"},{\"hovertemplate\":\"Item=Ammonium sulphate<br>Year=%{x}<br>Value=%{y}<extra></extra>\",\"legendgroup\":\"Ammonium sulphate\",\"line\":{\"color\":\"#00cc96\",\"dash\":\"solid\"},\"marker\":{\"symbol\":\"circle\"},\"mode\":\"markers+lines\",\"name\":\"Ammonium sulphate\",\"orientation\":\"v\",\"showlegend\":true,\"x\":[2015,2016,2017,2018,2019],\"xaxis\":\"x\",\"y\":[89987.65,75880.32,92956.97,79834.59,81303.69],\"yaxis\":\"y\",\"type\":\"scatter\"},{\"hovertemplate\":\"Item=Calcium ammonium nitrate (CAN) and other mixtures with calcium carbonate<br>Year=%{x}<br>Value=%{y}<extra></extra>\",\"legendgroup\":\"Calcium ammonium nitrate (CAN) and other mixtures with calcium carbonate\",\"line\":{\"color\":\"#ab63fa\",\"dash\":\"solid\"},\"marker\":{\"symbol\":\"circle\"},\"mode\":\"markers+lines\",\"name\":\"Calcium ammonium nitrate (CAN) and other mixtures with calcium carbonate\",\"orientation\":\"v\",\"showlegend\":true,\"x\":[2015,2016,2017,2018,2019],\"xaxis\":\"x\",\"y\":[262129.91,149963.6,156248.59,196753.66,215810.47],\"yaxis\":\"y\",\"type\":\"scatter\"},{\"hovertemplate\":\"Item=Diammonium phosphate (DAP)<br>Year=%{x}<br>Value=%{y}<extra></extra>\",\"legendgroup\":\"Diammonium phosphate (DAP)\",\"line\":{\"color\":\"#FFA15A\",\"dash\":\"solid\"},\"marker\":{\"symbol\":\"circle\"},\"mode\":\"markers+lines\",\"name\":\"Diammonium phosphate (DAP)\",\"orientation\":\"v\",\"showlegend\":true,\"x\":[2015,2016,2017,2018,2019],\"xaxis\":\"x\",\"y\":[212541.29,170850.61,170031.24,158293.23,169728.16],\"yaxis\":\"y\",\"type\":\"scatter\"},{\"hovertemplate\":\"Item=Fertilizers n.e.c.<br>Year=%{x}<br>Value=%{y}<extra></extra>\",\"legendgroup\":\"Fertilizers n.e.c.\",\"line\":{\"color\":\"#19d3f3\",\"dash\":\"solid\"},\"marker\":{\"symbol\":\"circle\"},\"mode\":\"markers+lines\",\"name\":\"Fertilizers n.e.c.\",\"orientation\":\"v\",\"showlegend\":true,\"x\":[2015,2016,2017,2018,2019],\"xaxis\":\"x\",\"y\":[41078.24,30232.21,36347.97,35635.92,41342.69],\"yaxis\":\"y\",\"type\":\"scatter\"},{\"hovertemplate\":\"Item=Monoammonium phosphate (MAP)<br>Year=%{x}<br>Value=%{y}<extra></extra>\",\"legendgroup\":\"Monoammonium phosphate (MAP)\",\"line\":{\"color\":\"#FF6692\",\"dash\":\"solid\"},\"marker\":{\"symbol\":\"circle\"},\"mode\":\"markers+lines\",\"name\":\"Monoammonium phosphate (MAP)\",\"orientation\":\"v\",\"showlegend\":true,\"x\":[2015,2016,2017,2018,2019],\"xaxis\":\"x\",\"y\":[20868.39,21584.61,26782.23,28596.16,28124.64],\"yaxis\":\"y\",\"type\":\"scatter\"},{\"hovertemplate\":\"Item=NPK fertilizers<br>Year=%{x}<br>Value=%{y}<extra></extra>\",\"legendgroup\":\"NPK fertilizers\",\"line\":{\"color\":\"#B6E880\",\"dash\":\"solid\"},\"marker\":{\"symbol\":\"circle\"},\"mode\":\"markers+lines\",\"name\":\"NPK fertilizers\",\"orientation\":\"v\",\"showlegend\":true,\"x\":[2015,2016,2017,2018,2019],\"xaxis\":\"x\",\"y\":[137061.61,90541.68,98208.35,117047.17,138445.39],\"yaxis\":\"y\",\"type\":\"scatter\"},{\"hovertemplate\":\"Item=Other NP compounds<br>Year=%{x}<br>Value=%{y}<extra></extra>\",\"legendgroup\":\"Other NP compounds\",\"line\":{\"color\":\"#FF97FF\",\"dash\":\"solid\"},\"marker\":{\"symbol\":\"circle\"},\"mode\":\"markers+lines\",\"name\":\"Other NP compounds\",\"orientation\":\"v\",\"showlegend\":true,\"x\":[2015,2016,2017,2018,2019],\"xaxis\":\"x\",\"y\":[57152.56,39332.05,38547.83,41417.07,50947.1],\"yaxis\":\"y\",\"type\":\"scatter\"},{\"hovertemplate\":\"Item=Other nitrogenous fertilizers, n.e.c.<br>Year=%{x}<br>Value=%{y}<extra></extra>\",\"legendgroup\":\"Other nitrogenous fertilizers, n.e.c.\",\"line\":{\"color\":\"#FECB52\",\"dash\":\"solid\"},\"marker\":{\"symbol\":\"circle\"},\"mode\":\"markers+lines\",\"name\":\"Other nitrogenous fertilizers, n.e.c.\",\"orientation\":\"v\",\"showlegend\":true,\"x\":[2015,2016,2017,2018,2019],\"xaxis\":\"x\",\"y\":[55696.19,58875.91,57056.29,56206.58,63998.39],\"yaxis\":\"y\",\"type\":\"scatter\"},{\"hovertemplate\":\"Item=Other phosphatic fertilizers, n.e.c.<br>Year=%{x}<br>Value=%{y}<extra></extra>\",\"legendgroup\":\"Other phosphatic fertilizers, n.e.c.\",\"line\":{\"color\":\"#636efa\",\"dash\":\"solid\"},\"marker\":{\"symbol\":\"circle\"},\"mode\":\"markers+lines\",\"name\":\"Other phosphatic fertilizers, n.e.c.\",\"orientation\":\"v\",\"showlegend\":true,\"x\":[2015,2016,2017,2018,2019],\"xaxis\":\"x\",\"y\":[3123.0,2602.13,2548.59,3633.01,4849.24],\"yaxis\":\"y\",\"type\":\"scatter\"},{\"hovertemplate\":\"Item=Other potassic fertilizers, n.e.c.<br>Year=%{x}<br>Value=%{y}<extra></extra>\",\"legendgroup\":\"Other potassic fertilizers, n.e.c.\",\"line\":{\"color\":\"#EF553B\",\"dash\":\"solid\"},\"marker\":{\"symbol\":\"circle\"},\"mode\":\"markers+lines\",\"name\":\"Other potassic fertilizers, n.e.c.\",\"orientation\":\"v\",\"showlegend\":true,\"x\":[2015,2016,2017,2018,2019],\"xaxis\":\"x\",\"y\":[4609.42,4958.0,8850.45,8069.44,6841.21],\"yaxis\":\"y\",\"type\":\"scatter\"},{\"hovertemplate\":\"Item=PK compounds<br>Year=%{x}<br>Value=%{y}<extra></extra>\",\"legendgroup\":\"PK compounds\",\"line\":{\"color\":\"#00cc96\",\"dash\":\"solid\"},\"marker\":{\"symbol\":\"circle\"},\"mode\":\"markers+lines\",\"name\":\"PK compounds\",\"orientation\":\"v\",\"showlegend\":true,\"x\":[2015,2016,2017,2018,2019],\"xaxis\":\"x\",\"y\":[52915.34,44122.75,49350.32,73737.61,79134.92],\"yaxis\":\"y\",\"type\":\"scatter\"},{\"hovertemplate\":\"Item=Phosphate rock<br>Year=%{x}<br>Value=%{y}<extra></extra>\",\"legendgroup\":\"Phosphate rock\",\"line\":{\"color\":\"#ab63fa\",\"dash\":\"solid\"},\"marker\":{\"symbol\":\"circle\"},\"mode\":\"markers+lines\",\"name\":\"Phosphate rock\",\"orientation\":\"v\",\"showlegend\":true,\"x\":[2015,2016,2017,2018,2019],\"xaxis\":\"x\",\"y\":[22794.15,15977.5,17977.35,15593.85,15799.75],\"yaxis\":\"y\",\"type\":\"scatter\"},{\"hovertemplate\":\"Item=Potassium chloride (muriate of potash) (MOP)<br>Year=%{x}<br>Value=%{y}<extra></extra>\",\"legendgroup\":\"Potassium chloride (muriate of potash) (MOP)\",\"line\":{\"color\":\"#FFA15A\",\"dash\":\"solid\"},\"marker\":{\"symbol\":\"circle\"},\"mode\":\"markers+lines\",\"name\":\"Potassium chloride (muriate of potash) (MOP)\",\"orientation\":\"v\",\"showlegend\":true,\"x\":[2015,2016,2017,2018,2019],\"xaxis\":\"x\",\"y\":[253033.28,218927.77,236557.7,236316.74,201843.4],\"yaxis\":\"y\",\"type\":\"scatter\"},{\"hovertemplate\":\"Item=Potassium nitrate<br>Year=%{x}<br>Value=%{y}<extra></extra>\",\"legendgroup\":\"Potassium nitrate\",\"line\":{\"color\":\"#19d3f3\",\"dash\":\"solid\"},\"marker\":{\"symbol\":\"circle\"},\"mode\":\"markers+lines\",\"name\":\"Potassium nitrate\",\"orientation\":\"v\",\"showlegend\":true,\"x\":[2015,2016,2017,2018,2019],\"xaxis\":\"x\",\"y\":[13835.76,14560.28,19037.37,21435.61,13934.96],\"yaxis\":\"y\",\"type\":\"scatter\"},{\"hovertemplate\":\"Item=Potassium sulphate (sulphate of potash) (SOP)<br>Year=%{x}<br>Value=%{y}<extra></extra>\",\"legendgroup\":\"Potassium sulphate (sulphate of potash) (SOP)\",\"line\":{\"color\":\"#FF6692\",\"dash\":\"solid\"},\"marker\":{\"symbol\":\"circle\"},\"mode\":\"markers+lines\",\"name\":\"Potassium sulphate (sulphate of potash) (SOP)\",\"orientation\":\"v\",\"showlegend\":true,\"x\":[2015,2016,2017,2018,2019],\"xaxis\":\"x\",\"y\":[43792.59,32540.61,36937.64,38102.1,35794.04],\"yaxis\":\"y\",\"type\":\"scatter\"},{\"hovertemplate\":\"Item=Sodium nitrate<br>Year=%{x}<br>Value=%{y}<extra></extra>\",\"legendgroup\":\"Sodium nitrate\",\"line\":{\"color\":\"#B6E880\",\"dash\":\"solid\"},\"marker\":{\"symbol\":\"circle\"},\"mode\":\"markers+lines\",\"name\":\"Sodium nitrate\",\"orientation\":\"v\",\"showlegend\":true,\"x\":[2015,2016,2017,2018,2019],\"xaxis\":\"x\",\"y\":[2678.46,2830.36,2860.35,2862.93,2632.07],\"yaxis\":\"y\",\"type\":\"scatter\"},{\"hovertemplate\":\"Item=Superphosphates above 35%<br>Year=%{x}<br>Value=%{y}<extra></extra>\",\"legendgroup\":\"Superphosphates above 35%\",\"line\":{\"color\":\"#FF97FF\",\"dash\":\"solid\"},\"marker\":{\"symbol\":\"circle\"},\"mode\":\"markers+lines\",\"name\":\"Superphosphates above 35%\",\"orientation\":\"v\",\"showlegend\":true,\"x\":[2015,2016,2017,2018,2019],\"xaxis\":\"x\",\"y\":[85434.96,74120.56,62476.49,86221.4,83107.85],\"yaxis\":\"y\",\"type\":\"scatter\"},{\"hovertemplate\":\"Item=Urea<br>Year=%{x}<br>Value=%{y}<extra></extra>\",\"legendgroup\":\"Urea\",\"line\":{\"color\":\"#FECB52\",\"dash\":\"solid\"},\"marker\":{\"symbol\":\"circle\"},\"mode\":\"markers+lines\",\"name\":\"Urea\",\"orientation\":\"v\",\"showlegend\":true,\"x\":[2015,2016,2017,2018,2019],\"xaxis\":\"x\",\"y\":[429012.26,376236.76,418838.99,452424.69,397404.72],\"yaxis\":\"y\",\"type\":\"scatter\"},{\"hovertemplate\":\"Item=Urea and ammonium nitrate solutions (UAN)<br>Year=%{x}<br>Value=%{y}<extra></extra>\",\"legendgroup\":\"Urea and ammonium nitrate solutions (UAN)\",\"line\":{\"color\":\"#636efa\",\"dash\":\"solid\"},\"marker\":{\"symbol\":\"circle\"},\"mode\":\"markers+lines\",\"name\":\"Urea and ammonium nitrate solutions (UAN)\",\"orientation\":\"v\",\"showlegend\":true,\"x\":[2015,2016,2017,2018,2019],\"xaxis\":\"x\",\"y\":[462878.3,365446.74,322819.4,388393.63,338551.12],\"yaxis\":\"y\",\"type\":\"scatter\"},{\"hovertemplate\":\"Item=Superphosphates, other<br>Year=%{x}<br>Value=%{y}<extra></extra>\",\"legendgroup\":\"Superphosphates, other\",\"line\":{\"color\":\"#EF553B\",\"dash\":\"solid\"},\"marker\":{\"symbol\":\"circle\"},\"mode\":\"markers+lines\",\"name\":\"Superphosphates, other\",\"orientation\":\"v\",\"showlegend\":true,\"x\":[2017,2018,2019],\"xaxis\":\"x\",\"y\":[17322.58,19879.97,14467.28],\"yaxis\":\"y\",\"type\":\"scatter\"}],                        {\"template\":{\"data\":{\"bar\":[{\"error_x\":{\"color\":\"#2a3f5f\"},\"error_y\":{\"color\":\"#2a3f5f\"},\"marker\":{\"line\":{\"color\":\"#E5ECF6\",\"width\":0.5},\"pattern\":{\"fillmode\":\"overlay\",\"size\":10,\"solidity\":0.2}},\"type\":\"bar\"}],\"barpolar\":[{\"marker\":{\"line\":{\"color\":\"#E5ECF6\",\"width\":0.5},\"pattern\":{\"fillmode\":\"overlay\",\"size\":10,\"solidity\":0.2}},\"type\":\"barpolar\"}],\"carpet\":[{\"aaxis\":{\"endlinecolor\":\"#2a3f5f\",\"gridcolor\":\"white\",\"linecolor\":\"white\",\"minorgridcolor\":\"white\",\"startlinecolor\":\"#2a3f5f\"},\"baxis\":{\"endlinecolor\":\"#2a3f5f\",\"gridcolor\":\"white\",\"linecolor\":\"white\",\"minorgridcolor\":\"white\",\"startlinecolor\":\"#2a3f5f\"},\"type\":\"carpet\"}],\"choropleth\":[{\"colorbar\":{\"outlinewidth\":0,\"ticks\":\"\"},\"type\":\"choropleth\"}],\"contour\":[{\"colorbar\":{\"outlinewidth\":0,\"ticks\":\"\"},\"colorscale\":[[0.0,\"#0d0887\"],[0.1111111111111111,\"#46039f\"],[0.2222222222222222,\"#7201a8\"],[0.3333333333333333,\"#9c179e\"],[0.4444444444444444,\"#bd3786\"],[0.5555555555555556,\"#d8576b\"],[0.6666666666666666,\"#ed7953\"],[0.7777777777777778,\"#fb9f3a\"],[0.8888888888888888,\"#fdca26\"],[1.0,\"#f0f921\"]],\"type\":\"contour\"}],\"contourcarpet\":[{\"colorbar\":{\"outlinewidth\":0,\"ticks\":\"\"},\"type\":\"contourcarpet\"}],\"heatmap\":[{\"colorbar\":{\"outlinewidth\":0,\"ticks\":\"\"},\"colorscale\":[[0.0,\"#0d0887\"],[0.1111111111111111,\"#46039f\"],[0.2222222222222222,\"#7201a8\"],[0.3333333333333333,\"#9c179e\"],[0.4444444444444444,\"#bd3786\"],[0.5555555555555556,\"#d8576b\"],[0.6666666666666666,\"#ed7953\"],[0.7777777777777778,\"#fb9f3a\"],[0.8888888888888888,\"#fdca26\"],[1.0,\"#f0f921\"]],\"type\":\"heatmap\"}],\"heatmapgl\":[{\"colorbar\":{\"outlinewidth\":0,\"ticks\":\"\"},\"colorscale\":[[0.0,\"#0d0887\"],[0.1111111111111111,\"#46039f\"],[0.2222222222222222,\"#7201a8\"],[0.3333333333333333,\"#9c179e\"],[0.4444444444444444,\"#bd3786\"],[0.5555555555555556,\"#d8576b\"],[0.6666666666666666,\"#ed7953\"],[0.7777777777777778,\"#fb9f3a\"],[0.8888888888888888,\"#fdca26\"],[1.0,\"#f0f921\"]],\"type\":\"heatmapgl\"}],\"histogram\":[{\"marker\":{\"pattern\":{\"fillmode\":\"overlay\",\"size\":10,\"solidity\":0.2}},\"type\":\"histogram\"}],\"histogram2d\":[{\"colorbar\":{\"outlinewidth\":0,\"ticks\":\"\"},\"colorscale\":[[0.0,\"#0d0887\"],[0.1111111111111111,\"#46039f\"],[0.2222222222222222,\"#7201a8\"],[0.3333333333333333,\"#9c179e\"],[0.4444444444444444,\"#bd3786\"],[0.5555555555555556,\"#d8576b\"],[0.6666666666666666,\"#ed7953\"],[0.7777777777777778,\"#fb9f3a\"],[0.8888888888888888,\"#fdca26\"],[1.0,\"#f0f921\"]],\"type\":\"histogram2d\"}],\"histogram2dcontour\":[{\"colorbar\":{\"outlinewidth\":0,\"ticks\":\"\"},\"colorscale\":[[0.0,\"#0d0887\"],[0.1111111111111111,\"#46039f\"],[0.2222222222222222,\"#7201a8\"],[0.3333333333333333,\"#9c179e\"],[0.4444444444444444,\"#bd3786\"],[0.5555555555555556,\"#d8576b\"],[0.6666666666666666,\"#ed7953\"],[0.7777777777777778,\"#fb9f3a\"],[0.8888888888888888,\"#fdca26\"],[1.0,\"#f0f921\"]],\"type\":\"histogram2dcontour\"}],\"mesh3d\":[{\"colorbar\":{\"outlinewidth\":0,\"ticks\":\"\"},\"type\":\"mesh3d\"}],\"parcoords\":[{\"line\":{\"colorbar\":{\"outlinewidth\":0,\"ticks\":\"\"}},\"type\":\"parcoords\"}],\"pie\":[{\"automargin\":true,\"type\":\"pie\"}],\"scatter\":[{\"marker\":{\"colorbar\":{\"outlinewidth\":0,\"ticks\":\"\"}},\"type\":\"scatter\"}],\"scatter3d\":[{\"line\":{\"colorbar\":{\"outlinewidth\":0,\"ticks\":\"\"}},\"marker\":{\"colorbar\":{\"outlinewidth\":0,\"ticks\":\"\"}},\"type\":\"scatter3d\"}],\"scattercarpet\":[{\"marker\":{\"colorbar\":{\"outlinewidth\":0,\"ticks\":\"\"}},\"type\":\"scattercarpet\"}],\"scattergeo\":[{\"marker\":{\"colorbar\":{\"outlinewidth\":0,\"ticks\":\"\"}},\"type\":\"scattergeo\"}],\"scattergl\":[{\"marker\":{\"colorbar\":{\"outlinewidth\":0,\"ticks\":\"\"}},\"type\":\"scattergl\"}],\"scattermapbox\":[{\"marker\":{\"colorbar\":{\"outlinewidth\":0,\"ticks\":\"\"}},\"type\":\"scattermapbox\"}],\"scatterpolar\":[{\"marker\":{\"colorbar\":{\"outlinewidth\":0,\"ticks\":\"\"}},\"type\":\"scatterpolar\"}],\"scatterpolargl\":[{\"marker\":{\"colorbar\":{\"outlinewidth\":0,\"ticks\":\"\"}},\"type\":\"scatterpolargl\"}],\"scatterternary\":[{\"marker\":{\"colorbar\":{\"outlinewidth\":0,\"ticks\":\"\"}},\"type\":\"scatterternary\"}],\"surface\":[{\"colorbar\":{\"outlinewidth\":0,\"ticks\":\"\"},\"colorscale\":[[0.0,\"#0d0887\"],[0.1111111111111111,\"#46039f\"],[0.2222222222222222,\"#7201a8\"],[0.3333333333333333,\"#9c179e\"],[0.4444444444444444,\"#bd3786\"],[0.5555555555555556,\"#d8576b\"],[0.6666666666666666,\"#ed7953\"],[0.7777777777777778,\"#fb9f3a\"],[0.8888888888888888,\"#fdca26\"],[1.0,\"#f0f921\"]],\"type\":\"surface\"}],\"table\":[{\"cells\":{\"fill\":{\"color\":\"#EBF0F8\"},\"line\":{\"color\":\"white\"}},\"header\":{\"fill\":{\"color\":\"#C8D4E3\"},\"line\":{\"color\":\"white\"}},\"type\":\"table\"}]},\"layout\":{\"annotationdefaults\":{\"arrowcolor\":\"#2a3f5f\",\"arrowhead\":0,\"arrowwidth\":1},\"autotypenumbers\":\"strict\",\"coloraxis\":{\"colorbar\":{\"outlinewidth\":0,\"ticks\":\"\"}},\"colorscale\":{\"diverging\":[[0,\"#8e0152\"],[0.1,\"#c51b7d\"],[0.2,\"#de77ae\"],[0.3,\"#f1b6da\"],[0.4,\"#fde0ef\"],[0.5,\"#f7f7f7\"],[0.6,\"#e6f5d0\"],[0.7,\"#b8e186\"],[0.8,\"#7fbc41\"],[0.9,\"#4d9221\"],[1,\"#276419\"]],\"sequential\":[[0.0,\"#0d0887\"],[0.1111111111111111,\"#46039f\"],[0.2222222222222222,\"#7201a8\"],[0.3333333333333333,\"#9c179e\"],[0.4444444444444444,\"#bd3786\"],[0.5555555555555556,\"#d8576b\"],[0.6666666666666666,\"#ed7953\"],[0.7777777777777778,\"#fb9f3a\"],[0.8888888888888888,\"#fdca26\"],[1.0,\"#f0f921\"]],\"sequentialminus\":[[0.0,\"#0d0887\"],[0.1111111111111111,\"#46039f\"],[0.2222222222222222,\"#7201a8\"],[0.3333333333333333,\"#9c179e\"],[0.4444444444444444,\"#bd3786\"],[0.5555555555555556,\"#d8576b\"],[0.6666666666666666,\"#ed7953\"],[0.7777777777777778,\"#fb9f3a\"],[0.8888888888888888,\"#fdca26\"],[1.0,\"#f0f921\"]]},\"colorway\":[\"#636efa\",\"#EF553B\",\"#00cc96\",\"#ab63fa\",\"#FFA15A\",\"#19d3f3\",\"#FF6692\",\"#B6E880\",\"#FF97FF\",\"#FECB52\"],\"font\":{\"color\":\"#2a3f5f\"},\"geo\":{\"bgcolor\":\"white\",\"lakecolor\":\"white\",\"landcolor\":\"#E5ECF6\",\"showlakes\":true,\"showland\":true,\"subunitcolor\":\"white\"},\"hoverlabel\":{\"align\":\"left\"},\"hovermode\":\"closest\",\"mapbox\":{\"style\":\"light\"},\"paper_bgcolor\":\"white\",\"plot_bgcolor\":\"#E5ECF6\",\"polar\":{\"angularaxis\":{\"gridcolor\":\"white\",\"linecolor\":\"white\",\"ticks\":\"\"},\"bgcolor\":\"#E5ECF6\",\"radialaxis\":{\"gridcolor\":\"white\",\"linecolor\":\"white\",\"ticks\":\"\"}},\"scene\":{\"xaxis\":{\"backgroundcolor\":\"#E5ECF6\",\"gridcolor\":\"white\",\"gridwidth\":2,\"linecolor\":\"white\",\"showbackground\":true,\"ticks\":\"\",\"zerolinecolor\":\"white\"},\"yaxis\":{\"backgroundcolor\":\"#E5ECF6\",\"gridcolor\":\"white\",\"gridwidth\":2,\"linecolor\":\"white\",\"showbackground\":true,\"ticks\":\"\",\"zerolinecolor\":\"white\"},\"zaxis\":{\"backgroundcolor\":\"#E5ECF6\",\"gridcolor\":\"white\",\"gridwidth\":2,\"linecolor\":\"white\",\"showbackground\":true,\"ticks\":\"\",\"zerolinecolor\":\"white\"}},\"shapedefaults\":{\"line\":{\"color\":\"#2a3f5f\"}},\"ternary\":{\"aaxis\":{\"gridcolor\":\"white\",\"linecolor\":\"white\",\"ticks\":\"\"},\"baxis\":{\"gridcolor\":\"white\",\"linecolor\":\"white\",\"ticks\":\"\"},\"bgcolor\":\"#E5ECF6\",\"caxis\":{\"gridcolor\":\"white\",\"linecolor\":\"white\",\"ticks\":\"\"}},\"title\":{\"x\":0.05},\"xaxis\":{\"automargin\":true,\"gridcolor\":\"white\",\"linecolor\":\"white\",\"ticks\":\"\",\"title\":{\"standoff\":15},\"zerolinecolor\":\"white\",\"zerolinewidth\":2},\"yaxis\":{\"automargin\":true,\"gridcolor\":\"white\",\"linecolor\":\"white\",\"ticks\":\"\",\"title\":{\"standoff\":15},\"zerolinecolor\":\"white\",\"zerolinewidth\":2}}},\"xaxis\":{\"anchor\":\"y\",\"domain\":[0.0,1.0],\"title\":{\"text\":\"Year\"}},\"yaxis\":{\"anchor\":\"x\",\"domain\":[0.0,1.0],\"title\":{\"text\":\"Value\"}},\"legend\":{\"title\":{\"text\":\"Item\"},\"tracegroupgap\":0},\"title\":{\"text\":\"France\"}},                        {\"responsive\": true}                    ).then(function(){\n",
              "                            \n",
              "var gd = document.getElementById('c894f0c5-6939-426d-a29a-06954638a384');\n",
              "var x = new MutationObserver(function (mutations, observer) {{\n",
              "        var display = window.getComputedStyle(gd).display;\n",
              "        if (!display || display === 'none') {{\n",
              "            console.log([gd, 'removed!']);\n",
              "            Plotly.purge(gd);\n",
              "            observer.disconnect();\n",
              "        }}\n",
              "}});\n",
              "\n",
              "// Listen for the removal of the full notebook cells\n",
              "var notebookContainer = gd.closest('#notebook-container');\n",
              "if (notebookContainer) {{\n",
              "    x.observe(notebookContainer, {childList: true});\n",
              "}}\n",
              "\n",
              "// Listen for the clearing of the current output cell\n",
              "var outputEl = gd.closest('.output');\n",
              "if (outputEl) {{\n",
              "    x.observe(outputEl, {childList: true});\n",
              "}}\n",
              "\n",
              "                        })                };                            </script>        </div>\n",
              "</body>\n",
              "</html>"
            ]
          },
          "metadata": {}
        }
      ]
    },
    {
      "cell_type": "markdown",
      "source": [
        "- ***США***: лидером по импорту в денежном выражении является Potassium chloride (muriate of potash) (MOP) (Хлорид Калия), далее следует Urea (Мочевина), тройку лидеров замыкает Ammonia, anhydrous (азотное удобрение - безводный аммиак). Наблюдается спад импорта удобрений Urea, Ammonia, anhydrous в денежном эквиваленте с 2018г, а у импорта Urea наоброт наблюдается рост импорта. Наблюдается активное наращивание импорта такого удобрения как Monoammonium phosphate (MAP) (азотно-фосфорное удобрение).\n",
        "- ***Индия***: больше всего затрат происходит на импорт Diammonium phosphate (DAP) (Диаммонийфосфат) и Urea (Мочевина). В 2019 году наблюдается резкий скачок импорта Urea и резкое падение Diammonium phosphate (DAP). Плавно обороты импорта наращивает Potassium chloride (muriate of potash) (MOP) (Хлорид Калия).\n",
        "- ***Бразилия***:явным лидером является Potassium chloride (muriate of potash) (MOP) (Хлорид Калия) с 2017 года по 2019 идет только рост импорта.На 2 и 3 месте идут Urea (Мочевина) и Monoammonium phosphate (MAP) (азотно-фосфорное удобрение)\n",
        "- ***Материковый Китай***: явным лидером по импорту является лидером по импорту является Potassium chloride (muriate of potash) (MOP) (Хлорид Калия), на втором месте NPK fertilizers (комплексные удобрения), почти на одном уровне с NPK fertilizers импортируют Ammonia, anhydrous (азотное удобрение - безводный аммиак). В 2019 у Potassium chloride (muriate of potash) наблюдаем резкий скачок импорта. \n",
        "- ***Франция***: На первых позициях располагаются удобрения Urea (Мочевина) и Urea and ammonium nitrate solutions (UAN), у обоих видов удобрения к 2019 г снижается их количественный импорт. К 2019 году постепенный идет рост импорта следующих удобрений: Calcium ammonium nitrate (CAN) and other mixtures with calcium carbonate (нитрат кальция и аммония), Sodium nitrate (натриевая селитра), Diammonium phosphate (DAP) (Диаммонийфосфат)"
      ],
      "metadata": {
        "id": "KxeD-oc1AZJq"
      }
    },
    {
      "cell_type": "markdown",
      "metadata": {
        "id": "B79tUNQFETi5"
      },
      "source": [
        "***Динамика количества экспорта каждого вида удобрений с 2015 по 2019 года для топ-5 экспортеров, тонны***"
      ]
    },
    {
      "cell_type": "code",
      "execution_count": 51,
      "metadata": {
        "id": "shMvrlxp0m1g"
      },
      "outputs": [],
      "source": [
        "list_3 = ['Russian Federation', 'China, mainland', 'Canada', 'Morocco', 'Belarus']"
      ]
    },
    {
      "cell_type": "code",
      "source": [
        "for i in list_3:\n",
        "  data_3=df.query(\"Element=='Export Quantity'\").groupby(['Area','Year','Item'])['Value'].sum().reset_index()\n",
        "  fig = px.line(data_3.loc[data_3['Area'].isin([i])], x='Year', y='Value', color='Item', markers=True,title=i)\n",
        "  fig.show()"
      ],
      "metadata": {
        "colab": {
          "base_uri": "https://localhost:8080/",
          "height": 1000
        },
        "id": "qq0gui0qvaQ5",
        "outputId": "63498637-ad15-41e1-c665-7de8f437c159"
      },
      "execution_count": 52,
      "outputs": [
        {
          "output_type": "display_data",
          "data": {
            "text/html": [
              "<html>\n",
              "<head><meta charset=\"utf-8\" /></head>\n",
              "<body>\n",
              "    <div>            <script src=\"https://cdnjs.cloudflare.com/ajax/libs/mathjax/2.7.5/MathJax.js?config=TeX-AMS-MML_SVG\"></script><script type=\"text/javascript\">if (window.MathJax) {MathJax.Hub.Config({SVG: {font: \"STIX-Web\"}});}</script>                <script type=\"text/javascript\">window.PlotlyConfig = {MathJaxConfig: 'local'};</script>\n",
              "        <script src=\"https://cdn.plot.ly/plotly-2.8.3.min.js\"></script>                <div id=\"b6aee92f-75e1-47ca-933c-71ecd1dd77ea\" class=\"plotly-graph-div\" style=\"height:525px; width:100%;\"></div>            <script type=\"text/javascript\">                                    window.PLOTLYENV=window.PLOTLYENV || {};                                    if (document.getElementById(\"b6aee92f-75e1-47ca-933c-71ecd1dd77ea\")) {                    Plotly.newPlot(                        \"b6aee92f-75e1-47ca-933c-71ecd1dd77ea\",                        [{\"hovertemplate\":\"Item=Ammonia, anhydrous<br>Year=%{x}<br>Value=%{y}<extra></extra>\",\"legendgroup\":\"Ammonia, anhydrous\",\"line\":{\"color\":\"#636efa\",\"dash\":\"solid\"},\"marker\":{\"symbol\":\"circle\"},\"mode\":\"markers+lines\",\"name\":\"Ammonia, anhydrous\",\"orientation\":\"v\",\"showlegend\":true,\"x\":[2015,2016,2017,2018,2019],\"xaxis\":\"x\",\"y\":[3585084.72,3658567.81,3168342.94,4217839.74,4647650.79],\"yaxis\":\"y\",\"type\":\"scatter\"},{\"hovertemplate\":\"Item=Ammonium nitrate (AN)<br>Year=%{x}<br>Value=%{y}<extra></extra>\",\"legendgroup\":\"Ammonium nitrate (AN)\",\"line\":{\"color\":\"#EF553B\",\"dash\":\"solid\"},\"marker\":{\"symbol\":\"circle\"},\"mode\":\"markers+lines\",\"name\":\"Ammonium nitrate (AN)\",\"orientation\":\"v\",\"showlegend\":true,\"x\":[2015,2016,2017,2018,2019],\"xaxis\":\"x\",\"y\":[3527747.59,3531792.85,3496533.55,3592053.72,3751592.35],\"yaxis\":\"y\",\"type\":\"scatter\"},{\"hovertemplate\":\"Item=Ammonium sulphate<br>Year=%{x}<br>Value=%{y}<extra></extra>\",\"legendgroup\":\"Ammonium sulphate\",\"line\":{\"color\":\"#00cc96\",\"dash\":\"solid\"},\"marker\":{\"symbol\":\"circle\"},\"mode\":\"markers+lines\",\"name\":\"Ammonium sulphate\",\"orientation\":\"v\",\"showlegend\":true,\"x\":[2015,2016,2017,2018,2019],\"xaxis\":\"x\",\"y\":[601736.58,559866.57,530589.97,374316.54,336935.64],\"yaxis\":\"y\",\"type\":\"scatter\"},{\"hovertemplate\":\"Item=Calcium ammonium nitrate (CAN) and other mixtures with calcium carbonate<br>Year=%{x}<br>Value=%{y}<extra></extra>\",\"legendgroup\":\"Calcium ammonium nitrate (CAN) and other mixtures with calcium carbonate\",\"line\":{\"color\":\"#ab63fa\",\"dash\":\"solid\"},\"marker\":{\"symbol\":\"circle\"},\"mode\":\"markers+lines\",\"name\":\"Calcium ammonium nitrate (CAN) and other mixtures with calcium carbonate\",\"orientation\":\"v\",\"showlegend\":true,\"x\":[2015,2016,2017,2018,2019],\"xaxis\":\"x\",\"y\":[643080.79,613996.49,616439.18,602362.29,504185.31],\"yaxis\":\"y\",\"type\":\"scatter\"},{\"hovertemplate\":\"Item=Diammonium phosphate (DAP)<br>Year=%{x}<br>Value=%{y}<extra></extra>\",\"legendgroup\":\"Diammonium phosphate (DAP)\",\"line\":{\"color\":\"#FFA15A\",\"dash\":\"solid\"},\"marker\":{\"symbol\":\"circle\"},\"mode\":\"markers+lines\",\"name\":\"Diammonium phosphate (DAP)\",\"orientation\":\"v\",\"showlegend\":true,\"x\":[2015,2016,2017,2018,2019],\"xaxis\":\"x\",\"y\":[1172385.66,1217807.16,1084681.19,1441567.02,1599312.52],\"yaxis\":\"y\",\"type\":\"scatter\"},{\"hovertemplate\":\"Item=Fertilizers n.e.c.<br>Year=%{x}<br>Value=%{y}<extra></extra>\",\"legendgroup\":\"Fertilizers n.e.c.\",\"line\":{\"color\":\"#19d3f3\",\"dash\":\"solid\"},\"marker\":{\"symbol\":\"circle\"},\"mode\":\"markers+lines\",\"name\":\"Fertilizers n.e.c.\",\"orientation\":\"v\",\"showlegend\":true,\"x\":[2015,2016,2017,2018,2019],\"xaxis\":\"x\",\"y\":[230824.75,181190.09,130735.23,99321.17,179012.89],\"yaxis\":\"y\",\"type\":\"scatter\"},{\"hovertemplate\":\"Item=Monoammonium phosphate (MAP)<br>Year=%{x}<br>Value=%{y}<extra></extra>\",\"legendgroup\":\"Monoammonium phosphate (MAP)\",\"line\":{\"color\":\"#FF6692\",\"dash\":\"solid\"},\"marker\":{\"symbol\":\"circle\"},\"mode\":\"markers+lines\",\"name\":\"Monoammonium phosphate (MAP)\",\"orientation\":\"v\",\"showlegend\":true,\"x\":[2015,2016,2017,2018,2019],\"xaxis\":\"x\",\"y\":[2041156.47,1954458.41,2234909.31,2489548.3,2139412.24],\"yaxis\":\"y\",\"type\":\"scatter\"},{\"hovertemplate\":\"Item=NPK fertilizers<br>Year=%{x}<br>Value=%{y}<extra></extra>\",\"legendgroup\":\"NPK fertilizers\",\"line\":{\"color\":\"#B6E880\",\"dash\":\"solid\"},\"marker\":{\"symbol\":\"circle\"},\"mode\":\"markers+lines\",\"name\":\"NPK fertilizers\",\"orientation\":\"v\",\"showlegend\":true,\"x\":[2015,2016,2017,2018,2019],\"xaxis\":\"x\",\"y\":[4497595.05,4550963.86,5828005.29,5920470.53,5445695.64],\"yaxis\":\"y\",\"type\":\"scatter\"},{\"hovertemplate\":\"Item=Other NP compounds<br>Year=%{x}<br>Value=%{y}<extra></extra>\",\"legendgroup\":\"Other NP compounds\",\"line\":{\"color\":\"#FF97FF\",\"dash\":\"solid\"},\"marker\":{\"symbol\":\"circle\"},\"mode\":\"markers+lines\",\"name\":\"Other NP compounds\",\"orientation\":\"v\",\"showlegend\":true,\"x\":[2015,2016,2017,2018,2019],\"xaxis\":\"x\",\"y\":[908839.04,1330684.22,1161443.93,1326618.42,1419904.56],\"yaxis\":\"y\",\"type\":\"scatter\"},{\"hovertemplate\":\"Item=Other nitrogenous fertilizers, n.e.c.<br>Year=%{x}<br>Value=%{y}<extra></extra>\",\"legendgroup\":\"Other nitrogenous fertilizers, n.e.c.\",\"line\":{\"color\":\"#FECB52\",\"dash\":\"solid\"},\"marker\":{\"symbol\":\"circle\"},\"mode\":\"markers+lines\",\"name\":\"Other nitrogenous fertilizers, n.e.c.\",\"orientation\":\"v\",\"showlegend\":true,\"x\":[2015,2016,2017,2018,2019],\"xaxis\":\"x\",\"y\":[95073.91,130941.1,135983.86,118912.68,117532.1],\"yaxis\":\"y\",\"type\":\"scatter\"},{\"hovertemplate\":\"Item=Other phosphatic fertilizers, n.e.c.<br>Year=%{x}<br>Value=%{y}<extra></extra>\",\"legendgroup\":\"Other phosphatic fertilizers, n.e.c.\",\"line\":{\"color\":\"#636efa\",\"dash\":\"solid\"},\"marker\":{\"symbol\":\"circle\"},\"mode\":\"markers+lines\",\"name\":\"Other phosphatic fertilizers, n.e.c.\",\"orientation\":\"v\",\"showlegend\":true,\"x\":[2015,2016,2017,2018,2019],\"xaxis\":\"x\",\"y\":[14656.9,11488.02,7433.42,11512.36,4645.89],\"yaxis\":\"y\",\"type\":\"scatter\"},{\"hovertemplate\":\"Item=Other potassic fertilizers, n.e.c.<br>Year=%{x}<br>Value=%{y}<extra></extra>\",\"legendgroup\":\"Other potassic fertilizers, n.e.c.\",\"line\":{\"color\":\"#EF553B\",\"dash\":\"solid\"},\"marker\":{\"symbol\":\"circle\"},\"mode\":\"markers+lines\",\"name\":\"Other potassic fertilizers, n.e.c.\",\"orientation\":\"v\",\"showlegend\":true,\"x\":[2015,2016,2017,2018,2019],\"xaxis\":\"x\",\"y\":[39.65,141.46,33.85,2809.86,10356.77],\"yaxis\":\"y\",\"type\":\"scatter\"},{\"hovertemplate\":\"Item=PK compounds<br>Year=%{x}<br>Value=%{y}<extra></extra>\",\"legendgroup\":\"PK compounds\",\"line\":{\"color\":\"#00cc96\",\"dash\":\"solid\"},\"marker\":{\"symbol\":\"circle\"},\"mode\":\"markers+lines\",\"name\":\"PK compounds\",\"orientation\":\"v\",\"showlegend\":true,\"x\":[2015,2016,2017,2018,2019],\"xaxis\":\"x\",\"y\":[5710.58,6706.76,41629.44,36873.45,11117.39],\"yaxis\":\"y\",\"type\":\"scatter\"},{\"hovertemplate\":\"Item=Phosphate rock<br>Year=%{x}<br>Value=%{y}<extra></extra>\",\"legendgroup\":\"Phosphate rock\",\"line\":{\"color\":\"#ab63fa\",\"dash\":\"solid\"},\"marker\":{\"symbol\":\"circle\"},\"mode\":\"markers+lines\",\"name\":\"Phosphate rock\",\"orientation\":\"v\",\"showlegend\":true,\"x\":[2015,2016,2017,2018,2019],\"xaxis\":\"x\",\"y\":[1975996.36,2490993.91,2615603.88,2693960.99,2558198.96],\"yaxis\":\"y\",\"type\":\"scatter\"},{\"hovertemplate\":\"Item=Potassium chloride (muriate of potash) (MOP)<br>Year=%{x}<br>Value=%{y}<extra></extra>\",\"legendgroup\":\"Potassium chloride (muriate of potash) (MOP)\",\"line\":{\"color\":\"#FFA15A\",\"dash\":\"solid\"},\"marker\":{\"symbol\":\"circle\"},\"mode\":\"markers+lines\",\"name\":\"Potassium chloride (muriate of potash) (MOP)\",\"orientation\":\"v\",\"showlegend\":true,\"x\":[2015,2016,2017,2018,2019],\"xaxis\":\"x\",\"y\":[11122021.11,18837769.78,21953223.99,8752865.51,9354121.09],\"yaxis\":\"y\",\"type\":\"scatter\"},{\"hovertemplate\":\"Item=Potassium nitrate<br>Year=%{x}<br>Value=%{y}<extra></extra>\",\"legendgroup\":\"Potassium nitrate\",\"line\":{\"color\":\"#19d3f3\",\"dash\":\"solid\"},\"marker\":{\"symbol\":\"circle\"},\"mode\":\"markers+lines\",\"name\":\"Potassium nitrate\",\"orientation\":\"v\",\"showlegend\":true,\"x\":[2015,2016,2017,2018,2019],\"xaxis\":\"x\",\"y\":[7658.1,11295.58,15322.13,18568.23,12842.6],\"yaxis\":\"y\",\"type\":\"scatter\"},{\"hovertemplate\":\"Item=Potassium sulphate (sulphate of potash) (SOP)<br>Year=%{x}<br>Value=%{y}<extra></extra>\",\"legendgroup\":\"Potassium sulphate (sulphate of potash) (SOP)\",\"line\":{\"color\":\"#FF6692\",\"dash\":\"solid\"},\"marker\":{\"symbol\":\"circle\"},\"mode\":\"markers+lines\",\"name\":\"Potassium sulphate (sulphate of potash) (SOP)\",\"orientation\":\"v\",\"showlegend\":true,\"x\":[2015,2016,2017,2018,2019],\"xaxis\":\"x\",\"y\":[63386.67,67262.05,56647.36,77117.07,56866.08],\"yaxis\":\"y\",\"type\":\"scatter\"},{\"hovertemplate\":\"Item=Sodium nitrate<br>Year=%{x}<br>Value=%{y}<extra></extra>\",\"legendgroup\":\"Sodium nitrate\",\"line\":{\"color\":\"#B6E880\",\"dash\":\"solid\"},\"marker\":{\"symbol\":\"circle\"},\"mode\":\"markers+lines\",\"name\":\"Sodium nitrate\",\"orientation\":\"v\",\"showlegend\":true,\"x\":[2015,2016,2017,2018,2019],\"xaxis\":\"x\",\"y\":[3450.73,3950.65,5761.39,7023.43,18141.84],\"yaxis\":\"y\",\"type\":\"scatter\"},{\"hovertemplate\":\"Item=Superphosphates above 35%<br>Year=%{x}<br>Value=%{y}<extra></extra>\",\"legendgroup\":\"Superphosphates above 35%\",\"line\":{\"color\":\"#FF97FF\",\"dash\":\"solid\"},\"marker\":{\"symbol\":\"circle\"},\"mode\":\"markers+lines\",\"name\":\"Superphosphates above 35%\",\"orientation\":\"v\",\"showlegend\":true,\"x\":[2015,2016,2017,2018,2019],\"xaxis\":\"x\",\"y\":[4.99,15.07,1.55,0.08,0.6],\"yaxis\":\"y\",\"type\":\"scatter\"},{\"hovertemplate\":\"Item=Urea<br>Year=%{x}<br>Value=%{y}<extra></extra>\",\"legendgroup\":\"Urea\",\"line\":{\"color\":\"#FECB52\",\"dash\":\"solid\"},\"marker\":{\"symbol\":\"circle\"},\"mode\":\"markers+lines\",\"name\":\"Urea\",\"orientation\":\"v\",\"showlegend\":true,\"x\":[2015,2016,2017,2018,2019],\"xaxis\":\"x\",\"y\":[5000101.19,5971578.33,6354868.79,6956173.16,6975083.79],\"yaxis\":\"y\",\"type\":\"scatter\"},{\"hovertemplate\":\"Item=Urea and ammonium nitrate solutions (UAN)<br>Year=%{x}<br>Value=%{y}<extra></extra>\",\"legendgroup\":\"Urea and ammonium nitrate solutions (UAN)\",\"line\":{\"color\":\"#636efa\",\"dash\":\"solid\"},\"marker\":{\"symbol\":\"circle\"},\"mode\":\"markers+lines\",\"name\":\"Urea and ammonium nitrate solutions (UAN)\",\"orientation\":\"v\",\"showlegend\":true,\"x\":[2015,2016,2017,2018,2019],\"xaxis\":\"x\",\"y\":[1729159.5,1971257.75,1696470.51,2275846.83,2714939.94],\"yaxis\":\"y\",\"type\":\"scatter\"},{\"hovertemplate\":\"Item=Superphosphates, other<br>Year=%{x}<br>Value=%{y}<extra></extra>\",\"legendgroup\":\"Superphosphates, other\",\"line\":{\"color\":\"#EF553B\",\"dash\":\"solid\"},\"marker\":{\"symbol\":\"circle\"},\"mode\":\"markers+lines\",\"name\":\"Superphosphates, other\",\"orientation\":\"v\",\"showlegend\":true,\"x\":[2017,2018,2019],\"xaxis\":\"x\",\"y\":[32.59,5.1,55.91],\"yaxis\":\"y\",\"type\":\"scatter\"}],                        {\"template\":{\"data\":{\"bar\":[{\"error_x\":{\"color\":\"#2a3f5f\"},\"error_y\":{\"color\":\"#2a3f5f\"},\"marker\":{\"line\":{\"color\":\"#E5ECF6\",\"width\":0.5},\"pattern\":{\"fillmode\":\"overlay\",\"size\":10,\"solidity\":0.2}},\"type\":\"bar\"}],\"barpolar\":[{\"marker\":{\"line\":{\"color\":\"#E5ECF6\",\"width\":0.5},\"pattern\":{\"fillmode\":\"overlay\",\"size\":10,\"solidity\":0.2}},\"type\":\"barpolar\"}],\"carpet\":[{\"aaxis\":{\"endlinecolor\":\"#2a3f5f\",\"gridcolor\":\"white\",\"linecolor\":\"white\",\"minorgridcolor\":\"white\",\"startlinecolor\":\"#2a3f5f\"},\"baxis\":{\"endlinecolor\":\"#2a3f5f\",\"gridcolor\":\"white\",\"linecolor\":\"white\",\"minorgridcolor\":\"white\",\"startlinecolor\":\"#2a3f5f\"},\"type\":\"carpet\"}],\"choropleth\":[{\"colorbar\":{\"outlinewidth\":0,\"ticks\":\"\"},\"type\":\"choropleth\"}],\"contour\":[{\"colorbar\":{\"outlinewidth\":0,\"ticks\":\"\"},\"colorscale\":[[0.0,\"#0d0887\"],[0.1111111111111111,\"#46039f\"],[0.2222222222222222,\"#7201a8\"],[0.3333333333333333,\"#9c179e\"],[0.4444444444444444,\"#bd3786\"],[0.5555555555555556,\"#d8576b\"],[0.6666666666666666,\"#ed7953\"],[0.7777777777777778,\"#fb9f3a\"],[0.8888888888888888,\"#fdca26\"],[1.0,\"#f0f921\"]],\"type\":\"contour\"}],\"contourcarpet\":[{\"colorbar\":{\"outlinewidth\":0,\"ticks\":\"\"},\"type\":\"contourcarpet\"}],\"heatmap\":[{\"colorbar\":{\"outlinewidth\":0,\"ticks\":\"\"},\"colorscale\":[[0.0,\"#0d0887\"],[0.1111111111111111,\"#46039f\"],[0.2222222222222222,\"#7201a8\"],[0.3333333333333333,\"#9c179e\"],[0.4444444444444444,\"#bd3786\"],[0.5555555555555556,\"#d8576b\"],[0.6666666666666666,\"#ed7953\"],[0.7777777777777778,\"#fb9f3a\"],[0.8888888888888888,\"#fdca26\"],[1.0,\"#f0f921\"]],\"type\":\"heatmap\"}],\"heatmapgl\":[{\"colorbar\":{\"outlinewidth\":0,\"ticks\":\"\"},\"colorscale\":[[0.0,\"#0d0887\"],[0.1111111111111111,\"#46039f\"],[0.2222222222222222,\"#7201a8\"],[0.3333333333333333,\"#9c179e\"],[0.4444444444444444,\"#bd3786\"],[0.5555555555555556,\"#d8576b\"],[0.6666666666666666,\"#ed7953\"],[0.7777777777777778,\"#fb9f3a\"],[0.8888888888888888,\"#fdca26\"],[1.0,\"#f0f921\"]],\"type\":\"heatmapgl\"}],\"histogram\":[{\"marker\":{\"pattern\":{\"fillmode\":\"overlay\",\"size\":10,\"solidity\":0.2}},\"type\":\"histogram\"}],\"histogram2d\":[{\"colorbar\":{\"outlinewidth\":0,\"ticks\":\"\"},\"colorscale\":[[0.0,\"#0d0887\"],[0.1111111111111111,\"#46039f\"],[0.2222222222222222,\"#7201a8\"],[0.3333333333333333,\"#9c179e\"],[0.4444444444444444,\"#bd3786\"],[0.5555555555555556,\"#d8576b\"],[0.6666666666666666,\"#ed7953\"],[0.7777777777777778,\"#fb9f3a\"],[0.8888888888888888,\"#fdca26\"],[1.0,\"#f0f921\"]],\"type\":\"histogram2d\"}],\"histogram2dcontour\":[{\"colorbar\":{\"outlinewidth\":0,\"ticks\":\"\"},\"colorscale\":[[0.0,\"#0d0887\"],[0.1111111111111111,\"#46039f\"],[0.2222222222222222,\"#7201a8\"],[0.3333333333333333,\"#9c179e\"],[0.4444444444444444,\"#bd3786\"],[0.5555555555555556,\"#d8576b\"],[0.6666666666666666,\"#ed7953\"],[0.7777777777777778,\"#fb9f3a\"],[0.8888888888888888,\"#fdca26\"],[1.0,\"#f0f921\"]],\"type\":\"histogram2dcontour\"}],\"mesh3d\":[{\"colorbar\":{\"outlinewidth\":0,\"ticks\":\"\"},\"type\":\"mesh3d\"}],\"parcoords\":[{\"line\":{\"colorbar\":{\"outlinewidth\":0,\"ticks\":\"\"}},\"type\":\"parcoords\"}],\"pie\":[{\"automargin\":true,\"type\":\"pie\"}],\"scatter\":[{\"marker\":{\"colorbar\":{\"outlinewidth\":0,\"ticks\":\"\"}},\"type\":\"scatter\"}],\"scatter3d\":[{\"line\":{\"colorbar\":{\"outlinewidth\":0,\"ticks\":\"\"}},\"marker\":{\"colorbar\":{\"outlinewidth\":0,\"ticks\":\"\"}},\"type\":\"scatter3d\"}],\"scattercarpet\":[{\"marker\":{\"colorbar\":{\"outlinewidth\":0,\"ticks\":\"\"}},\"type\":\"scattercarpet\"}],\"scattergeo\":[{\"marker\":{\"colorbar\":{\"outlinewidth\":0,\"ticks\":\"\"}},\"type\":\"scattergeo\"}],\"scattergl\":[{\"marker\":{\"colorbar\":{\"outlinewidth\":0,\"ticks\":\"\"}},\"type\":\"scattergl\"}],\"scattermapbox\":[{\"marker\":{\"colorbar\":{\"outlinewidth\":0,\"ticks\":\"\"}},\"type\":\"scattermapbox\"}],\"scatterpolar\":[{\"marker\":{\"colorbar\":{\"outlinewidth\":0,\"ticks\":\"\"}},\"type\":\"scatterpolar\"}],\"scatterpolargl\":[{\"marker\":{\"colorbar\":{\"outlinewidth\":0,\"ticks\":\"\"}},\"type\":\"scatterpolargl\"}],\"scatterternary\":[{\"marker\":{\"colorbar\":{\"outlinewidth\":0,\"ticks\":\"\"}},\"type\":\"scatterternary\"}],\"surface\":[{\"colorbar\":{\"outlinewidth\":0,\"ticks\":\"\"},\"colorscale\":[[0.0,\"#0d0887\"],[0.1111111111111111,\"#46039f\"],[0.2222222222222222,\"#7201a8\"],[0.3333333333333333,\"#9c179e\"],[0.4444444444444444,\"#bd3786\"],[0.5555555555555556,\"#d8576b\"],[0.6666666666666666,\"#ed7953\"],[0.7777777777777778,\"#fb9f3a\"],[0.8888888888888888,\"#fdca26\"],[1.0,\"#f0f921\"]],\"type\":\"surface\"}],\"table\":[{\"cells\":{\"fill\":{\"color\":\"#EBF0F8\"},\"line\":{\"color\":\"white\"}},\"header\":{\"fill\":{\"color\":\"#C8D4E3\"},\"line\":{\"color\":\"white\"}},\"type\":\"table\"}]},\"layout\":{\"annotationdefaults\":{\"arrowcolor\":\"#2a3f5f\",\"arrowhead\":0,\"arrowwidth\":1},\"autotypenumbers\":\"strict\",\"coloraxis\":{\"colorbar\":{\"outlinewidth\":0,\"ticks\":\"\"}},\"colorscale\":{\"diverging\":[[0,\"#8e0152\"],[0.1,\"#c51b7d\"],[0.2,\"#de77ae\"],[0.3,\"#f1b6da\"],[0.4,\"#fde0ef\"],[0.5,\"#f7f7f7\"],[0.6,\"#e6f5d0\"],[0.7,\"#b8e186\"],[0.8,\"#7fbc41\"],[0.9,\"#4d9221\"],[1,\"#276419\"]],\"sequential\":[[0.0,\"#0d0887\"],[0.1111111111111111,\"#46039f\"],[0.2222222222222222,\"#7201a8\"],[0.3333333333333333,\"#9c179e\"],[0.4444444444444444,\"#bd3786\"],[0.5555555555555556,\"#d8576b\"],[0.6666666666666666,\"#ed7953\"],[0.7777777777777778,\"#fb9f3a\"],[0.8888888888888888,\"#fdca26\"],[1.0,\"#f0f921\"]],\"sequentialminus\":[[0.0,\"#0d0887\"],[0.1111111111111111,\"#46039f\"],[0.2222222222222222,\"#7201a8\"],[0.3333333333333333,\"#9c179e\"],[0.4444444444444444,\"#bd3786\"],[0.5555555555555556,\"#d8576b\"],[0.6666666666666666,\"#ed7953\"],[0.7777777777777778,\"#fb9f3a\"],[0.8888888888888888,\"#fdca26\"],[1.0,\"#f0f921\"]]},\"colorway\":[\"#636efa\",\"#EF553B\",\"#00cc96\",\"#ab63fa\",\"#FFA15A\",\"#19d3f3\",\"#FF6692\",\"#B6E880\",\"#FF97FF\",\"#FECB52\"],\"font\":{\"color\":\"#2a3f5f\"},\"geo\":{\"bgcolor\":\"white\",\"lakecolor\":\"white\",\"landcolor\":\"#E5ECF6\",\"showlakes\":true,\"showland\":true,\"subunitcolor\":\"white\"},\"hoverlabel\":{\"align\":\"left\"},\"hovermode\":\"closest\",\"mapbox\":{\"style\":\"light\"},\"paper_bgcolor\":\"white\",\"plot_bgcolor\":\"#E5ECF6\",\"polar\":{\"angularaxis\":{\"gridcolor\":\"white\",\"linecolor\":\"white\",\"ticks\":\"\"},\"bgcolor\":\"#E5ECF6\",\"radialaxis\":{\"gridcolor\":\"white\",\"linecolor\":\"white\",\"ticks\":\"\"}},\"scene\":{\"xaxis\":{\"backgroundcolor\":\"#E5ECF6\",\"gridcolor\":\"white\",\"gridwidth\":2,\"linecolor\":\"white\",\"showbackground\":true,\"ticks\":\"\",\"zerolinecolor\":\"white\"},\"yaxis\":{\"backgroundcolor\":\"#E5ECF6\",\"gridcolor\":\"white\",\"gridwidth\":2,\"linecolor\":\"white\",\"showbackground\":true,\"ticks\":\"\",\"zerolinecolor\":\"white\"},\"zaxis\":{\"backgroundcolor\":\"#E5ECF6\",\"gridcolor\":\"white\",\"gridwidth\":2,\"linecolor\":\"white\",\"showbackground\":true,\"ticks\":\"\",\"zerolinecolor\":\"white\"}},\"shapedefaults\":{\"line\":{\"color\":\"#2a3f5f\"}},\"ternary\":{\"aaxis\":{\"gridcolor\":\"white\",\"linecolor\":\"white\",\"ticks\":\"\"},\"baxis\":{\"gridcolor\":\"white\",\"linecolor\":\"white\",\"ticks\":\"\"},\"bgcolor\":\"#E5ECF6\",\"caxis\":{\"gridcolor\":\"white\",\"linecolor\":\"white\",\"ticks\":\"\"}},\"title\":{\"x\":0.05},\"xaxis\":{\"automargin\":true,\"gridcolor\":\"white\",\"linecolor\":\"white\",\"ticks\":\"\",\"title\":{\"standoff\":15},\"zerolinecolor\":\"white\",\"zerolinewidth\":2},\"yaxis\":{\"automargin\":true,\"gridcolor\":\"white\",\"linecolor\":\"white\",\"ticks\":\"\",\"title\":{\"standoff\":15},\"zerolinecolor\":\"white\",\"zerolinewidth\":2}}},\"xaxis\":{\"anchor\":\"y\",\"domain\":[0.0,1.0],\"title\":{\"text\":\"Year\"}},\"yaxis\":{\"anchor\":\"x\",\"domain\":[0.0,1.0],\"title\":{\"text\":\"Value\"}},\"legend\":{\"title\":{\"text\":\"Item\"},\"tracegroupgap\":0},\"title\":{\"text\":\"Russian Federation\"}},                        {\"responsive\": true}                    ).then(function(){\n",
              "                            \n",
              "var gd = document.getElementById('b6aee92f-75e1-47ca-933c-71ecd1dd77ea');\n",
              "var x = new MutationObserver(function (mutations, observer) {{\n",
              "        var display = window.getComputedStyle(gd).display;\n",
              "        if (!display || display === 'none') {{\n",
              "            console.log([gd, 'removed!']);\n",
              "            Plotly.purge(gd);\n",
              "            observer.disconnect();\n",
              "        }}\n",
              "}});\n",
              "\n",
              "// Listen for the removal of the full notebook cells\n",
              "var notebookContainer = gd.closest('#notebook-container');\n",
              "if (notebookContainer) {{\n",
              "    x.observe(notebookContainer, {childList: true});\n",
              "}}\n",
              "\n",
              "// Listen for the clearing of the current output cell\n",
              "var outputEl = gd.closest('.output');\n",
              "if (outputEl) {{\n",
              "    x.observe(outputEl, {childList: true});\n",
              "}}\n",
              "\n",
              "                        })                };                            </script>        </div>\n",
              "</body>\n",
              "</html>"
            ]
          },
          "metadata": {}
        },
        {
          "output_type": "display_data",
          "data": {
            "text/html": [
              "<html>\n",
              "<head><meta charset=\"utf-8\" /></head>\n",
              "<body>\n",
              "    <div>            <script src=\"https://cdnjs.cloudflare.com/ajax/libs/mathjax/2.7.5/MathJax.js?config=TeX-AMS-MML_SVG\"></script><script type=\"text/javascript\">if (window.MathJax) {MathJax.Hub.Config({SVG: {font: \"STIX-Web\"}});}</script>                <script type=\"text/javascript\">window.PlotlyConfig = {MathJaxConfig: 'local'};</script>\n",
              "        <script src=\"https://cdn.plot.ly/plotly-2.8.3.min.js\"></script>                <div id=\"903a0c1b-1a7f-4074-803d-ef707651b131\" class=\"plotly-graph-div\" style=\"height:525px; width:100%;\"></div>            <script type=\"text/javascript\">                                    window.PLOTLYENV=window.PLOTLYENV || {};                                    if (document.getElementById(\"903a0c1b-1a7f-4074-803d-ef707651b131\")) {                    Plotly.newPlot(                        \"903a0c1b-1a7f-4074-803d-ef707651b131\",                        [{\"hovertemplate\":\"Item=Ammonia, anhydrous<br>Year=%{x}<br>Value=%{y}<extra></extra>\",\"legendgroup\":\"Ammonia, anhydrous\",\"line\":{\"color\":\"#636efa\",\"dash\":\"solid\"},\"marker\":{\"symbol\":\"circle\"},\"mode\":\"markers+lines\",\"name\":\"Ammonia, anhydrous\",\"orientation\":\"v\",\"showlegend\":true,\"x\":[2015,2016,2017,2018,2019],\"xaxis\":\"x\",\"y\":[32622.5,6184.41,6036.55,1149.48,1767.3],\"yaxis\":\"y\",\"type\":\"scatter\"},{\"hovertemplate\":\"Item=Ammonium nitrate (AN)<br>Year=%{x}<br>Value=%{y}<extra></extra>\",\"legendgroup\":\"Ammonium nitrate (AN)\",\"line\":{\"color\":\"#EF553B\",\"dash\":\"solid\"},\"marker\":{\"symbol\":\"circle\"},\"mode\":\"markers+lines\",\"name\":\"Ammonium nitrate (AN)\",\"orientation\":\"v\",\"showlegend\":true,\"x\":[2015,2016,2017,2018,2019],\"xaxis\":\"x\",\"y\":[324363.74,282042.53,202818.1,249909.32,167433.94],\"yaxis\":\"y\",\"type\":\"scatter\"},{\"hovertemplate\":\"Item=Ammonium sulphate<br>Year=%{x}<br>Value=%{y}<extra></extra>\",\"legendgroup\":\"Ammonium sulphate\",\"line\":{\"color\":\"#00cc96\",\"dash\":\"solid\"},\"marker\":{\"symbol\":\"circle\"},\"mode\":\"markers+lines\",\"name\":\"Ammonium sulphate\",\"orientation\":\"v\",\"showlegend\":true,\"x\":[2015,2016,2017,2018,2019],\"xaxis\":\"x\",\"y\":[5271535.09,5006533.18,5814189.17,6825121.64,7026405.73],\"yaxis\":\"y\",\"type\":\"scatter\"},{\"hovertemplate\":\"Item=Calcium ammonium nitrate (CAN) and other mixtures with calcium carbonate<br>Year=%{x}<br>Value=%{y}<extra></extra>\",\"legendgroup\":\"Calcium ammonium nitrate (CAN) and other mixtures with calcium carbonate\",\"line\":{\"color\":\"#ab63fa\",\"dash\":\"solid\"},\"marker\":{\"symbol\":\"circle\"},\"mode\":\"markers+lines\",\"name\":\"Calcium ammonium nitrate (CAN) and other mixtures with calcium carbonate\",\"orientation\":\"v\",\"showlegend\":true,\"x\":[2015,2016,2017,2018,2019],\"xaxis\":\"x\",\"y\":[3627.43,7311.79,2635.74,4942.38,3936.96],\"yaxis\":\"y\",\"type\":\"scatter\"},{\"hovertemplate\":\"Item=Diammonium phosphate (DAP)<br>Year=%{x}<br>Value=%{y}<extra></extra>\",\"legendgroup\":\"Diammonium phosphate (DAP)\",\"line\":{\"color\":\"#FFA15A\",\"dash\":\"solid\"},\"marker\":{\"symbol\":\"circle\"},\"mode\":\"markers+lines\",\"name\":\"Diammonium phosphate (DAP)\",\"orientation\":\"v\",\"showlegend\":true,\"x\":[2015,2016,2017,2018,2019],\"xaxis\":\"x\",\"y\":[8021032.12,6797892.94,6400599.02,7468509.43,6476829.18],\"yaxis\":\"y\",\"type\":\"scatter\"},{\"hovertemplate\":\"Item=Fertilizers n.e.c.<br>Year=%{x}<br>Value=%{y}<extra></extra>\",\"legendgroup\":\"Fertilizers n.e.c.\",\"line\":{\"color\":\"#19d3f3\",\"dash\":\"solid\"},\"marker\":{\"symbol\":\"circle\"},\"mode\":\"markers+lines\",\"name\":\"Fertilizers n.e.c.\",\"orientation\":\"v\",\"showlegend\":true,\"x\":[2015,2016,2017,2018,2019],\"xaxis\":\"x\",\"y\":[308774.68,526665.96,680926.74,495490.2,461732.77],\"yaxis\":\"y\",\"type\":\"scatter\"},{\"hovertemplate\":\"Item=Monoammonium phosphate (MAP)<br>Year=%{x}<br>Value=%{y}<extra></extra>\",\"legendgroup\":\"Monoammonium phosphate (MAP)\",\"line\":{\"color\":\"#FF6692\",\"dash\":\"solid\"},\"marker\":{\"symbol\":\"circle\"},\"mode\":\"markers+lines\",\"name\":\"Monoammonium phosphate (MAP)\",\"orientation\":\"v\",\"showlegend\":true,\"x\":[2015,2016,2017,2018,2019],\"xaxis\":\"x\",\"y\":[2742957.94,2026429.03,2712243.32,2490013.26,2390897.53],\"yaxis\":\"y\",\"type\":\"scatter\"},{\"hovertemplate\":\"Item=NPK fertilizers<br>Year=%{x}<br>Value=%{y}<extra></extra>\",\"legendgroup\":\"NPK fertilizers\",\"line\":{\"color\":\"#B6E880\",\"dash\":\"solid\"},\"marker\":{\"symbol\":\"circle\"},\"mode\":\"markers+lines\",\"name\":\"NPK fertilizers\",\"orientation\":\"v\",\"showlegend\":true,\"x\":[2015,2016,2017,2018,2019],\"xaxis\":\"x\",\"y\":[66708.06,8419.04,41712.41,365107.62,1007955.84],\"yaxis\":\"y\",\"type\":\"scatter\"},{\"hovertemplate\":\"Item=Other NP compounds<br>Year=%{x}<br>Value=%{y}<extra></extra>\",\"legendgroup\":\"Other NP compounds\",\"line\":{\"color\":\"#FF97FF\",\"dash\":\"solid\"},\"marker\":{\"symbol\":\"circle\"},\"mode\":\"markers+lines\",\"name\":\"Other NP compounds\",\"orientation\":\"v\",\"showlegend\":true,\"x\":[2015,2016,2017,2018,2019],\"xaxis\":\"x\",\"y\":[918647.53,676991.79,951525.29,958352.13,1070084.56],\"yaxis\":\"y\",\"type\":\"scatter\"},{\"hovertemplate\":\"Item=Other nitrogenous fertilizers, n.e.c.<br>Year=%{x}<br>Value=%{y}<extra></extra>\",\"legendgroup\":\"Other nitrogenous fertilizers, n.e.c.\",\"line\":{\"color\":\"#FECB52\",\"dash\":\"solid\"},\"marker\":{\"symbol\":\"circle\"},\"mode\":\"markers+lines\",\"name\":\"Other nitrogenous fertilizers, n.e.c.\",\"orientation\":\"v\",\"showlegend\":true,\"x\":[2015,2016,2017,2018,2019],\"xaxis\":\"x\",\"y\":[1481772.88,1605004.41,1816491.85,1524961.11,1752532.53],\"yaxis\":\"y\",\"type\":\"scatter\"},{\"hovertemplate\":\"Item=Other phosphatic fertilizers, n.e.c.<br>Year=%{x}<br>Value=%{y}<extra></extra>\",\"legendgroup\":\"Other phosphatic fertilizers, n.e.c.\",\"line\":{\"color\":\"#636efa\",\"dash\":\"solid\"},\"marker\":{\"symbol\":\"circle\"},\"mode\":\"markers+lines\",\"name\":\"Other phosphatic fertilizers, n.e.c.\",\"orientation\":\"v\",\"showlegend\":true,\"x\":[2015,2016,2017,2018,2019],\"xaxis\":\"x\",\"y\":[60836.17,42039.55,55419.1,75372.87,62529.87],\"yaxis\":\"y\",\"type\":\"scatter\"},{\"hovertemplate\":\"Item=Other potassic fertilizers, n.e.c.<br>Year=%{x}<br>Value=%{y}<extra></extra>\",\"legendgroup\":\"Other potassic fertilizers, n.e.c.\",\"line\":{\"color\":\"#EF553B\",\"dash\":\"solid\"},\"marker\":{\"symbol\":\"circle\"},\"mode\":\"markers+lines\",\"name\":\"Other potassic fertilizers, n.e.c.\",\"orientation\":\"v\",\"showlegend\":true,\"x\":[2015,2016,2017,2018,2019],\"xaxis\":\"x\",\"y\":[659.55,240.88,40.15,196.7,9579.33],\"yaxis\":\"y\",\"type\":\"scatter\"},{\"hovertemplate\":\"Item=PK compounds<br>Year=%{x}<br>Value=%{y}<extra></extra>\",\"legendgroup\":\"PK compounds\",\"line\":{\"color\":\"#00cc96\",\"dash\":\"solid\"},\"marker\":{\"symbol\":\"circle\"},\"mode\":\"markers+lines\",\"name\":\"PK compounds\",\"orientation\":\"v\",\"showlegend\":true,\"x\":[2015,2016,2017,2018,2019],\"xaxis\":\"x\",\"y\":[14616.57,6458.87,6589.71,9935.75,7679.32],\"yaxis\":\"y\",\"type\":\"scatter\"},{\"hovertemplate\":\"Item=Phosphate rock<br>Year=%{x}<br>Value=%{y}<extra></extra>\",\"legendgroup\":\"Phosphate rock\",\"line\":{\"color\":\"#ab63fa\",\"dash\":\"solid\"},\"marker\":{\"symbol\":\"circle\"},\"mode\":\"markers+lines\",\"name\":\"Phosphate rock\",\"orientation\":\"v\",\"showlegend\":true,\"x\":[2015,2016,2017,2018,2019],\"xaxis\":\"x\",\"y\":[242524.51,277695.93,487123.65,433611.59,339687.4],\"yaxis\":\"y\",\"type\":\"scatter\"},{\"hovertemplate\":\"Item=Potassium chloride (muriate of potash) (MOP)<br>Year=%{x}<br>Value=%{y}<extra></extra>\",\"legendgroup\":\"Potassium chloride (muriate of potash) (MOP)\",\"line\":{\"color\":\"#FFA15A\",\"dash\":\"solid\"},\"marker\":{\"symbol\":\"circle\"},\"mode\":\"markers+lines\",\"name\":\"Potassium chloride (muriate of potash) (MOP)\",\"orientation\":\"v\",\"showlegend\":true,\"x\":[2015,2016,2017,2018,2019],\"xaxis\":\"x\",\"y\":[275651.52,298505.53,239046.21,198076.37,237296.4],\"yaxis\":\"y\",\"type\":\"scatter\"},{\"hovertemplate\":\"Item=Potassium nitrate<br>Year=%{x}<br>Value=%{y}<extra></extra>\",\"legendgroup\":\"Potassium nitrate\",\"line\":{\"color\":\"#19d3f3\",\"dash\":\"solid\"},\"marker\":{\"symbol\":\"circle\"},\"mode\":\"markers+lines\",\"name\":\"Potassium nitrate\",\"orientation\":\"v\",\"showlegend\":true,\"x\":[2015,2016,2017,2018,2019],\"xaxis\":\"x\",\"y\":[43237.75,54135.77,134652.59,115041.02,110392.79],\"yaxis\":\"y\",\"type\":\"scatter\"},{\"hovertemplate\":\"Item=Potassium sulphate (sulphate of potash) (SOP)<br>Year=%{x}<br>Value=%{y}<extra></extra>\",\"legendgroup\":\"Potassium sulphate (sulphate of potash) (SOP)\",\"line\":{\"color\":\"#FF6692\",\"dash\":\"solid\"},\"marker\":{\"symbol\":\"circle\"},\"mode\":\"markers+lines\",\"name\":\"Potassium sulphate (sulphate of potash) (SOP)\",\"orientation\":\"v\",\"showlegend\":true,\"x\":[2015,2016,2017,2018,2019],\"xaxis\":\"x\",\"y\":[77306.33,27372.84,14311.36,8687.44,326399.63],\"yaxis\":\"y\",\"type\":\"scatter\"},{\"hovertemplate\":\"Item=Sodium nitrate<br>Year=%{x}<br>Value=%{y}<extra></extra>\",\"legendgroup\":\"Sodium nitrate\",\"line\":{\"color\":\"#B6E880\",\"dash\":\"solid\"},\"marker\":{\"symbol\":\"circle\"},\"mode\":\"markers+lines\",\"name\":\"Sodium nitrate\",\"orientation\":\"v\",\"showlegend\":true,\"x\":[2015,2016,2017,2018,2019],\"xaxis\":\"x\",\"y\":[41250.21,47672.27,37925.3,42084.98,32904.08],\"yaxis\":\"y\",\"type\":\"scatter\"},{\"hovertemplate\":\"Item=Superphosphates above 35%<br>Year=%{x}<br>Value=%{y}<extra></extra>\",\"legendgroup\":\"Superphosphates above 35%\",\"line\":{\"color\":\"#FF97FF\",\"dash\":\"solid\"},\"marker\":{\"symbol\":\"circle\"},\"mode\":\"markers+lines\",\"name\":\"Superphosphates above 35%\",\"orientation\":\"v\",\"showlegend\":true,\"x\":[2015,2016,2017,2018,2019],\"xaxis\":\"x\",\"y\":[1887956.7,1419314.26,1515430.46,1530893.32,1522825.46],\"yaxis\":\"y\",\"type\":\"scatter\"},{\"hovertemplate\":\"Item=Urea<br>Year=%{x}<br>Value=%{y}<extra></extra>\",\"legendgroup\":\"Urea\",\"line\":{\"color\":\"#FECB52\",\"dash\":\"solid\"},\"marker\":{\"symbol\":\"circle\"},\"mode\":\"markers+lines\",\"name\":\"Urea\",\"orientation\":\"v\",\"showlegend\":true,\"x\":[2015,2016,2017,2018,2019],\"xaxis\":\"x\",\"y\":[13751466.28,8891459.77,4551061.81,2447324.96,4944819.6],\"yaxis\":\"y\",\"type\":\"scatter\"},{\"hovertemplate\":\"Item=Urea and ammonium nitrate solutions (UAN)<br>Year=%{x}<br>Value=%{y}<extra></extra>\",\"legendgroup\":\"Urea and ammonium nitrate solutions (UAN)\",\"line\":{\"color\":\"#636efa\",\"dash\":\"solid\"},\"marker\":{\"symbol\":\"circle\"},\"mode\":\"markers+lines\",\"name\":\"Urea and ammonium nitrate solutions (UAN)\",\"orientation\":\"v\",\"showlegend\":true,\"x\":[2015,2016,2017,2018,2019],\"xaxis\":\"x\",\"y\":[411356.37,360806.29,143917.11,33533.65,18164.05],\"yaxis\":\"y\",\"type\":\"scatter\"},{\"hovertemplate\":\"Item=Superphosphates, other<br>Year=%{x}<br>Value=%{y}<extra></extra>\",\"legendgroup\":\"Superphosphates, other\",\"line\":{\"color\":\"#EF553B\",\"dash\":\"solid\"},\"marker\":{\"symbol\":\"circle\"},\"mode\":\"markers+lines\",\"name\":\"Superphosphates, other\",\"orientation\":\"v\",\"showlegend\":true,\"x\":[2017,2018,2019],\"xaxis\":\"x\",\"y\":[270437.97,286302.05,233084.18],\"yaxis\":\"y\",\"type\":\"scatter\"}],                        {\"template\":{\"data\":{\"bar\":[{\"error_x\":{\"color\":\"#2a3f5f\"},\"error_y\":{\"color\":\"#2a3f5f\"},\"marker\":{\"line\":{\"color\":\"#E5ECF6\",\"width\":0.5},\"pattern\":{\"fillmode\":\"overlay\",\"size\":10,\"solidity\":0.2}},\"type\":\"bar\"}],\"barpolar\":[{\"marker\":{\"line\":{\"color\":\"#E5ECF6\",\"width\":0.5},\"pattern\":{\"fillmode\":\"overlay\",\"size\":10,\"solidity\":0.2}},\"type\":\"barpolar\"}],\"carpet\":[{\"aaxis\":{\"endlinecolor\":\"#2a3f5f\",\"gridcolor\":\"white\",\"linecolor\":\"white\",\"minorgridcolor\":\"white\",\"startlinecolor\":\"#2a3f5f\"},\"baxis\":{\"endlinecolor\":\"#2a3f5f\",\"gridcolor\":\"white\",\"linecolor\":\"white\",\"minorgridcolor\":\"white\",\"startlinecolor\":\"#2a3f5f\"},\"type\":\"carpet\"}],\"choropleth\":[{\"colorbar\":{\"outlinewidth\":0,\"ticks\":\"\"},\"type\":\"choropleth\"}],\"contour\":[{\"colorbar\":{\"outlinewidth\":0,\"ticks\":\"\"},\"colorscale\":[[0.0,\"#0d0887\"],[0.1111111111111111,\"#46039f\"],[0.2222222222222222,\"#7201a8\"],[0.3333333333333333,\"#9c179e\"],[0.4444444444444444,\"#bd3786\"],[0.5555555555555556,\"#d8576b\"],[0.6666666666666666,\"#ed7953\"],[0.7777777777777778,\"#fb9f3a\"],[0.8888888888888888,\"#fdca26\"],[1.0,\"#f0f921\"]],\"type\":\"contour\"}],\"contourcarpet\":[{\"colorbar\":{\"outlinewidth\":0,\"ticks\":\"\"},\"type\":\"contourcarpet\"}],\"heatmap\":[{\"colorbar\":{\"outlinewidth\":0,\"ticks\":\"\"},\"colorscale\":[[0.0,\"#0d0887\"],[0.1111111111111111,\"#46039f\"],[0.2222222222222222,\"#7201a8\"],[0.3333333333333333,\"#9c179e\"],[0.4444444444444444,\"#bd3786\"],[0.5555555555555556,\"#d8576b\"],[0.6666666666666666,\"#ed7953\"],[0.7777777777777778,\"#fb9f3a\"],[0.8888888888888888,\"#fdca26\"],[1.0,\"#f0f921\"]],\"type\":\"heatmap\"}],\"heatmapgl\":[{\"colorbar\":{\"outlinewidth\":0,\"ticks\":\"\"},\"colorscale\":[[0.0,\"#0d0887\"],[0.1111111111111111,\"#46039f\"],[0.2222222222222222,\"#7201a8\"],[0.3333333333333333,\"#9c179e\"],[0.4444444444444444,\"#bd3786\"],[0.5555555555555556,\"#d8576b\"],[0.6666666666666666,\"#ed7953\"],[0.7777777777777778,\"#fb9f3a\"],[0.8888888888888888,\"#fdca26\"],[1.0,\"#f0f921\"]],\"type\":\"heatmapgl\"}],\"histogram\":[{\"marker\":{\"pattern\":{\"fillmode\":\"overlay\",\"size\":10,\"solidity\":0.2}},\"type\":\"histogram\"}],\"histogram2d\":[{\"colorbar\":{\"outlinewidth\":0,\"ticks\":\"\"},\"colorscale\":[[0.0,\"#0d0887\"],[0.1111111111111111,\"#46039f\"],[0.2222222222222222,\"#7201a8\"],[0.3333333333333333,\"#9c179e\"],[0.4444444444444444,\"#bd3786\"],[0.5555555555555556,\"#d8576b\"],[0.6666666666666666,\"#ed7953\"],[0.7777777777777778,\"#fb9f3a\"],[0.8888888888888888,\"#fdca26\"],[1.0,\"#f0f921\"]],\"type\":\"histogram2d\"}],\"histogram2dcontour\":[{\"colorbar\":{\"outlinewidth\":0,\"ticks\":\"\"},\"colorscale\":[[0.0,\"#0d0887\"],[0.1111111111111111,\"#46039f\"],[0.2222222222222222,\"#7201a8\"],[0.3333333333333333,\"#9c179e\"],[0.4444444444444444,\"#bd3786\"],[0.5555555555555556,\"#d8576b\"],[0.6666666666666666,\"#ed7953\"],[0.7777777777777778,\"#fb9f3a\"],[0.8888888888888888,\"#fdca26\"],[1.0,\"#f0f921\"]],\"type\":\"histogram2dcontour\"}],\"mesh3d\":[{\"colorbar\":{\"outlinewidth\":0,\"ticks\":\"\"},\"type\":\"mesh3d\"}],\"parcoords\":[{\"line\":{\"colorbar\":{\"outlinewidth\":0,\"ticks\":\"\"}},\"type\":\"parcoords\"}],\"pie\":[{\"automargin\":true,\"type\":\"pie\"}],\"scatter\":[{\"marker\":{\"colorbar\":{\"outlinewidth\":0,\"ticks\":\"\"}},\"type\":\"scatter\"}],\"scatter3d\":[{\"line\":{\"colorbar\":{\"outlinewidth\":0,\"ticks\":\"\"}},\"marker\":{\"colorbar\":{\"outlinewidth\":0,\"ticks\":\"\"}},\"type\":\"scatter3d\"}],\"scattercarpet\":[{\"marker\":{\"colorbar\":{\"outlinewidth\":0,\"ticks\":\"\"}},\"type\":\"scattercarpet\"}],\"scattergeo\":[{\"marker\":{\"colorbar\":{\"outlinewidth\":0,\"ticks\":\"\"}},\"type\":\"scattergeo\"}],\"scattergl\":[{\"marker\":{\"colorbar\":{\"outlinewidth\":0,\"ticks\":\"\"}},\"type\":\"scattergl\"}],\"scattermapbox\":[{\"marker\":{\"colorbar\":{\"outlinewidth\":0,\"ticks\":\"\"}},\"type\":\"scattermapbox\"}],\"scatterpolar\":[{\"marker\":{\"colorbar\":{\"outlinewidth\":0,\"ticks\":\"\"}},\"type\":\"scatterpolar\"}],\"scatterpolargl\":[{\"marker\":{\"colorbar\":{\"outlinewidth\":0,\"ticks\":\"\"}},\"type\":\"scatterpolargl\"}],\"scatterternary\":[{\"marker\":{\"colorbar\":{\"outlinewidth\":0,\"ticks\":\"\"}},\"type\":\"scatterternary\"}],\"surface\":[{\"colorbar\":{\"outlinewidth\":0,\"ticks\":\"\"},\"colorscale\":[[0.0,\"#0d0887\"],[0.1111111111111111,\"#46039f\"],[0.2222222222222222,\"#7201a8\"],[0.3333333333333333,\"#9c179e\"],[0.4444444444444444,\"#bd3786\"],[0.5555555555555556,\"#d8576b\"],[0.6666666666666666,\"#ed7953\"],[0.7777777777777778,\"#fb9f3a\"],[0.8888888888888888,\"#fdca26\"],[1.0,\"#f0f921\"]],\"type\":\"surface\"}],\"table\":[{\"cells\":{\"fill\":{\"color\":\"#EBF0F8\"},\"line\":{\"color\":\"white\"}},\"header\":{\"fill\":{\"color\":\"#C8D4E3\"},\"line\":{\"color\":\"white\"}},\"type\":\"table\"}]},\"layout\":{\"annotationdefaults\":{\"arrowcolor\":\"#2a3f5f\",\"arrowhead\":0,\"arrowwidth\":1},\"autotypenumbers\":\"strict\",\"coloraxis\":{\"colorbar\":{\"outlinewidth\":0,\"ticks\":\"\"}},\"colorscale\":{\"diverging\":[[0,\"#8e0152\"],[0.1,\"#c51b7d\"],[0.2,\"#de77ae\"],[0.3,\"#f1b6da\"],[0.4,\"#fde0ef\"],[0.5,\"#f7f7f7\"],[0.6,\"#e6f5d0\"],[0.7,\"#b8e186\"],[0.8,\"#7fbc41\"],[0.9,\"#4d9221\"],[1,\"#276419\"]],\"sequential\":[[0.0,\"#0d0887\"],[0.1111111111111111,\"#46039f\"],[0.2222222222222222,\"#7201a8\"],[0.3333333333333333,\"#9c179e\"],[0.4444444444444444,\"#bd3786\"],[0.5555555555555556,\"#d8576b\"],[0.6666666666666666,\"#ed7953\"],[0.7777777777777778,\"#fb9f3a\"],[0.8888888888888888,\"#fdca26\"],[1.0,\"#f0f921\"]],\"sequentialminus\":[[0.0,\"#0d0887\"],[0.1111111111111111,\"#46039f\"],[0.2222222222222222,\"#7201a8\"],[0.3333333333333333,\"#9c179e\"],[0.4444444444444444,\"#bd3786\"],[0.5555555555555556,\"#d8576b\"],[0.6666666666666666,\"#ed7953\"],[0.7777777777777778,\"#fb9f3a\"],[0.8888888888888888,\"#fdca26\"],[1.0,\"#f0f921\"]]},\"colorway\":[\"#636efa\",\"#EF553B\",\"#00cc96\",\"#ab63fa\",\"#FFA15A\",\"#19d3f3\",\"#FF6692\",\"#B6E880\",\"#FF97FF\",\"#FECB52\"],\"font\":{\"color\":\"#2a3f5f\"},\"geo\":{\"bgcolor\":\"white\",\"lakecolor\":\"white\",\"landcolor\":\"#E5ECF6\",\"showlakes\":true,\"showland\":true,\"subunitcolor\":\"white\"},\"hoverlabel\":{\"align\":\"left\"},\"hovermode\":\"closest\",\"mapbox\":{\"style\":\"light\"},\"paper_bgcolor\":\"white\",\"plot_bgcolor\":\"#E5ECF6\",\"polar\":{\"angularaxis\":{\"gridcolor\":\"white\",\"linecolor\":\"white\",\"ticks\":\"\"},\"bgcolor\":\"#E5ECF6\",\"radialaxis\":{\"gridcolor\":\"white\",\"linecolor\":\"white\",\"ticks\":\"\"}},\"scene\":{\"xaxis\":{\"backgroundcolor\":\"#E5ECF6\",\"gridcolor\":\"white\",\"gridwidth\":2,\"linecolor\":\"white\",\"showbackground\":true,\"ticks\":\"\",\"zerolinecolor\":\"white\"},\"yaxis\":{\"backgroundcolor\":\"#E5ECF6\",\"gridcolor\":\"white\",\"gridwidth\":2,\"linecolor\":\"white\",\"showbackground\":true,\"ticks\":\"\",\"zerolinecolor\":\"white\"},\"zaxis\":{\"backgroundcolor\":\"#E5ECF6\",\"gridcolor\":\"white\",\"gridwidth\":2,\"linecolor\":\"white\",\"showbackground\":true,\"ticks\":\"\",\"zerolinecolor\":\"white\"}},\"shapedefaults\":{\"line\":{\"color\":\"#2a3f5f\"}},\"ternary\":{\"aaxis\":{\"gridcolor\":\"white\",\"linecolor\":\"white\",\"ticks\":\"\"},\"baxis\":{\"gridcolor\":\"white\",\"linecolor\":\"white\",\"ticks\":\"\"},\"bgcolor\":\"#E5ECF6\",\"caxis\":{\"gridcolor\":\"white\",\"linecolor\":\"white\",\"ticks\":\"\"}},\"title\":{\"x\":0.05},\"xaxis\":{\"automargin\":true,\"gridcolor\":\"white\",\"linecolor\":\"white\",\"ticks\":\"\",\"title\":{\"standoff\":15},\"zerolinecolor\":\"white\",\"zerolinewidth\":2},\"yaxis\":{\"automargin\":true,\"gridcolor\":\"white\",\"linecolor\":\"white\",\"ticks\":\"\",\"title\":{\"standoff\":15},\"zerolinecolor\":\"white\",\"zerolinewidth\":2}}},\"xaxis\":{\"anchor\":\"y\",\"domain\":[0.0,1.0],\"title\":{\"text\":\"Year\"}},\"yaxis\":{\"anchor\":\"x\",\"domain\":[0.0,1.0],\"title\":{\"text\":\"Value\"}},\"legend\":{\"title\":{\"text\":\"Item\"},\"tracegroupgap\":0},\"title\":{\"text\":\"China, mainland\"}},                        {\"responsive\": true}                    ).then(function(){\n",
              "                            \n",
              "var gd = document.getElementById('903a0c1b-1a7f-4074-803d-ef707651b131');\n",
              "var x = new MutationObserver(function (mutations, observer) {{\n",
              "        var display = window.getComputedStyle(gd).display;\n",
              "        if (!display || display === 'none') {{\n",
              "            console.log([gd, 'removed!']);\n",
              "            Plotly.purge(gd);\n",
              "            observer.disconnect();\n",
              "        }}\n",
              "}});\n",
              "\n",
              "// Listen for the removal of the full notebook cells\n",
              "var notebookContainer = gd.closest('#notebook-container');\n",
              "if (notebookContainer) {{\n",
              "    x.observe(notebookContainer, {childList: true});\n",
              "}}\n",
              "\n",
              "// Listen for the clearing of the current output cell\n",
              "var outputEl = gd.closest('.output');\n",
              "if (outputEl) {{\n",
              "    x.observe(outputEl, {childList: true});\n",
              "}}\n",
              "\n",
              "                        })                };                            </script>        </div>\n",
              "</body>\n",
              "</html>"
            ]
          },
          "metadata": {}
        },
        {
          "output_type": "display_data",
          "data": {
            "text/html": [
              "<html>\n",
              "<head><meta charset=\"utf-8\" /></head>\n",
              "<body>\n",
              "    <div>            <script src=\"https://cdnjs.cloudflare.com/ajax/libs/mathjax/2.7.5/MathJax.js?config=TeX-AMS-MML_SVG\"></script><script type=\"text/javascript\">if (window.MathJax) {MathJax.Hub.Config({SVG: {font: \"STIX-Web\"}});}</script>                <script type=\"text/javascript\">window.PlotlyConfig = {MathJaxConfig: 'local'};</script>\n",
              "        <script src=\"https://cdn.plot.ly/plotly-2.8.3.min.js\"></script>                <div id=\"2d6c93a7-8a57-40a7-820f-eb08644933db\" class=\"plotly-graph-div\" style=\"height:525px; width:100%;\"></div>            <script type=\"text/javascript\">                                    window.PLOTLYENV=window.PLOTLYENV || {};                                    if (document.getElementById(\"2d6c93a7-8a57-40a7-820f-eb08644933db\")) {                    Plotly.newPlot(                        \"2d6c93a7-8a57-40a7-820f-eb08644933db\",                        [{\"hovertemplate\":\"Item=Ammonia, anhydrous<br>Year=%{x}<br>Value=%{y}<extra></extra>\",\"legendgroup\":\"Ammonia, anhydrous\",\"line\":{\"color\":\"#636efa\",\"dash\":\"solid\"},\"marker\":{\"symbol\":\"circle\"},\"mode\":\"markers+lines\",\"name\":\"Ammonia, anhydrous\",\"orientation\":\"v\",\"showlegend\":true,\"x\":[2015,2016,2017,2018,2019],\"xaxis\":\"x\",\"y\":[1130555.0,1253943.0,1037333.0,959143.7,941813.0],\"yaxis\":\"y\",\"type\":\"scatter\"},{\"hovertemplate\":\"Item=Ammonium nitrate (AN)<br>Year=%{x}<br>Value=%{y}<extra></extra>\",\"legendgroup\":\"Ammonium nitrate (AN)\",\"line\":{\"color\":\"#EF553B\",\"dash\":\"solid\"},\"marker\":{\"symbol\":\"circle\"},\"mode\":\"markers+lines\",\"name\":\"Ammonium nitrate (AN)\",\"orientation\":\"v\",\"showlegend\":true,\"x\":[2015,2016,2017,2018,2019],\"xaxis\":\"x\",\"y\":[344189.59,307901.19,223783.61,280933.83,281875.59],\"yaxis\":\"y\",\"type\":\"scatter\"},{\"hovertemplate\":\"Item=Ammonium sulphate<br>Year=%{x}<br>Value=%{y}<extra></extra>\",\"legendgroup\":\"Ammonium sulphate\",\"line\":{\"color\":\"#00cc96\",\"dash\":\"solid\"},\"marker\":{\"symbol\":\"circle\"},\"mode\":\"markers+lines\",\"name\":\"Ammonium sulphate\",\"orientation\":\"v\",\"showlegend\":true,\"x\":[2015,2016,2017,2018,2019],\"xaxis\":\"x\",\"y\":[189465.38,218759.13,210211.72,149811.31,230211.13],\"yaxis\":\"y\",\"type\":\"scatter\"},{\"hovertemplate\":\"Item=Calcium ammonium nitrate (CAN) and other mixtures with calcium carbonate<br>Year=%{x}<br>Value=%{y}<extra></extra>\",\"legendgroup\":\"Calcium ammonium nitrate (CAN) and other mixtures with calcium carbonate\",\"line\":{\"color\":\"#ab63fa\",\"dash\":\"solid\"},\"marker\":{\"symbol\":\"circle\"},\"mode\":\"markers+lines\",\"name\":\"Calcium ammonium nitrate (CAN) and other mixtures with calcium carbonate\",\"orientation\":\"v\",\"showlegend\":true,\"x\":[2015,2016,2017,2018,2019],\"xaxis\":\"x\",\"y\":[2746.0,5935.0,4885.0,9195.0,11594.0],\"yaxis\":\"y\",\"type\":\"scatter\"},{\"hovertemplate\":\"Item=Diammonium phosphate (DAP)<br>Year=%{x}<br>Value=%{y}<extra></extra>\",\"legendgroup\":\"Diammonium phosphate (DAP)\",\"line\":{\"color\":\"#FFA15A\",\"dash\":\"solid\"},\"marker\":{\"symbol\":\"circle\"},\"mode\":\"markers+lines\",\"name\":\"Diammonium phosphate (DAP)\",\"orientation\":\"v\",\"showlegend\":true,\"x\":[2015,2016,2017,2018,2019],\"xaxis\":\"x\",\"y\":[3267.98,5502.0,12726.0,10342.0,4326.0],\"yaxis\":\"y\",\"type\":\"scatter\"},{\"hovertemplate\":\"Item=Fertilizers n.e.c.<br>Year=%{x}<br>Value=%{y}<extra></extra>\",\"legendgroup\":\"Fertilizers n.e.c.\",\"line\":{\"color\":\"#19d3f3\",\"dash\":\"solid\"},\"marker\":{\"symbol\":\"circle\"},\"mode\":\"markers+lines\",\"name\":\"Fertilizers n.e.c.\",\"orientation\":\"v\",\"showlegend\":true,\"x\":[2015,2016,2017,2018,2019],\"xaxis\":\"x\",\"y\":[26897.86,40320.14,39699.88,38728.2,32454.63],\"yaxis\":\"y\",\"type\":\"scatter\"},{\"hovertemplate\":\"Item=Monoammonium phosphate (MAP)<br>Year=%{x}<br>Value=%{y}<extra></extra>\",\"legendgroup\":\"Monoammonium phosphate (MAP)\",\"line\":{\"color\":\"#FF6692\",\"dash\":\"solid\"},\"marker\":{\"symbol\":\"circle\"},\"mode\":\"markers+lines\",\"name\":\"Monoammonium phosphate (MAP)\",\"orientation\":\"v\",\"showlegend\":true,\"x\":[2015,2016,2017,2018,2019],\"xaxis\":\"x\",\"y\":[1382.71,10043.87,12196.73,4817.1,3095.92],\"yaxis\":\"y\",\"type\":\"scatter\"},{\"hovertemplate\":\"Item=NPK fertilizers<br>Year=%{x}<br>Value=%{y}<extra></extra>\",\"legendgroup\":\"NPK fertilizers\",\"line\":{\"color\":\"#B6E880\",\"dash\":\"solid\"},\"marker\":{\"symbol\":\"circle\"},\"mode\":\"markers+lines\",\"name\":\"NPK fertilizers\",\"orientation\":\"v\",\"showlegend\":true,\"x\":[2015,2016,2017,2018,2019],\"xaxis\":\"x\",\"y\":[37223.5,67483.39,96267.02,71588.03,64296.29],\"yaxis\":\"y\",\"type\":\"scatter\"},{\"hovertemplate\":\"Item=Other NP compounds<br>Year=%{x}<br>Value=%{y}<extra></extra>\",\"legendgroup\":\"Other NP compounds\",\"line\":{\"color\":\"#FF97FF\",\"dash\":\"solid\"},\"marker\":{\"symbol\":\"circle\"},\"mode\":\"markers+lines\",\"name\":\"Other NP compounds\",\"orientation\":\"v\",\"showlegend\":true,\"x\":[2015,2016,2017,2018,2019],\"xaxis\":\"x\",\"y\":[2444.58,12114.29,9985.04,11767.7,7918.11],\"yaxis\":\"y\",\"type\":\"scatter\"},{\"hovertemplate\":\"Item=Other nitrogenous fertilizers, n.e.c.<br>Year=%{x}<br>Value=%{y}<extra></extra>\",\"legendgroup\":\"Other nitrogenous fertilizers, n.e.c.\",\"line\":{\"color\":\"#FECB52\",\"dash\":\"solid\"},\"marker\":{\"symbol\":\"circle\"},\"mode\":\"markers+lines\",\"name\":\"Other nitrogenous fertilizers, n.e.c.\",\"orientation\":\"v\",\"showlegend\":true,\"x\":[2015,2016,2017,2018,2019],\"xaxis\":\"x\",\"y\":[78665.31,113444.52,111448.86,102526.99,107073.81],\"yaxis\":\"y\",\"type\":\"scatter\"},{\"hovertemplate\":\"Item=Other phosphatic fertilizers, n.e.c.<br>Year=%{x}<br>Value=%{y}<extra></extra>\",\"legendgroup\":\"Other phosphatic fertilizers, n.e.c.\",\"line\":{\"color\":\"#636efa\",\"dash\":\"solid\"},\"marker\":{\"symbol\":\"circle\"},\"mode\":\"markers+lines\",\"name\":\"Other phosphatic fertilizers, n.e.c.\",\"orientation\":\"v\",\"showlegend\":true,\"x\":[2015,2016,2017,2018,2019],\"xaxis\":\"x\",\"y\":[90.68,257.0,563.5,203.58,520.22],\"yaxis\":\"y\",\"type\":\"scatter\"},{\"hovertemplate\":\"Item=Other potassic fertilizers, n.e.c.<br>Year=%{x}<br>Value=%{y}<extra></extra>\",\"legendgroup\":\"Other potassic fertilizers, n.e.c.\",\"line\":{\"color\":\"#EF553B\",\"dash\":\"solid\"},\"marker\":{\"symbol\":\"circle\"},\"mode\":\"markers+lines\",\"name\":\"Other potassic fertilizers, n.e.c.\",\"orientation\":\"v\",\"showlegend\":true,\"x\":[2015,2016,2017,2018,2019],\"xaxis\":\"x\",\"y\":[3554.06,3840.13,4916.65,1881.15,906.0],\"yaxis\":\"y\",\"type\":\"scatter\"},{\"hovertemplate\":\"Item=PK compounds<br>Year=%{x}<br>Value=%{y}<extra></extra>\",\"legendgroup\":\"PK compounds\",\"line\":{\"color\":\"#00cc96\",\"dash\":\"solid\"},\"marker\":{\"symbol\":\"circle\"},\"mode\":\"markers+lines\",\"name\":\"PK compounds\",\"orientation\":\"v\",\"showlegend\":true,\"x\":[2015,2016,2017,2018,2019],\"xaxis\":\"x\",\"y\":[5188.71,6761.51,5038.74,4990.8,2899.13],\"yaxis\":\"y\",\"type\":\"scatter\"},{\"hovertemplate\":\"Item=Phosphate rock<br>Year=%{x}<br>Value=%{y}<extra></extra>\",\"legendgroup\":\"Phosphate rock\",\"line\":{\"color\":\"#ab63fa\",\"dash\":\"solid\"},\"marker\":{\"symbol\":\"circle\"},\"mode\":\"markers+lines\",\"name\":\"Phosphate rock\",\"orientation\":\"v\",\"showlegend\":true,\"x\":[2015,2016,2017,2018,2019],\"xaxis\":\"x\",\"y\":[8258.0,1546.0,1810.0,2930.0,2418.0],\"yaxis\":\"y\",\"type\":\"scatter\"},{\"hovertemplate\":\"Item=Potassium chloride (muriate of potash) (MOP)<br>Year=%{x}<br>Value=%{y}<extra></extra>\",\"legendgroup\":\"Potassium chloride (muriate of potash) (MOP)\",\"line\":{\"color\":\"#FFA15A\",\"dash\":\"solid\"},\"marker\":{\"symbol\":\"circle\"},\"mode\":\"markers+lines\",\"name\":\"Potassium chloride (muriate of potash) (MOP)\",\"orientation\":\"v\",\"showlegend\":true,\"x\":[2015,2016,2017,2018,2019],\"xaxis\":\"x\",\"y\":[17869099.49,16001473.85,19083334.76,21903193.26,19526293.65],\"yaxis\":\"y\",\"type\":\"scatter\"},{\"hovertemplate\":\"Item=Potassium nitrate<br>Year=%{x}<br>Value=%{y}<extra></extra>\",\"legendgroup\":\"Potassium nitrate\",\"line\":{\"color\":\"#19d3f3\",\"dash\":\"solid\"},\"marker\":{\"symbol\":\"circle\"},\"mode\":\"markers+lines\",\"name\":\"Potassium nitrate\",\"orientation\":\"v\",\"showlegend\":true,\"x\":[2015,2016,2017,2018,2019],\"xaxis\":\"x\",\"y\":[843.59,1342.82,984.76,1640.11,725.0],\"yaxis\":\"y\",\"type\":\"scatter\"},{\"hovertemplate\":\"Item=Potassium sulphate (sulphate of potash) (SOP)<br>Year=%{x}<br>Value=%{y}<extra></extra>\",\"legendgroup\":\"Potassium sulphate (sulphate of potash) (SOP)\",\"line\":{\"color\":\"#FF6692\",\"dash\":\"solid\"},\"marker\":{\"symbol\":\"circle\"},\"mode\":\"markers+lines\",\"name\":\"Potassium sulphate (sulphate of potash) (SOP)\",\"orientation\":\"v\",\"showlegend\":true,\"x\":[2015,2016,2017,2018,2019],\"xaxis\":\"x\",\"y\":[47836.42,39865.48,38937.57,33536.16,31701.95],\"yaxis\":\"y\",\"type\":\"scatter\"},{\"hovertemplate\":\"Item=Sodium nitrate<br>Year=%{x}<br>Value=%{y}<extra></extra>\",\"legendgroup\":\"Sodium nitrate\",\"line\":{\"color\":\"#B6E880\",\"dash\":\"solid\"},\"marker\":{\"symbol\":\"circle\"},\"mode\":\"markers+lines\",\"name\":\"Sodium nitrate\",\"orientation\":\"v\",\"showlegend\":true,\"x\":[2015,2016,2017,2018,2019],\"xaxis\":\"x\",\"y\":[84.2,863.66,353.0,102.52,112.31],\"yaxis\":\"y\",\"type\":\"scatter\"},{\"hovertemplate\":\"Item=Superphosphates above 35%<br>Year=%{x}<br>Value=%{y}<extra></extra>\",\"legendgroup\":\"Superphosphates above 35%\",\"line\":{\"color\":\"#FF97FF\",\"dash\":\"solid\"},\"marker\":{\"symbol\":\"circle\"},\"mode\":\"markers+lines\",\"name\":\"Superphosphates above 35%\",\"orientation\":\"v\",\"showlegend\":true,\"x\":[2015,2016,2017,2018],\"xaxis\":\"x\",\"y\":[56.0,1.0,80.89,3.0],\"yaxis\":\"y\",\"type\":\"scatter\"},{\"hovertemplate\":\"Item=Urea<br>Year=%{x}<br>Value=%{y}<extra></extra>\",\"legendgroup\":\"Urea\",\"line\":{\"color\":\"#FECB52\",\"dash\":\"solid\"},\"marker\":{\"symbol\":\"circle\"},\"mode\":\"markers+lines\",\"name\":\"Urea\",\"orientation\":\"v\",\"showlegend\":true,\"x\":[2015,2016,2017,2018,2019],\"xaxis\":\"x\",\"y\":[1066790.98,1204805.69,1069834.13,790171.27,853281.75],\"yaxis\":\"y\",\"type\":\"scatter\"},{\"hovertemplate\":\"Item=Urea and ammonium nitrate solutions (UAN)<br>Year=%{x}<br>Value=%{y}<extra></extra>\",\"legendgroup\":\"Urea and ammonium nitrate solutions (UAN)\",\"line\":{\"color\":\"#636efa\",\"dash\":\"solid\"},\"marker\":{\"symbol\":\"circle\"},\"mode\":\"markers+lines\",\"name\":\"Urea and ammonium nitrate solutions (UAN)\",\"orientation\":\"v\",\"showlegend\":true,\"x\":[2015,2016,2017,2018,2019],\"xaxis\":\"x\",\"y\":[461598.51,459029.58,473353.22,470545.27,428989.4],\"yaxis\":\"y\",\"type\":\"scatter\"},{\"hovertemplate\":\"Item=Superphosphates, other<br>Year=%{x}<br>Value=%{y}<extra></extra>\",\"legendgroup\":\"Superphosphates, other\",\"line\":{\"color\":\"#EF553B\",\"dash\":\"solid\"},\"marker\":{\"symbol\":\"circle\"},\"mode\":\"markers+lines\",\"name\":\"Superphosphates, other\",\"orientation\":\"v\",\"showlegend\":true,\"x\":[2017,2018,2019],\"xaxis\":\"x\",\"y\":[84.66,7.0,1.75],\"yaxis\":\"y\",\"type\":\"scatter\"}],                        {\"template\":{\"data\":{\"bar\":[{\"error_x\":{\"color\":\"#2a3f5f\"},\"error_y\":{\"color\":\"#2a3f5f\"},\"marker\":{\"line\":{\"color\":\"#E5ECF6\",\"width\":0.5},\"pattern\":{\"fillmode\":\"overlay\",\"size\":10,\"solidity\":0.2}},\"type\":\"bar\"}],\"barpolar\":[{\"marker\":{\"line\":{\"color\":\"#E5ECF6\",\"width\":0.5},\"pattern\":{\"fillmode\":\"overlay\",\"size\":10,\"solidity\":0.2}},\"type\":\"barpolar\"}],\"carpet\":[{\"aaxis\":{\"endlinecolor\":\"#2a3f5f\",\"gridcolor\":\"white\",\"linecolor\":\"white\",\"minorgridcolor\":\"white\",\"startlinecolor\":\"#2a3f5f\"},\"baxis\":{\"endlinecolor\":\"#2a3f5f\",\"gridcolor\":\"white\",\"linecolor\":\"white\",\"minorgridcolor\":\"white\",\"startlinecolor\":\"#2a3f5f\"},\"type\":\"carpet\"}],\"choropleth\":[{\"colorbar\":{\"outlinewidth\":0,\"ticks\":\"\"},\"type\":\"choropleth\"}],\"contour\":[{\"colorbar\":{\"outlinewidth\":0,\"ticks\":\"\"},\"colorscale\":[[0.0,\"#0d0887\"],[0.1111111111111111,\"#46039f\"],[0.2222222222222222,\"#7201a8\"],[0.3333333333333333,\"#9c179e\"],[0.4444444444444444,\"#bd3786\"],[0.5555555555555556,\"#d8576b\"],[0.6666666666666666,\"#ed7953\"],[0.7777777777777778,\"#fb9f3a\"],[0.8888888888888888,\"#fdca26\"],[1.0,\"#f0f921\"]],\"type\":\"contour\"}],\"contourcarpet\":[{\"colorbar\":{\"outlinewidth\":0,\"ticks\":\"\"},\"type\":\"contourcarpet\"}],\"heatmap\":[{\"colorbar\":{\"outlinewidth\":0,\"ticks\":\"\"},\"colorscale\":[[0.0,\"#0d0887\"],[0.1111111111111111,\"#46039f\"],[0.2222222222222222,\"#7201a8\"],[0.3333333333333333,\"#9c179e\"],[0.4444444444444444,\"#bd3786\"],[0.5555555555555556,\"#d8576b\"],[0.6666666666666666,\"#ed7953\"],[0.7777777777777778,\"#fb9f3a\"],[0.8888888888888888,\"#fdca26\"],[1.0,\"#f0f921\"]],\"type\":\"heatmap\"}],\"heatmapgl\":[{\"colorbar\":{\"outlinewidth\":0,\"ticks\":\"\"},\"colorscale\":[[0.0,\"#0d0887\"],[0.1111111111111111,\"#46039f\"],[0.2222222222222222,\"#7201a8\"],[0.3333333333333333,\"#9c179e\"],[0.4444444444444444,\"#bd3786\"],[0.5555555555555556,\"#d8576b\"],[0.6666666666666666,\"#ed7953\"],[0.7777777777777778,\"#fb9f3a\"],[0.8888888888888888,\"#fdca26\"],[1.0,\"#f0f921\"]],\"type\":\"heatmapgl\"}],\"histogram\":[{\"marker\":{\"pattern\":{\"fillmode\":\"overlay\",\"size\":10,\"solidity\":0.2}},\"type\":\"histogram\"}],\"histogram2d\":[{\"colorbar\":{\"outlinewidth\":0,\"ticks\":\"\"},\"colorscale\":[[0.0,\"#0d0887\"],[0.1111111111111111,\"#46039f\"],[0.2222222222222222,\"#7201a8\"],[0.3333333333333333,\"#9c179e\"],[0.4444444444444444,\"#bd3786\"],[0.5555555555555556,\"#d8576b\"],[0.6666666666666666,\"#ed7953\"],[0.7777777777777778,\"#fb9f3a\"],[0.8888888888888888,\"#fdca26\"],[1.0,\"#f0f921\"]],\"type\":\"histogram2d\"}],\"histogram2dcontour\":[{\"colorbar\":{\"outlinewidth\":0,\"ticks\":\"\"},\"colorscale\":[[0.0,\"#0d0887\"],[0.1111111111111111,\"#46039f\"],[0.2222222222222222,\"#7201a8\"],[0.3333333333333333,\"#9c179e\"],[0.4444444444444444,\"#bd3786\"],[0.5555555555555556,\"#d8576b\"],[0.6666666666666666,\"#ed7953\"],[0.7777777777777778,\"#fb9f3a\"],[0.8888888888888888,\"#fdca26\"],[1.0,\"#f0f921\"]],\"type\":\"histogram2dcontour\"}],\"mesh3d\":[{\"colorbar\":{\"outlinewidth\":0,\"ticks\":\"\"},\"type\":\"mesh3d\"}],\"parcoords\":[{\"line\":{\"colorbar\":{\"outlinewidth\":0,\"ticks\":\"\"}},\"type\":\"parcoords\"}],\"pie\":[{\"automargin\":true,\"type\":\"pie\"}],\"scatter\":[{\"marker\":{\"colorbar\":{\"outlinewidth\":0,\"ticks\":\"\"}},\"type\":\"scatter\"}],\"scatter3d\":[{\"line\":{\"colorbar\":{\"outlinewidth\":0,\"ticks\":\"\"}},\"marker\":{\"colorbar\":{\"outlinewidth\":0,\"ticks\":\"\"}},\"type\":\"scatter3d\"}],\"scattercarpet\":[{\"marker\":{\"colorbar\":{\"outlinewidth\":0,\"ticks\":\"\"}},\"type\":\"scattercarpet\"}],\"scattergeo\":[{\"marker\":{\"colorbar\":{\"outlinewidth\":0,\"ticks\":\"\"}},\"type\":\"scattergeo\"}],\"scattergl\":[{\"marker\":{\"colorbar\":{\"outlinewidth\":0,\"ticks\":\"\"}},\"type\":\"scattergl\"}],\"scattermapbox\":[{\"marker\":{\"colorbar\":{\"outlinewidth\":0,\"ticks\":\"\"}},\"type\":\"scattermapbox\"}],\"scatterpolar\":[{\"marker\":{\"colorbar\":{\"outlinewidth\":0,\"ticks\":\"\"}},\"type\":\"scatterpolar\"}],\"scatterpolargl\":[{\"marker\":{\"colorbar\":{\"outlinewidth\":0,\"ticks\":\"\"}},\"type\":\"scatterpolargl\"}],\"scatterternary\":[{\"marker\":{\"colorbar\":{\"outlinewidth\":0,\"ticks\":\"\"}},\"type\":\"scatterternary\"}],\"surface\":[{\"colorbar\":{\"outlinewidth\":0,\"ticks\":\"\"},\"colorscale\":[[0.0,\"#0d0887\"],[0.1111111111111111,\"#46039f\"],[0.2222222222222222,\"#7201a8\"],[0.3333333333333333,\"#9c179e\"],[0.4444444444444444,\"#bd3786\"],[0.5555555555555556,\"#d8576b\"],[0.6666666666666666,\"#ed7953\"],[0.7777777777777778,\"#fb9f3a\"],[0.8888888888888888,\"#fdca26\"],[1.0,\"#f0f921\"]],\"type\":\"surface\"}],\"table\":[{\"cells\":{\"fill\":{\"color\":\"#EBF0F8\"},\"line\":{\"color\":\"white\"}},\"header\":{\"fill\":{\"color\":\"#C8D4E3\"},\"line\":{\"color\":\"white\"}},\"type\":\"table\"}]},\"layout\":{\"annotationdefaults\":{\"arrowcolor\":\"#2a3f5f\",\"arrowhead\":0,\"arrowwidth\":1},\"autotypenumbers\":\"strict\",\"coloraxis\":{\"colorbar\":{\"outlinewidth\":0,\"ticks\":\"\"}},\"colorscale\":{\"diverging\":[[0,\"#8e0152\"],[0.1,\"#c51b7d\"],[0.2,\"#de77ae\"],[0.3,\"#f1b6da\"],[0.4,\"#fde0ef\"],[0.5,\"#f7f7f7\"],[0.6,\"#e6f5d0\"],[0.7,\"#b8e186\"],[0.8,\"#7fbc41\"],[0.9,\"#4d9221\"],[1,\"#276419\"]],\"sequential\":[[0.0,\"#0d0887\"],[0.1111111111111111,\"#46039f\"],[0.2222222222222222,\"#7201a8\"],[0.3333333333333333,\"#9c179e\"],[0.4444444444444444,\"#bd3786\"],[0.5555555555555556,\"#d8576b\"],[0.6666666666666666,\"#ed7953\"],[0.7777777777777778,\"#fb9f3a\"],[0.8888888888888888,\"#fdca26\"],[1.0,\"#f0f921\"]],\"sequentialminus\":[[0.0,\"#0d0887\"],[0.1111111111111111,\"#46039f\"],[0.2222222222222222,\"#7201a8\"],[0.3333333333333333,\"#9c179e\"],[0.4444444444444444,\"#bd3786\"],[0.5555555555555556,\"#d8576b\"],[0.6666666666666666,\"#ed7953\"],[0.7777777777777778,\"#fb9f3a\"],[0.8888888888888888,\"#fdca26\"],[1.0,\"#f0f921\"]]},\"colorway\":[\"#636efa\",\"#EF553B\",\"#00cc96\",\"#ab63fa\",\"#FFA15A\",\"#19d3f3\",\"#FF6692\",\"#B6E880\",\"#FF97FF\",\"#FECB52\"],\"font\":{\"color\":\"#2a3f5f\"},\"geo\":{\"bgcolor\":\"white\",\"lakecolor\":\"white\",\"landcolor\":\"#E5ECF6\",\"showlakes\":true,\"showland\":true,\"subunitcolor\":\"white\"},\"hoverlabel\":{\"align\":\"left\"},\"hovermode\":\"closest\",\"mapbox\":{\"style\":\"light\"},\"paper_bgcolor\":\"white\",\"plot_bgcolor\":\"#E5ECF6\",\"polar\":{\"angularaxis\":{\"gridcolor\":\"white\",\"linecolor\":\"white\",\"ticks\":\"\"},\"bgcolor\":\"#E5ECF6\",\"radialaxis\":{\"gridcolor\":\"white\",\"linecolor\":\"white\",\"ticks\":\"\"}},\"scene\":{\"xaxis\":{\"backgroundcolor\":\"#E5ECF6\",\"gridcolor\":\"white\",\"gridwidth\":2,\"linecolor\":\"white\",\"showbackground\":true,\"ticks\":\"\",\"zerolinecolor\":\"white\"},\"yaxis\":{\"backgroundcolor\":\"#E5ECF6\",\"gridcolor\":\"white\",\"gridwidth\":2,\"linecolor\":\"white\",\"showbackground\":true,\"ticks\":\"\",\"zerolinecolor\":\"white\"},\"zaxis\":{\"backgroundcolor\":\"#E5ECF6\",\"gridcolor\":\"white\",\"gridwidth\":2,\"linecolor\":\"white\",\"showbackground\":true,\"ticks\":\"\",\"zerolinecolor\":\"white\"}},\"shapedefaults\":{\"line\":{\"color\":\"#2a3f5f\"}},\"ternary\":{\"aaxis\":{\"gridcolor\":\"white\",\"linecolor\":\"white\",\"ticks\":\"\"},\"baxis\":{\"gridcolor\":\"white\",\"linecolor\":\"white\",\"ticks\":\"\"},\"bgcolor\":\"#E5ECF6\",\"caxis\":{\"gridcolor\":\"white\",\"linecolor\":\"white\",\"ticks\":\"\"}},\"title\":{\"x\":0.05},\"xaxis\":{\"automargin\":true,\"gridcolor\":\"white\",\"linecolor\":\"white\",\"ticks\":\"\",\"title\":{\"standoff\":15},\"zerolinecolor\":\"white\",\"zerolinewidth\":2},\"yaxis\":{\"automargin\":true,\"gridcolor\":\"white\",\"linecolor\":\"white\",\"ticks\":\"\",\"title\":{\"standoff\":15},\"zerolinecolor\":\"white\",\"zerolinewidth\":2}}},\"xaxis\":{\"anchor\":\"y\",\"domain\":[0.0,1.0],\"title\":{\"text\":\"Year\"}},\"yaxis\":{\"anchor\":\"x\",\"domain\":[0.0,1.0],\"title\":{\"text\":\"Value\"}},\"legend\":{\"title\":{\"text\":\"Item\"},\"tracegroupgap\":0},\"title\":{\"text\":\"Canada\"}},                        {\"responsive\": true}                    ).then(function(){\n",
              "                            \n",
              "var gd = document.getElementById('2d6c93a7-8a57-40a7-820f-eb08644933db');\n",
              "var x = new MutationObserver(function (mutations, observer) {{\n",
              "        var display = window.getComputedStyle(gd).display;\n",
              "        if (!display || display === 'none') {{\n",
              "            console.log([gd, 'removed!']);\n",
              "            Plotly.purge(gd);\n",
              "            observer.disconnect();\n",
              "        }}\n",
              "}});\n",
              "\n",
              "// Listen for the removal of the full notebook cells\n",
              "var notebookContainer = gd.closest('#notebook-container');\n",
              "if (notebookContainer) {{\n",
              "    x.observe(notebookContainer, {childList: true});\n",
              "}}\n",
              "\n",
              "// Listen for the clearing of the current output cell\n",
              "var outputEl = gd.closest('.output');\n",
              "if (outputEl) {{\n",
              "    x.observe(outputEl, {childList: true});\n",
              "}}\n",
              "\n",
              "                        })                };                            </script>        </div>\n",
              "</body>\n",
              "</html>"
            ]
          },
          "metadata": {}
        },
        {
          "output_type": "display_data",
          "data": {
            "text/html": [
              "<html>\n",
              "<head><meta charset=\"utf-8\" /></head>\n",
              "<body>\n",
              "    <div>            <script src=\"https://cdnjs.cloudflare.com/ajax/libs/mathjax/2.7.5/MathJax.js?config=TeX-AMS-MML_SVG\"></script><script type=\"text/javascript\">if (window.MathJax) {MathJax.Hub.Config({SVG: {font: \"STIX-Web\"}});}</script>                <script type=\"text/javascript\">window.PlotlyConfig = {MathJaxConfig: 'local'};</script>\n",
              "        <script src=\"https://cdn.plot.ly/plotly-2.8.3.min.js\"></script>                <div id=\"93c2726b-02c1-45e3-9860-8e8354bb945a\" class=\"plotly-graph-div\" style=\"height:525px; width:100%;\"></div>            <script type=\"text/javascript\">                                    window.PLOTLYENV=window.PLOTLYENV || {};                                    if (document.getElementById(\"93c2726b-02c1-45e3-9860-8e8354bb945a\")) {                    Plotly.newPlot(                        \"93c2726b-02c1-45e3-9860-8e8354bb945a\",                        [{\"hovertemplate\":\"Item=Ammonium nitrate (AN)<br>Year=%{x}<br>Value=%{y}<extra></extra>\",\"legendgroup\":\"Ammonium nitrate (AN)\",\"line\":{\"color\":\"#636efa\",\"dash\":\"solid\"},\"marker\":{\"symbol\":\"circle\"},\"mode\":\"markers+lines\",\"name\":\"Ammonium nitrate (AN)\",\"orientation\":\"v\",\"showlegend\":true,\"x\":[2015,2016,2017,2018,2019],\"xaxis\":\"x\",\"y\":[122.33,248.23,509.8,10667.16,2428.87],\"yaxis\":\"y\",\"type\":\"scatter\"},{\"hovertemplate\":\"Item=Ammonium sulphate<br>Year=%{x}<br>Value=%{y}<extra></extra>\",\"legendgroup\":\"Ammonium sulphate\",\"line\":{\"color\":\"#EF553B\",\"dash\":\"solid\"},\"marker\":{\"symbol\":\"circle\"},\"mode\":\"markers+lines\",\"name\":\"Ammonium sulphate\",\"orientation\":\"v\",\"showlegend\":true,\"x\":[2015,2016,2017,2018,2019],\"xaxis\":\"x\",\"y\":[6.0,2196.0,1545.1,7.0,58.0],\"yaxis\":\"y\",\"type\":\"scatter\"},{\"hovertemplate\":\"Item=Diammonium phosphate (DAP)<br>Year=%{x}<br>Value=%{y}<extra></extra>\",\"legendgroup\":\"Diammonium phosphate (DAP)\",\"line\":{\"color\":\"#00cc96\",\"dash\":\"solid\"},\"marker\":{\"symbol\":\"circle\"},\"mode\":\"markers+lines\",\"name\":\"Diammonium phosphate (DAP)\",\"orientation\":\"v\",\"showlegend\":true,\"x\":[2015,2016,2017,2018,2019],\"xaxis\":\"x\",\"y\":[1277734.69,1762587.08,2335459.47,3131572.65,2879086.93],\"yaxis\":\"y\",\"type\":\"scatter\"},{\"hovertemplate\":\"Item=Fertilizers n.e.c.<br>Year=%{x}<br>Value=%{y}<extra></extra>\",\"legendgroup\":\"Fertilizers n.e.c.\",\"line\":{\"color\":\"#ab63fa\",\"dash\":\"solid\"},\"marker\":{\"symbol\":\"circle\"},\"mode\":\"markers+lines\",\"name\":\"Fertilizers n.e.c.\",\"orientation\":\"v\",\"showlegend\":true,\"x\":[2015,2016,2017,2018,2019],\"xaxis\":\"x\",\"y\":[460.54,194.4,560.19,424.36,1530.43],\"yaxis\":\"y\",\"type\":\"scatter\"},{\"hovertemplate\":\"Item=Monoammonium phosphate (MAP)<br>Year=%{x}<br>Value=%{y}<extra></extra>\",\"legendgroup\":\"Monoammonium phosphate (MAP)\",\"line\":{\"color\":\"#FFA15A\",\"dash\":\"solid\"},\"marker\":{\"symbol\":\"circle\"},\"mode\":\"markers+lines\",\"name\":\"Monoammonium phosphate (MAP)\",\"orientation\":\"v\",\"showlegend\":true,\"x\":[2015,2016,2017,2018,2019],\"xaxis\":\"x\",\"y\":[1310089.91,2120923.75,2333554.03,2450918.43,3165141.75],\"yaxis\":\"y\",\"type\":\"scatter\"},{\"hovertemplate\":\"Item=NPK fertilizers<br>Year=%{x}<br>Value=%{y}<extra></extra>\",\"legendgroup\":\"NPK fertilizers\",\"line\":{\"color\":\"#19d3f3\",\"dash\":\"solid\"},\"marker\":{\"symbol\":\"circle\"},\"mode\":\"markers+lines\",\"name\":\"NPK fertilizers\",\"orientation\":\"v\",\"showlegend\":true,\"x\":[2015,2016,2017,2018,2019],\"xaxis\":\"x\",\"y\":[440413.93,836957.3,1163310.55,965242.83,753477.94],\"yaxis\":\"y\",\"type\":\"scatter\"},{\"hovertemplate\":\"Item=Other NP compounds<br>Year=%{x}<br>Value=%{y}<extra></extra>\",\"legendgroup\":\"Other NP compounds\",\"line\":{\"color\":\"#FF6692\",\"dash\":\"solid\"},\"marker\":{\"symbol\":\"circle\"},\"mode\":\"markers+lines\",\"name\":\"Other NP compounds\",\"orientation\":\"v\",\"showlegend\":true,\"x\":[2015,2016,2017,2018,2019],\"xaxis\":\"x\",\"y\":[427778.81,812847.35,1207761.05,738990.11,990343.07],\"yaxis\":\"y\",\"type\":\"scatter\"},{\"hovertemplate\":\"Item=Other nitrogenous fertilizers, n.e.c.<br>Year=%{x}<br>Value=%{y}<extra></extra>\",\"legendgroup\":\"Other nitrogenous fertilizers, n.e.c.\",\"line\":{\"color\":\"#B6E880\",\"dash\":\"solid\"},\"marker\":{\"symbol\":\"circle\"},\"mode\":\"markers+lines\",\"name\":\"Other nitrogenous fertilizers, n.e.c.\",\"orientation\":\"v\",\"showlegend\":true,\"x\":[2015,2016,2017,2018,2019],\"xaxis\":\"x\",\"y\":[5.41,33.92,11.12,0.46,175.31],\"yaxis\":\"y\",\"type\":\"scatter\"},{\"hovertemplate\":\"Item=Other phosphatic fertilizers, n.e.c.<br>Year=%{x}<br>Value=%{y}<extra></extra>\",\"legendgroup\":\"Other phosphatic fertilizers, n.e.c.\",\"line\":{\"color\":\"#FF97FF\",\"dash\":\"solid\"},\"marker\":{\"symbol\":\"circle\"},\"mode\":\"markers+lines\",\"name\":\"Other phosphatic fertilizers, n.e.c.\",\"orientation\":\"v\",\"showlegend\":true,\"x\":[2015,2016,2017],\"xaxis\":\"x\",\"y\":[10830.85,2282.0,700.0],\"yaxis\":\"y\",\"type\":\"scatter\"},{\"hovertemplate\":\"Item=Other potassic fertilizers, n.e.c.<br>Year=%{x}<br>Value=%{y}<extra></extra>\",\"legendgroup\":\"Other potassic fertilizers, n.e.c.\",\"line\":{\"color\":\"#FECB52\",\"dash\":\"solid\"},\"marker\":{\"symbol\":\"circle\"},\"mode\":\"markers+lines\",\"name\":\"Other potassic fertilizers, n.e.c.\",\"orientation\":\"v\",\"showlegend\":true,\"x\":[2015,2016,2018,2019],\"xaxis\":\"x\",\"y\":[7.39,24.0,8.2,7.65],\"yaxis\":\"y\",\"type\":\"scatter\"},{\"hovertemplate\":\"Item=PK compounds<br>Year=%{x}<br>Value=%{y}<extra></extra>\",\"legendgroup\":\"PK compounds\",\"line\":{\"color\":\"#636efa\",\"dash\":\"solid\"},\"marker\":{\"symbol\":\"circle\"},\"mode\":\"markers+lines\",\"name\":\"PK compounds\",\"orientation\":\"v\",\"showlegend\":true,\"x\":[2015,2016,2017,2018,2019],\"xaxis\":\"x\",\"y\":[3.1,5.5,5.39,9.81,8.77],\"yaxis\":\"y\",\"type\":\"scatter\"},{\"hovertemplate\":\"Item=Phosphate rock<br>Year=%{x}<br>Value=%{y}<extra></extra>\",\"legendgroup\":\"Phosphate rock\",\"line\":{\"color\":\"#EF553B\",\"dash\":\"solid\"},\"marker\":{\"symbol\":\"circle\"},\"mode\":\"markers+lines\",\"name\":\"Phosphate rock\",\"orientation\":\"v\",\"showlegend\":true,\"x\":[2015,2016,2017,2018,2019],\"xaxis\":\"x\",\"y\":[8525418.2,7903209.33,11061084.69,11250933.61,9495475.39],\"yaxis\":\"y\",\"type\":\"scatter\"},{\"hovertemplate\":\"Item=Potassium nitrate<br>Year=%{x}<br>Value=%{y}<extra></extra>\",\"legendgroup\":\"Potassium nitrate\",\"line\":{\"color\":\"#00cc96\",\"dash\":\"solid\"},\"marker\":{\"symbol\":\"circle\"},\"mode\":\"markers+lines\",\"name\":\"Potassium nitrate\",\"orientation\":\"v\",\"showlegend\":true,\"x\":[2015,2016,2017,2018,2019],\"xaxis\":\"x\",\"y\":[3.38,5.2,32.1,75.84,89.1],\"yaxis\":\"y\",\"type\":\"scatter\"},{\"hovertemplate\":\"Item=Potassium sulphate (sulphate of potash) (SOP)<br>Year=%{x}<br>Value=%{y}<extra></extra>\",\"legendgroup\":\"Potassium sulphate (sulphate of potash) (SOP)\",\"line\":{\"color\":\"#ab63fa\",\"dash\":\"solid\"},\"marker\":{\"symbol\":\"circle\"},\"mode\":\"markers+lines\",\"name\":\"Potassium sulphate (sulphate of potash) (SOP)\",\"orientation\":\"v\",\"showlegend\":true,\"x\":[2015,2016,2017,2018,2019],\"xaxis\":\"x\",\"y\":[31.52,20.0,9.0,27.7,136.0],\"yaxis\":\"y\",\"type\":\"scatter\"},{\"hovertemplate\":\"Item=Superphosphates above 35%<br>Year=%{x}<br>Value=%{y}<extra></extra>\",\"legendgroup\":\"Superphosphates above 35%\",\"line\":{\"color\":\"#FFA15A\",\"dash\":\"solid\"},\"marker\":{\"symbol\":\"circle\"},\"mode\":\"markers+lines\",\"name\":\"Superphosphates above 35%\",\"orientation\":\"v\",\"showlegend\":true,\"x\":[2015,2016,2017,2018,2019],\"xaxis\":\"x\",\"y\":[811261.77,1066746.05,1084774.27,1062635.32,1245546.34],\"yaxis\":\"y\",\"type\":\"scatter\"},{\"hovertemplate\":\"Item=Urea<br>Year=%{x}<br>Value=%{y}<extra></extra>\",\"legendgroup\":\"Urea\",\"line\":{\"color\":\"#19d3f3\",\"dash\":\"solid\"},\"marker\":{\"symbol\":\"circle\"},\"mode\":\"markers+lines\",\"name\":\"Urea\",\"orientation\":\"v\",\"showlegend\":true,\"x\":[2015,2016,2017,2018,2019],\"xaxis\":\"x\",\"y\":[14.33,50.0,1540.0,261.0,114.92],\"yaxis\":\"y\",\"type\":\"scatter\"},{\"hovertemplate\":\"Item=Calcium ammonium nitrate (CAN) and other mixtures with calcium carbonate<br>Year=%{x}<br>Value=%{y}<extra></extra>\",\"legendgroup\":\"Calcium ammonium nitrate (CAN) and other mixtures with calcium carbonate\",\"line\":{\"color\":\"#FF6692\",\"dash\":\"solid\"},\"marker\":{\"symbol\":\"circle\"},\"mode\":\"markers+lines\",\"name\":\"Calcium ammonium nitrate (CAN) and other mixtures with calcium carbonate\",\"orientation\":\"v\",\"showlegend\":true,\"x\":[2018],\"xaxis\":\"x\",\"y\":[1.0],\"yaxis\":\"y\",\"type\":\"scatter\"},{\"hovertemplate\":\"Item=Potassium chloride (muriate of potash) (MOP)<br>Year=%{x}<br>Value=%{y}<extra></extra>\",\"legendgroup\":\"Potassium chloride (muriate of potash) (MOP)\",\"line\":{\"color\":\"#B6E880\",\"dash\":\"solid\"},\"marker\":{\"symbol\":\"circle\"},\"mode\":\"markers+lines\",\"name\":\"Potassium chloride (muriate of potash) (MOP)\",\"orientation\":\"v\",\"showlegend\":true,\"x\":[2018,2019],\"xaxis\":\"x\",\"y\":[1001.5,12837.98],\"yaxis\":\"y\",\"type\":\"scatter\"},{\"hovertemplate\":\"Item=Superphosphates, other<br>Year=%{x}<br>Value=%{y}<extra></extra>\",\"legendgroup\":\"Superphosphates, other\",\"line\":{\"color\":\"#FF97FF\",\"dash\":\"solid\"},\"marker\":{\"symbol\":\"circle\"},\"mode\":\"markers+lines\",\"name\":\"Superphosphates, other\",\"orientation\":\"v\",\"showlegend\":true,\"x\":[2018],\"xaxis\":\"x\",\"y\":[0.05],\"yaxis\":\"y\",\"type\":\"scatter\"},{\"hovertemplate\":\"Item=Ammonia, anhydrous<br>Year=%{x}<br>Value=%{y}<extra></extra>\",\"legendgroup\":\"Ammonia, anhydrous\",\"line\":{\"color\":\"#FECB52\",\"dash\":\"solid\"},\"marker\":{\"symbol\":\"circle\"},\"mode\":\"markers+lines\",\"name\":\"Ammonia, anhydrous\",\"orientation\":\"v\",\"showlegend\":true,\"x\":[2019],\"xaxis\":\"x\",\"y\":[0.05],\"yaxis\":\"y\",\"type\":\"scatter\"}],                        {\"template\":{\"data\":{\"bar\":[{\"error_x\":{\"color\":\"#2a3f5f\"},\"error_y\":{\"color\":\"#2a3f5f\"},\"marker\":{\"line\":{\"color\":\"#E5ECF6\",\"width\":0.5},\"pattern\":{\"fillmode\":\"overlay\",\"size\":10,\"solidity\":0.2}},\"type\":\"bar\"}],\"barpolar\":[{\"marker\":{\"line\":{\"color\":\"#E5ECF6\",\"width\":0.5},\"pattern\":{\"fillmode\":\"overlay\",\"size\":10,\"solidity\":0.2}},\"type\":\"barpolar\"}],\"carpet\":[{\"aaxis\":{\"endlinecolor\":\"#2a3f5f\",\"gridcolor\":\"white\",\"linecolor\":\"white\",\"minorgridcolor\":\"white\",\"startlinecolor\":\"#2a3f5f\"},\"baxis\":{\"endlinecolor\":\"#2a3f5f\",\"gridcolor\":\"white\",\"linecolor\":\"white\",\"minorgridcolor\":\"white\",\"startlinecolor\":\"#2a3f5f\"},\"type\":\"carpet\"}],\"choropleth\":[{\"colorbar\":{\"outlinewidth\":0,\"ticks\":\"\"},\"type\":\"choropleth\"}],\"contour\":[{\"colorbar\":{\"outlinewidth\":0,\"ticks\":\"\"},\"colorscale\":[[0.0,\"#0d0887\"],[0.1111111111111111,\"#46039f\"],[0.2222222222222222,\"#7201a8\"],[0.3333333333333333,\"#9c179e\"],[0.4444444444444444,\"#bd3786\"],[0.5555555555555556,\"#d8576b\"],[0.6666666666666666,\"#ed7953\"],[0.7777777777777778,\"#fb9f3a\"],[0.8888888888888888,\"#fdca26\"],[1.0,\"#f0f921\"]],\"type\":\"contour\"}],\"contourcarpet\":[{\"colorbar\":{\"outlinewidth\":0,\"ticks\":\"\"},\"type\":\"contourcarpet\"}],\"heatmap\":[{\"colorbar\":{\"outlinewidth\":0,\"ticks\":\"\"},\"colorscale\":[[0.0,\"#0d0887\"],[0.1111111111111111,\"#46039f\"],[0.2222222222222222,\"#7201a8\"],[0.3333333333333333,\"#9c179e\"],[0.4444444444444444,\"#bd3786\"],[0.5555555555555556,\"#d8576b\"],[0.6666666666666666,\"#ed7953\"],[0.7777777777777778,\"#fb9f3a\"],[0.8888888888888888,\"#fdca26\"],[1.0,\"#f0f921\"]],\"type\":\"heatmap\"}],\"heatmapgl\":[{\"colorbar\":{\"outlinewidth\":0,\"ticks\":\"\"},\"colorscale\":[[0.0,\"#0d0887\"],[0.1111111111111111,\"#46039f\"],[0.2222222222222222,\"#7201a8\"],[0.3333333333333333,\"#9c179e\"],[0.4444444444444444,\"#bd3786\"],[0.5555555555555556,\"#d8576b\"],[0.6666666666666666,\"#ed7953\"],[0.7777777777777778,\"#fb9f3a\"],[0.8888888888888888,\"#fdca26\"],[1.0,\"#f0f921\"]],\"type\":\"heatmapgl\"}],\"histogram\":[{\"marker\":{\"pattern\":{\"fillmode\":\"overlay\",\"size\":10,\"solidity\":0.2}},\"type\":\"histogram\"}],\"histogram2d\":[{\"colorbar\":{\"outlinewidth\":0,\"ticks\":\"\"},\"colorscale\":[[0.0,\"#0d0887\"],[0.1111111111111111,\"#46039f\"],[0.2222222222222222,\"#7201a8\"],[0.3333333333333333,\"#9c179e\"],[0.4444444444444444,\"#bd3786\"],[0.5555555555555556,\"#d8576b\"],[0.6666666666666666,\"#ed7953\"],[0.7777777777777778,\"#fb9f3a\"],[0.8888888888888888,\"#fdca26\"],[1.0,\"#f0f921\"]],\"type\":\"histogram2d\"}],\"histogram2dcontour\":[{\"colorbar\":{\"outlinewidth\":0,\"ticks\":\"\"},\"colorscale\":[[0.0,\"#0d0887\"],[0.1111111111111111,\"#46039f\"],[0.2222222222222222,\"#7201a8\"],[0.3333333333333333,\"#9c179e\"],[0.4444444444444444,\"#bd3786\"],[0.5555555555555556,\"#d8576b\"],[0.6666666666666666,\"#ed7953\"],[0.7777777777777778,\"#fb9f3a\"],[0.8888888888888888,\"#fdca26\"],[1.0,\"#f0f921\"]],\"type\":\"histogram2dcontour\"}],\"mesh3d\":[{\"colorbar\":{\"outlinewidth\":0,\"ticks\":\"\"},\"type\":\"mesh3d\"}],\"parcoords\":[{\"line\":{\"colorbar\":{\"outlinewidth\":0,\"ticks\":\"\"}},\"type\":\"parcoords\"}],\"pie\":[{\"automargin\":true,\"type\":\"pie\"}],\"scatter\":[{\"marker\":{\"colorbar\":{\"outlinewidth\":0,\"ticks\":\"\"}},\"type\":\"scatter\"}],\"scatter3d\":[{\"line\":{\"colorbar\":{\"outlinewidth\":0,\"ticks\":\"\"}},\"marker\":{\"colorbar\":{\"outlinewidth\":0,\"ticks\":\"\"}},\"type\":\"scatter3d\"}],\"scattercarpet\":[{\"marker\":{\"colorbar\":{\"outlinewidth\":0,\"ticks\":\"\"}},\"type\":\"scattercarpet\"}],\"scattergeo\":[{\"marker\":{\"colorbar\":{\"outlinewidth\":0,\"ticks\":\"\"}},\"type\":\"scattergeo\"}],\"scattergl\":[{\"marker\":{\"colorbar\":{\"outlinewidth\":0,\"ticks\":\"\"}},\"type\":\"scattergl\"}],\"scattermapbox\":[{\"marker\":{\"colorbar\":{\"outlinewidth\":0,\"ticks\":\"\"}},\"type\":\"scattermapbox\"}],\"scatterpolar\":[{\"marker\":{\"colorbar\":{\"outlinewidth\":0,\"ticks\":\"\"}},\"type\":\"scatterpolar\"}],\"scatterpolargl\":[{\"marker\":{\"colorbar\":{\"outlinewidth\":0,\"ticks\":\"\"}},\"type\":\"scatterpolargl\"}],\"scatterternary\":[{\"marker\":{\"colorbar\":{\"outlinewidth\":0,\"ticks\":\"\"}},\"type\":\"scatterternary\"}],\"surface\":[{\"colorbar\":{\"outlinewidth\":0,\"ticks\":\"\"},\"colorscale\":[[0.0,\"#0d0887\"],[0.1111111111111111,\"#46039f\"],[0.2222222222222222,\"#7201a8\"],[0.3333333333333333,\"#9c179e\"],[0.4444444444444444,\"#bd3786\"],[0.5555555555555556,\"#d8576b\"],[0.6666666666666666,\"#ed7953\"],[0.7777777777777778,\"#fb9f3a\"],[0.8888888888888888,\"#fdca26\"],[1.0,\"#f0f921\"]],\"type\":\"surface\"}],\"table\":[{\"cells\":{\"fill\":{\"color\":\"#EBF0F8\"},\"line\":{\"color\":\"white\"}},\"header\":{\"fill\":{\"color\":\"#C8D4E3\"},\"line\":{\"color\":\"white\"}},\"type\":\"table\"}]},\"layout\":{\"annotationdefaults\":{\"arrowcolor\":\"#2a3f5f\",\"arrowhead\":0,\"arrowwidth\":1},\"autotypenumbers\":\"strict\",\"coloraxis\":{\"colorbar\":{\"outlinewidth\":0,\"ticks\":\"\"}},\"colorscale\":{\"diverging\":[[0,\"#8e0152\"],[0.1,\"#c51b7d\"],[0.2,\"#de77ae\"],[0.3,\"#f1b6da\"],[0.4,\"#fde0ef\"],[0.5,\"#f7f7f7\"],[0.6,\"#e6f5d0\"],[0.7,\"#b8e186\"],[0.8,\"#7fbc41\"],[0.9,\"#4d9221\"],[1,\"#276419\"]],\"sequential\":[[0.0,\"#0d0887\"],[0.1111111111111111,\"#46039f\"],[0.2222222222222222,\"#7201a8\"],[0.3333333333333333,\"#9c179e\"],[0.4444444444444444,\"#bd3786\"],[0.5555555555555556,\"#d8576b\"],[0.6666666666666666,\"#ed7953\"],[0.7777777777777778,\"#fb9f3a\"],[0.8888888888888888,\"#fdca26\"],[1.0,\"#f0f921\"]],\"sequentialminus\":[[0.0,\"#0d0887\"],[0.1111111111111111,\"#46039f\"],[0.2222222222222222,\"#7201a8\"],[0.3333333333333333,\"#9c179e\"],[0.4444444444444444,\"#bd3786\"],[0.5555555555555556,\"#d8576b\"],[0.6666666666666666,\"#ed7953\"],[0.7777777777777778,\"#fb9f3a\"],[0.8888888888888888,\"#fdca26\"],[1.0,\"#f0f921\"]]},\"colorway\":[\"#636efa\",\"#EF553B\",\"#00cc96\",\"#ab63fa\",\"#FFA15A\",\"#19d3f3\",\"#FF6692\",\"#B6E880\",\"#FF97FF\",\"#FECB52\"],\"font\":{\"color\":\"#2a3f5f\"},\"geo\":{\"bgcolor\":\"white\",\"lakecolor\":\"white\",\"landcolor\":\"#E5ECF6\",\"showlakes\":true,\"showland\":true,\"subunitcolor\":\"white\"},\"hoverlabel\":{\"align\":\"left\"},\"hovermode\":\"closest\",\"mapbox\":{\"style\":\"light\"},\"paper_bgcolor\":\"white\",\"plot_bgcolor\":\"#E5ECF6\",\"polar\":{\"angularaxis\":{\"gridcolor\":\"white\",\"linecolor\":\"white\",\"ticks\":\"\"},\"bgcolor\":\"#E5ECF6\",\"radialaxis\":{\"gridcolor\":\"white\",\"linecolor\":\"white\",\"ticks\":\"\"}},\"scene\":{\"xaxis\":{\"backgroundcolor\":\"#E5ECF6\",\"gridcolor\":\"white\",\"gridwidth\":2,\"linecolor\":\"white\",\"showbackground\":true,\"ticks\":\"\",\"zerolinecolor\":\"white\"},\"yaxis\":{\"backgroundcolor\":\"#E5ECF6\",\"gridcolor\":\"white\",\"gridwidth\":2,\"linecolor\":\"white\",\"showbackground\":true,\"ticks\":\"\",\"zerolinecolor\":\"white\"},\"zaxis\":{\"backgroundcolor\":\"#E5ECF6\",\"gridcolor\":\"white\",\"gridwidth\":2,\"linecolor\":\"white\",\"showbackground\":true,\"ticks\":\"\",\"zerolinecolor\":\"white\"}},\"shapedefaults\":{\"line\":{\"color\":\"#2a3f5f\"}},\"ternary\":{\"aaxis\":{\"gridcolor\":\"white\",\"linecolor\":\"white\",\"ticks\":\"\"},\"baxis\":{\"gridcolor\":\"white\",\"linecolor\":\"white\",\"ticks\":\"\"},\"bgcolor\":\"#E5ECF6\",\"caxis\":{\"gridcolor\":\"white\",\"linecolor\":\"white\",\"ticks\":\"\"}},\"title\":{\"x\":0.05},\"xaxis\":{\"automargin\":true,\"gridcolor\":\"white\",\"linecolor\":\"white\",\"ticks\":\"\",\"title\":{\"standoff\":15},\"zerolinecolor\":\"white\",\"zerolinewidth\":2},\"yaxis\":{\"automargin\":true,\"gridcolor\":\"white\",\"linecolor\":\"white\",\"ticks\":\"\",\"title\":{\"standoff\":15},\"zerolinecolor\":\"white\",\"zerolinewidth\":2}}},\"xaxis\":{\"anchor\":\"y\",\"domain\":[0.0,1.0],\"title\":{\"text\":\"Year\"}},\"yaxis\":{\"anchor\":\"x\",\"domain\":[0.0,1.0],\"title\":{\"text\":\"Value\"}},\"legend\":{\"title\":{\"text\":\"Item\"},\"tracegroupgap\":0},\"title\":{\"text\":\"Morocco\"}},                        {\"responsive\": true}                    ).then(function(){\n",
              "                            \n",
              "var gd = document.getElementById('93c2726b-02c1-45e3-9860-8e8354bb945a');\n",
              "var x = new MutationObserver(function (mutations, observer) {{\n",
              "        var display = window.getComputedStyle(gd).display;\n",
              "        if (!display || display === 'none') {{\n",
              "            console.log([gd, 'removed!']);\n",
              "            Plotly.purge(gd);\n",
              "            observer.disconnect();\n",
              "        }}\n",
              "}});\n",
              "\n",
              "// Listen for the removal of the full notebook cells\n",
              "var notebookContainer = gd.closest('#notebook-container');\n",
              "if (notebookContainer) {{\n",
              "    x.observe(notebookContainer, {childList: true});\n",
              "}}\n",
              "\n",
              "// Listen for the clearing of the current output cell\n",
              "var outputEl = gd.closest('.output');\n",
              "if (outputEl) {{\n",
              "    x.observe(outputEl, {childList: true});\n",
              "}}\n",
              "\n",
              "                        })                };                            </script>        </div>\n",
              "</body>\n",
              "</html>"
            ]
          },
          "metadata": {}
        },
        {
          "output_type": "display_data",
          "data": {
            "text/html": [
              "<html>\n",
              "<head><meta charset=\"utf-8\" /></head>\n",
              "<body>\n",
              "    <div>            <script src=\"https://cdnjs.cloudflare.com/ajax/libs/mathjax/2.7.5/MathJax.js?config=TeX-AMS-MML_SVG\"></script><script type=\"text/javascript\">if (window.MathJax) {MathJax.Hub.Config({SVG: {font: \"STIX-Web\"}});}</script>                <script type=\"text/javascript\">window.PlotlyConfig = {MathJaxConfig: 'local'};</script>\n",
              "        <script src=\"https://cdn.plot.ly/plotly-2.8.3.min.js\"></script>                <div id=\"741850f2-14c5-46e8-9966-c23c5fb89147\" class=\"plotly-graph-div\" style=\"height:525px; width:100%;\"></div>            <script type=\"text/javascript\">                                    window.PLOTLYENV=window.PLOTLYENV || {};                                    if (document.getElementById(\"741850f2-14c5-46e8-9966-c23c5fb89147\")) {                    Plotly.newPlot(                        \"741850f2-14c5-46e8-9966-c23c5fb89147\",                        [{\"hovertemplate\":\"Item=Ammonia, anhydrous<br>Year=%{x}<br>Value=%{y}<extra></extra>\",\"legendgroup\":\"Ammonia, anhydrous\",\"line\":{\"color\":\"#636efa\",\"dash\":\"solid\"},\"marker\":{\"symbol\":\"circle\"},\"mode\":\"markers+lines\",\"name\":\"Ammonia, anhydrous\",\"orientation\":\"v\",\"showlegend\":true,\"x\":[2015,2016,2017,2018,2019],\"xaxis\":\"x\",\"y\":[5715.78,11403.96,31071.48,30213.49,11467.84],\"yaxis\":\"y\",\"type\":\"scatter\"},{\"hovertemplate\":\"Item=Ammonium sulphate<br>Year=%{x}<br>Value=%{y}<extra></extra>\",\"legendgroup\":\"Ammonium sulphate\",\"line\":{\"color\":\"#EF553B\",\"dash\":\"solid\"},\"marker\":{\"symbol\":\"circle\"},\"mode\":\"markers+lines\",\"name\":\"Ammonium sulphate\",\"orientation\":\"v\",\"showlegend\":true,\"x\":[2015,2016,2017,2018,2019],\"xaxis\":\"x\",\"y\":[296078.38,222399.46,197415.55,267242.95,259393.29],\"yaxis\":\"y\",\"type\":\"scatter\"},{\"hovertemplate\":\"Item=Diammonium phosphate (DAP)<br>Year=%{x}<br>Value=%{y}<extra></extra>\",\"legendgroup\":\"Diammonium phosphate (DAP)\",\"line\":{\"color\":\"#00cc96\",\"dash\":\"solid\"},\"marker\":{\"symbol\":\"circle\"},\"mode\":\"markers+lines\",\"name\":\"Diammonium phosphate (DAP)\",\"orientation\":\"v\",\"showlegend\":true,\"x\":[2015,2016,2017,2018,2019],\"xaxis\":\"x\",\"y\":[0.01,0.02,0.03,3.35,3.87],\"yaxis\":\"y\",\"type\":\"scatter\"},{\"hovertemplate\":\"Item=Fertilizers n.e.c.<br>Year=%{x}<br>Value=%{y}<extra></extra>\",\"legendgroup\":\"Fertilizers n.e.c.\",\"line\":{\"color\":\"#ab63fa\",\"dash\":\"solid\"},\"marker\":{\"symbol\":\"circle\"},\"mode\":\"markers+lines\",\"name\":\"Fertilizers n.e.c.\",\"orientation\":\"v\",\"showlegend\":true,\"x\":[2015,2016,2017,2018,2019],\"xaxis\":\"x\",\"y\":[267.33,608.42,1283.6,1924.55,2097.39],\"yaxis\":\"y\",\"type\":\"scatter\"},{\"hovertemplate\":\"Item=Monoammonium phosphate (MAP)<br>Year=%{x}<br>Value=%{y}<extra></extra>\",\"legendgroup\":\"Monoammonium phosphate (MAP)\",\"line\":{\"color\":\"#FFA15A\",\"dash\":\"solid\"},\"marker\":{\"symbol\":\"circle\"},\"mode\":\"markers+lines\",\"name\":\"Monoammonium phosphate (MAP)\",\"orientation\":\"v\",\"showlegend\":true,\"x\":[2015,2016,2019],\"xaxis\":\"x\",\"y\":[11540.1,546.5,18338.5],\"yaxis\":\"y\",\"type\":\"scatter\"},{\"hovertemplate\":\"Item=NPK fertilizers<br>Year=%{x}<br>Value=%{y}<extra></extra>\",\"legendgroup\":\"NPK fertilizers\",\"line\":{\"color\":\"#19d3f3\",\"dash\":\"solid\"},\"marker\":{\"symbol\":\"circle\"},\"mode\":\"markers+lines\",\"name\":\"NPK fertilizers\",\"orientation\":\"v\",\"showlegend\":true,\"x\":[2015,2016,2017,2018,2019],\"xaxis\":\"x\",\"y\":[718073.29,801351.24,864782.75,865965.79,829049.52],\"yaxis\":\"y\",\"type\":\"scatter\"},{\"hovertemplate\":\"Item=Other NP compounds<br>Year=%{x}<br>Value=%{y}<extra></extra>\",\"legendgroup\":\"Other NP compounds\",\"line\":{\"color\":\"#FF6692\",\"dash\":\"solid\"},\"marker\":{\"symbol\":\"circle\"},\"mode\":\"markers+lines\",\"name\":\"Other NP compounds\",\"orientation\":\"v\",\"showlegend\":true,\"x\":[2015,2016,2017,2018,2019],\"xaxis\":\"x\",\"y\":[2228.5,44843.52,35199.56,72758.4,56741.21],\"yaxis\":\"y\",\"type\":\"scatter\"},{\"hovertemplate\":\"Item=Other nitrogenous fertilizers, n.e.c.<br>Year=%{x}<br>Value=%{y}<extra></extra>\",\"legendgroup\":\"Other nitrogenous fertilizers, n.e.c.\",\"line\":{\"color\":\"#B6E880\",\"dash\":\"solid\"},\"marker\":{\"symbol\":\"circle\"},\"mode\":\"markers+lines\",\"name\":\"Other nitrogenous fertilizers, n.e.c.\",\"orientation\":\"v\",\"showlegend\":true,\"x\":[2015,2016,2017,2018,2019],\"xaxis\":\"x\",\"y\":[1.13,4.91,31.67,30.6,29.19],\"yaxis\":\"y\",\"type\":\"scatter\"},{\"hovertemplate\":\"Item=Potassium chloride (muriate of potash) (MOP)<br>Year=%{x}<br>Value=%{y}<extra></extra>\",\"legendgroup\":\"Potassium chloride (muriate of potash) (MOP)\",\"line\":{\"color\":\"#FF97FF\",\"dash\":\"solid\"},\"marker\":{\"symbol\":\"circle\"},\"mode\":\"markers+lines\",\"name\":\"Potassium chloride (muriate of potash) (MOP)\",\"orientation\":\"v\",\"showlegend\":true,\"x\":[2015,2016,2017,2018,2019],\"xaxis\":\"x\",\"y\":[9188923.73,6800538.57,10671309.04,9458033.09,10323959.94],\"yaxis\":\"y\",\"type\":\"scatter\"},{\"hovertemplate\":\"Item=Potassium nitrate<br>Year=%{x}<br>Value=%{y}<extra></extra>\",\"legendgroup\":\"Potassium nitrate\",\"line\":{\"color\":\"#FECB52\",\"dash\":\"solid\"},\"marker\":{\"symbol\":\"circle\"},\"mode\":\"markers+lines\",\"name\":\"Potassium nitrate\",\"orientation\":\"v\",\"showlegend\":true,\"x\":[2015,2016,2018,2019],\"xaxis\":\"x\",\"y\":[1.25,0.1,0.25,15.2],\"yaxis\":\"y\",\"type\":\"scatter\"},{\"hovertemplate\":\"Item=Potassium sulphate (sulphate of potash) (SOP)<br>Year=%{x}<br>Value=%{y}<extra></extra>\",\"legendgroup\":\"Potassium sulphate (sulphate of potash) (SOP)\",\"line\":{\"color\":\"#636efa\",\"dash\":\"solid\"},\"marker\":{\"symbol\":\"circle\"},\"mode\":\"markers+lines\",\"name\":\"Potassium sulphate (sulphate of potash) (SOP)\",\"orientation\":\"v\",\"showlegend\":true,\"x\":[2015,2016,2017,2018,2019],\"xaxis\":\"x\",\"y\":[4.9,94.99,86.31,6.02,145.78],\"yaxis\":\"y\",\"type\":\"scatter\"},{\"hovertemplate\":\"Item=Urea<br>Year=%{x}<br>Value=%{y}<extra></extra>\",\"legendgroup\":\"Urea\",\"line\":{\"color\":\"#EF553B\",\"dash\":\"solid\"},\"marker\":{\"symbol\":\"circle\"},\"mode\":\"markers+lines\",\"name\":\"Urea\",\"orientation\":\"v\",\"showlegend\":true,\"x\":[2015,2016,2017,2018,2019],\"xaxis\":\"x\",\"y\":[633117.43,471550.03,360901.97,459156.31,256977.03],\"yaxis\":\"y\",\"type\":\"scatter\"},{\"hovertemplate\":\"Item=Urea and ammonium nitrate solutions (UAN)<br>Year=%{x}<br>Value=%{y}<extra></extra>\",\"legendgroup\":\"Urea and ammonium nitrate solutions (UAN)\",\"line\":{\"color\":\"#00cc96\",\"dash\":\"solid\"},\"marker\":{\"symbol\":\"circle\"},\"mode\":\"markers+lines\",\"name\":\"Urea and ammonium nitrate solutions (UAN)\",\"orientation\":\"v\",\"showlegend\":true,\"x\":[2015,2016,2017,2018,2019],\"xaxis\":\"x\",\"y\":[373675.77,308100.53,255788.93,312116.62,518240.94],\"yaxis\":\"y\",\"type\":\"scatter\"},{\"hovertemplate\":\"Item=Phosphate rock<br>Year=%{x}<br>Value=%{y}<extra></extra>\",\"legendgroup\":\"Phosphate rock\",\"line\":{\"color\":\"#ab63fa\",\"dash\":\"solid\"},\"marker\":{\"symbol\":\"circle\"},\"mode\":\"markers+lines\",\"name\":\"Phosphate rock\",\"orientation\":\"v\",\"showlegend\":true,\"x\":[2016,2017,2019],\"xaxis\":\"x\",\"y\":[0.03,0.04,0.19],\"yaxis\":\"y\",\"type\":\"scatter\"},{\"hovertemplate\":\"Item=Other potassic fertilizers, n.e.c.<br>Year=%{x}<br>Value=%{y}<extra></extra>\",\"legendgroup\":\"Other potassic fertilizers, n.e.c.\",\"line\":{\"color\":\"#FFA15A\",\"dash\":\"solid\"},\"marker\":{\"symbol\":\"circle\"},\"mode\":\"markers+lines\",\"name\":\"Other potassic fertilizers, n.e.c.\",\"orientation\":\"v\",\"showlegend\":true,\"x\":[2017],\"xaxis\":\"x\",\"y\":[0.22],\"yaxis\":\"y\",\"type\":\"scatter\"},{\"hovertemplate\":\"Item=PK compounds<br>Year=%{x}<br>Value=%{y}<extra></extra>\",\"legendgroup\":\"PK compounds\",\"line\":{\"color\":\"#19d3f3\",\"dash\":\"solid\"},\"marker\":{\"symbol\":\"circle\"},\"mode\":\"markers+lines\",\"name\":\"PK compounds\",\"orientation\":\"v\",\"showlegend\":true,\"x\":[2017,2018,2019],\"xaxis\":\"x\",\"y\":[0.3,0.04,25.51],\"yaxis\":\"y\",\"type\":\"scatter\"},{\"hovertemplate\":\"Item=Sodium nitrate<br>Year=%{x}<br>Value=%{y}<extra></extra>\",\"legendgroup\":\"Sodium nitrate\",\"line\":{\"color\":\"#FF6692\",\"dash\":\"solid\"},\"marker\":{\"symbol\":\"circle\"},\"mode\":\"markers+lines\",\"name\":\"Sodium nitrate\",\"orientation\":\"v\",\"showlegend\":true,\"x\":[2017,2019],\"xaxis\":\"x\",\"y\":[0.2,4.15],\"yaxis\":\"y\",\"type\":\"scatter\"},{\"hovertemplate\":\"Item=Superphosphates, other<br>Year=%{x}<br>Value=%{y}<extra></extra>\",\"legendgroup\":\"Superphosphates, other\",\"line\":{\"color\":\"#B6E880\",\"dash\":\"solid\"},\"marker\":{\"symbol\":\"circle\"},\"mode\":\"markers+lines\",\"name\":\"Superphosphates, other\",\"orientation\":\"v\",\"showlegend\":true,\"x\":[2017],\"xaxis\":\"x\",\"y\":[8.93],\"yaxis\":\"y\",\"type\":\"scatter\"}],                        {\"template\":{\"data\":{\"bar\":[{\"error_x\":{\"color\":\"#2a3f5f\"},\"error_y\":{\"color\":\"#2a3f5f\"},\"marker\":{\"line\":{\"color\":\"#E5ECF6\",\"width\":0.5},\"pattern\":{\"fillmode\":\"overlay\",\"size\":10,\"solidity\":0.2}},\"type\":\"bar\"}],\"barpolar\":[{\"marker\":{\"line\":{\"color\":\"#E5ECF6\",\"width\":0.5},\"pattern\":{\"fillmode\":\"overlay\",\"size\":10,\"solidity\":0.2}},\"type\":\"barpolar\"}],\"carpet\":[{\"aaxis\":{\"endlinecolor\":\"#2a3f5f\",\"gridcolor\":\"white\",\"linecolor\":\"white\",\"minorgridcolor\":\"white\",\"startlinecolor\":\"#2a3f5f\"},\"baxis\":{\"endlinecolor\":\"#2a3f5f\",\"gridcolor\":\"white\",\"linecolor\":\"white\",\"minorgridcolor\":\"white\",\"startlinecolor\":\"#2a3f5f\"},\"type\":\"carpet\"}],\"choropleth\":[{\"colorbar\":{\"outlinewidth\":0,\"ticks\":\"\"},\"type\":\"choropleth\"}],\"contour\":[{\"colorbar\":{\"outlinewidth\":0,\"ticks\":\"\"},\"colorscale\":[[0.0,\"#0d0887\"],[0.1111111111111111,\"#46039f\"],[0.2222222222222222,\"#7201a8\"],[0.3333333333333333,\"#9c179e\"],[0.4444444444444444,\"#bd3786\"],[0.5555555555555556,\"#d8576b\"],[0.6666666666666666,\"#ed7953\"],[0.7777777777777778,\"#fb9f3a\"],[0.8888888888888888,\"#fdca26\"],[1.0,\"#f0f921\"]],\"type\":\"contour\"}],\"contourcarpet\":[{\"colorbar\":{\"outlinewidth\":0,\"ticks\":\"\"},\"type\":\"contourcarpet\"}],\"heatmap\":[{\"colorbar\":{\"outlinewidth\":0,\"ticks\":\"\"},\"colorscale\":[[0.0,\"#0d0887\"],[0.1111111111111111,\"#46039f\"],[0.2222222222222222,\"#7201a8\"],[0.3333333333333333,\"#9c179e\"],[0.4444444444444444,\"#bd3786\"],[0.5555555555555556,\"#d8576b\"],[0.6666666666666666,\"#ed7953\"],[0.7777777777777778,\"#fb9f3a\"],[0.8888888888888888,\"#fdca26\"],[1.0,\"#f0f921\"]],\"type\":\"heatmap\"}],\"heatmapgl\":[{\"colorbar\":{\"outlinewidth\":0,\"ticks\":\"\"},\"colorscale\":[[0.0,\"#0d0887\"],[0.1111111111111111,\"#46039f\"],[0.2222222222222222,\"#7201a8\"],[0.3333333333333333,\"#9c179e\"],[0.4444444444444444,\"#bd3786\"],[0.5555555555555556,\"#d8576b\"],[0.6666666666666666,\"#ed7953\"],[0.7777777777777778,\"#fb9f3a\"],[0.8888888888888888,\"#fdca26\"],[1.0,\"#f0f921\"]],\"type\":\"heatmapgl\"}],\"histogram\":[{\"marker\":{\"pattern\":{\"fillmode\":\"overlay\",\"size\":10,\"solidity\":0.2}},\"type\":\"histogram\"}],\"histogram2d\":[{\"colorbar\":{\"outlinewidth\":0,\"ticks\":\"\"},\"colorscale\":[[0.0,\"#0d0887\"],[0.1111111111111111,\"#46039f\"],[0.2222222222222222,\"#7201a8\"],[0.3333333333333333,\"#9c179e\"],[0.4444444444444444,\"#bd3786\"],[0.5555555555555556,\"#d8576b\"],[0.6666666666666666,\"#ed7953\"],[0.7777777777777778,\"#fb9f3a\"],[0.8888888888888888,\"#fdca26\"],[1.0,\"#f0f921\"]],\"type\":\"histogram2d\"}],\"histogram2dcontour\":[{\"colorbar\":{\"outlinewidth\":0,\"ticks\":\"\"},\"colorscale\":[[0.0,\"#0d0887\"],[0.1111111111111111,\"#46039f\"],[0.2222222222222222,\"#7201a8\"],[0.3333333333333333,\"#9c179e\"],[0.4444444444444444,\"#bd3786\"],[0.5555555555555556,\"#d8576b\"],[0.6666666666666666,\"#ed7953\"],[0.7777777777777778,\"#fb9f3a\"],[0.8888888888888888,\"#fdca26\"],[1.0,\"#f0f921\"]],\"type\":\"histogram2dcontour\"}],\"mesh3d\":[{\"colorbar\":{\"outlinewidth\":0,\"ticks\":\"\"},\"type\":\"mesh3d\"}],\"parcoords\":[{\"line\":{\"colorbar\":{\"outlinewidth\":0,\"ticks\":\"\"}},\"type\":\"parcoords\"}],\"pie\":[{\"automargin\":true,\"type\":\"pie\"}],\"scatter\":[{\"marker\":{\"colorbar\":{\"outlinewidth\":0,\"ticks\":\"\"}},\"type\":\"scatter\"}],\"scatter3d\":[{\"line\":{\"colorbar\":{\"outlinewidth\":0,\"ticks\":\"\"}},\"marker\":{\"colorbar\":{\"outlinewidth\":0,\"ticks\":\"\"}},\"type\":\"scatter3d\"}],\"scattercarpet\":[{\"marker\":{\"colorbar\":{\"outlinewidth\":0,\"ticks\":\"\"}},\"type\":\"scattercarpet\"}],\"scattergeo\":[{\"marker\":{\"colorbar\":{\"outlinewidth\":0,\"ticks\":\"\"}},\"type\":\"scattergeo\"}],\"scattergl\":[{\"marker\":{\"colorbar\":{\"outlinewidth\":0,\"ticks\":\"\"}},\"type\":\"scattergl\"}],\"scattermapbox\":[{\"marker\":{\"colorbar\":{\"outlinewidth\":0,\"ticks\":\"\"}},\"type\":\"scattermapbox\"}],\"scatterpolar\":[{\"marker\":{\"colorbar\":{\"outlinewidth\":0,\"ticks\":\"\"}},\"type\":\"scatterpolar\"}],\"scatterpolargl\":[{\"marker\":{\"colorbar\":{\"outlinewidth\":0,\"ticks\":\"\"}},\"type\":\"scatterpolargl\"}],\"scatterternary\":[{\"marker\":{\"colorbar\":{\"outlinewidth\":0,\"ticks\":\"\"}},\"type\":\"scatterternary\"}],\"surface\":[{\"colorbar\":{\"outlinewidth\":0,\"ticks\":\"\"},\"colorscale\":[[0.0,\"#0d0887\"],[0.1111111111111111,\"#46039f\"],[0.2222222222222222,\"#7201a8\"],[0.3333333333333333,\"#9c179e\"],[0.4444444444444444,\"#bd3786\"],[0.5555555555555556,\"#d8576b\"],[0.6666666666666666,\"#ed7953\"],[0.7777777777777778,\"#fb9f3a\"],[0.8888888888888888,\"#fdca26\"],[1.0,\"#f0f921\"]],\"type\":\"surface\"}],\"table\":[{\"cells\":{\"fill\":{\"color\":\"#EBF0F8\"},\"line\":{\"color\":\"white\"}},\"header\":{\"fill\":{\"color\":\"#C8D4E3\"},\"line\":{\"color\":\"white\"}},\"type\":\"table\"}]},\"layout\":{\"annotationdefaults\":{\"arrowcolor\":\"#2a3f5f\",\"arrowhead\":0,\"arrowwidth\":1},\"autotypenumbers\":\"strict\",\"coloraxis\":{\"colorbar\":{\"outlinewidth\":0,\"ticks\":\"\"}},\"colorscale\":{\"diverging\":[[0,\"#8e0152\"],[0.1,\"#c51b7d\"],[0.2,\"#de77ae\"],[0.3,\"#f1b6da\"],[0.4,\"#fde0ef\"],[0.5,\"#f7f7f7\"],[0.6,\"#e6f5d0\"],[0.7,\"#b8e186\"],[0.8,\"#7fbc41\"],[0.9,\"#4d9221\"],[1,\"#276419\"]],\"sequential\":[[0.0,\"#0d0887\"],[0.1111111111111111,\"#46039f\"],[0.2222222222222222,\"#7201a8\"],[0.3333333333333333,\"#9c179e\"],[0.4444444444444444,\"#bd3786\"],[0.5555555555555556,\"#d8576b\"],[0.6666666666666666,\"#ed7953\"],[0.7777777777777778,\"#fb9f3a\"],[0.8888888888888888,\"#fdca26\"],[1.0,\"#f0f921\"]],\"sequentialminus\":[[0.0,\"#0d0887\"],[0.1111111111111111,\"#46039f\"],[0.2222222222222222,\"#7201a8\"],[0.3333333333333333,\"#9c179e\"],[0.4444444444444444,\"#bd3786\"],[0.5555555555555556,\"#d8576b\"],[0.6666666666666666,\"#ed7953\"],[0.7777777777777778,\"#fb9f3a\"],[0.8888888888888888,\"#fdca26\"],[1.0,\"#f0f921\"]]},\"colorway\":[\"#636efa\",\"#EF553B\",\"#00cc96\",\"#ab63fa\",\"#FFA15A\",\"#19d3f3\",\"#FF6692\",\"#B6E880\",\"#FF97FF\",\"#FECB52\"],\"font\":{\"color\":\"#2a3f5f\"},\"geo\":{\"bgcolor\":\"white\",\"lakecolor\":\"white\",\"landcolor\":\"#E5ECF6\",\"showlakes\":true,\"showland\":true,\"subunitcolor\":\"white\"},\"hoverlabel\":{\"align\":\"left\"},\"hovermode\":\"closest\",\"mapbox\":{\"style\":\"light\"},\"paper_bgcolor\":\"white\",\"plot_bgcolor\":\"#E5ECF6\",\"polar\":{\"angularaxis\":{\"gridcolor\":\"white\",\"linecolor\":\"white\",\"ticks\":\"\"},\"bgcolor\":\"#E5ECF6\",\"radialaxis\":{\"gridcolor\":\"white\",\"linecolor\":\"white\",\"ticks\":\"\"}},\"scene\":{\"xaxis\":{\"backgroundcolor\":\"#E5ECF6\",\"gridcolor\":\"white\",\"gridwidth\":2,\"linecolor\":\"white\",\"showbackground\":true,\"ticks\":\"\",\"zerolinecolor\":\"white\"},\"yaxis\":{\"backgroundcolor\":\"#E5ECF6\",\"gridcolor\":\"white\",\"gridwidth\":2,\"linecolor\":\"white\",\"showbackground\":true,\"ticks\":\"\",\"zerolinecolor\":\"white\"},\"zaxis\":{\"backgroundcolor\":\"#E5ECF6\",\"gridcolor\":\"white\",\"gridwidth\":2,\"linecolor\":\"white\",\"showbackground\":true,\"ticks\":\"\",\"zerolinecolor\":\"white\"}},\"shapedefaults\":{\"line\":{\"color\":\"#2a3f5f\"}},\"ternary\":{\"aaxis\":{\"gridcolor\":\"white\",\"linecolor\":\"white\",\"ticks\":\"\"},\"baxis\":{\"gridcolor\":\"white\",\"linecolor\":\"white\",\"ticks\":\"\"},\"bgcolor\":\"#E5ECF6\",\"caxis\":{\"gridcolor\":\"white\",\"linecolor\":\"white\",\"ticks\":\"\"}},\"title\":{\"x\":0.05},\"xaxis\":{\"automargin\":true,\"gridcolor\":\"white\",\"linecolor\":\"white\",\"ticks\":\"\",\"title\":{\"standoff\":15},\"zerolinecolor\":\"white\",\"zerolinewidth\":2},\"yaxis\":{\"automargin\":true,\"gridcolor\":\"white\",\"linecolor\":\"white\",\"ticks\":\"\",\"title\":{\"standoff\":15},\"zerolinecolor\":\"white\",\"zerolinewidth\":2}}},\"xaxis\":{\"anchor\":\"y\",\"domain\":[0.0,1.0],\"title\":{\"text\":\"Year\"}},\"yaxis\":{\"anchor\":\"x\",\"domain\":[0.0,1.0],\"title\":{\"text\":\"Value\"}},\"legend\":{\"title\":{\"text\":\"Item\"},\"tracegroupgap\":0},\"title\":{\"text\":\"Belarus\"}},                        {\"responsive\": true}                    ).then(function(){\n",
              "                            \n",
              "var gd = document.getElementById('741850f2-14c5-46e8-9966-c23c5fb89147');\n",
              "var x = new MutationObserver(function (mutations, observer) {{\n",
              "        var display = window.getComputedStyle(gd).display;\n",
              "        if (!display || display === 'none') {{\n",
              "            console.log([gd, 'removed!']);\n",
              "            Plotly.purge(gd);\n",
              "            observer.disconnect();\n",
              "        }}\n",
              "}});\n",
              "\n",
              "// Listen for the removal of the full notebook cells\n",
              "var notebookContainer = gd.closest('#notebook-container');\n",
              "if (notebookContainer) {{\n",
              "    x.observe(notebookContainer, {childList: true});\n",
              "}}\n",
              "\n",
              "// Listen for the clearing of the current output cell\n",
              "var outputEl = gd.closest('.output');\n",
              "if (outputEl) {{\n",
              "    x.observe(outputEl, {childList: true});\n",
              "}}\n",
              "\n",
              "                        })                };                            </script>        </div>\n",
              "</body>\n",
              "</html>"
            ]
          },
          "metadata": {}
        }
      ]
    },
    {
      "cell_type": "code",
      "source": [
        "df['Item'].unique()"
      ],
      "metadata": {
        "colab": {
          "base_uri": "https://localhost:8080/"
        },
        "id": "GBCF8l59Bhp9",
        "outputId": "e4aa9444-aec2-46ea-8e67-c30b862bcc48"
      },
      "execution_count": 53,
      "outputs": [
        {
          "output_type": "execute_result",
          "data": {
            "text/plain": [
              "array(['Ammonia, anhydrous', 'Ammonium sulphate',\n",
              "       'Diammonium phosphate (DAP)', 'Fertilizers n.e.c.',\n",
              "       'Monoammonium phosphate (MAP)', 'NPK fertilizers',\n",
              "       'Other nitrogenous fertilizers, n.e.c.', 'Other NP compounds',\n",
              "       'Other phosphatic fertilizers, n.e.c.',\n",
              "       'Other potassic fertilizers, n.e.c.', 'Phosphate rock',\n",
              "       'PK compounds', 'Potassium chloride (muriate of potash) (MOP)',\n",
              "       'Potassium nitrate',\n",
              "       'Potassium sulphate (sulphate of potash) (SOP)', 'Sodium nitrate',\n",
              "       'Urea', 'Ammonium nitrate (AN)',\n",
              "       'Calcium ammonium nitrate (CAN) and other mixtures with calcium carbonate',\n",
              "       'Other NK compounds', 'Superphosphates above 35%',\n",
              "       'Superphosphates, other',\n",
              "       'Urea and ammonium nitrate solutions (UAN)'], dtype=object)"
            ]
          },
          "metadata": {},
          "execution_count": 53
        }
      ]
    },
    {
      "cell_type": "markdown",
      "source": [
        "- ***Россия:***  явным лидером по экспорту является удобрение Potassium chloride (muriate of potash) (MOP) (Хлорид Калия), но в 2018 году произошло резкое снижение, на 2 и 3 месте Urea (Мочевина) и NPK fertilizers (комплексные удобрения).\n",
        "- ***Материковый Китай:***с 2015 по 2016г беззаговорочным лидером является Urea (Мочевина), но с 2016 года произошел резкое снижение и лидерами стали Diammonium phosphate (DAP) и Ammonium sulphate (сульфат аммония).\n",
        "- ***Канада:*** лидером является Potassium chloride (muriate of potash) (MOP) (Хлорид Калия).\n",
        "- ***Морокко:*** беззаговорочным лидером является Phosphate rock (Фосфоритная мука)\n",
        "- ***Беларусь:*** лидером является Potassium chloride (muriate of potash) (MOP) (Хлорид Калия)."
      ],
      "metadata": {
        "id": "5D2mmcdKA_J6"
      }
    },
    {
      "cell_type": "markdown",
      "source": [
        "***Динамика количества экспорта каждого вида удобрений с 2015 по 2019 года для топ-5 экспортеров, 1000 US $***"
      ],
      "metadata": {
        "id": "WdG5IqN6_EWk"
      }
    },
    {
      "cell_type": "code",
      "source": [
        "list_4 = ['Russian Federation', 'China, mainland', 'Canada', 'United States of America', 'Morocco']"
      ],
      "metadata": {
        "id": "nK6YRGyP_Ecr"
      },
      "execution_count": 59,
      "outputs": []
    },
    {
      "cell_type": "code",
      "source": [
        "for i in list_4:\n",
        "  data_2=df.query(\"Element=='Export Value'\").groupby(['Area','Year','Item'])['Value'].sum().reset_index()\n",
        "  fig = px.line(data_2.loc[data_2['Area'].isin([i])], x='Year', y='Value', color='Item', markers=True,title=i)\n",
        "  fig.show()"
      ],
      "metadata": {
        "colab": {
          "base_uri": "https://localhost:8080/",
          "height": 1000
        },
        "id": "T8kg24Cj_kuE",
        "outputId": "e5402fe5-ea74-4b8f-8ca0-ed5cc1ca8136"
      },
      "execution_count": 60,
      "outputs": [
        {
          "output_type": "display_data",
          "data": {
            "text/html": [
              "<html>\n",
              "<head><meta charset=\"utf-8\" /></head>\n",
              "<body>\n",
              "    <div>            <script src=\"https://cdnjs.cloudflare.com/ajax/libs/mathjax/2.7.5/MathJax.js?config=TeX-AMS-MML_SVG\"></script><script type=\"text/javascript\">if (window.MathJax) {MathJax.Hub.Config({SVG: {font: \"STIX-Web\"}});}</script>                <script type=\"text/javascript\">window.PlotlyConfig = {MathJaxConfig: 'local'};</script>\n",
              "        <script src=\"https://cdn.plot.ly/plotly-2.8.3.min.js\"></script>                <div id=\"542b6d81-434a-416c-a786-fe134066eb9b\" class=\"plotly-graph-div\" style=\"height:525px; width:100%;\"></div>            <script type=\"text/javascript\">                                    window.PLOTLYENV=window.PLOTLYENV || {};                                    if (document.getElementById(\"542b6d81-434a-416c-a786-fe134066eb9b\")) {                    Plotly.newPlot(                        \"542b6d81-434a-416c-a786-fe134066eb9b\",                        [{\"hovertemplate\":\"Item=Ammonia, anhydrous<br>Year=%{x}<br>Value=%{y}<extra></extra>\",\"legendgroup\":\"Ammonia, anhydrous\",\"line\":{\"color\":\"#636efa\",\"dash\":\"solid\"},\"marker\":{\"symbol\":\"circle\"},\"mode\":\"markers+lines\",\"name\":\"Ammonia, anhydrous\",\"orientation\":\"v\",\"showlegend\":true,\"x\":[2015,2016,2017,2018,2019],\"xaxis\":\"x\",\"y\":[1355790.32,828172.95,723508.09,1135308.64,1114021.03],\"yaxis\":\"y\",\"type\":\"scatter\"},{\"hovertemplate\":\"Item=Ammonium nitrate (AN)<br>Year=%{x}<br>Value=%{y}<extra></extra>\",\"legendgroup\":\"Ammonium nitrate (AN)\",\"line\":{\"color\":\"#EF553B\",\"dash\":\"solid\"},\"marker\":{\"symbol\":\"circle\"},\"mode\":\"markers+lines\",\"name\":\"Ammonium nitrate (AN)\",\"orientation\":\"v\",\"showlegend\":true,\"x\":[2015,2016,2017,2018,2019],\"xaxis\":\"x\",\"y\":[797950.6,589486.96,633163.84,686799.5,728665.04],\"yaxis\":\"y\",\"type\":\"scatter\"},{\"hovertemplate\":\"Item=Ammonium sulphate<br>Year=%{x}<br>Value=%{y}<extra></extra>\",\"legendgroup\":\"Ammonium sulphate\",\"line\":{\"color\":\"#00cc96\",\"dash\":\"solid\"},\"marker\":{\"symbol\":\"circle\"},\"mode\":\"markers+lines\",\"name\":\"Ammonium sulphate\",\"orientation\":\"v\",\"showlegend\":true,\"x\":[2015,2016,2017,2018,2019],\"xaxis\":\"x\",\"y\":[78900.98,62874.47,62041.93,48370.29,47418.38],\"yaxis\":\"y\",\"type\":\"scatter\"},{\"hovertemplate\":\"Item=Calcium ammonium nitrate (CAN) and other mixtures with calcium carbonate<br>Year=%{x}<br>Value=%{y}<extra></extra>\",\"legendgroup\":\"Calcium ammonium nitrate (CAN) and other mixtures with calcium carbonate\",\"line\":{\"color\":\"#ab63fa\",\"dash\":\"solid\"},\"marker\":{\"symbol\":\"circle\"},\"mode\":\"markers+lines\",\"name\":\"Calcium ammonium nitrate (CAN) and other mixtures with calcium carbonate\",\"orientation\":\"v\",\"showlegend\":true,\"x\":[2015,2016,2017,2018,2019],\"xaxis\":\"x\",\"y\":[135502.51,98081.68,103913.48,95512.61,75524.84],\"yaxis\":\"y\",\"type\":\"scatter\"},{\"hovertemplate\":\"Item=Diammonium phosphate (DAP)<br>Year=%{x}<br>Value=%{y}<extra></extra>\",\"legendgroup\":\"Diammonium phosphate (DAP)\",\"line\":{\"color\":\"#FFA15A\",\"dash\":\"solid\"},\"marker\":{\"symbol\":\"circle\"},\"mode\":\"markers+lines\",\"name\":\"Diammonium phosphate (DAP)\",\"orientation\":\"v\",\"showlegend\":true,\"x\":[2015,2016,2017,2018,2019],\"xaxis\":\"x\",\"y\":[521387.06,410886.41,341725.54,534064.77,544252.53],\"yaxis\":\"y\",\"type\":\"scatter\"},{\"hovertemplate\":\"Item=Fertilizers n.e.c.<br>Year=%{x}<br>Value=%{y}<extra></extra>\",\"legendgroup\":\"Fertilizers n.e.c.\",\"line\":{\"color\":\"#19d3f3\",\"dash\":\"solid\"},\"marker\":{\"symbol\":\"circle\"},\"mode\":\"markers+lines\",\"name\":\"Fertilizers n.e.c.\",\"orientation\":\"v\",\"showlegend\":true,\"x\":[2015,2016,2017,2018,2019],\"xaxis\":\"x\",\"y\":[60907.8,40002.45,28196.36,22441.39,41661.95],\"yaxis\":\"y\",\"type\":\"scatter\"},{\"hovertemplate\":\"Item=Monoammonium phosphate (MAP)<br>Year=%{x}<br>Value=%{y}<extra></extra>\",\"legendgroup\":\"Monoammonium phosphate (MAP)\",\"line\":{\"color\":\"#FF6692\",\"dash\":\"solid\"},\"marker\":{\"symbol\":\"circle\"},\"mode\":\"markers+lines\",\"name\":\"Monoammonium phosphate (MAP)\",\"orientation\":\"v\",\"showlegend\":true,\"x\":[2015,2016,2017,2018,2019],\"xaxis\":\"x\",\"y\":[931466.36,680331.82,750366.44,966890.89,771423.15],\"yaxis\":\"y\",\"type\":\"scatter\"},{\"hovertemplate\":\"Item=NPK fertilizers<br>Year=%{x}<br>Value=%{y}<extra></extra>\",\"legendgroup\":\"NPK fertilizers\",\"line\":{\"color\":\"#B6E880\",\"dash\":\"solid\"},\"marker\":{\"symbol\":\"circle\"},\"mode\":\"markers+lines\",\"name\":\"NPK fertilizers\",\"orientation\":\"v\",\"showlegend\":true,\"x\":[2015,2016,2017,2018,2019],\"xaxis\":\"x\",\"y\":[1447790.58,1164691.46,1370447.75,1561903.32,1467449.67],\"yaxis\":\"y\",\"type\":\"scatter\"},{\"hovertemplate\":\"Item=Other NP compounds<br>Year=%{x}<br>Value=%{y}<extra></extra>\",\"legendgroup\":\"Other NP compounds\",\"line\":{\"color\":\"#FF97FF\",\"dash\":\"solid\"},\"marker\":{\"symbol\":\"circle\"},\"mode\":\"markers+lines\",\"name\":\"Other NP compounds\",\"orientation\":\"v\",\"showlegend\":true,\"x\":[2015,2016,2017,2018,2019],\"xaxis\":\"x\",\"y\":[257488.82,309288.4,247773.03,307751.97,334161.56],\"yaxis\":\"y\",\"type\":\"scatter\"},{\"hovertemplate\":\"Item=Other nitrogenous fertilizers, n.e.c.<br>Year=%{x}<br>Value=%{y}<extra></extra>\",\"legendgroup\":\"Other nitrogenous fertilizers, n.e.c.\",\"line\":{\"color\":\"#FECB52\",\"dash\":\"solid\"},\"marker\":{\"symbol\":\"circle\"},\"mode\":\"markers+lines\",\"name\":\"Other nitrogenous fertilizers, n.e.c.\",\"orientation\":\"v\",\"showlegend\":true,\"x\":[2015,2016,2017,2018,2019],\"xaxis\":\"x\",\"y\":[22950.64,26457.15,30078.85,29761.93,27623.52],\"yaxis\":\"y\",\"type\":\"scatter\"},{\"hovertemplate\":\"Item=Other phosphatic fertilizers, n.e.c.<br>Year=%{x}<br>Value=%{y}<extra></extra>\",\"legendgroup\":\"Other phosphatic fertilizers, n.e.c.\",\"line\":{\"color\":\"#636efa\",\"dash\":\"solid\"},\"marker\":{\"symbol\":\"circle\"},\"mode\":\"markers+lines\",\"name\":\"Other phosphatic fertilizers, n.e.c.\",\"orientation\":\"v\",\"showlegend\":true,\"x\":[2015,2016,2017,2018,2019],\"xaxis\":\"x\",\"y\":[980.99,693.42,561.48,886.33,469.68],\"yaxis\":\"y\",\"type\":\"scatter\"},{\"hovertemplate\":\"Item=Other potassic fertilizers, n.e.c.<br>Year=%{x}<br>Value=%{y}<extra></extra>\",\"legendgroup\":\"Other potassic fertilizers, n.e.c.\",\"line\":{\"color\":\"#EF553B\",\"dash\":\"solid\"},\"marker\":{\"symbol\":\"circle\"},\"mode\":\"markers+lines\",\"name\":\"Other potassic fertilizers, n.e.c.\",\"orientation\":\"v\",\"showlegend\":true,\"x\":[2015,2016,2017,2018,2019],\"xaxis\":\"x\",\"y\":[60.95,406.09,73.44,1587.19,3968.56],\"yaxis\":\"y\",\"type\":\"scatter\"},{\"hovertemplate\":\"Item=PK compounds<br>Year=%{x}<br>Value=%{y}<extra></extra>\",\"legendgroup\":\"PK compounds\",\"line\":{\"color\":\"#00cc96\",\"dash\":\"solid\"},\"marker\":{\"symbol\":\"circle\"},\"mode\":\"markers+lines\",\"name\":\"PK compounds\",\"orientation\":\"v\",\"showlegend\":true,\"x\":[2015,2016,2017,2018,2019],\"xaxis\":\"x\",\"y\":[1527.43,3216.44,9634.85,9502.41,6226.07],\"yaxis\":\"y\",\"type\":\"scatter\"},{\"hovertemplate\":\"Item=Phosphate rock<br>Year=%{x}<br>Value=%{y}<extra></extra>\",\"legendgroup\":\"Phosphate rock\",\"line\":{\"color\":\"#ab63fa\",\"dash\":\"solid\"},\"marker\":{\"symbol\":\"circle\"},\"mode\":\"markers+lines\",\"name\":\"Phosphate rock\",\"orientation\":\"v\",\"showlegend\":true,\"x\":[2015,2016,2017,2018,2019],\"xaxis\":\"x\",\"y\":[328677.29,382219.97,339417.06,320248.36,329971.27],\"yaxis\":\"y\",\"type\":\"scatter\"},{\"hovertemplate\":\"Item=Potassium chloride (muriate of potash) (MOP)<br>Year=%{x}<br>Value=%{y}<extra></extra>\",\"legendgroup\":\"Potassium chloride (muriate of potash) (MOP)\",\"line\":{\"color\":\"#FFA15A\",\"dash\":\"solid\"},\"marker\":{\"symbol\":\"circle\"},\"mode\":\"markers+lines\",\"name\":\"Potassium chloride (muriate of potash) (MOP)\",\"orientation\":\"v\",\"showlegend\":true,\"x\":[2015,2016,2017,2018,2019],\"xaxis\":\"x\",\"y\":[2922041.72,3663694.65,4221457.36,2005024.06,2314286.49],\"yaxis\":\"y\",\"type\":\"scatter\"},{\"hovertemplate\":\"Item=Potassium nitrate<br>Year=%{x}<br>Value=%{y}<extra></extra>\",\"legendgroup\":\"Potassium nitrate\",\"line\":{\"color\":\"#19d3f3\",\"dash\":\"solid\"},\"marker\":{\"symbol\":\"circle\"},\"mode\":\"markers+lines\",\"name\":\"Potassium nitrate\",\"orientation\":\"v\",\"showlegend\":true,\"x\":[2015,2016,2017,2018,2019],\"xaxis\":\"x\",\"y\":[5951.08,8967.61,11505.02,13616.23,9200.98],\"yaxis\":\"y\",\"type\":\"scatter\"},{\"hovertemplate\":\"Item=Potassium sulphate (sulphate of potash) (SOP)<br>Year=%{x}<br>Value=%{y}<extra></extra>\",\"legendgroup\":\"Potassium sulphate (sulphate of potash) (SOP)\",\"line\":{\"color\":\"#FF6692\",\"dash\":\"solid\"},\"marker\":{\"symbol\":\"circle\"},\"mode\":\"markers+lines\",\"name\":\"Potassium sulphate (sulphate of potash) (SOP)\",\"orientation\":\"v\",\"showlegend\":true,\"x\":[2015,2016,2017,2018,2019],\"xaxis\":\"x\",\"y\":[36020.44,23921.74,17795.7,26280.56,19083.75],\"yaxis\":\"y\",\"type\":\"scatter\"},{\"hovertemplate\":\"Item=Sodium nitrate<br>Year=%{x}<br>Value=%{y}<extra></extra>\",\"legendgroup\":\"Sodium nitrate\",\"line\":{\"color\":\"#B6E880\",\"dash\":\"solid\"},\"marker\":{\"symbol\":\"circle\"},\"mode\":\"markers+lines\",\"name\":\"Sodium nitrate\",\"orientation\":\"v\",\"showlegend\":true,\"x\":[2015,2016,2017,2018,2019],\"xaxis\":\"x\",\"y\":[2176.37,2437.86,2997.42,3324.22,5467.24],\"yaxis\":\"y\",\"type\":\"scatter\"},{\"hovertemplate\":\"Item=Superphosphates above 35%<br>Year=%{x}<br>Value=%{y}<extra></extra>\",\"legendgroup\":\"Superphosphates above 35%\",\"line\":{\"color\":\"#FF97FF\",\"dash\":\"solid\"},\"marker\":{\"symbol\":\"circle\"},\"mode\":\"markers+lines\",\"name\":\"Superphosphates above 35%\",\"orientation\":\"v\",\"showlegend\":true,\"x\":[2015,2016,2017,2018,2019],\"xaxis\":\"x\",\"y\":[3.5,6.54,1.73,0.07,0.82],\"yaxis\":\"y\",\"type\":\"scatter\"},{\"hovertemplate\":\"Item=Urea<br>Year=%{x}<br>Value=%{y}<extra></extra>\",\"legendgroup\":\"Urea\",\"line\":{\"color\":\"#FECB52\",\"dash\":\"solid\"},\"marker\":{\"symbol\":\"circle\"},\"mode\":\"markers+lines\",\"name\":\"Urea\",\"orientation\":\"v\",\"showlegend\":true,\"x\":[2015,2016,2017,2018,2019],\"xaxis\":\"x\",\"y\":[1316760.77,1137141.86,1279945.57,1582444.8,1643196.93],\"yaxis\":\"y\",\"type\":\"scatter\"},{\"hovertemplate\":\"Item=Urea and ammonium nitrate solutions (UAN)<br>Year=%{x}<br>Value=%{y}<extra></extra>\",\"legendgroup\":\"Urea and ammonium nitrate solutions (UAN)\",\"line\":{\"color\":\"#636efa\",\"dash\":\"solid\"},\"marker\":{\"symbol\":\"circle\"},\"mode\":\"markers+lines\",\"name\":\"Urea and ammonium nitrate solutions (UAN)\",\"orientation\":\"v\",\"showlegend\":true,\"x\":[2015,2016,2017,2018,2019],\"xaxis\":\"x\",\"y\":[320343.46,257847.3,229527.14,345740.11,372543.08],\"yaxis\":\"y\",\"type\":\"scatter\"},{\"hovertemplate\":\"Item=Superphosphates, other<br>Year=%{x}<br>Value=%{y}<extra></extra>\",\"legendgroup\":\"Superphosphates, other\",\"line\":{\"color\":\"#EF553B\",\"dash\":\"solid\"},\"marker\":{\"symbol\":\"circle\"},\"mode\":\"markers+lines\",\"name\":\"Superphosphates, other\",\"orientation\":\"v\",\"showlegend\":true,\"x\":[2017,2018,2019],\"xaxis\":\"x\",\"y\":[13.88,2.83,26.87],\"yaxis\":\"y\",\"type\":\"scatter\"}],                        {\"template\":{\"data\":{\"bar\":[{\"error_x\":{\"color\":\"#2a3f5f\"},\"error_y\":{\"color\":\"#2a3f5f\"},\"marker\":{\"line\":{\"color\":\"#E5ECF6\",\"width\":0.5},\"pattern\":{\"fillmode\":\"overlay\",\"size\":10,\"solidity\":0.2}},\"type\":\"bar\"}],\"barpolar\":[{\"marker\":{\"line\":{\"color\":\"#E5ECF6\",\"width\":0.5},\"pattern\":{\"fillmode\":\"overlay\",\"size\":10,\"solidity\":0.2}},\"type\":\"barpolar\"}],\"carpet\":[{\"aaxis\":{\"endlinecolor\":\"#2a3f5f\",\"gridcolor\":\"white\",\"linecolor\":\"white\",\"minorgridcolor\":\"white\",\"startlinecolor\":\"#2a3f5f\"},\"baxis\":{\"endlinecolor\":\"#2a3f5f\",\"gridcolor\":\"white\",\"linecolor\":\"white\",\"minorgridcolor\":\"white\",\"startlinecolor\":\"#2a3f5f\"},\"type\":\"carpet\"}],\"choropleth\":[{\"colorbar\":{\"outlinewidth\":0,\"ticks\":\"\"},\"type\":\"choropleth\"}],\"contour\":[{\"colorbar\":{\"outlinewidth\":0,\"ticks\":\"\"},\"colorscale\":[[0.0,\"#0d0887\"],[0.1111111111111111,\"#46039f\"],[0.2222222222222222,\"#7201a8\"],[0.3333333333333333,\"#9c179e\"],[0.4444444444444444,\"#bd3786\"],[0.5555555555555556,\"#d8576b\"],[0.6666666666666666,\"#ed7953\"],[0.7777777777777778,\"#fb9f3a\"],[0.8888888888888888,\"#fdca26\"],[1.0,\"#f0f921\"]],\"type\":\"contour\"}],\"contourcarpet\":[{\"colorbar\":{\"outlinewidth\":0,\"ticks\":\"\"},\"type\":\"contourcarpet\"}],\"heatmap\":[{\"colorbar\":{\"outlinewidth\":0,\"ticks\":\"\"},\"colorscale\":[[0.0,\"#0d0887\"],[0.1111111111111111,\"#46039f\"],[0.2222222222222222,\"#7201a8\"],[0.3333333333333333,\"#9c179e\"],[0.4444444444444444,\"#bd3786\"],[0.5555555555555556,\"#d8576b\"],[0.6666666666666666,\"#ed7953\"],[0.7777777777777778,\"#fb9f3a\"],[0.8888888888888888,\"#fdca26\"],[1.0,\"#f0f921\"]],\"type\":\"heatmap\"}],\"heatmapgl\":[{\"colorbar\":{\"outlinewidth\":0,\"ticks\":\"\"},\"colorscale\":[[0.0,\"#0d0887\"],[0.1111111111111111,\"#46039f\"],[0.2222222222222222,\"#7201a8\"],[0.3333333333333333,\"#9c179e\"],[0.4444444444444444,\"#bd3786\"],[0.5555555555555556,\"#d8576b\"],[0.6666666666666666,\"#ed7953\"],[0.7777777777777778,\"#fb9f3a\"],[0.8888888888888888,\"#fdca26\"],[1.0,\"#f0f921\"]],\"type\":\"heatmapgl\"}],\"histogram\":[{\"marker\":{\"pattern\":{\"fillmode\":\"overlay\",\"size\":10,\"solidity\":0.2}},\"type\":\"histogram\"}],\"histogram2d\":[{\"colorbar\":{\"outlinewidth\":0,\"ticks\":\"\"},\"colorscale\":[[0.0,\"#0d0887\"],[0.1111111111111111,\"#46039f\"],[0.2222222222222222,\"#7201a8\"],[0.3333333333333333,\"#9c179e\"],[0.4444444444444444,\"#bd3786\"],[0.5555555555555556,\"#d8576b\"],[0.6666666666666666,\"#ed7953\"],[0.7777777777777778,\"#fb9f3a\"],[0.8888888888888888,\"#fdca26\"],[1.0,\"#f0f921\"]],\"type\":\"histogram2d\"}],\"histogram2dcontour\":[{\"colorbar\":{\"outlinewidth\":0,\"ticks\":\"\"},\"colorscale\":[[0.0,\"#0d0887\"],[0.1111111111111111,\"#46039f\"],[0.2222222222222222,\"#7201a8\"],[0.3333333333333333,\"#9c179e\"],[0.4444444444444444,\"#bd3786\"],[0.5555555555555556,\"#d8576b\"],[0.6666666666666666,\"#ed7953\"],[0.7777777777777778,\"#fb9f3a\"],[0.8888888888888888,\"#fdca26\"],[1.0,\"#f0f921\"]],\"type\":\"histogram2dcontour\"}],\"mesh3d\":[{\"colorbar\":{\"outlinewidth\":0,\"ticks\":\"\"},\"type\":\"mesh3d\"}],\"parcoords\":[{\"line\":{\"colorbar\":{\"outlinewidth\":0,\"ticks\":\"\"}},\"type\":\"parcoords\"}],\"pie\":[{\"automargin\":true,\"type\":\"pie\"}],\"scatter\":[{\"marker\":{\"colorbar\":{\"outlinewidth\":0,\"ticks\":\"\"}},\"type\":\"scatter\"}],\"scatter3d\":[{\"line\":{\"colorbar\":{\"outlinewidth\":0,\"ticks\":\"\"}},\"marker\":{\"colorbar\":{\"outlinewidth\":0,\"ticks\":\"\"}},\"type\":\"scatter3d\"}],\"scattercarpet\":[{\"marker\":{\"colorbar\":{\"outlinewidth\":0,\"ticks\":\"\"}},\"type\":\"scattercarpet\"}],\"scattergeo\":[{\"marker\":{\"colorbar\":{\"outlinewidth\":0,\"ticks\":\"\"}},\"type\":\"scattergeo\"}],\"scattergl\":[{\"marker\":{\"colorbar\":{\"outlinewidth\":0,\"ticks\":\"\"}},\"type\":\"scattergl\"}],\"scattermapbox\":[{\"marker\":{\"colorbar\":{\"outlinewidth\":0,\"ticks\":\"\"}},\"type\":\"scattermapbox\"}],\"scatterpolar\":[{\"marker\":{\"colorbar\":{\"outlinewidth\":0,\"ticks\":\"\"}},\"type\":\"scatterpolar\"}],\"scatterpolargl\":[{\"marker\":{\"colorbar\":{\"outlinewidth\":0,\"ticks\":\"\"}},\"type\":\"scatterpolargl\"}],\"scatterternary\":[{\"marker\":{\"colorbar\":{\"outlinewidth\":0,\"ticks\":\"\"}},\"type\":\"scatterternary\"}],\"surface\":[{\"colorbar\":{\"outlinewidth\":0,\"ticks\":\"\"},\"colorscale\":[[0.0,\"#0d0887\"],[0.1111111111111111,\"#46039f\"],[0.2222222222222222,\"#7201a8\"],[0.3333333333333333,\"#9c179e\"],[0.4444444444444444,\"#bd3786\"],[0.5555555555555556,\"#d8576b\"],[0.6666666666666666,\"#ed7953\"],[0.7777777777777778,\"#fb9f3a\"],[0.8888888888888888,\"#fdca26\"],[1.0,\"#f0f921\"]],\"type\":\"surface\"}],\"table\":[{\"cells\":{\"fill\":{\"color\":\"#EBF0F8\"},\"line\":{\"color\":\"white\"}},\"header\":{\"fill\":{\"color\":\"#C8D4E3\"},\"line\":{\"color\":\"white\"}},\"type\":\"table\"}]},\"layout\":{\"annotationdefaults\":{\"arrowcolor\":\"#2a3f5f\",\"arrowhead\":0,\"arrowwidth\":1},\"autotypenumbers\":\"strict\",\"coloraxis\":{\"colorbar\":{\"outlinewidth\":0,\"ticks\":\"\"}},\"colorscale\":{\"diverging\":[[0,\"#8e0152\"],[0.1,\"#c51b7d\"],[0.2,\"#de77ae\"],[0.3,\"#f1b6da\"],[0.4,\"#fde0ef\"],[0.5,\"#f7f7f7\"],[0.6,\"#e6f5d0\"],[0.7,\"#b8e186\"],[0.8,\"#7fbc41\"],[0.9,\"#4d9221\"],[1,\"#276419\"]],\"sequential\":[[0.0,\"#0d0887\"],[0.1111111111111111,\"#46039f\"],[0.2222222222222222,\"#7201a8\"],[0.3333333333333333,\"#9c179e\"],[0.4444444444444444,\"#bd3786\"],[0.5555555555555556,\"#d8576b\"],[0.6666666666666666,\"#ed7953\"],[0.7777777777777778,\"#fb9f3a\"],[0.8888888888888888,\"#fdca26\"],[1.0,\"#f0f921\"]],\"sequentialminus\":[[0.0,\"#0d0887\"],[0.1111111111111111,\"#46039f\"],[0.2222222222222222,\"#7201a8\"],[0.3333333333333333,\"#9c179e\"],[0.4444444444444444,\"#bd3786\"],[0.5555555555555556,\"#d8576b\"],[0.6666666666666666,\"#ed7953\"],[0.7777777777777778,\"#fb9f3a\"],[0.8888888888888888,\"#fdca26\"],[1.0,\"#f0f921\"]]},\"colorway\":[\"#636efa\",\"#EF553B\",\"#00cc96\",\"#ab63fa\",\"#FFA15A\",\"#19d3f3\",\"#FF6692\",\"#B6E880\",\"#FF97FF\",\"#FECB52\"],\"font\":{\"color\":\"#2a3f5f\"},\"geo\":{\"bgcolor\":\"white\",\"lakecolor\":\"white\",\"landcolor\":\"#E5ECF6\",\"showlakes\":true,\"showland\":true,\"subunitcolor\":\"white\"},\"hoverlabel\":{\"align\":\"left\"},\"hovermode\":\"closest\",\"mapbox\":{\"style\":\"light\"},\"paper_bgcolor\":\"white\",\"plot_bgcolor\":\"#E5ECF6\",\"polar\":{\"angularaxis\":{\"gridcolor\":\"white\",\"linecolor\":\"white\",\"ticks\":\"\"},\"bgcolor\":\"#E5ECF6\",\"radialaxis\":{\"gridcolor\":\"white\",\"linecolor\":\"white\",\"ticks\":\"\"}},\"scene\":{\"xaxis\":{\"backgroundcolor\":\"#E5ECF6\",\"gridcolor\":\"white\",\"gridwidth\":2,\"linecolor\":\"white\",\"showbackground\":true,\"ticks\":\"\",\"zerolinecolor\":\"white\"},\"yaxis\":{\"backgroundcolor\":\"#E5ECF6\",\"gridcolor\":\"white\",\"gridwidth\":2,\"linecolor\":\"white\",\"showbackground\":true,\"ticks\":\"\",\"zerolinecolor\":\"white\"},\"zaxis\":{\"backgroundcolor\":\"#E5ECF6\",\"gridcolor\":\"white\",\"gridwidth\":2,\"linecolor\":\"white\",\"showbackground\":true,\"ticks\":\"\",\"zerolinecolor\":\"white\"}},\"shapedefaults\":{\"line\":{\"color\":\"#2a3f5f\"}},\"ternary\":{\"aaxis\":{\"gridcolor\":\"white\",\"linecolor\":\"white\",\"ticks\":\"\"},\"baxis\":{\"gridcolor\":\"white\",\"linecolor\":\"white\",\"ticks\":\"\"},\"bgcolor\":\"#E5ECF6\",\"caxis\":{\"gridcolor\":\"white\",\"linecolor\":\"white\",\"ticks\":\"\"}},\"title\":{\"x\":0.05},\"xaxis\":{\"automargin\":true,\"gridcolor\":\"white\",\"linecolor\":\"white\",\"ticks\":\"\",\"title\":{\"standoff\":15},\"zerolinecolor\":\"white\",\"zerolinewidth\":2},\"yaxis\":{\"automargin\":true,\"gridcolor\":\"white\",\"linecolor\":\"white\",\"ticks\":\"\",\"title\":{\"standoff\":15},\"zerolinecolor\":\"white\",\"zerolinewidth\":2}}},\"xaxis\":{\"anchor\":\"y\",\"domain\":[0.0,1.0],\"title\":{\"text\":\"Year\"}},\"yaxis\":{\"anchor\":\"x\",\"domain\":[0.0,1.0],\"title\":{\"text\":\"Value\"}},\"legend\":{\"title\":{\"text\":\"Item\"},\"tracegroupgap\":0},\"title\":{\"text\":\"Russian Federation\"}},                        {\"responsive\": true}                    ).then(function(){\n",
              "                            \n",
              "var gd = document.getElementById('542b6d81-434a-416c-a786-fe134066eb9b');\n",
              "var x = new MutationObserver(function (mutations, observer) {{\n",
              "        var display = window.getComputedStyle(gd).display;\n",
              "        if (!display || display === 'none') {{\n",
              "            console.log([gd, 'removed!']);\n",
              "            Plotly.purge(gd);\n",
              "            observer.disconnect();\n",
              "        }}\n",
              "}});\n",
              "\n",
              "// Listen for the removal of the full notebook cells\n",
              "var notebookContainer = gd.closest('#notebook-container');\n",
              "if (notebookContainer) {{\n",
              "    x.observe(notebookContainer, {childList: true});\n",
              "}}\n",
              "\n",
              "// Listen for the clearing of the current output cell\n",
              "var outputEl = gd.closest('.output');\n",
              "if (outputEl) {{\n",
              "    x.observe(outputEl, {childList: true});\n",
              "}}\n",
              "\n",
              "                        })                };                            </script>        </div>\n",
              "</body>\n",
              "</html>"
            ]
          },
          "metadata": {}
        },
        {
          "output_type": "display_data",
          "data": {
            "text/html": [
              "<html>\n",
              "<head><meta charset=\"utf-8\" /></head>\n",
              "<body>\n",
              "    <div>            <script src=\"https://cdnjs.cloudflare.com/ajax/libs/mathjax/2.7.5/MathJax.js?config=TeX-AMS-MML_SVG\"></script><script type=\"text/javascript\">if (window.MathJax) {MathJax.Hub.Config({SVG: {font: \"STIX-Web\"}});}</script>                <script type=\"text/javascript\">window.PlotlyConfig = {MathJaxConfig: 'local'};</script>\n",
              "        <script src=\"https://cdn.plot.ly/plotly-2.8.3.min.js\"></script>                <div id=\"5d5d02f8-b01c-40b3-9c63-60b731d85e3e\" class=\"plotly-graph-div\" style=\"height:525px; width:100%;\"></div>            <script type=\"text/javascript\">                                    window.PLOTLYENV=window.PLOTLYENV || {};                                    if (document.getElementById(\"5d5d02f8-b01c-40b3-9c63-60b731d85e3e\")) {                    Plotly.newPlot(                        \"5d5d02f8-b01c-40b3-9c63-60b731d85e3e\",                        [{\"hovertemplate\":\"Item=Ammonia, anhydrous<br>Year=%{x}<br>Value=%{y}<extra></extra>\",\"legendgroup\":\"Ammonia, anhydrous\",\"line\":{\"color\":\"#636efa\",\"dash\":\"solid\"},\"marker\":{\"symbol\":\"circle\"},\"mode\":\"markers+lines\",\"name\":\"Ammonia, anhydrous\",\"orientation\":\"v\",\"showlegend\":true,\"x\":[2015,2016,2017,2018,2019],\"xaxis\":\"x\",\"y\":[16847.43,3285.59,3908.69,2243.73,2895.9],\"yaxis\":\"y\",\"type\":\"scatter\"},{\"hovertemplate\":\"Item=Ammonium nitrate (AN)<br>Year=%{x}<br>Value=%{y}<extra></extra>\",\"legendgroup\":\"Ammonium nitrate (AN)\",\"line\":{\"color\":\"#EF553B\",\"dash\":\"solid\"},\"marker\":{\"symbol\":\"circle\"},\"mode\":\"markers+lines\",\"name\":\"Ammonium nitrate (AN)\",\"orientation\":\"v\",\"showlegend\":true,\"x\":[2015,2016,2017,2018,2019],\"xaxis\":\"x\",\"y\":[102816.37,84331.14,58457.82,79524.15,52102.48],\"yaxis\":\"y\",\"type\":\"scatter\"},{\"hovertemplate\":\"Item=Ammonium sulphate<br>Year=%{x}<br>Value=%{y}<extra></extra>\",\"legendgroup\":\"Ammonium sulphate\",\"line\":{\"color\":\"#00cc96\",\"dash\":\"solid\"},\"marker\":{\"symbol\":\"circle\"},\"mode\":\"markers+lines\",\"name\":\"Ammonium sulphate\",\"orientation\":\"v\",\"showlegend\":true,\"x\":[2015,2016,2017,2018,2019],\"xaxis\":\"x\",\"y\":[701951.03,561271.04,625130.39,811237.87,838188.53],\"yaxis\":\"y\",\"type\":\"scatter\"},{\"hovertemplate\":\"Item=Calcium ammonium nitrate (CAN) and other mixtures with calcium carbonate<br>Year=%{x}<br>Value=%{y}<extra></extra>\",\"legendgroup\":\"Calcium ammonium nitrate (CAN) and other mixtures with calcium carbonate\",\"line\":{\"color\":\"#ab63fa\",\"dash\":\"solid\"},\"marker\":{\"symbol\":\"circle\"},\"mode\":\"markers+lines\",\"name\":\"Calcium ammonium nitrate (CAN) and other mixtures with calcium carbonate\",\"orientation\":\"v\",\"showlegend\":true,\"x\":[2015,2016,2017,2018,2019],\"xaxis\":\"x\",\"y\":[998.24,1778.75,827.88,1871.57,1456.06],\"yaxis\":\"y\",\"type\":\"scatter\"},{\"hovertemplate\":\"Item=Diammonium phosphate (DAP)<br>Year=%{x}<br>Value=%{y}<extra></extra>\",\"legendgroup\":\"Diammonium phosphate (DAP)\",\"line\":{\"color\":\"#FFA15A\",\"dash\":\"solid\"},\"marker\":{\"symbol\":\"circle\"},\"mode\":\"markers+lines\",\"name\":\"Diammonium phosphate (DAP)\",\"orientation\":\"v\",\"showlegend\":true,\"x\":[2015,2016,2017,2018,2019],\"xaxis\":\"x\",\"y\":[3669886.64,2290180.57,2207850.44,3080693.6,2314620.1],\"yaxis\":\"y\",\"type\":\"scatter\"},{\"hovertemplate\":\"Item=Fertilizers n.e.c.<br>Year=%{x}<br>Value=%{y}<extra></extra>\",\"legendgroup\":\"Fertilizers n.e.c.\",\"line\":{\"color\":\"#19d3f3\",\"dash\":\"solid\"},\"marker\":{\"symbol\":\"circle\"},\"mode\":\"markers+lines\",\"name\":\"Fertilizers n.e.c.\",\"orientation\":\"v\",\"showlegend\":true,\"x\":[2015,2016,2017,2018,2019],\"xaxis\":\"x\",\"y\":[129762.88,185317.3,226371.91,178912.29,152399.09],\"yaxis\":\"y\",\"type\":\"scatter\"},{\"hovertemplate\":\"Item=Monoammonium phosphate (MAP)<br>Year=%{x}<br>Value=%{y}<extra></extra>\",\"legendgroup\":\"Monoammonium phosphate (MAP)\",\"line\":{\"color\":\"#FF6692\",\"dash\":\"solid\"},\"marker\":{\"symbol\":\"circle\"},\"mode\":\"markers+lines\",\"name\":\"Monoammonium phosphate (MAP)\",\"orientation\":\"v\",\"showlegend\":true,\"x\":[2015,2016,2017,2018,2019],\"xaxis\":\"x\",\"y\":[1151775.6,686950.86,917498.9,1008605.18,908826.54],\"yaxis\":\"y\",\"type\":\"scatter\"},{\"hovertemplate\":\"Item=NPK fertilizers<br>Year=%{x}<br>Value=%{y}<extra></extra>\",\"legendgroup\":\"NPK fertilizers\",\"line\":{\"color\":\"#B6E880\",\"dash\":\"solid\"},\"marker\":{\"symbol\":\"circle\"},\"mode\":\"markers+lines\",\"name\":\"NPK fertilizers\",\"orientation\":\"v\",\"showlegend\":true,\"x\":[2015,2016,2017,2018,2019],\"xaxis\":\"x\",\"y\":[35108.78,4231.09,21278.63,140704.36,318326.03],\"yaxis\":\"y\",\"type\":\"scatter\"},{\"hovertemplate\":\"Item=Other NP compounds<br>Year=%{x}<br>Value=%{y}<extra></extra>\",\"legendgroup\":\"Other NP compounds\",\"line\":{\"color\":\"#FF97FF\",\"dash\":\"solid\"},\"marker\":{\"symbol\":\"circle\"},\"mode\":\"markers+lines\",\"name\":\"Other NP compounds\",\"orientation\":\"v\",\"showlegend\":true,\"x\":[2015,2016,2017,2018,2019],\"xaxis\":\"x\",\"y\":[270867.87,153527.52,218514.56,251499.1,281575.51],\"yaxis\":\"y\",\"type\":\"scatter\"},{\"hovertemplate\":\"Item=Other nitrogenous fertilizers, n.e.c.<br>Year=%{x}<br>Value=%{y}<extra></extra>\",\"legendgroup\":\"Other nitrogenous fertilizers, n.e.c.\",\"line\":{\"color\":\"#FECB52\",\"dash\":\"solid\"},\"marker\":{\"symbol\":\"circle\"},\"mode\":\"markers+lines\",\"name\":\"Other nitrogenous fertilizers, n.e.c.\",\"orientation\":\"v\",\"showlegend\":true,\"x\":[2015,2016,2017,2018,2019],\"xaxis\":\"x\",\"y\":[212671.7,207499.33,240501.08,259715.47,277752.3],\"yaxis\":\"y\",\"type\":\"scatter\"},{\"hovertemplate\":\"Item=Other phosphatic fertilizers, n.e.c.<br>Year=%{x}<br>Value=%{y}<extra></extra>\",\"legendgroup\":\"Other phosphatic fertilizers, n.e.c.\",\"line\":{\"color\":\"#636efa\",\"dash\":\"solid\"},\"marker\":{\"symbol\":\"circle\"},\"mode\":\"markers+lines\",\"name\":\"Other phosphatic fertilizers, n.e.c.\",\"orientation\":\"v\",\"showlegend\":true,\"x\":[2015,2016,2017,2018,2019],\"xaxis\":\"x\",\"y\":[13921.73,11716.74,12692.89,12947.63,12257.06],\"yaxis\":\"y\",\"type\":\"scatter\"},{\"hovertemplate\":\"Item=Other potassic fertilizers, n.e.c.<br>Year=%{x}<br>Value=%{y}<extra></extra>\",\"legendgroup\":\"Other potassic fertilizers, n.e.c.\",\"line\":{\"color\":\"#EF553B\",\"dash\":\"solid\"},\"marker\":{\"symbol\":\"circle\"},\"mode\":\"markers+lines\",\"name\":\"Other potassic fertilizers, n.e.c.\",\"orientation\":\"v\",\"showlegend\":true,\"x\":[2015,2016,2017,2018,2019],\"xaxis\":\"x\",\"y\":[357.08,66.25,28.23,61.48,5069.8],\"yaxis\":\"y\",\"type\":\"scatter\"},{\"hovertemplate\":\"Item=PK compounds<br>Year=%{x}<br>Value=%{y}<extra></extra>\",\"legendgroup\":\"PK compounds\",\"line\":{\"color\":\"#00cc96\",\"dash\":\"solid\"},\"marker\":{\"symbol\":\"circle\"},\"mode\":\"markers+lines\",\"name\":\"PK compounds\",\"orientation\":\"v\",\"showlegend\":true,\"x\":[2015,2016,2017,2018,2019],\"xaxis\":\"x\",\"y\":[4284.92,2396.34,2522.46,4365.88,4896.31],\"yaxis\":\"y\",\"type\":\"scatter\"},{\"hovertemplate\":\"Item=Phosphate rock<br>Year=%{x}<br>Value=%{y}<extra></extra>\",\"legendgroup\":\"Phosphate rock\",\"line\":{\"color\":\"#ab63fa\",\"dash\":\"solid\"},\"marker\":{\"symbol\":\"circle\"},\"mode\":\"markers+lines\",\"name\":\"Phosphate rock\",\"orientation\":\"v\",\"showlegend\":true,\"x\":[2015,2016,2017,2018,2019],\"xaxis\":\"x\",\"y\":[30729.83,31384.41,45245.78,42321.69,33877.09],\"yaxis\":\"y\",\"type\":\"scatter\"},{\"hovertemplate\":\"Item=Potassium chloride (muriate of potash) (MOP)<br>Year=%{x}<br>Value=%{y}<extra></extra>\",\"legendgroup\":\"Potassium chloride (muriate of potash) (MOP)\",\"line\":{\"color\":\"#FFA15A\",\"dash\":\"solid\"},\"marker\":{\"symbol\":\"circle\"},\"mode\":\"markers+lines\",\"name\":\"Potassium chloride (muriate of potash) (MOP)\",\"orientation\":\"v\",\"showlegend\":true,\"x\":[2015,2016,2017,2018,2019],\"xaxis\":\"x\",\"y\":[101201.84,89653.08,67394.52,62610.29,84208.71],\"yaxis\":\"y\",\"type\":\"scatter\"},{\"hovertemplate\":\"Item=Potassium nitrate<br>Year=%{x}<br>Value=%{y}<extra></extra>\",\"legendgroup\":\"Potassium nitrate\",\"line\":{\"color\":\"#19d3f3\",\"dash\":\"solid\"},\"marker\":{\"symbol\":\"circle\"},\"mode\":\"markers+lines\",\"name\":\"Potassium nitrate\",\"orientation\":\"v\",\"showlegend\":true,\"x\":[2015,2016,2017,2018,2019],\"xaxis\":\"x\",\"y\":[33294.4,39506.02,94397.55,86851.15,75963.18],\"yaxis\":\"y\",\"type\":\"scatter\"},{\"hovertemplate\":\"Item=Potassium sulphate (sulphate of potash) (SOP)<br>Year=%{x}<br>Value=%{y}<extra></extra>\",\"legendgroup\":\"Potassium sulphate (sulphate of potash) (SOP)\",\"line\":{\"color\":\"#FF6692\",\"dash\":\"solid\"},\"marker\":{\"symbol\":\"circle\"},\"mode\":\"markers+lines\",\"name\":\"Potassium sulphate (sulphate of potash) (SOP)\",\"orientation\":\"v\",\"showlegend\":true,\"x\":[2015,2016,2017,2018,2019],\"xaxis\":\"x\",\"y\":[51216.29,13533.86,6870.46,4579.85,164570.65],\"yaxis\":\"y\",\"type\":\"scatter\"},{\"hovertemplate\":\"Item=Sodium nitrate<br>Year=%{x}<br>Value=%{y}<extra></extra>\",\"legendgroup\":\"Sodium nitrate\",\"line\":{\"color\":\"#B6E880\",\"dash\":\"solid\"},\"marker\":{\"symbol\":\"circle\"},\"mode\":\"markers+lines\",\"name\":\"Sodium nitrate\",\"orientation\":\"v\",\"showlegend\":true,\"x\":[2015,2016,2017,2018,2019],\"xaxis\":\"x\",\"y\":[16544.45,18055.17,16381.1,18920.66,13383.29],\"yaxis\":\"y\",\"type\":\"scatter\"},{\"hovertemplate\":\"Item=Superphosphates above 35%<br>Year=%{x}<br>Value=%{y}<extra></extra>\",\"legendgroup\":\"Superphosphates above 35%\",\"line\":{\"color\":\"#FF97FF\",\"dash\":\"solid\"},\"marker\":{\"symbol\":\"circle\"},\"mode\":\"markers+lines\",\"name\":\"Superphosphates above 35%\",\"orientation\":\"v\",\"showlegend\":true,\"x\":[2015,2016,2017,2018,2019],\"xaxis\":\"x\",\"y\":[499396.54,318394.4,364798.32,414527.5,435214.15],\"yaxis\":\"y\",\"type\":\"scatter\"},{\"hovertemplate\":\"Item=Urea<br>Year=%{x}<br>Value=%{y}<extra></extra>\",\"legendgroup\":\"Urea\",\"line\":{\"color\":\"#FECB52\",\"dash\":\"solid\"},\"marker\":{\"symbol\":\"circle\"},\"mode\":\"markers+lines\",\"name\":\"Urea\",\"orientation\":\"v\",\"showlegend\":true,\"x\":[2015,2016,2017,2018,2019],\"xaxis\":\"x\",\"y\":[3941585.99,1979751.85,1115214.05,775157.75,1404822.94],\"yaxis\":\"y\",\"type\":\"scatter\"},{\"hovertemplate\":\"Item=Urea and ammonium nitrate solutions (UAN)<br>Year=%{x}<br>Value=%{y}<extra></extra>\",\"legendgroup\":\"Urea and ammonium nitrate solutions (UAN)\",\"line\":{\"color\":\"#636efa\",\"dash\":\"solid\"},\"marker\":{\"symbol\":\"circle\"},\"mode\":\"markers+lines\",\"name\":\"Urea and ammonium nitrate solutions (UAN)\",\"orientation\":\"v\",\"showlegend\":true,\"x\":[2015,2016,2017,2018,2019],\"xaxis\":\"x\",\"y\":[85735.05,55331.04,25234.67,6793.72,4226.16],\"yaxis\":\"y\",\"type\":\"scatter\"},{\"hovertemplate\":\"Item=Superphosphates, other<br>Year=%{x}<br>Value=%{y}<extra></extra>\",\"legendgroup\":\"Superphosphates, other\",\"line\":{\"color\":\"#EF553B\",\"dash\":\"solid\"},\"marker\":{\"symbol\":\"circle\"},\"mode\":\"markers+lines\",\"name\":\"Superphosphates, other\",\"orientation\":\"v\",\"showlegend\":true,\"x\":[2017,2018,2019],\"xaxis\":\"x\",\"y\":[37985.08,43231.65,35492.15],\"yaxis\":\"y\",\"type\":\"scatter\"}],                        {\"template\":{\"data\":{\"bar\":[{\"error_x\":{\"color\":\"#2a3f5f\"},\"error_y\":{\"color\":\"#2a3f5f\"},\"marker\":{\"line\":{\"color\":\"#E5ECF6\",\"width\":0.5},\"pattern\":{\"fillmode\":\"overlay\",\"size\":10,\"solidity\":0.2}},\"type\":\"bar\"}],\"barpolar\":[{\"marker\":{\"line\":{\"color\":\"#E5ECF6\",\"width\":0.5},\"pattern\":{\"fillmode\":\"overlay\",\"size\":10,\"solidity\":0.2}},\"type\":\"barpolar\"}],\"carpet\":[{\"aaxis\":{\"endlinecolor\":\"#2a3f5f\",\"gridcolor\":\"white\",\"linecolor\":\"white\",\"minorgridcolor\":\"white\",\"startlinecolor\":\"#2a3f5f\"},\"baxis\":{\"endlinecolor\":\"#2a3f5f\",\"gridcolor\":\"white\",\"linecolor\":\"white\",\"minorgridcolor\":\"white\",\"startlinecolor\":\"#2a3f5f\"},\"type\":\"carpet\"}],\"choropleth\":[{\"colorbar\":{\"outlinewidth\":0,\"ticks\":\"\"},\"type\":\"choropleth\"}],\"contour\":[{\"colorbar\":{\"outlinewidth\":0,\"ticks\":\"\"},\"colorscale\":[[0.0,\"#0d0887\"],[0.1111111111111111,\"#46039f\"],[0.2222222222222222,\"#7201a8\"],[0.3333333333333333,\"#9c179e\"],[0.4444444444444444,\"#bd3786\"],[0.5555555555555556,\"#d8576b\"],[0.6666666666666666,\"#ed7953\"],[0.7777777777777778,\"#fb9f3a\"],[0.8888888888888888,\"#fdca26\"],[1.0,\"#f0f921\"]],\"type\":\"contour\"}],\"contourcarpet\":[{\"colorbar\":{\"outlinewidth\":0,\"ticks\":\"\"},\"type\":\"contourcarpet\"}],\"heatmap\":[{\"colorbar\":{\"outlinewidth\":0,\"ticks\":\"\"},\"colorscale\":[[0.0,\"#0d0887\"],[0.1111111111111111,\"#46039f\"],[0.2222222222222222,\"#7201a8\"],[0.3333333333333333,\"#9c179e\"],[0.4444444444444444,\"#bd3786\"],[0.5555555555555556,\"#d8576b\"],[0.6666666666666666,\"#ed7953\"],[0.7777777777777778,\"#fb9f3a\"],[0.8888888888888888,\"#fdca26\"],[1.0,\"#f0f921\"]],\"type\":\"heatmap\"}],\"heatmapgl\":[{\"colorbar\":{\"outlinewidth\":0,\"ticks\":\"\"},\"colorscale\":[[0.0,\"#0d0887\"],[0.1111111111111111,\"#46039f\"],[0.2222222222222222,\"#7201a8\"],[0.3333333333333333,\"#9c179e\"],[0.4444444444444444,\"#bd3786\"],[0.5555555555555556,\"#d8576b\"],[0.6666666666666666,\"#ed7953\"],[0.7777777777777778,\"#fb9f3a\"],[0.8888888888888888,\"#fdca26\"],[1.0,\"#f0f921\"]],\"type\":\"heatmapgl\"}],\"histogram\":[{\"marker\":{\"pattern\":{\"fillmode\":\"overlay\",\"size\":10,\"solidity\":0.2}},\"type\":\"histogram\"}],\"histogram2d\":[{\"colorbar\":{\"outlinewidth\":0,\"ticks\":\"\"},\"colorscale\":[[0.0,\"#0d0887\"],[0.1111111111111111,\"#46039f\"],[0.2222222222222222,\"#7201a8\"],[0.3333333333333333,\"#9c179e\"],[0.4444444444444444,\"#bd3786\"],[0.5555555555555556,\"#d8576b\"],[0.6666666666666666,\"#ed7953\"],[0.7777777777777778,\"#fb9f3a\"],[0.8888888888888888,\"#fdca26\"],[1.0,\"#f0f921\"]],\"type\":\"histogram2d\"}],\"histogram2dcontour\":[{\"colorbar\":{\"outlinewidth\":0,\"ticks\":\"\"},\"colorscale\":[[0.0,\"#0d0887\"],[0.1111111111111111,\"#46039f\"],[0.2222222222222222,\"#7201a8\"],[0.3333333333333333,\"#9c179e\"],[0.4444444444444444,\"#bd3786\"],[0.5555555555555556,\"#d8576b\"],[0.6666666666666666,\"#ed7953\"],[0.7777777777777778,\"#fb9f3a\"],[0.8888888888888888,\"#fdca26\"],[1.0,\"#f0f921\"]],\"type\":\"histogram2dcontour\"}],\"mesh3d\":[{\"colorbar\":{\"outlinewidth\":0,\"ticks\":\"\"},\"type\":\"mesh3d\"}],\"parcoords\":[{\"line\":{\"colorbar\":{\"outlinewidth\":0,\"ticks\":\"\"}},\"type\":\"parcoords\"}],\"pie\":[{\"automargin\":true,\"type\":\"pie\"}],\"scatter\":[{\"marker\":{\"colorbar\":{\"outlinewidth\":0,\"ticks\":\"\"}},\"type\":\"scatter\"}],\"scatter3d\":[{\"line\":{\"colorbar\":{\"outlinewidth\":0,\"ticks\":\"\"}},\"marker\":{\"colorbar\":{\"outlinewidth\":0,\"ticks\":\"\"}},\"type\":\"scatter3d\"}],\"scattercarpet\":[{\"marker\":{\"colorbar\":{\"outlinewidth\":0,\"ticks\":\"\"}},\"type\":\"scattercarpet\"}],\"scattergeo\":[{\"marker\":{\"colorbar\":{\"outlinewidth\":0,\"ticks\":\"\"}},\"type\":\"scattergeo\"}],\"scattergl\":[{\"marker\":{\"colorbar\":{\"outlinewidth\":0,\"ticks\":\"\"}},\"type\":\"scattergl\"}],\"scattermapbox\":[{\"marker\":{\"colorbar\":{\"outlinewidth\":0,\"ticks\":\"\"}},\"type\":\"scattermapbox\"}],\"scatterpolar\":[{\"marker\":{\"colorbar\":{\"outlinewidth\":0,\"ticks\":\"\"}},\"type\":\"scatterpolar\"}],\"scatterpolargl\":[{\"marker\":{\"colorbar\":{\"outlinewidth\":0,\"ticks\":\"\"}},\"type\":\"scatterpolargl\"}],\"scatterternary\":[{\"marker\":{\"colorbar\":{\"outlinewidth\":0,\"ticks\":\"\"}},\"type\":\"scatterternary\"}],\"surface\":[{\"colorbar\":{\"outlinewidth\":0,\"ticks\":\"\"},\"colorscale\":[[0.0,\"#0d0887\"],[0.1111111111111111,\"#46039f\"],[0.2222222222222222,\"#7201a8\"],[0.3333333333333333,\"#9c179e\"],[0.4444444444444444,\"#bd3786\"],[0.5555555555555556,\"#d8576b\"],[0.6666666666666666,\"#ed7953\"],[0.7777777777777778,\"#fb9f3a\"],[0.8888888888888888,\"#fdca26\"],[1.0,\"#f0f921\"]],\"type\":\"surface\"}],\"table\":[{\"cells\":{\"fill\":{\"color\":\"#EBF0F8\"},\"line\":{\"color\":\"white\"}},\"header\":{\"fill\":{\"color\":\"#C8D4E3\"},\"line\":{\"color\":\"white\"}},\"type\":\"table\"}]},\"layout\":{\"annotationdefaults\":{\"arrowcolor\":\"#2a3f5f\",\"arrowhead\":0,\"arrowwidth\":1},\"autotypenumbers\":\"strict\",\"coloraxis\":{\"colorbar\":{\"outlinewidth\":0,\"ticks\":\"\"}},\"colorscale\":{\"diverging\":[[0,\"#8e0152\"],[0.1,\"#c51b7d\"],[0.2,\"#de77ae\"],[0.3,\"#f1b6da\"],[0.4,\"#fde0ef\"],[0.5,\"#f7f7f7\"],[0.6,\"#e6f5d0\"],[0.7,\"#b8e186\"],[0.8,\"#7fbc41\"],[0.9,\"#4d9221\"],[1,\"#276419\"]],\"sequential\":[[0.0,\"#0d0887\"],[0.1111111111111111,\"#46039f\"],[0.2222222222222222,\"#7201a8\"],[0.3333333333333333,\"#9c179e\"],[0.4444444444444444,\"#bd3786\"],[0.5555555555555556,\"#d8576b\"],[0.6666666666666666,\"#ed7953\"],[0.7777777777777778,\"#fb9f3a\"],[0.8888888888888888,\"#fdca26\"],[1.0,\"#f0f921\"]],\"sequentialminus\":[[0.0,\"#0d0887\"],[0.1111111111111111,\"#46039f\"],[0.2222222222222222,\"#7201a8\"],[0.3333333333333333,\"#9c179e\"],[0.4444444444444444,\"#bd3786\"],[0.5555555555555556,\"#d8576b\"],[0.6666666666666666,\"#ed7953\"],[0.7777777777777778,\"#fb9f3a\"],[0.8888888888888888,\"#fdca26\"],[1.0,\"#f0f921\"]]},\"colorway\":[\"#636efa\",\"#EF553B\",\"#00cc96\",\"#ab63fa\",\"#FFA15A\",\"#19d3f3\",\"#FF6692\",\"#B6E880\",\"#FF97FF\",\"#FECB52\"],\"font\":{\"color\":\"#2a3f5f\"},\"geo\":{\"bgcolor\":\"white\",\"lakecolor\":\"white\",\"landcolor\":\"#E5ECF6\",\"showlakes\":true,\"showland\":true,\"subunitcolor\":\"white\"},\"hoverlabel\":{\"align\":\"left\"},\"hovermode\":\"closest\",\"mapbox\":{\"style\":\"light\"},\"paper_bgcolor\":\"white\",\"plot_bgcolor\":\"#E5ECF6\",\"polar\":{\"angularaxis\":{\"gridcolor\":\"white\",\"linecolor\":\"white\",\"ticks\":\"\"},\"bgcolor\":\"#E5ECF6\",\"radialaxis\":{\"gridcolor\":\"white\",\"linecolor\":\"white\",\"ticks\":\"\"}},\"scene\":{\"xaxis\":{\"backgroundcolor\":\"#E5ECF6\",\"gridcolor\":\"white\",\"gridwidth\":2,\"linecolor\":\"white\",\"showbackground\":true,\"ticks\":\"\",\"zerolinecolor\":\"white\"},\"yaxis\":{\"backgroundcolor\":\"#E5ECF6\",\"gridcolor\":\"white\",\"gridwidth\":2,\"linecolor\":\"white\",\"showbackground\":true,\"ticks\":\"\",\"zerolinecolor\":\"white\"},\"zaxis\":{\"backgroundcolor\":\"#E5ECF6\",\"gridcolor\":\"white\",\"gridwidth\":2,\"linecolor\":\"white\",\"showbackground\":true,\"ticks\":\"\",\"zerolinecolor\":\"white\"}},\"shapedefaults\":{\"line\":{\"color\":\"#2a3f5f\"}},\"ternary\":{\"aaxis\":{\"gridcolor\":\"white\",\"linecolor\":\"white\",\"ticks\":\"\"},\"baxis\":{\"gridcolor\":\"white\",\"linecolor\":\"white\",\"ticks\":\"\"},\"bgcolor\":\"#E5ECF6\",\"caxis\":{\"gridcolor\":\"white\",\"linecolor\":\"white\",\"ticks\":\"\"}},\"title\":{\"x\":0.05},\"xaxis\":{\"automargin\":true,\"gridcolor\":\"white\",\"linecolor\":\"white\",\"ticks\":\"\",\"title\":{\"standoff\":15},\"zerolinecolor\":\"white\",\"zerolinewidth\":2},\"yaxis\":{\"automargin\":true,\"gridcolor\":\"white\",\"linecolor\":\"white\",\"ticks\":\"\",\"title\":{\"standoff\":15},\"zerolinecolor\":\"white\",\"zerolinewidth\":2}}},\"xaxis\":{\"anchor\":\"y\",\"domain\":[0.0,1.0],\"title\":{\"text\":\"Year\"}},\"yaxis\":{\"anchor\":\"x\",\"domain\":[0.0,1.0],\"title\":{\"text\":\"Value\"}},\"legend\":{\"title\":{\"text\":\"Item\"},\"tracegroupgap\":0},\"title\":{\"text\":\"China, mainland\"}},                        {\"responsive\": true}                    ).then(function(){\n",
              "                            \n",
              "var gd = document.getElementById('5d5d02f8-b01c-40b3-9c63-60b731d85e3e');\n",
              "var x = new MutationObserver(function (mutations, observer) {{\n",
              "        var display = window.getComputedStyle(gd).display;\n",
              "        if (!display || display === 'none') {{\n",
              "            console.log([gd, 'removed!']);\n",
              "            Plotly.purge(gd);\n",
              "            observer.disconnect();\n",
              "        }}\n",
              "}});\n",
              "\n",
              "// Listen for the removal of the full notebook cells\n",
              "var notebookContainer = gd.closest('#notebook-container');\n",
              "if (notebookContainer) {{\n",
              "    x.observe(notebookContainer, {childList: true});\n",
              "}}\n",
              "\n",
              "// Listen for the clearing of the current output cell\n",
              "var outputEl = gd.closest('.output');\n",
              "if (outputEl) {{\n",
              "    x.observe(outputEl, {childList: true});\n",
              "}}\n",
              "\n",
              "                        })                };                            </script>        </div>\n",
              "</body>\n",
              "</html>"
            ]
          },
          "metadata": {}
        },
        {
          "output_type": "display_data",
          "data": {
            "text/html": [
              "<html>\n",
              "<head><meta charset=\"utf-8\" /></head>\n",
              "<body>\n",
              "    <div>            <script src=\"https://cdnjs.cloudflare.com/ajax/libs/mathjax/2.7.5/MathJax.js?config=TeX-AMS-MML_SVG\"></script><script type=\"text/javascript\">if (window.MathJax) {MathJax.Hub.Config({SVG: {font: \"STIX-Web\"}});}</script>                <script type=\"text/javascript\">window.PlotlyConfig = {MathJaxConfig: 'local'};</script>\n",
              "        <script src=\"https://cdn.plot.ly/plotly-2.8.3.min.js\"></script>                <div id=\"c3a842aa-cea0-412e-a47e-9260413db0ea\" class=\"plotly-graph-div\" style=\"height:525px; width:100%;\"></div>            <script type=\"text/javascript\">                                    window.PLOTLYENV=window.PLOTLYENV || {};                                    if (document.getElementById(\"c3a842aa-cea0-412e-a47e-9260413db0ea\")) {                    Plotly.newPlot(                        \"c3a842aa-cea0-412e-a47e-9260413db0ea\",                        [{\"hovertemplate\":\"Item=Ammonia, anhydrous<br>Year=%{x}<br>Value=%{y}<extra></extra>\",\"legendgroup\":\"Ammonia, anhydrous\",\"line\":{\"color\":\"#636efa\",\"dash\":\"solid\"},\"marker\":{\"symbol\":\"circle\"},\"mode\":\"markers+lines\",\"name\":\"Ammonia, anhydrous\",\"orientation\":\"v\",\"showlegend\":true,\"x\":[2015,2016,2017,2018,2019],\"xaxis\":\"x\",\"y\":[715718.62,628845.07,468831.98,403817.37,377456.9],\"yaxis\":\"y\",\"type\":\"scatter\"},{\"hovertemplate\":\"Item=Ammonium nitrate (AN)<br>Year=%{x}<br>Value=%{y}<extra></extra>\",\"legendgroup\":\"Ammonium nitrate (AN)\",\"line\":{\"color\":\"#EF553B\",\"dash\":\"solid\"},\"marker\":{\"symbol\":\"circle\"},\"mode\":\"markers+lines\",\"name\":\"Ammonium nitrate (AN)\",\"orientation\":\"v\",\"showlegend\":true,\"x\":[2015,2016,2017,2018,2019],\"xaxis\":\"x\",\"y\":[95270.45,69556.03,48051.66,65923.69,70267.13],\"yaxis\":\"y\",\"type\":\"scatter\"},{\"hovertemplate\":\"Item=Ammonium sulphate<br>Year=%{x}<br>Value=%{y}<extra></extra>\",\"legendgroup\":\"Ammonium sulphate\",\"line\":{\"color\":\"#00cc96\",\"dash\":\"solid\"},\"marker\":{\"symbol\":\"circle\"},\"mode\":\"markers+lines\",\"name\":\"Ammonium sulphate\",\"orientation\":\"v\",\"showlegend\":true,\"x\":[2015,2016,2017,2018,2019],\"xaxis\":\"x\",\"y\":[40370.91,51967.07,43751.5,29596.72,54262.02],\"yaxis\":\"y\",\"type\":\"scatter\"},{\"hovertemplate\":\"Item=Calcium ammonium nitrate (CAN) and other mixtures with calcium carbonate<br>Year=%{x}<br>Value=%{y}<extra></extra>\",\"legendgroup\":\"Calcium ammonium nitrate (CAN) and other mixtures with calcium carbonate\",\"line\":{\"color\":\"#ab63fa\",\"dash\":\"solid\"},\"marker\":{\"symbol\":\"circle\"},\"mode\":\"markers+lines\",\"name\":\"Calcium ammonium nitrate (CAN) and other mixtures with calcium carbonate\",\"orientation\":\"v\",\"showlegend\":true,\"x\":[2015,2016,2017,2018,2019],\"xaxis\":\"x\",\"y\":[1038.69,953.06,936.14,1603.58,5238.51],\"yaxis\":\"y\",\"type\":\"scatter\"},{\"hovertemplate\":\"Item=Diammonium phosphate (DAP)<br>Year=%{x}<br>Value=%{y}<extra></extra>\",\"legendgroup\":\"Diammonium phosphate (DAP)\",\"line\":{\"color\":\"#FFA15A\",\"dash\":\"solid\"},\"marker\":{\"symbol\":\"circle\"},\"mode\":\"markers+lines\",\"name\":\"Diammonium phosphate (DAP)\",\"orientation\":\"v\",\"showlegend\":true,\"x\":[2015,2016,2017,2018,2019],\"xaxis\":\"x\",\"y\":[516.53,835.89,1733.52,2277.16,3863.91],\"yaxis\":\"y\",\"type\":\"scatter\"},{\"hovertemplate\":\"Item=Fertilizers n.e.c.<br>Year=%{x}<br>Value=%{y}<extra></extra>\",\"legendgroup\":\"Fertilizers n.e.c.\",\"line\":{\"color\":\"#19d3f3\",\"dash\":\"solid\"},\"marker\":{\"symbol\":\"circle\"},\"mode\":\"markers+lines\",\"name\":\"Fertilizers n.e.c.\",\"orientation\":\"v\",\"showlegend\":true,\"x\":[2015,2016,2017,2018,2019],\"xaxis\":\"x\",\"y\":[26490.68,29037.04,32703.58,27555.79,29257.91],\"yaxis\":\"y\",\"type\":\"scatter\"},{\"hovertemplate\":\"Item=Monoammonium phosphate (MAP)<br>Year=%{x}<br>Value=%{y}<extra></extra>\",\"legendgroup\":\"Monoammonium phosphate (MAP)\",\"line\":{\"color\":\"#FF6692\",\"dash\":\"solid\"},\"marker\":{\"symbol\":\"circle\"},\"mode\":\"markers+lines\",\"name\":\"Monoammonium phosphate (MAP)\",\"orientation\":\"v\",\"showlegend\":true,\"x\":[2015,2016,2017,2018,2019],\"xaxis\":\"x\",\"y\":[1207.66,4975.95,5641.18,2350.46,1642.55],\"yaxis\":\"y\",\"type\":\"scatter\"},{\"hovertemplate\":\"Item=NPK fertilizers<br>Year=%{x}<br>Value=%{y}<extra></extra>\",\"legendgroup\":\"NPK fertilizers\",\"line\":{\"color\":\"#B6E880\",\"dash\":\"solid\"},\"marker\":{\"symbol\":\"circle\"},\"mode\":\"markers+lines\",\"name\":\"NPK fertilizers\",\"orientation\":\"v\",\"showlegend\":true,\"x\":[2015,2016,2017,2018,2019],\"xaxis\":\"x\",\"y\":[28372.2,25604.49,27197.13,27399.05,32964.54],\"yaxis\":\"y\",\"type\":\"scatter\"},{\"hovertemplate\":\"Item=Other NP compounds<br>Year=%{x}<br>Value=%{y}<extra></extra>\",\"legendgroup\":\"Other NP compounds\",\"line\":{\"color\":\"#FF97FF\",\"dash\":\"solid\"},\"marker\":{\"symbol\":\"circle\"},\"mode\":\"markers+lines\",\"name\":\"Other NP compounds\",\"orientation\":\"v\",\"showlegend\":true,\"x\":[2015,2016,2017,2018,2019],\"xaxis\":\"x\",\"y\":[1412.5,3390.48,4161.2,4279.77,2953.02],\"yaxis\":\"y\",\"type\":\"scatter\"},{\"hovertemplate\":\"Item=Other nitrogenous fertilizers, n.e.c.<br>Year=%{x}<br>Value=%{y}<extra></extra>\",\"legendgroup\":\"Other nitrogenous fertilizers, n.e.c.\",\"line\":{\"color\":\"#FECB52\",\"dash\":\"solid\"},\"marker\":{\"symbol\":\"circle\"},\"mode\":\"markers+lines\",\"name\":\"Other nitrogenous fertilizers, n.e.c.\",\"orientation\":\"v\",\"showlegend\":true,\"x\":[2015,2016,2017,2018,2019],\"xaxis\":\"x\",\"y\":[29890.18,37936.13,32304.3,28991.42,30568.23],\"yaxis\":\"y\",\"type\":\"scatter\"},{\"hovertemplate\":\"Item=Other phosphatic fertilizers, n.e.c.<br>Year=%{x}<br>Value=%{y}<extra></extra>\",\"legendgroup\":\"Other phosphatic fertilizers, n.e.c.\",\"line\":{\"color\":\"#636efa\",\"dash\":\"solid\"},\"marker\":{\"symbol\":\"circle\"},\"mode\":\"markers+lines\",\"name\":\"Other phosphatic fertilizers, n.e.c.\",\"orientation\":\"v\",\"showlegend\":true,\"x\":[2015,2016,2017,2018,2019],\"xaxis\":\"x\",\"y\":[44.48,160.4,223.5,130.4,269.36],\"yaxis\":\"y\",\"type\":\"scatter\"},{\"hovertemplate\":\"Item=Other potassic fertilizers, n.e.c.<br>Year=%{x}<br>Value=%{y}<extra></extra>\",\"legendgroup\":\"Other potassic fertilizers, n.e.c.\",\"line\":{\"color\":\"#EF553B\",\"dash\":\"solid\"},\"marker\":{\"symbol\":\"circle\"},\"mode\":\"markers+lines\",\"name\":\"Other potassic fertilizers, n.e.c.\",\"orientation\":\"v\",\"showlegend\":true,\"x\":[2015,2016,2017,2018,2019],\"xaxis\":\"x\",\"y\":[1561.02,1241.81,949.73,612.36,521.27],\"yaxis\":\"y\",\"type\":\"scatter\"},{\"hovertemplate\":\"Item=PK compounds<br>Year=%{x}<br>Value=%{y}<extra></extra>\",\"legendgroup\":\"PK compounds\",\"line\":{\"color\":\"#00cc96\",\"dash\":\"solid\"},\"marker\":{\"symbol\":\"circle\"},\"mode\":\"markers+lines\",\"name\":\"PK compounds\",\"orientation\":\"v\",\"showlegend\":true,\"x\":[2015,2016,2017,2018,2019],\"xaxis\":\"x\",\"y\":[3173.58,3616.71,2702.55,2498.12,2028.52],\"yaxis\":\"y\",\"type\":\"scatter\"},{\"hovertemplate\":\"Item=Phosphate rock<br>Year=%{x}<br>Value=%{y}<extra></extra>\",\"legendgroup\":\"Phosphate rock\",\"line\":{\"color\":\"#ab63fa\",\"dash\":\"solid\"},\"marker\":{\"symbol\":\"circle\"},\"mode\":\"markers+lines\",\"name\":\"Phosphate rock\",\"orientation\":\"v\",\"showlegend\":true,\"x\":[2015,2016,2017,2018,2019],\"xaxis\":\"x\",\"y\":[426.71,260.2,469.89,479.26,469.32],\"yaxis\":\"y\",\"type\":\"scatter\"},{\"hovertemplate\":\"Item=Potassium chloride (muriate of potash) (MOP)<br>Year=%{x}<br>Value=%{y}<extra></extra>\",\"legendgroup\":\"Potassium chloride (muriate of potash) (MOP)\",\"line\":{\"color\":\"#FFA15A\",\"dash\":\"solid\"},\"marker\":{\"symbol\":\"circle\"},\"mode\":\"markers+lines\",\"name\":\"Potassium chloride (muriate of potash) (MOP)\",\"orientation\":\"v\",\"showlegend\":true,\"x\":[2015,2016,2017,2018,2019],\"xaxis\":\"x\",\"y\":[5343733.82,3528846.25,3900877.05,4927783.37,4933837.61],\"yaxis\":\"y\",\"type\":\"scatter\"},{\"hovertemplate\":\"Item=Potassium nitrate<br>Year=%{x}<br>Value=%{y}<extra></extra>\",\"legendgroup\":\"Potassium nitrate\",\"line\":{\"color\":\"#19d3f3\",\"dash\":\"solid\"},\"marker\":{\"symbol\":\"circle\"},\"mode\":\"markers+lines\",\"name\":\"Potassium nitrate\",\"orientation\":\"v\",\"showlegend\":true,\"x\":[2015,2016,2017,2018,2019],\"xaxis\":\"x\",\"y\":[511.67,658.95,403.55,606.19,265.57],\"yaxis\":\"y\",\"type\":\"scatter\"},{\"hovertemplate\":\"Item=Potassium sulphate (sulphate of potash) (SOP)<br>Year=%{x}<br>Value=%{y}<extra></extra>\",\"legendgroup\":\"Potassium sulphate (sulphate of potash) (SOP)\",\"line\":{\"color\":\"#FF6692\",\"dash\":\"solid\"},\"marker\":{\"symbol\":\"circle\"},\"mode\":\"markers+lines\",\"name\":\"Potassium sulphate (sulphate of potash) (SOP)\",\"orientation\":\"v\",\"showlegend\":true,\"x\":[2015,2016,2017,2018,2019],\"xaxis\":\"x\",\"y\":[21608.5,14273.69,16954.63,18366.87,20125.35],\"yaxis\":\"y\",\"type\":\"scatter\"},{\"hovertemplate\":\"Item=Sodium nitrate<br>Year=%{x}<br>Value=%{y}<extra></extra>\",\"legendgroup\":\"Sodium nitrate\",\"line\":{\"color\":\"#B6E880\",\"dash\":\"solid\"},\"marker\":{\"symbol\":\"circle\"},\"mode\":\"markers+lines\",\"name\":\"Sodium nitrate\",\"orientation\":\"v\",\"showlegend\":true,\"x\":[2015,2016,2017,2018,2019],\"xaxis\":\"x\",\"y\":[31.69,95.84,58.44,62.62,24.56],\"yaxis\":\"y\",\"type\":\"scatter\"},{\"hovertemplate\":\"Item=Superphosphates above 35%<br>Year=%{x}<br>Value=%{y}<extra></extra>\",\"legendgroup\":\"Superphosphates above 35%\",\"line\":{\"color\":\"#FF97FF\",\"dash\":\"solid\"},\"marker\":{\"symbol\":\"circle\"},\"mode\":\"markers+lines\",\"name\":\"Superphosphates above 35%\",\"orientation\":\"v\",\"showlegend\":true,\"x\":[2015,2016,2017,2018],\"xaxis\":\"x\",\"y\":[34.5,3.99,48.74,3.89],\"yaxis\":\"y\",\"type\":\"scatter\"},{\"hovertemplate\":\"Item=Urea<br>Year=%{x}<br>Value=%{y}<extra></extra>\",\"legendgroup\":\"Urea\",\"line\":{\"color\":\"#FECB52\",\"dash\":\"solid\"},\"marker\":{\"symbol\":\"circle\"},\"mode\":\"markers+lines\",\"name\":\"Urea\",\"orientation\":\"v\",\"showlegend\":true,\"x\":[2015,2016,2017,2018,2019],\"xaxis\":\"x\",\"y\":[420907.32,371455.75,303569.76,251895.9,288955.0],\"yaxis\":\"y\",\"type\":\"scatter\"},{\"hovertemplate\":\"Item=Urea and ammonium nitrate solutions (UAN)<br>Year=%{x}<br>Value=%{y}<extra></extra>\",\"legendgroup\":\"Urea and ammonium nitrate solutions (UAN)\",\"line\":{\"color\":\"#636efa\",\"dash\":\"solid\"},\"marker\":{\"symbol\":\"circle\"},\"mode\":\"markers+lines\",\"name\":\"Urea and ammonium nitrate solutions (UAN)\",\"orientation\":\"v\",\"showlegend\":true,\"x\":[2015,2016,2017,2018,2019],\"xaxis\":\"x\",\"y\":[136916.45,100789.2,95805.14,103440.98,101684.82],\"yaxis\":\"y\",\"type\":\"scatter\"},{\"hovertemplate\":\"Item=Superphosphates, other<br>Year=%{x}<br>Value=%{y}<extra></extra>\",\"legendgroup\":\"Superphosphates, other\",\"line\":{\"color\":\"#EF553B\",\"dash\":\"solid\"},\"marker\":{\"symbol\":\"circle\"},\"mode\":\"markers+lines\",\"name\":\"Superphosphates, other\",\"orientation\":\"v\",\"showlegend\":true,\"x\":[2017,2018,2019],\"xaxis\":\"x\",\"y\":[69.91,2.69,2.3],\"yaxis\":\"y\",\"type\":\"scatter\"}],                        {\"template\":{\"data\":{\"bar\":[{\"error_x\":{\"color\":\"#2a3f5f\"},\"error_y\":{\"color\":\"#2a3f5f\"},\"marker\":{\"line\":{\"color\":\"#E5ECF6\",\"width\":0.5},\"pattern\":{\"fillmode\":\"overlay\",\"size\":10,\"solidity\":0.2}},\"type\":\"bar\"}],\"barpolar\":[{\"marker\":{\"line\":{\"color\":\"#E5ECF6\",\"width\":0.5},\"pattern\":{\"fillmode\":\"overlay\",\"size\":10,\"solidity\":0.2}},\"type\":\"barpolar\"}],\"carpet\":[{\"aaxis\":{\"endlinecolor\":\"#2a3f5f\",\"gridcolor\":\"white\",\"linecolor\":\"white\",\"minorgridcolor\":\"white\",\"startlinecolor\":\"#2a3f5f\"},\"baxis\":{\"endlinecolor\":\"#2a3f5f\",\"gridcolor\":\"white\",\"linecolor\":\"white\",\"minorgridcolor\":\"white\",\"startlinecolor\":\"#2a3f5f\"},\"type\":\"carpet\"}],\"choropleth\":[{\"colorbar\":{\"outlinewidth\":0,\"ticks\":\"\"},\"type\":\"choropleth\"}],\"contour\":[{\"colorbar\":{\"outlinewidth\":0,\"ticks\":\"\"},\"colorscale\":[[0.0,\"#0d0887\"],[0.1111111111111111,\"#46039f\"],[0.2222222222222222,\"#7201a8\"],[0.3333333333333333,\"#9c179e\"],[0.4444444444444444,\"#bd3786\"],[0.5555555555555556,\"#d8576b\"],[0.6666666666666666,\"#ed7953\"],[0.7777777777777778,\"#fb9f3a\"],[0.8888888888888888,\"#fdca26\"],[1.0,\"#f0f921\"]],\"type\":\"contour\"}],\"contourcarpet\":[{\"colorbar\":{\"outlinewidth\":0,\"ticks\":\"\"},\"type\":\"contourcarpet\"}],\"heatmap\":[{\"colorbar\":{\"outlinewidth\":0,\"ticks\":\"\"},\"colorscale\":[[0.0,\"#0d0887\"],[0.1111111111111111,\"#46039f\"],[0.2222222222222222,\"#7201a8\"],[0.3333333333333333,\"#9c179e\"],[0.4444444444444444,\"#bd3786\"],[0.5555555555555556,\"#d8576b\"],[0.6666666666666666,\"#ed7953\"],[0.7777777777777778,\"#fb9f3a\"],[0.8888888888888888,\"#fdca26\"],[1.0,\"#f0f921\"]],\"type\":\"heatmap\"}],\"heatmapgl\":[{\"colorbar\":{\"outlinewidth\":0,\"ticks\":\"\"},\"colorscale\":[[0.0,\"#0d0887\"],[0.1111111111111111,\"#46039f\"],[0.2222222222222222,\"#7201a8\"],[0.3333333333333333,\"#9c179e\"],[0.4444444444444444,\"#bd3786\"],[0.5555555555555556,\"#d8576b\"],[0.6666666666666666,\"#ed7953\"],[0.7777777777777778,\"#fb9f3a\"],[0.8888888888888888,\"#fdca26\"],[1.0,\"#f0f921\"]],\"type\":\"heatmapgl\"}],\"histogram\":[{\"marker\":{\"pattern\":{\"fillmode\":\"overlay\",\"size\":10,\"solidity\":0.2}},\"type\":\"histogram\"}],\"histogram2d\":[{\"colorbar\":{\"outlinewidth\":0,\"ticks\":\"\"},\"colorscale\":[[0.0,\"#0d0887\"],[0.1111111111111111,\"#46039f\"],[0.2222222222222222,\"#7201a8\"],[0.3333333333333333,\"#9c179e\"],[0.4444444444444444,\"#bd3786\"],[0.5555555555555556,\"#d8576b\"],[0.6666666666666666,\"#ed7953\"],[0.7777777777777778,\"#fb9f3a\"],[0.8888888888888888,\"#fdca26\"],[1.0,\"#f0f921\"]],\"type\":\"histogram2d\"}],\"histogram2dcontour\":[{\"colorbar\":{\"outlinewidth\":0,\"ticks\":\"\"},\"colorscale\":[[0.0,\"#0d0887\"],[0.1111111111111111,\"#46039f\"],[0.2222222222222222,\"#7201a8\"],[0.3333333333333333,\"#9c179e\"],[0.4444444444444444,\"#bd3786\"],[0.5555555555555556,\"#d8576b\"],[0.6666666666666666,\"#ed7953\"],[0.7777777777777778,\"#fb9f3a\"],[0.8888888888888888,\"#fdca26\"],[1.0,\"#f0f921\"]],\"type\":\"histogram2dcontour\"}],\"mesh3d\":[{\"colorbar\":{\"outlinewidth\":0,\"ticks\":\"\"},\"type\":\"mesh3d\"}],\"parcoords\":[{\"line\":{\"colorbar\":{\"outlinewidth\":0,\"ticks\":\"\"}},\"type\":\"parcoords\"}],\"pie\":[{\"automargin\":true,\"type\":\"pie\"}],\"scatter\":[{\"marker\":{\"colorbar\":{\"outlinewidth\":0,\"ticks\":\"\"}},\"type\":\"scatter\"}],\"scatter3d\":[{\"line\":{\"colorbar\":{\"outlinewidth\":0,\"ticks\":\"\"}},\"marker\":{\"colorbar\":{\"outlinewidth\":0,\"ticks\":\"\"}},\"type\":\"scatter3d\"}],\"scattercarpet\":[{\"marker\":{\"colorbar\":{\"outlinewidth\":0,\"ticks\":\"\"}},\"type\":\"scattercarpet\"}],\"scattergeo\":[{\"marker\":{\"colorbar\":{\"outlinewidth\":0,\"ticks\":\"\"}},\"type\":\"scattergeo\"}],\"scattergl\":[{\"marker\":{\"colorbar\":{\"outlinewidth\":0,\"ticks\":\"\"}},\"type\":\"scattergl\"}],\"scattermapbox\":[{\"marker\":{\"colorbar\":{\"outlinewidth\":0,\"ticks\":\"\"}},\"type\":\"scattermapbox\"}],\"scatterpolar\":[{\"marker\":{\"colorbar\":{\"outlinewidth\":0,\"ticks\":\"\"}},\"type\":\"scatterpolar\"}],\"scatterpolargl\":[{\"marker\":{\"colorbar\":{\"outlinewidth\":0,\"ticks\":\"\"}},\"type\":\"scatterpolargl\"}],\"scatterternary\":[{\"marker\":{\"colorbar\":{\"outlinewidth\":0,\"ticks\":\"\"}},\"type\":\"scatterternary\"}],\"surface\":[{\"colorbar\":{\"outlinewidth\":0,\"ticks\":\"\"},\"colorscale\":[[0.0,\"#0d0887\"],[0.1111111111111111,\"#46039f\"],[0.2222222222222222,\"#7201a8\"],[0.3333333333333333,\"#9c179e\"],[0.4444444444444444,\"#bd3786\"],[0.5555555555555556,\"#d8576b\"],[0.6666666666666666,\"#ed7953\"],[0.7777777777777778,\"#fb9f3a\"],[0.8888888888888888,\"#fdca26\"],[1.0,\"#f0f921\"]],\"type\":\"surface\"}],\"table\":[{\"cells\":{\"fill\":{\"color\":\"#EBF0F8\"},\"line\":{\"color\":\"white\"}},\"header\":{\"fill\":{\"color\":\"#C8D4E3\"},\"line\":{\"color\":\"white\"}},\"type\":\"table\"}]},\"layout\":{\"annotationdefaults\":{\"arrowcolor\":\"#2a3f5f\",\"arrowhead\":0,\"arrowwidth\":1},\"autotypenumbers\":\"strict\",\"coloraxis\":{\"colorbar\":{\"outlinewidth\":0,\"ticks\":\"\"}},\"colorscale\":{\"diverging\":[[0,\"#8e0152\"],[0.1,\"#c51b7d\"],[0.2,\"#de77ae\"],[0.3,\"#f1b6da\"],[0.4,\"#fde0ef\"],[0.5,\"#f7f7f7\"],[0.6,\"#e6f5d0\"],[0.7,\"#b8e186\"],[0.8,\"#7fbc41\"],[0.9,\"#4d9221\"],[1,\"#276419\"]],\"sequential\":[[0.0,\"#0d0887\"],[0.1111111111111111,\"#46039f\"],[0.2222222222222222,\"#7201a8\"],[0.3333333333333333,\"#9c179e\"],[0.4444444444444444,\"#bd3786\"],[0.5555555555555556,\"#d8576b\"],[0.6666666666666666,\"#ed7953\"],[0.7777777777777778,\"#fb9f3a\"],[0.8888888888888888,\"#fdca26\"],[1.0,\"#f0f921\"]],\"sequentialminus\":[[0.0,\"#0d0887\"],[0.1111111111111111,\"#46039f\"],[0.2222222222222222,\"#7201a8\"],[0.3333333333333333,\"#9c179e\"],[0.4444444444444444,\"#bd3786\"],[0.5555555555555556,\"#d8576b\"],[0.6666666666666666,\"#ed7953\"],[0.7777777777777778,\"#fb9f3a\"],[0.8888888888888888,\"#fdca26\"],[1.0,\"#f0f921\"]]},\"colorway\":[\"#636efa\",\"#EF553B\",\"#00cc96\",\"#ab63fa\",\"#FFA15A\",\"#19d3f3\",\"#FF6692\",\"#B6E880\",\"#FF97FF\",\"#FECB52\"],\"font\":{\"color\":\"#2a3f5f\"},\"geo\":{\"bgcolor\":\"white\",\"lakecolor\":\"white\",\"landcolor\":\"#E5ECF6\",\"showlakes\":true,\"showland\":true,\"subunitcolor\":\"white\"},\"hoverlabel\":{\"align\":\"left\"},\"hovermode\":\"closest\",\"mapbox\":{\"style\":\"light\"},\"paper_bgcolor\":\"white\",\"plot_bgcolor\":\"#E5ECF6\",\"polar\":{\"angularaxis\":{\"gridcolor\":\"white\",\"linecolor\":\"white\",\"ticks\":\"\"},\"bgcolor\":\"#E5ECF6\",\"radialaxis\":{\"gridcolor\":\"white\",\"linecolor\":\"white\",\"ticks\":\"\"}},\"scene\":{\"xaxis\":{\"backgroundcolor\":\"#E5ECF6\",\"gridcolor\":\"white\",\"gridwidth\":2,\"linecolor\":\"white\",\"showbackground\":true,\"ticks\":\"\",\"zerolinecolor\":\"white\"},\"yaxis\":{\"backgroundcolor\":\"#E5ECF6\",\"gridcolor\":\"white\",\"gridwidth\":2,\"linecolor\":\"white\",\"showbackground\":true,\"ticks\":\"\",\"zerolinecolor\":\"white\"},\"zaxis\":{\"backgroundcolor\":\"#E5ECF6\",\"gridcolor\":\"white\",\"gridwidth\":2,\"linecolor\":\"white\",\"showbackground\":true,\"ticks\":\"\",\"zerolinecolor\":\"white\"}},\"shapedefaults\":{\"line\":{\"color\":\"#2a3f5f\"}},\"ternary\":{\"aaxis\":{\"gridcolor\":\"white\",\"linecolor\":\"white\",\"ticks\":\"\"},\"baxis\":{\"gridcolor\":\"white\",\"linecolor\":\"white\",\"ticks\":\"\"},\"bgcolor\":\"#E5ECF6\",\"caxis\":{\"gridcolor\":\"white\",\"linecolor\":\"white\",\"ticks\":\"\"}},\"title\":{\"x\":0.05},\"xaxis\":{\"automargin\":true,\"gridcolor\":\"white\",\"linecolor\":\"white\",\"ticks\":\"\",\"title\":{\"standoff\":15},\"zerolinecolor\":\"white\",\"zerolinewidth\":2},\"yaxis\":{\"automargin\":true,\"gridcolor\":\"white\",\"linecolor\":\"white\",\"ticks\":\"\",\"title\":{\"standoff\":15},\"zerolinecolor\":\"white\",\"zerolinewidth\":2}}},\"xaxis\":{\"anchor\":\"y\",\"domain\":[0.0,1.0],\"title\":{\"text\":\"Year\"}},\"yaxis\":{\"anchor\":\"x\",\"domain\":[0.0,1.0],\"title\":{\"text\":\"Value\"}},\"legend\":{\"title\":{\"text\":\"Item\"},\"tracegroupgap\":0},\"title\":{\"text\":\"Canada\"}},                        {\"responsive\": true}                    ).then(function(){\n",
              "                            \n",
              "var gd = document.getElementById('c3a842aa-cea0-412e-a47e-9260413db0ea');\n",
              "var x = new MutationObserver(function (mutations, observer) {{\n",
              "        var display = window.getComputedStyle(gd).display;\n",
              "        if (!display || display === 'none') {{\n",
              "            console.log([gd, 'removed!']);\n",
              "            Plotly.purge(gd);\n",
              "            observer.disconnect();\n",
              "        }}\n",
              "}});\n",
              "\n",
              "// Listen for the removal of the full notebook cells\n",
              "var notebookContainer = gd.closest('#notebook-container');\n",
              "if (notebookContainer) {{\n",
              "    x.observe(notebookContainer, {childList: true});\n",
              "}}\n",
              "\n",
              "// Listen for the clearing of the current output cell\n",
              "var outputEl = gd.closest('.output');\n",
              "if (outputEl) {{\n",
              "    x.observe(outputEl, {childList: true});\n",
              "}}\n",
              "\n",
              "                        })                };                            </script>        </div>\n",
              "</body>\n",
              "</html>"
            ]
          },
          "metadata": {}
        },
        {
          "output_type": "display_data",
          "data": {
            "text/html": [
              "<html>\n",
              "<head><meta charset=\"utf-8\" /></head>\n",
              "<body>\n",
              "    <div>            <script src=\"https://cdnjs.cloudflare.com/ajax/libs/mathjax/2.7.5/MathJax.js?config=TeX-AMS-MML_SVG\"></script><script type=\"text/javascript\">if (window.MathJax) {MathJax.Hub.Config({SVG: {font: \"STIX-Web\"}});}</script>                <script type=\"text/javascript\">window.PlotlyConfig = {MathJaxConfig: 'local'};</script>\n",
              "        <script src=\"https://cdn.plot.ly/plotly-2.8.3.min.js\"></script>                <div id=\"c0184aa2-2d34-421f-a312-cd2c4e01bca1\" class=\"plotly-graph-div\" style=\"height:525px; width:100%;\"></div>            <script type=\"text/javascript\">                                    window.PLOTLYENV=window.PLOTLYENV || {};                                    if (document.getElementById(\"c0184aa2-2d34-421f-a312-cd2c4e01bca1\")) {                    Plotly.newPlot(                        \"c0184aa2-2d34-421f-a312-cd2c4e01bca1\",                        [{\"hovertemplate\":\"Item=Ammonia, anhydrous<br>Year=%{x}<br>Value=%{y}<extra></extra>\",\"legendgroup\":\"Ammonia, anhydrous\",\"line\":{\"color\":\"#636efa\",\"dash\":\"solid\"},\"marker\":{\"symbol\":\"circle\"},\"mode\":\"markers+lines\",\"name\":\"Ammonia, anhydrous\",\"orientation\":\"v\",\"showlegend\":true,\"x\":[2015,2016,2017,2018,2019],\"xaxis\":\"x\",\"y\":[80420.48,57085.92,186939.36,137158.27,121066.14],\"yaxis\":\"y\",\"type\":\"scatter\"},{\"hovertemplate\":\"Item=Ammonium nitrate (AN)<br>Year=%{x}<br>Value=%{y}<extra></extra>\",\"legendgroup\":\"Ammonium nitrate (AN)\",\"line\":{\"color\":\"#EF553B\",\"dash\":\"solid\"},\"marker\":{\"symbol\":\"circle\"},\"mode\":\"markers+lines\",\"name\":\"Ammonium nitrate (AN)\",\"orientation\":\"v\",\"showlegend\":true,\"x\":[2015,2016,2017,2018,2019],\"xaxis\":\"x\",\"y\":[81812.95,52396.25,60044.58,104193.21,79369.17],\"yaxis\":\"y\",\"type\":\"scatter\"},{\"hovertemplate\":\"Item=Ammonium sulphate<br>Year=%{x}<br>Value=%{y}<extra></extra>\",\"legendgroup\":\"Ammonium sulphate\",\"line\":{\"color\":\"#00cc96\",\"dash\":\"solid\"},\"marker\":{\"symbol\":\"circle\"},\"mode\":\"markers+lines\",\"name\":\"Ammonium sulphate\",\"orientation\":\"v\",\"showlegend\":true,\"x\":[2015,2016,2017,2018,2019],\"xaxis\":\"x\",\"y\":[169214.06,177876.3,250468.61,104869.83,95978.45],\"yaxis\":\"y\",\"type\":\"scatter\"},{\"hovertemplate\":\"Item=Calcium ammonium nitrate (CAN) and other mixtures with calcium carbonate<br>Year=%{x}<br>Value=%{y}<extra></extra>\",\"legendgroup\":\"Calcium ammonium nitrate (CAN) and other mixtures with calcium carbonate\",\"line\":{\"color\":\"#ab63fa\",\"dash\":\"solid\"},\"marker\":{\"symbol\":\"circle\"},\"mode\":\"markers+lines\",\"name\":\"Calcium ammonium nitrate (CAN) and other mixtures with calcium carbonate\",\"orientation\":\"v\",\"showlegend\":true,\"x\":[2015,2016,2017,2018,2019],\"xaxis\":\"x\",\"y\":[1102.34,1258.48,1574.96,799.78,812.36],\"yaxis\":\"y\",\"type\":\"scatter\"},{\"hovertemplate\":\"Item=Diammonium phosphate (DAP)<br>Year=%{x}<br>Value=%{y}<extra></extra>\",\"legendgroup\":\"Diammonium phosphate (DAP)\",\"line\":{\"color\":\"#FFA15A\",\"dash\":\"solid\"},\"marker\":{\"symbol\":\"circle\"},\"mode\":\"markers+lines\",\"name\":\"Diammonium phosphate (DAP)\",\"orientation\":\"v\",\"showlegend\":true,\"x\":[2015,2016,2017,2018,2019],\"xaxis\":\"x\",\"y\":[999012.3,590447.12,604160.27,399284.53,430905.78],\"yaxis\":\"y\",\"type\":\"scatter\"},{\"hovertemplate\":\"Item=Fertilizers n.e.c.<br>Year=%{x}<br>Value=%{y}<extra></extra>\",\"legendgroup\":\"Fertilizers n.e.c.\",\"line\":{\"color\":\"#19d3f3\",\"dash\":\"solid\"},\"marker\":{\"symbol\":\"circle\"},\"mode\":\"markers+lines\",\"name\":\"Fertilizers n.e.c.\",\"orientation\":\"v\",\"showlegend\":true,\"x\":[2015,2016,2017,2018,2019],\"xaxis\":\"x\",\"y\":[121040.48,109349.07,125691.96,127736.05,138829.05],\"yaxis\":\"y\",\"type\":\"scatter\"},{\"hovertemplate\":\"Item=Monoammonium phosphate (MAP)<br>Year=%{x}<br>Value=%{y}<extra></extra>\",\"legendgroup\":\"Monoammonium phosphate (MAP)\",\"line\":{\"color\":\"#FF6692\",\"dash\":\"solid\"},\"marker\":{\"symbol\":\"circle\"},\"mode\":\"markers+lines\",\"name\":\"Monoammonium phosphate (MAP)\",\"orientation\":\"v\",\"showlegend\":true,\"x\":[2015,2016,2017,2018,2019],\"xaxis\":\"x\",\"y\":[1071920.26,939255.0,872789.61,970864.9,962815.08],\"yaxis\":\"y\",\"type\":\"scatter\"},{\"hovertemplate\":\"Item=NPK fertilizers<br>Year=%{x}<br>Value=%{y}<extra></extra>\",\"legendgroup\":\"NPK fertilizers\",\"line\":{\"color\":\"#B6E880\",\"dash\":\"solid\"},\"marker\":{\"symbol\":\"circle\"},\"mode\":\"markers+lines\",\"name\":\"NPK fertilizers\",\"orientation\":\"v\",\"showlegend\":true,\"x\":[2015,2016,2017,2018,2019],\"xaxis\":\"x\",\"y\":[126238.31,83307.15,84554.6,76607.8,77479.19],\"yaxis\":\"y\",\"type\":\"scatter\"},{\"hovertemplate\":\"Item=Other NP compounds<br>Year=%{x}<br>Value=%{y}<extra></extra>\",\"legendgroup\":\"Other NP compounds\",\"line\":{\"color\":\"#FF97FF\",\"dash\":\"solid\"},\"marker\":{\"symbol\":\"circle\"},\"mode\":\"markers+lines\",\"name\":\"Other NP compounds\",\"orientation\":\"v\",\"showlegend\":true,\"x\":[2015,2016,2017,2018,2019],\"xaxis\":\"x\",\"y\":[467827.86,524444.54,632825.04,719220.03,677019.21],\"yaxis\":\"y\",\"type\":\"scatter\"},{\"hovertemplate\":\"Item=Other nitrogenous fertilizers, n.e.c.<br>Year=%{x}<br>Value=%{y}<extra></extra>\",\"legendgroup\":\"Other nitrogenous fertilizers, n.e.c.\",\"line\":{\"color\":\"#FECB52\",\"dash\":\"solid\"},\"marker\":{\"symbol\":\"circle\"},\"mode\":\"markers+lines\",\"name\":\"Other nitrogenous fertilizers, n.e.c.\",\"orientation\":\"v\",\"showlegend\":true,\"x\":[2015,2016,2017,2018,2019],\"xaxis\":\"x\",\"y\":[50338.23,53355.42,45354.27,47723.12,41279.45],\"yaxis\":\"y\",\"type\":\"scatter\"},{\"hovertemplate\":\"Item=Other phosphatic fertilizers, n.e.c.<br>Year=%{x}<br>Value=%{y}<extra></extra>\",\"legendgroup\":\"Other phosphatic fertilizers, n.e.c.\",\"line\":{\"color\":\"#636efa\",\"dash\":\"solid\"},\"marker\":{\"symbol\":\"circle\"},\"mode\":\"markers+lines\",\"name\":\"Other phosphatic fertilizers, n.e.c.\",\"orientation\":\"v\",\"showlegend\":true,\"x\":[2015,2016,2017,2018,2019],\"xaxis\":\"x\",\"y\":[28790.26,14643.75,11137.6,13408.08,4064.23],\"yaxis\":\"y\",\"type\":\"scatter\"},{\"hovertemplate\":\"Item=Other potassic fertilizers, n.e.c.<br>Year=%{x}<br>Value=%{y}<extra></extra>\",\"legendgroup\":\"Other potassic fertilizers, n.e.c.\",\"line\":{\"color\":\"#EF553B\",\"dash\":\"solid\"},\"marker\":{\"symbol\":\"circle\"},\"mode\":\"markers+lines\",\"name\":\"Other potassic fertilizers, n.e.c.\",\"orientation\":\"v\",\"showlegend\":true,\"x\":[2015,2016,2017,2018,2019],\"xaxis\":\"x\",\"y\":[141599.4,96571.54,90210.01,90129.3,111691.07],\"yaxis\":\"y\",\"type\":\"scatter\"},{\"hovertemplate\":\"Item=PK compounds<br>Year=%{x}<br>Value=%{y}<extra></extra>\",\"legendgroup\":\"PK compounds\",\"line\":{\"color\":\"#00cc96\",\"dash\":\"solid\"},\"marker\":{\"symbol\":\"circle\"},\"mode\":\"markers+lines\",\"name\":\"PK compounds\",\"orientation\":\"v\",\"showlegend\":true,\"x\":[2015,2016,2017,2018,2019],\"xaxis\":\"x\",\"y\":[7155.7,6528.74,7168.68,6252.09,6460.79],\"yaxis\":\"y\",\"type\":\"scatter\"},{\"hovertemplate\":\"Item=Phosphate rock<br>Year=%{x}<br>Value=%{y}<extra></extra>\",\"legendgroup\":\"Phosphate rock\",\"line\":{\"color\":\"#ab63fa\",\"dash\":\"solid\"},\"marker\":{\"symbol\":\"circle\"},\"mode\":\"markers+lines\",\"name\":\"Phosphate rock\",\"orientation\":\"v\",\"showlegend\":true,\"x\":[2015,2016,2017,2018,2019],\"xaxis\":\"x\",\"y\":[614.77,671.02,504.89,538.08,3085.48],\"yaxis\":\"y\",\"type\":\"scatter\"},{\"hovertemplate\":\"Item=Potassium chloride (muriate of potash) (MOP)<br>Year=%{x}<br>Value=%{y}<extra></extra>\",\"legendgroup\":\"Potassium chloride (muriate of potash) (MOP)\",\"line\":{\"color\":\"#FFA15A\",\"dash\":\"solid\"},\"marker\":{\"symbol\":\"circle\"},\"mode\":\"markers+lines\",\"name\":\"Potassium chloride (muriate of potash) (MOP)\",\"orientation\":\"v\",\"showlegend\":true,\"x\":[2015,2016,2017,2018,2019],\"xaxis\":\"x\",\"y\":[58686.77,44816.47,53413.72,93738.24,102573.75],\"yaxis\":\"y\",\"type\":\"scatter\"},{\"hovertemplate\":\"Item=Potassium nitrate<br>Year=%{x}<br>Value=%{y}<extra></extra>\",\"legendgroup\":\"Potassium nitrate\",\"line\":{\"color\":\"#19d3f3\",\"dash\":\"solid\"},\"marker\":{\"symbol\":\"circle\"},\"mode\":\"markers+lines\",\"name\":\"Potassium nitrate\",\"orientation\":\"v\",\"showlegend\":true,\"x\":[2015,2016,2017,2018,2019],\"xaxis\":\"x\",\"y\":[7668.74,12956.21,6592.05,6499.51,6060.13],\"yaxis\":\"y\",\"type\":\"scatter\"},{\"hovertemplate\":\"Item=Potassium sulphate (sulphate of potash) (SOP)<br>Year=%{x}<br>Value=%{y}<extra></extra>\",\"legendgroup\":\"Potassium sulphate (sulphate of potash) (SOP)\",\"line\":{\"color\":\"#FF6692\",\"dash\":\"solid\"},\"marker\":{\"symbol\":\"circle\"},\"mode\":\"markers+lines\",\"name\":\"Potassium sulphate (sulphate of potash) (SOP)\",\"orientation\":\"v\",\"showlegend\":true,\"x\":[2015,2016,2017,2018,2019],\"xaxis\":\"x\",\"y\":[23857.75,17056.24,26542.76,20138.48,23526.78],\"yaxis\":\"y\",\"type\":\"scatter\"},{\"hovertemplate\":\"Item=Sodium nitrate<br>Year=%{x}<br>Value=%{y}<extra></extra>\",\"legendgroup\":\"Sodium nitrate\",\"line\":{\"color\":\"#B6E880\",\"dash\":\"solid\"},\"marker\":{\"symbol\":\"circle\"},\"mode\":\"markers+lines\",\"name\":\"Sodium nitrate\",\"orientation\":\"v\",\"showlegend\":true,\"x\":[2015,2016,2017,2018,2019],\"xaxis\":\"x\",\"y\":[750.95,571.65,631.99,570.28,385.67],\"yaxis\":\"y\",\"type\":\"scatter\"},{\"hovertemplate\":\"Item=Superphosphates above 35%<br>Year=%{x}<br>Value=%{y}<extra></extra>\",\"legendgroup\":\"Superphosphates above 35%\",\"line\":{\"color\":\"#FF97FF\",\"dash\":\"solid\"},\"marker\":{\"symbol\":\"circle\"},\"mode\":\"markers+lines\",\"name\":\"Superphosphates above 35%\",\"orientation\":\"v\",\"showlegend\":true,\"x\":[2015,2016,2017,2018,2019],\"xaxis\":\"x\",\"y\":[24264.4,18677.74,782.78,630.05,525.24],\"yaxis\":\"y\",\"type\":\"scatter\"},{\"hovertemplate\":\"Item=Urea<br>Year=%{x}<br>Value=%{y}<extra></extra>\",\"legendgroup\":\"Urea\",\"line\":{\"color\":\"#FECB52\",\"dash\":\"solid\"},\"marker\":{\"symbol\":\"circle\"},\"mode\":\"markers+lines\",\"name\":\"Urea\",\"orientation\":\"v\",\"showlegend\":true,\"x\":[2015,2016,2017,2018,2019],\"xaxis\":\"x\",\"y\":[124227.79,100289.74,215255.15,224659.25,189510.33],\"yaxis\":\"y\",\"type\":\"scatter\"},{\"hovertemplate\":\"Item=Urea and ammonium nitrate solutions (UAN)<br>Year=%{x}<br>Value=%{y}<extra></extra>\",\"legendgroup\":\"Urea and ammonium nitrate solutions (UAN)\",\"line\":{\"color\":\"#636efa\",\"dash\":\"solid\"},\"marker\":{\"symbol\":\"circle\"},\"mode\":\"markers+lines\",\"name\":\"Urea and ammonium nitrate solutions (UAN)\",\"orientation\":\"v\",\"showlegend\":true,\"x\":[2015,2016,2017,2018,2019],\"xaxis\":\"x\",\"y\":[113622.07,183406.99,224096.46,268950.39,197266.54],\"yaxis\":\"y\",\"type\":\"scatter\"},{\"hovertemplate\":\"Item=Superphosphates, other<br>Year=%{x}<br>Value=%{y}<extra></extra>\",\"legendgroup\":\"Superphosphates, other\",\"line\":{\"color\":\"#EF553B\",\"dash\":\"solid\"},\"marker\":{\"symbol\":\"circle\"},\"mode\":\"markers+lines\",\"name\":\"Superphosphates, other\",\"orientation\":\"v\",\"showlegend\":true,\"x\":[2017,2018,2019],\"xaxis\":\"x\",\"y\":[99.42,45.26,208.06],\"yaxis\":\"y\",\"type\":\"scatter\"}],                        {\"template\":{\"data\":{\"bar\":[{\"error_x\":{\"color\":\"#2a3f5f\"},\"error_y\":{\"color\":\"#2a3f5f\"},\"marker\":{\"line\":{\"color\":\"#E5ECF6\",\"width\":0.5},\"pattern\":{\"fillmode\":\"overlay\",\"size\":10,\"solidity\":0.2}},\"type\":\"bar\"}],\"barpolar\":[{\"marker\":{\"line\":{\"color\":\"#E5ECF6\",\"width\":0.5},\"pattern\":{\"fillmode\":\"overlay\",\"size\":10,\"solidity\":0.2}},\"type\":\"barpolar\"}],\"carpet\":[{\"aaxis\":{\"endlinecolor\":\"#2a3f5f\",\"gridcolor\":\"white\",\"linecolor\":\"white\",\"minorgridcolor\":\"white\",\"startlinecolor\":\"#2a3f5f\"},\"baxis\":{\"endlinecolor\":\"#2a3f5f\",\"gridcolor\":\"white\",\"linecolor\":\"white\",\"minorgridcolor\":\"white\",\"startlinecolor\":\"#2a3f5f\"},\"type\":\"carpet\"}],\"choropleth\":[{\"colorbar\":{\"outlinewidth\":0,\"ticks\":\"\"},\"type\":\"choropleth\"}],\"contour\":[{\"colorbar\":{\"outlinewidth\":0,\"ticks\":\"\"},\"colorscale\":[[0.0,\"#0d0887\"],[0.1111111111111111,\"#46039f\"],[0.2222222222222222,\"#7201a8\"],[0.3333333333333333,\"#9c179e\"],[0.4444444444444444,\"#bd3786\"],[0.5555555555555556,\"#d8576b\"],[0.6666666666666666,\"#ed7953\"],[0.7777777777777778,\"#fb9f3a\"],[0.8888888888888888,\"#fdca26\"],[1.0,\"#f0f921\"]],\"type\":\"contour\"}],\"contourcarpet\":[{\"colorbar\":{\"outlinewidth\":0,\"ticks\":\"\"},\"type\":\"contourcarpet\"}],\"heatmap\":[{\"colorbar\":{\"outlinewidth\":0,\"ticks\":\"\"},\"colorscale\":[[0.0,\"#0d0887\"],[0.1111111111111111,\"#46039f\"],[0.2222222222222222,\"#7201a8\"],[0.3333333333333333,\"#9c179e\"],[0.4444444444444444,\"#bd3786\"],[0.5555555555555556,\"#d8576b\"],[0.6666666666666666,\"#ed7953\"],[0.7777777777777778,\"#fb9f3a\"],[0.8888888888888888,\"#fdca26\"],[1.0,\"#f0f921\"]],\"type\":\"heatmap\"}],\"heatmapgl\":[{\"colorbar\":{\"outlinewidth\":0,\"ticks\":\"\"},\"colorscale\":[[0.0,\"#0d0887\"],[0.1111111111111111,\"#46039f\"],[0.2222222222222222,\"#7201a8\"],[0.3333333333333333,\"#9c179e\"],[0.4444444444444444,\"#bd3786\"],[0.5555555555555556,\"#d8576b\"],[0.6666666666666666,\"#ed7953\"],[0.7777777777777778,\"#fb9f3a\"],[0.8888888888888888,\"#fdca26\"],[1.0,\"#f0f921\"]],\"type\":\"heatmapgl\"}],\"histogram\":[{\"marker\":{\"pattern\":{\"fillmode\":\"overlay\",\"size\":10,\"solidity\":0.2}},\"type\":\"histogram\"}],\"histogram2d\":[{\"colorbar\":{\"outlinewidth\":0,\"ticks\":\"\"},\"colorscale\":[[0.0,\"#0d0887\"],[0.1111111111111111,\"#46039f\"],[0.2222222222222222,\"#7201a8\"],[0.3333333333333333,\"#9c179e\"],[0.4444444444444444,\"#bd3786\"],[0.5555555555555556,\"#d8576b\"],[0.6666666666666666,\"#ed7953\"],[0.7777777777777778,\"#fb9f3a\"],[0.8888888888888888,\"#fdca26\"],[1.0,\"#f0f921\"]],\"type\":\"histogram2d\"}],\"histogram2dcontour\":[{\"colorbar\":{\"outlinewidth\":0,\"ticks\":\"\"},\"colorscale\":[[0.0,\"#0d0887\"],[0.1111111111111111,\"#46039f\"],[0.2222222222222222,\"#7201a8\"],[0.3333333333333333,\"#9c179e\"],[0.4444444444444444,\"#bd3786\"],[0.5555555555555556,\"#d8576b\"],[0.6666666666666666,\"#ed7953\"],[0.7777777777777778,\"#fb9f3a\"],[0.8888888888888888,\"#fdca26\"],[1.0,\"#f0f921\"]],\"type\":\"histogram2dcontour\"}],\"mesh3d\":[{\"colorbar\":{\"outlinewidth\":0,\"ticks\":\"\"},\"type\":\"mesh3d\"}],\"parcoords\":[{\"line\":{\"colorbar\":{\"outlinewidth\":0,\"ticks\":\"\"}},\"type\":\"parcoords\"}],\"pie\":[{\"automargin\":true,\"type\":\"pie\"}],\"scatter\":[{\"marker\":{\"colorbar\":{\"outlinewidth\":0,\"ticks\":\"\"}},\"type\":\"scatter\"}],\"scatter3d\":[{\"line\":{\"colorbar\":{\"outlinewidth\":0,\"ticks\":\"\"}},\"marker\":{\"colorbar\":{\"outlinewidth\":0,\"ticks\":\"\"}},\"type\":\"scatter3d\"}],\"scattercarpet\":[{\"marker\":{\"colorbar\":{\"outlinewidth\":0,\"ticks\":\"\"}},\"type\":\"scattercarpet\"}],\"scattergeo\":[{\"marker\":{\"colorbar\":{\"outlinewidth\":0,\"ticks\":\"\"}},\"type\":\"scattergeo\"}],\"scattergl\":[{\"marker\":{\"colorbar\":{\"outlinewidth\":0,\"ticks\":\"\"}},\"type\":\"scattergl\"}],\"scattermapbox\":[{\"marker\":{\"colorbar\":{\"outlinewidth\":0,\"ticks\":\"\"}},\"type\":\"scattermapbox\"}],\"scatterpolar\":[{\"marker\":{\"colorbar\":{\"outlinewidth\":0,\"ticks\":\"\"}},\"type\":\"scatterpolar\"}],\"scatterpolargl\":[{\"marker\":{\"colorbar\":{\"outlinewidth\":0,\"ticks\":\"\"}},\"type\":\"scatterpolargl\"}],\"scatterternary\":[{\"marker\":{\"colorbar\":{\"outlinewidth\":0,\"ticks\":\"\"}},\"type\":\"scatterternary\"}],\"surface\":[{\"colorbar\":{\"outlinewidth\":0,\"ticks\":\"\"},\"colorscale\":[[0.0,\"#0d0887\"],[0.1111111111111111,\"#46039f\"],[0.2222222222222222,\"#7201a8\"],[0.3333333333333333,\"#9c179e\"],[0.4444444444444444,\"#bd3786\"],[0.5555555555555556,\"#d8576b\"],[0.6666666666666666,\"#ed7953\"],[0.7777777777777778,\"#fb9f3a\"],[0.8888888888888888,\"#fdca26\"],[1.0,\"#f0f921\"]],\"type\":\"surface\"}],\"table\":[{\"cells\":{\"fill\":{\"color\":\"#EBF0F8\"},\"line\":{\"color\":\"white\"}},\"header\":{\"fill\":{\"color\":\"#C8D4E3\"},\"line\":{\"color\":\"white\"}},\"type\":\"table\"}]},\"layout\":{\"annotationdefaults\":{\"arrowcolor\":\"#2a3f5f\",\"arrowhead\":0,\"arrowwidth\":1},\"autotypenumbers\":\"strict\",\"coloraxis\":{\"colorbar\":{\"outlinewidth\":0,\"ticks\":\"\"}},\"colorscale\":{\"diverging\":[[0,\"#8e0152\"],[0.1,\"#c51b7d\"],[0.2,\"#de77ae\"],[0.3,\"#f1b6da\"],[0.4,\"#fde0ef\"],[0.5,\"#f7f7f7\"],[0.6,\"#e6f5d0\"],[0.7,\"#b8e186\"],[0.8,\"#7fbc41\"],[0.9,\"#4d9221\"],[1,\"#276419\"]],\"sequential\":[[0.0,\"#0d0887\"],[0.1111111111111111,\"#46039f\"],[0.2222222222222222,\"#7201a8\"],[0.3333333333333333,\"#9c179e\"],[0.4444444444444444,\"#bd3786\"],[0.5555555555555556,\"#d8576b\"],[0.6666666666666666,\"#ed7953\"],[0.7777777777777778,\"#fb9f3a\"],[0.8888888888888888,\"#fdca26\"],[1.0,\"#f0f921\"]],\"sequentialminus\":[[0.0,\"#0d0887\"],[0.1111111111111111,\"#46039f\"],[0.2222222222222222,\"#7201a8\"],[0.3333333333333333,\"#9c179e\"],[0.4444444444444444,\"#bd3786\"],[0.5555555555555556,\"#d8576b\"],[0.6666666666666666,\"#ed7953\"],[0.7777777777777778,\"#fb9f3a\"],[0.8888888888888888,\"#fdca26\"],[1.0,\"#f0f921\"]]},\"colorway\":[\"#636efa\",\"#EF553B\",\"#00cc96\",\"#ab63fa\",\"#FFA15A\",\"#19d3f3\",\"#FF6692\",\"#B6E880\",\"#FF97FF\",\"#FECB52\"],\"font\":{\"color\":\"#2a3f5f\"},\"geo\":{\"bgcolor\":\"white\",\"lakecolor\":\"white\",\"landcolor\":\"#E5ECF6\",\"showlakes\":true,\"showland\":true,\"subunitcolor\":\"white\"},\"hoverlabel\":{\"align\":\"left\"},\"hovermode\":\"closest\",\"mapbox\":{\"style\":\"light\"},\"paper_bgcolor\":\"white\",\"plot_bgcolor\":\"#E5ECF6\",\"polar\":{\"angularaxis\":{\"gridcolor\":\"white\",\"linecolor\":\"white\",\"ticks\":\"\"},\"bgcolor\":\"#E5ECF6\",\"radialaxis\":{\"gridcolor\":\"white\",\"linecolor\":\"white\",\"ticks\":\"\"}},\"scene\":{\"xaxis\":{\"backgroundcolor\":\"#E5ECF6\",\"gridcolor\":\"white\",\"gridwidth\":2,\"linecolor\":\"white\",\"showbackground\":true,\"ticks\":\"\",\"zerolinecolor\":\"white\"},\"yaxis\":{\"backgroundcolor\":\"#E5ECF6\",\"gridcolor\":\"white\",\"gridwidth\":2,\"linecolor\":\"white\",\"showbackground\":true,\"ticks\":\"\",\"zerolinecolor\":\"white\"},\"zaxis\":{\"backgroundcolor\":\"#E5ECF6\",\"gridcolor\":\"white\",\"gridwidth\":2,\"linecolor\":\"white\",\"showbackground\":true,\"ticks\":\"\",\"zerolinecolor\":\"white\"}},\"shapedefaults\":{\"line\":{\"color\":\"#2a3f5f\"}},\"ternary\":{\"aaxis\":{\"gridcolor\":\"white\",\"linecolor\":\"white\",\"ticks\":\"\"},\"baxis\":{\"gridcolor\":\"white\",\"linecolor\":\"white\",\"ticks\":\"\"},\"bgcolor\":\"#E5ECF6\",\"caxis\":{\"gridcolor\":\"white\",\"linecolor\":\"white\",\"ticks\":\"\"}},\"title\":{\"x\":0.05},\"xaxis\":{\"automargin\":true,\"gridcolor\":\"white\",\"linecolor\":\"white\",\"ticks\":\"\",\"title\":{\"standoff\":15},\"zerolinecolor\":\"white\",\"zerolinewidth\":2},\"yaxis\":{\"automargin\":true,\"gridcolor\":\"white\",\"linecolor\":\"white\",\"ticks\":\"\",\"title\":{\"standoff\":15},\"zerolinecolor\":\"white\",\"zerolinewidth\":2}}},\"xaxis\":{\"anchor\":\"y\",\"domain\":[0.0,1.0],\"title\":{\"text\":\"Year\"}},\"yaxis\":{\"anchor\":\"x\",\"domain\":[0.0,1.0],\"title\":{\"text\":\"Value\"}},\"legend\":{\"title\":{\"text\":\"Item\"},\"tracegroupgap\":0},\"title\":{\"text\":\"United States of America\"}},                        {\"responsive\": true}                    ).then(function(){\n",
              "                            \n",
              "var gd = document.getElementById('c0184aa2-2d34-421f-a312-cd2c4e01bca1');\n",
              "var x = new MutationObserver(function (mutations, observer) {{\n",
              "        var display = window.getComputedStyle(gd).display;\n",
              "        if (!display || display === 'none') {{\n",
              "            console.log([gd, 'removed!']);\n",
              "            Plotly.purge(gd);\n",
              "            observer.disconnect();\n",
              "        }}\n",
              "}});\n",
              "\n",
              "// Listen for the removal of the full notebook cells\n",
              "var notebookContainer = gd.closest('#notebook-container');\n",
              "if (notebookContainer) {{\n",
              "    x.observe(notebookContainer, {childList: true});\n",
              "}}\n",
              "\n",
              "// Listen for the clearing of the current output cell\n",
              "var outputEl = gd.closest('.output');\n",
              "if (outputEl) {{\n",
              "    x.observe(outputEl, {childList: true});\n",
              "}}\n",
              "\n",
              "                        })                };                            </script>        </div>\n",
              "</body>\n",
              "</html>"
            ]
          },
          "metadata": {}
        },
        {
          "output_type": "display_data",
          "data": {
            "text/html": [
              "<html>\n",
              "<head><meta charset=\"utf-8\" /></head>\n",
              "<body>\n",
              "    <div>            <script src=\"https://cdnjs.cloudflare.com/ajax/libs/mathjax/2.7.5/MathJax.js?config=TeX-AMS-MML_SVG\"></script><script type=\"text/javascript\">if (window.MathJax) {MathJax.Hub.Config({SVG: {font: \"STIX-Web\"}});}</script>                <script type=\"text/javascript\">window.PlotlyConfig = {MathJaxConfig: 'local'};</script>\n",
              "        <script src=\"https://cdn.plot.ly/plotly-2.8.3.min.js\"></script>                <div id=\"a3d9759a-2069-4e91-bd6c-8f7bacb26075\" class=\"plotly-graph-div\" style=\"height:525px; width:100%;\"></div>            <script type=\"text/javascript\">                                    window.PLOTLYENV=window.PLOTLYENV || {};                                    if (document.getElementById(\"a3d9759a-2069-4e91-bd6c-8f7bacb26075\")) {                    Plotly.newPlot(                        \"a3d9759a-2069-4e91-bd6c-8f7bacb26075\",                        [{\"hovertemplate\":\"Item=Ammonium nitrate (AN)<br>Year=%{x}<br>Value=%{y}<extra></extra>\",\"legendgroup\":\"Ammonium nitrate (AN)\",\"line\":{\"color\":\"#636efa\",\"dash\":\"solid\"},\"marker\":{\"symbol\":\"circle\"},\"mode\":\"markers+lines\",\"name\":\"Ammonium nitrate (AN)\",\"orientation\":\"v\",\"showlegend\":true,\"x\":[2015,2016,2017,2018,2019],\"xaxis\":\"x\",\"y\":[225.54,265.43,334.97,2612.26,1607.65],\"yaxis\":\"y\",\"type\":\"scatter\"},{\"hovertemplate\":\"Item=Ammonium sulphate<br>Year=%{x}<br>Value=%{y}<extra></extra>\",\"legendgroup\":\"Ammonium sulphate\",\"line\":{\"color\":\"#EF553B\",\"dash\":\"solid\"},\"marker\":{\"symbol\":\"circle\"},\"mode\":\"markers+lines\",\"name\":\"Ammonium sulphate\",\"orientation\":\"v\",\"showlegend\":true,\"x\":[2015,2016,2017,2018,2019],\"xaxis\":\"x\",\"y\":[3.73,587.08,415.15,3.86,15.37],\"yaxis\":\"y\",\"type\":\"scatter\"},{\"hovertemplate\":\"Item=Diammonium phosphate (DAP)<br>Year=%{x}<br>Value=%{y}<extra></extra>\",\"legendgroup\":\"Diammonium phosphate (DAP)\",\"line\":{\"color\":\"#00cc96\",\"dash\":\"solid\"},\"marker\":{\"symbol\":\"circle\"},\"mode\":\"markers+lines\",\"name\":\"Diammonium phosphate (DAP)\",\"orientation\":\"v\",\"showlegend\":true,\"x\":[2015,2016,2017,2018,2019],\"xaxis\":\"x\",\"y\":[602961.21,607322.6,797007.9,1271948.08,939137.16],\"yaxis\":\"y\",\"type\":\"scatter\"},{\"hovertemplate\":\"Item=Fertilizers n.e.c.<br>Year=%{x}<br>Value=%{y}<extra></extra>\",\"legendgroup\":\"Fertilizers n.e.c.\",\"line\":{\"color\":\"#ab63fa\",\"dash\":\"solid\"},\"marker\":{\"symbol\":\"circle\"},\"mode\":\"markers+lines\",\"name\":\"Fertilizers n.e.c.\",\"orientation\":\"v\",\"showlegend\":true,\"x\":[2015,2016,2017,2018,2019],\"xaxis\":\"x\",\"y\":[319.6,298.32,426.66,298.68,558.32],\"yaxis\":\"y\",\"type\":\"scatter\"},{\"hovertemplate\":\"Item=Monoammonium phosphate (MAP)<br>Year=%{x}<br>Value=%{y}<extra></extra>\",\"legendgroup\":\"Monoammonium phosphate (MAP)\",\"line\":{\"color\":\"#FFA15A\",\"dash\":\"solid\"},\"marker\":{\"symbol\":\"circle\"},\"mode\":\"markers+lines\",\"name\":\"Monoammonium phosphate (MAP)\",\"orientation\":\"v\",\"showlegend\":true,\"x\":[2015,2016,2017,2018,2019],\"xaxis\":\"x\",\"y\":[607635.19,715929.21,812101.99,1026763.62,1041790.05],\"yaxis\":\"y\",\"type\":\"scatter\"},{\"hovertemplate\":\"Item=NPK fertilizers<br>Year=%{x}<br>Value=%{y}<extra></extra>\",\"legendgroup\":\"NPK fertilizers\",\"line\":{\"color\":\"#19d3f3\",\"dash\":\"solid\"},\"marker\":{\"symbol\":\"circle\"},\"mode\":\"markers+lines\",\"name\":\"NPK fertilizers\",\"orientation\":\"v\",\"showlegend\":true,\"x\":[2015,2016,2017,2018,2019],\"xaxis\":\"x\",\"y\":[147787.1,216140.22,277586.61,251185.62,210351.07],\"yaxis\":\"y\",\"type\":\"scatter\"},{\"hovertemplate\":\"Item=Other NP compounds<br>Year=%{x}<br>Value=%{y}<extra></extra>\",\"legendgroup\":\"Other NP compounds\",\"line\":{\"color\":\"#FF6692\",\"dash\":\"solid\"},\"marker\":{\"symbol\":\"circle\"},\"mode\":\"markers+lines\",\"name\":\"Other NP compounds\",\"orientation\":\"v\",\"showlegend\":true,\"x\":[2015,2016,2017,2018,2019],\"xaxis\":\"x\",\"y\":[195749.36,287622.27,386536.59,263838.04,354034.76],\"yaxis\":\"y\",\"type\":\"scatter\"},{\"hovertemplate\":\"Item=Other nitrogenous fertilizers, n.e.c.<br>Year=%{x}<br>Value=%{y}<extra></extra>\",\"legendgroup\":\"Other nitrogenous fertilizers, n.e.c.\",\"line\":{\"color\":\"#B6E880\",\"dash\":\"solid\"},\"marker\":{\"symbol\":\"circle\"},\"mode\":\"markers+lines\",\"name\":\"Other nitrogenous fertilizers, n.e.c.\",\"orientation\":\"v\",\"showlegend\":true,\"x\":[2015,2016,2017,2018,2019],\"xaxis\":\"x\",\"y\":[1.36,55.74,91.02,4.03,62.41],\"yaxis\":\"y\",\"type\":\"scatter\"},{\"hovertemplate\":\"Item=Other phosphatic fertilizers, n.e.c.<br>Year=%{x}<br>Value=%{y}<extra></extra>\",\"legendgroup\":\"Other phosphatic fertilizers, n.e.c.\",\"line\":{\"color\":\"#FF97FF\",\"dash\":\"solid\"},\"marker\":{\"symbol\":\"circle\"},\"mode\":\"markers+lines\",\"name\":\"Other phosphatic fertilizers, n.e.c.\",\"orientation\":\"v\",\"showlegend\":true,\"x\":[2015,2016,2017],\"xaxis\":\"x\",\"y\":[5008.9,668.6,231.29],\"yaxis\":\"y\",\"type\":\"scatter\"},{\"hovertemplate\":\"Item=Other potassic fertilizers, n.e.c.<br>Year=%{x}<br>Value=%{y}<extra></extra>\",\"legendgroup\":\"Other potassic fertilizers, n.e.c.\",\"line\":{\"color\":\"#FECB52\",\"dash\":\"solid\"},\"marker\":{\"symbol\":\"circle\"},\"mode\":\"markers+lines\",\"name\":\"Other potassic fertilizers, n.e.c.\",\"orientation\":\"v\",\"showlegend\":true,\"x\":[2015,2016,2018,2019],\"xaxis\":\"x\",\"y\":[7.08,33.08,5.25,14.7],\"yaxis\":\"y\",\"type\":\"scatter\"},{\"hovertemplate\":\"Item=PK compounds<br>Year=%{x}<br>Value=%{y}<extra></extra>\",\"legendgroup\":\"PK compounds\",\"line\":{\"color\":\"#636efa\",\"dash\":\"solid\"},\"marker\":{\"symbol\":\"circle\"},\"mode\":\"markers+lines\",\"name\":\"PK compounds\",\"orientation\":\"v\",\"showlegend\":true,\"x\":[2015,2016,2017,2018,2019],\"xaxis\":\"x\",\"y\":[16.3,19.72,10.65,21.65,21.71],\"yaxis\":\"y\",\"type\":\"scatter\"},{\"hovertemplate\":\"Item=Phosphate rock<br>Year=%{x}<br>Value=%{y}<extra></extra>\",\"legendgroup\":\"Phosphate rock\",\"line\":{\"color\":\"#EF553B\",\"dash\":\"solid\"},\"marker\":{\"symbol\":\"circle\"},\"mode\":\"markers+lines\",\"name\":\"Phosphate rock\",\"orientation\":\"v\",\"showlegend\":true,\"x\":[2015,2016,2017,2018,2019],\"xaxis\":\"x\",\"y\":[1022306.67,756299.37,863126.72,884527.55,760176.81],\"yaxis\":\"y\",\"type\":\"scatter\"},{\"hovertemplate\":\"Item=Potassium nitrate<br>Year=%{x}<br>Value=%{y}<extra></extra>\",\"legendgroup\":\"Potassium nitrate\",\"line\":{\"color\":\"#00cc96\",\"dash\":\"solid\"},\"marker\":{\"symbol\":\"circle\"},\"mode\":\"markers+lines\",\"name\":\"Potassium nitrate\",\"orientation\":\"v\",\"showlegend\":true,\"x\":[2015,2016,2017,2018,2019],\"xaxis\":\"x\",\"y\":[5.12,29.46,21.68,73.56,78.64],\"yaxis\":\"y\",\"type\":\"scatter\"},{\"hovertemplate\":\"Item=Potassium sulphate (sulphate of potash) (SOP)<br>Year=%{x}<br>Value=%{y}<extra></extra>\",\"legendgroup\":\"Potassium sulphate (sulphate of potash) (SOP)\",\"line\":{\"color\":\"#ab63fa\",\"dash\":\"solid\"},\"marker\":{\"symbol\":\"circle\"},\"mode\":\"markers+lines\",\"name\":\"Potassium sulphate (sulphate of potash) (SOP)\",\"orientation\":\"v\",\"showlegend\":true,\"x\":[2015,2016,2017,2018,2019],\"xaxis\":\"x\",\"y\":[21.05,17.98,4.5,20.25,109.94],\"yaxis\":\"y\",\"type\":\"scatter\"},{\"hovertemplate\":\"Item=Superphosphates above 35%<br>Year=%{x}<br>Value=%{y}<extra></extra>\",\"legendgroup\":\"Superphosphates above 35%\",\"line\":{\"color\":\"#FFA15A\",\"dash\":\"solid\"},\"marker\":{\"symbol\":\"circle\"},\"mode\":\"markers+lines\",\"name\":\"Superphosphates above 35%\",\"orientation\":\"v\",\"showlegend\":true,\"x\":[2015,2016,2017,2018,2019],\"xaxis\":\"x\",\"y\":[308921.62,304665.09,291473.17,352370.12,361674.73],\"yaxis\":\"y\",\"type\":\"scatter\"},{\"hovertemplate\":\"Item=Urea<br>Year=%{x}<br>Value=%{y}<extra></extra>\",\"legendgroup\":\"Urea\",\"line\":{\"color\":\"#19d3f3\",\"dash\":\"solid\"},\"marker\":{\"symbol\":\"circle\"},\"mode\":\"markers+lines\",\"name\":\"Urea\",\"orientation\":\"v\",\"showlegend\":true,\"x\":[2015,2016,2017,2018,2019],\"xaxis\":\"x\",\"y\":[12.09,39.6,570.1,126.34,59.81],\"yaxis\":\"y\",\"type\":\"scatter\"},{\"hovertemplate\":\"Item=Calcium ammonium nitrate (CAN) and other mixtures with calcium carbonate<br>Year=%{x}<br>Value=%{y}<extra></extra>\",\"legendgroup\":\"Calcium ammonium nitrate (CAN) and other mixtures with calcium carbonate\",\"line\":{\"color\":\"#FF6692\",\"dash\":\"solid\"},\"marker\":{\"symbol\":\"circle\"},\"mode\":\"markers+lines\",\"name\":\"Calcium ammonium nitrate (CAN) and other mixtures with calcium carbonate\",\"orientation\":\"v\",\"showlegend\":true,\"x\":[2018],\"xaxis\":\"x\",\"y\":[0.59],\"yaxis\":\"y\",\"type\":\"scatter\"},{\"hovertemplate\":\"Item=Potassium chloride (muriate of potash) (MOP)<br>Year=%{x}<br>Value=%{y}<extra></extra>\",\"legendgroup\":\"Potassium chloride (muriate of potash) (MOP)\",\"line\":{\"color\":\"#B6E880\",\"dash\":\"solid\"},\"marker\":{\"symbol\":\"circle\"},\"mode\":\"markers+lines\",\"name\":\"Potassium chloride (muriate of potash) (MOP)\",\"orientation\":\"v\",\"showlegend\":true,\"x\":[2018,2019],\"xaxis\":\"x\",\"y\":[367.37,4389.22],\"yaxis\":\"y\",\"type\":\"scatter\"},{\"hovertemplate\":\"Item=Superphosphates, other<br>Year=%{x}<br>Value=%{y}<extra></extra>\",\"legendgroup\":\"Superphosphates, other\",\"line\":{\"color\":\"#FF97FF\",\"dash\":\"solid\"},\"marker\":{\"symbol\":\"circle\"},\"mode\":\"markers+lines\",\"name\":\"Superphosphates, other\",\"orientation\":\"v\",\"showlegend\":true,\"x\":[2018],\"xaxis\":\"x\",\"y\":[0.01],\"yaxis\":\"y\",\"type\":\"scatter\"},{\"hovertemplate\":\"Item=Ammonia, anhydrous<br>Year=%{x}<br>Value=%{y}<extra></extra>\",\"legendgroup\":\"Ammonia, anhydrous\",\"line\":{\"color\":\"#FECB52\",\"dash\":\"solid\"},\"marker\":{\"symbol\":\"circle\"},\"mode\":\"markers+lines\",\"name\":\"Ammonia, anhydrous\",\"orientation\":\"v\",\"showlegend\":true,\"x\":[2019],\"xaxis\":\"x\",\"y\":[0.67],\"yaxis\":\"y\",\"type\":\"scatter\"}],                        {\"template\":{\"data\":{\"bar\":[{\"error_x\":{\"color\":\"#2a3f5f\"},\"error_y\":{\"color\":\"#2a3f5f\"},\"marker\":{\"line\":{\"color\":\"#E5ECF6\",\"width\":0.5},\"pattern\":{\"fillmode\":\"overlay\",\"size\":10,\"solidity\":0.2}},\"type\":\"bar\"}],\"barpolar\":[{\"marker\":{\"line\":{\"color\":\"#E5ECF6\",\"width\":0.5},\"pattern\":{\"fillmode\":\"overlay\",\"size\":10,\"solidity\":0.2}},\"type\":\"barpolar\"}],\"carpet\":[{\"aaxis\":{\"endlinecolor\":\"#2a3f5f\",\"gridcolor\":\"white\",\"linecolor\":\"white\",\"minorgridcolor\":\"white\",\"startlinecolor\":\"#2a3f5f\"},\"baxis\":{\"endlinecolor\":\"#2a3f5f\",\"gridcolor\":\"white\",\"linecolor\":\"white\",\"minorgridcolor\":\"white\",\"startlinecolor\":\"#2a3f5f\"},\"type\":\"carpet\"}],\"choropleth\":[{\"colorbar\":{\"outlinewidth\":0,\"ticks\":\"\"},\"type\":\"choropleth\"}],\"contour\":[{\"colorbar\":{\"outlinewidth\":0,\"ticks\":\"\"},\"colorscale\":[[0.0,\"#0d0887\"],[0.1111111111111111,\"#46039f\"],[0.2222222222222222,\"#7201a8\"],[0.3333333333333333,\"#9c179e\"],[0.4444444444444444,\"#bd3786\"],[0.5555555555555556,\"#d8576b\"],[0.6666666666666666,\"#ed7953\"],[0.7777777777777778,\"#fb9f3a\"],[0.8888888888888888,\"#fdca26\"],[1.0,\"#f0f921\"]],\"type\":\"contour\"}],\"contourcarpet\":[{\"colorbar\":{\"outlinewidth\":0,\"ticks\":\"\"},\"type\":\"contourcarpet\"}],\"heatmap\":[{\"colorbar\":{\"outlinewidth\":0,\"ticks\":\"\"},\"colorscale\":[[0.0,\"#0d0887\"],[0.1111111111111111,\"#46039f\"],[0.2222222222222222,\"#7201a8\"],[0.3333333333333333,\"#9c179e\"],[0.4444444444444444,\"#bd3786\"],[0.5555555555555556,\"#d8576b\"],[0.6666666666666666,\"#ed7953\"],[0.7777777777777778,\"#fb9f3a\"],[0.8888888888888888,\"#fdca26\"],[1.0,\"#f0f921\"]],\"type\":\"heatmap\"}],\"heatmapgl\":[{\"colorbar\":{\"outlinewidth\":0,\"ticks\":\"\"},\"colorscale\":[[0.0,\"#0d0887\"],[0.1111111111111111,\"#46039f\"],[0.2222222222222222,\"#7201a8\"],[0.3333333333333333,\"#9c179e\"],[0.4444444444444444,\"#bd3786\"],[0.5555555555555556,\"#d8576b\"],[0.6666666666666666,\"#ed7953\"],[0.7777777777777778,\"#fb9f3a\"],[0.8888888888888888,\"#fdca26\"],[1.0,\"#f0f921\"]],\"type\":\"heatmapgl\"}],\"histogram\":[{\"marker\":{\"pattern\":{\"fillmode\":\"overlay\",\"size\":10,\"solidity\":0.2}},\"type\":\"histogram\"}],\"histogram2d\":[{\"colorbar\":{\"outlinewidth\":0,\"ticks\":\"\"},\"colorscale\":[[0.0,\"#0d0887\"],[0.1111111111111111,\"#46039f\"],[0.2222222222222222,\"#7201a8\"],[0.3333333333333333,\"#9c179e\"],[0.4444444444444444,\"#bd3786\"],[0.5555555555555556,\"#d8576b\"],[0.6666666666666666,\"#ed7953\"],[0.7777777777777778,\"#fb9f3a\"],[0.8888888888888888,\"#fdca26\"],[1.0,\"#f0f921\"]],\"type\":\"histogram2d\"}],\"histogram2dcontour\":[{\"colorbar\":{\"outlinewidth\":0,\"ticks\":\"\"},\"colorscale\":[[0.0,\"#0d0887\"],[0.1111111111111111,\"#46039f\"],[0.2222222222222222,\"#7201a8\"],[0.3333333333333333,\"#9c179e\"],[0.4444444444444444,\"#bd3786\"],[0.5555555555555556,\"#d8576b\"],[0.6666666666666666,\"#ed7953\"],[0.7777777777777778,\"#fb9f3a\"],[0.8888888888888888,\"#fdca26\"],[1.0,\"#f0f921\"]],\"type\":\"histogram2dcontour\"}],\"mesh3d\":[{\"colorbar\":{\"outlinewidth\":0,\"ticks\":\"\"},\"type\":\"mesh3d\"}],\"parcoords\":[{\"line\":{\"colorbar\":{\"outlinewidth\":0,\"ticks\":\"\"}},\"type\":\"parcoords\"}],\"pie\":[{\"automargin\":true,\"type\":\"pie\"}],\"scatter\":[{\"marker\":{\"colorbar\":{\"outlinewidth\":0,\"ticks\":\"\"}},\"type\":\"scatter\"}],\"scatter3d\":[{\"line\":{\"colorbar\":{\"outlinewidth\":0,\"ticks\":\"\"}},\"marker\":{\"colorbar\":{\"outlinewidth\":0,\"ticks\":\"\"}},\"type\":\"scatter3d\"}],\"scattercarpet\":[{\"marker\":{\"colorbar\":{\"outlinewidth\":0,\"ticks\":\"\"}},\"type\":\"scattercarpet\"}],\"scattergeo\":[{\"marker\":{\"colorbar\":{\"outlinewidth\":0,\"ticks\":\"\"}},\"type\":\"scattergeo\"}],\"scattergl\":[{\"marker\":{\"colorbar\":{\"outlinewidth\":0,\"ticks\":\"\"}},\"type\":\"scattergl\"}],\"scattermapbox\":[{\"marker\":{\"colorbar\":{\"outlinewidth\":0,\"ticks\":\"\"}},\"type\":\"scattermapbox\"}],\"scatterpolar\":[{\"marker\":{\"colorbar\":{\"outlinewidth\":0,\"ticks\":\"\"}},\"type\":\"scatterpolar\"}],\"scatterpolargl\":[{\"marker\":{\"colorbar\":{\"outlinewidth\":0,\"ticks\":\"\"}},\"type\":\"scatterpolargl\"}],\"scatterternary\":[{\"marker\":{\"colorbar\":{\"outlinewidth\":0,\"ticks\":\"\"}},\"type\":\"scatterternary\"}],\"surface\":[{\"colorbar\":{\"outlinewidth\":0,\"ticks\":\"\"},\"colorscale\":[[0.0,\"#0d0887\"],[0.1111111111111111,\"#46039f\"],[0.2222222222222222,\"#7201a8\"],[0.3333333333333333,\"#9c179e\"],[0.4444444444444444,\"#bd3786\"],[0.5555555555555556,\"#d8576b\"],[0.6666666666666666,\"#ed7953\"],[0.7777777777777778,\"#fb9f3a\"],[0.8888888888888888,\"#fdca26\"],[1.0,\"#f0f921\"]],\"type\":\"surface\"}],\"table\":[{\"cells\":{\"fill\":{\"color\":\"#EBF0F8\"},\"line\":{\"color\":\"white\"}},\"header\":{\"fill\":{\"color\":\"#C8D4E3\"},\"line\":{\"color\":\"white\"}},\"type\":\"table\"}]},\"layout\":{\"annotationdefaults\":{\"arrowcolor\":\"#2a3f5f\",\"arrowhead\":0,\"arrowwidth\":1},\"autotypenumbers\":\"strict\",\"coloraxis\":{\"colorbar\":{\"outlinewidth\":0,\"ticks\":\"\"}},\"colorscale\":{\"diverging\":[[0,\"#8e0152\"],[0.1,\"#c51b7d\"],[0.2,\"#de77ae\"],[0.3,\"#f1b6da\"],[0.4,\"#fde0ef\"],[0.5,\"#f7f7f7\"],[0.6,\"#e6f5d0\"],[0.7,\"#b8e186\"],[0.8,\"#7fbc41\"],[0.9,\"#4d9221\"],[1,\"#276419\"]],\"sequential\":[[0.0,\"#0d0887\"],[0.1111111111111111,\"#46039f\"],[0.2222222222222222,\"#7201a8\"],[0.3333333333333333,\"#9c179e\"],[0.4444444444444444,\"#bd3786\"],[0.5555555555555556,\"#d8576b\"],[0.6666666666666666,\"#ed7953\"],[0.7777777777777778,\"#fb9f3a\"],[0.8888888888888888,\"#fdca26\"],[1.0,\"#f0f921\"]],\"sequentialminus\":[[0.0,\"#0d0887\"],[0.1111111111111111,\"#46039f\"],[0.2222222222222222,\"#7201a8\"],[0.3333333333333333,\"#9c179e\"],[0.4444444444444444,\"#bd3786\"],[0.5555555555555556,\"#d8576b\"],[0.6666666666666666,\"#ed7953\"],[0.7777777777777778,\"#fb9f3a\"],[0.8888888888888888,\"#fdca26\"],[1.0,\"#f0f921\"]]},\"colorway\":[\"#636efa\",\"#EF553B\",\"#00cc96\",\"#ab63fa\",\"#FFA15A\",\"#19d3f3\",\"#FF6692\",\"#B6E880\",\"#FF97FF\",\"#FECB52\"],\"font\":{\"color\":\"#2a3f5f\"},\"geo\":{\"bgcolor\":\"white\",\"lakecolor\":\"white\",\"landcolor\":\"#E5ECF6\",\"showlakes\":true,\"showland\":true,\"subunitcolor\":\"white\"},\"hoverlabel\":{\"align\":\"left\"},\"hovermode\":\"closest\",\"mapbox\":{\"style\":\"light\"},\"paper_bgcolor\":\"white\",\"plot_bgcolor\":\"#E5ECF6\",\"polar\":{\"angularaxis\":{\"gridcolor\":\"white\",\"linecolor\":\"white\",\"ticks\":\"\"},\"bgcolor\":\"#E5ECF6\",\"radialaxis\":{\"gridcolor\":\"white\",\"linecolor\":\"white\",\"ticks\":\"\"}},\"scene\":{\"xaxis\":{\"backgroundcolor\":\"#E5ECF6\",\"gridcolor\":\"white\",\"gridwidth\":2,\"linecolor\":\"white\",\"showbackground\":true,\"ticks\":\"\",\"zerolinecolor\":\"white\"},\"yaxis\":{\"backgroundcolor\":\"#E5ECF6\",\"gridcolor\":\"white\",\"gridwidth\":2,\"linecolor\":\"white\",\"showbackground\":true,\"ticks\":\"\",\"zerolinecolor\":\"white\"},\"zaxis\":{\"backgroundcolor\":\"#E5ECF6\",\"gridcolor\":\"white\",\"gridwidth\":2,\"linecolor\":\"white\",\"showbackground\":true,\"ticks\":\"\",\"zerolinecolor\":\"white\"}},\"shapedefaults\":{\"line\":{\"color\":\"#2a3f5f\"}},\"ternary\":{\"aaxis\":{\"gridcolor\":\"white\",\"linecolor\":\"white\",\"ticks\":\"\"},\"baxis\":{\"gridcolor\":\"white\",\"linecolor\":\"white\",\"ticks\":\"\"},\"bgcolor\":\"#E5ECF6\",\"caxis\":{\"gridcolor\":\"white\",\"linecolor\":\"white\",\"ticks\":\"\"}},\"title\":{\"x\":0.05},\"xaxis\":{\"automargin\":true,\"gridcolor\":\"white\",\"linecolor\":\"white\",\"ticks\":\"\",\"title\":{\"standoff\":15},\"zerolinecolor\":\"white\",\"zerolinewidth\":2},\"yaxis\":{\"automargin\":true,\"gridcolor\":\"white\",\"linecolor\":\"white\",\"ticks\":\"\",\"title\":{\"standoff\":15},\"zerolinecolor\":\"white\",\"zerolinewidth\":2}}},\"xaxis\":{\"anchor\":\"y\",\"domain\":[0.0,1.0],\"title\":{\"text\":\"Year\"}},\"yaxis\":{\"anchor\":\"x\",\"domain\":[0.0,1.0],\"title\":{\"text\":\"Value\"}},\"legend\":{\"title\":{\"text\":\"Item\"},\"tracegroupgap\":0},\"title\":{\"text\":\"Morocco\"}},                        {\"responsive\": true}                    ).then(function(){\n",
              "                            \n",
              "var gd = document.getElementById('a3d9759a-2069-4e91-bd6c-8f7bacb26075');\n",
              "var x = new MutationObserver(function (mutations, observer) {{\n",
              "        var display = window.getComputedStyle(gd).display;\n",
              "        if (!display || display === 'none') {{\n",
              "            console.log([gd, 'removed!']);\n",
              "            Plotly.purge(gd);\n",
              "            observer.disconnect();\n",
              "        }}\n",
              "}});\n",
              "\n",
              "// Listen for the removal of the full notebook cells\n",
              "var notebookContainer = gd.closest('#notebook-container');\n",
              "if (notebookContainer) {{\n",
              "    x.observe(notebookContainer, {childList: true});\n",
              "}}\n",
              "\n",
              "// Listen for the clearing of the current output cell\n",
              "var outputEl = gd.closest('.output');\n",
              "if (outputEl) {{\n",
              "    x.observe(outputEl, {childList: true});\n",
              "}}\n",
              "\n",
              "                        })                };                            </script>        </div>\n",
              "</body>\n",
              "</html>"
            ]
          },
          "metadata": {}
        }
      ]
    },
    {
      "cell_type": "markdown",
      "source": [
        "- ***Россия:*** лидером по экспорту в днежном эквиваленте является  Potassium chloride (muriate of potash) (MOP) (Хлорид Калия), но к 2018 произошел спад, далее следует Urea (Мочевина) и NPK fertilizers (комплексные удобрения).\n",
        "- ***Материковый Китай:*** Diammonium phosphate (DAP) (диаммоний фосфат), к 2019 происходит спад экспорта в днежном выражении, далее следует Urea (Мочевина) с 2015 по 2018г наблюдается спад, но далее к 2019 растет вверх, Monoammonium phosphate (MAP) (Моноаммонийфосфат) и Ammonium sulphate (сульфат аммония)\n",
        "- ***Канада:***лидером по экспорту в днежном эквиваленте является  Potassium chloride (muriate of potash) (MOP) (Хлорид Калия).\n",
        "- ***США:*** Monoammonium phosphate (MAP) (Моноаммонийфосфат), Diammonium phosphate (DAP) (диаммоний фосфат), Diammonium phosphate (DAP) (диаммоний фосфат)\n",
        "- ***Морокко:***явной тройкой лидеров являются Diammonium phosphate (DAP) (диаммоний фосфат), Monoammonium phosphate (MAP) (Моноаммонийфосфат) и Phosphate rock (фосфоритная мука)"
      ],
      "metadata": {
        "id": "ARxr_5oq_yEC"
      }
    },
    {
      "cell_type": "markdown",
      "metadata": {
        "id": "FQstlNqIEh2p"
      },
      "source": [
        "***Динамика производства каждого вида удобрений с 2015 по 2019 года для топ-5 производителей, тонны***"
      ]
    },
    {
      "cell_type": "code",
      "execution_count": 54,
      "metadata": {
        "id": "kO4cjRvr2eS-"
      },
      "outputs": [],
      "source": [
        "list_5 = ['United States of America', 'Russian Federation', 'India', 'Canada', 'Belarus']"
      ]
    },
    {
      "cell_type": "code",
      "source": [
        "for i in list_5:\n",
        "  data_5=df.query(\"Element=='Production'\").groupby(['Area','Year','Item'])['Value'].sum().reset_index()\n",
        "  fig = px.line(data_5.loc[data_5['Area'].isin([i])], x='Year', y='Value', color='Item', markers=True,title=i)\n",
        "  fig.show()"
      ],
      "metadata": {
        "colab": {
          "base_uri": "https://localhost:8080/",
          "height": 1000
        },
        "id": "7biJ09Nlyiv3",
        "outputId": "74ae94be-4319-4c80-eb7e-8f4f46eb81fd"
      },
      "execution_count": 55,
      "outputs": [
        {
          "output_type": "display_data",
          "data": {
            "text/html": [
              "<html>\n",
              "<head><meta charset=\"utf-8\" /></head>\n",
              "<body>\n",
              "    <div>            <script src=\"https://cdnjs.cloudflare.com/ajax/libs/mathjax/2.7.5/MathJax.js?config=TeX-AMS-MML_SVG\"></script><script type=\"text/javascript\">if (window.MathJax) {MathJax.Hub.Config({SVG: {font: \"STIX-Web\"}});}</script>                <script type=\"text/javascript\">window.PlotlyConfig = {MathJaxConfig: 'local'};</script>\n",
              "        <script src=\"https://cdn.plot.ly/plotly-2.8.3.min.js\"></script>                <div id=\"1dd22733-7664-4fcc-b59d-d473985d1667\" class=\"plotly-graph-div\" style=\"height:525px; width:100%;\"></div>            <script type=\"text/javascript\">                                    window.PLOTLYENV=window.PLOTLYENV || {};                                    if (document.getElementById(\"1dd22733-7664-4fcc-b59d-d473985d1667\")) {                    Plotly.newPlot(                        \"1dd22733-7664-4fcc-b59d-d473985d1667\",                        [{\"hovertemplate\":\"Item=Ammonia, anhydrous<br>Year=%{x}<br>Value=%{y}<extra></extra>\",\"legendgroup\":\"Ammonia, anhydrous\",\"line\":{\"color\":\"#636efa\",\"dash\":\"solid\"},\"marker\":{\"symbol\":\"circle\"},\"mode\":\"markers+lines\",\"name\":\"Ammonia, anhydrous\",\"orientation\":\"v\",\"showlegend\":true,\"x\":[2015,2016,2017,2018,2019],\"xaxis\":\"x\",\"y\":[3666230.38,3643557.57,4296289.04,5282144.79,5797607.0],\"yaxis\":\"y\",\"type\":\"scatter\"},{\"hovertemplate\":\"Item=Ammonium nitrate (AN)<br>Year=%{x}<br>Value=%{y}<extra></extra>\",\"legendgroup\":\"Ammonium nitrate (AN)\",\"line\":{\"color\":\"#EF553B\",\"dash\":\"solid\"},\"marker\":{\"symbol\":\"circle\"},\"mode\":\"markers+lines\",\"name\":\"Ammonium nitrate (AN)\",\"orientation\":\"v\",\"showlegend\":true,\"x\":[2015,2016,2017,2018,2019],\"xaxis\":\"x\",\"y\":[1330233.42,1165265.12,1361892.81,1195480.16,1084601.0],\"yaxis\":\"y\",\"type\":\"scatter\"},{\"hovertemplate\":\"Item=Ammonium sulphate<br>Year=%{x}<br>Value=%{y}<extra></extra>\",\"legendgroup\":\"Ammonium sulphate\",\"line\":{\"color\":\"#00cc96\",\"dash\":\"solid\"},\"marker\":{\"symbol\":\"circle\"},\"mode\":\"markers+lines\",\"name\":\"Ammonium sulphate\",\"orientation\":\"v\",\"showlegend\":true,\"x\":[2015,2016,2017,2018,2019],\"xaxis\":\"x\",\"y\":[3308068.53,3016751.05,2957829.42,2945993.31,2988966.0],\"yaxis\":\"y\",\"type\":\"scatter\"},{\"hovertemplate\":\"Item=Diammonium phosphate (DAP)<br>Year=%{x}<br>Value=%{y}<extra></extra>\",\"legendgroup\":\"Diammonium phosphate (DAP)\",\"line\":{\"color\":\"#ab63fa\",\"dash\":\"solid\"},\"marker\":{\"symbol\":\"circle\"},\"mode\":\"markers+lines\",\"name\":\"Diammonium phosphate (DAP)\",\"orientation\":\"v\",\"showlegend\":true,\"x\":[2015,2016,2017,2018,2019],\"xaxis\":\"x\",\"y\":[4315782.45,3553182.44,3529512.84,2458495.87,2267985.0],\"yaxis\":\"y\",\"type\":\"scatter\"},{\"hovertemplate\":\"Item=Monoammonium phosphate (MAP)<br>Year=%{x}<br>Value=%{y}<extra></extra>\",\"legendgroup\":\"Monoammonium phosphate (MAP)\",\"line\":{\"color\":\"#FFA15A\",\"dash\":\"solid\"},\"marker\":{\"symbol\":\"circle\"},\"mode\":\"markers+lines\",\"name\":\"Monoammonium phosphate (MAP)\",\"orientation\":\"v\",\"showlegend\":true,\"x\":[2015,2016,2017,2018,2019],\"xaxis\":\"x\",\"y\":[4695210.02,5066520.0,5178729.02,4819921.98,5014969.0],\"yaxis\":\"y\",\"type\":\"scatter\"},{\"hovertemplate\":\"Item=Phosphate rock<br>Year=%{x}<br>Value=%{y}<extra></extra>\",\"legendgroup\":\"Phosphate rock\",\"line\":{\"color\":\"#19d3f3\",\"dash\":\"solid\"},\"marker\":{\"symbol\":\"circle\"},\"mode\":\"markers+lines\",\"name\":\"Phosphate rock\",\"orientation\":\"v\",\"showlegend\":true,\"x\":[2015,2016,2017,2018,2019],\"xaxis\":\"x\",\"y\":[26746600.13,26139154.21,27005581.58,25336901.01,22846326.0],\"yaxis\":\"y\",\"type\":\"scatter\"},{\"hovertemplate\":\"Item=Potassium chloride (muriate of potash) (MOP)<br>Year=%{x}<br>Value=%{y}<extra></extra>\",\"legendgroup\":\"Potassium chloride (muriate of potash) (MOP)\",\"line\":{\"color\":\"#FF6692\",\"dash\":\"solid\"},\"marker\":{\"symbol\":\"circle\"},\"mode\":\"markers+lines\",\"name\":\"Potassium chloride (muriate of potash) (MOP)\",\"orientation\":\"v\",\"showlegend\":true,\"x\":[2015,2016,2017,2018,2019],\"xaxis\":\"x\",\"y\":[708166.67,454666.67,331000.0,314666.67,295100.0],\"yaxis\":\"y\",\"type\":\"scatter\"},{\"hovertemplate\":\"Item=Potassium sulphate (sulphate of potash) (SOP)<br>Year=%{x}<br>Value=%{y}<extra></extra>\",\"legendgroup\":\"Potassium sulphate (sulphate of potash) (SOP)\",\"line\":{\"color\":\"#B6E880\",\"dash\":\"solid\"},\"marker\":{\"symbol\":\"circle\"},\"mode\":\"markers+lines\",\"name\":\"Potassium sulphate (sulphate of potash) (SOP)\",\"orientation\":\"v\",\"showlegend\":true,\"x\":[2015,2016,2017,2018,2019],\"xaxis\":\"x\",\"y\":[385557.47,385557.47,385557.47,385557.47,385557.0],\"yaxis\":\"y\",\"type\":\"scatter\"},{\"hovertemplate\":\"Item=Urea<br>Year=%{x}<br>Value=%{y}<extra></extra>\",\"legendgroup\":\"Urea\",\"line\":{\"color\":\"#FF97FF\",\"dash\":\"solid\"},\"marker\":{\"symbol\":\"circle\"},\"mode\":\"markers+lines\",\"name\":\"Urea\",\"orientation\":\"v\",\"showlegend\":true,\"x\":[2015,2016,2017,2018,2019],\"xaxis\":\"x\",\"y\":[2609764.13,3386650.64,4734453.42,5873174.27,6132632.0],\"yaxis\":\"y\",\"type\":\"scatter\"},{\"hovertemplate\":\"Item=Urea and ammonium nitrate solutions (UAN)<br>Year=%{x}<br>Value=%{y}<extra></extra>\",\"legendgroup\":\"Urea and ammonium nitrate solutions (UAN)\",\"line\":{\"color\":\"#FECB52\",\"dash\":\"solid\"},\"marker\":{\"symbol\":\"circle\"},\"mode\":\"markers+lines\",\"name\":\"Urea and ammonium nitrate solutions (UAN)\",\"orientation\":\"v\",\"showlegend\":true,\"x\":[2015,2016,2017,2018,2019],\"xaxis\":\"x\",\"y\":[8788862.98,10008350.0,10510610.96,11638314.56,11673594.0],\"yaxis\":\"y\",\"type\":\"scatter\"}],                        {\"template\":{\"data\":{\"bar\":[{\"error_x\":{\"color\":\"#2a3f5f\"},\"error_y\":{\"color\":\"#2a3f5f\"},\"marker\":{\"line\":{\"color\":\"#E5ECF6\",\"width\":0.5},\"pattern\":{\"fillmode\":\"overlay\",\"size\":10,\"solidity\":0.2}},\"type\":\"bar\"}],\"barpolar\":[{\"marker\":{\"line\":{\"color\":\"#E5ECF6\",\"width\":0.5},\"pattern\":{\"fillmode\":\"overlay\",\"size\":10,\"solidity\":0.2}},\"type\":\"barpolar\"}],\"carpet\":[{\"aaxis\":{\"endlinecolor\":\"#2a3f5f\",\"gridcolor\":\"white\",\"linecolor\":\"white\",\"minorgridcolor\":\"white\",\"startlinecolor\":\"#2a3f5f\"},\"baxis\":{\"endlinecolor\":\"#2a3f5f\",\"gridcolor\":\"white\",\"linecolor\":\"white\",\"minorgridcolor\":\"white\",\"startlinecolor\":\"#2a3f5f\"},\"type\":\"carpet\"}],\"choropleth\":[{\"colorbar\":{\"outlinewidth\":0,\"ticks\":\"\"},\"type\":\"choropleth\"}],\"contour\":[{\"colorbar\":{\"outlinewidth\":0,\"ticks\":\"\"},\"colorscale\":[[0.0,\"#0d0887\"],[0.1111111111111111,\"#46039f\"],[0.2222222222222222,\"#7201a8\"],[0.3333333333333333,\"#9c179e\"],[0.4444444444444444,\"#bd3786\"],[0.5555555555555556,\"#d8576b\"],[0.6666666666666666,\"#ed7953\"],[0.7777777777777778,\"#fb9f3a\"],[0.8888888888888888,\"#fdca26\"],[1.0,\"#f0f921\"]],\"type\":\"contour\"}],\"contourcarpet\":[{\"colorbar\":{\"outlinewidth\":0,\"ticks\":\"\"},\"type\":\"contourcarpet\"}],\"heatmap\":[{\"colorbar\":{\"outlinewidth\":0,\"ticks\":\"\"},\"colorscale\":[[0.0,\"#0d0887\"],[0.1111111111111111,\"#46039f\"],[0.2222222222222222,\"#7201a8\"],[0.3333333333333333,\"#9c179e\"],[0.4444444444444444,\"#bd3786\"],[0.5555555555555556,\"#d8576b\"],[0.6666666666666666,\"#ed7953\"],[0.7777777777777778,\"#fb9f3a\"],[0.8888888888888888,\"#fdca26\"],[1.0,\"#f0f921\"]],\"type\":\"heatmap\"}],\"heatmapgl\":[{\"colorbar\":{\"outlinewidth\":0,\"ticks\":\"\"},\"colorscale\":[[0.0,\"#0d0887\"],[0.1111111111111111,\"#46039f\"],[0.2222222222222222,\"#7201a8\"],[0.3333333333333333,\"#9c179e\"],[0.4444444444444444,\"#bd3786\"],[0.5555555555555556,\"#d8576b\"],[0.6666666666666666,\"#ed7953\"],[0.7777777777777778,\"#fb9f3a\"],[0.8888888888888888,\"#fdca26\"],[1.0,\"#f0f921\"]],\"type\":\"heatmapgl\"}],\"histogram\":[{\"marker\":{\"pattern\":{\"fillmode\":\"overlay\",\"size\":10,\"solidity\":0.2}},\"type\":\"histogram\"}],\"histogram2d\":[{\"colorbar\":{\"outlinewidth\":0,\"ticks\":\"\"},\"colorscale\":[[0.0,\"#0d0887\"],[0.1111111111111111,\"#46039f\"],[0.2222222222222222,\"#7201a8\"],[0.3333333333333333,\"#9c179e\"],[0.4444444444444444,\"#bd3786\"],[0.5555555555555556,\"#d8576b\"],[0.6666666666666666,\"#ed7953\"],[0.7777777777777778,\"#fb9f3a\"],[0.8888888888888888,\"#fdca26\"],[1.0,\"#f0f921\"]],\"type\":\"histogram2d\"}],\"histogram2dcontour\":[{\"colorbar\":{\"outlinewidth\":0,\"ticks\":\"\"},\"colorscale\":[[0.0,\"#0d0887\"],[0.1111111111111111,\"#46039f\"],[0.2222222222222222,\"#7201a8\"],[0.3333333333333333,\"#9c179e\"],[0.4444444444444444,\"#bd3786\"],[0.5555555555555556,\"#d8576b\"],[0.6666666666666666,\"#ed7953\"],[0.7777777777777778,\"#fb9f3a\"],[0.8888888888888888,\"#fdca26\"],[1.0,\"#f0f921\"]],\"type\":\"histogram2dcontour\"}],\"mesh3d\":[{\"colorbar\":{\"outlinewidth\":0,\"ticks\":\"\"},\"type\":\"mesh3d\"}],\"parcoords\":[{\"line\":{\"colorbar\":{\"outlinewidth\":0,\"ticks\":\"\"}},\"type\":\"parcoords\"}],\"pie\":[{\"automargin\":true,\"type\":\"pie\"}],\"scatter\":[{\"marker\":{\"colorbar\":{\"outlinewidth\":0,\"ticks\":\"\"}},\"type\":\"scatter\"}],\"scatter3d\":[{\"line\":{\"colorbar\":{\"outlinewidth\":0,\"ticks\":\"\"}},\"marker\":{\"colorbar\":{\"outlinewidth\":0,\"ticks\":\"\"}},\"type\":\"scatter3d\"}],\"scattercarpet\":[{\"marker\":{\"colorbar\":{\"outlinewidth\":0,\"ticks\":\"\"}},\"type\":\"scattercarpet\"}],\"scattergeo\":[{\"marker\":{\"colorbar\":{\"outlinewidth\":0,\"ticks\":\"\"}},\"type\":\"scattergeo\"}],\"scattergl\":[{\"marker\":{\"colorbar\":{\"outlinewidth\":0,\"ticks\":\"\"}},\"type\":\"scattergl\"}],\"scattermapbox\":[{\"marker\":{\"colorbar\":{\"outlinewidth\":0,\"ticks\":\"\"}},\"type\":\"scattermapbox\"}],\"scatterpolar\":[{\"marker\":{\"colorbar\":{\"outlinewidth\":0,\"ticks\":\"\"}},\"type\":\"scatterpolar\"}],\"scatterpolargl\":[{\"marker\":{\"colorbar\":{\"outlinewidth\":0,\"ticks\":\"\"}},\"type\":\"scatterpolargl\"}],\"scatterternary\":[{\"marker\":{\"colorbar\":{\"outlinewidth\":0,\"ticks\":\"\"}},\"type\":\"scatterternary\"}],\"surface\":[{\"colorbar\":{\"outlinewidth\":0,\"ticks\":\"\"},\"colorscale\":[[0.0,\"#0d0887\"],[0.1111111111111111,\"#46039f\"],[0.2222222222222222,\"#7201a8\"],[0.3333333333333333,\"#9c179e\"],[0.4444444444444444,\"#bd3786\"],[0.5555555555555556,\"#d8576b\"],[0.6666666666666666,\"#ed7953\"],[0.7777777777777778,\"#fb9f3a\"],[0.8888888888888888,\"#fdca26\"],[1.0,\"#f0f921\"]],\"type\":\"surface\"}],\"table\":[{\"cells\":{\"fill\":{\"color\":\"#EBF0F8\"},\"line\":{\"color\":\"white\"}},\"header\":{\"fill\":{\"color\":\"#C8D4E3\"},\"line\":{\"color\":\"white\"}},\"type\":\"table\"}]},\"layout\":{\"annotationdefaults\":{\"arrowcolor\":\"#2a3f5f\",\"arrowhead\":0,\"arrowwidth\":1},\"autotypenumbers\":\"strict\",\"coloraxis\":{\"colorbar\":{\"outlinewidth\":0,\"ticks\":\"\"}},\"colorscale\":{\"diverging\":[[0,\"#8e0152\"],[0.1,\"#c51b7d\"],[0.2,\"#de77ae\"],[0.3,\"#f1b6da\"],[0.4,\"#fde0ef\"],[0.5,\"#f7f7f7\"],[0.6,\"#e6f5d0\"],[0.7,\"#b8e186\"],[0.8,\"#7fbc41\"],[0.9,\"#4d9221\"],[1,\"#276419\"]],\"sequential\":[[0.0,\"#0d0887\"],[0.1111111111111111,\"#46039f\"],[0.2222222222222222,\"#7201a8\"],[0.3333333333333333,\"#9c179e\"],[0.4444444444444444,\"#bd3786\"],[0.5555555555555556,\"#d8576b\"],[0.6666666666666666,\"#ed7953\"],[0.7777777777777778,\"#fb9f3a\"],[0.8888888888888888,\"#fdca26\"],[1.0,\"#f0f921\"]],\"sequentialminus\":[[0.0,\"#0d0887\"],[0.1111111111111111,\"#46039f\"],[0.2222222222222222,\"#7201a8\"],[0.3333333333333333,\"#9c179e\"],[0.4444444444444444,\"#bd3786\"],[0.5555555555555556,\"#d8576b\"],[0.6666666666666666,\"#ed7953\"],[0.7777777777777778,\"#fb9f3a\"],[0.8888888888888888,\"#fdca26\"],[1.0,\"#f0f921\"]]},\"colorway\":[\"#636efa\",\"#EF553B\",\"#00cc96\",\"#ab63fa\",\"#FFA15A\",\"#19d3f3\",\"#FF6692\",\"#B6E880\",\"#FF97FF\",\"#FECB52\"],\"font\":{\"color\":\"#2a3f5f\"},\"geo\":{\"bgcolor\":\"white\",\"lakecolor\":\"white\",\"landcolor\":\"#E5ECF6\",\"showlakes\":true,\"showland\":true,\"subunitcolor\":\"white\"},\"hoverlabel\":{\"align\":\"left\"},\"hovermode\":\"closest\",\"mapbox\":{\"style\":\"light\"},\"paper_bgcolor\":\"white\",\"plot_bgcolor\":\"#E5ECF6\",\"polar\":{\"angularaxis\":{\"gridcolor\":\"white\",\"linecolor\":\"white\",\"ticks\":\"\"},\"bgcolor\":\"#E5ECF6\",\"radialaxis\":{\"gridcolor\":\"white\",\"linecolor\":\"white\",\"ticks\":\"\"}},\"scene\":{\"xaxis\":{\"backgroundcolor\":\"#E5ECF6\",\"gridcolor\":\"white\",\"gridwidth\":2,\"linecolor\":\"white\",\"showbackground\":true,\"ticks\":\"\",\"zerolinecolor\":\"white\"},\"yaxis\":{\"backgroundcolor\":\"#E5ECF6\",\"gridcolor\":\"white\",\"gridwidth\":2,\"linecolor\":\"white\",\"showbackground\":true,\"ticks\":\"\",\"zerolinecolor\":\"white\"},\"zaxis\":{\"backgroundcolor\":\"#E5ECF6\",\"gridcolor\":\"white\",\"gridwidth\":2,\"linecolor\":\"white\",\"showbackground\":true,\"ticks\":\"\",\"zerolinecolor\":\"white\"}},\"shapedefaults\":{\"line\":{\"color\":\"#2a3f5f\"}},\"ternary\":{\"aaxis\":{\"gridcolor\":\"white\",\"linecolor\":\"white\",\"ticks\":\"\"},\"baxis\":{\"gridcolor\":\"white\",\"linecolor\":\"white\",\"ticks\":\"\"},\"bgcolor\":\"#E5ECF6\",\"caxis\":{\"gridcolor\":\"white\",\"linecolor\":\"white\",\"ticks\":\"\"}},\"title\":{\"x\":0.05},\"xaxis\":{\"automargin\":true,\"gridcolor\":\"white\",\"linecolor\":\"white\",\"ticks\":\"\",\"title\":{\"standoff\":15},\"zerolinecolor\":\"white\",\"zerolinewidth\":2},\"yaxis\":{\"automargin\":true,\"gridcolor\":\"white\",\"linecolor\":\"white\",\"ticks\":\"\",\"title\":{\"standoff\":15},\"zerolinecolor\":\"white\",\"zerolinewidth\":2}}},\"xaxis\":{\"anchor\":\"y\",\"domain\":[0.0,1.0],\"title\":{\"text\":\"Year\"}},\"yaxis\":{\"anchor\":\"x\",\"domain\":[0.0,1.0],\"title\":{\"text\":\"Value\"}},\"legend\":{\"title\":{\"text\":\"Item\"},\"tracegroupgap\":0},\"title\":{\"text\":\"United States of America\"}},                        {\"responsive\": true}                    ).then(function(){\n",
              "                            \n",
              "var gd = document.getElementById('1dd22733-7664-4fcc-b59d-d473985d1667');\n",
              "var x = new MutationObserver(function (mutations, observer) {{\n",
              "        var display = window.getComputedStyle(gd).display;\n",
              "        if (!display || display === 'none') {{\n",
              "            console.log([gd, 'removed!']);\n",
              "            Plotly.purge(gd);\n",
              "            observer.disconnect();\n",
              "        }}\n",
              "}});\n",
              "\n",
              "// Listen for the removal of the full notebook cells\n",
              "var notebookContainer = gd.closest('#notebook-container');\n",
              "if (notebookContainer) {{\n",
              "    x.observe(notebookContainer, {childList: true});\n",
              "}}\n",
              "\n",
              "// Listen for the clearing of the current output cell\n",
              "var outputEl = gd.closest('.output');\n",
              "if (outputEl) {{\n",
              "    x.observe(outputEl, {childList: true});\n",
              "}}\n",
              "\n",
              "                        })                };                            </script>        </div>\n",
              "</body>\n",
              "</html>"
            ]
          },
          "metadata": {}
        },
        {
          "output_type": "display_data",
          "data": {
            "text/html": [
              "<html>\n",
              "<head><meta charset=\"utf-8\" /></head>\n",
              "<body>\n",
              "    <div>            <script src=\"https://cdnjs.cloudflare.com/ajax/libs/mathjax/2.7.5/MathJax.js?config=TeX-AMS-MML_SVG\"></script><script type=\"text/javascript\">if (window.MathJax) {MathJax.Hub.Config({SVG: {font: \"STIX-Web\"}});}</script>                <script type=\"text/javascript\">window.PlotlyConfig = {MathJaxConfig: 'local'};</script>\n",
              "        <script src=\"https://cdn.plot.ly/plotly-2.8.3.min.js\"></script>                <div id=\"2ddb1359-4497-4889-9aa6-989aa0e8c185\" class=\"plotly-graph-div\" style=\"height:525px; width:100%;\"></div>            <script type=\"text/javascript\">                                    window.PLOTLYENV=window.PLOTLYENV || {};                                    if (document.getElementById(\"2ddb1359-4497-4889-9aa6-989aa0e8c185\")) {                    Plotly.newPlot(                        \"2ddb1359-4497-4889-9aa6-989aa0e8c185\",                        [{\"hovertemplate\":\"Item=Ammonium nitrate (AN)<br>Year=%{x}<br>Value=%{y}<extra></extra>\",\"legendgroup\":\"Ammonium nitrate (AN)\",\"line\":{\"color\":\"#636efa\",\"dash\":\"solid\"},\"marker\":{\"symbol\":\"circle\"},\"mode\":\"markers+lines\",\"name\":\"Ammonium nitrate (AN)\",\"orientation\":\"v\",\"showlegend\":true,\"x\":[2015,2016,2017,2018,2019],\"xaxis\":\"x\",\"y\":[9030200.0,9446300.0,9855400.0,9615500.0,10204700.0],\"yaxis\":\"y\",\"type\":\"scatter\"},{\"hovertemplate\":\"Item=Ammonium sulphate<br>Year=%{x}<br>Value=%{y}<extra></extra>\",\"legendgroup\":\"Ammonium sulphate\",\"line\":{\"color\":\"#EF553B\",\"dash\":\"solid\"},\"marker\":{\"symbol\":\"circle\"},\"mode\":\"markers+lines\",\"name\":\"Ammonium sulphate\",\"orientation\":\"v\",\"showlegend\":true,\"x\":[2015,2016,2017,2018,2019],\"xaxis\":\"x\",\"y\":[1233500.0,1342400.0,1384700.0,1437500.0,1652900.0],\"yaxis\":\"y\",\"type\":\"scatter\"},{\"hovertemplate\":\"Item=Diammonium phosphate (DAP)<br>Year=%{x}<br>Value=%{y}<extra></extra>\",\"legendgroup\":\"Diammonium phosphate (DAP)\",\"line\":{\"color\":\"#00cc96\",\"dash\":\"solid\"},\"marker\":{\"symbol\":\"circle\"},\"mode\":\"markers+lines\",\"name\":\"Diammonium phosphate (DAP)\",\"orientation\":\"v\",\"showlegend\":true,\"x\":[2015,2016],\"xaxis\":\"x\",\"y\":[1213900.0,1269200.0],\"yaxis\":\"y\",\"type\":\"scatter\"},{\"hovertemplate\":\"Item=Monoammonium phosphate (MAP)<br>Year=%{x}<br>Value=%{y}<extra></extra>\",\"legendgroup\":\"Monoammonium phosphate (MAP)\",\"line\":{\"color\":\"#ab63fa\",\"dash\":\"solid\"},\"marker\":{\"symbol\":\"circle\"},\"mode\":\"markers+lines\",\"name\":\"Monoammonium phosphate (MAP)\",\"orientation\":\"v\",\"showlegend\":true,\"x\":[2015,2016,2017,2018,2019],\"xaxis\":\"x\",\"y\":[27600.0,34100.0,903900.0,957500.0,959000.0],\"yaxis\":\"y\",\"type\":\"scatter\"},{\"hovertemplate\":\"Item=NPK fertilizers<br>Year=%{x}<br>Value=%{y}<extra></extra>\",\"legendgroup\":\"NPK fertilizers\",\"line\":{\"color\":\"#FFA15A\",\"dash\":\"solid\"},\"marker\":{\"symbol\":\"circle\"},\"mode\":\"markers+lines\",\"name\":\"NPK fertilizers\",\"orientation\":\"v\",\"showlegend\":true,\"x\":[2015,2016,2017,2018,2019],\"xaxis\":\"x\",\"y\":[6080600.0,6310000.0,8407500.0,7710600.0,7565700.0],\"yaxis\":\"y\",\"type\":\"scatter\"},{\"hovertemplate\":\"Item=Other NP compounds<br>Year=%{x}<br>Value=%{y}<extra></extra>\",\"legendgroup\":\"Other NP compounds\",\"line\":{\"color\":\"#19d3f3\",\"dash\":\"solid\"},\"marker\":{\"symbol\":\"circle\"},\"mode\":\"markers+lines\",\"name\":\"Other NP compounds\",\"orientation\":\"v\",\"showlegend\":true,\"x\":[2015,2016,2017,2018,2019],\"xaxis\":\"x\",\"y\":[4769200.0,5076700.0,4722900.0,4678700.0,4958500.0],\"yaxis\":\"y\",\"type\":\"scatter\"},{\"hovertemplate\":\"Item=PK compounds<br>Year=%{x}<br>Value=%{y}<extra></extra>\",\"legendgroup\":\"PK compounds\",\"line\":{\"color\":\"#FF6692\",\"dash\":\"solid\"},\"marker\":{\"symbol\":\"circle\"},\"mode\":\"markers+lines\",\"name\":\"PK compounds\",\"orientation\":\"v\",\"showlegend\":true,\"x\":[2015,2016,2017,2018,2019],\"xaxis\":\"x\",\"y\":[1800.0,5200.0,53800.0,99800.0,84500.0],\"yaxis\":\"y\",\"type\":\"scatter\"},{\"hovertemplate\":\"Item=Phosphate rock<br>Year=%{x}<br>Value=%{y}<extra></extra>\",\"legendgroup\":\"Phosphate rock\",\"line\":{\"color\":\"#B6E880\",\"dash\":\"solid\"},\"marker\":{\"symbol\":\"circle\"},\"mode\":\"markers+lines\",\"name\":\"Phosphate rock\",\"orientation\":\"v\",\"showlegend\":true,\"x\":[2015,2016],\"xaxis\":\"x\",\"y\":[24600.0,35800.0],\"yaxis\":\"y\",\"type\":\"scatter\"},{\"hovertemplate\":\"Item=Potassium chloride (muriate of potash) (MOP)<br>Year=%{x}<br>Value=%{y}<extra></extra>\",\"legendgroup\":\"Potassium chloride (muriate of potash) (MOP)\",\"line\":{\"color\":\"#FF97FF\",\"dash\":\"solid\"},\"marker\":{\"symbol\":\"circle\"},\"mode\":\"markers+lines\",\"name\":\"Potassium chloride (muriate of potash) (MOP)\",\"orientation\":\"v\",\"showlegend\":true,\"x\":[2015,2016,2017,2018,2019],\"xaxis\":\"x\",\"y\":[11546300.0,10928400.0,12085100.0,11800100.0,12281400.0],\"yaxis\":\"y\",\"type\":\"scatter\"},{\"hovertemplate\":\"Item=Potassium nitrate<br>Year=%{x}<br>Value=%{y}<extra></extra>\",\"legendgroup\":\"Potassium nitrate\",\"line\":{\"color\":\"#FECB52\",\"dash\":\"solid\"},\"marker\":{\"symbol\":\"circle\"},\"mode\":\"markers+lines\",\"name\":\"Potassium nitrate\",\"orientation\":\"v\",\"showlegend\":true,\"x\":[2015,2016,2017,2018,2019],\"xaxis\":\"x\",\"y\":[1800.0,5200.0,9128.0,10849.0,10321.0],\"yaxis\":\"y\",\"type\":\"scatter\"},{\"hovertemplate\":\"Item=Potassium sulphate (sulphate of potash) (SOP)<br>Year=%{x}<br>Value=%{y}<extra></extra>\",\"legendgroup\":\"Potassium sulphate (sulphate of potash) (SOP)\",\"line\":{\"color\":\"#636efa\",\"dash\":\"solid\"},\"marker\":{\"symbol\":\"circle\"},\"mode\":\"markers+lines\",\"name\":\"Potassium sulphate (sulphate of potash) (SOP)\",\"orientation\":\"v\",\"showlegend\":true,\"x\":[2015,2016,2017,2018,2019],\"xaxis\":\"x\",\"y\":[83000.0,64900.0,45700.0,81800.0,43600.0],\"yaxis\":\"y\",\"type\":\"scatter\"},{\"hovertemplate\":\"Item=Sodium nitrate<br>Year=%{x}<br>Value=%{y}<extra></extra>\",\"legendgroup\":\"Sodium nitrate\",\"line\":{\"color\":\"#EF553B\",\"dash\":\"solid\"},\"marker\":{\"symbol\":\"circle\"},\"mode\":\"markers+lines\",\"name\":\"Sodium nitrate\",\"orientation\":\"v\",\"showlegend\":true,\"x\":[2015,2016,2017,2018,2019],\"xaxis\":\"x\",\"y\":[22100.0,22900.0,22900.0,22600.0,23700.0],\"yaxis\":\"y\",\"type\":\"scatter\"},{\"hovertemplate\":\"Item=Urea<br>Year=%{x}<br>Value=%{y}<extra></extra>\",\"legendgroup\":\"Urea\",\"line\":{\"color\":\"#00cc96\",\"dash\":\"solid\"},\"marker\":{\"symbol\":\"circle\"},\"mode\":\"markers+lines\",\"name\":\"Urea\",\"orientation\":\"v\",\"showlegend\":true,\"x\":[2015,2016,2017,2018,2019],\"xaxis\":\"x\",\"y\":[6449100.0,7237900.0,8000400.0,8237400.0,8634800.0],\"yaxis\":\"y\",\"type\":\"scatter\"},{\"hovertemplate\":\"Item=Urea and ammonium nitrate solutions (UAN)<br>Year=%{x}<br>Value=%{y}<extra></extra>\",\"legendgroup\":\"Urea and ammonium nitrate solutions (UAN)\",\"line\":{\"color\":\"#ab63fa\",\"dash\":\"solid\"},\"marker\":{\"symbol\":\"circle\"},\"mode\":\"markers+lines\",\"name\":\"Urea and ammonium nitrate solutions (UAN)\",\"orientation\":\"v\",\"showlegend\":true,\"x\":[2015,2016],\"xaxis\":\"x\",\"y\":[2053200.0,2439800.0],\"yaxis\":\"y\",\"type\":\"scatter\"},{\"hovertemplate\":\"Item=Superphosphates above 35%<br>Year=%{x}<br>Value=%{y}<extra></extra>\",\"legendgroup\":\"Superphosphates above 35%\",\"line\":{\"color\":\"#FFA15A\",\"dash\":\"solid\"},\"marker\":{\"symbol\":\"circle\"},\"mode\":\"markers+lines\",\"name\":\"Superphosphates above 35%\",\"orientation\":\"v\",\"showlegend\":true,\"x\":[2017,2018],\"xaxis\":\"x\",\"y\":[1000.0,300.0],\"yaxis\":\"y\",\"type\":\"scatter\"}],                        {\"template\":{\"data\":{\"bar\":[{\"error_x\":{\"color\":\"#2a3f5f\"},\"error_y\":{\"color\":\"#2a3f5f\"},\"marker\":{\"line\":{\"color\":\"#E5ECF6\",\"width\":0.5},\"pattern\":{\"fillmode\":\"overlay\",\"size\":10,\"solidity\":0.2}},\"type\":\"bar\"}],\"barpolar\":[{\"marker\":{\"line\":{\"color\":\"#E5ECF6\",\"width\":0.5},\"pattern\":{\"fillmode\":\"overlay\",\"size\":10,\"solidity\":0.2}},\"type\":\"barpolar\"}],\"carpet\":[{\"aaxis\":{\"endlinecolor\":\"#2a3f5f\",\"gridcolor\":\"white\",\"linecolor\":\"white\",\"minorgridcolor\":\"white\",\"startlinecolor\":\"#2a3f5f\"},\"baxis\":{\"endlinecolor\":\"#2a3f5f\",\"gridcolor\":\"white\",\"linecolor\":\"white\",\"minorgridcolor\":\"white\",\"startlinecolor\":\"#2a3f5f\"},\"type\":\"carpet\"}],\"choropleth\":[{\"colorbar\":{\"outlinewidth\":0,\"ticks\":\"\"},\"type\":\"choropleth\"}],\"contour\":[{\"colorbar\":{\"outlinewidth\":0,\"ticks\":\"\"},\"colorscale\":[[0.0,\"#0d0887\"],[0.1111111111111111,\"#46039f\"],[0.2222222222222222,\"#7201a8\"],[0.3333333333333333,\"#9c179e\"],[0.4444444444444444,\"#bd3786\"],[0.5555555555555556,\"#d8576b\"],[0.6666666666666666,\"#ed7953\"],[0.7777777777777778,\"#fb9f3a\"],[0.8888888888888888,\"#fdca26\"],[1.0,\"#f0f921\"]],\"type\":\"contour\"}],\"contourcarpet\":[{\"colorbar\":{\"outlinewidth\":0,\"ticks\":\"\"},\"type\":\"contourcarpet\"}],\"heatmap\":[{\"colorbar\":{\"outlinewidth\":0,\"ticks\":\"\"},\"colorscale\":[[0.0,\"#0d0887\"],[0.1111111111111111,\"#46039f\"],[0.2222222222222222,\"#7201a8\"],[0.3333333333333333,\"#9c179e\"],[0.4444444444444444,\"#bd3786\"],[0.5555555555555556,\"#d8576b\"],[0.6666666666666666,\"#ed7953\"],[0.7777777777777778,\"#fb9f3a\"],[0.8888888888888888,\"#fdca26\"],[1.0,\"#f0f921\"]],\"type\":\"heatmap\"}],\"heatmapgl\":[{\"colorbar\":{\"outlinewidth\":0,\"ticks\":\"\"},\"colorscale\":[[0.0,\"#0d0887\"],[0.1111111111111111,\"#46039f\"],[0.2222222222222222,\"#7201a8\"],[0.3333333333333333,\"#9c179e\"],[0.4444444444444444,\"#bd3786\"],[0.5555555555555556,\"#d8576b\"],[0.6666666666666666,\"#ed7953\"],[0.7777777777777778,\"#fb9f3a\"],[0.8888888888888888,\"#fdca26\"],[1.0,\"#f0f921\"]],\"type\":\"heatmapgl\"}],\"histogram\":[{\"marker\":{\"pattern\":{\"fillmode\":\"overlay\",\"size\":10,\"solidity\":0.2}},\"type\":\"histogram\"}],\"histogram2d\":[{\"colorbar\":{\"outlinewidth\":0,\"ticks\":\"\"},\"colorscale\":[[0.0,\"#0d0887\"],[0.1111111111111111,\"#46039f\"],[0.2222222222222222,\"#7201a8\"],[0.3333333333333333,\"#9c179e\"],[0.4444444444444444,\"#bd3786\"],[0.5555555555555556,\"#d8576b\"],[0.6666666666666666,\"#ed7953\"],[0.7777777777777778,\"#fb9f3a\"],[0.8888888888888888,\"#fdca26\"],[1.0,\"#f0f921\"]],\"type\":\"histogram2d\"}],\"histogram2dcontour\":[{\"colorbar\":{\"outlinewidth\":0,\"ticks\":\"\"},\"colorscale\":[[0.0,\"#0d0887\"],[0.1111111111111111,\"#46039f\"],[0.2222222222222222,\"#7201a8\"],[0.3333333333333333,\"#9c179e\"],[0.4444444444444444,\"#bd3786\"],[0.5555555555555556,\"#d8576b\"],[0.6666666666666666,\"#ed7953\"],[0.7777777777777778,\"#fb9f3a\"],[0.8888888888888888,\"#fdca26\"],[1.0,\"#f0f921\"]],\"type\":\"histogram2dcontour\"}],\"mesh3d\":[{\"colorbar\":{\"outlinewidth\":0,\"ticks\":\"\"},\"type\":\"mesh3d\"}],\"parcoords\":[{\"line\":{\"colorbar\":{\"outlinewidth\":0,\"ticks\":\"\"}},\"type\":\"parcoords\"}],\"pie\":[{\"automargin\":true,\"type\":\"pie\"}],\"scatter\":[{\"marker\":{\"colorbar\":{\"outlinewidth\":0,\"ticks\":\"\"}},\"type\":\"scatter\"}],\"scatter3d\":[{\"line\":{\"colorbar\":{\"outlinewidth\":0,\"ticks\":\"\"}},\"marker\":{\"colorbar\":{\"outlinewidth\":0,\"ticks\":\"\"}},\"type\":\"scatter3d\"}],\"scattercarpet\":[{\"marker\":{\"colorbar\":{\"outlinewidth\":0,\"ticks\":\"\"}},\"type\":\"scattercarpet\"}],\"scattergeo\":[{\"marker\":{\"colorbar\":{\"outlinewidth\":0,\"ticks\":\"\"}},\"type\":\"scattergeo\"}],\"scattergl\":[{\"marker\":{\"colorbar\":{\"outlinewidth\":0,\"ticks\":\"\"}},\"type\":\"scattergl\"}],\"scattermapbox\":[{\"marker\":{\"colorbar\":{\"outlinewidth\":0,\"ticks\":\"\"}},\"type\":\"scattermapbox\"}],\"scatterpolar\":[{\"marker\":{\"colorbar\":{\"outlinewidth\":0,\"ticks\":\"\"}},\"type\":\"scatterpolar\"}],\"scatterpolargl\":[{\"marker\":{\"colorbar\":{\"outlinewidth\":0,\"ticks\":\"\"}},\"type\":\"scatterpolargl\"}],\"scatterternary\":[{\"marker\":{\"colorbar\":{\"outlinewidth\":0,\"ticks\":\"\"}},\"type\":\"scatterternary\"}],\"surface\":[{\"colorbar\":{\"outlinewidth\":0,\"ticks\":\"\"},\"colorscale\":[[0.0,\"#0d0887\"],[0.1111111111111111,\"#46039f\"],[0.2222222222222222,\"#7201a8\"],[0.3333333333333333,\"#9c179e\"],[0.4444444444444444,\"#bd3786\"],[0.5555555555555556,\"#d8576b\"],[0.6666666666666666,\"#ed7953\"],[0.7777777777777778,\"#fb9f3a\"],[0.8888888888888888,\"#fdca26\"],[1.0,\"#f0f921\"]],\"type\":\"surface\"}],\"table\":[{\"cells\":{\"fill\":{\"color\":\"#EBF0F8\"},\"line\":{\"color\":\"white\"}},\"header\":{\"fill\":{\"color\":\"#C8D4E3\"},\"line\":{\"color\":\"white\"}},\"type\":\"table\"}]},\"layout\":{\"annotationdefaults\":{\"arrowcolor\":\"#2a3f5f\",\"arrowhead\":0,\"arrowwidth\":1},\"autotypenumbers\":\"strict\",\"coloraxis\":{\"colorbar\":{\"outlinewidth\":0,\"ticks\":\"\"}},\"colorscale\":{\"diverging\":[[0,\"#8e0152\"],[0.1,\"#c51b7d\"],[0.2,\"#de77ae\"],[0.3,\"#f1b6da\"],[0.4,\"#fde0ef\"],[0.5,\"#f7f7f7\"],[0.6,\"#e6f5d0\"],[0.7,\"#b8e186\"],[0.8,\"#7fbc41\"],[0.9,\"#4d9221\"],[1,\"#276419\"]],\"sequential\":[[0.0,\"#0d0887\"],[0.1111111111111111,\"#46039f\"],[0.2222222222222222,\"#7201a8\"],[0.3333333333333333,\"#9c179e\"],[0.4444444444444444,\"#bd3786\"],[0.5555555555555556,\"#d8576b\"],[0.6666666666666666,\"#ed7953\"],[0.7777777777777778,\"#fb9f3a\"],[0.8888888888888888,\"#fdca26\"],[1.0,\"#f0f921\"]],\"sequentialminus\":[[0.0,\"#0d0887\"],[0.1111111111111111,\"#46039f\"],[0.2222222222222222,\"#7201a8\"],[0.3333333333333333,\"#9c179e\"],[0.4444444444444444,\"#bd3786\"],[0.5555555555555556,\"#d8576b\"],[0.6666666666666666,\"#ed7953\"],[0.7777777777777778,\"#fb9f3a\"],[0.8888888888888888,\"#fdca26\"],[1.0,\"#f0f921\"]]},\"colorway\":[\"#636efa\",\"#EF553B\",\"#00cc96\",\"#ab63fa\",\"#FFA15A\",\"#19d3f3\",\"#FF6692\",\"#B6E880\",\"#FF97FF\",\"#FECB52\"],\"font\":{\"color\":\"#2a3f5f\"},\"geo\":{\"bgcolor\":\"white\",\"lakecolor\":\"white\",\"landcolor\":\"#E5ECF6\",\"showlakes\":true,\"showland\":true,\"subunitcolor\":\"white\"},\"hoverlabel\":{\"align\":\"left\"},\"hovermode\":\"closest\",\"mapbox\":{\"style\":\"light\"},\"paper_bgcolor\":\"white\",\"plot_bgcolor\":\"#E5ECF6\",\"polar\":{\"angularaxis\":{\"gridcolor\":\"white\",\"linecolor\":\"white\",\"ticks\":\"\"},\"bgcolor\":\"#E5ECF6\",\"radialaxis\":{\"gridcolor\":\"white\",\"linecolor\":\"white\",\"ticks\":\"\"}},\"scene\":{\"xaxis\":{\"backgroundcolor\":\"#E5ECF6\",\"gridcolor\":\"white\",\"gridwidth\":2,\"linecolor\":\"white\",\"showbackground\":true,\"ticks\":\"\",\"zerolinecolor\":\"white\"},\"yaxis\":{\"backgroundcolor\":\"#E5ECF6\",\"gridcolor\":\"white\",\"gridwidth\":2,\"linecolor\":\"white\",\"showbackground\":true,\"ticks\":\"\",\"zerolinecolor\":\"white\"},\"zaxis\":{\"backgroundcolor\":\"#E5ECF6\",\"gridcolor\":\"white\",\"gridwidth\":2,\"linecolor\":\"white\",\"showbackground\":true,\"ticks\":\"\",\"zerolinecolor\":\"white\"}},\"shapedefaults\":{\"line\":{\"color\":\"#2a3f5f\"}},\"ternary\":{\"aaxis\":{\"gridcolor\":\"white\",\"linecolor\":\"white\",\"ticks\":\"\"},\"baxis\":{\"gridcolor\":\"white\",\"linecolor\":\"white\",\"ticks\":\"\"},\"bgcolor\":\"#E5ECF6\",\"caxis\":{\"gridcolor\":\"white\",\"linecolor\":\"white\",\"ticks\":\"\"}},\"title\":{\"x\":0.05},\"xaxis\":{\"automargin\":true,\"gridcolor\":\"white\",\"linecolor\":\"white\",\"ticks\":\"\",\"title\":{\"standoff\":15},\"zerolinecolor\":\"white\",\"zerolinewidth\":2},\"yaxis\":{\"automargin\":true,\"gridcolor\":\"white\",\"linecolor\":\"white\",\"ticks\":\"\",\"title\":{\"standoff\":15},\"zerolinecolor\":\"white\",\"zerolinewidth\":2}}},\"xaxis\":{\"anchor\":\"y\",\"domain\":[0.0,1.0],\"title\":{\"text\":\"Year\"}},\"yaxis\":{\"anchor\":\"x\",\"domain\":[0.0,1.0],\"title\":{\"text\":\"Value\"}},\"legend\":{\"title\":{\"text\":\"Item\"},\"tracegroupgap\":0},\"title\":{\"text\":\"Russian Federation\"}},                        {\"responsive\": true}                    ).then(function(){\n",
              "                            \n",
              "var gd = document.getElementById('2ddb1359-4497-4889-9aa6-989aa0e8c185');\n",
              "var x = new MutationObserver(function (mutations, observer) {{\n",
              "        var display = window.getComputedStyle(gd).display;\n",
              "        if (!display || display === 'none') {{\n",
              "            console.log([gd, 'removed!']);\n",
              "            Plotly.purge(gd);\n",
              "            observer.disconnect();\n",
              "        }}\n",
              "}});\n",
              "\n",
              "// Listen for the removal of the full notebook cells\n",
              "var notebookContainer = gd.closest('#notebook-container');\n",
              "if (notebookContainer) {{\n",
              "    x.observe(notebookContainer, {childList: true});\n",
              "}}\n",
              "\n",
              "// Listen for the clearing of the current output cell\n",
              "var outputEl = gd.closest('.output');\n",
              "if (outputEl) {{\n",
              "    x.observe(outputEl, {childList: true});\n",
              "}}\n",
              "\n",
              "                        })                };                            </script>        </div>\n",
              "</body>\n",
              "</html>"
            ]
          },
          "metadata": {}
        },
        {
          "output_type": "display_data",
          "data": {
            "text/html": [
              "<html>\n",
              "<head><meta charset=\"utf-8\" /></head>\n",
              "<body>\n",
              "    <div>            <script src=\"https://cdnjs.cloudflare.com/ajax/libs/mathjax/2.7.5/MathJax.js?config=TeX-AMS-MML_SVG\"></script><script type=\"text/javascript\">if (window.MathJax) {MathJax.Hub.Config({SVG: {font: \"STIX-Web\"}});}</script>                <script type=\"text/javascript\">window.PlotlyConfig = {MathJaxConfig: 'local'};</script>\n",
              "        <script src=\"https://cdn.plot.ly/plotly-2.8.3.min.js\"></script>                <div id=\"1b1113c8-0ee8-42ee-99a7-7e5ee934e24e\" class=\"plotly-graph-div\" style=\"height:525px; width:100%;\"></div>            <script type=\"text/javascript\">                                    window.PLOTLYENV=window.PLOTLYENV || {};                                    if (document.getElementById(\"1b1113c8-0ee8-42ee-99a7-7e5ee934e24e\")) {                    Plotly.newPlot(                        \"1b1113c8-0ee8-42ee-99a7-7e5ee934e24e\",                        [{\"hovertemplate\":\"Item=Ammonium sulphate<br>Year=%{x}<br>Value=%{y}<extra></extra>\",\"legendgroup\":\"Ammonium sulphate\",\"line\":{\"color\":\"#636efa\",\"dash\":\"solid\"},\"marker\":{\"symbol\":\"circle\"},\"mode\":\"markers+lines\",\"name\":\"Ammonium sulphate\",\"orientation\":\"v\",\"showlegend\":true,\"x\":[2015,2016,2017,2018,2019],\"xaxis\":\"x\",\"y\":[560100.0,632300.0,688700.0,658400.0,793700.0],\"yaxis\":\"y\",\"type\":\"scatter\"},{\"hovertemplate\":\"Item=Calcium ammonium nitrate (CAN) and other mixtures with calcium carbonate<br>Year=%{x}<br>Value=%{y}<extra></extra>\",\"legendgroup\":\"Calcium ammonium nitrate (CAN) and other mixtures with calcium carbonate\",\"line\":{\"color\":\"#EF553B\",\"dash\":\"solid\"},\"marker\":{\"symbol\":\"circle\"},\"mode\":\"markers+lines\",\"name\":\"Calcium ammonium nitrate (CAN) and other mixtures with calcium carbonate\",\"orientation\":\"v\",\"showlegend\":true,\"x\":[2015,2016],\"xaxis\":\"x\",\"y\":[0.0,0.0],\"yaxis\":\"y\",\"type\":\"scatter\"},{\"hovertemplate\":\"Item=Diammonium phosphate (DAP)<br>Year=%{x}<br>Value=%{y}<extra></extra>\",\"legendgroup\":\"Diammonium phosphate (DAP)\",\"line\":{\"color\":\"#00cc96\",\"dash\":\"solid\"},\"marker\":{\"symbol\":\"circle\"},\"mode\":\"markers+lines\",\"name\":\"Diammonium phosphate (DAP)\",\"orientation\":\"v\",\"showlegend\":true,\"x\":[2015,2016,2017,2018,2019],\"xaxis\":\"x\",\"y\":[3821800.0,4333400.0,4654000.0,3898600.0,4549500.0],\"yaxis\":\"y\",\"type\":\"scatter\"},{\"hovertemplate\":\"Item=NPK fertilizers<br>Year=%{x}<br>Value=%{y}<extra></extra>\",\"legendgroup\":\"NPK fertilizers\",\"line\":{\"color\":\"#ab63fa\",\"dash\":\"solid\"},\"marker\":{\"symbol\":\"circle\"},\"mode\":\"markers+lines\",\"name\":\"NPK fertilizers\",\"orientation\":\"v\",\"showlegend\":true,\"x\":[2015,2016,2017,2018,2019],\"xaxis\":\"x\",\"y\":[3744700.0,3655000.0,3846100.0,4274200.0,3696000.0],\"yaxis\":\"y\",\"type\":\"scatter\"},{\"hovertemplate\":\"Item=Other NP compounds<br>Year=%{x}<br>Value=%{y}<extra></extra>\",\"legendgroup\":\"Other NP compounds\",\"line\":{\"color\":\"#FFA15A\",\"dash\":\"solid\"},\"marker\":{\"symbol\":\"circle\"},\"mode\":\"markers+lines\",\"name\":\"Other NP compounds\",\"orientation\":\"v\",\"showlegend\":true,\"x\":[2015,2016,2017,2018,2019],\"xaxis\":\"x\",\"y\":[4238100.0,4039400.0,4392800.0,4705200.0,4968600.0],\"yaxis\":\"y\",\"type\":\"scatter\"},{\"hovertemplate\":\"Item=Phosphate rock<br>Year=%{x}<br>Value=%{y}<extra></extra>\",\"legendgroup\":\"Phosphate rock\",\"line\":{\"color\":\"#19d3f3\",\"dash\":\"solid\"},\"marker\":{\"symbol\":\"circle\"},\"mode\":\"markers+lines\",\"name\":\"Phosphate rock\",\"orientation\":\"v\",\"showlegend\":true,\"x\":[2015,2016],\"xaxis\":\"x\",\"y\":[1355900.0,860300.0],\"yaxis\":\"y\",\"type\":\"scatter\"},{\"hovertemplate\":\"Item=Superphosphates above 35%<br>Year=%{x}<br>Value=%{y}<extra></extra>\",\"legendgroup\":\"Superphosphates above 35%\",\"line\":{\"color\":\"#FF6692\",\"dash\":\"solid\"},\"marker\":{\"symbol\":\"circle\"},\"mode\":\"markers+lines\",\"name\":\"Superphosphates above 35%\",\"orientation\":\"v\",\"showlegend\":true,\"x\":[2015,2016],\"xaxis\":\"x\",\"y\":[0.0,0.0],\"yaxis\":\"y\",\"type\":\"scatter\"},{\"hovertemplate\":\"Item=Superphosphates, other<br>Year=%{x}<br>Value=%{y}<extra></extra>\",\"legendgroup\":\"Superphosphates, other\",\"line\":{\"color\":\"#B6E880\",\"dash\":\"solid\"},\"marker\":{\"symbol\":\"circle\"},\"mode\":\"markers+lines\",\"name\":\"Superphosphates, other\",\"orientation\":\"v\",\"showlegend\":true,\"x\":[2015,2016,2017,2018,2019],\"xaxis\":\"x\",\"y\":[4329600.0,4296800.0,3910200.0,4076300.0,4246700.0],\"yaxis\":\"y\",\"type\":\"scatter\"},{\"hovertemplate\":\"Item=Urea<br>Year=%{x}<br>Value=%{y}<extra></extra>\",\"legendgroup\":\"Urea\",\"line\":{\"color\":\"#FF97FF\",\"dash\":\"solid\"},\"marker\":{\"symbol\":\"circle\"},\"mode\":\"markers+lines\",\"name\":\"Urea\",\"orientation\":\"v\",\"showlegend\":true,\"x\":[2015,2016,2017,2018,2019],\"xaxis\":\"x\",\"y\":[24461300.0,24200800.0,24026000.0,23899200.0,24455200.0],\"yaxis\":\"y\",\"type\":\"scatter\"}],                        {\"template\":{\"data\":{\"bar\":[{\"error_x\":{\"color\":\"#2a3f5f\"},\"error_y\":{\"color\":\"#2a3f5f\"},\"marker\":{\"line\":{\"color\":\"#E5ECF6\",\"width\":0.5},\"pattern\":{\"fillmode\":\"overlay\",\"size\":10,\"solidity\":0.2}},\"type\":\"bar\"}],\"barpolar\":[{\"marker\":{\"line\":{\"color\":\"#E5ECF6\",\"width\":0.5},\"pattern\":{\"fillmode\":\"overlay\",\"size\":10,\"solidity\":0.2}},\"type\":\"barpolar\"}],\"carpet\":[{\"aaxis\":{\"endlinecolor\":\"#2a3f5f\",\"gridcolor\":\"white\",\"linecolor\":\"white\",\"minorgridcolor\":\"white\",\"startlinecolor\":\"#2a3f5f\"},\"baxis\":{\"endlinecolor\":\"#2a3f5f\",\"gridcolor\":\"white\",\"linecolor\":\"white\",\"minorgridcolor\":\"white\",\"startlinecolor\":\"#2a3f5f\"},\"type\":\"carpet\"}],\"choropleth\":[{\"colorbar\":{\"outlinewidth\":0,\"ticks\":\"\"},\"type\":\"choropleth\"}],\"contour\":[{\"colorbar\":{\"outlinewidth\":0,\"ticks\":\"\"},\"colorscale\":[[0.0,\"#0d0887\"],[0.1111111111111111,\"#46039f\"],[0.2222222222222222,\"#7201a8\"],[0.3333333333333333,\"#9c179e\"],[0.4444444444444444,\"#bd3786\"],[0.5555555555555556,\"#d8576b\"],[0.6666666666666666,\"#ed7953\"],[0.7777777777777778,\"#fb9f3a\"],[0.8888888888888888,\"#fdca26\"],[1.0,\"#f0f921\"]],\"type\":\"contour\"}],\"contourcarpet\":[{\"colorbar\":{\"outlinewidth\":0,\"ticks\":\"\"},\"type\":\"contourcarpet\"}],\"heatmap\":[{\"colorbar\":{\"outlinewidth\":0,\"ticks\":\"\"},\"colorscale\":[[0.0,\"#0d0887\"],[0.1111111111111111,\"#46039f\"],[0.2222222222222222,\"#7201a8\"],[0.3333333333333333,\"#9c179e\"],[0.4444444444444444,\"#bd3786\"],[0.5555555555555556,\"#d8576b\"],[0.6666666666666666,\"#ed7953\"],[0.7777777777777778,\"#fb9f3a\"],[0.8888888888888888,\"#fdca26\"],[1.0,\"#f0f921\"]],\"type\":\"heatmap\"}],\"heatmapgl\":[{\"colorbar\":{\"outlinewidth\":0,\"ticks\":\"\"},\"colorscale\":[[0.0,\"#0d0887\"],[0.1111111111111111,\"#46039f\"],[0.2222222222222222,\"#7201a8\"],[0.3333333333333333,\"#9c179e\"],[0.4444444444444444,\"#bd3786\"],[0.5555555555555556,\"#d8576b\"],[0.6666666666666666,\"#ed7953\"],[0.7777777777777778,\"#fb9f3a\"],[0.8888888888888888,\"#fdca26\"],[1.0,\"#f0f921\"]],\"type\":\"heatmapgl\"}],\"histogram\":[{\"marker\":{\"pattern\":{\"fillmode\":\"overlay\",\"size\":10,\"solidity\":0.2}},\"type\":\"histogram\"}],\"histogram2d\":[{\"colorbar\":{\"outlinewidth\":0,\"ticks\":\"\"},\"colorscale\":[[0.0,\"#0d0887\"],[0.1111111111111111,\"#46039f\"],[0.2222222222222222,\"#7201a8\"],[0.3333333333333333,\"#9c179e\"],[0.4444444444444444,\"#bd3786\"],[0.5555555555555556,\"#d8576b\"],[0.6666666666666666,\"#ed7953\"],[0.7777777777777778,\"#fb9f3a\"],[0.8888888888888888,\"#fdca26\"],[1.0,\"#f0f921\"]],\"type\":\"histogram2d\"}],\"histogram2dcontour\":[{\"colorbar\":{\"outlinewidth\":0,\"ticks\":\"\"},\"colorscale\":[[0.0,\"#0d0887\"],[0.1111111111111111,\"#46039f\"],[0.2222222222222222,\"#7201a8\"],[0.3333333333333333,\"#9c179e\"],[0.4444444444444444,\"#bd3786\"],[0.5555555555555556,\"#d8576b\"],[0.6666666666666666,\"#ed7953\"],[0.7777777777777778,\"#fb9f3a\"],[0.8888888888888888,\"#fdca26\"],[1.0,\"#f0f921\"]],\"type\":\"histogram2dcontour\"}],\"mesh3d\":[{\"colorbar\":{\"outlinewidth\":0,\"ticks\":\"\"},\"type\":\"mesh3d\"}],\"parcoords\":[{\"line\":{\"colorbar\":{\"outlinewidth\":0,\"ticks\":\"\"}},\"type\":\"parcoords\"}],\"pie\":[{\"automargin\":true,\"type\":\"pie\"}],\"scatter\":[{\"marker\":{\"colorbar\":{\"outlinewidth\":0,\"ticks\":\"\"}},\"type\":\"scatter\"}],\"scatter3d\":[{\"line\":{\"colorbar\":{\"outlinewidth\":0,\"ticks\":\"\"}},\"marker\":{\"colorbar\":{\"outlinewidth\":0,\"ticks\":\"\"}},\"type\":\"scatter3d\"}],\"scattercarpet\":[{\"marker\":{\"colorbar\":{\"outlinewidth\":0,\"ticks\":\"\"}},\"type\":\"scattercarpet\"}],\"scattergeo\":[{\"marker\":{\"colorbar\":{\"outlinewidth\":0,\"ticks\":\"\"}},\"type\":\"scattergeo\"}],\"scattergl\":[{\"marker\":{\"colorbar\":{\"outlinewidth\":0,\"ticks\":\"\"}},\"type\":\"scattergl\"}],\"scattermapbox\":[{\"marker\":{\"colorbar\":{\"outlinewidth\":0,\"ticks\":\"\"}},\"type\":\"scattermapbox\"}],\"scatterpolar\":[{\"marker\":{\"colorbar\":{\"outlinewidth\":0,\"ticks\":\"\"}},\"type\":\"scatterpolar\"}],\"scatterpolargl\":[{\"marker\":{\"colorbar\":{\"outlinewidth\":0,\"ticks\":\"\"}},\"type\":\"scatterpolargl\"}],\"scatterternary\":[{\"marker\":{\"colorbar\":{\"outlinewidth\":0,\"ticks\":\"\"}},\"type\":\"scatterternary\"}],\"surface\":[{\"colorbar\":{\"outlinewidth\":0,\"ticks\":\"\"},\"colorscale\":[[0.0,\"#0d0887\"],[0.1111111111111111,\"#46039f\"],[0.2222222222222222,\"#7201a8\"],[0.3333333333333333,\"#9c179e\"],[0.4444444444444444,\"#bd3786\"],[0.5555555555555556,\"#d8576b\"],[0.6666666666666666,\"#ed7953\"],[0.7777777777777778,\"#fb9f3a\"],[0.8888888888888888,\"#fdca26\"],[1.0,\"#f0f921\"]],\"type\":\"surface\"}],\"table\":[{\"cells\":{\"fill\":{\"color\":\"#EBF0F8\"},\"line\":{\"color\":\"white\"}},\"header\":{\"fill\":{\"color\":\"#C8D4E3\"},\"line\":{\"color\":\"white\"}},\"type\":\"table\"}]},\"layout\":{\"annotationdefaults\":{\"arrowcolor\":\"#2a3f5f\",\"arrowhead\":0,\"arrowwidth\":1},\"autotypenumbers\":\"strict\",\"coloraxis\":{\"colorbar\":{\"outlinewidth\":0,\"ticks\":\"\"}},\"colorscale\":{\"diverging\":[[0,\"#8e0152\"],[0.1,\"#c51b7d\"],[0.2,\"#de77ae\"],[0.3,\"#f1b6da\"],[0.4,\"#fde0ef\"],[0.5,\"#f7f7f7\"],[0.6,\"#e6f5d0\"],[0.7,\"#b8e186\"],[0.8,\"#7fbc41\"],[0.9,\"#4d9221\"],[1,\"#276419\"]],\"sequential\":[[0.0,\"#0d0887\"],[0.1111111111111111,\"#46039f\"],[0.2222222222222222,\"#7201a8\"],[0.3333333333333333,\"#9c179e\"],[0.4444444444444444,\"#bd3786\"],[0.5555555555555556,\"#d8576b\"],[0.6666666666666666,\"#ed7953\"],[0.7777777777777778,\"#fb9f3a\"],[0.8888888888888888,\"#fdca26\"],[1.0,\"#f0f921\"]],\"sequentialminus\":[[0.0,\"#0d0887\"],[0.1111111111111111,\"#46039f\"],[0.2222222222222222,\"#7201a8\"],[0.3333333333333333,\"#9c179e\"],[0.4444444444444444,\"#bd3786\"],[0.5555555555555556,\"#d8576b\"],[0.6666666666666666,\"#ed7953\"],[0.7777777777777778,\"#fb9f3a\"],[0.8888888888888888,\"#fdca26\"],[1.0,\"#f0f921\"]]},\"colorway\":[\"#636efa\",\"#EF553B\",\"#00cc96\",\"#ab63fa\",\"#FFA15A\",\"#19d3f3\",\"#FF6692\",\"#B6E880\",\"#FF97FF\",\"#FECB52\"],\"font\":{\"color\":\"#2a3f5f\"},\"geo\":{\"bgcolor\":\"white\",\"lakecolor\":\"white\",\"landcolor\":\"#E5ECF6\",\"showlakes\":true,\"showland\":true,\"subunitcolor\":\"white\"},\"hoverlabel\":{\"align\":\"left\"},\"hovermode\":\"closest\",\"mapbox\":{\"style\":\"light\"},\"paper_bgcolor\":\"white\",\"plot_bgcolor\":\"#E5ECF6\",\"polar\":{\"angularaxis\":{\"gridcolor\":\"white\",\"linecolor\":\"white\",\"ticks\":\"\"},\"bgcolor\":\"#E5ECF6\",\"radialaxis\":{\"gridcolor\":\"white\",\"linecolor\":\"white\",\"ticks\":\"\"}},\"scene\":{\"xaxis\":{\"backgroundcolor\":\"#E5ECF6\",\"gridcolor\":\"white\",\"gridwidth\":2,\"linecolor\":\"white\",\"showbackground\":true,\"ticks\":\"\",\"zerolinecolor\":\"white\"},\"yaxis\":{\"backgroundcolor\":\"#E5ECF6\",\"gridcolor\":\"white\",\"gridwidth\":2,\"linecolor\":\"white\",\"showbackground\":true,\"ticks\":\"\",\"zerolinecolor\":\"white\"},\"zaxis\":{\"backgroundcolor\":\"#E5ECF6\",\"gridcolor\":\"white\",\"gridwidth\":2,\"linecolor\":\"white\",\"showbackground\":true,\"ticks\":\"\",\"zerolinecolor\":\"white\"}},\"shapedefaults\":{\"line\":{\"color\":\"#2a3f5f\"}},\"ternary\":{\"aaxis\":{\"gridcolor\":\"white\",\"linecolor\":\"white\",\"ticks\":\"\"},\"baxis\":{\"gridcolor\":\"white\",\"linecolor\":\"white\",\"ticks\":\"\"},\"bgcolor\":\"#E5ECF6\",\"caxis\":{\"gridcolor\":\"white\",\"linecolor\":\"white\",\"ticks\":\"\"}},\"title\":{\"x\":0.05},\"xaxis\":{\"automargin\":true,\"gridcolor\":\"white\",\"linecolor\":\"white\",\"ticks\":\"\",\"title\":{\"standoff\":15},\"zerolinecolor\":\"white\",\"zerolinewidth\":2},\"yaxis\":{\"automargin\":true,\"gridcolor\":\"white\",\"linecolor\":\"white\",\"ticks\":\"\",\"title\":{\"standoff\":15},\"zerolinecolor\":\"white\",\"zerolinewidth\":2}}},\"xaxis\":{\"anchor\":\"y\",\"domain\":[0.0,1.0],\"title\":{\"text\":\"Year\"}},\"yaxis\":{\"anchor\":\"x\",\"domain\":[0.0,1.0],\"title\":{\"text\":\"Value\"}},\"legend\":{\"title\":{\"text\":\"Item\"},\"tracegroupgap\":0},\"title\":{\"text\":\"India\"}},                        {\"responsive\": true}                    ).then(function(){\n",
              "                            \n",
              "var gd = document.getElementById('1b1113c8-0ee8-42ee-99a7-7e5ee934e24e');\n",
              "var x = new MutationObserver(function (mutations, observer) {{\n",
              "        var display = window.getComputedStyle(gd).display;\n",
              "        if (!display || display === 'none') {{\n",
              "            console.log([gd, 'removed!']);\n",
              "            Plotly.purge(gd);\n",
              "            observer.disconnect();\n",
              "        }}\n",
              "}});\n",
              "\n",
              "// Listen for the removal of the full notebook cells\n",
              "var notebookContainer = gd.closest('#notebook-container');\n",
              "if (notebookContainer) {{\n",
              "    x.observe(notebookContainer, {childList: true});\n",
              "}}\n",
              "\n",
              "// Listen for the clearing of the current output cell\n",
              "var outputEl = gd.closest('.output');\n",
              "if (outputEl) {{\n",
              "    x.observe(outputEl, {childList: true});\n",
              "}}\n",
              "\n",
              "                        })                };                            </script>        </div>\n",
              "</body>\n",
              "</html>"
            ]
          },
          "metadata": {}
        },
        {
          "output_type": "display_data",
          "data": {
            "text/html": [
              "<html>\n",
              "<head><meta charset=\"utf-8\" /></head>\n",
              "<body>\n",
              "    <div>            <script src=\"https://cdnjs.cloudflare.com/ajax/libs/mathjax/2.7.5/MathJax.js?config=TeX-AMS-MML_SVG\"></script><script type=\"text/javascript\">if (window.MathJax) {MathJax.Hub.Config({SVG: {font: \"STIX-Web\"}});}</script>                <script type=\"text/javascript\">window.PlotlyConfig = {MathJaxConfig: 'local'};</script>\n",
              "        <script src=\"https://cdn.plot.ly/plotly-2.8.3.min.js\"></script>                <div id=\"15f3e20f-fb80-462a-be50-ebcf1d3f6ab1\" class=\"plotly-graph-div\" style=\"height:525px; width:100%;\"></div>            <script type=\"text/javascript\">                                    window.PLOTLYENV=window.PLOTLYENV || {};                                    if (document.getElementById(\"15f3e20f-fb80-462a-be50-ebcf1d3f6ab1\")) {                    Plotly.newPlot(                        \"15f3e20f-fb80-462a-be50-ebcf1d3f6ab1\",                        [{\"hovertemplate\":\"Item=Ammonia, anhydrous<br>Year=%{x}<br>Value=%{y}<extra></extra>\",\"legendgroup\":\"Ammonia, anhydrous\",\"line\":{\"color\":\"#636efa\",\"dash\":\"solid\"},\"marker\":{\"symbol\":\"circle\"},\"mode\":\"markers+lines\",\"name\":\"Ammonia, anhydrous\",\"orientation\":\"v\",\"showlegend\":true,\"x\":[2015,2016,2017,2018,2019],\"xaxis\":\"x\",\"y\":[4871000.0,5028000.0,4556000.0,4662000.0,4790000.0],\"yaxis\":\"y\",\"type\":\"scatter\"},{\"hovertemplate\":\"Item=Ammonium nitrate (AN)<br>Year=%{x}<br>Value=%{y}<extra></extra>\",\"legendgroup\":\"Ammonium nitrate (AN)\",\"line\":{\"color\":\"#EF553B\",\"dash\":\"solid\"},\"marker\":{\"symbol\":\"circle\"},\"mode\":\"markers+lines\",\"name\":\"Ammonium nitrate (AN)\",\"orientation\":\"v\",\"showlegend\":true,\"x\":[2015,2016,2017,2018,2019],\"xaxis\":\"x\",\"y\":[328000.0,713000.0,663000.0,704000.0,709000.0],\"yaxis\":\"y\",\"type\":\"scatter\"},{\"hovertemplate\":\"Item=Ammonium sulphate<br>Year=%{x}<br>Value=%{y}<extra></extra>\",\"legendgroup\":\"Ammonium sulphate\",\"line\":{\"color\":\"#00cc96\",\"dash\":\"solid\"},\"marker\":{\"symbol\":\"circle\"},\"mode\":\"markers+lines\",\"name\":\"Ammonium sulphate\",\"orientation\":\"v\",\"showlegend\":true,\"x\":[2015,2016,2017,2018,2019],\"xaxis\":\"x\",\"y\":[975000.0,972000.0,934000.0,975000.0,984000.0],\"yaxis\":\"y\",\"type\":\"scatter\"},{\"hovertemplate\":\"Item=Diammonium phosphate (DAP)<br>Year=%{x}<br>Value=%{y}<extra></extra>\",\"legendgroup\":\"Diammonium phosphate (DAP)\",\"line\":{\"color\":\"#ab63fa\",\"dash\":\"solid\"},\"marker\":{\"symbol\":\"circle\"},\"mode\":\"markers+lines\",\"name\":\"Diammonium phosphate (DAP)\",\"orientation\":\"v\",\"showlegend\":true,\"x\":[2015,2016,2017,2018],\"xaxis\":\"x\",\"y\":[0.0,0.0,0.0,0.0],\"yaxis\":\"y\",\"type\":\"scatter\"},{\"hovertemplate\":\"Item=Fertilizers n.e.c.<br>Year=%{x}<br>Value=%{y}<extra></extra>\",\"legendgroup\":\"Fertilizers n.e.c.\",\"line\":{\"color\":\"#FFA15A\",\"dash\":\"solid\"},\"marker\":{\"symbol\":\"circle\"},\"mode\":\"markers+lines\",\"name\":\"Fertilizers n.e.c.\",\"orientation\":\"v\",\"showlegend\":true,\"x\":[2015,2016],\"xaxis\":\"x\",\"y\":[291000.0,265000.0],\"yaxis\":\"y\",\"type\":\"scatter\"},{\"hovertemplate\":\"Item=Potassium chloride (muriate of potash) (MOP)<br>Year=%{x}<br>Value=%{y}<extra></extra>\",\"legendgroup\":\"Potassium chloride (muriate of potash) (MOP)\",\"line\":{\"color\":\"#19d3f3\",\"dash\":\"solid\"},\"marker\":{\"symbol\":\"circle\"},\"mode\":\"markers+lines\",\"name\":\"Potassium chloride (muriate of potash) (MOP)\",\"orientation\":\"v\",\"showlegend\":true,\"x\":[2015,2016,2017],\"xaxis\":\"x\",\"y\":[18796000.0,17853000.0,20299000.0],\"yaxis\":\"y\",\"type\":\"scatter\"},{\"hovertemplate\":\"Item=Urea<br>Year=%{x}<br>Value=%{y}<extra></extra>\",\"legendgroup\":\"Urea\",\"line\":{\"color\":\"#FF6692\",\"dash\":\"solid\"},\"marker\":{\"symbol\":\"circle\"},\"mode\":\"markers+lines\",\"name\":\"Urea\",\"orientation\":\"v\",\"showlegend\":true,\"x\":[2015,2016,2017,2018,2019],\"xaxis\":\"x\",\"y\":[3787000.0,4139000.0,3845000.0,4054000.0,4218000.0],\"yaxis\":\"y\",\"type\":\"scatter\"},{\"hovertemplate\":\"Item=Urea and ammonium nitrate solutions (UAN)<br>Year=%{x}<br>Value=%{y}<extra></extra>\",\"legendgroup\":\"Urea and ammonium nitrate solutions (UAN)\",\"line\":{\"color\":\"#B6E880\",\"dash\":\"solid\"},\"marker\":{\"symbol\":\"circle\"},\"mode\":\"markers+lines\",\"name\":\"Urea and ammonium nitrate solutions (UAN)\",\"orientation\":\"v\",\"showlegend\":true,\"x\":[2015,2016,2017,2018,2019],\"xaxis\":\"x\",\"y\":[1223000.0,1428000.0,1260000.0,1425000.0,1433000.0],\"yaxis\":\"y\",\"type\":\"scatter\"}],                        {\"template\":{\"data\":{\"bar\":[{\"error_x\":{\"color\":\"#2a3f5f\"},\"error_y\":{\"color\":\"#2a3f5f\"},\"marker\":{\"line\":{\"color\":\"#E5ECF6\",\"width\":0.5},\"pattern\":{\"fillmode\":\"overlay\",\"size\":10,\"solidity\":0.2}},\"type\":\"bar\"}],\"barpolar\":[{\"marker\":{\"line\":{\"color\":\"#E5ECF6\",\"width\":0.5},\"pattern\":{\"fillmode\":\"overlay\",\"size\":10,\"solidity\":0.2}},\"type\":\"barpolar\"}],\"carpet\":[{\"aaxis\":{\"endlinecolor\":\"#2a3f5f\",\"gridcolor\":\"white\",\"linecolor\":\"white\",\"minorgridcolor\":\"white\",\"startlinecolor\":\"#2a3f5f\"},\"baxis\":{\"endlinecolor\":\"#2a3f5f\",\"gridcolor\":\"white\",\"linecolor\":\"white\",\"minorgridcolor\":\"white\",\"startlinecolor\":\"#2a3f5f\"},\"type\":\"carpet\"}],\"choropleth\":[{\"colorbar\":{\"outlinewidth\":0,\"ticks\":\"\"},\"type\":\"choropleth\"}],\"contour\":[{\"colorbar\":{\"outlinewidth\":0,\"ticks\":\"\"},\"colorscale\":[[0.0,\"#0d0887\"],[0.1111111111111111,\"#46039f\"],[0.2222222222222222,\"#7201a8\"],[0.3333333333333333,\"#9c179e\"],[0.4444444444444444,\"#bd3786\"],[0.5555555555555556,\"#d8576b\"],[0.6666666666666666,\"#ed7953\"],[0.7777777777777778,\"#fb9f3a\"],[0.8888888888888888,\"#fdca26\"],[1.0,\"#f0f921\"]],\"type\":\"contour\"}],\"contourcarpet\":[{\"colorbar\":{\"outlinewidth\":0,\"ticks\":\"\"},\"type\":\"contourcarpet\"}],\"heatmap\":[{\"colorbar\":{\"outlinewidth\":0,\"ticks\":\"\"},\"colorscale\":[[0.0,\"#0d0887\"],[0.1111111111111111,\"#46039f\"],[0.2222222222222222,\"#7201a8\"],[0.3333333333333333,\"#9c179e\"],[0.4444444444444444,\"#bd3786\"],[0.5555555555555556,\"#d8576b\"],[0.6666666666666666,\"#ed7953\"],[0.7777777777777778,\"#fb9f3a\"],[0.8888888888888888,\"#fdca26\"],[1.0,\"#f0f921\"]],\"type\":\"heatmap\"}],\"heatmapgl\":[{\"colorbar\":{\"outlinewidth\":0,\"ticks\":\"\"},\"colorscale\":[[0.0,\"#0d0887\"],[0.1111111111111111,\"#46039f\"],[0.2222222222222222,\"#7201a8\"],[0.3333333333333333,\"#9c179e\"],[0.4444444444444444,\"#bd3786\"],[0.5555555555555556,\"#d8576b\"],[0.6666666666666666,\"#ed7953\"],[0.7777777777777778,\"#fb9f3a\"],[0.8888888888888888,\"#fdca26\"],[1.0,\"#f0f921\"]],\"type\":\"heatmapgl\"}],\"histogram\":[{\"marker\":{\"pattern\":{\"fillmode\":\"overlay\",\"size\":10,\"solidity\":0.2}},\"type\":\"histogram\"}],\"histogram2d\":[{\"colorbar\":{\"outlinewidth\":0,\"ticks\":\"\"},\"colorscale\":[[0.0,\"#0d0887\"],[0.1111111111111111,\"#46039f\"],[0.2222222222222222,\"#7201a8\"],[0.3333333333333333,\"#9c179e\"],[0.4444444444444444,\"#bd3786\"],[0.5555555555555556,\"#d8576b\"],[0.6666666666666666,\"#ed7953\"],[0.7777777777777778,\"#fb9f3a\"],[0.8888888888888888,\"#fdca26\"],[1.0,\"#f0f921\"]],\"type\":\"histogram2d\"}],\"histogram2dcontour\":[{\"colorbar\":{\"outlinewidth\":0,\"ticks\":\"\"},\"colorscale\":[[0.0,\"#0d0887\"],[0.1111111111111111,\"#46039f\"],[0.2222222222222222,\"#7201a8\"],[0.3333333333333333,\"#9c179e\"],[0.4444444444444444,\"#bd3786\"],[0.5555555555555556,\"#d8576b\"],[0.6666666666666666,\"#ed7953\"],[0.7777777777777778,\"#fb9f3a\"],[0.8888888888888888,\"#fdca26\"],[1.0,\"#f0f921\"]],\"type\":\"histogram2dcontour\"}],\"mesh3d\":[{\"colorbar\":{\"outlinewidth\":0,\"ticks\":\"\"},\"type\":\"mesh3d\"}],\"parcoords\":[{\"line\":{\"colorbar\":{\"outlinewidth\":0,\"ticks\":\"\"}},\"type\":\"parcoords\"}],\"pie\":[{\"automargin\":true,\"type\":\"pie\"}],\"scatter\":[{\"marker\":{\"colorbar\":{\"outlinewidth\":0,\"ticks\":\"\"}},\"type\":\"scatter\"}],\"scatter3d\":[{\"line\":{\"colorbar\":{\"outlinewidth\":0,\"ticks\":\"\"}},\"marker\":{\"colorbar\":{\"outlinewidth\":0,\"ticks\":\"\"}},\"type\":\"scatter3d\"}],\"scattercarpet\":[{\"marker\":{\"colorbar\":{\"outlinewidth\":0,\"ticks\":\"\"}},\"type\":\"scattercarpet\"}],\"scattergeo\":[{\"marker\":{\"colorbar\":{\"outlinewidth\":0,\"ticks\":\"\"}},\"type\":\"scattergeo\"}],\"scattergl\":[{\"marker\":{\"colorbar\":{\"outlinewidth\":0,\"ticks\":\"\"}},\"type\":\"scattergl\"}],\"scattermapbox\":[{\"marker\":{\"colorbar\":{\"outlinewidth\":0,\"ticks\":\"\"}},\"type\":\"scattermapbox\"}],\"scatterpolar\":[{\"marker\":{\"colorbar\":{\"outlinewidth\":0,\"ticks\":\"\"}},\"type\":\"scatterpolar\"}],\"scatterpolargl\":[{\"marker\":{\"colorbar\":{\"outlinewidth\":0,\"ticks\":\"\"}},\"type\":\"scatterpolargl\"}],\"scatterternary\":[{\"marker\":{\"colorbar\":{\"outlinewidth\":0,\"ticks\":\"\"}},\"type\":\"scatterternary\"}],\"surface\":[{\"colorbar\":{\"outlinewidth\":0,\"ticks\":\"\"},\"colorscale\":[[0.0,\"#0d0887\"],[0.1111111111111111,\"#46039f\"],[0.2222222222222222,\"#7201a8\"],[0.3333333333333333,\"#9c179e\"],[0.4444444444444444,\"#bd3786\"],[0.5555555555555556,\"#d8576b\"],[0.6666666666666666,\"#ed7953\"],[0.7777777777777778,\"#fb9f3a\"],[0.8888888888888888,\"#fdca26\"],[1.0,\"#f0f921\"]],\"type\":\"surface\"}],\"table\":[{\"cells\":{\"fill\":{\"color\":\"#EBF0F8\"},\"line\":{\"color\":\"white\"}},\"header\":{\"fill\":{\"color\":\"#C8D4E3\"},\"line\":{\"color\":\"white\"}},\"type\":\"table\"}]},\"layout\":{\"annotationdefaults\":{\"arrowcolor\":\"#2a3f5f\",\"arrowhead\":0,\"arrowwidth\":1},\"autotypenumbers\":\"strict\",\"coloraxis\":{\"colorbar\":{\"outlinewidth\":0,\"ticks\":\"\"}},\"colorscale\":{\"diverging\":[[0,\"#8e0152\"],[0.1,\"#c51b7d\"],[0.2,\"#de77ae\"],[0.3,\"#f1b6da\"],[0.4,\"#fde0ef\"],[0.5,\"#f7f7f7\"],[0.6,\"#e6f5d0\"],[0.7,\"#b8e186\"],[0.8,\"#7fbc41\"],[0.9,\"#4d9221\"],[1,\"#276419\"]],\"sequential\":[[0.0,\"#0d0887\"],[0.1111111111111111,\"#46039f\"],[0.2222222222222222,\"#7201a8\"],[0.3333333333333333,\"#9c179e\"],[0.4444444444444444,\"#bd3786\"],[0.5555555555555556,\"#d8576b\"],[0.6666666666666666,\"#ed7953\"],[0.7777777777777778,\"#fb9f3a\"],[0.8888888888888888,\"#fdca26\"],[1.0,\"#f0f921\"]],\"sequentialminus\":[[0.0,\"#0d0887\"],[0.1111111111111111,\"#46039f\"],[0.2222222222222222,\"#7201a8\"],[0.3333333333333333,\"#9c179e\"],[0.4444444444444444,\"#bd3786\"],[0.5555555555555556,\"#d8576b\"],[0.6666666666666666,\"#ed7953\"],[0.7777777777777778,\"#fb9f3a\"],[0.8888888888888888,\"#fdca26\"],[1.0,\"#f0f921\"]]},\"colorway\":[\"#636efa\",\"#EF553B\",\"#00cc96\",\"#ab63fa\",\"#FFA15A\",\"#19d3f3\",\"#FF6692\",\"#B6E880\",\"#FF97FF\",\"#FECB52\"],\"font\":{\"color\":\"#2a3f5f\"},\"geo\":{\"bgcolor\":\"white\",\"lakecolor\":\"white\",\"landcolor\":\"#E5ECF6\",\"showlakes\":true,\"showland\":true,\"subunitcolor\":\"white\"},\"hoverlabel\":{\"align\":\"left\"},\"hovermode\":\"closest\",\"mapbox\":{\"style\":\"light\"},\"paper_bgcolor\":\"white\",\"plot_bgcolor\":\"#E5ECF6\",\"polar\":{\"angularaxis\":{\"gridcolor\":\"white\",\"linecolor\":\"white\",\"ticks\":\"\"},\"bgcolor\":\"#E5ECF6\",\"radialaxis\":{\"gridcolor\":\"white\",\"linecolor\":\"white\",\"ticks\":\"\"}},\"scene\":{\"xaxis\":{\"backgroundcolor\":\"#E5ECF6\",\"gridcolor\":\"white\",\"gridwidth\":2,\"linecolor\":\"white\",\"showbackground\":true,\"ticks\":\"\",\"zerolinecolor\":\"white\"},\"yaxis\":{\"backgroundcolor\":\"#E5ECF6\",\"gridcolor\":\"white\",\"gridwidth\":2,\"linecolor\":\"white\",\"showbackground\":true,\"ticks\":\"\",\"zerolinecolor\":\"white\"},\"zaxis\":{\"backgroundcolor\":\"#E5ECF6\",\"gridcolor\":\"white\",\"gridwidth\":2,\"linecolor\":\"white\",\"showbackground\":true,\"ticks\":\"\",\"zerolinecolor\":\"white\"}},\"shapedefaults\":{\"line\":{\"color\":\"#2a3f5f\"}},\"ternary\":{\"aaxis\":{\"gridcolor\":\"white\",\"linecolor\":\"white\",\"ticks\":\"\"},\"baxis\":{\"gridcolor\":\"white\",\"linecolor\":\"white\",\"ticks\":\"\"},\"bgcolor\":\"#E5ECF6\",\"caxis\":{\"gridcolor\":\"white\",\"linecolor\":\"white\",\"ticks\":\"\"}},\"title\":{\"x\":0.05},\"xaxis\":{\"automargin\":true,\"gridcolor\":\"white\",\"linecolor\":\"white\",\"ticks\":\"\",\"title\":{\"standoff\":15},\"zerolinecolor\":\"white\",\"zerolinewidth\":2},\"yaxis\":{\"automargin\":true,\"gridcolor\":\"white\",\"linecolor\":\"white\",\"ticks\":\"\",\"title\":{\"standoff\":15},\"zerolinecolor\":\"white\",\"zerolinewidth\":2}}},\"xaxis\":{\"anchor\":\"y\",\"domain\":[0.0,1.0],\"title\":{\"text\":\"Year\"}},\"yaxis\":{\"anchor\":\"x\",\"domain\":[0.0,1.0],\"title\":{\"text\":\"Value\"}},\"legend\":{\"title\":{\"text\":\"Item\"},\"tracegroupgap\":0},\"title\":{\"text\":\"Canada\"}},                        {\"responsive\": true}                    ).then(function(){\n",
              "                            \n",
              "var gd = document.getElementById('15f3e20f-fb80-462a-be50-ebcf1d3f6ab1');\n",
              "var x = new MutationObserver(function (mutations, observer) {{\n",
              "        var display = window.getComputedStyle(gd).display;\n",
              "        if (!display || display === 'none') {{\n",
              "            console.log([gd, 'removed!']);\n",
              "            Plotly.purge(gd);\n",
              "            observer.disconnect();\n",
              "        }}\n",
              "}});\n",
              "\n",
              "// Listen for the removal of the full notebook cells\n",
              "var notebookContainer = gd.closest('#notebook-container');\n",
              "if (notebookContainer) {{\n",
              "    x.observe(notebookContainer, {childList: true});\n",
              "}}\n",
              "\n",
              "// Listen for the clearing of the current output cell\n",
              "var outputEl = gd.closest('.output');\n",
              "if (outputEl) {{\n",
              "    x.observe(outputEl, {childList: true});\n",
              "}}\n",
              "\n",
              "                        })                };                            </script>        </div>\n",
              "</body>\n",
              "</html>"
            ]
          },
          "metadata": {}
        },
        {
          "output_type": "display_data",
          "data": {
            "text/html": [
              "<html>\n",
              "<head><meta charset=\"utf-8\" /></head>\n",
              "<body>\n",
              "    <div>            <script src=\"https://cdnjs.cloudflare.com/ajax/libs/mathjax/2.7.5/MathJax.js?config=TeX-AMS-MML_SVG\"></script><script type=\"text/javascript\">if (window.MathJax) {MathJax.Hub.Config({SVG: {font: \"STIX-Web\"}});}</script>                <script type=\"text/javascript\">window.PlotlyConfig = {MathJaxConfig: 'local'};</script>\n",
              "        <script src=\"https://cdn.plot.ly/plotly-2.8.3.min.js\"></script>                <div id=\"4efcbcf8-20e8-4de6-af44-eb676957b076\" class=\"plotly-graph-div\" style=\"height:525px; width:100%;\"></div>            <script type=\"text/javascript\">                                    window.PLOTLYENV=window.PLOTLYENV || {};                                    if (document.getElementById(\"4efcbcf8-20e8-4de6-af44-eb676957b076\")) {                    Plotly.newPlot(                        \"4efcbcf8-20e8-4de6-af44-eb676957b076\",                        [{\"hovertemplate\":\"Item=Ammonia, anhydrous<br>Year=%{x}<br>Value=%{y}<extra></extra>\",\"legendgroup\":\"Ammonia, anhydrous\",\"line\":{\"color\":\"#636efa\",\"dash\":\"solid\"},\"marker\":{\"symbol\":\"circle\"},\"mode\":\"markers+lines\",\"name\":\"Ammonia, anhydrous\",\"orientation\":\"v\",\"showlegend\":true,\"x\":[2015,2016,2017,2018,2019],\"xaxis\":\"x\",\"y\":[1102963.0,1079019.0,1073688.0,1093934.0,1098374.0],\"yaxis\":\"y\",\"type\":\"scatter\"},{\"hovertemplate\":\"Item=Ammonium sulphate<br>Year=%{x}<br>Value=%{y}<extra></extra>\",\"legendgroup\":\"Ammonium sulphate\",\"line\":{\"color\":\"#EF553B\",\"dash\":\"solid\"},\"marker\":{\"symbol\":\"circle\"},\"mode\":\"markers+lines\",\"name\":\"Ammonium sulphate\",\"orientation\":\"v\",\"showlegend\":true,\"x\":[2015,2016,2017,2018,2019],\"xaxis\":\"x\",\"y\":[395785.0,325992.0,387697.0,515314.0,576618.0],\"yaxis\":\"y\",\"type\":\"scatter\"},{\"hovertemplate\":\"Item=Monoammonium phosphate (MAP)<br>Year=%{x}<br>Value=%{y}<extra></extra>\",\"legendgroup\":\"Monoammonium phosphate (MAP)\",\"line\":{\"color\":\"#00cc96\",\"dash\":\"solid\"},\"marker\":{\"symbol\":\"circle\"},\"mode\":\"markers+lines\",\"name\":\"Monoammonium phosphate (MAP)\",\"orientation\":\"v\",\"showlegend\":true,\"x\":[2015,2016,2017,2018,2019],\"xaxis\":\"x\",\"y\":[153196.0,121125.0,29593.0,1391.0,82404.0],\"yaxis\":\"y\",\"type\":\"scatter\"},{\"hovertemplate\":\"Item=NPK fertilizers<br>Year=%{x}<br>Value=%{y}<extra></extra>\",\"legendgroup\":\"NPK fertilizers\",\"line\":{\"color\":\"#ab63fa\",\"dash\":\"solid\"},\"marker\":{\"symbol\":\"circle\"},\"mode\":\"markers+lines\",\"name\":\"NPK fertilizers\",\"orientation\":\"v\",\"showlegend\":true,\"x\":[2015,2016,2017,2018,2019],\"xaxis\":\"x\",\"y\":[779816.0,819079.0,877806.0,916173.0,939096.0],\"yaxis\":\"y\",\"type\":\"scatter\"},{\"hovertemplate\":\"Item=Potassium chloride (muriate of potash) (MOP)<br>Year=%{x}<br>Value=%{y}<extra></extra>\",\"legendgroup\":\"Potassium chloride (muriate of potash) (MOP)\",\"line\":{\"color\":\"#FFA15A\",\"dash\":\"solid\"},\"marker\":{\"symbol\":\"circle\"},\"mode\":\"markers+lines\",\"name\":\"Potassium chloride (muriate of potash) (MOP)\",\"orientation\":\"v\",\"showlegend\":true,\"x\":[2015,2016,2017,2018,2019],\"xaxis\":\"x\",\"y\":[10494479.0,10015979.0,11518455.0,11901949.0,11902775.0],\"yaxis\":\"y\",\"type\":\"scatter\"},{\"hovertemplate\":\"Item=Urea<br>Year=%{x}<br>Value=%{y}<extra></extra>\",\"legendgroup\":\"Urea\",\"line\":{\"color\":\"#19d3f3\",\"dash\":\"solid\"},\"marker\":{\"symbol\":\"circle\"},\"mode\":\"markers+lines\",\"name\":\"Urea\",\"orientation\":\"v\",\"showlegend\":true,\"x\":[2015,2016,2017,2018,2019],\"xaxis\":\"x\",\"y\":[1060391.0,1039653.0,1049457.0,1050532.0,857047.0],\"yaxis\":\"y\",\"type\":\"scatter\"},{\"hovertemplate\":\"Item=Urea and ammonium nitrate solutions (UAN)<br>Year=%{x}<br>Value=%{y}<extra></extra>\",\"legendgroup\":\"Urea and ammonium nitrate solutions (UAN)\",\"line\":{\"color\":\"#FF6692\",\"dash\":\"solid\"},\"marker\":{\"symbol\":\"circle\"},\"mode\":\"markers+lines\",\"name\":\"Urea and ammonium nitrate solutions (UAN)\",\"orientation\":\"v\",\"showlegend\":true,\"x\":[2015,2016,2017,2018,2019],\"xaxis\":\"x\",\"y\":[765733.0,763366.0,754348.0,761667.0,1296556.0],\"yaxis\":\"y\",\"type\":\"scatter\"}],                        {\"template\":{\"data\":{\"bar\":[{\"error_x\":{\"color\":\"#2a3f5f\"},\"error_y\":{\"color\":\"#2a3f5f\"},\"marker\":{\"line\":{\"color\":\"#E5ECF6\",\"width\":0.5},\"pattern\":{\"fillmode\":\"overlay\",\"size\":10,\"solidity\":0.2}},\"type\":\"bar\"}],\"barpolar\":[{\"marker\":{\"line\":{\"color\":\"#E5ECF6\",\"width\":0.5},\"pattern\":{\"fillmode\":\"overlay\",\"size\":10,\"solidity\":0.2}},\"type\":\"barpolar\"}],\"carpet\":[{\"aaxis\":{\"endlinecolor\":\"#2a3f5f\",\"gridcolor\":\"white\",\"linecolor\":\"white\",\"minorgridcolor\":\"white\",\"startlinecolor\":\"#2a3f5f\"},\"baxis\":{\"endlinecolor\":\"#2a3f5f\",\"gridcolor\":\"white\",\"linecolor\":\"white\",\"minorgridcolor\":\"white\",\"startlinecolor\":\"#2a3f5f\"},\"type\":\"carpet\"}],\"choropleth\":[{\"colorbar\":{\"outlinewidth\":0,\"ticks\":\"\"},\"type\":\"choropleth\"}],\"contour\":[{\"colorbar\":{\"outlinewidth\":0,\"ticks\":\"\"},\"colorscale\":[[0.0,\"#0d0887\"],[0.1111111111111111,\"#46039f\"],[0.2222222222222222,\"#7201a8\"],[0.3333333333333333,\"#9c179e\"],[0.4444444444444444,\"#bd3786\"],[0.5555555555555556,\"#d8576b\"],[0.6666666666666666,\"#ed7953\"],[0.7777777777777778,\"#fb9f3a\"],[0.8888888888888888,\"#fdca26\"],[1.0,\"#f0f921\"]],\"type\":\"contour\"}],\"contourcarpet\":[{\"colorbar\":{\"outlinewidth\":0,\"ticks\":\"\"},\"type\":\"contourcarpet\"}],\"heatmap\":[{\"colorbar\":{\"outlinewidth\":0,\"ticks\":\"\"},\"colorscale\":[[0.0,\"#0d0887\"],[0.1111111111111111,\"#46039f\"],[0.2222222222222222,\"#7201a8\"],[0.3333333333333333,\"#9c179e\"],[0.4444444444444444,\"#bd3786\"],[0.5555555555555556,\"#d8576b\"],[0.6666666666666666,\"#ed7953\"],[0.7777777777777778,\"#fb9f3a\"],[0.8888888888888888,\"#fdca26\"],[1.0,\"#f0f921\"]],\"type\":\"heatmap\"}],\"heatmapgl\":[{\"colorbar\":{\"outlinewidth\":0,\"ticks\":\"\"},\"colorscale\":[[0.0,\"#0d0887\"],[0.1111111111111111,\"#46039f\"],[0.2222222222222222,\"#7201a8\"],[0.3333333333333333,\"#9c179e\"],[0.4444444444444444,\"#bd3786\"],[0.5555555555555556,\"#d8576b\"],[0.6666666666666666,\"#ed7953\"],[0.7777777777777778,\"#fb9f3a\"],[0.8888888888888888,\"#fdca26\"],[1.0,\"#f0f921\"]],\"type\":\"heatmapgl\"}],\"histogram\":[{\"marker\":{\"pattern\":{\"fillmode\":\"overlay\",\"size\":10,\"solidity\":0.2}},\"type\":\"histogram\"}],\"histogram2d\":[{\"colorbar\":{\"outlinewidth\":0,\"ticks\":\"\"},\"colorscale\":[[0.0,\"#0d0887\"],[0.1111111111111111,\"#46039f\"],[0.2222222222222222,\"#7201a8\"],[0.3333333333333333,\"#9c179e\"],[0.4444444444444444,\"#bd3786\"],[0.5555555555555556,\"#d8576b\"],[0.6666666666666666,\"#ed7953\"],[0.7777777777777778,\"#fb9f3a\"],[0.8888888888888888,\"#fdca26\"],[1.0,\"#f0f921\"]],\"type\":\"histogram2d\"}],\"histogram2dcontour\":[{\"colorbar\":{\"outlinewidth\":0,\"ticks\":\"\"},\"colorscale\":[[0.0,\"#0d0887\"],[0.1111111111111111,\"#46039f\"],[0.2222222222222222,\"#7201a8\"],[0.3333333333333333,\"#9c179e\"],[0.4444444444444444,\"#bd3786\"],[0.5555555555555556,\"#d8576b\"],[0.6666666666666666,\"#ed7953\"],[0.7777777777777778,\"#fb9f3a\"],[0.8888888888888888,\"#fdca26\"],[1.0,\"#f0f921\"]],\"type\":\"histogram2dcontour\"}],\"mesh3d\":[{\"colorbar\":{\"outlinewidth\":0,\"ticks\":\"\"},\"type\":\"mesh3d\"}],\"parcoords\":[{\"line\":{\"colorbar\":{\"outlinewidth\":0,\"ticks\":\"\"}},\"type\":\"parcoords\"}],\"pie\":[{\"automargin\":true,\"type\":\"pie\"}],\"scatter\":[{\"marker\":{\"colorbar\":{\"outlinewidth\":0,\"ticks\":\"\"}},\"type\":\"scatter\"}],\"scatter3d\":[{\"line\":{\"colorbar\":{\"outlinewidth\":0,\"ticks\":\"\"}},\"marker\":{\"colorbar\":{\"outlinewidth\":0,\"ticks\":\"\"}},\"type\":\"scatter3d\"}],\"scattercarpet\":[{\"marker\":{\"colorbar\":{\"outlinewidth\":0,\"ticks\":\"\"}},\"type\":\"scattercarpet\"}],\"scattergeo\":[{\"marker\":{\"colorbar\":{\"outlinewidth\":0,\"ticks\":\"\"}},\"type\":\"scattergeo\"}],\"scattergl\":[{\"marker\":{\"colorbar\":{\"outlinewidth\":0,\"ticks\":\"\"}},\"type\":\"scattergl\"}],\"scattermapbox\":[{\"marker\":{\"colorbar\":{\"outlinewidth\":0,\"ticks\":\"\"}},\"type\":\"scattermapbox\"}],\"scatterpolar\":[{\"marker\":{\"colorbar\":{\"outlinewidth\":0,\"ticks\":\"\"}},\"type\":\"scatterpolar\"}],\"scatterpolargl\":[{\"marker\":{\"colorbar\":{\"outlinewidth\":0,\"ticks\":\"\"}},\"type\":\"scatterpolargl\"}],\"scatterternary\":[{\"marker\":{\"colorbar\":{\"outlinewidth\":0,\"ticks\":\"\"}},\"type\":\"scatterternary\"}],\"surface\":[{\"colorbar\":{\"outlinewidth\":0,\"ticks\":\"\"},\"colorscale\":[[0.0,\"#0d0887\"],[0.1111111111111111,\"#46039f\"],[0.2222222222222222,\"#7201a8\"],[0.3333333333333333,\"#9c179e\"],[0.4444444444444444,\"#bd3786\"],[0.5555555555555556,\"#d8576b\"],[0.6666666666666666,\"#ed7953\"],[0.7777777777777778,\"#fb9f3a\"],[0.8888888888888888,\"#fdca26\"],[1.0,\"#f0f921\"]],\"type\":\"surface\"}],\"table\":[{\"cells\":{\"fill\":{\"color\":\"#EBF0F8\"},\"line\":{\"color\":\"white\"}},\"header\":{\"fill\":{\"color\":\"#C8D4E3\"},\"line\":{\"color\":\"white\"}},\"type\":\"table\"}]},\"layout\":{\"annotationdefaults\":{\"arrowcolor\":\"#2a3f5f\",\"arrowhead\":0,\"arrowwidth\":1},\"autotypenumbers\":\"strict\",\"coloraxis\":{\"colorbar\":{\"outlinewidth\":0,\"ticks\":\"\"}},\"colorscale\":{\"diverging\":[[0,\"#8e0152\"],[0.1,\"#c51b7d\"],[0.2,\"#de77ae\"],[0.3,\"#f1b6da\"],[0.4,\"#fde0ef\"],[0.5,\"#f7f7f7\"],[0.6,\"#e6f5d0\"],[0.7,\"#b8e186\"],[0.8,\"#7fbc41\"],[0.9,\"#4d9221\"],[1,\"#276419\"]],\"sequential\":[[0.0,\"#0d0887\"],[0.1111111111111111,\"#46039f\"],[0.2222222222222222,\"#7201a8\"],[0.3333333333333333,\"#9c179e\"],[0.4444444444444444,\"#bd3786\"],[0.5555555555555556,\"#d8576b\"],[0.6666666666666666,\"#ed7953\"],[0.7777777777777778,\"#fb9f3a\"],[0.8888888888888888,\"#fdca26\"],[1.0,\"#f0f921\"]],\"sequentialminus\":[[0.0,\"#0d0887\"],[0.1111111111111111,\"#46039f\"],[0.2222222222222222,\"#7201a8\"],[0.3333333333333333,\"#9c179e\"],[0.4444444444444444,\"#bd3786\"],[0.5555555555555556,\"#d8576b\"],[0.6666666666666666,\"#ed7953\"],[0.7777777777777778,\"#fb9f3a\"],[0.8888888888888888,\"#fdca26\"],[1.0,\"#f0f921\"]]},\"colorway\":[\"#636efa\",\"#EF553B\",\"#00cc96\",\"#ab63fa\",\"#FFA15A\",\"#19d3f3\",\"#FF6692\",\"#B6E880\",\"#FF97FF\",\"#FECB52\"],\"font\":{\"color\":\"#2a3f5f\"},\"geo\":{\"bgcolor\":\"white\",\"lakecolor\":\"white\",\"landcolor\":\"#E5ECF6\",\"showlakes\":true,\"showland\":true,\"subunitcolor\":\"white\"},\"hoverlabel\":{\"align\":\"left\"},\"hovermode\":\"closest\",\"mapbox\":{\"style\":\"light\"},\"paper_bgcolor\":\"white\",\"plot_bgcolor\":\"#E5ECF6\",\"polar\":{\"angularaxis\":{\"gridcolor\":\"white\",\"linecolor\":\"white\",\"ticks\":\"\"},\"bgcolor\":\"#E5ECF6\",\"radialaxis\":{\"gridcolor\":\"white\",\"linecolor\":\"white\",\"ticks\":\"\"}},\"scene\":{\"xaxis\":{\"backgroundcolor\":\"#E5ECF6\",\"gridcolor\":\"white\",\"gridwidth\":2,\"linecolor\":\"white\",\"showbackground\":true,\"ticks\":\"\",\"zerolinecolor\":\"white\"},\"yaxis\":{\"backgroundcolor\":\"#E5ECF6\",\"gridcolor\":\"white\",\"gridwidth\":2,\"linecolor\":\"white\",\"showbackground\":true,\"ticks\":\"\",\"zerolinecolor\":\"white\"},\"zaxis\":{\"backgroundcolor\":\"#E5ECF6\",\"gridcolor\":\"white\",\"gridwidth\":2,\"linecolor\":\"white\",\"showbackground\":true,\"ticks\":\"\",\"zerolinecolor\":\"white\"}},\"shapedefaults\":{\"line\":{\"color\":\"#2a3f5f\"}},\"ternary\":{\"aaxis\":{\"gridcolor\":\"white\",\"linecolor\":\"white\",\"ticks\":\"\"},\"baxis\":{\"gridcolor\":\"white\",\"linecolor\":\"white\",\"ticks\":\"\"},\"bgcolor\":\"#E5ECF6\",\"caxis\":{\"gridcolor\":\"white\",\"linecolor\":\"white\",\"ticks\":\"\"}},\"title\":{\"x\":0.05},\"xaxis\":{\"automargin\":true,\"gridcolor\":\"white\",\"linecolor\":\"white\",\"ticks\":\"\",\"title\":{\"standoff\":15},\"zerolinecolor\":\"white\",\"zerolinewidth\":2},\"yaxis\":{\"automargin\":true,\"gridcolor\":\"white\",\"linecolor\":\"white\",\"ticks\":\"\",\"title\":{\"standoff\":15},\"zerolinecolor\":\"white\",\"zerolinewidth\":2}}},\"xaxis\":{\"anchor\":\"y\",\"domain\":[0.0,1.0],\"title\":{\"text\":\"Year\"}},\"yaxis\":{\"anchor\":\"x\",\"domain\":[0.0,1.0],\"title\":{\"text\":\"Value\"}},\"legend\":{\"title\":{\"text\":\"Item\"},\"tracegroupgap\":0},\"title\":{\"text\":\"Belarus\"}},                        {\"responsive\": true}                    ).then(function(){\n",
              "                            \n",
              "var gd = document.getElementById('4efcbcf8-20e8-4de6-af44-eb676957b076');\n",
              "var x = new MutationObserver(function (mutations, observer) {{\n",
              "        var display = window.getComputedStyle(gd).display;\n",
              "        if (!display || display === 'none') {{\n",
              "            console.log([gd, 'removed!']);\n",
              "            Plotly.purge(gd);\n",
              "            observer.disconnect();\n",
              "        }}\n",
              "}});\n",
              "\n",
              "// Listen for the removal of the full notebook cells\n",
              "var notebookContainer = gd.closest('#notebook-container');\n",
              "if (notebookContainer) {{\n",
              "    x.observe(notebookContainer, {childList: true});\n",
              "}}\n",
              "\n",
              "// Listen for the clearing of the current output cell\n",
              "var outputEl = gd.closest('.output');\n",
              "if (outputEl) {{\n",
              "    x.observe(outputEl, {childList: true});\n",
              "}}\n",
              "\n",
              "                        })                };                            </script>        </div>\n",
              "</body>\n",
              "</html>"
            ]
          },
          "metadata": {}
        }
      ]
    },
    {
      "cell_type": "code",
      "source": [
        "df['Item'].unique()"
      ],
      "metadata": {
        "colab": {
          "base_uri": "https://localhost:8080/"
        },
        "id": "oin7CbhjWRro",
        "outputId": "206ec8cd-4922-4c61-9793-9cbab73afb86"
      },
      "execution_count": 56,
      "outputs": [
        {
          "output_type": "execute_result",
          "data": {
            "text/plain": [
              "array(['Ammonia, anhydrous', 'Ammonium sulphate',\n",
              "       'Diammonium phosphate (DAP)', 'Fertilizers n.e.c.',\n",
              "       'Monoammonium phosphate (MAP)', 'NPK fertilizers',\n",
              "       'Other nitrogenous fertilizers, n.e.c.', 'Other NP compounds',\n",
              "       'Other phosphatic fertilizers, n.e.c.',\n",
              "       'Other potassic fertilizers, n.e.c.', 'Phosphate rock',\n",
              "       'PK compounds', 'Potassium chloride (muriate of potash) (MOP)',\n",
              "       'Potassium nitrate',\n",
              "       'Potassium sulphate (sulphate of potash) (SOP)', 'Sodium nitrate',\n",
              "       'Urea', 'Ammonium nitrate (AN)',\n",
              "       'Calcium ammonium nitrate (CAN) and other mixtures with calcium carbonate',\n",
              "       'Other NK compounds', 'Superphosphates above 35%',\n",
              "       'Superphosphates, other',\n",
              "       'Urea and ammonium nitrate solutions (UAN)'], dtype=object)"
            ]
          },
          "metadata": {},
          "execution_count": 56
        }
      ]
    },
    {
      "cell_type": "markdown",
      "source": [
        "***Лидерами по производству удобрений являются:***\n",
        "- ***United States of America***: Phosphate rock (Фосфоритная мука), Urea and ammonium nitrate solutions (UAN) (аммиачно-нитратное (УАН)). К 2019 году производство Phosphate rock падает\n",
        "- ***Russian Federation***: Potassium chloride (muriate of potash) (MOP) (Хлорид Калия), Ammonium nitrate (AN) (амиачная селитра), Urea (Мочевина), NPK fertilizers (комплексные удобрения), Other NK compounds, к 2019 г производсвто данных удобрений растет кроме NPK fertilizers.\n",
        "- ***India***: явным лидером по производству является Urea (Мочевина)\n",
        "- ***Canada***: до 2017 года лидером по производству являлись Potassium chloride (muriate of potash) (MOP), далее лидерами по производству стали Ammonia, anhydrous (безводный аммиак) и Urea (Мочевина)\n",
        "- ***Belarus***: Potassium chloride (muriate of potash) (MOP) (Хлорид Калия)."
      ],
      "metadata": {
        "id": "0aSorpj8WA-P"
      }
    },
    {
      "cell_type": "markdown",
      "metadata": {
        "id": "J4B1UQO9EqUb"
      },
      "source": [
        "***Динамика использования каждого вида удобрений в с/х с 2015 по 2019 года для топ-5 стран, тонны***"
      ]
    },
    {
      "cell_type": "code",
      "execution_count": 57,
      "metadata": {
        "id": "IGRh_vbeESz4"
      },
      "outputs": [],
      "source": [
        "list_6 = ['India', 'United States of America', 'Indonesia', 'Pakistan', 'Egypt']"
      ]
    },
    {
      "cell_type": "code",
      "execution_count": 58,
      "metadata": {
        "colab": {
          "base_uri": "https://localhost:8080/",
          "height": 1000
        },
        "id": "MYv0lBnd3Wj2",
        "outputId": "55443bcb-7cf3-4d1f-cc55-6e093929deb0"
      },
      "outputs": [
        {
          "output_type": "display_data",
          "data": {
            "text/html": [
              "<html>\n",
              "<head><meta charset=\"utf-8\" /></head>\n",
              "<body>\n",
              "    <div>            <script src=\"https://cdnjs.cloudflare.com/ajax/libs/mathjax/2.7.5/MathJax.js?config=TeX-AMS-MML_SVG\"></script><script type=\"text/javascript\">if (window.MathJax) {MathJax.Hub.Config({SVG: {font: \"STIX-Web\"}});}</script>                <script type=\"text/javascript\">window.PlotlyConfig = {MathJaxConfig: 'local'};</script>\n",
              "        <script src=\"https://cdn.plot.ly/plotly-2.8.3.min.js\"></script>                <div id=\"6002db57-43db-4f12-98d8-7098b8726c19\" class=\"plotly-graph-div\" style=\"height:525px; width:100%;\"></div>            <script type=\"text/javascript\">                                    window.PLOTLYENV=window.PLOTLYENV || {};                                    if (document.getElementById(\"6002db57-43db-4f12-98d8-7098b8726c19\")) {                    Plotly.newPlot(                        \"6002db57-43db-4f12-98d8-7098b8726c19\",                        [{\"hovertemplate\":\"Item=Ammonium sulphate<br>Year=%{x}<br>Value=%{y}<extra></extra>\",\"legendgroup\":\"Ammonium sulphate\",\"line\":{\"color\":\"#636efa\",\"dash\":\"solid\"},\"marker\":{\"symbol\":\"circle\"},\"mode\":\"markers+lines\",\"name\":\"Ammonium sulphate\",\"orientation\":\"v\",\"showlegend\":true,\"x\":[2015,2016,2017,2018,2019],\"xaxis\":\"x\",\"y\":[30634800.0,426100.0,573600.0,560200.0,668700.0],\"yaxis\":\"y\",\"type\":\"scatter\"},{\"hovertemplate\":\"Item=Calcium ammonium nitrate (CAN) and other mixtures with calcium carbonate<br>Year=%{x}<br>Value=%{y}<extra></extra>\",\"legendgroup\":\"Calcium ammonium nitrate (CAN) and other mixtures with calcium carbonate\",\"line\":{\"color\":\"#EF553B\",\"dash\":\"solid\"},\"marker\":{\"symbol\":\"circle\"},\"mode\":\"markers+lines\",\"name\":\"Calcium ammonium nitrate (CAN) and other mixtures with calcium carbonate\",\"orientation\":\"v\",\"showlegend\":true,\"x\":[2015,2016,2017,2018,2019],\"xaxis\":\"x\",\"y\":[12330.0,7100.0,100.0,2000.0,2000.0],\"yaxis\":\"y\",\"type\":\"scatter\"},{\"hovertemplate\":\"Item=Diammonium phosphate (DAP)<br>Year=%{x}<br>Value=%{y}<extra></extra>\",\"legendgroup\":\"Diammonium phosphate (DAP)\",\"line\":{\"color\":\"#00cc96\",\"dash\":\"solid\"},\"marker\":{\"symbol\":\"circle\"},\"mode\":\"markers+lines\",\"name\":\"Diammonium phosphate (DAP)\",\"orientation\":\"v\",\"showlegend\":true,\"x\":[2015,2016,2017,2018,2019],\"xaxis\":\"x\",\"y\":[9107220.0,8963500.0,9294100.0,9211100.0,10089700.0],\"yaxis\":\"y\",\"type\":\"scatter\"},{\"hovertemplate\":\"Item=Monoammonium phosphate (MAP)<br>Year=%{x}<br>Value=%{y}<extra></extra>\",\"legendgroup\":\"Monoammonium phosphate (MAP)\",\"line\":{\"color\":\"#ab63fa\",\"dash\":\"solid\"},\"marker\":{\"symbol\":\"circle\"},\"mode\":\"markers+lines\",\"name\":\"Monoammonium phosphate (MAP)\",\"orientation\":\"v\",\"showlegend\":true,\"x\":[2015,2016,2017,2018,2019],\"xaxis\":\"x\",\"y\":[60.0,0.0,0.0,0.0,0.0],\"yaxis\":\"y\",\"type\":\"scatter\"},{\"hovertemplate\":\"Item=NPK fertilizers<br>Year=%{x}<br>Value=%{y}<extra></extra>\",\"legendgroup\":\"NPK fertilizers\",\"line\":{\"color\":\"#FFA15A\",\"dash\":\"solid\"},\"marker\":{\"symbol\":\"circle\"},\"mode\":\"markers+lines\",\"name\":\"NPK fertilizers\",\"orientation\":\"v\",\"showlegend\":true,\"x\":[2015,2016,2017,2018,2019],\"xaxis\":\"x\",\"y\":[4261240.0,4010500.0,4229800.0,4406200.0,4483240.0],\"yaxis\":\"y\",\"type\":\"scatter\"},{\"hovertemplate\":\"Item=Other NP compounds<br>Year=%{x}<br>Value=%{y}<extra></extra>\",\"legendgroup\":\"Other NP compounds\",\"line\":{\"color\":\"#19d3f3\",\"dash\":\"solid\"},\"marker\":{\"symbol\":\"circle\"},\"mode\":\"markers+lines\",\"name\":\"Other NP compounds\",\"orientation\":\"v\",\"showlegend\":true,\"x\":[2015,2016,2017,2018,2019],\"xaxis\":\"x\",\"y\":[4559810.0,4403900.0,4366600.0,4622100.0,5164000.0],\"yaxis\":\"y\",\"type\":\"scatter\"},{\"hovertemplate\":\"Item=Phosphate rock<br>Year=%{x}<br>Value=%{y}<extra></extra>\",\"legendgroup\":\"Phosphate rock\",\"line\":{\"color\":\"#FF6692\",\"dash\":\"solid\"},\"marker\":{\"symbol\":\"circle\"},\"mode\":\"markers+lines\",\"name\":\"Phosphate rock\",\"orientation\":\"v\",\"showlegend\":true,\"x\":[2015,2016,2017,2018,2019],\"xaxis\":\"x\",\"y\":[16720.0,36200.0,31000.0,27300.0,29700.0],\"yaxis\":\"y\",\"type\":\"scatter\"},{\"hovertemplate\":\"Item=Potassium chloride (muriate of potash) (MOP)<br>Year=%{x}<br>Value=%{y}<extra></extra>\",\"legendgroup\":\"Potassium chloride (muriate of potash) (MOP)\",\"line\":{\"color\":\"#B6E880\",\"dash\":\"solid\"},\"marker\":{\"symbol\":\"circle\"},\"mode\":\"markers+lines\",\"name\":\"Potassium chloride (muriate of potash) (MOP)\",\"orientation\":\"v\",\"showlegend\":true,\"x\":[2015,2016,2017,2018,2019],\"xaxis\":\"x\",\"y\":[2466930.0,2863200.0,3158200.0,2956600.0,2866600.0],\"yaxis\":\"y\",\"type\":\"scatter\"},{\"hovertemplate\":\"Item=Potassium sulphate (sulphate of potash) (SOP)<br>Year=%{x}<br>Value=%{y}<extra></extra>\",\"legendgroup\":\"Potassium sulphate (sulphate of potash) (SOP)\",\"line\":{\"color\":\"#FF97FF\",\"dash\":\"solid\"},\"marker\":{\"symbol\":\"circle\"},\"mode\":\"markers+lines\",\"name\":\"Potassium sulphate (sulphate of potash) (SOP)\",\"orientation\":\"v\",\"showlegend\":true,\"x\":[2015,2016,2017],\"xaxis\":\"x\",\"y\":[16830.0,5700.0,5200.0],\"yaxis\":\"y\",\"type\":\"scatter\"},{\"hovertemplate\":\"Item=Superphosphates above 35%<br>Year=%{x}<br>Value=%{y}<extra></extra>\",\"legendgroup\":\"Superphosphates above 35%\",\"line\":{\"color\":\"#FECB52\",\"dash\":\"solid\"},\"marker\":{\"symbol\":\"circle\"},\"mode\":\"markers+lines\",\"name\":\"Superphosphates above 35%\",\"orientation\":\"v\",\"showlegend\":true,\"x\":[2015,2016,2017],\"xaxis\":\"x\",\"y\":[5860.0,4830.0,3800.0],\"yaxis\":\"y\",\"type\":\"scatter\"},{\"hovertemplate\":\"Item=Superphosphates, other<br>Year=%{x}<br>Value=%{y}<extra></extra>\",\"legendgroup\":\"Superphosphates, other\",\"line\":{\"color\":\"#636efa\",\"dash\":\"solid\"},\"marker\":{\"symbol\":\"circle\"},\"mode\":\"markers+lines\",\"name\":\"Superphosphates, other\",\"orientation\":\"v\",\"showlegend\":true,\"x\":[2015,2016,2017,2018,2019],\"xaxis\":\"x\",\"y\":[4252740.0,3756800.0,3439400.0,3578900.0,3730600.0],\"yaxis\":\"y\",\"type\":\"scatter\"},{\"hovertemplate\":\"Item=Urea<br>Year=%{x}<br>Value=%{y}<extra></extra>\",\"legendgroup\":\"Urea\",\"line\":{\"color\":\"#EF553B\",\"dash\":\"solid\"},\"marker\":{\"symbol\":\"circle\"},\"mode\":\"markers+lines\",\"name\":\"Urea\",\"orientation\":\"v\",\"showlegend\":true,\"x\":[2015,2016,2017,2018,2019],\"xaxis\":\"x\",\"y\":[30634870.0,29613580.0,29894400.0,31418100.0,33540700.0],\"yaxis\":\"y\",\"type\":\"scatter\"}],                        {\"template\":{\"data\":{\"bar\":[{\"error_x\":{\"color\":\"#2a3f5f\"},\"error_y\":{\"color\":\"#2a3f5f\"},\"marker\":{\"line\":{\"color\":\"#E5ECF6\",\"width\":0.5},\"pattern\":{\"fillmode\":\"overlay\",\"size\":10,\"solidity\":0.2}},\"type\":\"bar\"}],\"barpolar\":[{\"marker\":{\"line\":{\"color\":\"#E5ECF6\",\"width\":0.5},\"pattern\":{\"fillmode\":\"overlay\",\"size\":10,\"solidity\":0.2}},\"type\":\"barpolar\"}],\"carpet\":[{\"aaxis\":{\"endlinecolor\":\"#2a3f5f\",\"gridcolor\":\"white\",\"linecolor\":\"white\",\"minorgridcolor\":\"white\",\"startlinecolor\":\"#2a3f5f\"},\"baxis\":{\"endlinecolor\":\"#2a3f5f\",\"gridcolor\":\"white\",\"linecolor\":\"white\",\"minorgridcolor\":\"white\",\"startlinecolor\":\"#2a3f5f\"},\"type\":\"carpet\"}],\"choropleth\":[{\"colorbar\":{\"outlinewidth\":0,\"ticks\":\"\"},\"type\":\"choropleth\"}],\"contour\":[{\"colorbar\":{\"outlinewidth\":0,\"ticks\":\"\"},\"colorscale\":[[0.0,\"#0d0887\"],[0.1111111111111111,\"#46039f\"],[0.2222222222222222,\"#7201a8\"],[0.3333333333333333,\"#9c179e\"],[0.4444444444444444,\"#bd3786\"],[0.5555555555555556,\"#d8576b\"],[0.6666666666666666,\"#ed7953\"],[0.7777777777777778,\"#fb9f3a\"],[0.8888888888888888,\"#fdca26\"],[1.0,\"#f0f921\"]],\"type\":\"contour\"}],\"contourcarpet\":[{\"colorbar\":{\"outlinewidth\":0,\"ticks\":\"\"},\"type\":\"contourcarpet\"}],\"heatmap\":[{\"colorbar\":{\"outlinewidth\":0,\"ticks\":\"\"},\"colorscale\":[[0.0,\"#0d0887\"],[0.1111111111111111,\"#46039f\"],[0.2222222222222222,\"#7201a8\"],[0.3333333333333333,\"#9c179e\"],[0.4444444444444444,\"#bd3786\"],[0.5555555555555556,\"#d8576b\"],[0.6666666666666666,\"#ed7953\"],[0.7777777777777778,\"#fb9f3a\"],[0.8888888888888888,\"#fdca26\"],[1.0,\"#f0f921\"]],\"type\":\"heatmap\"}],\"heatmapgl\":[{\"colorbar\":{\"outlinewidth\":0,\"ticks\":\"\"},\"colorscale\":[[0.0,\"#0d0887\"],[0.1111111111111111,\"#46039f\"],[0.2222222222222222,\"#7201a8\"],[0.3333333333333333,\"#9c179e\"],[0.4444444444444444,\"#bd3786\"],[0.5555555555555556,\"#d8576b\"],[0.6666666666666666,\"#ed7953\"],[0.7777777777777778,\"#fb9f3a\"],[0.8888888888888888,\"#fdca26\"],[1.0,\"#f0f921\"]],\"type\":\"heatmapgl\"}],\"histogram\":[{\"marker\":{\"pattern\":{\"fillmode\":\"overlay\",\"size\":10,\"solidity\":0.2}},\"type\":\"histogram\"}],\"histogram2d\":[{\"colorbar\":{\"outlinewidth\":0,\"ticks\":\"\"},\"colorscale\":[[0.0,\"#0d0887\"],[0.1111111111111111,\"#46039f\"],[0.2222222222222222,\"#7201a8\"],[0.3333333333333333,\"#9c179e\"],[0.4444444444444444,\"#bd3786\"],[0.5555555555555556,\"#d8576b\"],[0.6666666666666666,\"#ed7953\"],[0.7777777777777778,\"#fb9f3a\"],[0.8888888888888888,\"#fdca26\"],[1.0,\"#f0f921\"]],\"type\":\"histogram2d\"}],\"histogram2dcontour\":[{\"colorbar\":{\"outlinewidth\":0,\"ticks\":\"\"},\"colorscale\":[[0.0,\"#0d0887\"],[0.1111111111111111,\"#46039f\"],[0.2222222222222222,\"#7201a8\"],[0.3333333333333333,\"#9c179e\"],[0.4444444444444444,\"#bd3786\"],[0.5555555555555556,\"#d8576b\"],[0.6666666666666666,\"#ed7953\"],[0.7777777777777778,\"#fb9f3a\"],[0.8888888888888888,\"#fdca26\"],[1.0,\"#f0f921\"]],\"type\":\"histogram2dcontour\"}],\"mesh3d\":[{\"colorbar\":{\"outlinewidth\":0,\"ticks\":\"\"},\"type\":\"mesh3d\"}],\"parcoords\":[{\"line\":{\"colorbar\":{\"outlinewidth\":0,\"ticks\":\"\"}},\"type\":\"parcoords\"}],\"pie\":[{\"automargin\":true,\"type\":\"pie\"}],\"scatter\":[{\"marker\":{\"colorbar\":{\"outlinewidth\":0,\"ticks\":\"\"}},\"type\":\"scatter\"}],\"scatter3d\":[{\"line\":{\"colorbar\":{\"outlinewidth\":0,\"ticks\":\"\"}},\"marker\":{\"colorbar\":{\"outlinewidth\":0,\"ticks\":\"\"}},\"type\":\"scatter3d\"}],\"scattercarpet\":[{\"marker\":{\"colorbar\":{\"outlinewidth\":0,\"ticks\":\"\"}},\"type\":\"scattercarpet\"}],\"scattergeo\":[{\"marker\":{\"colorbar\":{\"outlinewidth\":0,\"ticks\":\"\"}},\"type\":\"scattergeo\"}],\"scattergl\":[{\"marker\":{\"colorbar\":{\"outlinewidth\":0,\"ticks\":\"\"}},\"type\":\"scattergl\"}],\"scattermapbox\":[{\"marker\":{\"colorbar\":{\"outlinewidth\":0,\"ticks\":\"\"}},\"type\":\"scattermapbox\"}],\"scatterpolar\":[{\"marker\":{\"colorbar\":{\"outlinewidth\":0,\"ticks\":\"\"}},\"type\":\"scatterpolar\"}],\"scatterpolargl\":[{\"marker\":{\"colorbar\":{\"outlinewidth\":0,\"ticks\":\"\"}},\"type\":\"scatterpolargl\"}],\"scatterternary\":[{\"marker\":{\"colorbar\":{\"outlinewidth\":0,\"ticks\":\"\"}},\"type\":\"scatterternary\"}],\"surface\":[{\"colorbar\":{\"outlinewidth\":0,\"ticks\":\"\"},\"colorscale\":[[0.0,\"#0d0887\"],[0.1111111111111111,\"#46039f\"],[0.2222222222222222,\"#7201a8\"],[0.3333333333333333,\"#9c179e\"],[0.4444444444444444,\"#bd3786\"],[0.5555555555555556,\"#d8576b\"],[0.6666666666666666,\"#ed7953\"],[0.7777777777777778,\"#fb9f3a\"],[0.8888888888888888,\"#fdca26\"],[1.0,\"#f0f921\"]],\"type\":\"surface\"}],\"table\":[{\"cells\":{\"fill\":{\"color\":\"#EBF0F8\"},\"line\":{\"color\":\"white\"}},\"header\":{\"fill\":{\"color\":\"#C8D4E3\"},\"line\":{\"color\":\"white\"}},\"type\":\"table\"}]},\"layout\":{\"annotationdefaults\":{\"arrowcolor\":\"#2a3f5f\",\"arrowhead\":0,\"arrowwidth\":1},\"autotypenumbers\":\"strict\",\"coloraxis\":{\"colorbar\":{\"outlinewidth\":0,\"ticks\":\"\"}},\"colorscale\":{\"diverging\":[[0,\"#8e0152\"],[0.1,\"#c51b7d\"],[0.2,\"#de77ae\"],[0.3,\"#f1b6da\"],[0.4,\"#fde0ef\"],[0.5,\"#f7f7f7\"],[0.6,\"#e6f5d0\"],[0.7,\"#b8e186\"],[0.8,\"#7fbc41\"],[0.9,\"#4d9221\"],[1,\"#276419\"]],\"sequential\":[[0.0,\"#0d0887\"],[0.1111111111111111,\"#46039f\"],[0.2222222222222222,\"#7201a8\"],[0.3333333333333333,\"#9c179e\"],[0.4444444444444444,\"#bd3786\"],[0.5555555555555556,\"#d8576b\"],[0.6666666666666666,\"#ed7953\"],[0.7777777777777778,\"#fb9f3a\"],[0.8888888888888888,\"#fdca26\"],[1.0,\"#f0f921\"]],\"sequentialminus\":[[0.0,\"#0d0887\"],[0.1111111111111111,\"#46039f\"],[0.2222222222222222,\"#7201a8\"],[0.3333333333333333,\"#9c179e\"],[0.4444444444444444,\"#bd3786\"],[0.5555555555555556,\"#d8576b\"],[0.6666666666666666,\"#ed7953\"],[0.7777777777777778,\"#fb9f3a\"],[0.8888888888888888,\"#fdca26\"],[1.0,\"#f0f921\"]]},\"colorway\":[\"#636efa\",\"#EF553B\",\"#00cc96\",\"#ab63fa\",\"#FFA15A\",\"#19d3f3\",\"#FF6692\",\"#B6E880\",\"#FF97FF\",\"#FECB52\"],\"font\":{\"color\":\"#2a3f5f\"},\"geo\":{\"bgcolor\":\"white\",\"lakecolor\":\"white\",\"landcolor\":\"#E5ECF6\",\"showlakes\":true,\"showland\":true,\"subunitcolor\":\"white\"},\"hoverlabel\":{\"align\":\"left\"},\"hovermode\":\"closest\",\"mapbox\":{\"style\":\"light\"},\"paper_bgcolor\":\"white\",\"plot_bgcolor\":\"#E5ECF6\",\"polar\":{\"angularaxis\":{\"gridcolor\":\"white\",\"linecolor\":\"white\",\"ticks\":\"\"},\"bgcolor\":\"#E5ECF6\",\"radialaxis\":{\"gridcolor\":\"white\",\"linecolor\":\"white\",\"ticks\":\"\"}},\"scene\":{\"xaxis\":{\"backgroundcolor\":\"#E5ECF6\",\"gridcolor\":\"white\",\"gridwidth\":2,\"linecolor\":\"white\",\"showbackground\":true,\"ticks\":\"\",\"zerolinecolor\":\"white\"},\"yaxis\":{\"backgroundcolor\":\"#E5ECF6\",\"gridcolor\":\"white\",\"gridwidth\":2,\"linecolor\":\"white\",\"showbackground\":true,\"ticks\":\"\",\"zerolinecolor\":\"white\"},\"zaxis\":{\"backgroundcolor\":\"#E5ECF6\",\"gridcolor\":\"white\",\"gridwidth\":2,\"linecolor\":\"white\",\"showbackground\":true,\"ticks\":\"\",\"zerolinecolor\":\"white\"}},\"shapedefaults\":{\"line\":{\"color\":\"#2a3f5f\"}},\"ternary\":{\"aaxis\":{\"gridcolor\":\"white\",\"linecolor\":\"white\",\"ticks\":\"\"},\"baxis\":{\"gridcolor\":\"white\",\"linecolor\":\"white\",\"ticks\":\"\"},\"bgcolor\":\"#E5ECF6\",\"caxis\":{\"gridcolor\":\"white\",\"linecolor\":\"white\",\"ticks\":\"\"}},\"title\":{\"x\":0.05},\"xaxis\":{\"automargin\":true,\"gridcolor\":\"white\",\"linecolor\":\"white\",\"ticks\":\"\",\"title\":{\"standoff\":15},\"zerolinecolor\":\"white\",\"zerolinewidth\":2},\"yaxis\":{\"automargin\":true,\"gridcolor\":\"white\",\"linecolor\":\"white\",\"ticks\":\"\",\"title\":{\"standoff\":15},\"zerolinecolor\":\"white\",\"zerolinewidth\":2}}},\"xaxis\":{\"anchor\":\"y\",\"domain\":[0.0,1.0],\"title\":{\"text\":\"Year\"}},\"yaxis\":{\"anchor\":\"x\",\"domain\":[0.0,1.0],\"title\":{\"text\":\"Value\"}},\"legend\":{\"title\":{\"text\":\"Item\"},\"tracegroupgap\":0},\"title\":{\"text\":\"India\"}},                        {\"responsive\": true}                    ).then(function(){\n",
              "                            \n",
              "var gd = document.getElementById('6002db57-43db-4f12-98d8-7098b8726c19');\n",
              "var x = new MutationObserver(function (mutations, observer) {{\n",
              "        var display = window.getComputedStyle(gd).display;\n",
              "        if (!display || display === 'none') {{\n",
              "            console.log([gd, 'removed!']);\n",
              "            Plotly.purge(gd);\n",
              "            observer.disconnect();\n",
              "        }}\n",
              "}});\n",
              "\n",
              "// Listen for the removal of the full notebook cells\n",
              "var notebookContainer = gd.closest('#notebook-container');\n",
              "if (notebookContainer) {{\n",
              "    x.observe(notebookContainer, {childList: true});\n",
              "}}\n",
              "\n",
              "// Listen for the clearing of the current output cell\n",
              "var outputEl = gd.closest('.output');\n",
              "if (outputEl) {{\n",
              "    x.observe(outputEl, {childList: true});\n",
              "}}\n",
              "\n",
              "                        })                };                            </script>        </div>\n",
              "</body>\n",
              "</html>"
            ]
          },
          "metadata": {}
        },
        {
          "output_type": "display_data",
          "data": {
            "text/html": [
              "<html>\n",
              "<head><meta charset=\"utf-8\" /></head>\n",
              "<body>\n",
              "    <div>            <script src=\"https://cdnjs.cloudflare.com/ajax/libs/mathjax/2.7.5/MathJax.js?config=TeX-AMS-MML_SVG\"></script><script type=\"text/javascript\">if (window.MathJax) {MathJax.Hub.Config({SVG: {font: \"STIX-Web\"}});}</script>                <script type=\"text/javascript\">window.PlotlyConfig = {MathJaxConfig: 'local'};</script>\n",
              "        <script src=\"https://cdn.plot.ly/plotly-2.8.3.min.js\"></script>                <div id=\"2a996e0c-5d36-4e7e-836a-70ac2f41567a\" class=\"plotly-graph-div\" style=\"height:525px; width:100%;\"></div>            <script type=\"text/javascript\">                                    window.PLOTLYENV=window.PLOTLYENV || {};                                    if (document.getElementById(\"2a996e0c-5d36-4e7e-836a-70ac2f41567a\")) {                    Plotly.newPlot(                        \"2a996e0c-5d36-4e7e-836a-70ac2f41567a\",                        [{\"hovertemplate\":\"Item=Ammonia, anhydrous<br>Year=%{x}<br>Value=%{y}<extra></extra>\",\"legendgroup\":\"Ammonia, anhydrous\",\"line\":{\"color\":\"#636efa\",\"dash\":\"solid\"},\"marker\":{\"symbol\":\"circle\"},\"mode\":\"markers+lines\",\"name\":\"Ammonia, anhydrous\",\"orientation\":\"v\",\"showlegend\":true,\"x\":[2015,2016,2017,2018,2019],\"xaxis\":\"x\",\"y\":[3492217.69,3471832.73,3453009.07,3466532.78,3480056.5],\"yaxis\":\"y\",\"type\":\"scatter\"},{\"hovertemplate\":\"Item=Ammonium nitrate (AN)<br>Year=%{x}<br>Value=%{y}<extra></extra>\",\"legendgroup\":\"Ammonium nitrate (AN)\",\"line\":{\"color\":\"#EF553B\",\"dash\":\"solid\"},\"marker\":{\"symbol\":\"circle\"},\"mode\":\"markers+lines\",\"name\":\"Ammonium nitrate (AN)\",\"orientation\":\"v\",\"showlegend\":true,\"x\":[2015,2016,2017,2018,2019],\"xaxis\":\"x\",\"y\":[580057.29,627373.13,623971.63,626415.41,628859.2],\"yaxis\":\"y\",\"type\":\"scatter\"},{\"hovertemplate\":\"Item=Ammonium sulphate<br>Year=%{x}<br>Value=%{y}<extra></extra>\",\"legendgroup\":\"Ammonium sulphate\",\"line\":{\"color\":\"#00cc96\",\"dash\":\"solid\"},\"marker\":{\"symbol\":\"circle\"},\"mode\":\"markers+lines\",\"name\":\"Ammonium sulphate\",\"orientation\":\"v\",\"showlegend\":true,\"x\":[2015,2016,2017,2018,2019],\"xaxis\":\"x\",\"y\":[1727807.08,1682362.9,1673241.43,1679794.68,1686347.93],\"yaxis\":\"y\",\"type\":\"scatter\"},{\"hovertemplate\":\"Item=Diammonium phosphate (DAP)<br>Year=%{x}<br>Value=%{y}<extra></extra>\",\"legendgroup\":\"Diammonium phosphate (DAP)\",\"line\":{\"color\":\"#ab63fa\",\"dash\":\"solid\"},\"marker\":{\"symbol\":\"circle\"},\"mode\":\"markers+lines\",\"name\":\"Diammonium phosphate (DAP)\",\"orientation\":\"v\",\"showlegend\":true,\"x\":[2015,2016,2017,2018,2019],\"xaxis\":\"x\",\"y\":[2195580.51,2150252.13,2183608.98,2168788.11,2163847.82],\"yaxis\":\"y\",\"type\":\"scatter\"},{\"hovertemplate\":\"Item=Monoammonium phosphate (MAP)<br>Year=%{x}<br>Value=%{y}<extra></extra>\",\"legendgroup\":\"Monoammonium phosphate (MAP)\",\"line\":{\"color\":\"#FFA15A\",\"dash\":\"solid\"},\"marker\":{\"symbol\":\"circle\"},\"mode\":\"markers+lines\",\"name\":\"Monoammonium phosphate (MAP)\",\"orientation\":\"v\",\"showlegend\":true,\"x\":[2015,2016,2017,2018,2019],\"xaxis\":\"x\",\"y\":[2502775.47,2677360.09,2718893.96,2700439.93,2694288.59],\"yaxis\":\"y\",\"type\":\"scatter\"},{\"hovertemplate\":\"Item=NPK fertilizers<br>Year=%{x}<br>Value=%{y}<extra></extra>\",\"legendgroup\":\"NPK fertilizers\",\"line\":{\"color\":\"#19d3f3\",\"dash\":\"solid\"},\"marker\":{\"symbol\":\"circle\"},\"mode\":\"markers+lines\",\"name\":\"NPK fertilizers\",\"orientation\":\"v\",\"showlegend\":true,\"x\":[2015,2016,2017,2018,2019],\"xaxis\":\"x\",\"y\":[6668634.85,6476306.56,6446652.0,6417133.22,6387749.61],\"yaxis\":\"y\",\"type\":\"scatter\"},{\"hovertemplate\":\"Item=Other NK compounds<br>Year=%{x}<br>Value=%{y}<extra></extra>\",\"legendgroup\":\"Other NK compounds\",\"line\":{\"color\":\"#FF6692\",\"dash\":\"solid\"},\"marker\":{\"symbol\":\"circle\"},\"mode\":\"markers+lines\",\"name\":\"Other NK compounds\",\"orientation\":\"v\",\"showlegend\":true,\"x\":[2015,2016,2017,2018,2019],\"xaxis\":\"x\",\"y\":[1275783.54,1269082.91,1263271.87,1257487.43,1251729.49],\"yaxis\":\"y\",\"type\":\"scatter\"},{\"hovertemplate\":\"Item=Other NP compounds<br>Year=%{x}<br>Value=%{y}<extra></extra>\",\"legendgroup\":\"Other NP compounds\",\"line\":{\"color\":\"#B6E880\",\"dash\":\"solid\"},\"marker\":{\"symbol\":\"circle\"},\"mode\":\"markers+lines\",\"name\":\"Other NP compounds\",\"orientation\":\"v\",\"showlegend\":true,\"x\":[2015,2016,2017,2018,2019],\"xaxis\":\"x\",\"y\":[2774276.55,2591513.43,2631715.57,2613853.25,2607899.14],\"yaxis\":\"y\",\"type\":\"scatter\"},{\"hovertemplate\":\"Item=Other nitrogenous fertilizers, n.e.c.<br>Year=%{x}<br>Value=%{y}<extra></extra>\",\"legendgroup\":\"Other nitrogenous fertilizers, n.e.c.\",\"line\":{\"color\":\"#FF97FF\",\"dash\":\"solid\"},\"marker\":{\"symbol\":\"circle\"},\"mode\":\"markers+lines\",\"name\":\"Other nitrogenous fertilizers, n.e.c.\",\"orientation\":\"v\",\"showlegend\":true,\"x\":[2015],\"xaxis\":\"x\",\"y\":[1134925.0],\"yaxis\":\"y\",\"type\":\"scatter\"},{\"hovertemplate\":\"Item=Other phosphatic fertilizers, n.e.c.<br>Year=%{x}<br>Value=%{y}<extra></extra>\",\"legendgroup\":\"Other phosphatic fertilizers, n.e.c.\",\"line\":{\"color\":\"#FECB52\",\"dash\":\"solid\"},\"marker\":{\"symbol\":\"circle\"},\"mode\":\"markers+lines\",\"name\":\"Other phosphatic fertilizers, n.e.c.\",\"orientation\":\"v\",\"showlegend\":true,\"x\":[2015],\"xaxis\":\"x\",\"y\":[2388345.0],\"yaxis\":\"y\",\"type\":\"scatter\"},{\"hovertemplate\":\"Item=Other potassic fertilizers, n.e.c.<br>Year=%{x}<br>Value=%{y}<extra></extra>\",\"legendgroup\":\"Other potassic fertilizers, n.e.c.\",\"line\":{\"color\":\"#636efa\",\"dash\":\"solid\"},\"marker\":{\"symbol\":\"circle\"},\"mode\":\"markers+lines\",\"name\":\"Other potassic fertilizers, n.e.c.\",\"orientation\":\"v\",\"showlegend\":true,\"x\":[2015],\"xaxis\":\"x\",\"y\":[497070.0],\"yaxis\":\"y\",\"type\":\"scatter\"},{\"hovertemplate\":\"Item=PK compounds<br>Year=%{x}<br>Value=%{y}<extra></extra>\",\"legendgroup\":\"PK compounds\",\"line\":{\"color\":\"#EF553B\",\"dash\":\"solid\"},\"marker\":{\"symbol\":\"circle\"},\"mode\":\"markers+lines\",\"name\":\"PK compounds\",\"orientation\":\"v\",\"showlegend\":true,\"x\":[2015,2016,2017,2018,2019],\"xaxis\":\"x\",\"y\":[263225.07,287774.95,300547.27,313886.45,327817.67],\"yaxis\":\"y\",\"type\":\"scatter\"},{\"hovertemplate\":\"Item=Potassium chloride (muriate of potash) (MOP)<br>Year=%{x}<br>Value=%{y}<extra></extra>\",\"legendgroup\":\"Potassium chloride (muriate of potash) (MOP)\",\"line\":{\"color\":\"#00cc96\",\"dash\":\"solid\"},\"marker\":{\"symbol\":\"circle\"},\"mode\":\"markers+lines\",\"name\":\"Potassium chloride (muriate of potash) (MOP)\",\"orientation\":\"v\",\"showlegend\":true,\"x\":[2015,2016,2017,2018,2019],\"xaxis\":\"x\",\"y\":[5380281.96,5601909.76,5671755.97,5490982.87,5361052.21],\"yaxis\":\"y\",\"type\":\"scatter\"},{\"hovertemplate\":\"Item=Potassium sulphate (sulphate of potash) (SOP)<br>Year=%{x}<br>Value=%{y}<extra></extra>\",\"legendgroup\":\"Potassium sulphate (sulphate of potash) (SOP)\",\"line\":{\"color\":\"#ab63fa\",\"dash\":\"solid\"},\"marker\":{\"symbol\":\"circle\"},\"mode\":\"markers+lines\",\"name\":\"Potassium sulphate (sulphate of potash) (SOP)\",\"orientation\":\"v\",\"showlegend\":true,\"x\":[2015,2016,2017,2018,2019],\"xaxis\":\"x\",\"y\":[281832.89,292218.31,295861.77,286431.92,279654.21],\"yaxis\":\"y\",\"type\":\"scatter\"},{\"hovertemplate\":\"Item=Superphosphates above 35%<br>Year=%{x}<br>Value=%{y}<extra></extra>\",\"legendgroup\":\"Superphosphates above 35%\",\"line\":{\"color\":\"#FFA15A\",\"dash\":\"solid\"},\"marker\":{\"symbol\":\"circle\"},\"mode\":\"markers+lines\",\"name\":\"Superphosphates above 35%\",\"orientation\":\"v\",\"showlegend\":true,\"x\":[2015,2016,2017,2018,2019],\"xaxis\":\"x\",\"y\":[157694.64,184065.86,186921.27,185652.58,185229.68],\"yaxis\":\"y\",\"type\":\"scatter\"},{\"hovertemplate\":\"Item=Superphosphates, other<br>Year=%{x}<br>Value=%{y}<extra></extra>\",\"legendgroup\":\"Superphosphates, other\",\"line\":{\"color\":\"#19d3f3\",\"dash\":\"solid\"},\"marker\":{\"symbol\":\"circle\"},\"mode\":\"markers+lines\",\"name\":\"Superphosphates, other\",\"orientation\":\"v\",\"showlegend\":true,\"x\":[2015,2016,2017,2018,2019],\"xaxis\":\"x\",\"y\":[25163.93,53820.94,54655.86,54284.89,54161.24],\"yaxis\":\"y\",\"type\":\"scatter\"},{\"hovertemplate\":\"Item=Urea<br>Year=%{x}<br>Value=%{y}<extra></extra>\",\"legendgroup\":\"Urea\",\"line\":{\"color\":\"#FF6692\",\"dash\":\"solid\"},\"marker\":{\"symbol\":\"circle\"},\"mode\":\"markers+lines\",\"name\":\"Urea\",\"orientation\":\"v\",\"showlegend\":true,\"x\":[2015,2016,2017,2018,2019],\"xaxis\":\"x\",\"y\":[6349175.59,6273882.31,6239866.44,6264304.88,6288743.32],\"yaxis\":\"y\",\"type\":\"scatter\"},{\"hovertemplate\":\"Item=Urea and ammonium nitrate solutions (UAN)<br>Year=%{x}<br>Value=%{y}<extra></extra>\",\"legendgroup\":\"Urea and ammonium nitrate solutions (UAN)\",\"line\":{\"color\":\"#B6E880\",\"dash\":\"solid\"},\"marker\":{\"symbol\":\"circle\"},\"mode\":\"markers+lines\",\"name\":\"Urea and ammonium nitrate solutions (UAN)\",\"orientation\":\"v\",\"showlegend\":true,\"x\":[2015,2016,2017,2018,2019],\"xaxis\":\"x\",\"y\":[10713687.28,10548312.62,10491121.56,10532210.04,10573298.52],\"yaxis\":\"y\",\"type\":\"scatter\"}],                        {\"template\":{\"data\":{\"bar\":[{\"error_x\":{\"color\":\"#2a3f5f\"},\"error_y\":{\"color\":\"#2a3f5f\"},\"marker\":{\"line\":{\"color\":\"#E5ECF6\",\"width\":0.5},\"pattern\":{\"fillmode\":\"overlay\",\"size\":10,\"solidity\":0.2}},\"type\":\"bar\"}],\"barpolar\":[{\"marker\":{\"line\":{\"color\":\"#E5ECF6\",\"width\":0.5},\"pattern\":{\"fillmode\":\"overlay\",\"size\":10,\"solidity\":0.2}},\"type\":\"barpolar\"}],\"carpet\":[{\"aaxis\":{\"endlinecolor\":\"#2a3f5f\",\"gridcolor\":\"white\",\"linecolor\":\"white\",\"minorgridcolor\":\"white\",\"startlinecolor\":\"#2a3f5f\"},\"baxis\":{\"endlinecolor\":\"#2a3f5f\",\"gridcolor\":\"white\",\"linecolor\":\"white\",\"minorgridcolor\":\"white\",\"startlinecolor\":\"#2a3f5f\"},\"type\":\"carpet\"}],\"choropleth\":[{\"colorbar\":{\"outlinewidth\":0,\"ticks\":\"\"},\"type\":\"choropleth\"}],\"contour\":[{\"colorbar\":{\"outlinewidth\":0,\"ticks\":\"\"},\"colorscale\":[[0.0,\"#0d0887\"],[0.1111111111111111,\"#46039f\"],[0.2222222222222222,\"#7201a8\"],[0.3333333333333333,\"#9c179e\"],[0.4444444444444444,\"#bd3786\"],[0.5555555555555556,\"#d8576b\"],[0.6666666666666666,\"#ed7953\"],[0.7777777777777778,\"#fb9f3a\"],[0.8888888888888888,\"#fdca26\"],[1.0,\"#f0f921\"]],\"type\":\"contour\"}],\"contourcarpet\":[{\"colorbar\":{\"outlinewidth\":0,\"ticks\":\"\"},\"type\":\"contourcarpet\"}],\"heatmap\":[{\"colorbar\":{\"outlinewidth\":0,\"ticks\":\"\"},\"colorscale\":[[0.0,\"#0d0887\"],[0.1111111111111111,\"#46039f\"],[0.2222222222222222,\"#7201a8\"],[0.3333333333333333,\"#9c179e\"],[0.4444444444444444,\"#bd3786\"],[0.5555555555555556,\"#d8576b\"],[0.6666666666666666,\"#ed7953\"],[0.7777777777777778,\"#fb9f3a\"],[0.8888888888888888,\"#fdca26\"],[1.0,\"#f0f921\"]],\"type\":\"heatmap\"}],\"heatmapgl\":[{\"colorbar\":{\"outlinewidth\":0,\"ticks\":\"\"},\"colorscale\":[[0.0,\"#0d0887\"],[0.1111111111111111,\"#46039f\"],[0.2222222222222222,\"#7201a8\"],[0.3333333333333333,\"#9c179e\"],[0.4444444444444444,\"#bd3786\"],[0.5555555555555556,\"#d8576b\"],[0.6666666666666666,\"#ed7953\"],[0.7777777777777778,\"#fb9f3a\"],[0.8888888888888888,\"#fdca26\"],[1.0,\"#f0f921\"]],\"type\":\"heatmapgl\"}],\"histogram\":[{\"marker\":{\"pattern\":{\"fillmode\":\"overlay\",\"size\":10,\"solidity\":0.2}},\"type\":\"histogram\"}],\"histogram2d\":[{\"colorbar\":{\"outlinewidth\":0,\"ticks\":\"\"},\"colorscale\":[[0.0,\"#0d0887\"],[0.1111111111111111,\"#46039f\"],[0.2222222222222222,\"#7201a8\"],[0.3333333333333333,\"#9c179e\"],[0.4444444444444444,\"#bd3786\"],[0.5555555555555556,\"#d8576b\"],[0.6666666666666666,\"#ed7953\"],[0.7777777777777778,\"#fb9f3a\"],[0.8888888888888888,\"#fdca26\"],[1.0,\"#f0f921\"]],\"type\":\"histogram2d\"}],\"histogram2dcontour\":[{\"colorbar\":{\"outlinewidth\":0,\"ticks\":\"\"},\"colorscale\":[[0.0,\"#0d0887\"],[0.1111111111111111,\"#46039f\"],[0.2222222222222222,\"#7201a8\"],[0.3333333333333333,\"#9c179e\"],[0.4444444444444444,\"#bd3786\"],[0.5555555555555556,\"#d8576b\"],[0.6666666666666666,\"#ed7953\"],[0.7777777777777778,\"#fb9f3a\"],[0.8888888888888888,\"#fdca26\"],[1.0,\"#f0f921\"]],\"type\":\"histogram2dcontour\"}],\"mesh3d\":[{\"colorbar\":{\"outlinewidth\":0,\"ticks\":\"\"},\"type\":\"mesh3d\"}],\"parcoords\":[{\"line\":{\"colorbar\":{\"outlinewidth\":0,\"ticks\":\"\"}},\"type\":\"parcoords\"}],\"pie\":[{\"automargin\":true,\"type\":\"pie\"}],\"scatter\":[{\"marker\":{\"colorbar\":{\"outlinewidth\":0,\"ticks\":\"\"}},\"type\":\"scatter\"}],\"scatter3d\":[{\"line\":{\"colorbar\":{\"outlinewidth\":0,\"ticks\":\"\"}},\"marker\":{\"colorbar\":{\"outlinewidth\":0,\"ticks\":\"\"}},\"type\":\"scatter3d\"}],\"scattercarpet\":[{\"marker\":{\"colorbar\":{\"outlinewidth\":0,\"ticks\":\"\"}},\"type\":\"scattercarpet\"}],\"scattergeo\":[{\"marker\":{\"colorbar\":{\"outlinewidth\":0,\"ticks\":\"\"}},\"type\":\"scattergeo\"}],\"scattergl\":[{\"marker\":{\"colorbar\":{\"outlinewidth\":0,\"ticks\":\"\"}},\"type\":\"scattergl\"}],\"scattermapbox\":[{\"marker\":{\"colorbar\":{\"outlinewidth\":0,\"ticks\":\"\"}},\"type\":\"scattermapbox\"}],\"scatterpolar\":[{\"marker\":{\"colorbar\":{\"outlinewidth\":0,\"ticks\":\"\"}},\"type\":\"scatterpolar\"}],\"scatterpolargl\":[{\"marker\":{\"colorbar\":{\"outlinewidth\":0,\"ticks\":\"\"}},\"type\":\"scatterpolargl\"}],\"scatterternary\":[{\"marker\":{\"colorbar\":{\"outlinewidth\":0,\"ticks\":\"\"}},\"type\":\"scatterternary\"}],\"surface\":[{\"colorbar\":{\"outlinewidth\":0,\"ticks\":\"\"},\"colorscale\":[[0.0,\"#0d0887\"],[0.1111111111111111,\"#46039f\"],[0.2222222222222222,\"#7201a8\"],[0.3333333333333333,\"#9c179e\"],[0.4444444444444444,\"#bd3786\"],[0.5555555555555556,\"#d8576b\"],[0.6666666666666666,\"#ed7953\"],[0.7777777777777778,\"#fb9f3a\"],[0.8888888888888888,\"#fdca26\"],[1.0,\"#f0f921\"]],\"type\":\"surface\"}],\"table\":[{\"cells\":{\"fill\":{\"color\":\"#EBF0F8\"},\"line\":{\"color\":\"white\"}},\"header\":{\"fill\":{\"color\":\"#C8D4E3\"},\"line\":{\"color\":\"white\"}},\"type\":\"table\"}]},\"layout\":{\"annotationdefaults\":{\"arrowcolor\":\"#2a3f5f\",\"arrowhead\":0,\"arrowwidth\":1},\"autotypenumbers\":\"strict\",\"coloraxis\":{\"colorbar\":{\"outlinewidth\":0,\"ticks\":\"\"}},\"colorscale\":{\"diverging\":[[0,\"#8e0152\"],[0.1,\"#c51b7d\"],[0.2,\"#de77ae\"],[0.3,\"#f1b6da\"],[0.4,\"#fde0ef\"],[0.5,\"#f7f7f7\"],[0.6,\"#e6f5d0\"],[0.7,\"#b8e186\"],[0.8,\"#7fbc41\"],[0.9,\"#4d9221\"],[1,\"#276419\"]],\"sequential\":[[0.0,\"#0d0887\"],[0.1111111111111111,\"#46039f\"],[0.2222222222222222,\"#7201a8\"],[0.3333333333333333,\"#9c179e\"],[0.4444444444444444,\"#bd3786\"],[0.5555555555555556,\"#d8576b\"],[0.6666666666666666,\"#ed7953\"],[0.7777777777777778,\"#fb9f3a\"],[0.8888888888888888,\"#fdca26\"],[1.0,\"#f0f921\"]],\"sequentialminus\":[[0.0,\"#0d0887\"],[0.1111111111111111,\"#46039f\"],[0.2222222222222222,\"#7201a8\"],[0.3333333333333333,\"#9c179e\"],[0.4444444444444444,\"#bd3786\"],[0.5555555555555556,\"#d8576b\"],[0.6666666666666666,\"#ed7953\"],[0.7777777777777778,\"#fb9f3a\"],[0.8888888888888888,\"#fdca26\"],[1.0,\"#f0f921\"]]},\"colorway\":[\"#636efa\",\"#EF553B\",\"#00cc96\",\"#ab63fa\",\"#FFA15A\",\"#19d3f3\",\"#FF6692\",\"#B6E880\",\"#FF97FF\",\"#FECB52\"],\"font\":{\"color\":\"#2a3f5f\"},\"geo\":{\"bgcolor\":\"white\",\"lakecolor\":\"white\",\"landcolor\":\"#E5ECF6\",\"showlakes\":true,\"showland\":true,\"subunitcolor\":\"white\"},\"hoverlabel\":{\"align\":\"left\"},\"hovermode\":\"closest\",\"mapbox\":{\"style\":\"light\"},\"paper_bgcolor\":\"white\",\"plot_bgcolor\":\"#E5ECF6\",\"polar\":{\"angularaxis\":{\"gridcolor\":\"white\",\"linecolor\":\"white\",\"ticks\":\"\"},\"bgcolor\":\"#E5ECF6\",\"radialaxis\":{\"gridcolor\":\"white\",\"linecolor\":\"white\",\"ticks\":\"\"}},\"scene\":{\"xaxis\":{\"backgroundcolor\":\"#E5ECF6\",\"gridcolor\":\"white\",\"gridwidth\":2,\"linecolor\":\"white\",\"showbackground\":true,\"ticks\":\"\",\"zerolinecolor\":\"white\"},\"yaxis\":{\"backgroundcolor\":\"#E5ECF6\",\"gridcolor\":\"white\",\"gridwidth\":2,\"linecolor\":\"white\",\"showbackground\":true,\"ticks\":\"\",\"zerolinecolor\":\"white\"},\"zaxis\":{\"backgroundcolor\":\"#E5ECF6\",\"gridcolor\":\"white\",\"gridwidth\":2,\"linecolor\":\"white\",\"showbackground\":true,\"ticks\":\"\",\"zerolinecolor\":\"white\"}},\"shapedefaults\":{\"line\":{\"color\":\"#2a3f5f\"}},\"ternary\":{\"aaxis\":{\"gridcolor\":\"white\",\"linecolor\":\"white\",\"ticks\":\"\"},\"baxis\":{\"gridcolor\":\"white\",\"linecolor\":\"white\",\"ticks\":\"\"},\"bgcolor\":\"#E5ECF6\",\"caxis\":{\"gridcolor\":\"white\",\"linecolor\":\"white\",\"ticks\":\"\"}},\"title\":{\"x\":0.05},\"xaxis\":{\"automargin\":true,\"gridcolor\":\"white\",\"linecolor\":\"white\",\"ticks\":\"\",\"title\":{\"standoff\":15},\"zerolinecolor\":\"white\",\"zerolinewidth\":2},\"yaxis\":{\"automargin\":true,\"gridcolor\":\"white\",\"linecolor\":\"white\",\"ticks\":\"\",\"title\":{\"standoff\":15},\"zerolinecolor\":\"white\",\"zerolinewidth\":2}}},\"xaxis\":{\"anchor\":\"y\",\"domain\":[0.0,1.0],\"title\":{\"text\":\"Year\"}},\"yaxis\":{\"anchor\":\"x\",\"domain\":[0.0,1.0],\"title\":{\"text\":\"Value\"}},\"legend\":{\"title\":{\"text\":\"Item\"},\"tracegroupgap\":0},\"title\":{\"text\":\"United States of America\"}},                        {\"responsive\": true}                    ).then(function(){\n",
              "                            \n",
              "var gd = document.getElementById('2a996e0c-5d36-4e7e-836a-70ac2f41567a');\n",
              "var x = new MutationObserver(function (mutations, observer) {{\n",
              "        var display = window.getComputedStyle(gd).display;\n",
              "        if (!display || display === 'none') {{\n",
              "            console.log([gd, 'removed!']);\n",
              "            Plotly.purge(gd);\n",
              "            observer.disconnect();\n",
              "        }}\n",
              "}});\n",
              "\n",
              "// Listen for the removal of the full notebook cells\n",
              "var notebookContainer = gd.closest('#notebook-container');\n",
              "if (notebookContainer) {{\n",
              "    x.observe(notebookContainer, {childList: true});\n",
              "}}\n",
              "\n",
              "// Listen for the clearing of the current output cell\n",
              "var outputEl = gd.closest('.output');\n",
              "if (outputEl) {{\n",
              "    x.observe(outputEl, {childList: true});\n",
              "}}\n",
              "\n",
              "                        })                };                            </script>        </div>\n",
              "</body>\n",
              "</html>"
            ]
          },
          "metadata": {}
        },
        {
          "output_type": "display_data",
          "data": {
            "text/html": [
              "<html>\n",
              "<head><meta charset=\"utf-8\" /></head>\n",
              "<body>\n",
              "    <div>            <script src=\"https://cdnjs.cloudflare.com/ajax/libs/mathjax/2.7.5/MathJax.js?config=TeX-AMS-MML_SVG\"></script><script type=\"text/javascript\">if (window.MathJax) {MathJax.Hub.Config({SVG: {font: \"STIX-Web\"}});}</script>                <script type=\"text/javascript\">window.PlotlyConfig = {MathJaxConfig: 'local'};</script>\n",
              "        <script src=\"https://cdn.plot.ly/plotly-2.8.3.min.js\"></script>                <div id=\"cceff70a-2a9c-4672-a261-b5a045a1ca58\" class=\"plotly-graph-div\" style=\"height:525px; width:100%;\"></div>            <script type=\"text/javascript\">                                    window.PLOTLYENV=window.PLOTLYENV || {};                                    if (document.getElementById(\"cceff70a-2a9c-4672-a261-b5a045a1ca58\")) {                    Plotly.newPlot(                        \"cceff70a-2a9c-4672-a261-b5a045a1ca58\",                        [{\"hovertemplate\":\"Item=Ammonium sulphate<br>Year=%{x}<br>Value=%{y}<extra></extra>\",\"legendgroup\":\"Ammonium sulphate\",\"line\":{\"color\":\"#636efa\",\"dash\":\"solid\"},\"marker\":{\"symbol\":\"circle\"},\"mode\":\"markers+lines\",\"name\":\"Ammonium sulphate\",\"orientation\":\"v\",\"showlegend\":true,\"x\":[2015,2016,2017,2018,2019],\"xaxis\":\"x\",\"y\":[994759.0,1021348.0,979473.0,1004034.0,1016981.0],\"yaxis\":\"y\",\"type\":\"scatter\"},{\"hovertemplate\":\"Item=NPK fertilizers<br>Year=%{x}<br>Value=%{y}<extra></extra>\",\"legendgroup\":\"NPK fertilizers\",\"line\":{\"color\":\"#EF553B\",\"dash\":\"solid\"},\"marker\":{\"symbol\":\"circle\"},\"mode\":\"markers+lines\",\"name\":\"NPK fertilizers\",\"orientation\":\"v\",\"showlegend\":true,\"x\":[2015,2016,2017,2018,2019],\"xaxis\":\"x\",\"y\":[2705807.0,2933716.0,2597586.0,2802246.0,3088176.0],\"yaxis\":\"y\",\"type\":\"scatter\"},{\"hovertemplate\":\"Item=Superphosphates above 35%<br>Year=%{x}<br>Value=%{y}<extra></extra>\",\"legendgroup\":\"Superphosphates above 35%\",\"line\":{\"color\":\"#00cc96\",\"dash\":\"solid\"},\"marker\":{\"symbol\":\"circle\"},\"mode\":\"markers+lines\",\"name\":\"Superphosphates above 35%\",\"orientation\":\"v\",\"showlegend\":true,\"x\":[2015,2016,2017,2018,2019],\"xaxis\":\"x\",\"y\":[829134.0,865434.0,859965.0,861614.0,819106.0],\"yaxis\":\"y\",\"type\":\"scatter\"},{\"hovertemplate\":\"Item=Urea<br>Year=%{x}<br>Value=%{y}<extra></extra>\",\"legendgroup\":\"Urea\",\"line\":{\"color\":\"#ab63fa\",\"dash\":\"solid\"},\"marker\":{\"symbol\":\"circle\"},\"mode\":\"markers+lines\",\"name\":\"Urea\",\"orientation\":\"v\",\"showlegend\":true,\"x\":[2015,2016,2017,2018,2019],\"xaxis\":\"x\",\"y\":[4790930.0,5020625.0,5123183.0,5665007.0,4894537.0],\"yaxis\":\"y\",\"type\":\"scatter\"}],                        {\"template\":{\"data\":{\"bar\":[{\"error_x\":{\"color\":\"#2a3f5f\"},\"error_y\":{\"color\":\"#2a3f5f\"},\"marker\":{\"line\":{\"color\":\"#E5ECF6\",\"width\":0.5},\"pattern\":{\"fillmode\":\"overlay\",\"size\":10,\"solidity\":0.2}},\"type\":\"bar\"}],\"barpolar\":[{\"marker\":{\"line\":{\"color\":\"#E5ECF6\",\"width\":0.5},\"pattern\":{\"fillmode\":\"overlay\",\"size\":10,\"solidity\":0.2}},\"type\":\"barpolar\"}],\"carpet\":[{\"aaxis\":{\"endlinecolor\":\"#2a3f5f\",\"gridcolor\":\"white\",\"linecolor\":\"white\",\"minorgridcolor\":\"white\",\"startlinecolor\":\"#2a3f5f\"},\"baxis\":{\"endlinecolor\":\"#2a3f5f\",\"gridcolor\":\"white\",\"linecolor\":\"white\",\"minorgridcolor\":\"white\",\"startlinecolor\":\"#2a3f5f\"},\"type\":\"carpet\"}],\"choropleth\":[{\"colorbar\":{\"outlinewidth\":0,\"ticks\":\"\"},\"type\":\"choropleth\"}],\"contour\":[{\"colorbar\":{\"outlinewidth\":0,\"ticks\":\"\"},\"colorscale\":[[0.0,\"#0d0887\"],[0.1111111111111111,\"#46039f\"],[0.2222222222222222,\"#7201a8\"],[0.3333333333333333,\"#9c179e\"],[0.4444444444444444,\"#bd3786\"],[0.5555555555555556,\"#d8576b\"],[0.6666666666666666,\"#ed7953\"],[0.7777777777777778,\"#fb9f3a\"],[0.8888888888888888,\"#fdca26\"],[1.0,\"#f0f921\"]],\"type\":\"contour\"}],\"contourcarpet\":[{\"colorbar\":{\"outlinewidth\":0,\"ticks\":\"\"},\"type\":\"contourcarpet\"}],\"heatmap\":[{\"colorbar\":{\"outlinewidth\":0,\"ticks\":\"\"},\"colorscale\":[[0.0,\"#0d0887\"],[0.1111111111111111,\"#46039f\"],[0.2222222222222222,\"#7201a8\"],[0.3333333333333333,\"#9c179e\"],[0.4444444444444444,\"#bd3786\"],[0.5555555555555556,\"#d8576b\"],[0.6666666666666666,\"#ed7953\"],[0.7777777777777778,\"#fb9f3a\"],[0.8888888888888888,\"#fdca26\"],[1.0,\"#f0f921\"]],\"type\":\"heatmap\"}],\"heatmapgl\":[{\"colorbar\":{\"outlinewidth\":0,\"ticks\":\"\"},\"colorscale\":[[0.0,\"#0d0887\"],[0.1111111111111111,\"#46039f\"],[0.2222222222222222,\"#7201a8\"],[0.3333333333333333,\"#9c179e\"],[0.4444444444444444,\"#bd3786\"],[0.5555555555555556,\"#d8576b\"],[0.6666666666666666,\"#ed7953\"],[0.7777777777777778,\"#fb9f3a\"],[0.8888888888888888,\"#fdca26\"],[1.0,\"#f0f921\"]],\"type\":\"heatmapgl\"}],\"histogram\":[{\"marker\":{\"pattern\":{\"fillmode\":\"overlay\",\"size\":10,\"solidity\":0.2}},\"type\":\"histogram\"}],\"histogram2d\":[{\"colorbar\":{\"outlinewidth\":0,\"ticks\":\"\"},\"colorscale\":[[0.0,\"#0d0887\"],[0.1111111111111111,\"#46039f\"],[0.2222222222222222,\"#7201a8\"],[0.3333333333333333,\"#9c179e\"],[0.4444444444444444,\"#bd3786\"],[0.5555555555555556,\"#d8576b\"],[0.6666666666666666,\"#ed7953\"],[0.7777777777777778,\"#fb9f3a\"],[0.8888888888888888,\"#fdca26\"],[1.0,\"#f0f921\"]],\"type\":\"histogram2d\"}],\"histogram2dcontour\":[{\"colorbar\":{\"outlinewidth\":0,\"ticks\":\"\"},\"colorscale\":[[0.0,\"#0d0887\"],[0.1111111111111111,\"#46039f\"],[0.2222222222222222,\"#7201a8\"],[0.3333333333333333,\"#9c179e\"],[0.4444444444444444,\"#bd3786\"],[0.5555555555555556,\"#d8576b\"],[0.6666666666666666,\"#ed7953\"],[0.7777777777777778,\"#fb9f3a\"],[0.8888888888888888,\"#fdca26\"],[1.0,\"#f0f921\"]],\"type\":\"histogram2dcontour\"}],\"mesh3d\":[{\"colorbar\":{\"outlinewidth\":0,\"ticks\":\"\"},\"type\":\"mesh3d\"}],\"parcoords\":[{\"line\":{\"colorbar\":{\"outlinewidth\":0,\"ticks\":\"\"}},\"type\":\"parcoords\"}],\"pie\":[{\"automargin\":true,\"type\":\"pie\"}],\"scatter\":[{\"marker\":{\"colorbar\":{\"outlinewidth\":0,\"ticks\":\"\"}},\"type\":\"scatter\"}],\"scatter3d\":[{\"line\":{\"colorbar\":{\"outlinewidth\":0,\"ticks\":\"\"}},\"marker\":{\"colorbar\":{\"outlinewidth\":0,\"ticks\":\"\"}},\"type\":\"scatter3d\"}],\"scattercarpet\":[{\"marker\":{\"colorbar\":{\"outlinewidth\":0,\"ticks\":\"\"}},\"type\":\"scattercarpet\"}],\"scattergeo\":[{\"marker\":{\"colorbar\":{\"outlinewidth\":0,\"ticks\":\"\"}},\"type\":\"scattergeo\"}],\"scattergl\":[{\"marker\":{\"colorbar\":{\"outlinewidth\":0,\"ticks\":\"\"}},\"type\":\"scattergl\"}],\"scattermapbox\":[{\"marker\":{\"colorbar\":{\"outlinewidth\":0,\"ticks\":\"\"}},\"type\":\"scattermapbox\"}],\"scatterpolar\":[{\"marker\":{\"colorbar\":{\"outlinewidth\":0,\"ticks\":\"\"}},\"type\":\"scatterpolar\"}],\"scatterpolargl\":[{\"marker\":{\"colorbar\":{\"outlinewidth\":0,\"ticks\":\"\"}},\"type\":\"scatterpolargl\"}],\"scatterternary\":[{\"marker\":{\"colorbar\":{\"outlinewidth\":0,\"ticks\":\"\"}},\"type\":\"scatterternary\"}],\"surface\":[{\"colorbar\":{\"outlinewidth\":0,\"ticks\":\"\"},\"colorscale\":[[0.0,\"#0d0887\"],[0.1111111111111111,\"#46039f\"],[0.2222222222222222,\"#7201a8\"],[0.3333333333333333,\"#9c179e\"],[0.4444444444444444,\"#bd3786\"],[0.5555555555555556,\"#d8576b\"],[0.6666666666666666,\"#ed7953\"],[0.7777777777777778,\"#fb9f3a\"],[0.8888888888888888,\"#fdca26\"],[1.0,\"#f0f921\"]],\"type\":\"surface\"}],\"table\":[{\"cells\":{\"fill\":{\"color\":\"#EBF0F8\"},\"line\":{\"color\":\"white\"}},\"header\":{\"fill\":{\"color\":\"#C8D4E3\"},\"line\":{\"color\":\"white\"}},\"type\":\"table\"}]},\"layout\":{\"annotationdefaults\":{\"arrowcolor\":\"#2a3f5f\",\"arrowhead\":0,\"arrowwidth\":1},\"autotypenumbers\":\"strict\",\"coloraxis\":{\"colorbar\":{\"outlinewidth\":0,\"ticks\":\"\"}},\"colorscale\":{\"diverging\":[[0,\"#8e0152\"],[0.1,\"#c51b7d\"],[0.2,\"#de77ae\"],[0.3,\"#f1b6da\"],[0.4,\"#fde0ef\"],[0.5,\"#f7f7f7\"],[0.6,\"#e6f5d0\"],[0.7,\"#b8e186\"],[0.8,\"#7fbc41\"],[0.9,\"#4d9221\"],[1,\"#276419\"]],\"sequential\":[[0.0,\"#0d0887\"],[0.1111111111111111,\"#46039f\"],[0.2222222222222222,\"#7201a8\"],[0.3333333333333333,\"#9c179e\"],[0.4444444444444444,\"#bd3786\"],[0.5555555555555556,\"#d8576b\"],[0.6666666666666666,\"#ed7953\"],[0.7777777777777778,\"#fb9f3a\"],[0.8888888888888888,\"#fdca26\"],[1.0,\"#f0f921\"]],\"sequentialminus\":[[0.0,\"#0d0887\"],[0.1111111111111111,\"#46039f\"],[0.2222222222222222,\"#7201a8\"],[0.3333333333333333,\"#9c179e\"],[0.4444444444444444,\"#bd3786\"],[0.5555555555555556,\"#d8576b\"],[0.6666666666666666,\"#ed7953\"],[0.7777777777777778,\"#fb9f3a\"],[0.8888888888888888,\"#fdca26\"],[1.0,\"#f0f921\"]]},\"colorway\":[\"#636efa\",\"#EF553B\",\"#00cc96\",\"#ab63fa\",\"#FFA15A\",\"#19d3f3\",\"#FF6692\",\"#B6E880\",\"#FF97FF\",\"#FECB52\"],\"font\":{\"color\":\"#2a3f5f\"},\"geo\":{\"bgcolor\":\"white\",\"lakecolor\":\"white\",\"landcolor\":\"#E5ECF6\",\"showlakes\":true,\"showland\":true,\"subunitcolor\":\"white\"},\"hoverlabel\":{\"align\":\"left\"},\"hovermode\":\"closest\",\"mapbox\":{\"style\":\"light\"},\"paper_bgcolor\":\"white\",\"plot_bgcolor\":\"#E5ECF6\",\"polar\":{\"angularaxis\":{\"gridcolor\":\"white\",\"linecolor\":\"white\",\"ticks\":\"\"},\"bgcolor\":\"#E5ECF6\",\"radialaxis\":{\"gridcolor\":\"white\",\"linecolor\":\"white\",\"ticks\":\"\"}},\"scene\":{\"xaxis\":{\"backgroundcolor\":\"#E5ECF6\",\"gridcolor\":\"white\",\"gridwidth\":2,\"linecolor\":\"white\",\"showbackground\":true,\"ticks\":\"\",\"zerolinecolor\":\"white\"},\"yaxis\":{\"backgroundcolor\":\"#E5ECF6\",\"gridcolor\":\"white\",\"gridwidth\":2,\"linecolor\":\"white\",\"showbackground\":true,\"ticks\":\"\",\"zerolinecolor\":\"white\"},\"zaxis\":{\"backgroundcolor\":\"#E5ECF6\",\"gridcolor\":\"white\",\"gridwidth\":2,\"linecolor\":\"white\",\"showbackground\":true,\"ticks\":\"\",\"zerolinecolor\":\"white\"}},\"shapedefaults\":{\"line\":{\"color\":\"#2a3f5f\"}},\"ternary\":{\"aaxis\":{\"gridcolor\":\"white\",\"linecolor\":\"white\",\"ticks\":\"\"},\"baxis\":{\"gridcolor\":\"white\",\"linecolor\":\"white\",\"ticks\":\"\"},\"bgcolor\":\"#E5ECF6\",\"caxis\":{\"gridcolor\":\"white\",\"linecolor\":\"white\",\"ticks\":\"\"}},\"title\":{\"x\":0.05},\"xaxis\":{\"automargin\":true,\"gridcolor\":\"white\",\"linecolor\":\"white\",\"ticks\":\"\",\"title\":{\"standoff\":15},\"zerolinecolor\":\"white\",\"zerolinewidth\":2},\"yaxis\":{\"automargin\":true,\"gridcolor\":\"white\",\"linecolor\":\"white\",\"ticks\":\"\",\"title\":{\"standoff\":15},\"zerolinecolor\":\"white\",\"zerolinewidth\":2}}},\"xaxis\":{\"anchor\":\"y\",\"domain\":[0.0,1.0],\"title\":{\"text\":\"Year\"}},\"yaxis\":{\"anchor\":\"x\",\"domain\":[0.0,1.0],\"title\":{\"text\":\"Value\"}},\"legend\":{\"title\":{\"text\":\"Item\"},\"tracegroupgap\":0},\"title\":{\"text\":\"Indonesia\"}},                        {\"responsive\": true}                    ).then(function(){\n",
              "                            \n",
              "var gd = document.getElementById('cceff70a-2a9c-4672-a261-b5a045a1ca58');\n",
              "var x = new MutationObserver(function (mutations, observer) {{\n",
              "        var display = window.getComputedStyle(gd).display;\n",
              "        if (!display || display === 'none') {{\n",
              "            console.log([gd, 'removed!']);\n",
              "            Plotly.purge(gd);\n",
              "            observer.disconnect();\n",
              "        }}\n",
              "}});\n",
              "\n",
              "// Listen for the removal of the full notebook cells\n",
              "var notebookContainer = gd.closest('#notebook-container');\n",
              "if (notebookContainer) {{\n",
              "    x.observe(notebookContainer, {childList: true});\n",
              "}}\n",
              "\n",
              "// Listen for the clearing of the current output cell\n",
              "var outputEl = gd.closest('.output');\n",
              "if (outputEl) {{\n",
              "    x.observe(outputEl, {childList: true});\n",
              "}}\n",
              "\n",
              "                        })                };                            </script>        </div>\n",
              "</body>\n",
              "</html>"
            ]
          },
          "metadata": {}
        },
        {
          "output_type": "display_data",
          "data": {
            "text/html": [
              "<html>\n",
              "<head><meta charset=\"utf-8\" /></head>\n",
              "<body>\n",
              "    <div>            <script src=\"https://cdnjs.cloudflare.com/ajax/libs/mathjax/2.7.5/MathJax.js?config=TeX-AMS-MML_SVG\"></script><script type=\"text/javascript\">if (window.MathJax) {MathJax.Hub.Config({SVG: {font: \"STIX-Web\"}});}</script>                <script type=\"text/javascript\">window.PlotlyConfig = {MathJaxConfig: 'local'};</script>\n",
              "        <script src=\"https://cdn.plot.ly/plotly-2.8.3.min.js\"></script>                <div id=\"13ffb7b6-abb6-46ab-9bdb-4c7c6822fcee\" class=\"plotly-graph-div\" style=\"height:525px; width:100%;\"></div>            <script type=\"text/javascript\">                                    window.PLOTLYENV=window.PLOTLYENV || {};                                    if (document.getElementById(\"13ffb7b6-abb6-46ab-9bdb-4c7c6822fcee\")) {                    Plotly.newPlot(                        \"13ffb7b6-abb6-46ab-9bdb-4c7c6822fcee\",                        [{\"hovertemplate\":\"Item=Ammonia, anhydrous<br>Year=%{x}<br>Value=%{y}<extra></extra>\",\"legendgroup\":\"Ammonia, anhydrous\",\"line\":{\"color\":\"#636efa\",\"dash\":\"solid\"},\"marker\":{\"symbol\":\"circle\"},\"mode\":\"markers+lines\",\"name\":\"Ammonia, anhydrous\",\"orientation\":\"v\",\"showlegend\":true,\"x\":[2015,2016,2017,2018,2019],\"xaxis\":\"x\",\"y\":[0.0,0.0,0.0,0.0,0.0],\"yaxis\":\"y\",\"type\":\"scatter\"},{\"hovertemplate\":\"Item=Ammonium nitrate (AN)<br>Year=%{x}<br>Value=%{y}<extra></extra>\",\"legendgroup\":\"Ammonium nitrate (AN)\",\"line\":{\"color\":\"#EF553B\",\"dash\":\"solid\"},\"marker\":{\"symbol\":\"circle\"},\"mode\":\"markers+lines\",\"name\":\"Ammonium nitrate (AN)\",\"orientation\":\"v\",\"showlegend\":true,\"x\":[2015,2016,2017,2018,2019],\"xaxis\":\"x\",\"y\":[0.0,0.0,0.0,0.0,0.0],\"yaxis\":\"y\",\"type\":\"scatter\"},{\"hovertemplate\":\"Item=Ammonium sulphate<br>Year=%{x}<br>Value=%{y}<extra></extra>\",\"legendgroup\":\"Ammonium sulphate\",\"line\":{\"color\":\"#00cc96\",\"dash\":\"solid\"},\"marker\":{\"symbol\":\"circle\"},\"mode\":\"markers+lines\",\"name\":\"Ammonium sulphate\",\"orientation\":\"v\",\"showlegend\":true,\"x\":[2015,2016,2017,2018,2019],\"xaxis\":\"x\",\"y\":[8989.0,17010.0,20868.0,29085.0,67811.0],\"yaxis\":\"y\",\"type\":\"scatter\"},{\"hovertemplate\":\"Item=Calcium ammonium nitrate (CAN) and other mixtures with calcium carbonate<br>Year=%{x}<br>Value=%{y}<extra></extra>\",\"legendgroup\":\"Calcium ammonium nitrate (CAN) and other mixtures with calcium carbonate\",\"line\":{\"color\":\"#ab63fa\",\"dash\":\"solid\"},\"marker\":{\"symbol\":\"circle\"},\"mode\":\"markers+lines\",\"name\":\"Calcium ammonium nitrate (CAN) and other mixtures with calcium carbonate\",\"orientation\":\"v\",\"showlegend\":true,\"x\":[2015,2016,2017,2018,2019],\"xaxis\":\"x\",\"y\":[454044.0,550457.0,731236.0,608542.0,472035.0],\"yaxis\":\"y\",\"type\":\"scatter\"},{\"hovertemplate\":\"Item=Diammonium phosphate (DAP)<br>Year=%{x}<br>Value=%{y}<extra></extra>\",\"legendgroup\":\"Diammonium phosphate (DAP)\",\"line\":{\"color\":\"#FFA15A\",\"dash\":\"solid\"},\"marker\":{\"symbol\":\"circle\"},\"mode\":\"markers+lines\",\"name\":\"Diammonium phosphate (DAP)\",\"orientation\":\"v\",\"showlegend\":true,\"x\":[2015,2016,2017,2018,2019],\"xaxis\":\"x\",\"y\":[1802467.0,2232419.0,2344841.0,2240689.0,2031213.0],\"yaxis\":\"y\",\"type\":\"scatter\"},{\"hovertemplate\":\"Item=Fertilizers n.e.c.<br>Year=%{x}<br>Value=%{y}<extra></extra>\",\"legendgroup\":\"Fertilizers n.e.c.\",\"line\":{\"color\":\"#19d3f3\",\"dash\":\"solid\"},\"marker\":{\"symbol\":\"circle\"},\"mode\":\"markers+lines\",\"name\":\"Fertilizers n.e.c.\",\"orientation\":\"v\",\"showlegend\":true,\"x\":[2015,2016,2017,2018,2019],\"xaxis\":\"x\",\"y\":[0.0,0.0,0.0,0.0,0.0],\"yaxis\":\"y\",\"type\":\"scatter\"},{\"hovertemplate\":\"Item=Monoammonium phosphate (MAP)<br>Year=%{x}<br>Value=%{y}<extra></extra>\",\"legendgroup\":\"Monoammonium phosphate (MAP)\",\"line\":{\"color\":\"#FF6692\",\"dash\":\"solid\"},\"marker\":{\"symbol\":\"circle\"},\"mode\":\"markers+lines\",\"name\":\"Monoammonium phosphate (MAP)\",\"orientation\":\"v\",\"showlegend\":true,\"x\":[2015,2016,2017,2018,2019],\"xaxis\":\"x\",\"y\":[0.0,0.0,0.0,0.0,34729.0],\"yaxis\":\"y\",\"type\":\"scatter\"},{\"hovertemplate\":\"Item=NPK fertilizers<br>Year=%{x}<br>Value=%{y}<extra></extra>\",\"legendgroup\":\"NPK fertilizers\",\"line\":{\"color\":\"#B6E880\",\"dash\":\"solid\"},\"marker\":{\"symbol\":\"circle\"},\"mode\":\"markers+lines\",\"name\":\"NPK fertilizers\",\"orientation\":\"v\",\"showlegend\":true,\"x\":[2015,2016,2017,2018,2019],\"xaxis\":\"x\",\"y\":[70954.0,66013.0,60443.0,68317.0,71806.0],\"yaxis\":\"y\",\"type\":\"scatter\"},{\"hovertemplate\":\"Item=Other NK compounds<br>Year=%{x}<br>Value=%{y}<extra></extra>\",\"legendgroup\":\"Other NK compounds\",\"line\":{\"color\":\"#FF97FF\",\"dash\":\"solid\"},\"marker\":{\"symbol\":\"circle\"},\"mode\":\"markers+lines\",\"name\":\"Other NK compounds\",\"orientation\":\"v\",\"showlegend\":true,\"x\":[2015,2016,2017,2018,2019],\"xaxis\":\"x\",\"y\":[0.0,0.0,0.0,0.0,0.0],\"yaxis\":\"y\",\"type\":\"scatter\"},{\"hovertemplate\":\"Item=Other NP compounds<br>Year=%{x}<br>Value=%{y}<extra></extra>\",\"legendgroup\":\"Other NP compounds\",\"line\":{\"color\":\"#FECB52\",\"dash\":\"solid\"},\"marker\":{\"symbol\":\"circle\"},\"mode\":\"markers+lines\",\"name\":\"Other NP compounds\",\"orientation\":\"v\",\"showlegend\":true,\"x\":[2015,2016,2017,2018,2019],\"xaxis\":\"x\",\"y\":[584483.0,681974.0,688228.0,453501.0,543652.0],\"yaxis\":\"y\",\"type\":\"scatter\"},{\"hovertemplate\":\"Item=Other nitrogenous fertilizers, n.e.c.<br>Year=%{x}<br>Value=%{y}<extra></extra>\",\"legendgroup\":\"Other nitrogenous fertilizers, n.e.c.\",\"line\":{\"color\":\"#636efa\",\"dash\":\"solid\"},\"marker\":{\"symbol\":\"circle\"},\"mode\":\"markers+lines\",\"name\":\"Other nitrogenous fertilizers, n.e.c.\",\"orientation\":\"v\",\"showlegend\":true,\"x\":[2015,2016,2017,2018,2019],\"xaxis\":\"x\",\"y\":[0.0,0.0,0.0,0.0,0.0],\"yaxis\":\"y\",\"type\":\"scatter\"},{\"hovertemplate\":\"Item=Other phosphatic fertilizers, n.e.c.<br>Year=%{x}<br>Value=%{y}<extra></extra>\",\"legendgroup\":\"Other phosphatic fertilizers, n.e.c.\",\"line\":{\"color\":\"#EF553B\",\"dash\":\"solid\"},\"marker\":{\"symbol\":\"circle\"},\"mode\":\"markers+lines\",\"name\":\"Other phosphatic fertilizers, n.e.c.\",\"orientation\":\"v\",\"showlegend\":true,\"x\":[2015,2016,2017,2018,2019],\"xaxis\":\"x\",\"y\":[0.0,0.0,0.0,0.0,0.0],\"yaxis\":\"y\",\"type\":\"scatter\"},{\"hovertemplate\":\"Item=Other potassic fertilizers, n.e.c.<br>Year=%{x}<br>Value=%{y}<extra></extra>\",\"legendgroup\":\"Other potassic fertilizers, n.e.c.\",\"line\":{\"color\":\"#00cc96\",\"dash\":\"solid\"},\"marker\":{\"symbol\":\"circle\"},\"mode\":\"markers+lines\",\"name\":\"Other potassic fertilizers, n.e.c.\",\"orientation\":\"v\",\"showlegend\":true,\"x\":[2015,2016,2017,2018,2019],\"xaxis\":\"x\",\"y\":[0.0,0.0,0.0,0.0,0.0],\"yaxis\":\"y\",\"type\":\"scatter\"},{\"hovertemplate\":\"Item=PK compounds<br>Year=%{x}<br>Value=%{y}<extra></extra>\",\"legendgroup\":\"PK compounds\",\"line\":{\"color\":\"#ab63fa\",\"dash\":\"solid\"},\"marker\":{\"symbol\":\"circle\"},\"mode\":\"markers+lines\",\"name\":\"PK compounds\",\"orientation\":\"v\",\"showlegend\":true,\"x\":[2015,2016,2017,2018,2019],\"xaxis\":\"x\",\"y\":[0.0,0.0,0.0,0.0,0.0],\"yaxis\":\"y\",\"type\":\"scatter\"},{\"hovertemplate\":\"Item=Phosphate rock<br>Year=%{x}<br>Value=%{y}<extra></extra>\",\"legendgroup\":\"Phosphate rock\",\"line\":{\"color\":\"#FFA15A\",\"dash\":\"solid\"},\"marker\":{\"symbol\":\"circle\"},\"mode\":\"markers+lines\",\"name\":\"Phosphate rock\",\"orientation\":\"v\",\"showlegend\":true,\"x\":[2015,2016,2017,2018,2019],\"xaxis\":\"x\",\"y\":[0.0,0.0,0.0,0.0,0.0],\"yaxis\":\"y\",\"type\":\"scatter\"},{\"hovertemplate\":\"Item=Potassium chloride (muriate of potash) (MOP)<br>Year=%{x}<br>Value=%{y}<extra></extra>\",\"legendgroup\":\"Potassium chloride (muriate of potash) (MOP)\",\"line\":{\"color\":\"#19d3f3\",\"dash\":\"solid\"},\"marker\":{\"symbol\":\"circle\"},\"mode\":\"markers+lines\",\"name\":\"Potassium chloride (muriate of potash) (MOP)\",\"orientation\":\"v\",\"showlegend\":true,\"x\":[2015,2016,2017,2018,2019],\"xaxis\":\"x\",\"y\":[16419.0,18698.5,35171.0,32503.0,25989.0],\"yaxis\":\"y\",\"type\":\"scatter\"},{\"hovertemplate\":\"Item=Potassium nitrate<br>Year=%{x}<br>Value=%{y}<extra></extra>\",\"legendgroup\":\"Potassium nitrate\",\"line\":{\"color\":\"#FF6692\",\"dash\":\"solid\"},\"marker\":{\"symbol\":\"circle\"},\"mode\":\"markers+lines\",\"name\":\"Potassium nitrate\",\"orientation\":\"v\",\"showlegend\":true,\"x\":[2015,2016,2017,2018,2019],\"xaxis\":\"x\",\"y\":[0.0,0.0,0.0,0.0,0.0],\"yaxis\":\"y\",\"type\":\"scatter\"},{\"hovertemplate\":\"Item=Potassium sulphate (sulphate of potash) (SOP)<br>Year=%{x}<br>Value=%{y}<extra></extra>\",\"legendgroup\":\"Potassium sulphate (sulphate of potash) (SOP)\",\"line\":{\"color\":\"#B6E880\",\"dash\":\"solid\"},\"marker\":{\"symbol\":\"circle\"},\"mode\":\"markers+lines\",\"name\":\"Potassium sulphate (sulphate of potash) (SOP)\",\"orientation\":\"v\",\"showlegend\":true,\"x\":[2015,2016,2017,2018,2019],\"xaxis\":\"x\",\"y\":[7024.0,13454.5,45004.0,42352.0,37580.0],\"yaxis\":\"y\",\"type\":\"scatter\"},{\"hovertemplate\":\"Item=Sodium nitrate<br>Year=%{x}<br>Value=%{y}<extra></extra>\",\"legendgroup\":\"Sodium nitrate\",\"line\":{\"color\":\"#FF97FF\",\"dash\":\"solid\"},\"marker\":{\"symbol\":\"circle\"},\"mode\":\"markers+lines\",\"name\":\"Sodium nitrate\",\"orientation\":\"v\",\"showlegend\":true,\"x\":[2015,2016,2017,2018,2019],\"xaxis\":\"x\",\"y\":[0.0,0.0,0.0,0.0,0.0],\"yaxis\":\"y\",\"type\":\"scatter\"},{\"hovertemplate\":\"Item=Superphosphates above 35%<br>Year=%{x}<br>Value=%{y}<extra></extra>\",\"legendgroup\":\"Superphosphates above 35%\",\"line\":{\"color\":\"#FECB52\",\"dash\":\"solid\"},\"marker\":{\"symbol\":\"circle\"},\"mode\":\"markers+lines\",\"name\":\"Superphosphates above 35%\",\"orientation\":\"v\",\"showlegend\":true,\"x\":[2015,2016,2017,2018,2019],\"xaxis\":\"x\",\"y\":[0.0,0.0,0.0,0.0,0.0],\"yaxis\":\"y\",\"type\":\"scatter\"},{\"hovertemplate\":\"Item=Superphosphates, other<br>Year=%{x}<br>Value=%{y}<extra></extra>\",\"legendgroup\":\"Superphosphates, other\",\"line\":{\"color\":\"#636efa\",\"dash\":\"solid\"},\"marker\":{\"symbol\":\"circle\"},\"mode\":\"markers+lines\",\"name\":\"Superphosphates, other\",\"orientation\":\"v\",\"showlegend\":true,\"x\":[2015,2016,2017,2018,2019],\"xaxis\":\"x\",\"y\":[109069.0,91883.0,84928.0,106851.0,70147.0],\"yaxis\":\"y\",\"type\":\"scatter\"},{\"hovertemplate\":\"Item=Urea<br>Year=%{x}<br>Value=%{y}<extra></extra>\",\"legendgroup\":\"Urea\",\"line\":{\"color\":\"#EF553B\",\"dash\":\"solid\"},\"marker\":{\"symbol\":\"circle\"},\"mode\":\"markers+lines\",\"name\":\"Urea\",\"orientation\":\"v\",\"showlegend\":true,\"x\":[2015,2016,2017,2018,2019],\"xaxis\":\"x\",\"y\":[5596680.0,5501050.0,5797043.0,5811330.0,6231511.0],\"yaxis\":\"y\",\"type\":\"scatter\"},{\"hovertemplate\":\"Item=Urea and ammonium nitrate solutions (UAN)<br>Year=%{x}<br>Value=%{y}<extra></extra>\",\"legendgroup\":\"Urea and ammonium nitrate solutions (UAN)\",\"line\":{\"color\":\"#00cc96\",\"dash\":\"solid\"},\"marker\":{\"symbol\":\"circle\"},\"mode\":\"markers+lines\",\"name\":\"Urea and ammonium nitrate solutions (UAN)\",\"orientation\":\"v\",\"showlegend\":true,\"x\":[2015,2016,2017,2018,2019],\"xaxis\":\"x\",\"y\":[0.0,0.0,0.0,0.0,0.0],\"yaxis\":\"y\",\"type\":\"scatter\"}],                        {\"template\":{\"data\":{\"bar\":[{\"error_x\":{\"color\":\"#2a3f5f\"},\"error_y\":{\"color\":\"#2a3f5f\"},\"marker\":{\"line\":{\"color\":\"#E5ECF6\",\"width\":0.5},\"pattern\":{\"fillmode\":\"overlay\",\"size\":10,\"solidity\":0.2}},\"type\":\"bar\"}],\"barpolar\":[{\"marker\":{\"line\":{\"color\":\"#E5ECF6\",\"width\":0.5},\"pattern\":{\"fillmode\":\"overlay\",\"size\":10,\"solidity\":0.2}},\"type\":\"barpolar\"}],\"carpet\":[{\"aaxis\":{\"endlinecolor\":\"#2a3f5f\",\"gridcolor\":\"white\",\"linecolor\":\"white\",\"minorgridcolor\":\"white\",\"startlinecolor\":\"#2a3f5f\"},\"baxis\":{\"endlinecolor\":\"#2a3f5f\",\"gridcolor\":\"white\",\"linecolor\":\"white\",\"minorgridcolor\":\"white\",\"startlinecolor\":\"#2a3f5f\"},\"type\":\"carpet\"}],\"choropleth\":[{\"colorbar\":{\"outlinewidth\":0,\"ticks\":\"\"},\"type\":\"choropleth\"}],\"contour\":[{\"colorbar\":{\"outlinewidth\":0,\"ticks\":\"\"},\"colorscale\":[[0.0,\"#0d0887\"],[0.1111111111111111,\"#46039f\"],[0.2222222222222222,\"#7201a8\"],[0.3333333333333333,\"#9c179e\"],[0.4444444444444444,\"#bd3786\"],[0.5555555555555556,\"#d8576b\"],[0.6666666666666666,\"#ed7953\"],[0.7777777777777778,\"#fb9f3a\"],[0.8888888888888888,\"#fdca26\"],[1.0,\"#f0f921\"]],\"type\":\"contour\"}],\"contourcarpet\":[{\"colorbar\":{\"outlinewidth\":0,\"ticks\":\"\"},\"type\":\"contourcarpet\"}],\"heatmap\":[{\"colorbar\":{\"outlinewidth\":0,\"ticks\":\"\"},\"colorscale\":[[0.0,\"#0d0887\"],[0.1111111111111111,\"#46039f\"],[0.2222222222222222,\"#7201a8\"],[0.3333333333333333,\"#9c179e\"],[0.4444444444444444,\"#bd3786\"],[0.5555555555555556,\"#d8576b\"],[0.6666666666666666,\"#ed7953\"],[0.7777777777777778,\"#fb9f3a\"],[0.8888888888888888,\"#fdca26\"],[1.0,\"#f0f921\"]],\"type\":\"heatmap\"}],\"heatmapgl\":[{\"colorbar\":{\"outlinewidth\":0,\"ticks\":\"\"},\"colorscale\":[[0.0,\"#0d0887\"],[0.1111111111111111,\"#46039f\"],[0.2222222222222222,\"#7201a8\"],[0.3333333333333333,\"#9c179e\"],[0.4444444444444444,\"#bd3786\"],[0.5555555555555556,\"#d8576b\"],[0.6666666666666666,\"#ed7953\"],[0.7777777777777778,\"#fb9f3a\"],[0.8888888888888888,\"#fdca26\"],[1.0,\"#f0f921\"]],\"type\":\"heatmapgl\"}],\"histogram\":[{\"marker\":{\"pattern\":{\"fillmode\":\"overlay\",\"size\":10,\"solidity\":0.2}},\"type\":\"histogram\"}],\"histogram2d\":[{\"colorbar\":{\"outlinewidth\":0,\"ticks\":\"\"},\"colorscale\":[[0.0,\"#0d0887\"],[0.1111111111111111,\"#46039f\"],[0.2222222222222222,\"#7201a8\"],[0.3333333333333333,\"#9c179e\"],[0.4444444444444444,\"#bd3786\"],[0.5555555555555556,\"#d8576b\"],[0.6666666666666666,\"#ed7953\"],[0.7777777777777778,\"#fb9f3a\"],[0.8888888888888888,\"#fdca26\"],[1.0,\"#f0f921\"]],\"type\":\"histogram2d\"}],\"histogram2dcontour\":[{\"colorbar\":{\"outlinewidth\":0,\"ticks\":\"\"},\"colorscale\":[[0.0,\"#0d0887\"],[0.1111111111111111,\"#46039f\"],[0.2222222222222222,\"#7201a8\"],[0.3333333333333333,\"#9c179e\"],[0.4444444444444444,\"#bd3786\"],[0.5555555555555556,\"#d8576b\"],[0.6666666666666666,\"#ed7953\"],[0.7777777777777778,\"#fb9f3a\"],[0.8888888888888888,\"#fdca26\"],[1.0,\"#f0f921\"]],\"type\":\"histogram2dcontour\"}],\"mesh3d\":[{\"colorbar\":{\"outlinewidth\":0,\"ticks\":\"\"},\"type\":\"mesh3d\"}],\"parcoords\":[{\"line\":{\"colorbar\":{\"outlinewidth\":0,\"ticks\":\"\"}},\"type\":\"parcoords\"}],\"pie\":[{\"automargin\":true,\"type\":\"pie\"}],\"scatter\":[{\"marker\":{\"colorbar\":{\"outlinewidth\":0,\"ticks\":\"\"}},\"type\":\"scatter\"}],\"scatter3d\":[{\"line\":{\"colorbar\":{\"outlinewidth\":0,\"ticks\":\"\"}},\"marker\":{\"colorbar\":{\"outlinewidth\":0,\"ticks\":\"\"}},\"type\":\"scatter3d\"}],\"scattercarpet\":[{\"marker\":{\"colorbar\":{\"outlinewidth\":0,\"ticks\":\"\"}},\"type\":\"scattercarpet\"}],\"scattergeo\":[{\"marker\":{\"colorbar\":{\"outlinewidth\":0,\"ticks\":\"\"}},\"type\":\"scattergeo\"}],\"scattergl\":[{\"marker\":{\"colorbar\":{\"outlinewidth\":0,\"ticks\":\"\"}},\"type\":\"scattergl\"}],\"scattermapbox\":[{\"marker\":{\"colorbar\":{\"outlinewidth\":0,\"ticks\":\"\"}},\"type\":\"scattermapbox\"}],\"scatterpolar\":[{\"marker\":{\"colorbar\":{\"outlinewidth\":0,\"ticks\":\"\"}},\"type\":\"scatterpolar\"}],\"scatterpolargl\":[{\"marker\":{\"colorbar\":{\"outlinewidth\":0,\"ticks\":\"\"}},\"type\":\"scatterpolargl\"}],\"scatterternary\":[{\"marker\":{\"colorbar\":{\"outlinewidth\":0,\"ticks\":\"\"}},\"type\":\"scatterternary\"}],\"surface\":[{\"colorbar\":{\"outlinewidth\":0,\"ticks\":\"\"},\"colorscale\":[[0.0,\"#0d0887\"],[0.1111111111111111,\"#46039f\"],[0.2222222222222222,\"#7201a8\"],[0.3333333333333333,\"#9c179e\"],[0.4444444444444444,\"#bd3786\"],[0.5555555555555556,\"#d8576b\"],[0.6666666666666666,\"#ed7953\"],[0.7777777777777778,\"#fb9f3a\"],[0.8888888888888888,\"#fdca26\"],[1.0,\"#f0f921\"]],\"type\":\"surface\"}],\"table\":[{\"cells\":{\"fill\":{\"color\":\"#EBF0F8\"},\"line\":{\"color\":\"white\"}},\"header\":{\"fill\":{\"color\":\"#C8D4E3\"},\"line\":{\"color\":\"white\"}},\"type\":\"table\"}]},\"layout\":{\"annotationdefaults\":{\"arrowcolor\":\"#2a3f5f\",\"arrowhead\":0,\"arrowwidth\":1},\"autotypenumbers\":\"strict\",\"coloraxis\":{\"colorbar\":{\"outlinewidth\":0,\"ticks\":\"\"}},\"colorscale\":{\"diverging\":[[0,\"#8e0152\"],[0.1,\"#c51b7d\"],[0.2,\"#de77ae\"],[0.3,\"#f1b6da\"],[0.4,\"#fde0ef\"],[0.5,\"#f7f7f7\"],[0.6,\"#e6f5d0\"],[0.7,\"#b8e186\"],[0.8,\"#7fbc41\"],[0.9,\"#4d9221\"],[1,\"#276419\"]],\"sequential\":[[0.0,\"#0d0887\"],[0.1111111111111111,\"#46039f\"],[0.2222222222222222,\"#7201a8\"],[0.3333333333333333,\"#9c179e\"],[0.4444444444444444,\"#bd3786\"],[0.5555555555555556,\"#d8576b\"],[0.6666666666666666,\"#ed7953\"],[0.7777777777777778,\"#fb9f3a\"],[0.8888888888888888,\"#fdca26\"],[1.0,\"#f0f921\"]],\"sequentialminus\":[[0.0,\"#0d0887\"],[0.1111111111111111,\"#46039f\"],[0.2222222222222222,\"#7201a8\"],[0.3333333333333333,\"#9c179e\"],[0.4444444444444444,\"#bd3786\"],[0.5555555555555556,\"#d8576b\"],[0.6666666666666666,\"#ed7953\"],[0.7777777777777778,\"#fb9f3a\"],[0.8888888888888888,\"#fdca26\"],[1.0,\"#f0f921\"]]},\"colorway\":[\"#636efa\",\"#EF553B\",\"#00cc96\",\"#ab63fa\",\"#FFA15A\",\"#19d3f3\",\"#FF6692\",\"#B6E880\",\"#FF97FF\",\"#FECB52\"],\"font\":{\"color\":\"#2a3f5f\"},\"geo\":{\"bgcolor\":\"white\",\"lakecolor\":\"white\",\"landcolor\":\"#E5ECF6\",\"showlakes\":true,\"showland\":true,\"subunitcolor\":\"white\"},\"hoverlabel\":{\"align\":\"left\"},\"hovermode\":\"closest\",\"mapbox\":{\"style\":\"light\"},\"paper_bgcolor\":\"white\",\"plot_bgcolor\":\"#E5ECF6\",\"polar\":{\"angularaxis\":{\"gridcolor\":\"white\",\"linecolor\":\"white\",\"ticks\":\"\"},\"bgcolor\":\"#E5ECF6\",\"radialaxis\":{\"gridcolor\":\"white\",\"linecolor\":\"white\",\"ticks\":\"\"}},\"scene\":{\"xaxis\":{\"backgroundcolor\":\"#E5ECF6\",\"gridcolor\":\"white\",\"gridwidth\":2,\"linecolor\":\"white\",\"showbackground\":true,\"ticks\":\"\",\"zerolinecolor\":\"white\"},\"yaxis\":{\"backgroundcolor\":\"#E5ECF6\",\"gridcolor\":\"white\",\"gridwidth\":2,\"linecolor\":\"white\",\"showbackground\":true,\"ticks\":\"\",\"zerolinecolor\":\"white\"},\"zaxis\":{\"backgroundcolor\":\"#E5ECF6\",\"gridcolor\":\"white\",\"gridwidth\":2,\"linecolor\":\"white\",\"showbackground\":true,\"ticks\":\"\",\"zerolinecolor\":\"white\"}},\"shapedefaults\":{\"line\":{\"color\":\"#2a3f5f\"}},\"ternary\":{\"aaxis\":{\"gridcolor\":\"white\",\"linecolor\":\"white\",\"ticks\":\"\"},\"baxis\":{\"gridcolor\":\"white\",\"linecolor\":\"white\",\"ticks\":\"\"},\"bgcolor\":\"#E5ECF6\",\"caxis\":{\"gridcolor\":\"white\",\"linecolor\":\"white\",\"ticks\":\"\"}},\"title\":{\"x\":0.05},\"xaxis\":{\"automargin\":true,\"gridcolor\":\"white\",\"linecolor\":\"white\",\"ticks\":\"\",\"title\":{\"standoff\":15},\"zerolinecolor\":\"white\",\"zerolinewidth\":2},\"yaxis\":{\"automargin\":true,\"gridcolor\":\"white\",\"linecolor\":\"white\",\"ticks\":\"\",\"title\":{\"standoff\":15},\"zerolinecolor\":\"white\",\"zerolinewidth\":2}}},\"xaxis\":{\"anchor\":\"y\",\"domain\":[0.0,1.0],\"title\":{\"text\":\"Year\"}},\"yaxis\":{\"anchor\":\"x\",\"domain\":[0.0,1.0],\"title\":{\"text\":\"Value\"}},\"legend\":{\"title\":{\"text\":\"Item\"},\"tracegroupgap\":0},\"title\":{\"text\":\"Pakistan\"}},                        {\"responsive\": true}                    ).then(function(){\n",
              "                            \n",
              "var gd = document.getElementById('13ffb7b6-abb6-46ab-9bdb-4c7c6822fcee');\n",
              "var x = new MutationObserver(function (mutations, observer) {{\n",
              "        var display = window.getComputedStyle(gd).display;\n",
              "        if (!display || display === 'none') {{\n",
              "            console.log([gd, 'removed!']);\n",
              "            Plotly.purge(gd);\n",
              "            observer.disconnect();\n",
              "        }}\n",
              "}});\n",
              "\n",
              "// Listen for the removal of the full notebook cells\n",
              "var notebookContainer = gd.closest('#notebook-container');\n",
              "if (notebookContainer) {{\n",
              "    x.observe(notebookContainer, {childList: true});\n",
              "}}\n",
              "\n",
              "// Listen for the clearing of the current output cell\n",
              "var outputEl = gd.closest('.output');\n",
              "if (outputEl) {{\n",
              "    x.observe(outputEl, {childList: true});\n",
              "}}\n",
              "\n",
              "                        })                };                            </script>        </div>\n",
              "</body>\n",
              "</html>"
            ]
          },
          "metadata": {}
        },
        {
          "output_type": "display_data",
          "data": {
            "text/html": [
              "<html>\n",
              "<head><meta charset=\"utf-8\" /></head>\n",
              "<body>\n",
              "    <div>            <script src=\"https://cdnjs.cloudflare.com/ajax/libs/mathjax/2.7.5/MathJax.js?config=TeX-AMS-MML_SVG\"></script><script type=\"text/javascript\">if (window.MathJax) {MathJax.Hub.Config({SVG: {font: \"STIX-Web\"}});}</script>                <script type=\"text/javascript\">window.PlotlyConfig = {MathJaxConfig: 'local'};</script>\n",
              "        <script src=\"https://cdn.plot.ly/plotly-2.8.3.min.js\"></script>                <div id=\"d3bc2d59-76dd-4c7c-96c2-6d16edb3b3fc\" class=\"plotly-graph-div\" style=\"height:525px; width:100%;\"></div>            <script type=\"text/javascript\">                                    window.PLOTLYENV=window.PLOTLYENV || {};                                    if (document.getElementById(\"d3bc2d59-76dd-4c7c-96c2-6d16edb3b3fc\")) {                    Plotly.newPlot(                        \"d3bc2d59-76dd-4c7c-96c2-6d16edb3b3fc\",                        [{\"hovertemplate\":\"Item=Ammonia, anhydrous<br>Year=%{x}<br>Value=%{y}<extra></extra>\",\"legendgroup\":\"Ammonia, anhydrous\",\"line\":{\"color\":\"#636efa\",\"dash\":\"solid\"},\"marker\":{\"symbol\":\"circle\"},\"mode\":\"markers+lines\",\"name\":\"Ammonia, anhydrous\",\"orientation\":\"v\",\"showlegend\":true,\"x\":[2015,2016],\"xaxis\":\"x\",\"y\":[0.0,0.0],\"yaxis\":\"y\",\"type\":\"scatter\"},{\"hovertemplate\":\"Item=Ammonium nitrate (AN)<br>Year=%{x}<br>Value=%{y}<extra></extra>\",\"legendgroup\":\"Ammonium nitrate (AN)\",\"line\":{\"color\":\"#EF553B\",\"dash\":\"solid\"},\"marker\":{\"symbol\":\"circle\"},\"mode\":\"markers+lines\",\"name\":\"Ammonium nitrate (AN)\",\"orientation\":\"v\",\"showlegend\":true,\"x\":[2015,2016,2017,2018],\"xaxis\":\"x\",\"y\":[488270.0,2058964.0,4529720.0,3773159.43],\"yaxis\":\"y\",\"type\":\"scatter\"},{\"hovertemplate\":\"Item=Ammonium sulphate<br>Year=%{x}<br>Value=%{y}<extra></extra>\",\"legendgroup\":\"Ammonium sulphate\",\"line\":{\"color\":\"#00cc96\",\"dash\":\"solid\"},\"marker\":{\"symbol\":\"circle\"},\"mode\":\"markers+lines\",\"name\":\"Ammonium sulphate\",\"orientation\":\"v\",\"showlegend\":true,\"x\":[2015,2016,2017,2018],\"xaxis\":\"x\",\"y\":[80776.0,1037.0,1000.0,0.96],\"yaxis\":\"y\",\"type\":\"scatter\"},{\"hovertemplate\":\"Item=Diammonium phosphate (DAP)<br>Year=%{x}<br>Value=%{y}<extra></extra>\",\"legendgroup\":\"Diammonium phosphate (DAP)\",\"line\":{\"color\":\"#ab63fa\",\"dash\":\"solid\"},\"marker\":{\"symbol\":\"circle\"},\"mode\":\"markers+lines\",\"name\":\"Diammonium phosphate (DAP)\",\"orientation\":\"v\",\"showlegend\":true,\"x\":[2015,2016],\"xaxis\":\"x\",\"y\":[18000.0,18000.0],\"yaxis\":\"y\",\"type\":\"scatter\"},{\"hovertemplate\":\"Item=NPK fertilizers<br>Year=%{x}<br>Value=%{y}<extra></extra>\",\"legendgroup\":\"NPK fertilizers\",\"line\":{\"color\":\"#FFA15A\",\"dash\":\"solid\"},\"marker\":{\"symbol\":\"circle\"},\"mode\":\"markers+lines\",\"name\":\"NPK fertilizers\",\"orientation\":\"v\",\"showlegend\":true,\"x\":[2015,2016],\"xaxis\":\"x\",\"y\":[400000.0,400000.0],\"yaxis\":\"y\",\"type\":\"scatter\"},{\"hovertemplate\":\"Item=Other phosphatic fertilizers, n.e.c.<br>Year=%{x}<br>Value=%{y}<extra></extra>\",\"legendgroup\":\"Other phosphatic fertilizers, n.e.c.\",\"line\":{\"color\":\"#19d3f3\",\"dash\":\"solid\"},\"marker\":{\"symbol\":\"circle\"},\"mode\":\"markers+lines\",\"name\":\"Other phosphatic fertilizers, n.e.c.\",\"orientation\":\"v\",\"showlegend\":true,\"x\":[2015,2016],\"xaxis\":\"x\",\"y\":[5000.0,5000.0],\"yaxis\":\"y\",\"type\":\"scatter\"},{\"hovertemplate\":\"Item=Phosphate rock<br>Year=%{x}<br>Value=%{y}<extra></extra>\",\"legendgroup\":\"Phosphate rock\",\"line\":{\"color\":\"#FF6692\",\"dash\":\"solid\"},\"marker\":{\"symbol\":\"circle\"},\"mode\":\"markers+lines\",\"name\":\"Phosphate rock\",\"orientation\":\"v\",\"showlegend\":true,\"x\":[2015,2016],\"xaxis\":\"x\",\"y\":[0.0,0.0],\"yaxis\":\"y\",\"type\":\"scatter\"},{\"hovertemplate\":\"Item=Potassium chloride (muriate of potash) (MOP)<br>Year=%{x}<br>Value=%{y}<extra></extra>\",\"legendgroup\":\"Potassium chloride (muriate of potash) (MOP)\",\"line\":{\"color\":\"#B6E880\",\"dash\":\"solid\"},\"marker\":{\"symbol\":\"circle\"},\"mode\":\"markers+lines\",\"name\":\"Potassium chloride (muriate of potash) (MOP)\",\"orientation\":\"v\",\"showlegend\":true,\"x\":[2015,2016,2017,2018],\"xaxis\":\"x\",\"y\":[10700.0,3050.0,7630.55,12211.1],\"yaxis\":\"y\",\"type\":\"scatter\"},{\"hovertemplate\":\"Item=Potassium sulphate (sulphate of potash) (SOP)<br>Year=%{x}<br>Value=%{y}<extra></extra>\",\"legendgroup\":\"Potassium sulphate (sulphate of potash) (SOP)\",\"line\":{\"color\":\"#FF97FF\",\"dash\":\"solid\"},\"marker\":{\"symbol\":\"circle\"},\"mode\":\"markers+lines\",\"name\":\"Potassium sulphate (sulphate of potash) (SOP)\",\"orientation\":\"v\",\"showlegend\":true,\"x\":[2015,2016,2017,2018],\"xaxis\":\"x\",\"y\":[94201.0,68548.0,38089.27,20630.55],\"yaxis\":\"y\",\"type\":\"scatter\"},{\"hovertemplate\":\"Item=Superphosphates above 35%<br>Year=%{x}<br>Value=%{y}<extra></extra>\",\"legendgroup\":\"Superphosphates above 35%\",\"line\":{\"color\":\"#FECB52\",\"dash\":\"solid\"},\"marker\":{\"symbol\":\"circle\"},\"mode\":\"markers+lines\",\"name\":\"Superphosphates above 35%\",\"orientation\":\"v\",\"showlegend\":true,\"x\":[2015,2016,2017,2018],\"xaxis\":\"x\",\"y\":[76535.0,12999.0,2210.0,0.42],\"yaxis\":\"y\",\"type\":\"scatter\"},{\"hovertemplate\":\"Item=Superphosphates, other<br>Year=%{x}<br>Value=%{y}<extra></extra>\",\"legendgroup\":\"Superphosphates, other\",\"line\":{\"color\":\"#636efa\",\"dash\":\"solid\"},\"marker\":{\"symbol\":\"circle\"},\"mode\":\"markers+lines\",\"name\":\"Superphosphates, other\",\"orientation\":\"v\",\"showlegend\":true,\"x\":[2015,2016,2017,2018],\"xaxis\":\"x\",\"y\":[1331192.0,786224.0,436872.0,87520.0],\"yaxis\":\"y\",\"type\":\"scatter\"},{\"hovertemplate\":\"Item=Urea<br>Year=%{x}<br>Value=%{y}<extra></extra>\",\"legendgroup\":\"Urea\",\"line\":{\"color\":\"#EF553B\",\"dash\":\"solid\"},\"marker\":{\"symbol\":\"circle\"},\"mode\":\"markers+lines\",\"name\":\"Urea\",\"orientation\":\"v\",\"showlegend\":true,\"x\":[2015,2016,2017,2018],\"xaxis\":\"x\",\"y\":[1110321.0,3950265.0,14418467.0,8757969.81],\"yaxis\":\"y\",\"type\":\"scatter\"}],                        {\"template\":{\"data\":{\"bar\":[{\"error_x\":{\"color\":\"#2a3f5f\"},\"error_y\":{\"color\":\"#2a3f5f\"},\"marker\":{\"line\":{\"color\":\"#E5ECF6\",\"width\":0.5},\"pattern\":{\"fillmode\":\"overlay\",\"size\":10,\"solidity\":0.2}},\"type\":\"bar\"}],\"barpolar\":[{\"marker\":{\"line\":{\"color\":\"#E5ECF6\",\"width\":0.5},\"pattern\":{\"fillmode\":\"overlay\",\"size\":10,\"solidity\":0.2}},\"type\":\"barpolar\"}],\"carpet\":[{\"aaxis\":{\"endlinecolor\":\"#2a3f5f\",\"gridcolor\":\"white\",\"linecolor\":\"white\",\"minorgridcolor\":\"white\",\"startlinecolor\":\"#2a3f5f\"},\"baxis\":{\"endlinecolor\":\"#2a3f5f\",\"gridcolor\":\"white\",\"linecolor\":\"white\",\"minorgridcolor\":\"white\",\"startlinecolor\":\"#2a3f5f\"},\"type\":\"carpet\"}],\"choropleth\":[{\"colorbar\":{\"outlinewidth\":0,\"ticks\":\"\"},\"type\":\"choropleth\"}],\"contour\":[{\"colorbar\":{\"outlinewidth\":0,\"ticks\":\"\"},\"colorscale\":[[0.0,\"#0d0887\"],[0.1111111111111111,\"#46039f\"],[0.2222222222222222,\"#7201a8\"],[0.3333333333333333,\"#9c179e\"],[0.4444444444444444,\"#bd3786\"],[0.5555555555555556,\"#d8576b\"],[0.6666666666666666,\"#ed7953\"],[0.7777777777777778,\"#fb9f3a\"],[0.8888888888888888,\"#fdca26\"],[1.0,\"#f0f921\"]],\"type\":\"contour\"}],\"contourcarpet\":[{\"colorbar\":{\"outlinewidth\":0,\"ticks\":\"\"},\"type\":\"contourcarpet\"}],\"heatmap\":[{\"colorbar\":{\"outlinewidth\":0,\"ticks\":\"\"},\"colorscale\":[[0.0,\"#0d0887\"],[0.1111111111111111,\"#46039f\"],[0.2222222222222222,\"#7201a8\"],[0.3333333333333333,\"#9c179e\"],[0.4444444444444444,\"#bd3786\"],[0.5555555555555556,\"#d8576b\"],[0.6666666666666666,\"#ed7953\"],[0.7777777777777778,\"#fb9f3a\"],[0.8888888888888888,\"#fdca26\"],[1.0,\"#f0f921\"]],\"type\":\"heatmap\"}],\"heatmapgl\":[{\"colorbar\":{\"outlinewidth\":0,\"ticks\":\"\"},\"colorscale\":[[0.0,\"#0d0887\"],[0.1111111111111111,\"#46039f\"],[0.2222222222222222,\"#7201a8\"],[0.3333333333333333,\"#9c179e\"],[0.4444444444444444,\"#bd3786\"],[0.5555555555555556,\"#d8576b\"],[0.6666666666666666,\"#ed7953\"],[0.7777777777777778,\"#fb9f3a\"],[0.8888888888888888,\"#fdca26\"],[1.0,\"#f0f921\"]],\"type\":\"heatmapgl\"}],\"histogram\":[{\"marker\":{\"pattern\":{\"fillmode\":\"overlay\",\"size\":10,\"solidity\":0.2}},\"type\":\"histogram\"}],\"histogram2d\":[{\"colorbar\":{\"outlinewidth\":0,\"ticks\":\"\"},\"colorscale\":[[0.0,\"#0d0887\"],[0.1111111111111111,\"#46039f\"],[0.2222222222222222,\"#7201a8\"],[0.3333333333333333,\"#9c179e\"],[0.4444444444444444,\"#bd3786\"],[0.5555555555555556,\"#d8576b\"],[0.6666666666666666,\"#ed7953\"],[0.7777777777777778,\"#fb9f3a\"],[0.8888888888888888,\"#fdca26\"],[1.0,\"#f0f921\"]],\"type\":\"histogram2d\"}],\"histogram2dcontour\":[{\"colorbar\":{\"outlinewidth\":0,\"ticks\":\"\"},\"colorscale\":[[0.0,\"#0d0887\"],[0.1111111111111111,\"#46039f\"],[0.2222222222222222,\"#7201a8\"],[0.3333333333333333,\"#9c179e\"],[0.4444444444444444,\"#bd3786\"],[0.5555555555555556,\"#d8576b\"],[0.6666666666666666,\"#ed7953\"],[0.7777777777777778,\"#fb9f3a\"],[0.8888888888888888,\"#fdca26\"],[1.0,\"#f0f921\"]],\"type\":\"histogram2dcontour\"}],\"mesh3d\":[{\"colorbar\":{\"outlinewidth\":0,\"ticks\":\"\"},\"type\":\"mesh3d\"}],\"parcoords\":[{\"line\":{\"colorbar\":{\"outlinewidth\":0,\"ticks\":\"\"}},\"type\":\"parcoords\"}],\"pie\":[{\"automargin\":true,\"type\":\"pie\"}],\"scatter\":[{\"marker\":{\"colorbar\":{\"outlinewidth\":0,\"ticks\":\"\"}},\"type\":\"scatter\"}],\"scatter3d\":[{\"line\":{\"colorbar\":{\"outlinewidth\":0,\"ticks\":\"\"}},\"marker\":{\"colorbar\":{\"outlinewidth\":0,\"ticks\":\"\"}},\"type\":\"scatter3d\"}],\"scattercarpet\":[{\"marker\":{\"colorbar\":{\"outlinewidth\":0,\"ticks\":\"\"}},\"type\":\"scattercarpet\"}],\"scattergeo\":[{\"marker\":{\"colorbar\":{\"outlinewidth\":0,\"ticks\":\"\"}},\"type\":\"scattergeo\"}],\"scattergl\":[{\"marker\":{\"colorbar\":{\"outlinewidth\":0,\"ticks\":\"\"}},\"type\":\"scattergl\"}],\"scattermapbox\":[{\"marker\":{\"colorbar\":{\"outlinewidth\":0,\"ticks\":\"\"}},\"type\":\"scattermapbox\"}],\"scatterpolar\":[{\"marker\":{\"colorbar\":{\"outlinewidth\":0,\"ticks\":\"\"}},\"type\":\"scatterpolar\"}],\"scatterpolargl\":[{\"marker\":{\"colorbar\":{\"outlinewidth\":0,\"ticks\":\"\"}},\"type\":\"scatterpolargl\"}],\"scatterternary\":[{\"marker\":{\"colorbar\":{\"outlinewidth\":0,\"ticks\":\"\"}},\"type\":\"scatterternary\"}],\"surface\":[{\"colorbar\":{\"outlinewidth\":0,\"ticks\":\"\"},\"colorscale\":[[0.0,\"#0d0887\"],[0.1111111111111111,\"#46039f\"],[0.2222222222222222,\"#7201a8\"],[0.3333333333333333,\"#9c179e\"],[0.4444444444444444,\"#bd3786\"],[0.5555555555555556,\"#d8576b\"],[0.6666666666666666,\"#ed7953\"],[0.7777777777777778,\"#fb9f3a\"],[0.8888888888888888,\"#fdca26\"],[1.0,\"#f0f921\"]],\"type\":\"surface\"}],\"table\":[{\"cells\":{\"fill\":{\"color\":\"#EBF0F8\"},\"line\":{\"color\":\"white\"}},\"header\":{\"fill\":{\"color\":\"#C8D4E3\"},\"line\":{\"color\":\"white\"}},\"type\":\"table\"}]},\"layout\":{\"annotationdefaults\":{\"arrowcolor\":\"#2a3f5f\",\"arrowhead\":0,\"arrowwidth\":1},\"autotypenumbers\":\"strict\",\"coloraxis\":{\"colorbar\":{\"outlinewidth\":0,\"ticks\":\"\"}},\"colorscale\":{\"diverging\":[[0,\"#8e0152\"],[0.1,\"#c51b7d\"],[0.2,\"#de77ae\"],[0.3,\"#f1b6da\"],[0.4,\"#fde0ef\"],[0.5,\"#f7f7f7\"],[0.6,\"#e6f5d0\"],[0.7,\"#b8e186\"],[0.8,\"#7fbc41\"],[0.9,\"#4d9221\"],[1,\"#276419\"]],\"sequential\":[[0.0,\"#0d0887\"],[0.1111111111111111,\"#46039f\"],[0.2222222222222222,\"#7201a8\"],[0.3333333333333333,\"#9c179e\"],[0.4444444444444444,\"#bd3786\"],[0.5555555555555556,\"#d8576b\"],[0.6666666666666666,\"#ed7953\"],[0.7777777777777778,\"#fb9f3a\"],[0.8888888888888888,\"#fdca26\"],[1.0,\"#f0f921\"]],\"sequentialminus\":[[0.0,\"#0d0887\"],[0.1111111111111111,\"#46039f\"],[0.2222222222222222,\"#7201a8\"],[0.3333333333333333,\"#9c179e\"],[0.4444444444444444,\"#bd3786\"],[0.5555555555555556,\"#d8576b\"],[0.6666666666666666,\"#ed7953\"],[0.7777777777777778,\"#fb9f3a\"],[0.8888888888888888,\"#fdca26\"],[1.0,\"#f0f921\"]]},\"colorway\":[\"#636efa\",\"#EF553B\",\"#00cc96\",\"#ab63fa\",\"#FFA15A\",\"#19d3f3\",\"#FF6692\",\"#B6E880\",\"#FF97FF\",\"#FECB52\"],\"font\":{\"color\":\"#2a3f5f\"},\"geo\":{\"bgcolor\":\"white\",\"lakecolor\":\"white\",\"landcolor\":\"#E5ECF6\",\"showlakes\":true,\"showland\":true,\"subunitcolor\":\"white\"},\"hoverlabel\":{\"align\":\"left\"},\"hovermode\":\"closest\",\"mapbox\":{\"style\":\"light\"},\"paper_bgcolor\":\"white\",\"plot_bgcolor\":\"#E5ECF6\",\"polar\":{\"angularaxis\":{\"gridcolor\":\"white\",\"linecolor\":\"white\",\"ticks\":\"\"},\"bgcolor\":\"#E5ECF6\",\"radialaxis\":{\"gridcolor\":\"white\",\"linecolor\":\"white\",\"ticks\":\"\"}},\"scene\":{\"xaxis\":{\"backgroundcolor\":\"#E5ECF6\",\"gridcolor\":\"white\",\"gridwidth\":2,\"linecolor\":\"white\",\"showbackground\":true,\"ticks\":\"\",\"zerolinecolor\":\"white\"},\"yaxis\":{\"backgroundcolor\":\"#E5ECF6\",\"gridcolor\":\"white\",\"gridwidth\":2,\"linecolor\":\"white\",\"showbackground\":true,\"ticks\":\"\",\"zerolinecolor\":\"white\"},\"zaxis\":{\"backgroundcolor\":\"#E5ECF6\",\"gridcolor\":\"white\",\"gridwidth\":2,\"linecolor\":\"white\",\"showbackground\":true,\"ticks\":\"\",\"zerolinecolor\":\"white\"}},\"shapedefaults\":{\"line\":{\"color\":\"#2a3f5f\"}},\"ternary\":{\"aaxis\":{\"gridcolor\":\"white\",\"linecolor\":\"white\",\"ticks\":\"\"},\"baxis\":{\"gridcolor\":\"white\",\"linecolor\":\"white\",\"ticks\":\"\"},\"bgcolor\":\"#E5ECF6\",\"caxis\":{\"gridcolor\":\"white\",\"linecolor\":\"white\",\"ticks\":\"\"}},\"title\":{\"x\":0.05},\"xaxis\":{\"automargin\":true,\"gridcolor\":\"white\",\"linecolor\":\"white\",\"ticks\":\"\",\"title\":{\"standoff\":15},\"zerolinecolor\":\"white\",\"zerolinewidth\":2},\"yaxis\":{\"automargin\":true,\"gridcolor\":\"white\",\"linecolor\":\"white\",\"ticks\":\"\",\"title\":{\"standoff\":15},\"zerolinecolor\":\"white\",\"zerolinewidth\":2}}},\"xaxis\":{\"anchor\":\"y\",\"domain\":[0.0,1.0],\"title\":{\"text\":\"Year\"}},\"yaxis\":{\"anchor\":\"x\",\"domain\":[0.0,1.0],\"title\":{\"text\":\"Value\"}},\"legend\":{\"title\":{\"text\":\"Item\"},\"tracegroupgap\":0},\"title\":{\"text\":\"Egypt\"}},                        {\"responsive\": true}                    ).then(function(){\n",
              "                            \n",
              "var gd = document.getElementById('d3bc2d59-76dd-4c7c-96c2-6d16edb3b3fc');\n",
              "var x = new MutationObserver(function (mutations, observer) {{\n",
              "        var display = window.getComputedStyle(gd).display;\n",
              "        if (!display || display === 'none') {{\n",
              "            console.log([gd, 'removed!']);\n",
              "            Plotly.purge(gd);\n",
              "            observer.disconnect();\n",
              "        }}\n",
              "}});\n",
              "\n",
              "// Listen for the removal of the full notebook cells\n",
              "var notebookContainer = gd.closest('#notebook-container');\n",
              "if (notebookContainer) {{\n",
              "    x.observe(notebookContainer, {childList: true});\n",
              "}}\n",
              "\n",
              "// Listen for the clearing of the current output cell\n",
              "var outputEl = gd.closest('.output');\n",
              "if (outputEl) {{\n",
              "    x.observe(outputEl, {childList: true});\n",
              "}}\n",
              "\n",
              "                        })                };                            </script>        </div>\n",
              "</body>\n",
              "</html>"
            ]
          },
          "metadata": {}
        }
      ],
      "source": [
        "for i in list_6:\n",
        "  data_6=df.query(\"Element=='Agricultural Use'\").groupby(['Area','Year','Item'])['Value'].sum().reset_index()\n",
        "  fig = px.line(data_6.loc[data_6['Area'].isin([i])], x='Year', y='Value', color='Item', markers=True,title=i)\n",
        "  fig.show()"
      ]
    },
    {
      "cell_type": "markdown",
      "source": [
        "Больше всего используют в с/х следующие удобрения:\n",
        "- ***Индия:*** Urea (Мочевина), в 2015г активно использовали Ammonium sulphate (сульфат аммония), но далее идет резкий спад его использования. Далее по использованию идет Diammonium phosphate (DAP) (Диаммоний фосфат).\n",
        "- ***США:*** активнее всего использует Urea and ammonium nitrate solutions (UAN) (Удобрения аммиачно-нитратные). На одном уровне используют NPK fertilizers (комплексные удобрения), Urea (Мочевина), Potassium chloride (muriate of potash) (MOP) (Хлорид Калия).\n",
        "- ***Индонезия:***Urea (Мочевина),к 2019 происходит небольшой спад его использования, далее на втором месте NPK fertilizers (комплексные удобрения),  далее на одно уровне используют Ammonium sulphate (сульфат аммония) и Superphosphates above 35% (суперфосфат)\n",
        "- ***Пакистан:*** по использованию лидирует Urea (Мочевина), далее Diammonium phosphate (DAP) (Диаммоний фосфат).\n",
        "- ***Египет:*** Urea (Мочевина) - резкий скачок использования произошел в 2017 году, в 2018 снова произошел спад, далее Ammonium nitrate (AN) (амиачная селитра)"
      ],
      "metadata": {
        "id": "CujvhbDW6iRL"
      }
    },
    {
      "cell_type": "markdown",
      "source": [
        "## **Общие выводы к исследованию**"
      ],
      "metadata": {
        "id": "RcsxeFI9Ghic"
      }
    },
    {
      "cell_type": "markdown",
      "source": [
        "Проанализировав данные с открытой базы данных сайта ФАО (Продовольственная и сельскохозяйственная организация ООН) во временной отрезок с 2015 по 2019 г было выявлено:\n",
        "\n",
        "**Лидерами топ-5 по импорту удобрений в тоннах являются следующие страны:**\n",
        "- Соединенные штаты Америки (United States of America) - Potassium chloride (muriate of potash) (MOP) (Хлорид Калия), Urea (Мочевина), Ammonia, anhydrous (азотное удобрение - безводный аммиак).\n",
        "- Индия (India) - Urea (Мочевина), Phosphate rock (фосфоритная мука), Diammonium phosphate (DAP) (Диаммонийфосфат), Potassium chloride (muriate of potash) (MOP) (Хлорид Калия).\n",
        "- Бразилия (Brazil) - Potassium chloride (muriate of potash) (MOP), Urea (Мочевина), Monoammonium phosphate (MAP) (азотно-фосфорное удобрение)\n",
        "- Материковый Китай (China, mainland) - Potassium chloride (muriate of potash) (MOP) (Хлорид Калия), NPK fertilizers (комплексные удобрения), Ammonia, anhydrous (азотное удобрение - безводный аммиак).\n",
        "- Индонезия (Indonesia) - Potassium chloride (muriate of potash) (MOP) (Хлорид Калия), Phosphate rock (фосфоритная мука), Other phosphatic fertilizers (фосфоритные удобрения) и Ammonium sulphate (сульфат аммония).\n",
        "\n",
        "***Лидерами топ-5 по импорту удобрений в (1000 US $) являются следующие страны:***\n",
        "\n",
        "- Соединенные штаты Америки (United States of America) - Potassium chloride (muriate of potash) (MOP) (Хлорид Калия), Urea (Мочевина), Ammonia, anhydrous (азотное удобрение - безводный аммиак).\n",
        "- Бразилия (Brazil) - Potassium chloride (muriate of potash) (MOP) (Хлорид Калия), Urea (Мочевина) и Monoammonium phosphate (MAP) (азотно-фосфорное удобрение)\n",
        "- Индия (India) - Diammonium phosphate (DAP) (Диаммонийфосфат), Urea (Мочевина), Potassium chloride (muriate of potash) (MOP) (Хлорид Калия)\n",
        "- Материковый Китай (China, mainland) - Potassium chloride (muriate of potash) (MOP) (Хлорид Калия), NPK fertilizers (комплексные удобрения), Ammonia, anhydrous (азотное удобрение - безводный аммиак).\n",
        "- Франция (France) - Urea (Мочевина), Urea and ammonium nitrate solutions (UAN),\n",
        "Calcium ammonium nitrate (CAN) and other mixtures with calcium carbonate,  Sodium nitrate (натриевая селитра), Diammonium phosphate (DAP) (Диаммонийфосфат)\n",
        "\n",
        "***Лидерами топ-5 по экспорту удобрений в тоннах являются следующие страны:***\n",
        "\n",
        "- Российская Федерация (Russian Federation) - Potassium chloride (muriate of potash) (MOP) (Хлорид Калия), Urea (Мочевина) и NPK fertilizers (комплексные удобрения)\n",
        "- Материковый Китай (China, mainland) - Urea (Мочевина), Diammonium phosphate (DAP) и Ammonium sulphate (сульфат аммония)\n",
        "- Канада (Canada) - Potassium chloride (muriate of potash) (MOP) (Хлорид Калия).\n",
        "- Морокко (Morocco) - Phosphate rock (Фосфоритная мука)\n",
        "- Беларусь (Belarus) - Potassium chloride (muriate of potash) (MOP) (Хлорид Калия).\n",
        "\n",
        "***Лидерами топ-5 по экспорту удобрений в (1000 US $) являются следующие страны:***\n",
        "\n",
        "- Российская Федерация (Russian Federation) - Рotassium chloride (muriate of potash) (MOP) (Хлорид Калия), Urea (Мочевина) и NPK fertilizers (комплексные удобрения)\n",
        "- Материковый Китай (China, mainland) - Diammonium phosphate (DAP) (диаммоний фосфат), Urea (Мочевина), Monoammonium phosphate (MAP) (Моноаммонийфосфат) и Ammonium sulphate (сульфат аммония)\n",
        "- Канада (Canada) - Potassium chloride (muriate of potash) (MOP) (Хлорид Калия).\n",
        "- Соединенные штаты Америки (United States of America) - Monoammonium phosphate (MAP) (Моноаммонийфосфат), Diammonium phosphate (DAP) (диаммоний фосфат), Diammonium phosphate (DAP) (диаммоний фосфат)\n",
        "- Морокко (Morocco) - Diammonium phosphate (DAP) (диаммоний фосфат), Monoammonium phosphate (MAP) (Моноаммонийфосфат) и Phosphate rock (фосфоритная мука).\n",
        "\n",
        "***Лидерами топ-5 по использованию удобрений в с/х (тонны) являются следующие страны:***\n",
        "\n",
        "- Индия (India) - Urea (Мочевина), Ammonium sulphate (сульфат аммония), Diammonium phosphate (DAP) (Диаммоний фосфат)\n",
        "- Соединенные штаты Америки (United States of America) - Urea and ammonium nitrate solutions (UAN) (Удобрения аммиачно-нитратные), NPK fertilizers (комплексные удобрения), Urea (Мочевина), Potassium chloride (muriate of potash) (MOP) (Хлорид Калия)\n",
        "- Индонезия (Indonesia) - Urea (Мочевина), NPK fertilizers (комплексные удобрения), Ammonium sulphate (сульфат аммония) и Superphosphates above 35% (суперфосфат).\n",
        "- Пакистан (Pakistan) - Urea (Мочевина), Diammonium phosphate (DAP) (Диаммоний фосфат).\n",
        "- Египет (Egypt) - Urea (Мочевина), Ammonium nitrate (AN) (амиачная селитра)\n",
        "\n",
        "***Лидерами топ-5 по производству удобрений (тонны) являются следующие страны:***\n",
        "\n",
        "- Соединенные штаты Америки (United States of America) - Phosphate rock (Фосфоритная мука), Urea and ammonium nitrate solutions (UAN) (аммиачно-нитратное (УАН)).\n",
        "- Российская Федерация (Russian Federation) - Potassium chloride (muriate of potash) (MOP) (Хлорид Калия), Ammonium nitrate (AN) (амиачная селитра), Urea (Мочевина), NPK fertilizers (комплексные удобрения), Other NK compounds\n",
        "- Индия (India) - Urea (Мочевина).\n",
        "- Канада (Canada) - Potassium chloride (muriate of potash) (MOP), Ammonia, anhydrous (безводный аммиак) и Urea (Мочевина)\n",
        "- Белорусь (Belarus) - Potassium chloride (muriate of potash) (MOP) (Хлорид Калия)\n",
        "\n",
        "\n",
        "***Среди всех представленных видов удобрений больше всего экспорируют/импортируют(тонны) в период с 2015 по 2019 год следующие удобрения:***\n",
        "\n",
        "- Potassium chloride (muriate of potash) (MOP) (Хлорид калия) - 2.612679e+08 т\n",
        "- Urea (Мочевина (или карбамид)) - 2.498038e+08 т\n",
        "- Phosphate rock (Фосфоритная мука) - 1.397876e+08 т\n",
        "- Ammonia, anhydrous (Аммиак) - 9.051075e+07 т\n",
        "- NPK fertilizers (комплексные удобрения) - 8.494416e+07 т\n",
        "\n",
        "Меньше всего экспортируют/импортируют в количественном эквиваленте:\n",
        "\n",
        "- Sodium nitrate (селитра натриевая) - 1.287207e+06 т.\n",
        "- PK compounds (фосфорно-калийные удобрения) - 3.981092e+06 т.\n",
        "- Potassium nitrate (селитра калиевая) - 4.986954e+06 т.\n",
        "\n",
        "***Среди всех представленных видов удобрений больше всего экспортируют/ипортируют (1000 US $) в период с 2015 по 2019 год следующие удобрения:***\n",
        "\n",
        "- Potassium chloride (muriate of potash) (MOP) (Хлорид калия) - 67076317.93\n",
        "- Urea (Мочевина (или карбамид)) - 62907587.42\n",
        "- Diammonium phosphate (DAP) (Диаммонийфосфат) - 34039361.23\n",
        "- NPK fertilizers (комплексные удобрения) - 31782464.80\n",
        "- Ammonia, anhydrous (Аммиак) - 28237066.18\n",
        "\n",
        "Меньше всего импортируют/экспортируют в денежном эквиваленте:\n",
        "- Sodium nitrate (селитра натриевая) - 541417.87.\n",
        "- Superphosphates, other - 550230.17\n",
        "- Other phosphatic fertilizers, n.e.c - 630346.05\n",
        "\n",
        "\n"
      ],
      "metadata": {
        "id": "ujZFRubbGrsU"
      }
    }
  ],
  "metadata": {
    "colab": {
      "collapsed_sections": [],
      "name": "Untitled4.ipynb",
      "provenance": []
    },
    "kernelspec": {
      "display_name": "Python 3",
      "name": "python3"
    },
    "language_info": {
      "name": "python"
    }
  },
  "nbformat": 4,
  "nbformat_minor": 0
}